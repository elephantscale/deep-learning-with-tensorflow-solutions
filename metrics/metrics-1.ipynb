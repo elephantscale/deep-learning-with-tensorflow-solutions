{
 "cells": [
  {
   "cell_type": "markdown",
   "metadata": {},
   "source": [
    "# Using Metrics\n"
   ]
  },
  {
   "cell_type": "markdown",
   "metadata": {},
   "source": [
    "## Step 1 : Tips Data\n",
    "\n",
    "Our tips data looks like this\n",
    "\n",
    "```\n",
    "| bill | tip | \n",
    "|------|-----| \n",
    "| 50   | 12  | \n",
    "| 30   | 7   | \n",
    "| 60   | 13  | \n",
    "| 40   | 8   | \n",
    "| 65   | 15  | \n",
    "| 20   | 5   | \n",
    "| 10   | 2   | \n",
    "| 15   | 2   | \n",
    "| 25   | 3   | \n",
    "| 35   | 4   | \n",
    "```"
   ]
  },
  {
   "cell_type": "code",
   "execution_count": 1,
   "metadata": {},
   "outputs": [],
   "source": [
    "%matplotlib inline\n",
    "\n",
    "import numpy as np\n",
    "import pandas as pd\n",
    "import matplotlib.pyplot as plt\n",
    "import tensorflow as tf"
   ]
  },
  {
   "cell_type": "code",
   "execution_count": 2,
   "metadata": {},
   "outputs": [
    {
     "name": "stdout",
     "output_type": "stream",
     "text": [
      "   bill   tip\n",
      "0  50.0  12.0\n",
      "1  30.0   7.0\n",
      "2  60.0  13.0\n",
      "3  40.0   8.0\n",
      "4  65.0  15.0\n",
      "5  20.0   5.0\n",
      "6  10.0   2.0\n",
      "7  15.0   2.0\n",
      "8  25.0   3.0\n",
      "9  35.0   4.0\n",
      "bill = [50. 30. 60. 40. 65. 20. 10. 15. 25. 35.]\n",
      "tip = [12.  7. 13.  8. 15.  5.  2.  2.  3.  4.]\n"
     ]
    }
   ],
   "source": [
    "## Create some tips data in pandas\n",
    "\n",
    "tip_data = pd.DataFrame({'bill' : [50.00, 30.00, 60.00, 40.00, 65.00, 20.00, 10.00, 15.00, 25.00, 35.00],\n",
    "              'tip' : [12.00, 7.00, 13.00, 8.00, 15.00, 5.00, 2.00, 2.00, 3.00, 4.00]\n",
    "             })\n",
    "\n",
    "print(tip_data)\n",
    "x = tip_data['bill'].values\n",
    "y = tip_data['tip'].values\n",
    "print('bill = ' + str(x))\n",
    "print('tip = ' + str(y))"
   ]
  },
  {
   "cell_type": "markdown",
   "metadata": {},
   "source": [
    "## Step 2 : Define a Simple Linear Model\n",
    "It only has ONE neuron with ONE input\n",
    "\n",
    "**Add Metrics**  \n",
    "Metrics can be specified as strings\n",
    "\n",
    "- 'mse'   == 'mean_squared_error'\n",
    "- 'mae'   == 'mean_absolute_error'\n",
    "- 'mape'  == 'mean_absolute_percentage_error'\n",
    "\n",
    "or can be done by keras package\n",
    "\n",
    "```python\n",
    "from keras import metrics\n",
    "model.compile(loss='mse', optimizer='adam', \n",
    "              metrics=[metrics.mean_squared_error, metrics.mean_absolute_error])\n",
    "```\n",
    "\n",
    "We add metrics to `compile` step\n"
   ]
  },
  {
   "cell_type": "code",
   "execution_count": 7,
   "metadata": {},
   "outputs": [
    {
     "name": "stdout",
     "output_type": "stream",
     "text": [
      "Model: \"sequential_1\"\n",
      "_________________________________________________________________\n",
      "Layer (type)                 Output Shape              Param #   \n",
      "=================================================================\n",
      "dense_1 (Dense)              (None, 1)                 2         \n",
      "=================================================================\n",
      "Total params: 2\n",
      "Trainable params: 2\n",
      "Non-trainable params: 0\n",
      "_________________________________________________________________\n",
      "None\n"
     ]
    }
   ],
   "source": [
    "import tensorflow as tf\n",
    "from tensorflow import keras  # using TF.Keras !\n",
    "\n",
    "model = tf.keras.Sequential()\n",
    "model.add (keras.layers.Dense(units=1, input_shape=[1]))\n",
    "\n",
    "# optimizer=tf.keras.optimizers.Adam(0.01)\n",
    "optimizer=tf.keras.optimizers.RMSprop(0.01)\n",
    "\n",
    "\n",
    "model.compile(optimizer=optimizer, loss='mean_squared_error', \n",
    "             metrics=['mse', 'mae'])\n",
    "print(model.summary())"
   ]
  },
  {
   "cell_type": "markdown",
   "metadata": {},
   "source": [
    "## Step 3 : Train The Neural Network\n",
    "This is where we supply our model 'input' data to train on.  \n",
    "**Goal : We want the loss to as small as possible (if zero, it is perfect model!)**"
   ]
  },
  {
   "cell_type": "code",
   "execution_count": 4,
   "metadata": {},
   "outputs": [
    {
     "name": "stdout",
     "output_type": "stream",
     "text": [
      "Train on 10 samples\n",
      "Epoch 1/100\n",
      "10/10 - 0s - loss: 4261.5986 - mse: 4261.5986 - mae: 57.9208\n",
      "Epoch 2/100\n",
      "10/10 - 0s - loss: 4097.5669 - mse: 4097.5669 - mae: 56.7823\n",
      "Epoch 3/100\n",
      "10/10 - 0s - loss: 3981.6694 - mse: 3981.6694 - mae: 55.9642\n",
      "Epoch 4/100\n",
      "10/10 - 0s - loss: 3886.4492 - mse: 3886.4492 - mae: 55.2830\n",
      "Epoch 5/100\n",
      "10/10 - 0s - loss: 3803.2485 - mse: 3803.2485 - mae: 54.6810\n",
      "Epoch 6/100\n",
      "10/10 - 0s - loss: 3728.0645 - mse: 3728.0645 - mae: 54.1312\n",
      "Epoch 7/100\n",
      "10/10 - 0s - loss: 3658.6733 - mse: 3658.6733 - mae: 53.6189\n",
      "Epoch 8/100\n",
      "10/10 - 0s - loss: 3593.6929 - mse: 3593.6929 - mae: 53.1347\n",
      "Epoch 9/100\n",
      "10/10 - 0s - loss: 3532.2012 - mse: 3532.2012 - mae: 52.6725\n",
      "Epoch 10/100\n",
      "10/10 - 0s - loss: 3473.5476 - mse: 3473.5476 - mae: 52.2278\n",
      "Epoch 11/100\n",
      "10/10 - 0s - loss: 3417.2534 - mse: 3417.2534 - mae: 51.7974\n",
      "Epoch 12/100\n",
      "10/10 - 0s - loss: 3362.9595 - mse: 3362.9595 - mae: 51.3790\n",
      "Epoch 13/100\n",
      "10/10 - 0s - loss: 3310.3840 - mse: 3310.3840 - mae: 50.9706\n",
      "Epoch 14/100\n",
      "10/10 - 0s - loss: 3259.3062 - mse: 3259.3062 - mae: 50.5707\n",
      "Epoch 15/100\n",
      "10/10 - 0s - loss: 3209.5469 - mse: 3209.5469 - mae: 50.1781\n",
      "Epoch 16/100\n",
      "10/10 - 0s - loss: 3160.9609 - mse: 3160.9609 - mae: 49.7918\n",
      "Epoch 17/100\n",
      "10/10 - 0s - loss: 3113.4275 - mse: 3113.4275 - mae: 49.4110\n",
      "Epoch 18/100\n",
      "10/10 - 0s - loss: 3066.8462 - mse: 3066.8462 - mae: 49.0350\n",
      "Epoch 19/100\n",
      "10/10 - 0s - loss: 3021.1323 - mse: 3021.1323 - mae: 48.6632\n",
      "Epoch 20/100\n",
      "10/10 - 0s - loss: 2976.2144 - mse: 2976.2144 - mae: 48.2951\n",
      "Epoch 21/100\n",
      "10/10 - 0s - loss: 2932.0308 - mse: 2932.0308 - mae: 47.9303\n",
      "Epoch 22/100\n",
      "10/10 - 0s - loss: 2888.5286 - mse: 2888.5286 - mae: 47.5684\n",
      "Epoch 23/100\n",
      "10/10 - 0s - loss: 2845.6633 - mse: 2845.6633 - mae: 47.2091\n",
      "Epoch 24/100\n",
      "10/10 - 0s - loss: 2803.3950 - mse: 2803.3950 - mae: 46.8522\n",
      "Epoch 25/100\n",
      "10/10 - 0s - loss: 2761.6897 - mse: 2761.6897 - mae: 46.4974\n",
      "Epoch 26/100\n",
      "10/10 - 0s - loss: 2720.5166 - mse: 2720.5166 - mae: 46.1445\n",
      "Epoch 27/100\n",
      "10/10 - 0s - loss: 2679.8501 - mse: 2679.8501 - mae: 45.7933\n",
      "Epoch 28/100\n",
      "10/10 - 0s - loss: 2639.6672 - mse: 2639.6672 - mae: 45.4436\n",
      "Epoch 29/100\n",
      "10/10 - 0s - loss: 2599.9480 - mse: 2599.9480 - mae: 45.0954\n",
      "Epoch 30/100\n",
      "10/10 - 0s - loss: 2560.6733 - mse: 2560.6733 - mae: 44.7484\n",
      "Epoch 31/100\n",
      "10/10 - 0s - loss: 2521.8279 - mse: 2521.8279 - mae: 44.4025\n",
      "Epoch 32/100\n",
      "10/10 - 0s - loss: 2483.3979 - mse: 2483.3979 - mae: 44.0578\n",
      "Epoch 33/100\n",
      "10/10 - 0s - loss: 2445.3708 - mse: 2445.3708 - mae: 43.7140\n",
      "Epoch 34/100\n",
      "10/10 - 0s - loss: 2407.7354 - mse: 2407.7354 - mae: 43.3711\n",
      "Epoch 35/100\n",
      "10/10 - 0s - loss: 2370.4812 - mse: 2370.4812 - mae: 43.0290\n",
      "Epoch 36/100\n",
      "10/10 - 0s - loss: 2333.6001 - mse: 2333.6001 - mae: 42.6877\n",
      "Epoch 37/100\n",
      "10/10 - 0s - loss: 2297.0833 - mse: 2297.0833 - mae: 42.3471\n",
      "Epoch 38/100\n",
      "10/10 - 0s - loss: 2260.9243 - mse: 2260.9243 - mae: 42.0071\n",
      "Epoch 39/100\n",
      "10/10 - 0s - loss: 2225.1167 - mse: 2225.1167 - mae: 41.6678\n",
      "Epoch 40/100\n",
      "10/10 - 0s - loss: 2189.6550 - mse: 2189.6550 - mae: 41.3290\n",
      "Epoch 41/100\n",
      "10/10 - 0s - loss: 2154.5339 - mse: 2154.5339 - mae: 40.9907\n",
      "Epoch 42/100\n",
      "10/10 - 0s - loss: 2119.7485 - mse: 2119.7485 - mae: 40.6530\n",
      "Epoch 43/100\n",
      "10/10 - 0s - loss: 2085.2954 - mse: 2085.2954 - mae: 40.3157\n",
      "Epoch 44/100\n",
      "10/10 - 0s - loss: 2051.1702 - mse: 2051.1702 - mae: 39.9789\n",
      "Epoch 45/100\n",
      "10/10 - 0s - loss: 2017.3698 - mse: 2017.3698 - mae: 39.6425\n",
      "Epoch 46/100\n",
      "10/10 - 0s - loss: 1983.8910 - mse: 1983.8910 - mae: 39.3065\n",
      "Epoch 47/100\n",
      "10/10 - 0s - loss: 1950.7312 - mse: 1950.7312 - mae: 38.9709\n",
      "Epoch 48/100\n",
      "10/10 - 0s - loss: 1917.8881 - mse: 1917.8881 - mae: 38.6357\n",
      "Epoch 49/100\n",
      "10/10 - 0s - loss: 1885.3588 - mse: 1885.3588 - mae: 38.3008\n",
      "Epoch 50/100\n",
      "10/10 - 0s - loss: 1853.1420 - mse: 1853.1420 - mae: 37.9663\n",
      "Epoch 51/100\n",
      "10/10 - 0s - loss: 1821.2356 - mse: 1821.2356 - mae: 37.6321\n",
      "Epoch 52/100\n",
      "10/10 - 0s - loss: 1789.6375 - mse: 1789.6375 - mae: 37.2983\n",
      "Epoch 53/100\n",
      "10/10 - 0s - loss: 1758.3464 - mse: 1758.3464 - mae: 36.9648\n",
      "Epoch 54/100\n",
      "10/10 - 0s - loss: 1727.3617 - mse: 1727.3617 - mae: 36.6315\n",
      "Epoch 55/100\n",
      "10/10 - 0s - loss: 1696.6804 - mse: 1696.6804 - mae: 36.2986\n",
      "Epoch 56/100\n",
      "10/10 - 0s - loss: 1666.3030 - mse: 1666.3030 - mae: 35.9660\n",
      "Epoch 57/100\n",
      "10/10 - 0s - loss: 1636.2268 - mse: 1636.2268 - mae: 35.6337\n",
      "Epoch 58/100\n",
      "10/10 - 0s - loss: 1606.4519 - mse: 1606.4519 - mae: 35.3017\n",
      "Epoch 59/100\n",
      "10/10 - 0s - loss: 1576.9773 - mse: 1576.9773 - mae: 34.9700\n",
      "Epoch 60/100\n",
      "10/10 - 0s - loss: 1547.8015 - mse: 1547.8015 - mae: 34.6386\n",
      "Epoch 61/100\n",
      "10/10 - 0s - loss: 1518.9244 - mse: 1518.9244 - mae: 34.3075\n",
      "Epoch 62/100\n",
      "10/10 - 0s - loss: 1490.3446 - mse: 1490.3446 - mae: 33.9766\n",
      "Epoch 63/100\n",
      "10/10 - 0s - loss: 1462.0620 - mse: 1462.0620 - mae: 33.6461\n",
      "Epoch 64/100\n",
      "10/10 - 0s - loss: 1434.0752 - mse: 1434.0752 - mae: 33.3158\n",
      "Epoch 65/100\n",
      "10/10 - 0s - loss: 1406.3842 - mse: 1406.3842 - mae: 32.9859\n",
      "Epoch 66/100\n",
      "10/10 - 0s - loss: 1378.9882 - mse: 1378.9882 - mae: 32.6562\n",
      "Epoch 67/100\n",
      "10/10 - 0s - loss: 1351.8864 - mse: 1351.8864 - mae: 32.3268\n",
      "Epoch 68/100\n",
      "10/10 - 0s - loss: 1325.0784 - mse: 1325.0784 - mae: 31.9978\n",
      "Epoch 69/100\n",
      "10/10 - 0s - loss: 1298.5635 - mse: 1298.5635 - mae: 31.6690\n",
      "Epoch 70/100\n",
      "10/10 - 0s - loss: 1272.3414 - mse: 1272.3414 - mae: 31.3405\n",
      "Epoch 71/100\n",
      "10/10 - 0s - loss: 1246.4115 - mse: 1246.4115 - mae: 31.0123\n",
      "Epoch 72/100\n",
      "10/10 - 0s - loss: 1220.7734 - mse: 1220.7734 - mae: 30.6845\n",
      "Epoch 73/100\n",
      "10/10 - 0s - loss: 1195.4266 - mse: 1195.4266 - mae: 30.3569\n",
      "Epoch 74/100\n",
      "10/10 - 0s - loss: 1170.3706 - mse: 1170.3706 - mae: 30.0297\n",
      "Epoch 75/100\n",
      "10/10 - 0s - loss: 1145.6049 - mse: 1145.6049 - mae: 29.7028\n",
      "Epoch 76/100\n",
      "10/10 - 0s - loss: 1121.1290 - mse: 1121.1290 - mae: 29.3762\n",
      "Epoch 77/100\n",
      "10/10 - 0s - loss: 1096.9426 - mse: 1096.9426 - mae: 29.0499\n",
      "Epoch 78/100\n",
      "10/10 - 0s - loss: 1073.0452 - mse: 1073.0452 - mae: 28.7240\n",
      "Epoch 79/100\n",
      "10/10 - 0s - loss: 1049.4363 - mse: 1049.4363 - mae: 28.3984\n",
      "Epoch 80/100\n",
      "10/10 - 0s - loss: 1026.1155 - mse: 1026.1155 - mae: 28.0731\n",
      "Epoch 81/100\n",
      "10/10 - 0s - loss: 1003.0822 - mse: 1003.0822 - mae: 27.7482\n",
      "Epoch 82/100\n",
      "10/10 - 0s - loss: 980.3364 - mse: 980.3364 - mae: 27.4237\n",
      "Epoch 83/100\n",
      "10/10 - 0s - loss: 957.8773 - mse: 957.8773 - mae: 27.0995\n",
      "Epoch 84/100\n",
      "10/10 - 0s - loss: 935.7045 - mse: 935.7045 - mae: 26.7757\n",
      "Epoch 85/100\n",
      "10/10 - 0s - loss: 913.8177 - mse: 913.8177 - mae: 26.4523\n",
      "Epoch 86/100\n",
      "10/10 - 0s - loss: 892.2164 - mse: 892.2164 - mae: 26.1292\n",
      "Epoch 87/100\n",
      "10/10 - 0s - loss: 870.9000 - mse: 870.9000 - mae: 25.8066\n",
      "Epoch 88/100\n",
      "10/10 - 0s - loss: 849.8682 - mse: 849.8682 - mae: 25.4843\n",
      "Epoch 89/100\n",
      "10/10 - 0s - loss: 829.1203 - mse: 829.1203 - mae: 25.1624\n",
      "Epoch 90/100\n",
      "10/10 - 0s - loss: 808.6561 - mse: 808.6561 - mae: 24.8410\n",
      "Epoch 91/100\n",
      "10/10 - 0s - loss: 788.4751 - mse: 788.4751 - mae: 24.5200\n",
      "Epoch 92/100\n",
      "10/10 - 0s - loss: 768.5765 - mse: 768.5765 - mae: 24.1994\n",
      "Epoch 93/100\n",
      "10/10 - 0s - loss: 748.9601 - mse: 748.9601 - mae: 23.8792\n",
      "Epoch 94/100\n",
      "10/10 - 0s - loss: 729.6253 - mse: 729.6253 - mae: 23.5595\n",
      "Epoch 95/100\n",
      "10/10 - 0s - loss: 710.5717 - mse: 710.5717 - mae: 23.2402\n",
      "Epoch 96/100\n",
      "10/10 - 0s - loss: 691.7987 - mse: 691.7987 - mae: 22.9214\n",
      "Epoch 97/100\n",
      "10/10 - 0s - loss: 673.3056 - mse: 673.3056 - mae: 22.6031\n",
      "Epoch 98/100\n",
      "10/10 - 0s - loss: 655.0921 - mse: 655.0921 - mae: 22.2852\n",
      "Epoch 99/100\n",
      "10/10 - 0s - loss: 637.1575 - mse: 637.1575 - mae: 21.9679\n",
      "Epoch 100/100\n",
      "10/10 - 0s - loss: 619.5014 - mse: 619.5014 - mae: 21.6511\n",
      "CPU times: user 695 ms, sys: 31.5 ms, total: 726 ms\n",
      "Wall time: 584 ms\n"
     ]
    }
   ],
   "source": [
    "%%time\n",
    "## TODO : start with 100 epochs,\n",
    "##        - increase it (500, 1000) to see if accuracy improves\n",
    "##        - try : verbose=0 ,  verbose=1,  verbose=2\n",
    "\n",
    "history = model.fit (x,y, epochs=100, verbose=2)"
   ]
  },
  {
   "cell_type": "markdown",
   "metadata": {},
   "source": [
    "## Step 4 : Predict \n",
    "Now that our model is ready, lets predict tip for $100.  \n",
    "\n",
    "**==> Q : How good is our neural network tip calculator? :-)**"
   ]
  },
  {
   "cell_type": "code",
   "execution_count": 5,
   "metadata": {},
   "outputs": [
    {
     "name": "stdout",
     "output_type": "stream",
     "text": [
      "predicted tip :  [[-42.555588]]\n"
     ]
    }
   ],
   "source": [
    "predicted = model.predict([100.])\n",
    "print (\"predicted tip : \", predicted)"
   ]
  },
  {
   "cell_type": "markdown",
   "metadata": {},
   "source": [
    "## Step 5 : See the Training Metrics\n",
    "The `history` object has the training metrics"
   ]
  },
  {
   "cell_type": "code",
   "execution_count": 6,
   "metadata": {},
   "outputs": [
    {
     "data": {
      "image/png": "[encoded data removed]",
      "text/plain": [
       "<Figure size 432x288 with 1 Axes>"
      ]
     },
     "metadata": {
      "needs_background": "light"
     },
     "output_type": "display_data"
    }
   ],
   "source": [
    "%matplotlib inline\n",
    "import matplotlib.pyplot as plt\n",
    "\n",
    "plt.plot(history.history['mse'], label='mse')\n",
    "plt.plot(history.history['mae'], label='mae')\n",
    "plt.legend()\n",
    "plt.show()"
   ]
  },
  {
   "cell_type": "markdown",
   "metadata": {},
   "source": [
    "## Discussion\n",
    "\n",
    "- How many iterations does it take to converge?\n",
    "- Try different optimizers from previous lab and evaluate how quickly they converge\n",
    "- Also discuss which loss functions help faster convergence\n",
    "\n",
    "\n",
    "### Good reads:\n",
    "- https://machinelearningmastery.com/custom-metrics-deep-learning-keras-python/"
   ]
  },
  {
   "cell_type": "code",
   "execution_count": null,
   "metadata": {},
   "outputs": [],
   "source": []
  }
 ],
 "metadata": {
  "kernelspec": {
   "display_name": "tf2",
   "language": "python",
   "name": "tf2"
  },
  "language_info": {
   "codemirror_mode": {
    "name": "ipython",
    "version": 3
   },
   "file_extension": ".py",
   "mimetype": "text/x-python",
   "name": "python",
   "nbconvert_exporter": "python",
   "pygments_lexer": "ipython3",
   "version": "3.7.4"
  }
 },
 "nbformat": 4,
 "nbformat_minor": 4
}
