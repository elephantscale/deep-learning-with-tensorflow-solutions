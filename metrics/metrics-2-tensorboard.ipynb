{
 "cells": [
  {
   "cell_type": "markdown",
   "metadata": {},
   "source": [
    "# Using Tensorboard\n",
    "\n",
    "This lab builds on previous lab.  \n",
    "**Step 3** on has the extra steps."
   ]
  },
  {
   "cell_type": "markdown",
   "metadata": {},
   "source": [
    "## Step 1 : Tips Data\n",
    "\n",
    "Our tips data looks like this\n",
    "\n",
    "```\n",
    "| bill | tip | \n",
    "|------|-----| \n",
    "| 50   | 12  | \n",
    "| 30   | 7   | \n",
    "| 60   | 13  | \n",
    "| 40   | 8   | \n",
    "| 65   | 15  | \n",
    "| 20   | 5   | \n",
    "| 10   | 2   | \n",
    "| 15   | 2   | \n",
    "| 25   | 3   | \n",
    "| 35   | 4   | \n",
    "```"
   ]
  },
  {
   "cell_type": "code",
   "execution_count": 5,
   "metadata": {},
   "outputs": [],
   "source": [
    "%matplotlib inline\n",
    "\n",
    "import numpy as np\n",
    "import pandas as pd\n",
    "import matplotlib.pyplot as plt\n",
    "import tensorflow as tf"
   ]
  },
  {
   "cell_type": "code",
   "execution_count": 6,
   "metadata": {},
   "outputs": [
    {
     "name": "stdout",
     "output_type": "stream",
     "text": [
      "bill = [50. 30. 60. 40. 65. 20. 10. 15. 25. 35.]\n",
      "tip = [12.  7. 13.  8. 15.  5.  2.  2.  3.  4.]\n"
     ]
    }
   ],
   "source": [
    "## Create some tips data in pandas\n",
    "\n",
    "tip_data = pd.DataFrame({'bill' : [50.00, 30.00, 60.00, 40.00, 65.00, 20.00, 10.00, 15.00, 25.00, 35.00],\n",
    "              'tip' : [12.00, 7.00, 13.00, 8.00, 15.00, 5.00, 2.00, 2.00, 3.00, 4.00]\n",
    "             })\n",
    "\n",
    "# print(tip_data)\n",
    "x = tip_data['bill'].values\n",
    "y = tip_data['tip'].values\n",
    "print('bill = ' + str(x))\n",
    "print('tip = ' + str(y))"
   ]
  },
  {
   "cell_type": "markdown",
   "metadata": {},
   "source": [
    "## Step 2 : Define a Simple Linear Model\n"
   ]
  },
  {
   "cell_type": "code",
   "execution_count": 7,
   "metadata": {},
   "outputs": [
    {
     "name": "stdout",
     "output_type": "stream",
     "text": [
      "Model: \"sequential_1\"\n",
      "_________________________________________________________________\n",
      "Layer (type)                 Output Shape              Param #   \n",
      "=================================================================\n",
      "dense_1 (Dense)              (None, 1)                 2         \n",
      "=================================================================\n",
      "Total params: 2\n",
      "Trainable params: 2\n",
      "Non-trainable params: 0\n",
      "_________________________________________________________________\n",
      "None\n"
     ]
    }
   ],
   "source": [
    "import tensorflow as tf\n",
    "from tensorflow import keras  # using TF.Keras !\n",
    "\n",
    "model = tf.keras.Sequential()\n",
    "model.add (keras.layers.Dense(units=1, input_shape=[1]))\n",
    "\n",
    "# optimizer=tf.keras.optimizers.Adam(0.01)\n",
    "optimizer=tf.keras.optimizers.RMSprop(0.01)\n",
    "\n",
    "\n",
    "model.compile(optimizer=optimizer, loss='mean_squared_error', \n",
    "             metrics=[ 'mse', 'mae'])\n",
    "print(model.summary())"
   ]
  },
  {
   "cell_type": "markdown",
   "metadata": {},
   "source": [
    "## Step 3 : Setup Tensorboard Integration\n",
    "\n",
    "In our docker image tensorboard is monitoring `/tmp/tensorboard-logs` directory"
   ]
  },
  {
   "cell_type": "code",
   "execution_count": 8,
   "metadata": {},
   "outputs": [
    {
     "name": "stdout",
     "output_type": "stream",
     "text": [
      "Saving TB logs to :  /tmp/tensorboard-logs/tensorboard-intro/2020-10-28--18-57-34\n"
     ]
    },
    {
     "data": {
      "text/html": [
       "\n",
       "      <iframe id=\"tensorboard-frame-dfc71cdf2668c2e4\" width=\"100%\" height=\"800\" frameborder=\"0\">\n",
       "      </iframe>\n",
       "      <script>\n",
       "        (function() {\n",
       "          const frame = document.getElementById(\"tensorboard-frame-dfc71cdf2668c2e4\");\n",
       "          const url = new URL(\"/\", window.location);\n",
       "          const port = 6007;\n",
       "          if (port) {\n",
       "            url.port = port;\n",
       "          }\n",
       "          frame.src = url;\n",
       "        })();\n",
       "      </script>\n",
       "    "
      ],
      "text/plain": [
       "<IPython.core.display.HTML object>"
      ]
     },
     "metadata": {},
     "output_type": "display_data"
    }
   ],
   "source": [
    "## This is fairly boiler plate code\n",
    "\n",
    "import datetime\n",
    "import os\n",
    "\n",
    "app_name = 'tensorboard-intro' # you can change this, if you like\n",
    "\n",
    "tb_top_level_dir= '/tmp/tensorboard-logs'\n",
    "tensorboard_logs_dir= os.path.join (tb_top_level_dir, app_name, \n",
    "                                    datetime.datetime.now().strftime(\"%Y-%m-%d--%H-%M-%S\"))\n",
    "print (\"Saving TB logs to : \" , tensorboard_logs_dir)\n",
    "\n",
    "tensorboard_callback = tf.keras.callbacks.TensorBoard(log_dir=tensorboard_logs_dir, histogram_freq=1)\n",
    "\n",
    "# Loading of tensorboard in Colab\n",
    "%load_ext tensorboard\n",
    "%tensorboard --logdir $tb_top_level_dir"
   ]
  },
  {
   "cell_type": "markdown",
   "metadata": {},
   "source": [
    "## Step 3 : Train The Neural Network\n",
    "Here we supply our tensorboard as a callback hook"
   ]
  },
  {
   "cell_type": "code",
   "execution_count": 9,
   "metadata": {},
   "outputs": [
    {
     "name": "stdout",
     "output_type": "stream",
     "text": [
      "Epoch 1/100\n",
      "1/1 - 0s - loss: 103.7537 - mse: 103.7537 - mae: 9.2692\n",
      "Epoch 2/100\n",
      "WARNING:tensorflow:From /home/ubuntu/apps/anaconda/lib/python3.8/site-packages/tensorflow/python/ops/summary_ops_v2.py:1277: stop (from tensorflow.python.eager.profiler) is deprecated and will be removed after 2020-07-01.\n",
      "Instructions for updating:\n",
      "use `tf.profiler.experimental.stop` instead.\n",
      "1/1 - 0s - loss: 79.7809 - mse: 79.7809 - mae: 8.1308\n",
      "Epoch 3/100\n",
      "1/1 - 0s - loss: 65.3684 - mse: 65.3684 - mae: 7.3594\n",
      "Epoch 4/100\n",
      "1/1 - 0s - loss: 54.9096 - mse: 54.9096 - mae: 6.7427\n",
      "Epoch 5/100\n",
      "1/1 - 0s - loss: 46.7288 - mse: 46.7288 - mae: 6.2162\n",
      "Epoch 6/100\n",
      "1/1 - 0s - loss: 40.0698 - mse: 40.0698 - mae: 5.7506\n",
      "Epoch 7/100\n",
      "1/1 - 0s - loss: 34.5174 - mse: 34.5174 - mae: 5.3300\n",
      "Epoch 8/100\n",
      "1/1 - 0s - loss: 29.8158 - mse: 29.8158 - mae: 4.9447\n",
      "Epoch 9/100\n",
      "1/1 - 0s - loss: 25.7937 - mse: 25.7937 - mae: 4.5880\n",
      "Epoch 10/100\n",
      "1/1 - 0s - loss: 22.3300 - mse: 22.3300 - mae: 4.2557\n",
      "Epoch 11/100\n",
      "1/1 - 0s - loss: 19.3349 - mse: 19.3349 - mae: 3.9444\n",
      "Epoch 12/100\n",
      "1/1 - 0s - loss: 16.7393 - mse: 16.7393 - mae: 3.6518\n",
      "Epoch 13/100\n",
      "1/1 - 0s - loss: 14.4884 - mse: 14.4884 - mae: 3.3761\n",
      "Epoch 14/100\n",
      "1/1 - 0s - loss: 12.5378 - mse: 12.5378 - mae: 3.1160\n",
      "Epoch 15/100\n",
      "1/1 - 0s - loss: 10.8504 - mse: 10.8504 - mae: 2.8704\n",
      "Epoch 16/100\n",
      "1/1 - 0s - loss: 9.3947 - mse: 9.3947 - mae: 2.6385\n",
      "Epoch 17/100\n",
      "1/1 - 0s - loss: 8.1437 - mse: 8.1437 - mae: 2.4196\n",
      "Epoch 18/100\n",
      "1/1 - 0s - loss: 7.0736 - mse: 7.0736 - mae: 2.2133\n",
      "Epoch 19/100\n",
      "1/1 - 0s - loss: 6.1632 - mse: 6.1632 - mae: 2.0193\n",
      "Epoch 20/100\n",
      "1/1 - 0s - loss: 5.3938 - mse: 5.3938 - mae: 1.8371\n",
      "Epoch 21/100\n",
      "1/1 - 0s - loss: 4.7481 - mse: 4.7481 - mae: 1.6830\n",
      "Epoch 22/100\n",
      "1/1 - 0s - loss: 4.2109 - mse: 4.2109 - mae: 1.5424\n",
      "Epoch 23/100\n",
      "1/1 - 0s - loss: 3.7679 - mse: 3.7679 - mae: 1.4118\n",
      "Epoch 24/100\n",
      "1/1 - 0s - loss: 3.4064 - mse: 3.4064 - mae: 1.2935\n",
      "Epoch 25/100\n",
      "1/1 - 0s - loss: 3.1147 - mse: 3.1147 - mae: 1.2194\n",
      "Epoch 26/100\n",
      "1/1 - 0s - loss: 2.8821 - mse: 2.8821 - mae: 1.1700\n",
      "Epoch 27/100\n",
      "1/1 - 0s - loss: 2.6992 - mse: 2.6992 - mae: 1.1250\n",
      "Epoch 28/100\n",
      "1/1 - 0s - loss: 2.5574 - mse: 2.5574 - mae: 1.1156\n",
      "Epoch 29/100\n",
      "1/1 - 0s - loss: 2.4491 - mse: 2.4491 - mae: 1.1103\n",
      "Epoch 30/100\n",
      "1/1 - 0s - loss: 2.3679 - mse: 2.3679 - mae: 1.1055\n",
      "Epoch 31/100\n",
      "1/1 - 0s - loss: 2.3081 - mse: 2.3081 - mae: 1.1013\n",
      "Epoch 32/100\n",
      "1/1 - 0s - loss: 2.2648 - mse: 2.2648 - mae: 1.1000\n",
      "Epoch 33/100\n",
      "1/1 - 0s - loss: 2.2341 - mse: 2.2341 - mae: 1.1000\n",
      "Epoch 34/100\n",
      "1/1 - 0s - loss: 2.2128 - mse: 2.2128 - mae: 1.1000\n",
      "Epoch 35/100\n",
      "1/1 - 0s - loss: 2.1983 - mse: 2.1983 - mae: 1.1036\n",
      "Epoch 36/100\n",
      "1/1 - 0s - loss: 2.1885 - mse: 2.1885 - mae: 1.1137\n",
      "Epoch 37/100\n",
      "1/1 - 0s - loss: 2.1821 - mse: 2.1821 - mae: 1.1220\n",
      "Epoch 38/100\n",
      "1/1 - 0s - loss: 2.1779 - mse: 2.1779 - mae: 1.1287\n",
      "Epoch 39/100\n",
      "1/1 - 0s - loss: 2.1751 - mse: 2.1751 - mae: 1.1340\n",
      "Epoch 40/100\n",
      "1/1 - 0s - loss: 2.1732 - mse: 2.1732 - mae: 1.1381\n",
      "Epoch 41/100\n",
      "1/1 - 0s - loss: 2.1717 - mse: 2.1717 - mae: 1.1412\n",
      "Epoch 42/100\n",
      "1/1 - 0s - loss: 2.1706 - mse: 2.1706 - mae: 1.1435\n",
      "Epoch 43/100\n",
      "1/1 - 0s - loss: 2.1696 - mse: 2.1696 - mae: 1.1452\n",
      "Epoch 44/100\n",
      "1/1 - 0s - loss: 2.1686 - mse: 2.1686 - mae: 1.1463\n",
      "Epoch 45/100\n",
      "1/1 - 0s - loss: 2.1676 - mse: 2.1676 - mae: 1.1471\n",
      "Epoch 46/100\n",
      "1/1 - 0s - loss: 2.1667 - mse: 2.1667 - mae: 1.1475\n",
      "Epoch 47/100\n",
      "1/1 - 0s - loss: 2.1657 - mse: 2.1657 - mae: 1.1477\n",
      "Epoch 48/100\n",
      "1/1 - 0s - loss: 2.1646 - mse: 2.1646 - mae: 1.1478\n",
      "Epoch 49/100\n",
      "1/1 - 0s - loss: 2.1635 - mse: 2.1635 - mae: 1.1478\n",
      "Epoch 50/100\n",
      "1/1 - 0s - loss: 2.1623 - mse: 2.1623 - mae: 1.1477\n",
      "Epoch 51/100\n",
      "1/1 - 0s - loss: 2.1611 - mse: 2.1611 - mae: 1.1475\n",
      "Epoch 52/100\n",
      "1/1 - 0s - loss: 2.1599 - mse: 2.1599 - mae: 1.1474\n",
      "Epoch 53/100\n",
      "1/1 - 0s - loss: 2.1585 - mse: 2.1585 - mae: 1.1472\n",
      "Epoch 54/100\n",
      "1/1 - 0s - loss: 2.1572 - mse: 2.1572 - mae: 1.1469\n",
      "Epoch 55/100\n",
      "1/1 - 0s - loss: 2.1557 - mse: 2.1557 - mae: 1.1467\n",
      "Epoch 56/100\n",
      "1/1 - 0s - loss: 2.1542 - mse: 2.1542 - mae: 1.1464\n",
      "Epoch 57/100\n",
      "1/1 - 0s - loss: 2.1527 - mse: 2.1527 - mae: 1.1462\n",
      "Epoch 58/100\n",
      "1/1 - 0s - loss: 2.1511 - mse: 2.1511 - mae: 1.1459\n",
      "Epoch 59/100\n",
      "1/1 - 0s - loss: 2.1494 - mse: 2.1494 - mae: 1.1456\n",
      "Epoch 60/100\n",
      "1/1 - 0s - loss: 2.1476 - mse: 2.1476 - mae: 1.1453\n",
      "Epoch 61/100\n",
      "1/1 - 0s - loss: 2.1458 - mse: 2.1458 - mae: 1.1450\n",
      "Epoch 62/100\n",
      "1/1 - 0s - loss: 2.1439 - mse: 2.1439 - mae: 1.1446\n",
      "Epoch 63/100\n",
      "1/1 - 0s - loss: 2.1420 - mse: 2.1420 - mae: 1.1443\n",
      "Epoch 64/100\n",
      "1/1 - 0s - loss: 2.1400 - mse: 2.1400 - mae: 1.1439\n",
      "Epoch 65/100\n",
      "1/1 - 0s - loss: 2.1379 - mse: 2.1379 - mae: 1.1436\n",
      "Epoch 66/100\n",
      "1/1 - 0s - loss: 2.1358 - mse: 2.1358 - mae: 1.1432\n",
      "Epoch 67/100\n",
      "1/1 - 0s - loss: 2.1336 - mse: 2.1336 - mae: 1.1428\n",
      "Epoch 68/100\n",
      "1/1 - 0s - loss: 2.1313 - mse: 2.1313 - mae: 1.1424\n",
      "Epoch 69/100\n",
      "1/1 - 0s - loss: 2.1290 - mse: 2.1290 - mae: 1.1419\n",
      "Epoch 70/100\n",
      "1/1 - 0s - loss: 2.1266 - mse: 2.1266 - mae: 1.1415\n",
      "Epoch 71/100\n",
      "1/1 - 0s - loss: 2.1241 - mse: 2.1241 - mae: 1.1410\n",
      "Epoch 72/100\n",
      "1/1 - 0s - loss: 2.1216 - mse: 2.1216 - mae: 1.1406\n",
      "Epoch 73/100\n",
      "1/1 - 0s - loss: 2.1190 - mse: 2.1190 - mae: 1.1401\n",
      "Epoch 74/100\n",
      "1/1 - 0s - loss: 2.1164 - mse: 2.1164 - mae: 1.1396\n",
      "Epoch 75/100\n",
      "1/1 - 0s - loss: 2.1137 - mse: 2.1137 - mae: 1.1391\n",
      "Epoch 76/100\n",
      "1/1 - 0s - loss: 2.1110 - mse: 2.1110 - mae: 1.1386\n",
      "Epoch 77/100\n",
      "1/1 - 0s - loss: 2.1083 - mse: 2.1083 - mae: 1.1380\n",
      "Epoch 78/100\n",
      "1/1 - 0s - loss: 2.1055 - mse: 2.1055 - mae: 1.1375\n",
      "Epoch 79/100\n",
      "1/1 - 0s - loss: 2.1027 - mse: 2.1027 - mae: 1.1369\n",
      "Epoch 80/100\n",
      "1/1 - 0s - loss: 2.0998 - mse: 2.0998 - mae: 1.1364\n",
      "Epoch 81/100\n",
      "1/1 - 0s - loss: 2.0969 - mse: 2.0969 - mae: 1.1358\n",
      "Epoch 82/100\n",
      "1/1 - 0s - loss: 2.0940 - mse: 2.0940 - mae: 1.1352\n",
      "Epoch 83/100\n",
      "1/1 - 0s - loss: 2.0911 - mse: 2.0911 - mae: 1.1347\n",
      "Epoch 84/100\n",
      "1/1 - 0s - loss: 2.0881 - mse: 2.0881 - mae: 1.1341\n",
      "Epoch 85/100\n",
      "1/1 - 0s - loss: 2.0852 - mse: 2.0852 - mae: 1.1335\n",
      "Epoch 86/100\n",
      "1/1 - 0s - loss: 2.0822 - mse: 2.0822 - mae: 1.1328\n",
      "Epoch 87/100\n",
      "1/1 - 0s - loss: 2.0792 - mse: 2.0792 - mae: 1.1323\n",
      "Epoch 88/100\n",
      "1/1 - 0s - loss: 2.0762 - mse: 2.0762 - mae: 1.1316\n",
      "Epoch 89/100\n",
      "1/1 - 0s - loss: 2.0732 - mse: 2.0732 - mae: 1.1312\n",
      "Epoch 90/100\n",
      "1/1 - 0s - loss: 2.0702 - mse: 2.0702 - mae: 1.1300\n",
      "Epoch 91/100\n",
      "1/1 - 0s - loss: 2.0673 - mse: 2.0673 - mae: 1.1310\n",
      "Epoch 92/100\n",
      "1/1 - 0s - loss: 2.0644 - mse: 2.0644 - mae: 1.1252\n",
      "Epoch 93/100\n",
      "1/1 - 0s - loss: 2.0632 - mse: 2.0632 - mae: 1.1416\n",
      "Epoch 94/100\n",
      "1/1 - 0s - loss: 2.0818 - mse: 2.0818 - mae: 1.1000\n",
      "Epoch 95/100\n",
      "1/1 - 0s - loss: 2.2905 - mse: 2.2905 - mae: 1.2963\n",
      "Epoch 96/100\n",
      "1/1 - 0s - loss: 2.4114 - mse: 2.4114 - mae: 1.1000\n",
      "Epoch 97/100\n",
      "1/1 - 0s - loss: 2.1715 - mse: 2.1715 - mae: 1.2321\n",
      "Epoch 98/100\n",
      "1/1 - 0s - loss: 2.0820 - mse: 2.0820 - mae: 1.1000\n",
      "Epoch 99/100\n",
      "1/1 - 0s - loss: 2.0585 - mse: 2.0585 - mae: 1.1563\n",
      "Epoch 100/100\n",
      "1/1 - 0s - loss: 2.0506 - mse: 2.0506 - mae: 1.1070\n",
      "CPU times: user 682 ms, sys: 61 ms, total: 743 ms\n",
      "Wall time: 613 ms\n"
     ]
    }
   ],
   "source": [
    "%%time\n",
    "\n",
    "history = model.fit (x,y, epochs=100, verbose=2, \n",
    "                    callbacks=[tensorboard_callback])"
   ]
  },
  {
   "cell_type": "markdown",
   "metadata": {},
   "source": [
    "## Step 4 : Predict \n",
    "Now that our model is ready, lets predict tip for $100.  \n",
    "\n",
    "**==> Q : How good is our neural network tip calculator? :-)**"
   ]
  },
  {
   "cell_type": "code",
   "execution_count": 10,
   "metadata": {},
   "outputs": [
    {
     "name": "stdout",
     "output_type": "stream",
     "text": [
      "predicted tip :  [[21.739254]]\n"
     ]
    }
   ],
   "source": [
    "predicted = model.predict([100.])\n",
    "print (\"predicted tip : \", predicted)"
   ]
  },
  {
   "cell_type": "markdown",
   "metadata": {},
   "source": [
    "## Step 5 : Inspect Tensorboard\n",
    "- Tensorboard port is [6006](http://:6006).  \n",
    "- You will find a link to Tensorboard from the landing page.  \n",
    "- Goto tensorboard dashboard\n",
    "- 'Refresh' to see the latest run  (on the left side)\n",
    "- Select the most latest run on left pane to see the metrics"
   ]
  },
  {
   "cell_type": "markdown",
   "metadata": {},
   "source": [
    "## Step 6 : Do a few runs and inspect Tensorboard\n",
    "You can compare metrics from a few runs in Tensorboard"
   ]
  },
  {
   "cell_type": "markdown",
   "metadata": {},
   "source": [
    "## Step 7 : See the Training Metrics Graph\n",
    "We can still see the `history` of training"
   ]
  },
  {
   "cell_type": "code",
   "execution_count": 11,
   "metadata": {},
   "outputs": [
    {
     "data": {
      "image/png": "[encoded data removed]",
      "text/plain": [
       "<Figure size 432x288 with 1 Axes>"
      ]
     },
     "metadata": {
      "needs_background": "light"
     },
     "output_type": "display_data"
    }
   ],
   "source": [
    "%matplotlib inline\n",
    "import matplotlib.pyplot as plt\n",
    "\n",
    "plt.plot(history.history['mse'], label='mse')\n",
    "plt.plot(history.history['mae'], label='mae')\n",
    "plt.legend()\n",
    "plt.show()"
   ]
  },
  {
   "cell_type": "markdown",
   "metadata": {},
   "source": [
    "## Discussion\n",
    "\n",
    "- How many iterations does it take to converge?\n",
    "- Try different optimizers from previous lab and evaluate how quickly they converge\n",
    "\n",
    "\n",
    "### Good reads:\n",
    "- https://machinelearningmastery.com/custom-metrics-deep-learning-keras-python/"
   ]
  },
  {
   "cell_type": "code",
   "execution_count": null,
   "metadata": {},
   "outputs": [],
   "source": []
  }
 ],
 "metadata": {
  "kernelspec": {
   "display_name": "Python 3",
   "language": "python",
   "name": "python3"
  },
  "language_info": {
   "codemirror_mode": {
    "name": "ipython",
    "version": 3
   },
   "file_extension": ".py",
   "mimetype": "text/x-python",
   "name": "python",
   "nbconvert_exporter": "python",
   "pygments_lexer": "ipython3",
   "version": "3.8.2"
  }
 },
 "nbformat": 4,
 "nbformat_minor": 4
}
