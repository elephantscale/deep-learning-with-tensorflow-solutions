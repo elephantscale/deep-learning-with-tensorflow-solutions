{
 "cells": [
  {
   "cell_type": "markdown",
   "metadata": {},
   "source": [
    "# Using Tensorboard\n",
    "\n",
    "This lab builds on previous lab.  \n",
    "**Step 3** on has the extra steps."
   ]
  },
  {
   "cell_type": "markdown",
   "metadata": {},
   "source": [
    "## Step 1 : Tips Data\n",
    "\n",
    "Our tips data looks like this\n",
    "\n",
    "```\n",
    "| bill | tip | \n",
    "|------|-----| \n",
    "| 50   | 12  | \n",
    "| 30   | 7   | \n",
    "| 60   | 13  | \n",
    "| 40   | 8   | \n",
    "| 65   | 15  | \n",
    "| 20   | 5   | \n",
    "| 10   | 2   | \n",
    "| 15   | 2   | \n",
    "| 25   | 3   | \n",
    "| 35   | 4   | \n",
    "```"
   ]
  },
  {
   "cell_type": "code",
   "execution_count": 12,
   "metadata": {},
   "outputs": [],
   "source": [
    "%matplotlib inline\n",
    "\n",
    "import numpy as np\n",
    "import pandas as pd\n",
    "import matplotlib.pyplot as plt\n",
    "import tensorflow as tf"
   ]
  },
  {
   "cell_type": "code",
   "execution_count": 13,
   "metadata": {},
   "outputs": [
    {
     "name": "stdout",
     "output_type": "stream",
     "text": [
      "bill = [50. 30. 60. 40. 65. 20. 10. 15. 25. 35.]\n",
      "tip = [12.  7. 13.  8. 15.  5.  2.  2.  3.  4.]\n"
     ]
    }
   ],
   "source": [
    "## Create some tips data in pandas\n",
    "\n",
    "tip_data = pd.DataFrame({'bill' : [50.00, 30.00, 60.00, 40.00, 65.00, 20.00, 10.00, 15.00, 25.00, 35.00],\n",
    "              'tip' : [12.00, 7.00, 13.00, 8.00, 15.00, 5.00, 2.00, 2.00, 3.00, 4.00]\n",
    "             })\n",
    "\n",
    "# print(tip_data)\n",
    "x = tip_data['bill'].values\n",
    "y = tip_data['tip'].values\n",
    "print('bill = ' + str(x))\n",
    "print('tip = ' + str(y))"
   ]
  },
  {
   "cell_type": "markdown",
   "metadata": {},
   "source": [
    "## Step 2 : Define a Simple Linear Model\n"
   ]
  },
  {
   "cell_type": "code",
   "execution_count": 14,
   "metadata": {},
   "outputs": [
    {
     "name": "stdout",
     "output_type": "stream",
     "text": [
      "Model: \"sequential_2\"\n",
      "_________________________________________________________________\n",
      "Layer (type)                 Output Shape              Param #   \n",
      "=================================================================\n",
      "dense_2 (Dense)              (None, 1)                 2         \n",
      "=================================================================\n",
      "Total params: 2\n",
      "Trainable params: 2\n",
      "Non-trainable params: 0\n",
      "_________________________________________________________________\n",
      "None\n"
     ]
    }
   ],
   "source": [
    "import tensorflow as tf\n",
    "from tensorflow import keras  # using TF.Keras !\n",
    "\n",
    "model = tf.keras.Sequential()\n",
    "model.add (keras.layers.Dense(units=1, input_shape=[1]))\n",
    "\n",
    "# optimizer=tf.keras.optimizers.Adam(0.01)\n",
    "optimizer=tf.keras.optimizers.RMSprop(0.01)\n",
    "\n",
    "\n",
    "model.compile(optimizer=optimizer, loss='mean_squared_error', \n",
    "             metrics=[ 'mse', 'mae'])\n",
    "print(model.summary())"
   ]
  },
  {
   "cell_type": "markdown",
   "metadata": {},
   "source": [
    "## Step 3 : Setup Tensorboard Integration\n",
    "\n",
    "In our docker image tensorboard is monitoring `/tmp/tensorboard-logs` directory"
   ]
  },
  {
   "cell_type": "code",
   "execution_count": 20,
   "metadata": {},
   "outputs": [
    {
     "name": "stdout",
     "output_type": "stream",
     "text": [
      "Saving TB logs to :  /tmp/tensorboard-logs/tensorboard-intro/2019-09-06--18-56-02\n"
     ]
    }
   ],
   "source": [
    "## This is fairly boiler plate code\n",
    "\n",
    "import datetime\n",
    "import os\n",
    "\n",
    "app_name = 'tensorboard-intro' # you can change this, if you like\n",
    "\n",
    "tb_top_level_dir= '/tmp/tensorboard-logs'\n",
    "tensorboard_logs_dir= os.path.join (tb_top_level_dir, app_name, \n",
    "                                    datetime.datetime.now().strftime(\"%Y-%m-%d--%H-%M-%S\"))\n",
    "print (\"Saving TB logs to : \" , tensorboard_logs_dir)\n",
    "\n",
    "tensorboard_callback = tf.keras.callbacks.TensorBoard(log_dir=tensorboard_logs_dir, histogram_freq=1)"
   ]
  },
  {
   "cell_type": "markdown",
   "metadata": {},
   "source": [
    "## Step 3 : Train The Neural Network\n",
    "Here we supply our tensorboard as a callback hook"
   ]
  },
  {
   "cell_type": "code",
   "execution_count": 21,
   "metadata": {},
   "outputs": [
    {
     "name": "stdout",
     "output_type": "stream",
     "text": [
      "Train on 10 samples\n",
      "Epoch 1/100\n",
      "10/10 - 0s - loss: 648.9757 - mse: 648.9757 - mae: 22.1719\n",
      "Epoch 2/100\n",
      "10/10 - 0s - loss: 631.1363 - mse: 631.1363 - mae: 21.8548\n",
      "Epoch 3/100\n",
      "10/10 - 0s - loss: 613.5750 - mse: 613.5750 - mae: 21.5381\n",
      "Epoch 4/100\n",
      "10/10 - 0s - loss: 596.2913 - mse: 596.2913 - mae: 21.2220\n",
      "Epoch 5/100\n",
      "10/10 - 0s - loss: 579.2845 - mse: 579.2845 - mae: 20.9064\n",
      "Epoch 6/100\n",
      "10/10 - 0s - loss: 562.5541 - mse: 562.5541 - mae: 20.5913\n",
      "Epoch 7/100\n",
      "10/10 - 0s - loss: 546.0995 - mse: 546.0995 - mae: 20.2768\n",
      "Epoch 8/100\n",
      "10/10 - 0s - loss: 529.9199 - mse: 529.9199 - mae: 19.9628\n",
      "Epoch 9/100\n",
      "10/10 - 0s - loss: 514.0148 - mse: 514.0148 - mae: 19.6495\n",
      "Epoch 10/100\n",
      "10/10 - 0s - loss: 498.3834 - mse: 498.3834 - mae: 19.3367\n",
      "Epoch 11/100\n",
      "10/10 - 0s - loss: 483.0251 - mse: 483.0251 - mae: 19.0246\n",
      "Epoch 12/100\n",
      "10/10 - 0s - loss: 467.9391 - mse: 467.9391 - mae: 18.7131\n",
      "Epoch 13/100\n",
      "10/10 - 0s - loss: 453.1248 - mse: 453.1248 - mae: 18.4022\n",
      "Epoch 14/100\n",
      "10/10 - 0s - loss: 438.5814 - mse: 438.5814 - mae: 18.0920\n",
      "Epoch 15/100\n",
      "10/10 - 0s - loss: 424.3080 - mse: 424.3080 - mae: 17.7824\n",
      "Epoch 16/100\n",
      "10/10 - 0s - loss: 410.3040 - mse: 410.3040 - mae: 17.4736\n",
      "Epoch 17/100\n",
      "10/10 - 0s - loss: 396.5685 - mse: 396.5685 - mae: 17.1655\n",
      "Epoch 18/100\n",
      "10/10 - 0s - loss: 383.1006 - mse: 383.1006 - mae: 16.8581\n",
      "Epoch 19/100\n",
      "10/10 - 0s - loss: 369.8997 - mse: 369.8997 - mae: 16.5514\n",
      "Epoch 20/100\n",
      "10/10 - 0s - loss: 356.9648 - mse: 356.9648 - mae: 16.2455\n",
      "Epoch 21/100\n",
      "10/10 - 0s - loss: 344.2947 - mse: 344.2947 - mae: 15.9404\n",
      "Epoch 22/100\n",
      "10/10 - 0s - loss: 331.8889 - mse: 331.8889 - mae: 15.6361\n",
      "Epoch 23/100\n",
      "10/10 - 0s - loss: 319.7462 - mse: 319.7462 - mae: 15.3326\n",
      "Epoch 24/100\n",
      "10/10 - 0s - loss: 307.8658 - mse: 307.8658 - mae: 15.0300\n",
      "Epoch 25/100\n",
      "10/10 - 0s - loss: 296.2464 - mse: 296.2464 - mae: 14.7283\n",
      "Epoch 26/100\n",
      "10/10 - 0s - loss: 284.8873 - mse: 284.8873 - mae: 14.4275\n",
      "Epoch 27/100\n",
      "10/10 - 0s - loss: 273.7871 - mse: 273.7871 - mae: 14.1276\n",
      "Epoch 28/100\n",
      "10/10 - 0s - loss: 262.9449 - mse: 262.9449 - mae: 13.8286\n",
      "Epoch 29/100\n",
      "10/10 - 0s - loss: 252.3596 - mse: 252.3596 - mae: 13.5307\n",
      "Epoch 30/100\n",
      "10/10 - 0s - loss: 242.0298 - mse: 242.0298 - mae: 13.2337\n",
      "Epoch 31/100\n",
      "10/10 - 0s - loss: 231.9544 - mse: 231.9544 - mae: 12.9378\n",
      "Epoch 32/100\n",
      "10/10 - 0s - loss: 222.1322 - mse: 222.1322 - mae: 12.6430\n",
      "Epoch 33/100\n",
      "10/10 - 0s - loss: 212.5618 - mse: 212.5618 - mae: 12.3493\n",
      "Epoch 34/100\n",
      "10/10 - 0s - loss: 203.2419 - mse: 203.2419 - mae: 12.0567\n",
      "Epoch 35/100\n",
      "10/10 - 0s - loss: 194.1711 - mse: 194.1711 - mae: 11.7653\n",
      "Epoch 36/100\n",
      "10/10 - 0s - loss: 185.3480 - mse: 185.3480 - mae: 11.4752\n",
      "Epoch 37/100\n",
      "10/10 - 0s - loss: 176.7711 - mse: 176.7711 - mae: 11.1863\n",
      "Epoch 38/100\n",
      "10/10 - 0s - loss: 168.4389 - mse: 168.4389 - mae: 10.8986\n",
      "Epoch 39/100\n",
      "10/10 - 0s - loss: 160.3498 - mse: 160.3498 - mae: 10.6124\n",
      "Epoch 40/100\n",
      "10/10 - 0s - loss: 152.5020 - mse: 152.5020 - mae: 10.3275\n",
      "Epoch 41/100\n",
      "10/10 - 0s - loss: 144.8941 - mse: 144.8941 - mae: 10.0440\n",
      "Epoch 42/100\n",
      "10/10 - 0s - loss: 137.5241 - mse: 137.5241 - mae: 9.7621\n",
      "Epoch 43/100\n",
      "10/10 - 0s - loss: 130.3903 - mse: 130.3903 - mae: 9.4816\n",
      "Epoch 44/100\n",
      "10/10 - 0s - loss: 123.4907 - mse: 123.4907 - mae: 9.2028\n",
      "Epoch 45/100\n",
      "10/10 - 0s - loss: 116.8234 - mse: 116.8234 - mae: 8.9256\n",
      "Epoch 46/100\n",
      "10/10 - 0s - loss: 110.3864 - mse: 110.3864 - mae: 8.6501\n",
      "Epoch 47/100\n",
      "10/10 - 0s - loss: 104.1775 - mse: 104.1775 - mae: 8.3764\n",
      "Epoch 48/100\n",
      "10/10 - 0s - loss: 98.1946 - mse: 98.1946 - mae: 8.1045\n",
      "Epoch 49/100\n",
      "10/10 - 0s - loss: 92.4353 - mse: 92.4353 - mae: 7.8345\n",
      "Epoch 50/100\n",
      "10/10 - 0s - loss: 86.8974 - mse: 86.8974 - mae: 7.5665\n",
      "Epoch 51/100\n",
      "10/10 - 0s - loss: 81.5783 - mse: 81.5783 - mae: 7.3005\n",
      "Epoch 52/100\n",
      "10/10 - 0s - loss: 76.4754 - mse: 76.4754 - mae: 7.0366\n",
      "Epoch 53/100\n",
      "10/10 - 0s - loss: 71.5862 - mse: 71.5862 - mae: 6.7750\n",
      "Epoch 54/100\n",
      "10/10 - 0s - loss: 66.9079 - mse: 66.9079 - mae: 6.5156\n",
      "Epoch 55/100\n",
      "10/10 - 0s - loss: 62.4375 - mse: 62.4375 - mae: 6.2587\n",
      "Epoch 56/100\n",
      "10/10 - 0s - loss: 58.1721 - mse: 58.1721 - mae: 6.0042\n",
      "Epoch 57/100\n",
      "10/10 - 0s - loss: 54.1086 - mse: 54.1086 - mae: 5.7523\n",
      "Epoch 58/100\n",
      "10/10 - 0s - loss: 50.2437 - mse: 50.2437 - mae: 5.5031\n",
      "Epoch 59/100\n",
      "10/10 - 0s - loss: 46.5741 - mse: 46.5741 - mae: 5.2567\n",
      "Epoch 60/100\n",
      "10/10 - 0s - loss: 43.0962 - mse: 43.0962 - mae: 5.0132\n",
      "Epoch 61/100\n",
      "10/10 - 0s - loss: 39.8064 - mse: 39.8064 - mae: 4.7728\n",
      "Epoch 62/100\n",
      "10/10 - 0s - loss: 36.7009 - mse: 36.7009 - mae: 4.5355\n",
      "Epoch 63/100\n",
      "10/10 - 0s - loss: 33.7757 - mse: 33.7757 - mae: 4.3136\n",
      "Epoch 64/100\n",
      "10/10 - 0s - loss: 31.0268 - mse: 31.0268 - mae: 4.1036\n",
      "Epoch 65/100\n",
      "10/10 - 0s - loss: 28.4497 - mse: 28.4497 - mae: 3.8998\n",
      "Epoch 66/100\n",
      "10/10 - 0s - loss: 26.0401 - mse: 26.0401 - mae: 3.7100\n",
      "Epoch 67/100\n",
      "10/10 - 0s - loss: 23.7933 - mse: 23.7933 - mae: 3.5393\n",
      "Epoch 68/100\n",
      "10/10 - 0s - loss: 21.7046 - mse: 21.7046 - mae: 3.3874\n",
      "Epoch 69/100\n",
      "10/10 - 0s - loss: 19.7689 - mse: 19.7689 - mae: 3.2633\n",
      "Epoch 70/100\n",
      "10/10 - 0s - loss: 17.9811 - mse: 17.9811 - mae: 3.1588\n",
      "Epoch 71/100\n",
      "10/10 - 0s - loss: 16.3359 - mse: 16.3359 - mae: 3.0566\n",
      "Epoch 72/100\n",
      "10/10 - 0s - loss: 14.8277 - mse: 14.8277 - mae: 2.9568\n",
      "Epoch 73/100\n",
      "10/10 - 0s - loss: 13.4508 - mse: 13.4508 - mae: 2.8596\n",
      "Epoch 74/100\n",
      "10/10 - 0s - loss: 12.1993 - mse: 12.1993 - mae: 2.7650\n",
      "Epoch 75/100\n",
      "10/10 - 0s - loss: 11.0673 - mse: 11.0673 - mae: 2.6732\n",
      "Epoch 76/100\n",
      "10/10 - 0s - loss: 10.0485 - mse: 10.0485 - mae: 2.5842\n",
      "Epoch 77/100\n",
      "10/10 - 0s - loss: 9.1367 - mse: 9.1367 - mae: 2.4982\n",
      "Epoch 78/100\n",
      "10/10 - 0s - loss: 8.3253 - mse: 8.3253 - mae: 2.4153\n",
      "Epoch 79/100\n",
      "10/10 - 0s - loss: 7.6079 - mse: 7.6079 - mae: 2.3355\n",
      "Epoch 80/100\n",
      "10/10 - 0s - loss: 6.9779 - mse: 6.9779 - mae: 2.2590\n",
      "Epoch 81/100\n",
      "10/10 - 0s - loss: 6.4287 - mse: 6.4287 - mae: 2.1859\n",
      "Epoch 82/100\n",
      "10/10 - 0s - loss: 5.9536 - mse: 5.9536 - mae: 2.1162\n",
      "Epoch 83/100\n",
      "10/10 - 0s - loss: 5.5461 - mse: 5.5461 - mae: 2.0502\n",
      "Epoch 84/100\n",
      "10/10 - 0s - loss: 5.1997 - mse: 5.1997 - mae: 1.9877\n",
      "Epoch 85/100\n",
      "10/10 - 0s - loss: 4.9080 - mse: 4.9080 - mae: 1.9290\n",
      "Epoch 86/100\n",
      "10/10 - 0s - loss: 4.6649 - mse: 4.6649 - mae: 1.8740\n",
      "Epoch 87/100\n",
      "10/10 - 0s - loss: 4.4645 - mse: 4.4645 - mae: 1.8228\n",
      "Epoch 88/100\n",
      "10/10 - 0s - loss: 4.3012 - mse: 4.3012 - mae: 1.7754\n",
      "Epoch 89/100\n",
      "10/10 - 0s - loss: 4.1697 - mse: 4.1697 - mae: 1.7317\n",
      "Epoch 90/100\n",
      "10/10 - 0s - loss: 4.0650 - mse: 4.0650 - mae: 1.6956\n",
      "Epoch 91/100\n",
      "10/10 - 0s - loss: 3.9828 - mse: 3.9828 - mae: 1.6754\n",
      "Epoch 92/100\n",
      "10/10 - 0s - loss: 3.9189 - mse: 3.9189 - mae: 1.6572\n",
      "Epoch 93/100\n",
      "10/10 - 0s - loss: 3.8698 - mse: 3.8698 - mae: 1.6408\n",
      "Epoch 94/100\n",
      "10/10 - 0s - loss: 3.8325 - mse: 3.8325 - mae: 1.6263\n",
      "Epoch 95/100\n",
      "10/10 - 0s - loss: 3.8042 - mse: 3.8042 - mae: 1.6134\n",
      "Epoch 96/100\n",
      "10/10 - 0s - loss: 3.7827 - mse: 3.7827 - mae: 1.6021\n",
      "Epoch 97/100\n",
      "10/10 - 0s - loss: 3.7663 - mse: 3.7663 - mae: 1.5934\n",
      "Epoch 98/100\n",
      "10/10 - 0s - loss: 3.7535 - mse: 3.7535 - mae: 1.5877\n",
      "Epoch 99/100\n",
      "10/10 - 0s - loss: 3.7432 - mse: 3.7432 - mae: 1.5826\n",
      "Epoch 100/100\n",
      "10/10 - 0s - loss: 3.7345 - mse: 3.7345 - mae: 1.5781\n",
      "CPU times: user 468 ms, sys: 42.3 ms, total: 510 ms\n",
      "Wall time: 362 ms\n"
     ]
    }
   ],
   "source": [
    "%%time\n",
    "\n",
    "history = model.fit (x,y, epochs=100, verbose=2, \n",
    "                    callbacks=[tensorboard_callback])"
   ]
  },
  {
   "cell_type": "markdown",
   "metadata": {},
   "source": [
    "## Step 4 : Predict \n",
    "Now that our model is ready, lets predict tip for $100.  \n",
    "\n",
    "**==> Q : How good is our neural network tip calculator? :-)**"
   ]
  },
  {
   "cell_type": "code",
   "execution_count": 22,
   "metadata": {},
   "outputs": [
    {
     "name": "stdout",
     "output_type": "stream",
     "text": [
      "predicted tip :  [[18.923103]]\n"
     ]
    }
   ],
   "source": [
    "predicted = model.predict([100.])\n",
    "print (\"predicted tip : \", predicted)"
   ]
  },
  {
   "cell_type": "markdown",
   "metadata": {},
   "source": [
    "## Step 5 : Inspect Tensorboard\n",
    "- Tensorboard port is [6006](http://:6006).  \n",
    "- You will find a link to Tensorboard from the landing page.  \n",
    "- Goto tensorboard dashboard\n",
    "- 'Refresh' to see the latest run  (on the left side)\n",
    "- Select the most latest run on left pane to see the metrics"
   ]
  },
  {
   "cell_type": "markdown",
   "metadata": {},
   "source": [
    "## Step 6 : Do a few runs and inspect Tensorboard\n",
    "You can compare metrics from a few runs in Tensorboard"
   ]
  },
  {
   "cell_type": "markdown",
   "metadata": {},
   "source": [
    "## Step 7 : See the Training Metrics Graph\n",
    "We can still see the `history` of training"
   ]
  },
  {
   "cell_type": "code",
   "execution_count": 23,
   "metadata": {},
   "outputs": [
    {
     "data": {
      "image/png": "[encoded data removed]",
      "text/plain": [
       "<Figure size 432x288 with 1 Axes>"
      ]
     },
     "metadata": {
      "needs_background": "light"
     },
     "output_type": "display_data"
    }
   ],
   "source": [
    "%matplotlib inline\n",
    "import matplotlib.pyplot as plt\n",
    "\n",
    "plt.plot(history.history['mse'], label='mse')\n",
    "plt.plot(history.history['mae'], label='mae')\n",
    "plt.legend()\n",
    "plt.show()"
   ]
  },
  {
   "cell_type": "markdown",
   "metadata": {},
   "source": [
    "## Discussion\n",
    "\n",
    "- How many iterations does it take to converge?\n",
    "- Try different optimizers from previous lab and evaluate how quickly they converge\n",
    "\n",
    "\n",
    "### Good reads:\n",
    "- https://machinelearningmastery.com/custom-metrics-deep-learning-keras-python/"
   ]
  },
  {
   "cell_type": "code",
   "execution_count": null,
   "metadata": {},
   "outputs": [],
   "source": []
  }
 ],
 "metadata": {
  "kernelspec": {
   "display_name": "tf2",
   "language": "python",
   "name": "tf2"
  },
  "language_info": {
   "codemirror_mode": {
    "name": "ipython",
    "version": 3
   },
   "file_extension": ".py",
   "mimetype": "text/x-python",
   "name": "python",
   "nbconvert_exporter": "python",
   "pygments_lexer": "ipython3",
   "version": "3.7.4"
  }
 },
 "nbformat": 4,
 "nbformat_minor": 4
}
