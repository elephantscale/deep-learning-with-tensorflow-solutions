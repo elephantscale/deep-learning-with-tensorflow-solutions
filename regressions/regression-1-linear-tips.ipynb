{
 "cells": [
  {
   "cell_type": "markdown",
   "metadata": {},
   "source": [
    "# Simple Linear Regression Using Tensorflow v2 High Level API\n"
   ]
  },
  {
   "cell_type": "markdown",
   "metadata": {},
   "source": [
    "## Step 1 : Tips Data\n",
    "\n",
    "Our tips data looks like this\n",
    "\n",
    "```\n",
    "| bill | tip | \n",
    "|------|-----| \n",
    "| 50   | 12  | \n",
    "| 30   | 7   | \n",
    "| 60   | 13  | \n",
    "| 40   | 8   | \n",
    "| 65   | 15  | \n",
    "| 20   | 5   | \n",
    "| 10   | 2   | \n",
    "| 15   | 2   | \n",
    "| 25   | 3   | \n",
    "| 35   | 4   | \n",
    "```"
   ]
  },
  {
   "cell_type": "code",
   "execution_count": null,
   "metadata": {},
   "outputs": [],
   "source": [
    "## Determine if we are running on google colab\n",
    "\n",
    "try:\n",
    "    import google.colab\n",
    "    RUNNING_IN_COLAB = True\n",
    "except:\n",
    "    RUNNING_IN_COLAB = False\n",
    "\n",
    "print (\"Running in Google COLAB : \", RUNNING_IN_COLAB)\n"
   ]
  },
  {
   "cell_type": "code",
   "execution_count": 18,
   "metadata": {},
   "outputs": [],
   "source": [
    "%matplotlib inline\n",
    "\n",
    "import numpy as np\n",
    "import pandas as pd\n",
    "import matplotlib.pyplot as plt\n",
    "\n",
    "try:\n",
    "  # %tensorflow_version only exists in Colab.\n",
    "  %tensorflow_version 2.x\n",
    "except Exception:\n",
    "  pass\n",
    "import tensorflow as tf"
   ]
  },
  {
   "cell_type": "code",
   "execution_count": 19,
   "metadata": {},
   "outputs": [
    {
     "data": {
      "text/html": [
       "<div>\n",
       "<style scoped>\n",
       "    .dataframe tbody tr th:only-of-type {\n",
       "        vertical-align: middle;\n",
       "    }\n",
       "\n",
       "    .dataframe tbody tr th {\n",
       "        vertical-align: top;\n",
       "    }\n",
       "\n",
       "    .dataframe thead th {\n",
       "        text-align: right;\n",
       "    }\n",
       "</style>\n",
       "<table border=\"1\" class=\"dataframe\">\n",
       "  <thead>\n",
       "    <tr style=\"text-align: right;\">\n",
       "      <th></th>\n",
       "      <th>bill</th>\n",
       "      <th>tip</th>\n",
       "    </tr>\n",
       "  </thead>\n",
       "  <tbody>\n",
       "    <tr>\n",
       "      <td>0</td>\n",
       "      <td>50.0</td>\n",
       "      <td>12.0</td>\n",
       "    </tr>\n",
       "    <tr>\n",
       "      <td>1</td>\n",
       "      <td>30.0</td>\n",
       "      <td>7.0</td>\n",
       "    </tr>\n",
       "    <tr>\n",
       "      <td>2</td>\n",
       "      <td>60.0</td>\n",
       "      <td>13.0</td>\n",
       "    </tr>\n",
       "    <tr>\n",
       "      <td>3</td>\n",
       "      <td>40.0</td>\n",
       "      <td>8.0</td>\n",
       "    </tr>\n",
       "    <tr>\n",
       "      <td>4</td>\n",
       "      <td>65.0</td>\n",
       "      <td>15.0</td>\n",
       "    </tr>\n",
       "    <tr>\n",
       "      <td>5</td>\n",
       "      <td>20.0</td>\n",
       "      <td>5.0</td>\n",
       "    </tr>\n",
       "    <tr>\n",
       "      <td>6</td>\n",
       "      <td>10.0</td>\n",
       "      <td>2.0</td>\n",
       "    </tr>\n",
       "    <tr>\n",
       "      <td>7</td>\n",
       "      <td>15.0</td>\n",
       "      <td>2.0</td>\n",
       "    </tr>\n",
       "    <tr>\n",
       "      <td>8</td>\n",
       "      <td>25.0</td>\n",
       "      <td>3.0</td>\n",
       "    </tr>\n",
       "    <tr>\n",
       "      <td>9</td>\n",
       "      <td>35.0</td>\n",
       "      <td>4.0</td>\n",
       "    </tr>\n",
       "  </tbody>\n",
       "</table>\n",
       "</div>"
      ],
      "text/plain": [
       "   bill   tip\n",
       "0  50.0  12.0\n",
       "1  30.0   7.0\n",
       "2  60.0  13.0\n",
       "3  40.0   8.0\n",
       "4  65.0  15.0\n",
       "5  20.0   5.0\n",
       "6  10.0   2.0\n",
       "7  15.0   2.0\n",
       "8  25.0   3.0\n",
       "9  35.0   4.0"
      ]
     },
     "execution_count": 19,
     "metadata": {},
     "output_type": "execute_result"
    }
   ],
   "source": [
    "## Create some tips data in pandas\n",
    "\n",
    "tip_data = pd.DataFrame({'bill' : [50.00, 30.00, 60.00, 40.00, 65.00, 20.00, 10.00, 15.00, 25.00, 35.00],\n",
    "              'tip' : [12.00, 7.00, 13.00, 8.00, 15.00, 5.00, 2.00, 2.00, 3.00, 4.00]\n",
    "             })\n",
    "\n",
    "tip_data"
   ]
  },
  {
   "cell_type": "code",
   "execution_count": 20,
   "metadata": {},
   "outputs": [
    {
     "data": {
      "image/png": "[encoded data removed]",
      "text/plain": [
       "<Figure size 432x288 with 1 Axes>"
      ]
     },
     "metadata": {
      "needs_background": "light"
     },
     "output_type": "display_data"
    }
   ],
   "source": [
    "## Basic plot\n",
    "plt.scatter(tip_data.bill, tip_data.tip)\n",
    "plt.ylabel('tip')\n",
    "plt.xlabel('bill')\n",
    "plt.show()"
   ]
  },
  {
   "cell_type": "markdown",
   "metadata": {},
   "source": [
    "### Shape Input and Output\n",
    "Our tips data looks pretty linear.  \n",
    "Let's extract 'input' and 'output'"
   ]
  },
  {
   "cell_type": "code",
   "execution_count": 21,
   "metadata": {},
   "outputs": [
    {
     "name": "stdout",
     "output_type": "stream",
     "text": [
      "x (bill) = [50. 30. 60. 40. 65. 20. 10. 15. 25. 35.]\n",
      "y (tip) = [12.  7. 13.  8. 15.  5.  2.  2.  3.  4.]\n"
     ]
    }
   ],
   "source": [
    "x = tip_data['bill'].values\n",
    "y = tip_data['tip'].values\n",
    "print('x (bill) = ' + str(x))\n",
    "print('y (tip) = ' + str(y))\n"
   ]
  },
  {
   "cell_type": "markdown",
   "metadata": {},
   "source": [
    "## Step 2 : Define a Simple Linear Model\n",
    "It only has ONE neuron with ONE input"
   ]
  },
  {
   "cell_type": "code",
   "execution_count": 1,
   "metadata": {},
   "outputs": [
    {
     "name": "stdout",
     "output_type": "stream",
     "text": [
      "Model: \"sequential\"\n",
      "_________________________________________________________________\n",
      "Layer (type)                 Output Shape              Param #   \n",
      "=================================================================\n",
      "dense (Dense)                (None, 1)                 2         \n",
      "=================================================================\n",
      "Total params: 2\n",
      "Trainable params: 2\n",
      "Non-trainable params: 0\n",
      "_________________________________________________________________\n",
      "None\n"
     ]
    },
    {
     "data": {
      "image/png": "[encoded data removed]",
      "text/plain": [
       "<IPython.core.display.Image object>"
      ]
     },
     "execution_count": 1,
     "metadata": {},
     "output_type": "execute_result"
    }
   ],
   "source": [
    "import tensorflow as tf\n",
    "from tensorflow import keras  # using TF.Keras !\n",
    "\n",
    "\n",
    "\n",
    "model = tf.keras.Sequential()\n",
    "model.add (keras.layers.Dense(units=1, input_shape=[1]))\n",
    "\n",
    "# optimizer = 'sgd'\n",
    "\n",
    "## TODO : try these optimizers one-by-one to get better results\n",
    "\n",
    "# optimizer='adam'\n",
    "# optimizer=tf.keras.optimizers.SGD(0.001)\n",
    "# optimizer=tf.keras.optimizers.SGD(0.01)\n",
    "# optimizer=tf.keras.optimizers.RMSprop(0.001)\n",
    "# optimizer=tf.keras.optimizers.RMSprop(0.01)\n",
    "# optimizer=tf.keras.optimizers.RMSprop(0.1)\n",
    "# optimizer=tf.keras.optimizers.Adam(0.001)\n",
    "optimizer=tf.keras.optimizers.Adam(0.01)\n",
    "\n",
    "\n",
    "model.compile(optimizer=optimizer, loss='mean_squared_error', \n",
    "             metrics = ['mean_squared_error'])\n",
    "\n",
    "print (model.summary())\n",
    "\n",
    "tf.keras.utils.plot_model(model, to_file='model.png', show_shapes=True)"
   ]
  },
  {
   "cell_type": "markdown",
   "metadata": {},
   "source": [
    "## Step 3 : Train The Neural Network\n",
    "This is where we supply our model 'input' data to train on.  \n",
    "**Goal : We want the loss to as small as possible (if zero, it is perfect model!)**"
   ]
  },
  {
   "cell_type": "code",
   "execution_count": 23,
   "metadata": {},
   "outputs": [
    {
     "name": "stdout",
     "output_type": "stream",
     "text": [
      "Train on 10 samples\n",
      "Epoch 1/100\n",
      "WARNING:tensorflow:Entity <function Function._initialize_uninitialized_variables.<locals>.initialize_variables at 0x7f1db0420e60> could not be transformed and will be executed as-is. Please report this to the AutoGraph team. When filing the bug, set the verbosity to 10 (on Linux, `export AUTOGRAPH_VERBOSITY=10`) and attach the full output. Cause: module 'gast' has no attribute 'Num'\n",
      "WARNING: Entity <function Function._initialize_uninitialized_variables.<locals>.initialize_variables at 0x7f1db0420e60> could not be transformed and will be executed as-is. Please report this to the AutoGraph team. When filing the bug, set the verbosity to 10 (on Linux, `export AUTOGRAPH_VERBOSITY=10`) and attach the full output. Cause: module 'gast' has no attribute 'Num'\n",
      "10/10 [==============================] - 0s 36ms/sample - loss: 173.8302 - mean_squared_error: 173.8302\n",
      "Epoch 2/100\n",
      "10/10 [==============================] - 0s 444us/sample - loss: 163.4731 - mean_squared_error: 163.4731\n",
      "Epoch 3/100\n",
      "10/10 [==============================] - 0s 378us/sample - loss: 153.4474 - mean_squared_error: 153.4474\n",
      "Epoch 4/100\n",
      "10/10 [==============================] - 0s 203us/sample - loss: 143.7585 - mean_squared_error: 143.7585\n",
      "Epoch 5/100\n",
      "10/10 [==============================] - 0s 258us/sample - loss: 134.4113 - mean_squared_error: 134.4113\n",
      "Epoch 6/100\n",
      "10/10 [==============================] - 0s 314us/sample - loss: 125.4100 - mean_squared_error: 125.4100\n",
      "Epoch 7/100\n",
      "10/10 [==============================] - 0s 359us/sample - loss: 116.7582 - mean_squared_error: 116.7582\n",
      "Epoch 8/100\n",
      "10/10 [==============================] - 0s 323us/sample - loss: 108.4586 - mean_squared_error: 108.4586\n",
      "Epoch 9/100\n",
      "10/10 [==============================] - 0s 440us/sample - loss: 100.5134 - mean_squared_error: 100.5134\n",
      "Epoch 10/100\n",
      "10/10 [==============================] - 0s 379us/sample - loss: 92.9239 - mean_squared_error: 92.9239\n",
      "Epoch 11/100\n",
      "10/10 [==============================] - 0s 359us/sample - loss: 85.6905 - mean_squared_error: 85.6905\n",
      "Epoch 12/100\n",
      "10/10 [==============================] - 0s 343us/sample - loss: 78.8128 - mean_squared_error: 78.8128\n",
      "Epoch 13/100\n",
      "10/10 [==============================] - 0s 348us/sample - loss: 72.2895 - mean_squared_error: 72.2895\n",
      "Epoch 14/100\n",
      "10/10 [==============================] - 0s 343us/sample - loss: 66.1184 - mean_squared_error: 66.1184\n",
      "Epoch 15/100\n",
      "10/10 [==============================] - 0s 330us/sample - loss: 60.2964 - mean_squared_error: 60.2964\n",
      "Epoch 16/100\n",
      "10/10 [==============================] - 0s 470us/sample - loss: 54.8194 - mean_squared_error: 54.8194\n",
      "Epoch 17/100\n",
      "10/10 [==============================] - 0s 386us/sample - loss: 49.6824 - mean_squared_error: 49.6824\n",
      "Epoch 18/100\n",
      "10/10 [==============================] - 0s 331us/sample - loss: 44.8794 - mean_squared_error: 44.8794\n",
      "Epoch 19/100\n",
      "10/10 [==============================] - 0s 375us/sample - loss: 40.4035 - mean_squared_error: 40.4035\n",
      "Epoch 20/100\n",
      "10/10 [==============================] - 0s 393us/sample - loss: 36.2471 - mean_squared_error: 36.2471\n",
      "Epoch 21/100\n",
      "10/10 [==============================] - 0s 267us/sample - loss: 32.4015 - mean_squared_error: 32.4015\n",
      "Epoch 22/100\n",
      "10/10 [==============================] - 0s 391us/sample - loss: 28.8573 - mean_squared_error: 28.8573\n",
      "Epoch 23/100\n",
      "10/10 [==============================] - 0s 373us/sample - loss: 25.6042 - mean_squared_error: 25.6042\n",
      "Epoch 24/100\n",
      "10/10 [==============================] - 0s 300us/sample - loss: 22.6312 - mean_squared_error: 22.6312\n",
      "Epoch 25/100\n",
      "10/10 [==============================] - 0s 274us/sample - loss: 19.9269 - mean_squared_error: 19.9269\n",
      "Epoch 26/100\n",
      "10/10 [==============================] - 0s 357us/sample - loss: 17.4789 - mean_squared_error: 17.4789\n",
      "Epoch 27/100\n",
      "10/10 [==============================] - 0s 319us/sample - loss: 15.2746 - mean_squared_error: 15.2746\n",
      "Epoch 28/100\n",
      "10/10 [==============================] - 0s 235us/sample - loss: 13.3009 - mean_squared_error: 13.3009\n",
      "Epoch 29/100\n",
      "10/10 [==============================] - 0s 218us/sample - loss: 11.5443 - mean_squared_error: 11.5443\n",
      "Epoch 30/100\n",
      "10/10 [==============================] - 0s 442us/sample - loss: 9.9910 - mean_squared_error: 9.9910\n",
      "Epoch 31/100\n",
      "10/10 [==============================] - 0s 319us/sample - loss: 8.6273 - mean_squared_error: 8.6273\n",
      "Epoch 32/100\n",
      "10/10 [==============================] - 0s 302us/sample - loss: 7.4393 - mean_squared_error: 7.4393\n",
      "Epoch 33/100\n",
      "10/10 [==============================] - 0s 472us/sample - loss: 6.4131 - mean_squared_error: 6.4131\n",
      "Epoch 34/100\n",
      "10/10 [==============================] - 0s 309us/sample - loss: 5.5351 - mean_squared_error: 5.5351\n",
      "Epoch 35/100\n",
      "10/10 [==============================] - 0s 413us/sample - loss: 4.7918 - mean_squared_error: 4.7918\n",
      "Epoch 36/100\n",
      "10/10 [==============================] - 0s 373us/sample - loss: 4.1701 - mean_squared_error: 4.1701\n",
      "Epoch 37/100\n",
      "10/10 [==============================] - 0s 463us/sample - loss: 3.6574 - mean_squared_error: 3.6574\n",
      "Epoch 38/100\n",
      "10/10 [==============================] - 0s 370us/sample - loss: 3.2414 - mean_squared_error: 3.2414\n",
      "Epoch 39/100\n",
      "10/10 [==============================] - 0s 234us/sample - loss: 2.9106 - mean_squared_error: 2.9106\n",
      "Epoch 40/100\n",
      "10/10 [==============================] - 0s 401us/sample - loss: 2.6540 - mean_squared_error: 2.6540\n",
      "Epoch 41/100\n",
      "10/10 [==============================] - 0s 407us/sample - loss: 2.4613 - mean_squared_error: 2.4613\n",
      "Epoch 42/100\n",
      "10/10 [==============================] - 0s 335us/sample - loss: 2.3229 - mean_squared_error: 2.3229\n",
      "Epoch 43/100\n",
      "10/10 [==============================] - 0s 498us/sample - loss: 2.2300 - mean_squared_error: 2.2300\n",
      "Epoch 44/100\n",
      "10/10 [==============================] - 0s 533us/sample - loss: 2.1745 - mean_squared_error: 2.1745\n",
      "Epoch 45/100\n",
      "10/10 [==============================] - 0s 565us/sample - loss: 2.1490 - mean_squared_error: 2.1490\n",
      "Epoch 46/100\n",
      "10/10 [==============================] - 0s 399us/sample - loss: 2.1472 - mean_squared_error: 2.1472\n",
      "Epoch 47/100\n",
      "10/10 [==============================] - 0s 365us/sample - loss: 2.1631 - mean_squared_error: 2.1631\n",
      "Epoch 48/100\n",
      "10/10 [==============================] - 0s 485us/sample - loss: 2.1917 - mean_squared_error: 2.1917\n",
      "Epoch 49/100\n",
      "10/10 [==============================] - 0s 551us/sample - loss: 2.2287 - mean_squared_error: 2.2287\n",
      "Epoch 50/100\n",
      "10/10 [==============================] - 0s 372us/sample - loss: 2.2705 - mean_squared_error: 2.2705\n",
      "Epoch 51/100\n",
      "10/10 [==============================] - 0s 411us/sample - loss: 2.3139 - mean_squared_error: 2.3139\n",
      "Epoch 52/100\n",
      "10/10 [==============================] - 0s 854us/sample - loss: 2.3565 - mean_squared_error: 2.3565\n",
      "Epoch 53/100\n",
      "10/10 [==============================] - 0s 412us/sample - loss: 2.3964 - mean_squared_error: 2.3964\n",
      "Epoch 54/100\n",
      "10/10 [==============================] - 0s 746us/sample - loss: 2.4321 - mean_squared_error: 2.4321\n",
      "Epoch 55/100\n",
      "10/10 [==============================] - 0s 407us/sample - loss: 2.4626 - mean_squared_error: 2.4626\n",
      "Epoch 56/100\n",
      "10/10 [==============================] - 0s 428us/sample - loss: 2.4872 - mean_squared_error: 2.4872\n",
      "Epoch 57/100\n",
      "10/10 [==============================] - 0s 509us/sample - loss: 2.5056 - mean_squared_error: 2.5056\n",
      "Epoch 58/100\n",
      "10/10 [==============================] - 0s 552us/sample - loss: 2.5177 - mean_squared_error: 2.5177\n",
      "Epoch 59/100\n",
      "10/10 [==============================] - 0s 419us/sample - loss: 2.5237 - mean_squared_error: 2.5237\n",
      "Epoch 60/100\n",
      "10/10 [==============================] - 0s 331us/sample - loss: 2.5240 - mean_squared_error: 2.5240\n",
      "Epoch 61/100\n",
      "10/10 [==============================] - 0s 390us/sample - loss: 2.5189 - mean_squared_error: 2.5189\n",
      "Epoch 62/100\n",
      "10/10 [==============================] - 0s 441us/sample - loss: 2.5091 - mean_squared_error: 2.5091\n",
      "Epoch 63/100\n",
      "10/10 [==============================] - 0s 513us/sample - loss: 2.4953 - mean_squared_error: 2.4953\n",
      "Epoch 64/100\n",
      "10/10 [==============================] - 0s 411us/sample - loss: 2.4780 - mean_squared_error: 2.4780\n",
      "Epoch 65/100\n",
      "10/10 [==============================] - 0s 377us/sample - loss: 2.4580 - mean_squared_error: 2.4580\n",
      "Epoch 66/100\n",
      "10/10 [==============================] - 0s 423us/sample - loss: 2.4360 - mean_squared_error: 2.4360\n",
      "Epoch 67/100\n",
      "10/10 [==============================] - 0s 412us/sample - loss: 2.4126 - mean_squared_error: 2.4126\n",
      "Epoch 68/100\n",
      "10/10 [==============================] - 0s 459us/sample - loss: 2.3883 - mean_squared_error: 2.3883\n",
      "Epoch 69/100\n",
      "10/10 [==============================] - 0s 424us/sample - loss: 2.3638 - mean_squared_error: 2.3638\n",
      "Epoch 70/100\n",
      "10/10 [==============================] - 0s 532us/sample - loss: 2.3396 - mean_squared_error: 2.3396\n",
      "Epoch 71/100\n",
      "10/10 [==============================] - 0s 720us/sample - loss: 2.3159 - mean_squared_error: 2.3159\n",
      "Epoch 72/100\n",
      "10/10 [==============================] - 0s 514us/sample - loss: 2.2933 - mean_squared_error: 2.2933\n",
      "Epoch 73/100\n",
      "10/10 [==============================] - 0s 447us/sample - loss: 2.2719 - mean_squared_error: 2.2719\n",
      "Epoch 74/100\n",
      "10/10 [==============================] - 0s 377us/sample - loss: 2.2521 - mean_squared_error: 2.2521\n",
      "Epoch 75/100\n",
      "10/10 [==============================] - 0s 326us/sample - loss: 2.2339 - mean_squared_error: 2.2339\n",
      "Epoch 76/100\n",
      "10/10 [==============================] - 0s 482us/sample - loss: 2.2174 - mean_squared_error: 2.2174\n",
      "Epoch 77/100\n",
      "10/10 [==============================] - 0s 254us/sample - loss: 2.2027 - mean_squared_error: 2.2027\n",
      "Epoch 78/100\n",
      "10/10 [==============================] - 0s 431us/sample - loss: 2.1898 - mean_squared_error: 2.1898\n",
      "Epoch 79/100\n",
      "10/10 [==============================] - 0s 444us/sample - loss: 2.1786 - mean_squared_error: 2.1786\n",
      "Epoch 80/100\n",
      "10/10 [==============================] - 0s 342us/sample - loss: 2.1691 - mean_squared_error: 2.1691\n",
      "Epoch 81/100\n",
      "10/10 [==============================] - 0s 532us/sample - loss: 2.1611 - mean_squared_error: 2.1611\n",
      "Epoch 82/100\n",
      "10/10 [==============================] - 0s 386us/sample - loss: 2.1546 - mean_squared_error: 2.1546\n",
      "Epoch 83/100\n",
      "10/10 [==============================] - 0s 678us/sample - loss: 2.1494 - mean_squared_error: 2.1494\n",
      "Epoch 84/100\n",
      "10/10 [==============================] - 0s 350us/sample - loss: 2.1454 - mean_squared_error: 2.1454\n",
      "Epoch 85/100\n",
      "10/10 [==============================] - 0s 571us/sample - loss: 2.1423 - mean_squared_error: 2.1423\n",
      "Epoch 86/100\n",
      "10/10 [==============================] - 0s 536us/sample - loss: 2.1402 - mean_squared_error: 2.1402\n",
      "Epoch 87/100\n",
      "10/10 [==============================] - 0s 407us/sample - loss: 2.1388 - mean_squared_error: 2.1388\n",
      "Epoch 88/100\n",
      "10/10 [==============================] - 0s 511us/sample - loss: 2.1380 - mean_squared_error: 2.1380\n",
      "Epoch 89/100\n",
      "10/10 [==============================] - 0s 487us/sample - loss: 2.1376 - mean_squared_error: 2.1376\n",
      "Epoch 90/100\n",
      "10/10 [==============================] - 0s 467us/sample - loss: 2.1376 - mean_squared_error: 2.1376\n",
      "Epoch 91/100\n",
      "10/10 [==============================] - 0s 457us/sample - loss: 2.1378 - mean_squared_error: 2.1378\n",
      "Epoch 92/100\n",
      "10/10 [==============================] - 0s 576us/sample - loss: 2.1383 - mean_squared_error: 2.1383\n",
      "Epoch 93/100\n",
      "10/10 [==============================] - 0s 420us/sample - loss: 2.1388 - mean_squared_error: 2.1388\n",
      "Epoch 94/100\n",
      "10/10 [==============================] - 0s 467us/sample - loss: 2.1393 - mean_squared_error: 2.1393\n",
      "Epoch 95/100\n",
      "10/10 [==============================] - 0s 371us/sample - loss: 2.1398 - mean_squared_error: 2.1398\n",
      "Epoch 96/100\n",
      "10/10 [==============================] - 0s 549us/sample - loss: 2.1402 - mean_squared_error: 2.1402\n",
      "Epoch 97/100\n",
      "10/10 [==============================] - 0s 525us/sample - loss: 2.1406 - mean_squared_error: 2.1406\n",
      "Epoch 98/100\n",
      "10/10 [==============================] - 0s 497us/sample - loss: 2.1408 - mean_squared_error: 2.1408\n",
      "Epoch 99/100\n",
      "10/10 [==============================] - 0s 830us/sample - loss: 2.1409 - mean_squared_error: 2.1409\n",
      "Epoch 100/100\n",
      "10/10 [==============================] - 0s 626us/sample - loss: 2.1409 - mean_squared_error: 2.1409\n",
      "CPU times: user 950 ms, sys: 270 ms, total: 1.22 s\n",
      "Wall time: 965 ms\n"
     ]
    }
   ],
   "source": [
    "%%time\n",
    "## TODO : start with 100 epochs,\n",
    "##         increase it (500, 1000) to see if accuracy improves\n",
    "\n",
    "history = model.fit (x,y, epochs=100)"
   ]
  },
  {
   "cell_type": "markdown",
   "metadata": {},
   "source": [
    "## Step 4 : Evaluate the Run\n",
    "If you are seeing the loss value getting larger and larger  or seeing 'inf' or 'nan' values, your neural network is not converging :)  \n",
    "\n",
    "Don't worry, it is an easy fix.  Change the optimizer above in Step-2 (uncomment one of the optimizers and try again)"
   ]
  },
  {
   "cell_type": "markdown",
   "metadata": {},
   "source": [
    "## Step 5 : See Training Metrics"
   ]
  },
  {
   "cell_type": "code",
   "execution_count": 24,
   "metadata": {},
   "outputs": [
    {
     "data": {
      "image/png": "[encoded data removed]",
      "text/plain": [
       "<Figure size 432x288 with 1 Axes>"
      ]
     },
     "metadata": {
      "needs_background": "light"
     },
     "output_type": "display_data"
    }
   ],
   "source": [
    "%matplotlib inline\n",
    "import matplotlib.pyplot as plt\n",
    "\n",
    "if 'mean_squared_error' in history.history:\n",
    "    plt.plot(history.history['mean_squared_error'], label='mse')\n",
    "\n",
    "plt.legend()\n",
    "plt.show()"
   ]
  },
  {
   "cell_type": "markdown",
   "metadata": {},
   "source": [
    "## Step 6 : Predict \n",
    "Now that our model is ready, lets predict tip for $100.  \n",
    "\n",
    "**==> Q : How good is our neural network tip calculator? :-)**"
   ]
  },
  {
   "cell_type": "code",
   "execution_count": 25,
   "metadata": {},
   "outputs": [
    {
     "name": "stdout",
     "output_type": "stream",
     "text": [
      "predicted tip :  [[21.732824]]\n"
     ]
    }
   ],
   "source": [
    "predicted = model.predict([100.])\n",
    "print (\"predicted tip : \", predicted)"
   ]
  },
  {
   "cell_type": "code",
   "execution_count": null,
   "metadata": {},
   "outputs": [],
   "source": []
  }
 ],
 "metadata": {
  "kernelspec": {
   "display_name": "Python 3",
   "language": "python",
   "name": "python3"
  },
  "language_info": {
   "codemirror_mode": {
    "name": "ipython",
    "version": 3
   },
   "file_extension": ".py",
   "mimetype": "text/x-python",
   "name": "python",
   "nbconvert_exporter": "python",
   "pygments_lexer": "ipython3",
   "version": "3.7.6"
  }
 },
 "nbformat": 4,
 "nbformat_minor": 4
}
