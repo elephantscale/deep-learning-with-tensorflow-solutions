{
 "cells": [
  {
   "cell_type": "markdown",
   "metadata": {},
   "source": [
    "# House Prices Regressions - Minimal code"
   ]
  },
  {
   "cell_type": "code",
   "execution_count": 1,
   "metadata": {},
   "outputs": [
    {
     "name": "stdout",
     "output_type": "stream",
     "text": [
      "Running in Google COLAB :  False\n"
     ]
    }
   ],
   "source": [
    "## Determine if we are running on google colab\n",
    "\n",
    "try:\n",
    "    import google.colab\n",
    "    RUNNING_IN_COLAB = True\n",
    "except:\n",
    "    RUNNING_IN_COLAB = False\n",
    "\n",
    "print (\"Running in Google COLAB : \", RUNNING_IN_COLAB)\n"
   ]
  },
  {
   "cell_type": "code",
   "execution_count": 2,
   "metadata": {},
   "outputs": [],
   "source": [
    "from __future__ import absolute_import, division, print_function\n",
    "\n",
    "%matplotlib inline\n",
    "\n",
    "import pathlib\n",
    "import matplotlib.pyplot as plt\n",
    "import pandas as pd\n",
    "import seaborn as sns\n",
    "import datetime\n",
    "\n",
    "try:\n",
    "  # %tensorflow_version only exists in Colab.\n",
    "  %tensorflow_version 2.x\n",
    "except Exception:\n",
    "  pass\n",
    "\n",
    "import tensorflow as tf\n",
    "from tensorflow import keras"
   ]
  },
  {
   "cell_type": "code",
   "execution_count": 3,
   "metadata": {},
   "outputs": [],
   "source": [
    "data_location = '../data/house-prices/house-sales-full.csv'\n",
    "\n",
    "if RUNNING_IN_COLAB:\n",
    "    data_location = 'https://elephantscale-public.s3.amazonaws.com/data/house-prices/house-sales-full.csv'\n",
    "\n",
    "house_prices = pd.read_csv(data_location)\n",
    "\n",
    "input_columns = ['Bedrooms', 'Bathrooms', 'SqFtTotLiving', 'SqFtLot']\n",
    "label_column = 'SalePrice'\n",
    "# x = house_prices.loc[:, input_columns]\n",
    "x = house_prices [input_columns]\n",
    "y = house_prices[[label_column]]"
   ]
  },
  {
   "cell_type": "code",
   "execution_count": 4,
   "metadata": {},
   "outputs": [],
   "source": [
    "from sklearn.model_selection import train_test_split\n",
    "\n",
    "## split train/test = 80% / 20%\n",
    "x_train, x_test, y_train, y_test = train_test_split(x, y, test_size = 0.2, random_state = 0)\n",
    "\n",
    "x_train_orig = x_train\n",
    "x_test_orig = x_test\n",
    "\n",
    "def my_scaler(df):\n",
    "    #return (df-df.min())/(df.max()-df.min())  ## this is min/max scaler\n",
    "    return (df - df.mean()) / df.std()\n",
    "\n",
    "x_train = my_scaler(x_train_orig)\n",
    "x_test = my_scaler (x_test_orig)"
   ]
  },
  {
   "cell_type": "code",
   "execution_count": 5,
   "metadata": {},
   "outputs": [
    {
     "name": "stdout",
     "output_type": "stream",
     "text": [
      "Model: \"sequential\"\n",
      "_________________________________________________________________\n",
      "Layer (type)                 Output Shape              Param #   \n",
      "=================================================================\n",
      "input_layer (Dense)          (None, 64)                320       \n",
      "_________________________________________________________________\n",
      "hidden_1 (Dense)             (None, 64)                4160      \n",
      "_________________________________________________________________\n",
      "output_layer (Dense)         (None, 1)                 65        \n",
      "=================================================================\n",
      "Total params: 4,545\n",
      "Trainable params: 4,545\n",
      "Non-trainable params: 0\n",
      "_________________________________________________________________\n",
      "None\n"
     ]
    }
   ],
   "source": [
    "input_dim = len(x_train.keys())\n",
    "model = tf.keras.Sequential([\n",
    "                tf.keras.layers.Dense(units=64, activation=tf.nn.relu, input_shape=[input_dim], name=\"input_layer\"),\n",
    "                tf.keras.layers.Dense(units=64, activation=tf.nn.relu, name=\"hidden_1\"),\n",
    "                tf.keras.layers.Dense(units=1, name=\"output_layer\")\n",
    "            ])\n",
    "\n",
    "optimizer = tf.keras.optimizers.RMSprop(0.01)\n",
    "\n",
    "model.compile(loss='mean_squared_error',\n",
    "                  optimizer=optimizer,\n",
    "                  metrics=['mean_absolute_error', 'mean_squared_error'])\n",
    "print (model.summary())"
   ]
  },
  {
   "cell_type": "code",
   "execution_count": 6,
   "metadata": {},
   "outputs": [
    {
     "name": "stdout",
     "output_type": "stream",
     "text": [
      "Saving TB logs to :  /tmp/tensorboard-logs/house-prices-regression/2020-01-16--10-18-40\n"
     ]
    }
   ],
   "source": [
    "## tensorboard\n",
    "\n",
    "import datetime\n",
    "import os\n",
    "\n",
    "app_name = 'house-prices-regression' # you can change this, if you like\n",
    "\n",
    "tb_top_level_dir= '/tmp/tensorboard-logs'\n",
    "tensorboard_logs_dir= os.path.join (tb_top_level_dir, app_name, \n",
    "                                    datetime.datetime.now().strftime(\"%Y-%m-%d--%H-%M-%S\"))\n",
    "print (\"Saving TB logs to : \" , tensorboard_logs_dir)\n",
    "\n",
    "tensorboard_callback = tf.keras.callbacks.TensorBoard(log_dir=tensorboard_logs_dir, histogram_freq=1)\n",
    "\n",
    "# Loading of tensorboard in Colab\n",
    "if RUNNING_IN_COLAB:\n",
    "    %load_ext tensorboard\n",
    "    %tensorboard --logdir tb_top_level_dir\n"
   ]
  },
  {
   "cell_type": "code",
   "execution_count": 7,
   "metadata": {},
   "outputs": [
    {
     "name": "stdout",
     "output_type": "stream",
     "text": [
      "training starting ...\n",
      "WARNING:tensorflow:Falling back from v2 loop because of error: Failed to find data adapter that can handle input: <class 'pandas.core.frame.DataFrame'>, <class 'NoneType'>\n",
      "Train on 17320 samples, validate on 4330 samples\n",
      "Epoch 1/100\n",
      "17320/17320 [==============================] - 0s 26us/sample - loss: 239816826584.8610 - mean_absolute_error: 371394.0000 - mean_squared_error: 239816753152.0000 - val_loss: 83619204346.2060 - val_mean_absolute_error: 180072.5469 - val_mean_squared_error: 83619201024.0000\n",
      "Epoch 2/100\n",
      "17320/17320 [==============================] - 0s 19us/sample - loss: 67210500151.8115 - mean_absolute_error: 158665.9062 - mean_squared_error: 67210518528.0000 - val_loss: 65586991049.1344 - val_mean_absolute_error: 152554.6562 - val_mean_squared_error: 65586978816.0000\n",
      "Epoch 3/100\n",
      "17320/17320 [==============================] - 0s 19us/sample - loss: 59260290509.1547 - mean_absolute_error: 146276.4062 - mean_squared_error: 59260297216.0000 - val_loss: 63232715204.1681 - val_mean_absolute_error: 146706.2031 - val_mean_squared_error: 63232729088.0000\n",
      "Epoch 4/100\n",
      "17320/17320 [==============================] - 0s 19us/sample - loss: 57248652190.0933 - mean_absolute_error: 142600.7500 - mean_squared_error: 57248653312.0000 - val_loss: 62175042368.4434 - val_mean_absolute_error: 145510.8438 - val_mean_squared_error: 62175039488.0000\n",
      "Epoch 5/100\n",
      "17320/17320 [==============================] - 0s 19us/sample - loss: 56297355690.6273 - mean_absolute_error: 141221.3594 - mean_squared_error: 56297349120.0000 - val_loss: 61302758465.7441 - val_mean_absolute_error: 145098.1250 - val_mean_squared_error: 61302759424.0000\n",
      "Epoch 6/100\n",
      "17320/17320 [==============================] - 0s 19us/sample - loss: 55383744451.4587 - mean_absolute_error: 140214.1719 - mean_squared_error: 55383724032.0000 - val_loss: 60761350117.5132 - val_mean_absolute_error: 144195.8750 - val_mean_squared_error: 60761366528.0000\n",
      "Epoch 7/100\n",
      "17320/17320 [==============================] - 0s 19us/sample - loss: 54656267076.2273 - mean_absolute_error: 139251.4844 - mean_squared_error: 54656253952.0000 - val_loss: 61951041997.6277 - val_mean_absolute_error: 141129.4531 - val_mean_squared_error: 61951049728.0000\n",
      "Epoch 8/100\n",
      "17320/17320 [==============================] - 0s 19us/sample - loss: 54502735031.7524 - mean_absolute_error: 138385.1562 - mean_squared_error: 54502752256.0000 - val_loss: 60753329918.6993 - val_mean_absolute_error: 141118.0156 - val_mean_squared_error: 60753342464.0000\n",
      "Epoch 9/100\n",
      "17320/17320 [==============================] - 0s 19us/sample - loss: 54027787893.5353 - mean_absolute_error: 137811.6562 - mean_squared_error: 54027821056.0000 - val_loss: 59856656237.3764 - val_mean_absolute_error: 143362.2812 - val_mean_squared_error: 59856650240.0000\n",
      "Epoch 10/100\n",
      "17320/17320 [==============================] - 0s 19us/sample - loss: 53748506098.0471 - mean_absolute_error: 137498.7031 - mean_squared_error: 53748498432.0000 - val_loss: 59762658646.9099 - val_mean_absolute_error: 141076.8594 - val_mean_squared_error: 59762667520.0000\n",
      "Epoch 11/100\n",
      "17320/17320 [==============================] - 0s 19us/sample - loss: 53626386309.0254 - mean_absolute_error: 136753.6719 - mean_squared_error: 53626388480.0000 - val_loss: 59416892503.0282 - val_mean_absolute_error: 142241.5156 - val_mean_squared_error: 59416883200.0000\n",
      "Epoch 12/100\n",
      "17320/17320 [==============================] - 0s 19us/sample - loss: 53246047863.4272 - mean_absolute_error: 136728.2188 - mean_squared_error: 53246058496.0000 - val_loss: 59742976178.3132 - val_mean_absolute_error: 140119.6562 - val_mean_squared_error: 59742973952.0000\n",
      "Epoch 13/100\n",
      "17320/17320 [==============================] - 0s 19us/sample - loss: 53212062463.1723 - mean_absolute_error: 136348.8594 - mean_squared_error: 53212073984.0000 - val_loss: 59350669313.4189 - val_mean_absolute_error: 140646.7500 - val_mean_squared_error: 59350675456.0000\n",
      "Epoch 14/100\n",
      "17320/17320 [==============================] - 0s 19us/sample - loss: 52981900304.5543 - mean_absolute_error: 136242.0156 - mean_squared_error: 52981915648.0000 - val_loss: 60662612104.2180 - val_mean_absolute_error: 139131.6562 - val_mean_squared_error: 60662620160.0000\n",
      "Epoch 15/100\n",
      "17320/17320 [==============================] - 0s 20us/sample - loss: 53053991442.6827 - mean_absolute_error: 135940.0625 - mean_squared_error: 53053980672.0000 - val_loss: 59814994002.2984 - val_mean_absolute_error: 139590.8438 - val_mean_squared_error: 59814989824.0000\n",
      "Epoch 16/100\n",
      "17320/17320 [==============================] - 0s 19us/sample - loss: 52861874694.3852 - mean_absolute_error: 136087.1250 - mean_squared_error: 52861886464.0000 - val_loss: 59556394785.6998 - val_mean_absolute_error: 139609.7188 - val_mean_squared_error: 59556384768.0000\n",
      "Epoch 17/100\n",
      "17320/17320 [==============================] - 0s 19us/sample - loss: 52688318630.4887 - mean_absolute_error: 136004.4531 - mean_squared_error: 52688314368.0000 - val_loss: 59933954025.5335 - val_mean_absolute_error: 139496.3594 - val_mean_squared_error: 59933945856.0000\n",
      "Epoch 18/100\n",
      "17320/17320 [==============================] - 0s 19us/sample - loss: 52645577142.9247 - mean_absolute_error: 135698.1250 - mean_squared_error: 52645584896.0000 - val_loss: 59687527924.8850 - val_mean_absolute_error: 139048.3125 - val_mean_squared_error: 59687518208.0000\n",
      "Epoch 19/100\n",
      "17320/17320 [==============================] - 0s 19us/sample - loss: 52667388009.0014 - mean_absolute_error: 135637.3438 - mean_squared_error: 52667412480.0000 - val_loss: 59464458497.3007 - val_mean_absolute_error: 139259.7656 - val_mean_squared_error: 59464466432.0000\n",
      "Epoch 20/100\n",
      "17320/17320 [==============================] - 0s 19us/sample - loss: 52627951691.6767 - mean_absolute_error: 135586.4375 - mean_squared_error: 52627976192.0000 - val_loss: 59968096604.1127 - val_mean_absolute_error: 138797.0938 - val_mean_squared_error: 59968110592.0000\n",
      "Epoch 21/100\n",
      "17320/17320 [==============================] - 0s 19us/sample - loss: 52519390189.5538 - mean_absolute_error: 135518.7500 - mean_squared_error: 52519387136.0000 - val_loss: 60343569159.2129 - val_mean_absolute_error: 138702.6719 - val_mean_squared_error: 60343558144.0000\n",
      "Epoch 22/100\n",
      "17320/17320 [==============================] - 0s 19us/sample - loss: 52532414315.9575 - mean_absolute_error: 135451.1250 - mean_squared_error: 52532420608.0000 - val_loss: 59418477881.5852 - val_mean_absolute_error: 139038.1406 - val_mean_squared_error: 59418476544.0000\n",
      "Epoch 23/100\n",
      "17320/17320 [==============================] - 0s 19us/sample - loss: 52440015442.0619 - mean_absolute_error: 135369.7188 - mean_squared_error: 52440043520.0000 - val_loss: 59389007165.3691 - val_mean_absolute_error: 138999.3750 - val_mean_squared_error: 59389005824.0000\n",
      "training done.\n",
      "CPU times: user 12.6 s, sys: 813 ms, total: 13.4 s\n",
      "Wall time: 8.04 s\n"
     ]
    }
   ],
   "source": [
    "%%time\n",
    "\n",
    "# The patience parameter is the amount of epochs to check for improvement\n",
    "early_stop = tf.keras.callbacks.EarlyStopping(monitor='val_loss', min_delta=0.001, patience=10)\n",
    "\n",
    "epochs = 100\n",
    "print (\"training starting ...\")\n",
    "## TODO : to see training output set verbose=2\n",
    "history = model.fit(\n",
    "              x_train, y_train,\n",
    "              epochs=epochs, validation_split = 0.2, verbose=1,\n",
    "              callbacks=[early_stop, tensorboard_callback])\n",
    "\n",
    "print (\"training done.\")"
   ]
  },
  {
   "cell_type": "code",
   "execution_count": 8,
   "metadata": {},
   "outputs": [
    {
     "data": {
      "image/png": "[encoded data removed]",
      "text/plain": [
       "<Figure size 432x288 with 1 Axes>"
      ]
     },
     "metadata": {
      "needs_background": "light"
     },
     "output_type": "display_data"
    }
   ],
   "source": [
    "%matplotlib inline\n",
    "import matplotlib.pyplot as plt\n",
    "\n",
    "plt.plot(history.history['mean_squared_error'], label='mse')\n",
    "plt.plot(history.history['mean_absolute_error'], label='mae')\n",
    "plt.legend()\n",
    "plt.show()"
   ]
  },
  {
   "cell_type": "code",
   "execution_count": 9,
   "metadata": {},
   "outputs": [
    {
     "name": "stdout",
     "output_type": "stream",
     "text": [
      "model metrics :  ['loss', 'mean_absolute_error', 'mean_squared_error']\n",
      "WARNING:tensorflow:Falling back from v2 loop because of error: Failed to find data adapter that can handle input: <class 'pandas.core.frame.DataFrame'>, <class 'NoneType'>\n",
      "Metric : loss = 65,023,402,337.38\n",
      "Metric : mean_absolute_error = 134,388.22\n",
      "Metric : mean_squared_error = 65,023,393,792.00\n"
     ]
    }
   ],
   "source": [
    "metric_names = model.metrics_names\n",
    "print (\"model metrics : \" , metric_names)\n",
    "metrics = model.evaluate(x_test, y_test, verbose=0)\n",
    "\n",
    "for idx, metric in enumerate(metric_names):\n",
    "    print (\"Metric : {} = {:,.2f}\".format (metric_names[idx], metrics[idx]))"
   ]
  },
  {
   "cell_type": "code",
   "execution_count": 10,
   "metadata": {},
   "outputs": [
    {
     "name": "stdout",
     "output_type": "stream",
     "text": [
      "WARNING:tensorflow:Falling back from v2 loop because of error: Failed to find data adapter that can handle input: <class 'pandas.core.frame.DataFrame'>, <class 'NoneType'>\n"
     ]
    },
    {
     "data": {
      "text/html": [
       "<div>\n",
       "<style scoped>\n",
       "    .dataframe tbody tr th:only-of-type {\n",
       "        vertical-align: middle;\n",
       "    }\n",
       "\n",
       "    .dataframe tbody tr th {\n",
       "        vertical-align: top;\n",
       "    }\n",
       "\n",
       "    .dataframe thead th {\n",
       "        text-align: right;\n",
       "    }\n",
       "</style>\n",
       "<table border=\"1\" class=\"dataframe\">\n",
       "  <thead>\n",
       "    <tr style=\"text-align: right;\">\n",
       "      <th></th>\n",
       "      <th>Bedrooms</th>\n",
       "      <th>Bathrooms</th>\n",
       "      <th>SqFtTotLiving</th>\n",
       "      <th>SqFtLot</th>\n",
       "      <th>actual_price</th>\n",
       "      <th>predicted_price</th>\n",
       "      <th>error</th>\n",
       "      <th>error_percentage</th>\n",
       "    </tr>\n",
       "  </thead>\n",
       "  <tbody>\n",
       "    <tr>\n",
       "      <td>6925</td>\n",
       "      <td>3</td>\n",
       "      <td>1.75</td>\n",
       "      <td>1350</td>\n",
       "      <td>8742</td>\n",
       "      <td>373300</td>\n",
       "      <td>340397.15625</td>\n",
       "      <td>32902.84375</td>\n",
       "      <td>8.814049</td>\n",
       "    </tr>\n",
       "    <tr>\n",
       "      <td>10580</td>\n",
       "      <td>5</td>\n",
       "      <td>3.00</td>\n",
       "      <td>2460</td>\n",
       "      <td>9975</td>\n",
       "      <td>450000</td>\n",
       "      <td>467254.43750</td>\n",
       "      <td>-17254.43750</td>\n",
       "      <td>3.834319</td>\n",
       "    </tr>\n",
       "    <tr>\n",
       "      <td>13379</td>\n",
       "      <td>3</td>\n",
       "      <td>2.50</td>\n",
       "      <td>2260</td>\n",
       "      <td>5220</td>\n",
       "      <td>485000</td>\n",
       "      <td>520533.56250</td>\n",
       "      <td>-35533.56250</td>\n",
       "      <td>7.326508</td>\n",
       "    </tr>\n",
       "    <tr>\n",
       "      <td>1132</td>\n",
       "      <td>2</td>\n",
       "      <td>1.50</td>\n",
       "      <td>830</td>\n",
       "      <td>1034</td>\n",
       "      <td>219950</td>\n",
       "      <td>303786.12500</td>\n",
       "      <td>-83836.12500</td>\n",
       "      <td>38.115992</td>\n",
       "    </tr>\n",
       "    <tr>\n",
       "      <td>20942</td>\n",
       "      <td>5</td>\n",
       "      <td>1.75</td>\n",
       "      <td>2040</td>\n",
       "      <td>8040</td>\n",
       "      <td>310000</td>\n",
       "      <td>405609.87500</td>\n",
       "      <td>-95609.87500</td>\n",
       "      <td>30.841895</td>\n",
       "    </tr>\n",
       "    <tr>\n",
       "      <td>...</td>\n",
       "      <td>...</td>\n",
       "      <td>...</td>\n",
       "      <td>...</td>\n",
       "      <td>...</td>\n",
       "      <td>...</td>\n",
       "      <td>...</td>\n",
       "      <td>...</td>\n",
       "      <td>...</td>\n",
       "    </tr>\n",
       "    <tr>\n",
       "      <td>3818</td>\n",
       "      <td>4</td>\n",
       "      <td>1.75</td>\n",
       "      <td>1890</td>\n",
       "      <td>4800</td>\n",
       "      <td>489200</td>\n",
       "      <td>412387.71875</td>\n",
       "      <td>76812.28125</td>\n",
       "      <td>15.701611</td>\n",
       "    </tr>\n",
       "    <tr>\n",
       "      <td>22803</td>\n",
       "      <td>3</td>\n",
       "      <td>2.75</td>\n",
       "      <td>2660</td>\n",
       "      <td>10004</td>\n",
       "      <td>450000</td>\n",
       "      <td>666534.68750</td>\n",
       "      <td>-216534.68750</td>\n",
       "      <td>48.118819</td>\n",
       "    </tr>\n",
       "    <tr>\n",
       "      <td>20370</td>\n",
       "      <td>3</td>\n",
       "      <td>2.50</td>\n",
       "      <td>2130</td>\n",
       "      <td>2520</td>\n",
       "      <td>567000</td>\n",
       "      <td>493106.62500</td>\n",
       "      <td>73893.37500</td>\n",
       "      <td>13.032341</td>\n",
       "    </tr>\n",
       "    <tr>\n",
       "      <td>4536</td>\n",
       "      <td>3</td>\n",
       "      <td>2.50</td>\n",
       "      <td>2520</td>\n",
       "      <td>3750</td>\n",
       "      <td>735000</td>\n",
       "      <td>605286.50000</td>\n",
       "      <td>129713.50000</td>\n",
       "      <td>17.648095</td>\n",
       "    </tr>\n",
       "    <tr>\n",
       "      <td>10743</td>\n",
       "      <td>4</td>\n",
       "      <td>2.50</td>\n",
       "      <td>3060</td>\n",
       "      <td>6272</td>\n",
       "      <td>504000</td>\n",
       "      <td>683685.75000</td>\n",
       "      <td>-179685.75000</td>\n",
       "      <td>35.651935</td>\n",
       "    </tr>\n",
       "  </tbody>\n",
       "</table>\n",
       "<p>5413 rows × 8 columns</p>\n",
       "</div>"
      ],
      "text/plain": [
       "       Bedrooms  Bathrooms  SqFtTotLiving  SqFtLot  actual_price  \\\n",
       "6925          3       1.75           1350     8742        373300   \n",
       "10580         5       3.00           2460     9975        450000   \n",
       "13379         3       2.50           2260     5220        485000   \n",
       "1132          2       1.50            830     1034        219950   \n",
       "20942         5       1.75           2040     8040        310000   \n",
       "...         ...        ...            ...      ...           ...   \n",
       "3818          4       1.75           1890     4800        489200   \n",
       "22803         3       2.75           2660    10004        450000   \n",
       "20370         3       2.50           2130     2520        567000   \n",
       "4536          3       2.50           2520     3750        735000   \n",
       "10743         4       2.50           3060     6272        504000   \n",
       "\n",
       "       predicted_price         error  error_percentage  \n",
       "6925      340397.15625   32902.84375          8.814049  \n",
       "10580     467254.43750  -17254.43750          3.834319  \n",
       "13379     520533.56250  -35533.56250          7.326508  \n",
       "1132      303786.12500  -83836.12500         38.115992  \n",
       "20942     405609.87500  -95609.87500         30.841895  \n",
       "...                ...           ...               ...  \n",
       "3818      412387.71875   76812.28125         15.701611  \n",
       "22803     666534.68750 -216534.68750         48.118819  \n",
       "20370     493106.62500   73893.37500         13.032341  \n",
       "4536      605286.50000  129713.50000         17.648095  \n",
       "10743     683685.75000 -179685.75000         35.651935  \n",
       "\n",
       "[5413 rows x 8 columns]"
      ]
     },
     "execution_count": 10,
     "metadata": {},
     "output_type": "execute_result"
    }
   ],
   "source": [
    "predictions = model.predict(x_test)\n",
    "predictions_df = pd.DataFrame(x_test_orig)  # use the original one, not scaled\n",
    "predictions_df['actual_price'] = y_test\n",
    "predictions_df['predicted_price'] = predictions\n",
    "predictions_df['error'] = predictions_df['actual_price'] - predictions_df['predicted_price'] \n",
    "predictions_df['error_percentage'] = predictions_df['error'].abs() * 100 / predictions_df['actual_price']\n",
    "\n",
    "predictions_df"
   ]
  },
  {
   "cell_type": "code",
   "execution_count": 11,
   "metadata": {},
   "outputs": [
    {
     "name": "stdout",
     "output_type": "stream",
     "text": [
      "number of predictions within benchmark error (5%) are  =  717  (13.2% of total)\n"
     ]
    }
   ],
   "source": [
    "## evaluation\n",
    "benchmark = 5  # 5%\n",
    "good_predictions = predictions_df[predictions_df['error_percentage'] <= benchmark]\n",
    "\n",
    "meeting_benchmark = good_predictions.shape[0] *100 / predictions_df.shape[0]\n",
    "\n",
    "print (\"number of predictions within benchmark error ({}%) are  =  {:,}  ({:.1f}% of total)\".\n",
    "       format (benchmark, good_predictions.shape[0], meeting_benchmark))"
   ]
  }
 ],
 "metadata": {
  "kernelspec": {
   "display_name": "tf2",
   "language": "python",
   "name": "tf2"
  },
  "language_info": {
   "codemirror_mode": {
    "name": "ipython",
    "version": 3
   },
   "file_extension": ".py",
   "mimetype": "text/x-python",
   "name": "python",
   "nbconvert_exporter": "python",
   "pygments_lexer": "ipython3",
   "version": "3.7.4"
  }
 },
 "nbformat": 4,
 "nbformat_minor": 4
}
