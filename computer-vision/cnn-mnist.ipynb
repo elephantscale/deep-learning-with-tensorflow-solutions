{
 "cells": [
  {
   "cell_type": "markdown",
   "metadata": {},
   "source": [
    "# Lab : Using Convolutional Neural Networks (CNN) to identify digits\n",
    "\n",
    "In this lab, we are going to setup a CNN to classify MNIST"
   ]
  },
  {
   "cell_type": "markdown",
   "metadata": {},
   "source": [
    "## About MNIST Data\n",
    "\n",
    "MNIST is a widely used dataset of hand written digits.\n",
    "\n",
    "<img src=\"../assets/images/mnist-1.jpeg\" />"
   ]
  },
  {
   "cell_type": "code",
   "execution_count": 1,
   "metadata": {},
   "outputs": [
    {
     "name": "stdout",
     "output_type": "stream",
     "text": [
      "Running in Google COLAB :  False\n"
     ]
    }
   ],
   "source": [
    "## Determine if we are running on google colab\n",
    "\n",
    "try:\n",
    "    import google.colab\n",
    "    RUNNING_IN_COLAB = True\n",
    "except:\n",
    "    RUNNING_IN_COLAB = False\n",
    "\n",
    "print (\"Running in Google COLAB : \", RUNNING_IN_COLAB)\n"
   ]
  },
  {
   "cell_type": "code",
   "execution_count": 2,
   "metadata": {},
   "outputs": [],
   "source": [
    "from __future__ import absolute_import, division, print_function, unicode_literals\n",
    "\n",
    "try:\n",
    "  # %tensorflow_version only exists in Colab.\n",
    "  %tensorflow_version 2.x\n",
    "except Exception:\n",
    "  pass\n",
    "\n",
    "import tensorflow as tf\n",
    "from tensorflow import keras"
   ]
  },
  {
   "cell_type": "markdown",
   "metadata": {
    "colab_type": "text",
    "id": "m6sLPjRC3vPG"
   },
   "source": [
    "## TF-GPU Debug\n",
    "The following block tests if TF is running on GPU."
   ]
  },
  {
   "cell_type": "code",
   "execution_count": 3,
   "metadata": {
    "colab": {
     "base_uri": "https://localhost:8080/",
     "height": 104
    },
    "colab_type": "code",
    "id": "0hg6UWFl3vPG",
    "outputId": "30a14a87-6833-4f9b-bd41-006e273f421a"
   },
   "outputs": [
    {
     "name": "stdout",
     "output_type": "stream",
     "text": [
      "Device mapping:\n",
      "/job:localhost/replica:0/task:0/device:XLA_CPU:0 -> device: XLA_CPU device\n",
      "/job:localhost/replica:0/task:0/device:GPU:0 -> device: 0, name: GeForce RTX 2070, pci bus id: 0000:01:00.0, compute capability: 7.5\n",
      "/job:localhost/replica:0/task:0/device:XLA_GPU:0 -> device: XLA_GPU device\n",
      "\n"
     ]
    }
   ],
   "source": [
    "## This block is to tweak TF running on GPU\n",
    "## You may comment this out, if you are not using GPU\n",
    "\n",
    "## ---- start Memory setting ----\n",
    "## Ask TF not to allocate all GPU memory at once.. allocate as needed\n",
    "## Without this the execution will fail with \"failed to initialize algorithm\" error\n",
    "\n",
    "from tensorflow.compat.v1.keras.backend import set_session\n",
    "config = tf.compat.v1.ConfigProto()\n",
    "config.gpu_options.allow_growth = True  # dynamically grow the memory used on the GPU\n",
    "config.log_device_placement = True  # to log device placement (on which device the operation ran)\n",
    "sess = tf.compat.v1.Session(config=config)\n",
    "set_session(sess)\n",
    "## ---- end Memory setting ----\n"
   ]
  },
  {
   "cell_type": "markdown",
   "metadata": {},
   "source": [
    "## Step 1: Download Data"
   ]
  },
  {
   "cell_type": "code",
   "execution_count": 4,
   "metadata": {},
   "outputs": [
    {
     "name": "stdout",
     "output_type": "stream",
     "text": [
      "train_images shape :  (60000, 28, 28)\n",
      "train_labels shape :  (60000,)\n",
      "test_images shape :  (10000, 28, 28)\n",
      "test_labels shape :  (10000,)\n"
     ]
    }
   ],
   "source": [
    "mnist = tf.keras.datasets.mnist\n",
    "\n",
    "(train_images, train_labels), (test_images, test_labels) = tf.keras.datasets.mnist.load_data()\n",
    "\n",
    "# backup just in case\n",
    "(train_images2, train_labels2), (test_images2, test_labels2) = tf.keras.datasets.mnist.load_data()\n",
    "\n",
    "\n",
    "\n",
    "\n",
    "print(\"train_images shape : \", train_images.shape)\n",
    "print(\"train_labels shape : \", train_labels.shape)\n",
    "print(\"test_images shape : \", test_images.shape)\n",
    "print(\"test_labels shape : \", test_labels.shape)"
   ]
  },
  {
   "cell_type": "markdown",
   "metadata": {},
   "source": [
    "## Step 2: Data Exploration"
   ]
  },
  {
   "cell_type": "code",
   "execution_count": 5,
   "metadata": {},
   "outputs": [
    {
     "name": "stdout",
     "output_type": "stream",
     "text": [
      "Displaying train index =  45794\n",
      "train label [45794] = 4 \n",
      "------------ raw data for train_image[45794] -------\n",
      "[[  0   0   0   0   0   0   0   0   0   0   0   0   0   0   0   0   0   0\n",
      "    0   0   0   0   0   0   0   0   0   0]\n",
      " [  0   0   0   0   0   0   0   0   0   0   0   0   0   0   0   0   0   0\n",
      "    0   0   0   0   0   0   0   0   0   0]\n",
      " [  0   0   0   0   0   0   0   0   0   0   0   0   0   0   0   0   0   0\n",
      "    0   0   0   0   0   0   0   0   0   0]\n",
      " [  0   0   0   0   0   0   0   0   0   0   0   0   0   0   0   0   0   0\n",
      "    0   0   0   0   0   0   0   0   0   0]\n",
      " [  0   0   0   0   0   0   0   0   0   0   0   0   0   0   0   0   0   0\n",
      "    0   0   0   0   0   0   0   0   0   0]\n",
      " [  0   0   0   0   0   0  64 255 128   0   0   0   0   0   0   0 191 255\n",
      "  191   0   0   0   0   0   0   0   0   0]\n",
      " [  0   0   0   0   0   0 255 255 128   0   0   0   0   0   0   0 255 255\n",
      "  255   0   0   0   0   0   0   0   0   0]\n",
      " [  0   0   0   0   0  64 255 255 128   0   0   0   0   0   0  64 255 255\n",
      "  191   0   0   0   0   0   0   0   0   0]\n",
      " [  0   0   0   0   0 128 255 255   0   0   0   0   0   0   0 128 255 255\n",
      "  128   0   0   0   0   0   0   0   0   0]\n",
      " [  0   0   0   0   0 128 255 255   0   0   0   0   0   0   0 128 255 255\n",
      "  128   0   0   0   0   0   0   0   0   0]\n",
      " [  0   0   0   0   0 128 255 255   0   0   0   0   0   0   0 128 255 255\n",
      "    0   0   0   0   0   0   0   0   0   0]\n",
      " [  0   0   0   0   0 128 255 255 128   0   0   0   0   0   0 255 255 191\n",
      "    0   0   0   0   0   0   0   0   0   0]\n",
      " [  0   0   0   0   0 128 255 255 128   0   0   0   0   0   0 255 255 128\n",
      "    0   0   0   0   0   0   0   0   0   0]\n",
      " [  0   0   0   0   0 128 255 255 191  64   0   0   0   0   0 255 255 128\n",
      "    0   0   0   0   0   0   0   0   0   0]\n",
      " [  0   0   0   0   0   0 191 255 255 255 191  64   0   0   0 255 255 128\n",
      "    0   0   0   0   0   0   0   0   0   0]\n",
      " [  0   0   0   0   0   0   0 128 255 255 255 255 255 191 191 255 255 128\n",
      "    0  64   0   0   0  64   0   0   0   0]\n",
      " [  0   0   0   0   0   0   0   0  64 128 255 255 255 255 255 255 255 255\n",
      "  255 255 255 255 255 255   0   0   0   0]\n",
      " [  0   0   0   0   0   0   0   0   0   0   0  64 128 128 191 255 255 255\n",
      "  255 255 191 128 128  64   0   0   0   0]\n",
      " [  0   0   0   0   0   0   0   0   0   0   0   0   0   0  64 255 255 128\n",
      "    0   0   0   0   0   0   0   0   0   0]\n",
      " [  0   0   0   0   0   0   0   0   0   0   0   0   0   0   0 255 255 128\n",
      "    0   0   0   0   0   0   0   0   0   0]\n",
      " [  0   0   0   0   0   0   0   0   0   0   0   0   0   0   0 255 255 128\n",
      "    0   0   0   0   0   0   0   0   0   0]\n",
      " [  0   0   0   0   0   0   0   0   0   0   0   0   0   0   0  64 255 255\n",
      "   64   0   0   0   0   0   0   0   0   0]\n",
      " [  0   0   0   0   0   0   0   0   0   0   0   0   0   0   0   0 191 255\n",
      "  255  64   0   0   0   0   0   0   0   0]\n",
      " [  0   0   0   0   0   0   0   0   0   0   0   0   0   0   0   0   0 191\n",
      "  255 255 128   0   0   0   0   0   0   0]\n",
      " [  0   0   0   0   0   0   0   0   0   0   0   0   0   0   0   0   0   0\n",
      "  128 255 255  64   0   0   0   0   0   0]\n",
      " [  0   0   0   0   0   0   0   0   0   0   0   0   0   0   0   0   0   0\n",
      "    0   0   0   0   0   0   0   0   0   0]\n",
      " [  0   0   0   0   0   0   0   0   0   0   0   0   0   0   0   0   0   0\n",
      "    0   0   0   0   0   0   0   0   0   0]\n",
      " [  0   0   0   0   0   0   0   0   0   0   0   0   0   0   0   0   0   0\n",
      "    0   0   0   0   0   0   0   0   0   0]]\n",
      "--------------------\n"
     ]
    },
    {
     "data": {
      "text/plain": [
       "<matplotlib.image.AxesImage at 0x7f260c0c73d0>"
      ]
     },
     "execution_count": 5,
     "metadata": {},
     "output_type": "execute_result"
    },
    {
     "data": {
      "image/png": "[encoded data removed]",
      "text/plain": [
       "<Figure size 432x288 with 1 Axes>"
      ]
     },
     "metadata": {
      "needs_background": "light"
     },
     "output_type": "display_data"
    }
   ],
   "source": [
    "## Run this cell a few times to randomly display some digit data\n",
    "\n",
    "import matplotlib.pyplot as plt\n",
    "import random\n",
    "\n",
    "index = random.randint(0, len(train_images))\n",
    "# index = 10\n",
    "print (\"Displaying train index = \", index)\n",
    "\n",
    "print(\"train label [{}] = {} \".format(index, train_labels[index]))\n",
    "print (\"------------ raw data for train_image[{}] -------\".format(index))\n",
    "print(train_images[index])\n",
    "print (\"--------------------\")\n",
    "\n",
    "plt.imshow(train_images[index])"
   ]
  },
  {
   "cell_type": "markdown",
   "metadata": {},
   "source": [
    "## Step 3 : Shape Data"
   ]
  },
  {
   "cell_type": "markdown",
   "metadata": {},
   "source": [
    "### 3.1 - Shape the array to 4 dimensional\n",
    "ConvNets expect data in 4D.  Let's add a channel dimension to our data."
   ]
  },
  {
   "cell_type": "code",
   "execution_count": 6,
   "metadata": {},
   "outputs": [
    {
     "name": "stdout",
     "output_type": "stream",
     "text": [
      "train_images shape :  (60000, 28, 28, 1)\n",
      "train_labels shape :  (60000,)\n",
      "test_images shape :  (10000, 28, 28, 1)\n",
      "test_labels shape :  (10000,)\n"
     ]
    }
   ],
   "source": [
    "## Reshape to add 'channel'.\n",
    "train_images = train_images.reshape((60000, 28, 28, 1))\n",
    "test_images = test_images.reshape((10000, 28, 28, 1))\n",
    "\n",
    "print(\"train_images shape : \", train_images.shape)\n",
    "print(\"train_labels shape : \", train_labels.shape)\n",
    "print(\"test_images shape : \", test_images.shape)\n",
    "print(\"test_labels shape : \", test_labels.shape)"
   ]
  },
  {
   "cell_type": "markdown",
   "metadata": {},
   "source": [
    "### 3.2 - Normalize Data\n",
    "The images are stored as a 2D array of pixels.  \n",
    "Each pixel is a value from 0 to 255  \n",
    "We are going to normalize them in the range of 0 to 1"
   ]
  },
  {
   "cell_type": "code",
   "execution_count": 7,
   "metadata": {},
   "outputs": [],
   "source": [
    "## Normalize pixel values to be between 0 and 1\n",
    "train_images, test_images = train_images / 255.0, test_images / 255.0"
   ]
  },
  {
   "cell_type": "code",
   "execution_count": 8,
   "metadata": {},
   "outputs": [
    {
     "name": "stdout",
     "output_type": "stream",
     "text": [
      "Displaying train index =  45794\n",
      "train label [45794] = 4 \n",
      "------------ raw data for train_image[45794] (just printing first 3 rows) -------\n",
      "[[[0.]\n",
      "  [0.]\n",
      "  [0.]\n",
      "  [0.]\n",
      "  [0.]\n",
      "  [0.]\n",
      "  [0.]\n",
      "  [0.]\n",
      "  [0.]\n",
      "  [0.]\n",
      "  [0.]\n",
      "  [0.]\n",
      "  [0.]\n",
      "  [0.]\n",
      "  [0.]\n",
      "  [0.]\n",
      "  [0.]\n",
      "  [0.]\n",
      "  [0.]\n",
      "  [0.]\n",
      "  [0.]\n",
      "  [0.]\n",
      "  [0.]\n",
      "  [0.]\n",
      "  [0.]\n",
      "  [0.]\n",
      "  [0.]\n",
      "  [0.]]\n",
      "\n",
      " [[0.]\n",
      "  [0.]\n",
      "  [0.]\n",
      "  [0.]\n",
      "  [0.]\n",
      "  [0.]\n",
      "  [0.]\n",
      "  [0.]\n",
      "  [0.]\n",
      "  [0.]\n",
      "  [0.]\n",
      "  [0.]\n",
      "  [0.]\n",
      "  [0.]\n",
      "  [0.]\n",
      "  [0.]\n",
      "  [0.]\n",
      "  [0.]\n",
      "  [0.]\n",
      "  [0.]\n",
      "  [0.]\n",
      "  [0.]\n",
      "  [0.]\n",
      "  [0.]\n",
      "  [0.]\n",
      "  [0.]\n",
      "  [0.]\n",
      "  [0.]]]\n",
      "--------------------\n"
     ]
    }
   ],
   "source": [
    "import matplotlib.pyplot as plt\n",
    "import random\n",
    "\n",
    "# index = random.randint(0, len(train_images))\n",
    "# index = 10\n",
    "print (\"Displaying train index = \", index)\n",
    "\n",
    "print(\"train label [{}] = {} \".format(index, train_labels[index]))\n",
    "print (\"------------ raw data for train_image[{}] (just printing first 3 rows) -------\".format(index))\n",
    "print(train_images[index][0:2])\n",
    "print (\"--------------------\")\n",
    "\n",
    "# plt.imshow(train_images[index])"
   ]
  },
  {
   "cell_type": "markdown",
   "metadata": {},
   "source": [
    "## Step 4 : Create Model\n",
    "\n",
    "### Neural Net Architecture\n",
    "\n",
    "<img src=\"../assets/images/lenet-architecture.png\" style=\"width:80%\"/>"
   ]
  },
  {
   "cell_type": "markdown",
   "metadata": {},
   "source": [
    "### 4.1 - Create a CNN\n",
    "\n",
    "The code below define the convolutional base using a common pattern: a stack of [Conv2D](https://www.tensorflow.org/api_docs/python/tf/keras/layers/Conv2D) and [MaxPooling2D](https://www.tensorflow.org/api_docs/python/tf/keras/layers/MaxPool2D) layers.\n",
    "\n",
    "As input, a CNN takes tensors of shape (image_height, image_width, color_channels), ignoring the batch size. If you are new to color channels, MNIST has one (because the images are grayscale), whereas a color image has three (R,G,B). In this example, we will configure our CNN to process inputs of shape (28, 28, 1), which is the format of MNIST images. We do this by passing the argument `input_shape` to our first layer."
   ]
  },
  {
   "cell_type": "code",
   "execution_count": 9,
   "metadata": {},
   "outputs": [
    {
     "name": "stdout",
     "output_type": "stream",
     "text": [
      "Model: \"sequential\"\n",
      "_________________________________________________________________\n",
      "Layer (type)                 Output Shape              Param #   \n",
      "=================================================================\n",
      "conv2d (Conv2D)              (None, 26, 26, 32)        320       \n",
      "_________________________________________________________________\n",
      "max_pooling2d (MaxPooling2D) (None, 13, 13, 32)        0         \n",
      "_________________________________________________________________\n",
      "conv2d_1 (Conv2D)            (None, 11, 11, 64)        18496     \n",
      "_________________________________________________________________\n",
      "max_pooling2d_1 (MaxPooling2 (None, 5, 5, 64)          0         \n",
      "=================================================================\n",
      "Total params: 18,816\n",
      "Trainable params: 18,816\n",
      "Non-trainable params: 0\n",
      "_________________________________________________________________\n",
      "None\n"
     ]
    }
   ],
   "source": [
    "model = tf.keras.Sequential( [ \n",
    "    tf.keras.layers.Conv2D(32, (3, 3), activation='relu', input_shape=(28, 28, 1)),\n",
    "    tf.keras.layers.MaxPooling2D((2, 2)),\n",
    "    tf.keras.layers.Conv2D(64, (3, 3), activation='relu'),\n",
    "    tf.keras.layers.MaxPooling2D((2, 2)),\n",
    "#     tf.keras.layers.Conv2D(64, (3, 3), activation='relu')\n",
    "])\n",
    "\n",
    "print (model.summary())"
   ]
  },
  {
   "cell_type": "markdown",
   "metadata": {},
   "source": [
    "Above, you can see that the output of every Conv2D and MaxPooling2D layer is a 3D tensor of shape (height, width, channels). The width and height dimensions tend to shrink as we go deeper in the network. The number of output channels for each Conv2D layer is controlled by the first argument (e.g., 32 or 64). Typically,  as the width and height shrink, we can afford (computationally) to add more output channels in each Conv2D layer."
   ]
  },
  {
   "cell_type": "markdown",
   "metadata": {},
   "source": [
    "### 4.2 - Add Dense layers on top\n",
    "To complete our model, we will feed the last output tensor from the convolutional base (of shape (3, 3, 64)) into one or more Dense layers to perform classification. Dense layers take vectors as input (which are 1D), while the current output is a 3D tensor. First, we will flatten (or unroll) the 3D output to 1D,  then add one or more Dense layers on top. MNIST has 10 output classes, so we use a final Dense layer with 10 outputs and a softmax activation."
   ]
  },
  {
   "cell_type": "code",
   "execution_count": 10,
   "metadata": {},
   "outputs": [
    {
     "name": "stdout",
     "output_type": "stream",
     "text": [
      "Model: \"sequential\"\n",
      "_________________________________________________________________\n",
      "Layer (type)                 Output Shape              Param #   \n",
      "=================================================================\n",
      "conv2d (Conv2D)              (None, 26, 26, 32)        320       \n",
      "_________________________________________________________________\n",
      "max_pooling2d (MaxPooling2D) (None, 13, 13, 32)        0         \n",
      "_________________________________________________________________\n",
      "conv2d_1 (Conv2D)            (None, 11, 11, 64)        18496     \n",
      "_________________________________________________________________\n",
      "max_pooling2d_1 (MaxPooling2 (None, 5, 5, 64)          0         \n",
      "_________________________________________________________________\n",
      "flatten (Flatten)            (None, 1600)              0         \n",
      "_________________________________________________________________\n",
      "dense (Dense)                (None, 128)               204928    \n",
      "_________________________________________________________________\n",
      "dense_1 (Dense)              (None, 10)                1290      \n",
      "=================================================================\n",
      "Total params: 225,034\n",
      "Trainable params: 225,034\n",
      "Non-trainable params: 0\n",
      "_________________________________________________________________\n",
      "None\n"
     ]
    }
   ],
   "source": [
    "model.add(tf.keras.layers.Flatten())\n",
    "model.add(tf.keras.layers.Dense(128, activation=tf.nn.relu))\n",
    "model.add(tf.keras.layers.Dense(10, activation=tf.nn.softmax))\n",
    "\n",
    "print(model.summary())"
   ]
  },
  {
   "cell_type": "markdown",
   "metadata": {},
   "source": [
    "### 4.3 - Compile and Train"
   ]
  },
  {
   "cell_type": "code",
   "execution_count": 11,
   "metadata": {},
   "outputs": [],
   "source": [
    "model.compile(optimizer=tf.keras.optimizers.Adam(),  # 'adam'\n",
    "              loss='sparse_categorical_crossentropy',\n",
    "              metrics=['accuracy'])"
   ]
  },
  {
   "cell_type": "markdown",
   "metadata": {},
   "source": [
    "## Step 5 - Setup Tensorboard"
   ]
  },
  {
   "cell_type": "code",
   "execution_count": 12,
   "metadata": {},
   "outputs": [
    {
     "name": "stdout",
     "output_type": "stream",
     "text": [
      "Saving TB logs to :  /tmp/tensorboard-logs/cnn-mnist/18-23-17\n"
     ]
    },
    {
     "data": {
      "text/html": [
       "\n",
       "      <iframe id=\"tensorboard-frame-ebca6da01b3ce154\" width=\"100%\" height=\"800\" frameborder=\"0\">\n",
       "      </iframe>\n",
       "      <script>\n",
       "        (function() {\n",
       "          const frame = document.getElementById(\"tensorboard-frame-ebca6da01b3ce154\");\n",
       "          const url = new URL(\"/\", window.location);\n",
       "          url.port = 6009;\n",
       "          frame.src = url;\n",
       "        })();\n",
       "      </script>\n",
       "  "
      ],
      "text/plain": [
       "<IPython.core.display.HTML object>"
      ]
     },
     "metadata": {},
     "output_type": "display_data"
    }
   ],
   "source": [
    "## This is fairly boiler plate code\n",
    "\n",
    "import datetime\n",
    "import os\n",
    "import shutil\n",
    "\n",
    "app_name = 'cnn-mnist'\n",
    "\n",
    "# timestamp  = datetime.datetime.now().strftime(\"%Y-%m-%d--%H-%M-%S\")\n",
    "\n",
    "tb_top_level_dir= '/tmp/tensorboard-logs'\n",
    "\n",
    "tb_app_dir = os.path.join (tb_top_level_dir, app_name)\n",
    "\n",
    "tb_logs_dir = os.path.join (tb_app_dir, datetime.datetime.now().strftime(\"%H-%M-%S\"))\n",
    "\n",
    "\n",
    "print (\"Saving TB logs to : \" , tb_logs_dir)\n",
    "\n",
    "#clear out old logs\n",
    "shutil.rmtree ( tb_app_dir, ignore_errors=True )\n",
    "\n",
    "tensorboard_callback = tf.keras.callbacks.TensorBoard(log_dir=tb_logs_dir, write_graph=True, \n",
    "                                                      write_images=True, histogram_freq=1)\n",
    "\n",
    "## This will embed Tensorboard right here in jupyter!\n",
    "%load_ext tensorboard\n",
    "%tensorboard --logdir $tb_logs_dir"
   ]
  },
  {
   "cell_type": "markdown",
   "metadata": {},
   "source": [
    "## Step 6 : Train"
   ]
  },
  {
   "cell_type": "code",
   "execution_count": 13,
   "metadata": {},
   "outputs": [
    {
     "name": "stdout",
     "output_type": "stream",
     "text": [
      "training starting ...\n",
      "Train on 48000 samples, validate on 12000 samples\n",
      "Epoch 1/10\n",
      "48000/48000 [==============================] - 5s 109us/sample - loss: 0.1480 - accuracy: 0.9537 - val_loss: 0.0581 - val_accuracy: 0.9825\n",
      "Epoch 2/10\n",
      "48000/48000 [==============================] - 4s 80us/sample - loss: 0.0480 - accuracy: 0.9855 - val_loss: 0.0467 - val_accuracy: 0.9857\n",
      "Epoch 3/10\n",
      "48000/48000 [==============================] - 4s 85us/sample - loss: 0.0321 - accuracy: 0.9896 - val_loss: 0.0402 - val_accuracy: 0.9884\n",
      "Epoch 4/10\n",
      "48000/48000 [==============================] - 4s 83us/sample - loss: 0.0232 - accuracy: 0.9929 - val_loss: 0.0467 - val_accuracy: 0.9872\n",
      "Epoch 5/10\n",
      "48000/48000 [==============================] - 4s 90us/sample - loss: 0.0176 - accuracy: 0.9939 - val_loss: 0.0510 - val_accuracy: 0.9860\n",
      "Epoch 6/10\n",
      "48000/48000 [==============================] - 4s 88us/sample - loss: 0.0121 - accuracy: 0.9959 - val_loss: 0.0419 - val_accuracy: 0.9892\n",
      "Epoch 7/10\n",
      "48000/48000 [==============================] - 4s 82us/sample - loss: 0.0111 - accuracy: 0.9964 - val_loss: 0.0396 - val_accuracy: 0.9903\n",
      "Epoch 8/10\n",
      "48000/48000 [==============================] - 4s 76us/sample - loss: 0.0081 - accuracy: 0.9970 - val_loss: 0.0451 - val_accuracy: 0.9895\n",
      "Epoch 9/10\n",
      "48000/48000 [==============================] - 4s 83us/sample - loss: 0.0082 - accuracy: 0.9971 - val_loss: 0.0419 - val_accuracy: 0.9895\n",
      "Epoch 10/10\n",
      "48000/48000 [==============================] - 4s 83us/sample - loss: 0.0060 - accuracy: 0.9979 - val_loss: 0.0505 - val_accuracy: 0.9903\n",
      "training done.\n",
      "CPU times: user 1min 2s, sys: 4.64 s, total: 1min 7s\n",
      "Wall time: 41.4 s\n"
     ]
    }
   ],
   "source": [
    "%%time\n",
    "\n",
    "epochs = 10\n",
    "\n",
    "print (\"training starting ...\")\n",
    "history = model.fit(train_images, train_labels, \n",
    "                    epochs=epochs, validation_split = 0.2, verbose=1,\n",
    "                    callbacks=[tensorboard_callback])\n",
    "print (\"training done.\")"
   ]
  },
  {
   "cell_type": "markdown",
   "metadata": {},
   "source": [
    "## Step 7 : See Training History"
   ]
  },
  {
   "cell_type": "code",
   "execution_count": 14,
   "metadata": {},
   "outputs": [
    {
     "data": {
      "image/png": "[encoded data removed]",
      "text/plain": [
       "<Figure size 432x288 with 1 Axes>"
      ]
     },
     "metadata": {
      "needs_background": "light"
     },
     "output_type": "display_data"
    }
   ],
   "source": [
    "%matplotlib inline\n",
    "import matplotlib.pyplot as plt\n",
    "\n",
    "plt.plot(history.history['accuracy'], label='train_accuracy')\n",
    "plt.plot(history.history['val_accuracy'], label='val_accuracy')\n",
    "plt.legend()\n",
    "plt.show()"
   ]
  },
  {
   "cell_type": "markdown",
   "metadata": {},
   "source": [
    "## Step 8 - Predict\n",
    "\n",
    "**==> Compare prediction time vs training time.  Prediction is very quick!**"
   ]
  },
  {
   "cell_type": "code",
   "execution_count": 15,
   "metadata": {},
   "outputs": [
    {
     "name": "stdout",
     "output_type": "stream",
     "text": [
      "predicting on 10,000 images\n",
      "CPU times: user 498 ms, sys: 28.6 ms, total: 527 ms\n",
      "Wall time: 340 ms\n"
     ]
    }
   ],
   "source": [
    "%%time \n",
    "\n",
    "print (\"predicting on {:,} images\".format(len(test_images)))\n",
    "predictions = model.predict(test_images)\n"
   ]
  },
  {
   "cell_type": "code",
   "execution_count": 16,
   "metadata": {},
   "outputs": [
    {
     "name": "stdout",
     "output_type": "stream",
     "text": [
      "random index =  9597\n",
      "test_label[9597] = 2.  So the number is 2\n",
      "prediction of test_image[9597] = [ 0.000  0.000  1.000  0.000  0.000  0.000  0.000  0.000  0.000  0.000]\n",
      "max softmax output =  1.0\n",
      "index of max softmax output = 2.  So the prediction is same (2)\n"
     ]
    },
    {
     "data": {
      "text/plain": [
       "<matplotlib.image.AxesImage at 0x7f259c5ece10>"
      ]
     },
     "execution_count": 16,
     "metadata": {},
     "output_type": "execute_result"
    },
    {
     "data": {
      "image/png": "[encoded data removed]",
      "text/plain": [
       "<Figure size 432x288 with 1 Axes>"
      ]
     },
     "metadata": {
      "needs_background": "light"
     },
     "output_type": "display_data"
    }
   ],
   "source": [
    "## Print a sample prediction\n",
    "\n",
    "%matplotlib inline\n",
    "import matplotlib.pyplot as plt\n",
    "import random\n",
    "import numpy as np\n",
    "from pprint import pprint\n",
    "\n",
    "np.set_printoptions(formatter={'float': '{: 0.3f}'.format})\n",
    "\n",
    "index = random.randint(0, len(test_images))\n",
    "\n",
    "print (\"random index = \", index)\n",
    "print (\"test_label[{}] = {}.  So the number is {}\".format(index, test_labels[index], test_labels[index]))\n",
    "print (\"prediction of test_image[{}] = {}\".format(index, predictions[index]))\n",
    "print ('max softmax output = ', np.amax(predictions[index]))\n",
    "print ('index of max softmax output = {}.  So the prediction is same ({})'.format(np.argmax(predictions[index]), np.argmax(predictions[index])))\n",
    "\n",
    "plt.imshow(test_images2[index])"
   ]
  },
  {
   "cell_type": "markdown",
   "metadata": {},
   "source": [
    "## Step 9 : Evaluate the Model "
   ]
  },
  {
   "cell_type": "markdown",
   "metadata": {},
   "source": [
    "### 9.1 - Metrics"
   ]
  },
  {
   "cell_type": "code",
   "execution_count": 17,
   "metadata": {},
   "outputs": [
    {
     "name": "stdout",
     "output_type": "stream",
     "text": [
      "model metrics :  ['loss', 'accuracy']\n",
      "Metric : loss = 0.041\n",
      "Metric : accuracy = 0.991\n"
     ]
    }
   ],
   "source": [
    "metric_names = model.metrics_names\n",
    "print (\"model metrics : \" , metric_names)\n",
    "\n",
    "metrics = model.evaluate(test_images, test_labels, verbose=0)\n",
    "\n",
    "for idx, metric in enumerate(metric_names):\n",
    "    print (\"Metric : {} = {:,.3f}\".format (metric_names[idx], metrics[idx]))"
   ]
  },
  {
   "cell_type": "markdown",
   "metadata": {},
   "source": [
    "### 9.2 - Confusion Matrix"
   ]
  },
  {
   "cell_type": "code",
   "execution_count": 18,
   "metadata": {},
   "outputs": [
    {
     "name": "stdout",
     "output_type": "stream",
     "text": [
      "predictions shape :  (10000, 10)\n",
      "prediction 0 :  [ 0.000  0.000  0.000  0.000  0.000  0.000  0.000  1.000  0.000  0.000]\n",
      "prediction 1 :  [ 0.000  0.000  1.000  0.000  0.000  0.000  0.000  0.000  0.000  0.000]\n"
     ]
    }
   ],
   "source": [
    "## our predictions is an array of arrays\n",
    "print('predictions shape : ', predictions.shape)\n",
    "print ('prediction 0 : ' , predictions[0])\n",
    "print ('prediction 1 : ' , predictions[1])"
   ]
  },
  {
   "cell_type": "code",
   "execution_count": 19,
   "metadata": {},
   "outputs": [
    {
     "name": "stdout",
     "output_type": "stream",
     "text": [
      "prediction2 0 :  7\n",
      "prediction2 1 :  2\n"
     ]
    }
   ],
   "source": [
    "## We need to find the final output (max of softmax probabilities for each prediction)\n",
    "predictions2 = [ np.argmax(p) for p in predictions]\n",
    "print ('prediction2 0 : ' , predictions2[0])\n",
    "print ('prediction2 1 : ' , predictions2[1])"
   ]
  },
  {
   "cell_type": "code",
   "execution_count": 20,
   "metadata": {},
   "outputs": [
    {
     "data": {
      "text/plain": [
       "array([[ 973,    0,    1,    0,    1,    0,    3,    1,    1,    0],\n",
       "       [   0, 1129,    0,    2,    0,    0,    1,    2,    1,    0],\n",
       "       [   0,    0, 1025,    0,    1,    0,    0,    5,    1,    0],\n",
       "       [   0,    0,    2, 1005,    0,    2,    0,    1,    0,    0],\n",
       "       [   0,    0,    1,    0,  977,    0,    0,    0,    0,    4],\n",
       "       [   1,    0,    1,   11,    0,  874,    2,    0,    0,    3],\n",
       "       [   2,    2,    0,    0,    6,    2,  944,    0,    2,    0],\n",
       "       [   0,    1,    3,    0,    0,    0,    0, 1022,    0,    2],\n",
       "       [   2,    0,    1,    1,    0,    0,    0,    0,  968,    2],\n",
       "       [   0,    1,    0,    0,    6,    1,    0,    6,    2,  993]])"
      ]
     },
     "execution_count": 20,
     "metadata": {},
     "output_type": "execute_result"
    }
   ],
   "source": [
    "from sklearn.metrics import confusion_matrix\n",
    "import seaborn as sns\n",
    "\n",
    "cm = confusion_matrix(test_labels, predictions2, labels = [0,1,2,3,4,5,6,7,8,9])\n",
    "cm"
   ]
  },
  {
   "cell_type": "code",
   "execution_count": 21,
   "metadata": {},
   "outputs": [
    {
     "data": {
      "text/plain": [
       "[]"
      ]
     },
     "execution_count": 21,
     "metadata": {},
     "output_type": "execute_result"
    },
    {
     "data": {
      "image/png": "[encoded data removed]",
      "text/plain": [
       "<Figure size 576x432 with 2 Axes>"
      ]
     },
     "metadata": {
      "needs_background": "light"
     },
     "output_type": "display_data"
    }
   ],
   "source": [
    "import matplotlib.pyplot as plt\n",
    "import seaborn as sns\n",
    "\n",
    "plt.figure(figsize = (8,6))\n",
    "\n",
    "# colormaps : cmap=\"YlGnBu\" , cmap=\"Greens\", cmap=\"Blues\",  cmap=\"Reds\"\n",
    "sns.heatmap(cm, annot=True, cmap=\"Reds\", fmt='d').plot()"
   ]
  },
  {
   "cell_type": "markdown",
   "metadata": {},
   "source": [
    "### 9.3 - Metrics Calculated from Confusion Matrix"
   ]
  },
  {
   "cell_type": "code",
   "execution_count": 22,
   "metadata": {},
   "outputs": [
    {
     "name": "stdout",
     "output_type": "stream",
     "text": [
      "{'0': {'f1-score': 0.9938712972420838,\n",
      "       'precision': 0.9948875255623721,\n",
      "       'recall': 0.9928571428571429,\n",
      "       'support': 980},\n",
      " '1': {'f1-score': 0.9955908289241623,\n",
      "       'precision': 0.9964695498676082,\n",
      "       'recall': 0.9947136563876652,\n",
      "       'support': 1135},\n",
      " '2': {'f1-score': 0.9922555663117135,\n",
      "       'precision': 0.9912959381044487,\n",
      "       'recall': 0.9932170542635659,\n",
      "       'support': 1032},\n",
      " '3': {'f1-score': 0.9906357811729917,\n",
      "       'precision': 0.9862610402355251,\n",
      "       'recall': 0.995049504950495,\n",
      "       'support': 1010},\n",
      " '4': {'f1-score': 0.9903699949315763,\n",
      "       'precision': 0.9858728557013118,\n",
      "       'recall': 0.994908350305499,\n",
      "       'support': 982},\n",
      " '5': {'f1-score': 0.987012987012987,\n",
      "       'precision': 0.9943117178612059,\n",
      "       'recall': 0.9798206278026906,\n",
      "       'support': 892},\n",
      " '6': {'f1-score': 0.989517819706499,\n",
      "       'precision': 0.9936842105263158,\n",
      "       'recall': 0.9853862212943633,\n",
      "       'support': 958},\n",
      " '7': {'f1-score': 0.9898305084745763,\n",
      "       'precision': 0.9855351976856316,\n",
      "       'recall': 0.9941634241245136,\n",
      "       'support': 1028},\n",
      " '8': {'f1-score': 0.9933299127757824,\n",
      "       'precision': 0.9928205128205129,\n",
      "       'recall': 0.9938398357289527,\n",
      "       'support': 974},\n",
      " '9': {'f1-score': 0.9865871833084948,\n",
      "       'precision': 0.9890438247011952,\n",
      "       'recall': 0.9841427155599604,\n",
      "       'support': 1009},\n",
      " 'accuracy': 0.991,\n",
      " 'macro avg': {'f1-score': 0.9909001879860868,\n",
      "               'precision': 0.9910182373066128,\n",
      "               'recall': 0.990809853327485,\n",
      "               'support': 10000},\n",
      " 'weighted avg': {'f1-score': 0.9909971901975543,\n",
      "                  'precision': 0.9910209025059141,\n",
      "                  'recall': 0.991,\n",
      "                  'support': 10000}}\n"
     ]
    }
   ],
   "source": [
    "from sklearn.metrics import classification_report\n",
    "from pprint import pprint\n",
    "\n",
    "pprint(classification_report(test_labels, predictions2, output_dict=True))"
   ]
  },
  {
   "cell_type": "markdown",
   "metadata": {},
   "source": [
    "## Step 10 : Improve the Model\n",
    "\n",
    "Try the following exercises\n",
    "\n",
    "**1 - Increase epochs**  \n",
    "- In Step-6, increase epochs to 10\n",
    "- Rerun the notebook\n",
    "- did the accuracy improve?\n",
    "- how much the training time go up?"
   ]
  },
  {
   "cell_type": "code",
   "execution_count": null,
   "metadata": {},
   "outputs": [],
   "source": []
  }
 ],
 "metadata": {
  "kernelspec": {
   "display_name": "TensorFlow-GPU",
   "language": "python",
   "name": "tf2-gpu"
  },
  "language_info": {
   "codemirror_mode": {
    "name": "ipython",
    "version": 3
   },
   "file_extension": ".py",
   "mimetype": "text/x-python",
   "name": "python",
   "nbconvert_exporter": "python",
   "pygments_lexer": "ipython3",
   "version": "3.7.7"
  }
 },
 "nbformat": 4,
 "nbformat_minor": 4
}
