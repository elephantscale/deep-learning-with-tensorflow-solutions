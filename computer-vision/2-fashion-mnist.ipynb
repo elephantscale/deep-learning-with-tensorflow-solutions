{
 "cells": [
  {
   "cell_type": "markdown",
   "metadata": {},
   "source": [
    "# Lab: Predicting type of cloth using Convolutional Neural Network (CNN)\n",
    "\n",
    "Fashion MNIST is a drop in replacement for MNIST!"
   ]
  },
  {
   "cell_type": "markdown",
   "metadata": {},
   "source": [
    "## About Fashion mnist\n",
    "\n",
    "Fashion-MNIST is a dataset of Zalando’s article images — consisting of a training set of 60,000 examples and a test set of 10,000 examples. Each example is a 28x28 grayscale image, associated with a label from 10 classes.\n",
    "\n",
    "In other words, we have 70,000 images of 28 pixels width and 28 pixels height in greyscale. Each image is showing one of 10 possible clothing types. \n",
    "\n",
    "Here is one:\n",
    "\n",
    "<img src=\"../assets/images/fashion-mnist-2.png\">\n",
    "\n",
    "Here are some images from the dataset along with the clothing they are showing:\n",
    "\n",
    "<img src=\"../assets/images/fashion-mnist-1.png\">\n",
    "\n",
    "Here are all different types of clothing:\n",
    "\n",
    "\n",
    "\n",
    "| Label | Description |\n",
    "|-------|-------------|\n",
    "| 0     | T-shirt/top |\n",
    "| 1     | Trouser     |\n",
    "| 2     | Pullover    |\n",
    "| 3     | Dress       |\n",
    "| 4     | Coat        |\n",
    "| 5     | Sandal      |\n",
    "| 6     | Shirt       |\n",
    "| 7     | Sneaker     |\n",
    "| 8     | Bag         |\n",
    "| 9     | Ankle boot  |"
   ]
  },
  {
   "cell_type": "code",
   "execution_count": 1,
   "metadata": {},
   "outputs": [],
   "source": [
    "try:\n",
    "  # %tensorflow_version only exists in Colab.\n",
    "  %tensorflow_version 2.x\n",
    "except Exception:\n",
    "  pass\n",
    "\n",
    "import tensorflow as tf\n",
    "from tensorflow import keras\n",
    "import numpy as np"
   ]
  },
  {
   "cell_type": "code",
   "execution_count": 2,
   "metadata": {},
   "outputs": [
    {
     "name": "stdout",
     "output_type": "stream",
     "text": [
      "Running in Google COLAB :  False\n"
     ]
    }
   ],
   "source": [
    "# Install the package for running tensorboard on google colaboration\n",
    "try:\n",
    "    import google.colab\n",
    "    IN_COLAB = True\n",
    "except:\n",
    "    IN_COLAB = False\n",
    "\n",
    "print (\"Running in Google COLAB : \", IN_COLAB)\n"
   ]
  },
  {
   "cell_type": "markdown",
   "metadata": {},
   "source": [
    "## Step 1: Download data"
   ]
  },
  {
   "cell_type": "code",
   "execution_count": 3,
   "metadata": {},
   "outputs": [
    {
     "name": "stdout",
     "output_type": "stream",
     "text": [
      "train_images shape :  (60000, 28, 28)\n",
      "train_labels shape :  (60000,)\n",
      "test_images shape :  (10000, 28, 28)\n",
      "test_labels shape :  (10000,)\n"
     ]
    }
   ],
   "source": [
    "(train_images, train_labels), (test_images, test_labels) = keras.datasets.fashion_mnist.load_data()\n",
    "\n",
    "# backup\n",
    "(train_images2, train_labels2), (test_images2, test_labels2) = keras.datasets.fashion_mnist.load_data()\n",
    "\n",
    "print(\"train_images shape : \", train_images.shape)\n",
    "print(\"train_labels shape : \", train_labels.shape)\n",
    "print(\"test_images shape : \", test_images.shape)\n",
    "print(\"test_labels shape : \", test_labels.shape)"
   ]
  },
  {
   "cell_type": "markdown",
   "metadata": {},
   "source": [
    "## Step 2 : Data Exploration"
   ]
  },
  {
   "cell_type": "code",
   "execution_count": 4,
   "metadata": {},
   "outputs": [
    {
     "name": "stdout",
     "output_type": "stream",
     "text": [
      "Displaying train index =  22404\n",
      "train label [22404] = 5 \n",
      "------------ raw data for train_image[22404] -------\n",
      "[[  0   0   0   0   0   0   0   0   0   0   0   0   0   0   0   0   0   0\n",
      "    0   0   0   0   0   0   0   0   0   0]\n",
      " [  0   0   0   0   0   0   0   0   0   0   0   0   0   0   0   0   0   0\n",
      "    0   0   0   0   0   0   0   0   0   0]\n",
      " [  0   0   0   0   0   0   0   0   0   0   0   0   0   0   0   0   0   0\n",
      "    0   0   0   0   0   0   0   0   0   0]\n",
      " [  0   0   0   0   0   0   0   0   0   0   0   0   0   0   0   0   0   0\n",
      "    0   0   0   0   0   0   0   0   0   0]\n",
      " [  0   0   0   0   0   0   0   0   0   0   0   0   0   0   0   0   0   0\n",
      "    0   0   0   0   0   0   0   0   0   0]\n",
      " [  0   0   0   0   0   0   0   0   0   0   0   0   0   0   0   0   0   0\n",
      "    0   0   0   0   0   0   0   0   0   0]\n",
      " [  0   0   0   0   0   0   0   0   0   0   0   0   0   0   0   0   0   0\n",
      "    0   0   0   0   0   0   0   0   0   0]\n",
      " [  0   0   0   0   0   0   0   0   0   0   0   0   0   0   0   0   0   0\n",
      "    0   0   0   0  18  48  36   1   0   0]\n",
      " [  0   0   0   0   0   0   0   0   0   0   0   0   0   0   0  36  28   0\n",
      "    0   0   0  36  21  29   5  14   0   0]\n",
      " [  0   0   0   0   0   0   0   0   0   0   0   0   0   0   0 114 145 100\n",
      "  153  84  38  30  80   5  40   6   0   0]\n",
      " [  0   0   0   0   0   0   0   0   0   0   0   0   0   1   0 103 130  86\n",
      "   82  46  50  55 133   6   6   0   0   0]\n",
      " [  0   0   0   0   2   0   0   0   0   6   0   0   0   0   0  46  92 136\n",
      "   44   7  34  17  20  28  59  80   0   0]\n",
      " [  0   0   0   0   0   0  26  11   8   5  18   4   0   0   0   0   0  48\n",
      "   61  34  44  54  52  40  49  26   0   1]\n",
      " [  0   0   0   0   0  12  93  61  15  51  69  56  34   0   0   2   0   0\n",
      "   21   0   5   0   1  16   0   0   0   0]\n",
      " [  0   1   1   0   0   0   0   1  47  49  42   0 131  59   0   0   0   0\n",
      "    0   0   0   0   3  21  30  62  61  42]\n",
      " [  0   0   0   0  25 152 168 254   0  23 142  77 181  75   0   5  23  54\n",
      "  112 152 186 185 207 206 207 208 221 153]\n",
      " [ 14  45  47   5  54 180 112  97   1  16  82   0   6  54  80  97  86  94\n",
      "  121 120 122 109 100  95  85  73  77  10]\n",
      " [  9  23   9  29  28  11  13  25  66  45  54  62  64  32   5   0   0   0\n",
      "    0   0   0   0   0   0   0   0   0   0]\n",
      " [ 89 152 126 118  90  75  49  33   9  11  24  32  35  63  85 113 133 146\n",
      "  159 164 169 172 177 178 182 193 202  46]\n",
      " [  0  54  97 142 174 200 222 217 226 218 216 212 205 194 181 166 150 138\n",
      "  129 130 123 112 110 111 107  97  84   0]\n",
      " [  0   0   0   0   0   0   0   0   9   8   0   0   0   0   0   0   0   0\n",
      "    0   0   0   0   0   0   0   0   0   0]\n",
      " [  0   0   0   0   0   0   0   0   0   0   0   0   0   0   0   0   0   0\n",
      "    0   0   0   0   0   0   0   0   0   0]\n",
      " [  0   0   0   0   0   0   0   0   0   0   0   0   0   0   0   0   0   0\n",
      "    0   0   0   0   0   0   0   0   0   0]\n",
      " [  0   0   0   0   0   0   0   0   0   0   0   0   0   0   0   0   0   0\n",
      "    0   0   0   0   0   0   0   0   0   0]\n",
      " [  0   0   0   0   0   0   0   0   0   0   0   0   0   0   0   0   0   0\n",
      "    0   0   0   0   0   0   0   0   0   0]\n",
      " [  0   0   0   0   0   0   0   0   0   0   0   0   0   0   0   0   0   0\n",
      "    0   0   0   0   0   0   0   0   0   0]\n",
      " [  0   0   0   0   0   0   0   0   0   0   0   0   0   0   0   0   0   0\n",
      "    0   0   0   0   0   0   0   0   0   0]\n",
      " [  0   0   0   0   0   0   0   0   0   0   0   0   0   0   0   0   0   0\n",
      "    0   0   0   0   0   0   0   0   0   0]]\n",
      "--------------------\n"
     ]
    },
    {
     "data": {
      "image/png": "[encoded data removed]",
      "text/plain": [
       "<Figure size 432x288 with 1 Axes>"
      ]
     },
     "metadata": {
      "needs_background": "light"
     },
     "output_type": "display_data"
    }
   ],
   "source": [
    "## Run this cell a few times to randomly display some digit data\n",
    "%matplotlib inline\n",
    "import matplotlib.pyplot as plt\n",
    "import random\n",
    "\n",
    "index = random.randint(0, len(train_images))\n",
    "# index = 10\n",
    "print (\"Displaying train index = \", index)\n",
    "\n",
    "print(\"train label [{}] = {} \".format(index, train_labels[index]))\n",
    "print (\"------------ raw data for train_image[{}] -------\".format(index))\n",
    "print(train_images[index])\n",
    "print (\"--------------------\")\n",
    "\n",
    "plt.imshow(train_images[index])\n",
    "plt.show()"
   ]
  },
  {
   "cell_type": "markdown",
   "metadata": {},
   "source": [
    "## Step 3: Shape data"
   ]
  },
  {
   "cell_type": "code",
   "execution_count": 5,
   "metadata": {},
   "outputs": [],
   "source": [
    "train_images  = train_images / 255.0\n",
    "test_images = test_images / 255.0"
   ]
  },
  {
   "cell_type": "markdown",
   "metadata": {},
   "source": [
    "## Step 4: Create model\n",
    "\n",
    "### TODO : Sketch the neural net\n",
    "- What is the input dimensions\n",
    "- how many neurons in layers\n",
    "- how many output neurons\n",
    "\n",
    "<img src=\"../assets/images/neural-net-unknown.png\" style=\"width:30%\"/>"
   ]
  },
  {
   "cell_type": "code",
   "execution_count": 6,
   "metadata": {},
   "outputs": [
    {
     "name": "stdout",
     "output_type": "stream",
     "text": [
      "Model: \"sequential\"\n",
      "_________________________________________________________________\n",
      "Layer (type)                 Output Shape              Param #   \n",
      "=================================================================\n",
      "reshape (Reshape)            (None, 784)               0         \n",
      "_________________________________________________________________\n",
      "dense (Dense)                (None, 128)               100480    \n",
      "_________________________________________________________________\n",
      "dense_1 (Dense)              (None, 10)                1290      \n",
      "=================================================================\n",
      "Total params: 101,770\n",
      "Trainable params: 101,770\n",
      "Non-trainable params: 0\n",
      "_________________________________________________________________\n",
      "None\n"
     ]
    }
   ],
   "source": [
    "## Model 1\n",
    "\n",
    "model = tf.keras.models.Sequential([\n",
    "            keras.layers.Reshape(\n",
    "              target_shape=(28 * 28,), input_shape=(28, 28)\n",
    "              ),\n",
    "            tf.keras.layers.Dense(128, activation=tf.nn.relu), \n",
    "            tf.keras.layers.Dense(10, activation=tf.nn.softmax)\n",
    "            ])\n",
    "\n",
    "\n",
    "model.compile(\n",
    "  optimizer=tf.keras.optimizers.Adam(),  # 'adam'\n",
    "  loss='sparse_categorical_crossentropy',\n",
    "  metrics=['accuracy'])\n",
    "\n",
    "print (model.summary())"
   ]
  },
  {
   "cell_type": "code",
   "execution_count": 7,
   "metadata": {},
   "outputs": [],
   "source": [
    "## Model 2\n",
    "\n",
    "# model = keras.Sequential([\n",
    "#     keras.layers.Reshape(\n",
    "#       target_shape=(28 * 28,), input_shape=(28, 28)\n",
    "#     ),\n",
    "#     keras.layers.Dense(\n",
    "#       units=256, activation=tf.nn.relu  #'relu'\n",
    "#     ),\n",
    "#     keras.layers.Dense(\n",
    "#       units=192, activation=tf.nn.relu  #'relu'\n",
    "#     ),\n",
    "#     keras.layers.Dense(\n",
    "#       units=128, activation=tf.nn.relu  #'relu'\n",
    "#     ),\n",
    "#     keras.layers.Dense(\n",
    "#       units=10, activation=tf.nn.softmax #'softmax'\n",
    "#     )\n",
    "# ])\n",
    "\n",
    "# model.compile(\n",
    "#   optimizer=tf.keras.optimizers.Adam(),  # 'adam'\n",
    "#   loss='sparse_categorical_crossentropy',\n",
    "#   metrics=['accuracy'])\n",
    "\n",
    "# print (model.summary())"
   ]
  },
  {
   "cell_type": "markdown",
   "metadata": {},
   "source": [
    "## Step 5 - Setup Tensorboard"
   ]
  },
  {
   "cell_type": "code",
   "execution_count": 8,
   "metadata": {},
   "outputs": [
    {
     "name": "stdout",
     "output_type": "stream",
     "text": [
      "Saving TB logs to :  /tmp/tensorboard-logs/cnn-fashion-mnist/2019-09-09--21-23-53\n"
     ]
    }
   ],
   "source": [
    "## This is fairly boiler plate code\n",
    "\n",
    "import datetime\n",
    "import os\n",
    "\n",
    "app_name = 'cnn-fashion-mnist' # you can change this, if you like\n",
    "\n",
    "tb_top_level_dir= '/tmp/tensorboard-logs'\n",
    "tensorboard_logs_dir= os.path.join (tb_top_level_dir, app_name, \n",
    "                                    datetime.datetime.now().strftime(\"%Y-%m-%d--%H-%M-%S\"))\n",
    "print (\"Saving TB logs to : \" , tensorboard_logs_dir)\n",
    "\n",
    "tensorboard_callback = tf.keras.callbacks.TensorBoard(log_dir=tensorboard_logs_dir, histogram_freq=1)"
   ]
  },
  {
   "cell_type": "markdown",
   "metadata": {},
   "source": [
    "## Step 6: Training the model\n"
   ]
  },
  {
   "cell_type": "code",
   "execution_count": 9,
   "metadata": {},
   "outputs": [
    {
     "name": "stdout",
     "output_type": "stream",
     "text": [
      "training starting ...\n",
      "Train on 48000 samples, validate on 12000 samples\n",
      "Epoch 1/10\n",
      "WARNING:tensorflow:Entity <function Function._initialize_uninitialized_variables.<locals>.initialize_variables at 0x7f7d682bf5f0> could not be transformed and will be executed as-is. Please report this to the AutoGraph team. When filing the bug, set the verbosity to 10 (on Linux, `export AUTOGRAPH_VERBOSITY=10`) and attach the full output. Cause: module 'gast' has no attribute 'Num'\n",
      "WARNING: Entity <function Function._initialize_uninitialized_variables.<locals>.initialize_variables at 0x7f7d682bf5f0> could not be transformed and will be executed as-is. Please report this to the AutoGraph team. When filing the bug, set the verbosity to 10 (on Linux, `export AUTOGRAPH_VERBOSITY=10`) and attach the full output. Cause: module 'gast' has no attribute 'Num'\n",
      "48000/48000 [==============================] - 2s 37us/sample - loss: 0.5140 - accuracy: 0.8200 - val_loss: 0.4267 - val_accuracy: 0.8493\n",
      "Epoch 2/10\n",
      "48000/48000 [==============================] - 2s 32us/sample - loss: 0.3824 - accuracy: 0.8618 - val_loss: 0.3794 - val_accuracy: 0.8638\n",
      "Epoch 3/10\n",
      "48000/48000 [==============================] - 2s 32us/sample - loss: 0.3453 - accuracy: 0.8746 - val_loss: 0.3546 - val_accuracy: 0.8719\n",
      "Epoch 4/10\n",
      "48000/48000 [==============================] - 2s 32us/sample - loss: 0.3187 - accuracy: 0.8826 - val_loss: 0.3475 - val_accuracy: 0.8730\n",
      "Epoch 5/10\n",
      "48000/48000 [==============================] - 2s 33us/sample - loss: 0.2997 - accuracy: 0.8898 - val_loss: 0.3376 - val_accuracy: 0.8783\n",
      "Epoch 6/10\n",
      "48000/48000 [==============================] - 2s 33us/sample - loss: 0.2853 - accuracy: 0.8939 - val_loss: 0.3277 - val_accuracy: 0.8815\n",
      "Epoch 7/10\n",
      "48000/48000 [==============================] - 2s 32us/sample - loss: 0.2709 - accuracy: 0.8991 - val_loss: 0.3394 - val_accuracy: 0.8823\n",
      "Epoch 8/10\n",
      "48000/48000 [==============================] - 2s 32us/sample - loss: 0.2571 - accuracy: 0.9046 - val_loss: 0.3432 - val_accuracy: 0.8775\n",
      "Epoch 9/10\n",
      "48000/48000 [==============================] - 2s 32us/sample - loss: 0.2485 - accuracy: 0.9072 - val_loss: 0.3303 - val_accuracy: 0.8813\n",
      "Epoch 10/10\n",
      "48000/48000 [==============================] - 2s 33us/sample - loss: 0.2390 - accuracy: 0.9107 - val_loss: 0.3199 - val_accuracy: 0.8890\n",
      "training done.\n",
      "CPU times: user 36.2 s, sys: 4.83 s, total: 41 s\n",
      "Wall time: 15.7 s\n"
     ]
    }
   ],
   "source": [
    "%%time\n",
    "\n",
    "epochs=10\n",
    "print (\"training starting ...\")\n",
    "\n",
    "history = model.fit(\n",
    "    train_images,\n",
    "    train_labels,\n",
    "    epochs=epochs,\n",
    "    validation_split=0.2,\n",
    "    verbose=1,\n",
    "    callbacks=[tensorboard_callback]\n",
    ")\n",
    "\n",
    "print (\"training done.\")"
   ]
  },
  {
   "cell_type": "markdown",
   "metadata": {},
   "source": [
    "## Step 7 : See Training History"
   ]
  },
  {
   "cell_type": "code",
   "execution_count": 10,
   "metadata": {},
   "outputs": [
    {
     "data": {
      "image/png": "[encoded data removed]",
      "text/plain": [
       "<Figure size 432x288 with 1 Axes>"
      ]
     },
     "metadata": {
      "needs_background": "light"
     },
     "output_type": "display_data"
    }
   ],
   "source": [
    "%matplotlib inline\n",
    "import matplotlib.pyplot as plt\n",
    "\n",
    "plt.plot(history.history['accuracy'], label='train_accuracy')\n",
    "plt.plot(history.history['val_accuracy'], label='val_accuracy')\n",
    "plt.legend()\n",
    "plt.show()"
   ]
  },
  {
   "cell_type": "markdown",
   "metadata": {},
   "source": [
    "## Step 8 - Predict\n",
    "\n",
    "**==> Compare prediction time vs training time.  Prediction is very quick!**"
   ]
  },
  {
   "cell_type": "code",
   "execution_count": 11,
   "metadata": {},
   "outputs": [
    {
     "name": "stdout",
     "output_type": "stream",
     "text": [
      "predicting on 10,000 images\n",
      "CPU times: user 389 ms, sys: 41.9 ms, total: 431 ms\n",
      "Wall time: 226 ms\n"
     ]
    }
   ],
   "source": [
    "%%time \n",
    "\n",
    "print (\"predicting on {:,} images\".format(len(test_images)))\n",
    "predictions = model.predict(test_images)\n"
   ]
  },
  {
   "cell_type": "code",
   "execution_count": 12,
   "metadata": {},
   "outputs": [
    {
     "name": "stdout",
     "output_type": "stream",
     "text": [
      "random index =  74\n",
      "test_label[74] = 2.  So the number is 2\n",
      "prediction of test_image[74] = [ 0.000  0.000  0.962  0.000  0.037  0.000  0.000  0.000  0.000  0.000]\n",
      "max softmax output =  0.96242654\n",
      "index of max softmax output = 2.  So the prediction is same (2)\n"
     ]
    },
    {
     "data": {
      "text/plain": [
       "<matplotlib.image.AxesImage at 0x7f7d612de390>"
      ]
     },
     "execution_count": 12,
     "metadata": {},
     "output_type": "execute_result"
    },
    {
     "data": {
      "image/png": "[encoded data removed]",
      "text/plain": [
       "<Figure size 432x288 with 1 Axes>"
      ]
     },
     "metadata": {
      "needs_background": "light"
     },
     "output_type": "display_data"
    }
   ],
   "source": [
    "## Print a sample prediction\n",
    "\n",
    "%matplotlib inline\n",
    "import matplotlib.pyplot as plt\n",
    "import random\n",
    "import numpy as np\n",
    "from pprint import pprint\n",
    "\n",
    "np.set_printoptions(formatter={'float': '{: 0.3f}'.format})\n",
    "\n",
    "index = random.randint(0, len(test_images))\n",
    "\n",
    "print (\"random index = \", index)\n",
    "print (\"test_label[{}] = {}.  So the number is {}\".format(index, test_labels[index], test_labels[index]))\n",
    "print (\"prediction of test_image[{}] = {}\".format(index, predictions[index]))\n",
    "print ('max softmax output = ', np.amax(predictions[index]))\n",
    "print ('index of max softmax output = {}.  So the prediction is same ({})'.format(np.argmax(predictions[index]), np.argmax(predictions[index])))\n",
    "\n",
    "plt.imshow(test_images2[index])"
   ]
  },
  {
   "cell_type": "markdown",
   "metadata": {},
   "source": [
    "## Step 9 : Evaluate the Model "
   ]
  },
  {
   "cell_type": "markdown",
   "metadata": {},
   "source": [
    "### 9.1 - Metrics"
   ]
  },
  {
   "cell_type": "code",
   "execution_count": 13,
   "metadata": {},
   "outputs": [
    {
     "name": "stdout",
     "output_type": "stream",
     "text": [
      "model metrics :  ['loss', 'accuracy']\n",
      "Metric : loss = 0.349\n",
      "Metric : accuracy = 0.879\n"
     ]
    }
   ],
   "source": [
    "metric_names = model.metrics_names\n",
    "print (\"model metrics : \" , metric_names)\n",
    "\n",
    "metrics = model.evaluate(test_images, test_labels, verbose=0)\n",
    "\n",
    "for idx, metric in enumerate(metric_names):\n",
    "    print (\"Metric : {} = {:,.3f}\".format (metric_names[idx], metrics[idx]))"
   ]
  },
  {
   "cell_type": "markdown",
   "metadata": {},
   "source": [
    "### 9.2 - Confusion Matrix"
   ]
  },
  {
   "cell_type": "code",
   "execution_count": 14,
   "metadata": {},
   "outputs": [
    {
     "name": "stdout",
     "output_type": "stream",
     "text": [
      "predictions shape :  (10000, 10)\n",
      "prediction 0 :  [ 0.000  0.000  0.000  0.000  0.000  0.003  0.000  0.064  0.000  0.933]\n",
      "prediction 1 :  [ 0.000  0.000  1.000  0.000  0.000  0.000  0.000  0.000  0.000  0.000]\n"
     ]
    }
   ],
   "source": [
    "## our predictions is an array of arrays\n",
    "print('predictions shape : ', predictions.shape)\n",
    "print ('prediction 0 : ' , predictions[0])\n",
    "print ('prediction 1 : ' , predictions[1])"
   ]
  },
  {
   "cell_type": "code",
   "execution_count": 15,
   "metadata": {},
   "outputs": [
    {
     "name": "stdout",
     "output_type": "stream",
     "text": [
      "prediction2 0 :  9\n",
      "prediction2 1 :  2\n"
     ]
    }
   ],
   "source": [
    "## We need to find the final output (max of softmax probabilities for each prediction)\n",
    "predictions2 = [ np.argmax(p) for p in predictions]\n",
    "print ('prediction2 0 : ' , predictions2[0])\n",
    "print ('prediction2 1 : ' , predictions2[1])"
   ]
  },
  {
   "cell_type": "code",
   "execution_count": 16,
   "metadata": {},
   "outputs": [
    {
     "data": {
      "text/plain": [
       "array([[814,   3,  19,  27,   3,   0, 123,   0,  11,   0],\n",
       "       [  2, 969,   2,  21,   4,   0,   2,   0,   0,   0],\n",
       "       [ 16,   0, 824,  10,  74,   0,  74,   0,   2,   0],\n",
       "       [ 11,   5,  16, 921,  19,   0,  23,   0,   5,   0],\n",
       "       [  0,   0, 143,  42, 739,   0,  73,   0,   3,   0],\n",
       "       [  0,   0,   0,   1,   0, 954,   0,  27,   2,  16],\n",
       "       [117,   2, 100,  31,  46,   1, 686,   0,  16,   1],\n",
       "       [  0,   0,   0,   0,   0,  11,   0, 974,   0,  15],\n",
       "       [  7,   0,   3,   3,   2,   2,   4,   8, 970,   1],\n",
       "       [  0,   0,   0,   0,   0,   9,   1,  51,   0, 939]])"
      ]
     },
     "execution_count": 16,
     "metadata": {},
     "output_type": "execute_result"
    }
   ],
   "source": [
    "from sklearn.metrics import confusion_matrix\n",
    "import seaborn as sns\n",
    "\n",
    "cm = confusion_matrix(test_labels, predictions2, labels = [0,1,2,3,4,5,6,7,8,9])\n",
    "cm"
   ]
  },
  {
   "cell_type": "code",
   "execution_count": 17,
   "metadata": {},
   "outputs": [
    {
     "data": {
      "image/png": "[encoded data removed]",
      "text/plain": [
       "<Figure size 576x432 with 2 Axes>"
      ]
     },
     "metadata": {
      "needs_background": "light"
     },
     "output_type": "display_data"
    }
   ],
   "source": [
    "## Plot confusion matrix\n",
    "import os\n",
    "import sys\n",
    "top_dir = os.path.abspath(os.path.join(os.getcwd(), \"../\"))\n",
    "if top_dir not in sys.path:\n",
    "    sys.path.append(top_dir)\n",
    "\n",
    "import my_utils\n",
    "\n",
    "my_utils.plot_confusion_matrix(cm, target_names=[0,1,2,3,4,5,6,7,8,9], normalize=False)"
   ]
  },
  {
   "cell_type": "markdown",
   "metadata": {},
   "source": [
    "### 9.3 - Metrics Calculated from Confusion Matrix"
   ]
  },
  {
   "cell_type": "code",
   "execution_count": 18,
   "metadata": {},
   "outputs": [
    {
     "name": "stdout",
     "output_type": "stream",
     "text": [
      "{'0': {'f1-score': 0.8276563294356889,\n",
      "       'precision': 0.8417786970010341,\n",
      "       'recall': 0.814,\n",
      "       'support': 1000},\n",
      " '1': {'f1-score': 0.9792824658918645,\n",
      "       'precision': 0.9897854954034729,\n",
      "       'recall': 0.969,\n",
      "       'support': 1000},\n",
      " '2': {'f1-score': 0.7821547223540578,\n",
      "       'precision': 0.7443541102077688,\n",
      "       'recall': 0.824,\n",
      "       'support': 1000},\n",
      " '3': {'f1-score': 0.8959143968871596,\n",
      "       'precision': 0.8721590909090909,\n",
      "       'recall': 0.921,\n",
      "       'support': 1000},\n",
      " '4': {'f1-score': 0.7832538420773715,\n",
      "       'precision': 0.8331454340473506,\n",
      "       'recall': 0.739,\n",
      "       'support': 1000},\n",
      " '5': {'f1-score': 0.9650986342943854,\n",
      "       'precision': 0.9764585465711362,\n",
      "       'recall': 0.954,\n",
      "       'support': 1000},\n",
      " '6': {'f1-score': 0.6908358509566969,\n",
      "       'precision': 0.6957403651115619,\n",
      "       'recall': 0.686,\n",
      "       'support': 1000},\n",
      " '7': {'f1-score': 0.9456310679611651,\n",
      "       'precision': 0.9188679245283019,\n",
      "       'recall': 0.974,\n",
      "       'support': 1000},\n",
      " '8': {'f1-score': 0.9656545545047287,\n",
      "       'precision': 0.9613478691774033,\n",
      "       'recall': 0.97,\n",
      "       'support': 1000},\n",
      " '9': {'f1-score': 0.9523326572008113,\n",
      "       'precision': 0.9660493827160493,\n",
      "       'recall': 0.939,\n",
      "       'support': 1000},\n",
      " 'accuracy': 0.879,\n",
      " 'macro avg': {'f1-score': 0.878781452156393,\n",
      "               'precision': 0.879968691567317,\n",
      "               'recall': 0.8789999999999999,\n",
      "               'support': 10000},\n",
      " 'weighted avg': {'f1-score': 0.8787814521563929,\n",
      "                  'precision': 0.879968691567317,\n",
      "                  'recall': 0.879,\n",
      "                  'support': 10000}}\n"
     ]
    }
   ],
   "source": [
    "from sklearn.metrics import classification_report\n",
    "from pprint import pprint\n",
    "\n",
    "pprint(classification_report(test_labels, predictions2, output_dict=True))"
   ]
  },
  {
   "cell_type": "markdown",
   "metadata": {},
   "source": [
    "## Step 10 : Improve the Model\n",
    "\n",
    "Try the following exercises\n",
    "\n",
    "**1 - Increase epochs**  \n",
    "- In Step-6, increase epochs to 50\n",
    "- Rerun the notebook\n",
    "- did the accuracy improve?\n",
    "- how much the training time go up?\n",
    "\n",
    "**2 - Build a deeper neural net** \n",
    "- IN Step-4, uncomment and use 'model-2'.  This is a wider/deeper model\n",
    "- Rerun the notebook again\n",
    "- did the accuracy improve?\n",
    "- how much the training time go up?"
   ]
  },
  {
   "cell_type": "code",
   "execution_count": null,
   "metadata": {},
   "outputs": [],
   "source": []
  }
 ],
 "metadata": {
  "kernelspec": {
   "display_name": "Python 3",
   "language": "python",
   "name": "python3"
  },
  "language_info": {
   "codemirror_mode": {
    "name": "ipython",
    "version": 3
   },
   "file_extension": ".py",
   "mimetype": "text/x-python",
   "name": "python",
   "nbconvert_exporter": "python",
   "pygments_lexer": "ipython3",
   "version": "3.7.5"
  }
 },
 "nbformat": 4,
 "nbformat_minor": 4
}
