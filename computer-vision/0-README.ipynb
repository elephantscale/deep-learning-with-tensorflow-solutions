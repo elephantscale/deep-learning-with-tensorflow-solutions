{
 "cells": [
  {
   "cell_type": "markdown",
   "metadata": {},
   "source": [
    "# Computer Vision Labs\n",
    "\n",
    "This directory contains various notebooks to work with images.\n",
    "\n",
    "\n",
    "## Convolutions\n",
    "Understand convolutions and how they work.  \n",
    "[convolutions.ipynb](convolutions.ipynb)\n",
    "\n",
    "## MNIST / Fashion MNIST\n",
    "\n",
    "* [MNIST with feed forward network](mnist-1-FFNN.ipynb)\n",
    "* [Fashin MNIST with feed forward network](fashion-mnist-1FFNN.ipynb)\n",
    "* [MNIST with Convolution](cnn-mnist.ipynb)\n",
    "* [cnn-mnist-1-train-gpu-minimal.py](cnn-mnist-1-train-gpu-minimal.py)  is a minimal python script that does CNN on MNIST dataset.  It is ideal for benchmarking GPU systems\n",
    "\n",
    "## CNN\n",
    "\n",
    "* [MNIST with Convolution](cnn-mnist.ipynb)\n",
    "* [CIFAR with CNN](cnn-cifar.ipynb)\n",
    "\n",
    "## Images\n",
    "\n",
    "**img1 - working with images**  \n",
    "Learn to download images, and understand their layout  \n",
    "[img1 - downloading image datasets](img1-working-with-images.ipynb)  \n",
    "\n",
    "**img2 - Image Data Generator**   \n",
    "How to augment images during training  \n",
    "[img2-image-generator.ipynb](img2-image-generator.ipynb)\n",
    "\n",
    "\n",
    "**img3 - Cat/Dog classifier (binary)**  \n",
    "* Download cat-dog imgae dataset\n",
    "* use Image Data Genertor to augment images\n",
    "* train using CNN to train\n",
    "\n",
    "[img3-cat-dog-binary-classifier.ipynb](img3-cat-dog-binary-classifier.ipynb)\n",
    "\n",
    "**img4 - Cat/Dog classifier (multi)**  \n",
    "* Download cat-dog imgae dataset\n",
    "* use Image Data Genertor to augment images\n",
    "* train using CNN to train\n",
    "\n",
    "[img4-cat-dog-multi-classifier.ipynb](img4-cat-dog-multi-classifier.ipynb)\n",
    "\n",
    "**img5 - Using a saved model**  \n",
    "How to load and reuse a saved model  \n",
    "[img5-reusing-a-model.ipynb](img5-reusing-a-model.ipynb)\n",
    "\n",
    "**Exercise 1 - Horse/Human classifier**  \n",
    "Let's try a different dataset 'horses and humans'  \n",
    "[exercise-1-horse-human-classifier.ipynb](exercise-1-horse-human-classifier.ipynb)\n",
    "\n",
    "**Exercises 2 - Flowers**  \n",
    "In this exercises we will do a multi-classification of various flowers.  \n",
    "[exercise-2-flowers-multi-classifier.ipynb](exercise-2-flowers-multi-classifier.ipynb)\n",
    "\n"
   ]
  },
  {
   "cell_type": "code",
   "execution_count": null,
   "metadata": {},
   "outputs": [],
   "source": []
  }
 ],
 "metadata": {
  "kernelspec": {
   "display_name": "Python 3",
   "language": "python",
   "name": "python3"
  },
  "language_info": {
   "codemirror_mode": {
    "name": "ipython",
    "version": 3
   },
   "file_extension": ".py",
   "mimetype": "text/x-python",
   "name": "python",
   "nbconvert_exporter": "python",
   "pygments_lexer": "ipython3",
   "version": "3.8.2"
  }
 },
 "nbformat": 4,
 "nbformat_minor": 4
}
