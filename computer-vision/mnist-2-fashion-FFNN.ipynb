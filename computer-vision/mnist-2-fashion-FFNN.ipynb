{
 "cells": [
  {
   "cell_type": "markdown",
   "metadata": {},
   "source": [
    "# Lab: Predicting type of cloth using Convolutional Neural Network (CNN)\n",
    "\n",
    "Fashion MNIST is a drop in replacement for MNIST!"
   ]
  },
  {
   "cell_type": "markdown",
   "metadata": {},
   "source": [
    "## About Fashion mnist\n",
    "\n",
    "Fashion-MNIST is a dataset of Zalando’s article images — consisting of a training set of 60,000 examples and a test set of 10,000 examples. Each example is a 28x28 grayscale image, associated with a label from 10 classes.\n",
    "\n",
    "In other words, we have 70,000 images of 28 pixels width and 28 pixels height in greyscale. Each image is showing one of 10 possible clothing types. \n",
    "\n",
    "Here is one:\n",
    "\n",
    "<img src=\"../assets/images/fashion-mnist-2.png\">\n",
    "\n",
    "Here are some images from the dataset along with the clothing they are showing:\n",
    "\n",
    "<img src=\"../assets/images/fashion-mnist-1.png\">\n",
    "\n",
    "Here are all different types of clothing:\n",
    "\n",
    "\n",
    "\n",
    "| Label | Description |\n",
    "|-------|-------------|\n",
    "| 0     | T-shirt/top |\n",
    "| 1     | Trouser     |\n",
    "| 2     | Pullover    |\n",
    "| 3     | Dress       |\n",
    "| 4     | Coat        |\n",
    "| 5     | Sandal      |\n",
    "| 6     | Shirt       |\n",
    "| 7     | Sneaker     |\n",
    "| 8     | Bag         |\n",
    "| 9     | Ankle boot  |"
   ]
  },
  {
   "cell_type": "code",
   "execution_count": 1,
   "metadata": {},
   "outputs": [
    {
     "name": "stdout",
     "output_type": "stream",
     "text": [
      "Running in Google COLAB :  False\n"
     ]
    }
   ],
   "source": [
    "## Determine if we are running on google colab\n",
    "\n",
    "try:\n",
    "    import google.colab\n",
    "    RUNNING_IN_COLAB = True\n",
    "except:\n",
    "    RUNNING_IN_COLAB = False\n",
    "\n",
    "print (\"Running in Google COLAB : \", RUNNING_IN_COLAB)\n"
   ]
  },
  {
   "cell_type": "code",
   "execution_count": 2,
   "metadata": {},
   "outputs": [],
   "source": [
    "try:\n",
    "  # %tensorflow_version only exists in Colab.\n",
    "  %tensorflow_version 2.x\n",
    "except Exception:\n",
    "  pass\n",
    "\n",
    "import tensorflow as tf\n",
    "from tensorflow import keras"
   ]
  },
  {
   "cell_type": "markdown",
   "metadata": {},
   "source": [
    "## Step 1: Download data"
   ]
  },
  {
   "cell_type": "code",
   "execution_count": 3,
   "metadata": {},
   "outputs": [
    {
     "name": "stdout",
     "output_type": "stream",
     "text": [
      "train_images shape :  (60000, 28, 28)\n",
      "train_labels shape :  (60000,)\n",
      "test_images shape :  (10000, 28, 28)\n",
      "test_labels shape :  (10000,)\n"
     ]
    }
   ],
   "source": [
    "(train_images, train_labels), (test_images, test_labels) = keras.datasets.fashion_mnist.load_data()\n",
    "\n",
    "# backup\n",
    "(train_images2, train_labels2), (test_images2, test_labels2) = keras.datasets.fashion_mnist.load_data()\n",
    "\n",
    "print(\"train_images shape : \", train_images.shape)\n",
    "print(\"train_labels shape : \", train_labels.shape)\n",
    "print(\"test_images shape : \", test_images.shape)\n",
    "print(\"test_labels shape : \", test_labels.shape)"
   ]
  },
  {
   "cell_type": "markdown",
   "metadata": {},
   "source": [
    "## Step 2 : Data Exploration"
   ]
  },
  {
   "cell_type": "code",
   "execution_count": 4,
   "metadata": {},
   "outputs": [
    {
     "name": "stdout",
     "output_type": "stream",
     "text": [
      "Displaying train index =  45916\n",
      "train label [45916] = 5 \n",
      "------------ raw data for train_image[45916] -------\n",
      "[[  0   0   0   0   0   0   0   0   0   0   0   0   0   0   0   0   0   0\n",
      "    0   0   0   0   0   0   0   0   0   0]\n",
      " [  0   0   0   0   0   0   0   0   0   0   0   0   0   0   0   0   0   0\n",
      "    0   0   0   0   0   0   0   0   0   0]\n",
      " [  0   0   0   0   0   0   0   0   0   0   0   0   0   0   0   0   0   0\n",
      "    0   0   1   0   0   6   0   3   0   0]\n",
      " [  0   0   0   0   0   0   0   0   0   0   0   0   0   0   0   0   0   2\n",
      "    1   0   0   0 195 196   0   0   3   0]\n",
      " [  0   0   0   0   0   0   0   0   0   0   0   0   0   0   0   0   0   0\n",
      "    0   7   0  21 235 245 145   0   0   0]\n",
      " [  0   0   0   0   0   0   0   0   0   0   0   3   5   5   3   2   0   4\n",
      "    8   0   0   0 218 220 237  40   0   0]\n",
      " [  0   0   0   0   0   0   0   0   0   0   0   0   0   0   0   0   0   0\n",
      "    0   0 144 255 220 227 235 232   0   0]\n",
      " [  0   0   0   0   0   0   0   0   0   4   0  12  36  30   1   0   0   0\n",
      "  136 214 255  70  33 242 214 246 101   0]\n",
      " [  0   0   0   0   0   0   0   0   1   6   0 166 243 215 196 207 153 202\n",
      "  255 230  20   0   0 255 217 228 238   0]\n",
      " [  0   0   0   0   0   0   0   0   0   1   0   0  26  85 141 156 214 223\n",
      "  133 177  30   0   7 255 222 218 255  38]\n",
      " [  0   0   0   0   0   0   0   0   0   0   0   0   0   0   0   0 193 214\n",
      "    0   0   0   0  23 255 218 219 255  94]\n",
      " [  0   0   0   0   0   0   0   0   0   0   0   1   4   9   7   0 100 254\n",
      "  190   0   0   0  60 255 220 221 240 130]\n",
      " [  0   0   0   0   0   0   0   0   0   0   0   0   0   0   1   0   0 154\n",
      "  253 211   0   0  92 255 222 218 255  60]\n",
      " [  0   0   0   0   0   0   0   0   0   0   0   0   0   0   0   2   0   0\n",
      "  158 255 146   0 217 233 219 227 252   0]\n",
      " [  0   0   0   0   0   0   0   0   0   0   0   0   0   0   0   0   0   0\n",
      "    0 160 228 243 255 227 220 238 173   0]\n",
      " [  0   0   0   0   0   0   0   0   0   0   0   0   0   0   0   0   0   0\n",
      "   21 205 221 156 102 222 226 240  68   0]\n",
      " [  0   0   0   0   0   2   0   1   1   0   0   0   0   1   1   4   0  38\n",
      "  240 193   2   0   0  75 251 216   0   0]\n",
      " [  0   0   0   0   0   1   0   0   2   0   0   0   0   0   7   0   0 229\n",
      "  183   1   0   3   0  81 255 161   0   0]\n",
      " [  0   0   0   0   0   2   8   2   0   1   0   0   0   2   0   0 189 209\n",
      "    8   0   0   3   0  86 255 109   0   2]\n",
      " [  0   0   0   0   0   0   0   0   0   0   1   0   0   4   0 118 246  47\n",
      "    0   0   0   2   0 114 255  35   0   4]\n",
      " [  0   0   0   4   0  23  88 194 132   0   0   0   3   0   0 238 143   0\n",
      "    0   0   0   2   0 132 248   0   0   5]\n",
      " [  4   7   0   0   0 108 244 223 196   0   0   0   0   0 169 231   0   0\n",
      "    1   0   0   6   0 137 236   0   0   2]\n",
      " [  0   0   0   0   0  29 205 208 232 102   0   9   0  92 255 103   0   5\n",
      "    0   0   0   7   0 143 219   0   0   2]\n",
      " [ 40 127 151 177 194 205 207 212 220 213   0   0  68 255 170   0   0   3\n",
      "    0   0   0   7   0 149 201   0   3   0]\n",
      " [115 236 238 244 234 229 234 247 239 253 196 186 254 171   0   0   3   0\n",
      "    0   0   0   5   0 172 201   0   8   0]\n",
      " [  0   0  50  86 119 137 149 154 161 175 187 153  50   0   0   2   0   0\n",
      "    0   0   0   3   0 103 116   0   4   0]\n",
      " [  0   0   0   0   0   0   0   0   0   0   0   0   0   0   3   0   0   0\n",
      "    0   0   0   0   0   0   0   0   0   0]\n",
      " [  0   0   0   0   0   0   0   0   0   0   0   0   0   0   0   0   0   0\n",
      "    0   0   0   0   0   0   0   0   0   0]]\n",
      "--------------------\n"
     ]
    },
    {
     "data": {
      "image/png": "[encoded data removed]",
      "text/plain": [
       "<Figure size 432x288 with 1 Axes>"
      ]
     },
     "metadata": {
      "needs_background": "light"
     },
     "output_type": "display_data"
    }
   ],
   "source": [
    "## Run this cell a few times to randomly display some digit data\n",
    "%matplotlib inline\n",
    "import matplotlib.pyplot as plt\n",
    "import random\n",
    "\n",
    "index = random.randint(0, len(train_images))\n",
    "# index = 10\n",
    "print (\"Displaying train index = \", index)\n",
    "\n",
    "print(\"train label [{}] = {} \".format(index, train_labels[index]))\n",
    "print (\"------------ raw data for train_image[{}] -------\".format(index))\n",
    "print(train_images[index])\n",
    "print (\"--------------------\")\n",
    "\n",
    "plt.imshow(train_images[index])\n",
    "plt.show()"
   ]
  },
  {
   "cell_type": "markdown",
   "metadata": {},
   "source": [
    "## Step 3: Shape data"
   ]
  },
  {
   "cell_type": "code",
   "execution_count": 5,
   "metadata": {},
   "outputs": [],
   "source": [
    "train_images  = train_images / 255.0\n",
    "test_images = test_images / 255.0"
   ]
  },
  {
   "cell_type": "markdown",
   "metadata": {},
   "source": [
    "## Step 4: Create model\n",
    "\n",
    "### TODO : Sketch the neural net\n",
    "- What is the input dimensions\n",
    "- how many neurons in layers\n",
    "- how many output neurons\n",
    "\n",
    "<img src=\"../assets/images/neural-net-unknown.png\" style=\"width:30%\"/>"
   ]
  },
  {
   "cell_type": "code",
   "execution_count": 6,
   "metadata": {},
   "outputs": [
    {
     "name": "stdout",
     "output_type": "stream",
     "text": [
      "Model: \"sequential\"\n",
      "_________________________________________________________________\n",
      "Layer (type)                 Output Shape              Param #   \n",
      "=================================================================\n",
      "reshape (Reshape)            (None, 784)               0         \n",
      "_________________________________________________________________\n",
      "dense (Dense)                (None, 128)               100480    \n",
      "_________________________________________________________________\n",
      "dense_1 (Dense)              (None, 10)                1290      \n",
      "=================================================================\n",
      "Total params: 101,770\n",
      "Trainable params: 101,770\n",
      "Non-trainable params: 0\n",
      "_________________________________________________________________\n",
      "None\n"
     ]
    }
   ],
   "source": [
    "## Model 1\n",
    "\n",
    "model = tf.keras.models.Sequential([\n",
    "            keras.layers.Reshape(\n",
    "              target_shape=(28 * 28,), input_shape=(28, 28)\n",
    "              ),\n",
    "            tf.keras.layers.Dense(128, activation=tf.nn.relu), \n",
    "            tf.keras.layers.Dense(10, activation=tf.nn.softmax)\n",
    "            ])\n",
    "\n",
    "\n",
    "model.compile(\n",
    "  optimizer=tf.keras.optimizers.Adam(),  # 'adam'\n",
    "  loss='sparse_categorical_crossentropy',\n",
    "  metrics=['accuracy'])\n",
    "\n",
    "print (model.summary())"
   ]
  },
  {
   "cell_type": "code",
   "execution_count": 7,
   "metadata": {},
   "outputs": [],
   "source": [
    "## Model 2\n",
    "\n",
    "# model = keras.Sequential([\n",
    "#     keras.layers.Reshape(\n",
    "#       target_shape=(28 * 28,), input_shape=(28, 28)\n",
    "#     ),\n",
    "#     keras.layers.Dense(\n",
    "#       units=256, activation=tf.nn.relu  #'relu'\n",
    "#     ),\n",
    "#     keras.layers.Dense(\n",
    "#       units=192, activation=tf.nn.relu  #'relu'\n",
    "#     ),\n",
    "#     keras.layers.Dense(\n",
    "#       units=128, activation=tf.nn.relu  #'relu'\n",
    "#     ),\n",
    "#     keras.layers.Dense(\n",
    "#       units=10, activation=tf.nn.softmax #'softmax'\n",
    "#     )\n",
    "# ])\n",
    "\n",
    "# model.compile(\n",
    "#   optimizer=tf.keras.optimizers.Adam(),  # 'adam'\n",
    "#   loss='sparse_categorical_crossentropy',\n",
    "#   metrics=['accuracy'])\n",
    "\n",
    "# print (model.summary())"
   ]
  },
  {
   "cell_type": "markdown",
   "metadata": {},
   "source": [
    "## Step 5 - Setup Tensorboard"
   ]
  },
  {
   "cell_type": "code",
   "execution_count": 8,
   "metadata": {},
   "outputs": [
    {
     "name": "stdout",
     "output_type": "stream",
     "text": [
      "Saving TB logs to :  /tmp/tensorboard-logs/fashion-mnist/2020-03-12--22-23-49\n"
     ]
    }
   ],
   "source": [
    "## This is fairly boiler plate code\n",
    "\n",
    "import datetime\n",
    "import os\n",
    "\n",
    "app_name = 'fashion-mnist' # you can change this, if you like\n",
    "\n",
    "tb_top_level_dir= '/tmp/tensorboard-logs'\n",
    "tensorboard_logs_dir= os.path.join (tb_top_level_dir, app_name, \n",
    "                                    datetime.datetime.now().strftime(\"%Y-%m-%d--%H-%M-%S\"))\n",
    "print (\"Saving TB logs to : \" , tensorboard_logs_dir)\n",
    "\n",
    "tensorboard_callback = tf.keras.callbacks.TensorBoard(log_dir=tensorboard_logs_dir, histogram_freq=1)\n",
    "\n",
    "# Loading of tensorboard in Colab\n",
    "if RUNNING_IN_COLAB:\n",
    "    %load_ext tensorboard\n",
    "    %tensorboard --logdir $tb_top_level_dir"
   ]
  },
  {
   "cell_type": "markdown",
   "metadata": {},
   "source": [
    "## Step 6: Training the model\n"
   ]
  },
  {
   "cell_type": "code",
   "execution_count": 9,
   "metadata": {},
   "outputs": [
    {
     "name": "stdout",
     "output_type": "stream",
     "text": [
      "training starting ...\n",
      "Train on 48000 samples, validate on 12000 samples\n",
      "Epoch 1/10\n",
      "48000/48000 [==============================] - 25s 522us/sample - loss: 0.5207 - accuracy: 0.8180 - val_loss: 0.4261 - val_accuracy: 0.8498\n",
      "Epoch 2/10\n",
      "48000/48000 [==============================] - 21s 435us/sample - loss: 0.3887 - accuracy: 0.8597 - val_loss: 0.4041 - val_accuracy: 0.8567\n",
      "Epoch 3/10\n",
      "48000/48000 [==============================] - 19s 402us/sample - loss: 0.3452 - accuracy: 0.8744 - val_loss: 0.3449 - val_accuracy: 0.8758\n",
      "Epoch 4/10\n",
      "48000/48000 [==============================] - 16s 331us/sample - loss: 0.3174 - accuracy: 0.8844 - val_loss: 0.3332 - val_accuracy: 0.8795\n",
      "Epoch 5/10\n",
      "48000/48000 [==============================] - 20s 416us/sample - loss: 0.3004 - accuracy: 0.8886 - val_loss: 0.3228 - val_accuracy: 0.8823\n",
      "Epoch 6/10\n",
      "48000/48000 [==============================] - 16s 326us/sample - loss: 0.2853 - accuracy: 0.8948 - val_loss: 0.3526 - val_accuracy: 0.8752\n",
      "Epoch 7/10\n",
      "48000/48000 [==============================] - 18s 367us/sample - loss: 0.2709 - accuracy: 0.8996 - val_loss: 0.3351 - val_accuracy: 0.8815\n",
      "Epoch 8/10\n",
      "48000/48000 [==============================] - 18s 366us/sample - loss: 0.2612 - accuracy: 0.9017 - val_loss: 0.3164 - val_accuracy: 0.8878\n",
      "Epoch 9/10\n",
      "48000/48000 [==============================] - 20s 415us/sample - loss: 0.2494 - accuracy: 0.9068 - val_loss: 0.3092 - val_accuracy: 0.8913\n",
      "Epoch 10/10\n",
      "48000/48000 [==============================] - 19s 390us/sample - loss: 0.2433 - accuracy: 0.9091 - val_loss: 0.3266 - val_accuracy: 0.8870\n",
      "training done.\n",
      "CPU times: user 5min 34s, sys: 14min 57s, total: 20min 31s\n",
      "Wall time: 3min 11s\n"
     ]
    }
   ],
   "source": [
    "%%time\n",
    "\n",
    "epochs=10\n",
    "print (\"training starting ...\")\n",
    "\n",
    "history = model.fit(\n",
    "    train_images,\n",
    "    train_labels,\n",
    "    epochs=epochs,\n",
    "    validation_split=0.2,\n",
    "    verbose=1,\n",
    "    callbacks=[tensorboard_callback]\n",
    ")\n",
    "\n",
    "print (\"training done.\")"
   ]
  },
  {
   "cell_type": "markdown",
   "metadata": {},
   "source": [
    "## Step 7 : See Training History"
   ]
  },
  {
   "cell_type": "code",
   "execution_count": 10,
   "metadata": {},
   "outputs": [
    {
     "data": {
      "image/png": "[encoded data removed]",
      "text/plain": [
       "<Figure size 432x288 with 1 Axes>"
      ]
     },
     "metadata": {
      "needs_background": "light"
     },
     "output_type": "display_data"
    }
   ],
   "source": [
    "%matplotlib inline\n",
    "import matplotlib.pyplot as plt\n",
    "\n",
    "plt.plot(history.history['accuracy'], label='train_accuracy')\n",
    "plt.plot(history.history['val_accuracy'], label='val_accuracy')\n",
    "plt.legend()\n",
    "plt.show()"
   ]
  },
  {
   "cell_type": "markdown",
   "metadata": {},
   "source": [
    "## Step 8 - Predict\n",
    "\n",
    "**==> Compare prediction time vs training time.  Prediction is very quick!**"
   ]
  },
  {
   "cell_type": "code",
   "execution_count": 11,
   "metadata": {},
   "outputs": [
    {
     "name": "stdout",
     "output_type": "stream",
     "text": [
      "predicting on 10,000 images\n",
      "CPU times: user 3.26 s, sys: 8.98 s, total: 12.2 s\n",
      "Wall time: 1.86 s\n"
     ]
    }
   ],
   "source": [
    "%%time \n",
    "\n",
    "print (\"predicting on {:,} images\".format(len(test_images)))\n",
    "predictions = model.predict(test_images)\n"
   ]
  },
  {
   "cell_type": "code",
   "execution_count": 12,
   "metadata": {},
   "outputs": [
    {
     "name": "stdout",
     "output_type": "stream",
     "text": [
      "random index =  3453\n",
      "test_label[3453] = 2.  So the number is 2\n",
      "prediction of test_image[3453] = [ 0.001  0.000  0.382  0.000  0.584  0.000  0.033  0.000  0.000  0.000]\n",
      "max softmax output =  0.5843\n",
      "index of max softmax output = 4.  So the prediction is same (4)\n"
     ]
    },
    {
     "data": {
      "text/plain": [
       "<matplotlib.image.AxesImage at 0x7f79d01dcf10>"
      ]
     },
     "execution_count": 12,
     "metadata": {},
     "output_type": "execute_result"
    },
    {
     "data": {
      "image/png": "[encoded data removed]",
      "text/plain": [
       "<Figure size 432x288 with 1 Axes>"
      ]
     },
     "metadata": {
      "needs_background": "light"
     },
     "output_type": "display_data"
    }
   ],
   "source": [
    "## Print a sample prediction\n",
    "\n",
    "%matplotlib inline\n",
    "import matplotlib.pyplot as plt\n",
    "import random\n",
    "import numpy as np\n",
    "from pprint import pprint\n",
    "\n",
    "np.set_printoptions(formatter={'float': '{: 0.3f}'.format})\n",
    "\n",
    "index = random.randint(0, len(test_images))\n",
    "\n",
    "print (\"random index = \", index)\n",
    "print (\"test_label[{}] = {}.  So the number is {}\".format(index, test_labels[index], test_labels[index]))\n",
    "print (\"prediction of test_image[{}] = {}\".format(index, predictions[index]))\n",
    "print ('max softmax output = ', np.amax(predictions[index]))\n",
    "print ('index of max softmax output = {}.  So the prediction is same ({})'.format(np.argmax(predictions[index]), np.argmax(predictions[index])))\n",
    "\n",
    "plt.imshow(test_images2[index])"
   ]
  },
  {
   "cell_type": "markdown",
   "metadata": {},
   "source": [
    "## Step 9 : Evaluate the Model "
   ]
  },
  {
   "cell_type": "markdown",
   "metadata": {},
   "source": [
    "### 9.1 - Metrics"
   ]
  },
  {
   "cell_type": "code",
   "execution_count": 13,
   "metadata": {},
   "outputs": [
    {
     "name": "stdout",
     "output_type": "stream",
     "text": [
      "model metrics :  ['loss', 'accuracy']\n",
      "Metric : loss = 0.356\n",
      "Metric : accuracy = 0.878\n"
     ]
    }
   ],
   "source": [
    "metric_names = model.metrics_names\n",
    "print (\"model metrics : \" , metric_names)\n",
    "\n",
    "metrics = model.evaluate(test_images, test_labels, verbose=0)\n",
    "\n",
    "for idx, metric in enumerate(metric_names):\n",
    "    print (\"Metric : {} = {:,.3f}\".format (metric_names[idx], metrics[idx]))"
   ]
  },
  {
   "cell_type": "markdown",
   "metadata": {},
   "source": [
    "### 9.2 - Confusion Matrix"
   ]
  },
  {
   "cell_type": "code",
   "execution_count": 14,
   "metadata": {},
   "outputs": [
    {
     "name": "stdout",
     "output_type": "stream",
     "text": [
      "predictions shape :  (10000, 10)\n",
      "prediction 0 :  [ 0.000  0.000  0.000  0.000  0.000  0.002  0.000  0.001  0.000  0.998]\n",
      "prediction 1 :  [ 0.000  0.000  1.000  0.000  0.000  0.000  0.000  0.000  0.000  0.000]\n"
     ]
    }
   ],
   "source": [
    "## our predictions is an array of arrays\n",
    "print('predictions shape : ', predictions.shape)\n",
    "print ('prediction 0 : ' , predictions[0])\n",
    "print ('prediction 1 : ' , predictions[1])"
   ]
  },
  {
   "cell_type": "code",
   "execution_count": 15,
   "metadata": {},
   "outputs": [
    {
     "name": "stdout",
     "output_type": "stream",
     "text": [
      "prediction2 0 :  9\n",
      "prediction2 1 :  2\n"
     ]
    }
   ],
   "source": [
    "## We need to find the final output (max of softmax probabilities for each prediction)\n",
    "predictions2 = [ np.argmax(p) for p in predictions]\n",
    "print ('prediction2 0 : ' , predictions2[0])\n",
    "print ('prediction2 1 : ' , predictions2[1])"
   ]
  },
  {
   "cell_type": "code",
   "execution_count": 16,
   "metadata": {},
   "outputs": [
    {
     "data": {
      "text/plain": [
       "array([[839,   2,  17,  38,   5,   0,  89,   0,  10,   0],\n",
       "       [  1, 974,   2,  20,   1,   0,   1,   0,   1,   0],\n",
       "       [ 16,   2, 801,  18, 137,   0,  24,   0,   2,   0],\n",
       "       [ 13,   9,   9, 923,  23,   0,  18,   0,   5,   0],\n",
       "       [  1,   1,  83,  46, 854,   0,  12,   0,   3,   0],\n",
       "       [  0,   0,   0,   1,   0, 978,   0,  12,   1,   8],\n",
       "       [124,   2, 113,  44, 156,   0, 549,   0,  12,   0],\n",
       "       [  0,   0,   0,   0,   0,  28,   0, 927,   1,  44],\n",
       "       [  4,   0,   4,   4,   4,   3,   3,   3, 975,   0],\n",
       "       [  0,   0,   0,   0,   0,  10,   1,  25,   0, 964]])"
      ]
     },
     "execution_count": 16,
     "metadata": {},
     "output_type": "execute_result"
    }
   ],
   "source": [
    "from sklearn.metrics import confusion_matrix\n",
    "import seaborn as sns\n",
    "\n",
    "cm = confusion_matrix(test_labels, predictions2, labels = [0,1,2,3,4,5,6,7,8,9])\n",
    "cm"
   ]
  },
  {
   "cell_type": "code",
   "execution_count": 17,
   "metadata": {},
   "outputs": [
    {
     "data": {
      "text/plain": [
       "[]"
      ]
     },
     "execution_count": 17,
     "metadata": {},
     "output_type": "execute_result"
    },
    {
     "data": {
      "image/png": "[encoded data removed]",
      "text/plain": [
       "<Figure size 576x432 with 2 Axes>"
      ]
     },
     "metadata": {
      "needs_background": "light"
     },
     "output_type": "display_data"
    }
   ],
   "source": [
    "import matplotlib.pyplot as plt\n",
    "import seaborn as sns\n",
    "\n",
    "plt.figure(figsize = (8,6))\n",
    "\n",
    "# colormaps : cmap=\"YlGnBu\" , cmap=\"Greens\", cmap=\"Blues\",  cmap=\"Reds\"\n",
    "sns.heatmap(cm, annot=True, cmap=\"Reds\", fmt='d').plot()"
   ]
  },
  {
   "cell_type": "markdown",
   "metadata": {},
   "source": [
    "### 9.3 - Metrics Calculated from Confusion Matrix"
   ]
  },
  {
   "cell_type": "code",
   "execution_count": 18,
   "metadata": {},
   "outputs": [
    {
     "name": "stdout",
     "output_type": "stream",
     "text": [
      "{'0': {'f1-score': 0.8398398398398398,\n",
      "       'precision': 0.8406813627254509,\n",
      "       'recall': 0.839,\n",
      "       'support': 1000},\n",
      " '1': {'f1-score': 0.9788944723618089,\n",
      "       'precision': 0.9838383838383838,\n",
      "       'recall': 0.974,\n",
      "       'support': 1000},\n",
      " '2': {'f1-score': 0.7895515032035485,\n",
      "       'precision': 0.7784256559766763,\n",
      "       'recall': 0.801,\n",
      "       'support': 1000},\n",
      " '3': {'f1-score': 0.8815663801337155,\n",
      "       'precision': 0.8436928702010968,\n",
      "       'recall': 0.923,\n",
      "       'support': 1000},\n",
      " '4': {'f1-score': 0.7834862385321101,\n",
      "       'precision': 0.7237288135593221,\n",
      "       'recall': 0.854,\n",
      "       'support': 1000},\n",
      " '5': {'f1-score': 0.9687964338781575,\n",
      "       'precision': 0.9597644749754661,\n",
      "       'recall': 0.978,\n",
      "       'support': 1000},\n",
      " '6': {'f1-score': 0.6470241602828521,\n",
      "       'precision': 0.787661406025825,\n",
      "       'recall': 0.549,\n",
      "       'support': 1000},\n",
      " '7': {'f1-score': 0.9425521098118963,\n",
      "       'precision': 0.9586349534643226,\n",
      "       'recall': 0.927,\n",
      "       'support': 1000},\n",
      " '8': {'f1-score': 0.9701492537313433,\n",
      "       'precision': 0.9653465346534653,\n",
      "       'recall': 0.975,\n",
      "       'support': 1000},\n",
      " '9': {'f1-score': 0.9563492063492063,\n",
      "       'precision': 0.9488188976377953,\n",
      "       'recall': 0.964,\n",
      "       'support': 1000},\n",
      " 'accuracy': 0.8784,\n",
      " 'macro avg': {'f1-score': 0.8758209598124479,\n",
      "               'precision': 0.8790593353057803,\n",
      "               'recall': 0.8783999999999998,\n",
      "               'support': 10000},\n",
      " 'weighted avg': {'f1-score': 0.8758209598124478,\n",
      "                  'precision': 0.8790593353057804,\n",
      "                  'recall': 0.8784,\n",
      "                  'support': 10000}}\n"
     ]
    }
   ],
   "source": [
    "from sklearn.metrics import classification_report\n",
    "from pprint import pprint\n",
    "\n",
    "pprint(classification_report(test_labels, predictions2, output_dict=True))"
   ]
  },
  {
   "cell_type": "markdown",
   "metadata": {},
   "source": [
    "## Step 10 : Improve the Model\n",
    "\n",
    "Try the following exercises\n",
    "\n",
    "**1 - Increase epochs**  \n",
    "- In Step-6, increase epochs to 50\n",
    "- Rerun the notebook\n",
    "- did the accuracy improve?\n",
    "- how much the training time go up?\n",
    "\n",
    "**2 - Build a deeper neural net** \n",
    "- IN Step-4, uncomment and use 'model-2'.  This is a wider/deeper model\n",
    "- Rerun the notebook again\n",
    "- did the accuracy improve?\n",
    "- how much the training time go up?"
   ]
  },
  {
   "cell_type": "code",
   "execution_count": null,
   "metadata": {},
   "outputs": [],
   "source": []
  }
 ],
 "metadata": {
  "kernelspec": {
   "display_name": "Python 3",
   "language": "python",
   "name": "python3"
  },
  "language_info": {
   "codemirror_mode": {
    "name": "ipython",
    "version": 3
   },
   "file_extension": ".py",
   "mimetype": "text/x-python",
   "name": "python",
   "nbconvert_exporter": "python",
   "pygments_lexer": "ipython3",
   "version": "3.7.6"
  }
 },
 "nbformat": 4,
 "nbformat_minor": 4
}
