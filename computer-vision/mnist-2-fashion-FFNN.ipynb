{
 "cells": [
  {
   "cell_type": "markdown",
   "metadata": {},
   "source": [
    "# Lab: Predicting type of cloth using Convolutional Neural Network (CNN)\n",
    "\n",
    "Fashion MNIST is a drop in replacement for MNIST!"
   ]
  },
  {
   "cell_type": "markdown",
   "metadata": {},
   "source": [
    "## About Fashion mnist\n",
    "\n",
    "Fashion-MNIST is a dataset of Zalando’s article images — consisting of a training set of 60,000 examples and a test set of 10,000 examples. Each example is a 28x28 grayscale image, associated with a label from 10 classes.\n",
    "\n",
    "In other words, we have 70,000 images of 28 pixels width and 28 pixels height in greyscale. Each image is showing one of 10 possible clothing types. \n",
    "\n",
    "Here is one:\n",
    "\n",
    "<img src=\"../assets/images/fashion-mnist-2.png\">\n",
    "\n",
    "Here are some images from the dataset along with the clothing they are showing:\n",
    "\n",
    "<img src=\"../assets/images/fashion-mnist-1.png\">\n",
    "\n",
    "Here are all different types of clothing:\n",
    "\n",
    "\n",
    "\n",
    "| Label | Description |\n",
    "|-------|-------------|\n",
    "| 0     | T-shirt/top |\n",
    "| 1     | Trouser     |\n",
    "| 2     | Pullover    |\n",
    "| 3     | Dress       |\n",
    "| 4     | Coat        |\n",
    "| 5     | Sandal      |\n",
    "| 6     | Shirt       |\n",
    "| 7     | Sneaker     |\n",
    "| 8     | Bag         |\n",
    "| 9     | Ankle boot  |"
   ]
  },
  {
   "cell_type": "code",
   "execution_count": 1,
   "metadata": {},
   "outputs": [],
   "source": [
    "try:\n",
    "  # %tensorflow_version only exists in Colab.\n",
    "  %tensorflow_version 2.x\n",
    "except Exception:\n",
    "  pass\n",
    "\n",
    "import tensorflow as tf\n",
    "from tensorflow import keras\n",
    "import numpy as np"
   ]
  },
  {
   "cell_type": "code",
   "execution_count": 2,
   "metadata": {},
   "outputs": [
    {
     "name": "stdout",
     "output_type": "stream",
     "text": [
      "Running in Google COLAB :  False\n"
     ]
    }
   ],
   "source": [
    "# Install the package for running tensorboard on google colaboration\n",
    "try:\n",
    "    import google.colab\n",
    "    IN_COLAB = True\n",
    "except:\n",
    "    IN_COLAB = False\n",
    "\n",
    "print (\"Running in Google COLAB : \", IN_COLAB)\n"
   ]
  },
  {
   "cell_type": "markdown",
   "metadata": {},
   "source": [
    "## Step 1: Download data"
   ]
  },
  {
   "cell_type": "code",
   "execution_count": 3,
   "metadata": {},
   "outputs": [
    {
     "name": "stdout",
     "output_type": "stream",
     "text": [
      "Downloading data from https://storage.googleapis.com/tensorflow/tf-keras-datasets/train-labels-idx1-ubyte.gz\n",
      "32768/29515 [=================================] - 0s 0us/step\n",
      "Downloading data from https://storage.googleapis.com/tensorflow/tf-keras-datasets/train-images-idx3-ubyte.gz\n",
      "26427392/26421880 [==============================] - 3s 0us/step\n",
      "Downloading data from https://storage.googleapis.com/tensorflow/tf-keras-datasets/t10k-labels-idx1-ubyte.gz\n",
      "8192/5148 [===============================================] - 0s 0us/step\n",
      "Downloading data from https://storage.googleapis.com/tensorflow/tf-keras-datasets/t10k-images-idx3-ubyte.gz\n",
      "4423680/4422102 [==============================] - 0s 0us/step\n",
      "train_images shape :  (60000, 28, 28)\n",
      "train_labels shape :  (60000,)\n",
      "test_images shape :  (10000, 28, 28)\n",
      "test_labels shape :  (10000,)\n"
     ]
    }
   ],
   "source": [
    "(train_images, train_labels), (test_images, test_labels) = keras.datasets.fashion_mnist.load_data()\n",
    "\n",
    "# backup\n",
    "(train_images2, train_labels2), (test_images2, test_labels2) = keras.datasets.fashion_mnist.load_data()\n",
    "\n",
    "print(\"train_images shape : \", train_images.shape)\n",
    "print(\"train_labels shape : \", train_labels.shape)\n",
    "print(\"test_images shape : \", test_images.shape)\n",
    "print(\"test_labels shape : \", test_labels.shape)"
   ]
  },
  {
   "cell_type": "markdown",
   "metadata": {},
   "source": [
    "## Step 2 : Data Exploration"
   ]
  },
  {
   "cell_type": "code",
   "execution_count": 4,
   "metadata": {},
   "outputs": [
    {
     "name": "stdout",
     "output_type": "stream",
     "text": [
      "Displaying train index =  22676\n",
      "train label [22676] = 1 \n",
      "------------ raw data for train_image[22676] -------\n",
      "[[  0   0   0   0   0   0   0   0   0   0 210 203 189 182 188 193 190 192\n",
      "  200   0   0   0   0   0   0   0   0   0]\n",
      " [  0   0   0   0   0   0   0   0   0  29 255 203 204 204 199 203 210 179\n",
      "  216  11   0   0   0   0   0   0   0   0]\n",
      " [  0   0   0   0   0   0   0   0   0 110 207 192 192 192 185 175 188 180\n",
      "  207  79   0   0   0   0   0   0   0   0]\n",
      " [  0   0   0   0   0   0   0   0   0 170 208 189 189 196 180 168 180 179\n",
      "  197 131   0   0   0   0   0   0   0   0]\n",
      " [  0   0   0   0   0   0   0   0   0 198 200 196 194 194 186 176 183 180\n",
      "  185 151   0   0   0   0   0   0   0   0]\n",
      " [  0   0   0   0   0   0   0   0   0 206 188 185 192 197 203 193 181 181\n",
      "  185 143   0   0   0   0   0   0   0   0]\n",
      " [  0   0   0   0   0   0   0   0   1 223 189 191 199 204 212 203 197 188\n",
      "  186 140   0   0   0   0   0   0   0   0]\n",
      " [  0   0   0   0   0   0   0   0  30 224 182 184 196 234 226 196 196 194\n",
      "  194 141   0   0   0   0   0   0   0   0]\n",
      " [  0   0   0   0   0   0   0   0  64 223 183 182 200 200  87 243 192 194\n",
      "  196 140   0   0   0   0   0   0   0   0]\n",
      " [  0   0   0   0   0   0   0   0  96 219 185 177 204 150   0 253 207 198\n",
      "  196 138   0   0   0   0   0   0   0   0]\n",
      " [  0   0   0   0   0   0   0   0 106 213 179 170 227  42   0 222 209 197\n",
      "  208 113   0   0   0   0   0   0   0   0]\n",
      " [  0   0   0   0   0   0   0   0 121 211 175 182 203   0   0 160 213 193\n",
      "  223  74   0   0   0   0   0   0   0   0]\n",
      " [  0   0   0   0   0   0   0   0 131 208 171 204 137   0   0 111 216 191\n",
      "  223  55   0   0   0   0   0   0   0   0]\n",
      " [  0   0   0   0   0   0   0   0 150 203 175 213  95   0   0  96 215 192\n",
      "  218  34   0   0   0   0   0   0   0   0]\n",
      " [  0   0   0   0   0   0   0   0 156 198 176 220  36   0   0  72 213 195\n",
      "  209   6   0   0   0   0   0   0   0   0]\n",
      " [  0   0   0   0   0   0   0   0 155 195 175 226  25   0   0  50 212 200\n",
      "  202   0   0   0   0   0   0   0   0   0]\n",
      " [  0   0   0   0   0   0   0   0 152 204 178 202   0   0   0  31 210 202\n",
      "  204   0   0   0   0   0   0   0   0   0]\n",
      " [  0   0   0   0   0   0   0   0 109 218 193 188   0   0   0  18 206 200\n",
      "  220   0   0   0   0   0   0   0   0   0]\n",
      " [  0   0   0   0   0   0   0   0  65 238 191 223   0   0   0  21 210 200\n",
      "  196  34   0   0   0   0   0   0   0   0]\n",
      " [  0   0   0   0   0   0   0   0  32 234 188 194  28   0   0  24 211 196\n",
      "  194  22   0   0   0   0   0   0   0   0]\n",
      " [  0   0   0   0   0   0   0   0   0 229 186 196  64   0   0  19 208 197\n",
      "  227   7   0   0   0   0   0   0   0   0]\n",
      " [  0   0   0   0   0   0   0   0   0 217 193 197 100   0   0  17 207 200\n",
      "  222   0   0   0   0   0   0   0   0   0]\n",
      " [  0   0   0   0   0   0   0   0   0 183 199 198 125   0   0  17 210 202\n",
      "  217   0   0   0   0   0   0   0   0   0]\n",
      " [  0   0   0   0   0   0   0   0   0 143 204 198 154   0   0  25 211 204\n",
      "  221   0   0   0   0   0   0   0   0   0]\n",
      " [  0   0   0   0   0   0   0   0   0 101 206 200 183   0   0  38 213 205\n",
      "  209   0   0   0   0   0   0   0   0   0]\n",
      " [  0   0   0   0   0   0   0   0   0  62 203 195 184   0   0  41 217 194\n",
      "  192   0   0   0   0   0   0   0   0   0]\n",
      " [  0   0   0   0   0   0   0   0   0  27 206 207 222   0   0  28 223 218\n",
      "  197   0   0   0   0   0   0   0   0   0]\n",
      " [  0   0   0   0   0   0   0   0   0   0 183 192  82   0   0  15 157 160\n",
      "  104   0   0   0   0   0   0   0   0   0]]\n",
      "--------------------\n"
     ]
    },
    {
     "data": {
      "image/png": "[encoded data removed]",
      "text/plain": [
       "<Figure size 432x288 with 1 Axes>"
      ]
     },
     "metadata": {
      "needs_background": "light"
     },
     "output_type": "display_data"
    }
   ],
   "source": [
    "## Run this cell a few times to randomly display some digit data\n",
    "%matplotlib inline\n",
    "import matplotlib.pyplot as plt\n",
    "import random\n",
    "\n",
    "index = random.randint(0, len(train_images))\n",
    "# index = 10\n",
    "print (\"Displaying train index = \", index)\n",
    "\n",
    "print(\"train label [{}] = {} \".format(index, train_labels[index]))\n",
    "print (\"------------ raw data for train_image[{}] -------\".format(index))\n",
    "print(train_images[index])\n",
    "print (\"--------------------\")\n",
    "\n",
    "plt.imshow(train_images[index])\n",
    "plt.show()"
   ]
  },
  {
   "cell_type": "markdown",
   "metadata": {},
   "source": [
    "## Step 3: Shape data"
   ]
  },
  {
   "cell_type": "code",
   "execution_count": 5,
   "metadata": {},
   "outputs": [],
   "source": [
    "train_images  = train_images / 255.0\n",
    "test_images = test_images / 255.0"
   ]
  },
  {
   "cell_type": "markdown",
   "metadata": {},
   "source": [
    "## Step 4: Create model\n",
    "\n",
    "### TODO : Sketch the neural net\n",
    "- What is the input dimensions\n",
    "- how many neurons in layers\n",
    "- how many output neurons\n",
    "\n",
    "<img src=\"../assets/images/neural-net-unknown.png\" style=\"width:30%\"/>"
   ]
  },
  {
   "cell_type": "code",
   "execution_count": 6,
   "metadata": {},
   "outputs": [
    {
     "name": "stdout",
     "output_type": "stream",
     "text": [
      "Model: \"sequential\"\n",
      "_________________________________________________________________\n",
      "Layer (type)                 Output Shape              Param #   \n",
      "=================================================================\n",
      "reshape (Reshape)            (None, 784)               0         \n",
      "_________________________________________________________________\n",
      "dense (Dense)                (None, 128)               100480    \n",
      "_________________________________________________________________\n",
      "dense_1 (Dense)              (None, 10)                1290      \n",
      "=================================================================\n",
      "Total params: 101,770\n",
      "Trainable params: 101,770\n",
      "Non-trainable params: 0\n",
      "_________________________________________________________________\n",
      "None\n"
     ]
    }
   ],
   "source": [
    "## Model 1\n",
    "\n",
    "model = tf.keras.models.Sequential([\n",
    "            keras.layers.Reshape(\n",
    "              target_shape=(28 * 28,), input_shape=(28, 28)\n",
    "              ),\n",
    "            tf.keras.layers.Dense(128, activation=tf.nn.relu), \n",
    "            tf.keras.layers.Dense(10, activation=tf.nn.softmax)\n",
    "            ])\n",
    "\n",
    "\n",
    "model.compile(\n",
    "  optimizer=tf.keras.optimizers.Adam(),  # 'adam'\n",
    "  loss='sparse_categorical_crossentropy',\n",
    "  metrics=['accuracy'])\n",
    "\n",
    "print (model.summary())"
   ]
  },
  {
   "cell_type": "code",
   "execution_count": 7,
   "metadata": {},
   "outputs": [],
   "source": [
    "## Model 2\n",
    "\n",
    "# model = keras.Sequential([\n",
    "#     keras.layers.Reshape(\n",
    "#       target_shape=(28 * 28,), input_shape=(28, 28)\n",
    "#     ),\n",
    "#     keras.layers.Dense(\n",
    "#       units=256, activation=tf.nn.relu  #'relu'\n",
    "#     ),\n",
    "#     keras.layers.Dense(\n",
    "#       units=192, activation=tf.nn.relu  #'relu'\n",
    "#     ),\n",
    "#     keras.layers.Dense(\n",
    "#       units=128, activation=tf.nn.relu  #'relu'\n",
    "#     ),\n",
    "#     keras.layers.Dense(\n",
    "#       units=10, activation=tf.nn.softmax #'softmax'\n",
    "#     )\n",
    "# ])\n",
    "\n",
    "# model.compile(\n",
    "#   optimizer=tf.keras.optimizers.Adam(),  # 'adam'\n",
    "#   loss='sparse_categorical_crossentropy',\n",
    "#   metrics=['accuracy'])\n",
    "\n",
    "# print (model.summary())"
   ]
  },
  {
   "cell_type": "markdown",
   "metadata": {},
   "source": [
    "## Step 5 - Setup Tensorboard"
   ]
  },
  {
   "cell_type": "code",
   "execution_count": 8,
   "metadata": {},
   "outputs": [
    {
     "name": "stdout",
     "output_type": "stream",
     "text": [
      "Saving TB logs to :  /tmp/tensorboard-logs/cnn-fashion-mnist/2020-02-05--18-50-15\n"
     ]
    }
   ],
   "source": [
    "## This is fairly boiler plate code\n",
    "\n",
    "import datetime\n",
    "import os\n",
    "\n",
    "app_name = 'cnn-fashion-mnist' # you can change this, if you like\n",
    "\n",
    "tb_top_level_dir= '/tmp/tensorboard-logs'\n",
    "tensorboard_logs_dir= os.path.join (tb_top_level_dir, app_name, \n",
    "                                    datetime.datetime.now().strftime(\"%Y-%m-%d--%H-%M-%S\"))\n",
    "print (\"Saving TB logs to : \" , tensorboard_logs_dir)\n",
    "\n",
    "tensorboard_callback = tf.keras.callbacks.TensorBoard(log_dir=tensorboard_logs_dir, histogram_freq=1)"
   ]
  },
  {
   "cell_type": "markdown",
   "metadata": {},
   "source": [
    "## Step 6: Training the model\n"
   ]
  },
  {
   "cell_type": "code",
   "execution_count": 9,
   "metadata": {},
   "outputs": [
    {
     "name": "stdout",
     "output_type": "stream",
     "text": [
      "training starting ...\n",
      "Train on 48000 samples, validate on 12000 samples\n",
      "Epoch 1/10\n",
      "48000/48000 [==============================] - 29s 603us/sample - loss: 0.5208 - accuracy: 0.8177 - val_loss: 0.4430 - val_accuracy: 0.8428\n",
      "Epoch 2/10\n",
      "48000/48000 [==============================] - 18s 370us/sample - loss: 0.3861 - accuracy: 0.8615 - val_loss: 0.3808 - val_accuracy: 0.8646\n",
      "Epoch 3/10\n",
      "48000/48000 [==============================] - 14s 301us/sample - loss: 0.3469 - accuracy: 0.8744 - val_loss: 0.3435 - val_accuracy: 0.8728\n",
      "Epoch 4/10\n",
      "48000/48000 [==============================] - 19s 404us/sample - loss: 0.3177 - accuracy: 0.8845 - val_loss: 0.4037 - val_accuracy: 0.8582\n",
      "Epoch 5/10\n",
      "48000/48000 [==============================] - 23s 480us/sample - loss: 0.3002 - accuracy: 0.8899 - val_loss: 0.3754 - val_accuracy: 0.8619\n",
      "Epoch 6/10\n",
      "48000/48000 [==============================] - 19s 405us/sample - loss: 0.2867 - accuracy: 0.8943 - val_loss: 0.3406 - val_accuracy: 0.8810\n",
      "Epoch 7/10\n",
      "48000/48000 [==============================] - 17s 346us/sample - loss: 0.2711 - accuracy: 0.8982 - val_loss: 0.3332 - val_accuracy: 0.8811\n",
      "Epoch 8/10\n",
      "48000/48000 [==============================] - 22s 458us/sample - loss: 0.2608 - accuracy: 0.9032 - val_loss: 0.3498 - val_accuracy: 0.8735\n",
      "Epoch 9/10\n",
      "48000/48000 [==============================] - 18s 367us/sample - loss: 0.2499 - accuracy: 0.9066 - val_loss: 0.3370 - val_accuracy: 0.8820\n",
      "Epoch 10/10\n",
      "48000/48000 [==============================] - 19s 399us/sample - loss: 0.2405 - accuracy: 0.9104 - val_loss: 0.3290 - val_accuracy: 0.8880\n",
      "training done.\n",
      "CPU times: user 3min 19s, sys: 4min 27s, total: 7min 46s\n",
      "Wall time: 3min 22s\n"
     ]
    }
   ],
   "source": [
    "%%time\n",
    "\n",
    "epochs=10\n",
    "print (\"training starting ...\")\n",
    "\n",
    "history = model.fit(\n",
    "    train_images,\n",
    "    train_labels,\n",
    "    epochs=epochs,\n",
    "    validation_split=0.2,\n",
    "    verbose=1,\n",
    "    callbacks=[tensorboard_callback]\n",
    ")\n",
    "\n",
    "print (\"training done.\")"
   ]
  },
  {
   "cell_type": "markdown",
   "metadata": {},
   "source": [
    "## Step 7 : See Training History"
   ]
  },
  {
   "cell_type": "code",
   "execution_count": 10,
   "metadata": {},
   "outputs": [
    {
     "data": {
      "image/png": "[encoded data removed]",
      "text/plain": [
       "<Figure size 432x288 with 1 Axes>"
      ]
     },
     "metadata": {
      "needs_background": "light"
     },
     "output_type": "display_data"
    }
   ],
   "source": [
    "%matplotlib inline\n",
    "import matplotlib.pyplot as plt\n",
    "\n",
    "plt.plot(history.history['accuracy'], label='train_accuracy')\n",
    "plt.plot(history.history['val_accuracy'], label='val_accuracy')\n",
    "plt.legend()\n",
    "plt.show()"
   ]
  },
  {
   "cell_type": "markdown",
   "metadata": {},
   "source": [
    "## Step 8 - Predict\n",
    "\n",
    "**==> Compare prediction time vs training time.  Prediction is very quick!**"
   ]
  },
  {
   "cell_type": "code",
   "execution_count": 11,
   "metadata": {},
   "outputs": [
    {
     "name": "stdout",
     "output_type": "stream",
     "text": [
      "predicting on 10,000 images\n",
      "CPU times: user 1.42 s, sys: 1.71 s, total: 3.13 s\n",
      "Wall time: 2.17 s\n"
     ]
    }
   ],
   "source": [
    "%%time \n",
    "\n",
    "print (\"predicting on {:,} images\".format(len(test_images)))\n",
    "predictions = model.predict(test_images)\n"
   ]
  },
  {
   "cell_type": "code",
   "execution_count": 12,
   "metadata": {},
   "outputs": [
    {
     "name": "stdout",
     "output_type": "stream",
     "text": [
      "random index =  7335\n",
      "test_label[7335] = 5.  So the number is 5\n",
      "prediction of test_image[7335] = [ 0.000  0.000  0.000  0.000  0.000  0.998  0.000  0.000  0.000  0.002]\n",
      "max softmax output =  0.997595\n",
      "index of max softmax output = 5.  So the prediction is same (5)\n"
     ]
    },
    {
     "data": {
      "text/plain": [
       "<matplotlib.image.AxesImage at 0x7f67a45e8d50>"
      ]
     },
     "execution_count": 12,
     "metadata": {},
     "output_type": "execute_result"
    },
    {
     "data": {
      "image/png": "[encoded data removed]",
      "text/plain": [
       "<Figure size 432x288 with 1 Axes>"
      ]
     },
     "metadata": {
      "needs_background": "light"
     },
     "output_type": "display_data"
    }
   ],
   "source": [
    "## Print a sample prediction\n",
    "\n",
    "%matplotlib inline\n",
    "import matplotlib.pyplot as plt\n",
    "import random\n",
    "import numpy as np\n",
    "from pprint import pprint\n",
    "\n",
    "np.set_printoptions(formatter={'float': '{: 0.3f}'.format})\n",
    "\n",
    "index = random.randint(0, len(test_images))\n",
    "\n",
    "print (\"random index = \", index)\n",
    "print (\"test_label[{}] = {}.  So the number is {}\".format(index, test_labels[index], test_labels[index]))\n",
    "print (\"prediction of test_image[{}] = {}\".format(index, predictions[index]))\n",
    "print ('max softmax output = ', np.amax(predictions[index]))\n",
    "print ('index of max softmax output = {}.  So the prediction is same ({})'.format(np.argmax(predictions[index]), np.argmax(predictions[index])))\n",
    "\n",
    "plt.imshow(test_images2[index])"
   ]
  },
  {
   "cell_type": "markdown",
   "metadata": {},
   "source": [
    "## Step 9 : Evaluate the Model "
   ]
  },
  {
   "cell_type": "markdown",
   "metadata": {},
   "source": [
    "### 9.1 - Metrics"
   ]
  },
  {
   "cell_type": "code",
   "execution_count": 13,
   "metadata": {},
   "outputs": [
    {
     "name": "stdout",
     "output_type": "stream",
     "text": [
      "model metrics :  ['loss', 'accuracy']\n",
      "Metric : loss = 0.354\n",
      "Metric : accuracy = 0.879\n"
     ]
    }
   ],
   "source": [
    "metric_names = model.metrics_names\n",
    "print (\"model metrics : \" , metric_names)\n",
    "\n",
    "metrics = model.evaluate(test_images, test_labels, verbose=0)\n",
    "\n",
    "for idx, metric in enumerate(metric_names):\n",
    "    print (\"Metric : {} = {:,.3f}\".format (metric_names[idx], metrics[idx]))"
   ]
  },
  {
   "cell_type": "markdown",
   "metadata": {},
   "source": [
    "### 9.2 - Confusion Matrix"
   ]
  },
  {
   "cell_type": "code",
   "execution_count": 14,
   "metadata": {},
   "outputs": [
    {
     "name": "stdout",
     "output_type": "stream",
     "text": [
      "predictions shape :  (10000, 10)\n",
      "prediction 0 :  [ 0.000  0.000  0.000  0.000  0.000  0.022  0.000  0.003  0.000  0.975]\n",
      "prediction 1 :  [ 0.000  0.000  0.996  0.000  0.004  0.000  0.000  0.000  0.000  0.000]\n"
     ]
    }
   ],
   "source": [
    "## our predictions is an array of arrays\n",
    "print('predictions shape : ', predictions.shape)\n",
    "print ('prediction 0 : ' , predictions[0])\n",
    "print ('prediction 1 : ' , predictions[1])"
   ]
  },
  {
   "cell_type": "code",
   "execution_count": 15,
   "metadata": {},
   "outputs": [
    {
     "name": "stdout",
     "output_type": "stream",
     "text": [
      "prediction2 0 :  9\n",
      "prediction2 1 :  2\n"
     ]
    }
   ],
   "source": [
    "## We need to find the final output (max of softmax probabilities for each prediction)\n",
    "predictions2 = [ np.argmax(p) for p in predictions]\n",
    "print ('prediction2 0 : ' , predictions2[0])\n",
    "print ('prediction2 1 : ' , predictions2[1])"
   ]
  },
  {
   "cell_type": "code",
   "execution_count": 16,
   "metadata": {},
   "outputs": [
    {
     "data": {
      "text/plain": [
       "array([[880,   1,  17,  11,   6,   0,  75,   0,  10,   0],\n",
       "       [ 12, 954,   2,  23,   5,   0,   3,   0,   1,   0],\n",
       "       [ 15,   1, 798,   5, 113,   0,  66,   0,   2,   0],\n",
       "       [ 35,   4,  22, 864,  42,   0,  30,   0,   3,   0],\n",
       "       [  1,   0,  93,  24, 833,   0,  49,   0,   0,   0],\n",
       "       [  0,   0,   0,   1,   0, 970,   0,  15,   1,  13],\n",
       "       [168,   0,  82,  17,  82,   0, 643,   0,   8,   0],\n",
       "       [  0,   0,   0,   0,   0,  45,   0, 914,   0,  41],\n",
       "       [  3,   0,   2,   3,   6,   4,   7,   2, 973,   0],\n",
       "       [  0,   0,   0,   0,   0,  15,   1,  26,   0, 958]])"
      ]
     },
     "execution_count": 16,
     "metadata": {},
     "output_type": "execute_result"
    }
   ],
   "source": [
    "from sklearn.metrics import confusion_matrix\n",
    "import seaborn as sns\n",
    "\n",
    "cm = confusion_matrix(test_labels, predictions2, labels = [0,1,2,3,4,5,6,7,8,9])\n",
    "cm"
   ]
  },
  {
   "cell_type": "code",
   "execution_count": 19,
   "metadata": {},
   "outputs": [
    {
     "data": {
      "text/plain": [
       "[]"
      ]
     },
     "execution_count": 19,
     "metadata": {},
     "output_type": "execute_result"
    },
    {
     "data": {
      "image/png": "[encoded data removed]",
      "text/plain": [
       "<Figure size 576x432 with 2 Axes>"
      ]
     },
     "metadata": {
      "needs_background": "light"
     },
     "output_type": "display_data"
    }
   ],
   "source": [
    "import matplotlib.pyplot as plt\n",
    "import seaborn as sns\n",
    "\n",
    "plt.figure(figsize = (8,6))\n",
    "\n",
    "# colormaps : cmap=\"YlGnBu\" , cmap=\"Greens\", cmap=\"Blues\",  cmap=\"Reds\"\n",
    "sns.heatmap(cm, annot=True, cmap=\"Reds\", fmt='d').plot()"
   ]
  },
  {
   "cell_type": "markdown",
   "metadata": {},
   "source": [
    "### 9.3 - Metrics Calculated from Confusion Matrix"
   ]
  },
  {
   "cell_type": "code",
   "execution_count": 18,
   "metadata": {},
   "outputs": [
    {
     "name": "stdout",
     "output_type": "stream",
     "text": [
      "{'0': {'f1-score': 0.8325449385052034,\n",
      "       'precision': 0.7899461400359067,\n",
      "       'recall': 0.88,\n",
      "       'support': 1000},\n",
      " '1': {'f1-score': 0.973469387755102,\n",
      "       'precision': 0.99375,\n",
      "       'recall': 0.954,\n",
      "       'support': 1000},\n",
      " '2': {'f1-score': 0.7916666666666667,\n",
      "       'precision': 0.7854330708661418,\n",
      "       'recall': 0.798,\n",
      "       'support': 1000},\n",
      " '3': {'f1-score': 0.8870636550308009,\n",
      "       'precision': 0.9113924050632911,\n",
      "       'recall': 0.864,\n",
      "       'support': 1000},\n",
      " '4': {'f1-score': 0.7982750359367513,\n",
      "       'precision': 0.766329346826127,\n",
      "       'recall': 0.833,\n",
      "       'support': 1000},\n",
      " '5': {'f1-score': 0.9537856440511306,\n",
      "       'precision': 0.9381044487427466,\n",
      "       'recall': 0.97,\n",
      "       'support': 1000},\n",
      " '6': {'f1-score': 0.6862326574172892,\n",
      "       'precision': 0.7356979405034325,\n",
      "       'recall': 0.643,\n",
      "       'support': 1000},\n",
      " '7': {'f1-score': 0.9340827797649464,\n",
      "       'precision': 0.955067920585162,\n",
      "       'recall': 0.914,\n",
      "       'support': 1000},\n",
      " '8': {'f1-score': 0.9739739739739739,\n",
      "       'precision': 0.9749498997995992,\n",
      "       'recall': 0.973,\n",
      "       'support': 1000},\n",
      " '9': {'f1-score': 0.9522862823061631,\n",
      "       'precision': 0.9466403162055336,\n",
      "       'recall': 0.958,\n",
      "       'support': 1000},\n",
      " 'accuracy': 0.8787,\n",
      " 'macro avg': {'f1-score': 0.8783381021408028,\n",
      "               'precision': 0.879731148862794,\n",
      "               'recall': 0.8786999999999999,\n",
      "               'support': 10000},\n",
      " 'weighted avg': {'f1-score': 0.8783381021408028,\n",
      "                  'precision': 0.879731148862794,\n",
      "                  'recall': 0.8787,\n",
      "                  'support': 10000}}\n"
     ]
    }
   ],
   "source": [
    "from sklearn.metrics import classification_report\n",
    "from pprint import pprint\n",
    "\n",
    "pprint(classification_report(test_labels, predictions2, output_dict=True))"
   ]
  },
  {
   "cell_type": "markdown",
   "metadata": {},
   "source": [
    "## Step 10 : Improve the Model\n",
    "\n",
    "Try the following exercises\n",
    "\n",
    "**1 - Increase epochs**  \n",
    "- In Step-6, increase epochs to 50\n",
    "- Rerun the notebook\n",
    "- did the accuracy improve?\n",
    "- how much the training time go up?\n",
    "\n",
    "**2 - Build a deeper neural net** \n",
    "- IN Step-4, uncomment and use 'model-2'.  This is a wider/deeper model\n",
    "- Rerun the notebook again\n",
    "- did the accuracy improve?\n",
    "- how much the training time go up?"
   ]
  },
  {
   "cell_type": "code",
   "execution_count": null,
   "metadata": {},
   "outputs": [],
   "source": []
  }
 ],
 "metadata": {
  "kernelspec": {
   "display_name": "Python 3",
   "language": "python",
   "name": "python3"
  },
  "language_info": {
   "codemirror_mode": {
    "name": "ipython",
    "version": 3
   },
   "file_extension": ".py",
   "mimetype": "text/x-python",
   "name": "python",
   "nbconvert_exporter": "python",
   "pygments_lexer": "ipython3",
   "version": "3.7.6"
  }
 },
 "nbformat": 4,
 "nbformat_minor": 4
}
