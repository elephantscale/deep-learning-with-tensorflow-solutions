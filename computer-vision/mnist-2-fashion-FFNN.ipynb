{
 "cells": [
  {
   "cell_type": "markdown",
   "metadata": {},
   "source": [
    "# Lab: Predicting type of cloth using Convolutional Neural Network (CNN)\n",
    "\n",
    "Fashion MNIST is a drop in replacement for MNIST!"
   ]
  },
  {
   "cell_type": "markdown",
   "metadata": {},
   "source": [
    "## About Fashion mnist\n",
    "\n",
    "Fashion-MNIST is a dataset of Zalando’s article images — consisting of a training set of 60,000 examples and a test set of 10,000 examples. Each example is a 28x28 grayscale image, associated with a label from 10 classes.\n",
    "\n",
    "In other words, we have 70,000 images of 28 pixels width and 28 pixels height in greyscale. Each image is showing one of 10 possible clothing types. \n",
    "\n",
    "Here is one:\n",
    "\n",
    "<img src=\"../assets/images/fashion-mnist-2.png\">\n",
    "\n",
    "Here are some images from the dataset along with the clothing they are showing:\n",
    "\n",
    "<img src=\"../assets/images/fashion-mnist-1.png\">\n",
    "\n",
    "Here are all different types of clothing:\n",
    "\n",
    "\n",
    "\n",
    "| Label | Description |\n",
    "|-------|-------------|\n",
    "| 0     | T-shirt/top |\n",
    "| 1     | Trouser     |\n",
    "| 2     | Pullover    |\n",
    "| 3     | Dress       |\n",
    "| 4     | Coat        |\n",
    "| 5     | Sandal      |\n",
    "| 6     | Shirt       |\n",
    "| 7     | Sneaker     |\n",
    "| 8     | Bag         |\n",
    "| 9     | Ankle boot  |"
   ]
  },
  {
   "cell_type": "code",
   "execution_count": 1,
   "metadata": {},
   "outputs": [
    {
     "name": "stdout",
     "output_type": "stream",
     "text": [
      "Running in Google COLAB :  False\n"
     ]
    }
   ],
   "source": [
    "## Determine if we are running on google colab\n",
    "\n",
    "try:\n",
    "    import google.colab\n",
    "    RUNNING_IN_COLAB = True\n",
    "except:\n",
    "    RUNNING_IN_COLAB = False\n",
    "\n",
    "print (\"Running in Google COLAB : \", RUNNING_IN_COLAB)\n"
   ]
  },
  {
   "cell_type": "code",
   "execution_count": 2,
   "metadata": {},
   "outputs": [],
   "source": [
    "try:\n",
    "  # %tensorflow_version only exists in Colab.\n",
    "  %tensorflow_version 2.x\n",
    "except Exception:\n",
    "  pass\n",
    "\n",
    "import tensorflow as tf\n",
    "from tensorflow import keras"
   ]
  },
  {
   "cell_type": "markdown",
   "metadata": {},
   "source": [
    "## Step 1: Download data"
   ]
  },
  {
   "cell_type": "code",
   "execution_count": 3,
   "metadata": {},
   "outputs": [
    {
     "name": "stdout",
     "output_type": "stream",
     "text": [
      "Downloading data from https://storage.googleapis.com/tensorflow/tf-keras-datasets/train-labels-idx1-ubyte.gz\n",
      "32768/29515 [=================================] - 0s 1us/step\n",
      "Downloading data from https://storage.googleapis.com/tensorflow/tf-keras-datasets/train-images-idx3-ubyte.gz\n",
      "26427392/26421880 [==============================] - 2s 0us/step\n",
      "Downloading data from https://storage.googleapis.com/tensorflow/tf-keras-datasets/t10k-labels-idx1-ubyte.gz\n",
      "8192/5148 [===============================================] - 0s 0us/step\n",
      "Downloading data from https://storage.googleapis.com/tensorflow/tf-keras-datasets/t10k-images-idx3-ubyte.gz\n",
      "4423680/4422102 [==============================] - 0s 0us/step\n",
      "train_images shape :  (60000, 28, 28)\n",
      "train_labels shape :  (60000,)\n",
      "test_images shape :  (10000, 28, 28)\n",
      "test_labels shape :  (10000,)\n"
     ]
    }
   ],
   "source": [
    "(train_images, train_labels), (test_images, test_labels) = keras.datasets.fashion_mnist.load_data()\n",
    "\n",
    "# backup\n",
    "(train_images2, train_labels2), (test_images2, test_labels2) = keras.datasets.fashion_mnist.load_data()\n",
    "\n",
    "print(\"train_images shape : \", train_images.shape)\n",
    "print(\"train_labels shape : \", train_labels.shape)\n",
    "print(\"test_images shape : \", test_images.shape)\n",
    "print(\"test_labels shape : \", test_labels.shape)"
   ]
  },
  {
   "cell_type": "markdown",
   "metadata": {},
   "source": [
    "## Step 2 : Data Exploration"
   ]
  },
  {
   "cell_type": "code",
   "execution_count": 4,
   "metadata": {},
   "outputs": [
    {
     "name": "stdout",
     "output_type": "stream",
     "text": [
      "Displaying train index =  8533\n",
      "train label [8533] = 9 \n",
      "------------ raw data for train_image[8533] -------\n",
      "[[  0   0   0   0   0   0   0   0   0   0   0   0   0   0   0   0   0   0\n",
      "    0   0   0   0   0   0   0   0   0   0]\n",
      " [  0   0   0   0   0   0   0   0   0   0   0   0   0   0   0   0   0   0\n",
      "    0   0   0   0   0   0   0   0   0   0]\n",
      " [  0   0   0   0   0   0   0   0   0   0   0   0   0   0   0   0   0   0\n",
      "    0   0   0   0   0   0   0   0   0   0]\n",
      " [  0   0   0   0   0   0   0   0   0   0   0   0   0   0   1   0   2   7\n",
      "    0   2   3   3   4   0   0  20  14   0]\n",
      " [  0   0   0   0   0   0   0   0   0   0   0   0   0   0   0   0   0   0\n",
      "    0   0   0   0   0   0   0 166 214  76]\n",
      " [  0   0   0   0   0   0   0   0   0   0   0   0   0   0   1   0   0 122\n",
      "   76   4   0   0   0   0   0 187 210   8]\n",
      " [  0   0   0   0   0   0   0   0   0   0   0   0   0   0   0   0 127 200\n",
      "  206 224 205 222 237 238 195 217  87   0]\n",
      " [  0   0   0   0   0   0   0   0   0   0   0   0   0   5   0   4 223 174\n",
      "  199 208 214 219 210 211 211 203   0   0]\n",
      " [  0   0   0   0   0   0   0   0   0   0   0   0   0   1   0  47 201 173\n",
      "  165 185 224 180 208 202 211 181   0   0]\n",
      " [  0   0   0   0   0   0   0   0   0   0   0   0   0   0   0 163 185 187\n",
      "  209 236 174 170 205 191 211 140   0   0]\n",
      " [  0   0   0   0   0   0   0   0   0   0   0   0   1   0  39 253 181 196\n",
      "  214 198 171 188 195 188 230 141   0   0]\n",
      " [  0   0   0   0   0   0   0   0   0   0   0   0   0   0 134 211 177 217\n",
      "  197 178 192 191 189 167 226 171   0   0]\n",
      " [  0   0   0   0   0   0   0   0   0   2   0   2   0   0 220 195 195 192\n",
      "  173 185 192 185 187 183 201 227   0   0]\n",
      " [  0   0   0   0   0   0   0   0   0   1   0   2   0  50 247 184 133 176\n",
      "  193 194 196 193 175 187 189 219  91   0]\n",
      " [  0   0   0   0   0   0   0   0   0   0   0   0   0 151 220 193 173 159\n",
      "  215 192 181 183 179 189 204 208 203   0]\n",
      " [  0   0   0   0   0   0   0   0   0   0   0   0  91 244 209 188 170 191\n",
      "  190 177 174 183 194 199 199 199 251  36]\n",
      " [  5   0   1   4   4   3   0   0   0   0   0  49 231 207 190 191 166 198\n",
      "  187 185 194 196 193 199 204 198 255  67]\n",
      " [  3   1   0   0   0   0   0   0   0   0  74 211 187 194 213 190 201 190\n",
      "  192 190 182 165 181 202 202 202 254  47]\n",
      " [  0   0   0  49  88  58   0  27 114 167 209 173 186 194 216 197 192 207\n",
      "  205 201 192 195 209 211 213 212 255 127]\n",
      " [  0   0 180 228 242 233 224 196 207 199 186 184 183 187 194 214 213 214\n",
      "  214 208 209 203 210 217 222 214 221 158]\n",
      " [  0  27 195 209 212 213 232 254 237 207 194 186 189 209 193 181 195 215\n",
      "  223 213 216 229 223 211 216 229 238 155]\n",
      " [  0 165 208 211 194 111  84 130 190 225 218 207 192 194 199 197 204 217\n",
      "  215 231 255 185 213 235 208 193 126   0]\n",
      " [  1 220 237 228 212 226 207 179 171 191 198 194 179 164 186 206 221 235\n",
      "  255 162  35   0   0  54   0   0   0   0]\n",
      " [  0   0  55 132 177 196 224 242 253 240 236 232 236 240 255 255 247 133\n",
      "    9   0   0   0   0   0   0   0   2   0]\n",
      " [  0   0   0   0   0   0  18  37  76 107 139 158 162 144 105  44   0   0\n",
      "    0   0   5   2   4   2   3   0   0   2]\n",
      " [  0   0   0   0   0   0   0   0   0   0   0   0   0   0   0   0   0   0\n",
      "    0   0   0   0   0   0   0   0   0   0]\n",
      " [  0   0   0   0   0   0   0   0   0   0   0   0   0   0   0   0   0   0\n",
      "    0   0   0   0   0   0   0   0   0   0]\n",
      " [  0   0   0   0   0   0   0   0   0   0   0   0   0   0   0   0   0   0\n",
      "    0   0   0   0   0   0   0   0   0   0]]\n",
      "--------------------\n"
     ]
    },
    {
     "data": {
      "image/png": "[encoded data removed]",
      "text/plain": [
       "<Figure size 432x288 with 1 Axes>"
      ]
     },
     "metadata": {
      "needs_background": "light"
     },
     "output_type": "display_data"
    }
   ],
   "source": [
    "## Run this cell a few times to randomly display some digit data\n",
    "%matplotlib inline\n",
    "import matplotlib.pyplot as plt\n",
    "import random\n",
    "\n",
    "index = random.randint(0, len(train_images))\n",
    "# index = 10\n",
    "print (\"Displaying train index = \", index)\n",
    "\n",
    "print(\"train label [{}] = {} \".format(index, train_labels[index]))\n",
    "print (\"------------ raw data for train_image[{}] -------\".format(index))\n",
    "print(train_images[index])\n",
    "print (\"--------------------\")\n",
    "\n",
    "plt.imshow(train_images[index])\n",
    "plt.show()"
   ]
  },
  {
   "cell_type": "markdown",
   "metadata": {},
   "source": [
    "## Step 3: Shape data"
   ]
  },
  {
   "cell_type": "code",
   "execution_count": 5,
   "metadata": {},
   "outputs": [],
   "source": [
    "train_images  = train_images / 255.0\n",
    "test_images = test_images / 255.0"
   ]
  },
  {
   "cell_type": "markdown",
   "metadata": {},
   "source": [
    "## Step 4: Create model\n",
    "\n",
    "### TODO : Sketch the neural net\n",
    "- What is the input dimensions\n",
    "- how many neurons in layers\n",
    "- how many output neurons\n",
    "\n",
    "<img src=\"../assets/images/neural-net-unknown.png\" style=\"width:30%\"/>"
   ]
  },
  {
   "cell_type": "code",
   "execution_count": 6,
   "metadata": {},
   "outputs": [
    {
     "name": "stdout",
     "output_type": "stream",
     "text": [
      "Model: \"sequential\"\n",
      "_________________________________________________________________\n",
      "Layer (type)                 Output Shape              Param #   \n",
      "=================================================================\n",
      "reshape (Reshape)            (None, 784)               0         \n",
      "_________________________________________________________________\n",
      "dense (Dense)                (None, 128)               100480    \n",
      "_________________________________________________________________\n",
      "dense_1 (Dense)              (None, 10)                1290      \n",
      "=================================================================\n",
      "Total params: 101,770\n",
      "Trainable params: 101,770\n",
      "Non-trainable params: 0\n",
      "_________________________________________________________________\n",
      "None\n"
     ]
    }
   ],
   "source": [
    "## Model 1\n",
    "\n",
    "model = tf.keras.models.Sequential([\n",
    "            keras.layers.Reshape(\n",
    "              target_shape=(28 * 28,), input_shape=(28, 28)\n",
    "              ),\n",
    "            tf.keras.layers.Dense(128, activation=tf.nn.relu), \n",
    "            tf.keras.layers.Dense(10, activation=tf.nn.softmax)\n",
    "            ])\n",
    "\n",
    "\n",
    "model.compile(\n",
    "  optimizer=tf.keras.optimizers.Adam(),  # 'adam'\n",
    "  loss='sparse_categorical_crossentropy',\n",
    "  metrics=['accuracy'])\n",
    "\n",
    "print (model.summary())"
   ]
  },
  {
   "cell_type": "code",
   "execution_count": 7,
   "metadata": {},
   "outputs": [],
   "source": [
    "## Model 2\n",
    "\n",
    "# model = keras.Sequential([\n",
    "#     keras.layers.Reshape(\n",
    "#       target_shape=(28 * 28,), input_shape=(28, 28)\n",
    "#     ),\n",
    "#     keras.layers.Dense(\n",
    "#       units=256, activation=tf.nn.relu  #'relu'\n",
    "#     ),\n",
    "#     keras.layers.Dense(\n",
    "#       units=192, activation=tf.nn.relu  #'relu'\n",
    "#     ),\n",
    "#     keras.layers.Dense(\n",
    "#       units=128, activation=tf.nn.relu  #'relu'\n",
    "#     ),\n",
    "#     keras.layers.Dense(\n",
    "#       units=10, activation=tf.nn.softmax #'softmax'\n",
    "#     )\n",
    "# ])\n",
    "\n",
    "# model.compile(\n",
    "#   optimizer=tf.keras.optimizers.Adam(),  # 'adam'\n",
    "#   loss='sparse_categorical_crossentropy',\n",
    "#   metrics=['accuracy'])\n",
    "\n",
    "# print (model.summary())"
   ]
  },
  {
   "cell_type": "markdown",
   "metadata": {},
   "source": [
    "## Step 5 - Setup Tensorboard"
   ]
  },
  {
   "cell_type": "code",
   "execution_count": 8,
   "metadata": {},
   "outputs": [
    {
     "name": "stdout",
     "output_type": "stream",
     "text": [
      "Saving TB logs to :  /tmp/tensorboard-logs/fashion-mnist/09-52-40\n"
     ]
    },
    {
     "data": {
      "text/plain": [
       "ERROR: Failed to launch TensorBoard (exited with 255).\n",
       "Contents of stderr:\n",
       "E0612 09:52:43.632666 140230248339264 program.py:311] TensorBoard could not bind to any port around 6006 (tried 10 times)\n",
       "ERROR: TensorBoard could not bind to any port around 6006 (tried 10 times)"
      ]
     },
     "metadata": {},
     "output_type": "display_data"
    }
   ],
   "source": [
    "## This is fairly boiler plate code\n",
    "\n",
    "import datetime\n",
    "import os\n",
    "import shutil\n",
    "\n",
    "app_name = 'fashion-mnist'\n",
    "\n",
    "# timestamp  = datetime.datetime.now().strftime(\"%Y-%m-%d--%H-%M-%S\")\n",
    "\n",
    "tb_top_level_dir= '/tmp/tensorboard-logs'\n",
    "\n",
    "tb_app_dir = os.path.join (tb_top_level_dir, app_name)\n",
    "\n",
    "tb_logs_dir = os.path.join (tb_app_dir, datetime.datetime.now().strftime(\"%H-%M-%S\"))\n",
    "\n",
    "\n",
    "print (\"Saving TB logs to : \" , tb_logs_dir)\n",
    "\n",
    "#clear out old logs\n",
    "shutil.rmtree ( tb_app_dir, ignore_errors=True )\n",
    "\n",
    "tensorboard_callback = tf.keras.callbacks.TensorBoard(log_dir=tb_logs_dir, write_graph=True, \n",
    "                                                      write_images=True, histogram_freq=1)\n",
    "## This will embed Tensorboard right here in jupyter!\n",
    "%load_ext tensorboard\n",
    "%tensorboard --logdir $tb_logs_dir"
   ]
  },
  {
   "cell_type": "markdown",
   "metadata": {},
   "source": [
    "## Step 6: Training the model\n"
   ]
  },
  {
   "cell_type": "code",
   "execution_count": 9,
   "metadata": {},
   "outputs": [
    {
     "name": "stdout",
     "output_type": "stream",
     "text": [
      "training starting ...\n",
      "Epoch 1/10\n",
      "1500/1500 [==============================] - 8s 5ms/step - loss: 0.5180 - accuracy: 0.8179 - val_loss: 0.4082 - val_accuracy: 0.8538\n",
      "Epoch 2/10\n",
      "1500/1500 [==============================] - 11s 7ms/step - loss: 0.3882 - accuracy: 0.8615 - val_loss: 0.3821 - val_accuracy: 0.8673\n",
      "Epoch 3/10\n",
      "1500/1500 [==============================] - 9s 6ms/step - loss: 0.3482 - accuracy: 0.8739 - val_loss: 0.3702 - val_accuracy: 0.8712\n",
      "Epoch 4/10\n",
      "1500/1500 [==============================] - 12s 8ms/step - loss: 0.3220 - accuracy: 0.8827 - val_loss: 0.3389 - val_accuracy: 0.8798\n",
      "Epoch 5/10\n",
      "1500/1500 [==============================] - 10s 6ms/step - loss: 0.3009 - accuracy: 0.8907 - val_loss: 0.3406 - val_accuracy: 0.8783\n",
      "Epoch 6/10\n",
      "1500/1500 [==============================] - 12s 8ms/step - loss: 0.2839 - accuracy: 0.8956 - val_loss: 0.3368 - val_accuracy: 0.8815\n",
      "Epoch 7/10\n",
      "1500/1500 [==============================] - 14s 9ms/step - loss: 0.2706 - accuracy: 0.8996 - val_loss: 0.3228 - val_accuracy: 0.8868\n",
      "Epoch 8/10\n",
      "1500/1500 [==============================] - 12s 8ms/step - loss: 0.2588 - accuracy: 0.9036 - val_loss: 0.3185 - val_accuracy: 0.8873\n",
      "Epoch 9/10\n",
      "1500/1500 [==============================] - 7s 5ms/step - loss: 0.2487 - accuracy: 0.9082 - val_loss: 0.3132 - val_accuracy: 0.8873\n",
      "Epoch 10/10\n",
      "1500/1500 [==============================] - 7s 5ms/step - loss: 0.2405 - accuracy: 0.9112 - val_loss: 0.3212 - val_accuracy: 0.8838\n",
      "training done.\n",
      "CPU times: user 2min 48s, sys: 3min 39s, total: 6min 27s\n",
      "Wall time: 1min 42s\n"
     ]
    }
   ],
   "source": [
    "%%time\n",
    "\n",
    "epochs=10\n",
    "print (\"training starting ...\")\n",
    "\n",
    "history = model.fit(\n",
    "    train_images,\n",
    "    train_labels,\n",
    "    epochs=epochs,\n",
    "    validation_split=0.2,\n",
    "    verbose=1,\n",
    "    callbacks=[tensorboard_callback]\n",
    ")\n",
    "\n",
    "print (\"training done.\")"
   ]
  },
  {
   "cell_type": "markdown",
   "metadata": {},
   "source": [
    "## Step 7 : See Training History"
   ]
  },
  {
   "cell_type": "code",
   "execution_count": 10,
   "metadata": {},
   "outputs": [
    {
     "data": {
      "image/png": "[encoded data removed]",
      "text/plain": [
       "<Figure size 432x288 with 1 Axes>"
      ]
     },
     "metadata": {
      "needs_background": "light"
     },
     "output_type": "display_data"
    }
   ],
   "source": [
    "%matplotlib inline\n",
    "import matplotlib.pyplot as plt\n",
    "\n",
    "plt.plot(history.history['accuracy'], label='train_accuracy')\n",
    "plt.plot(history.history['val_accuracy'], label='val_accuracy')\n",
    "plt.legend()\n",
    "plt.show()"
   ]
  },
  {
   "cell_type": "markdown",
   "metadata": {},
   "source": [
    "## Step 8 - Predict\n",
    "\n",
    "**==> Compare prediction time vs training time.  Prediction is very quick!**"
   ]
  },
  {
   "cell_type": "code",
   "execution_count": 11,
   "metadata": {},
   "outputs": [
    {
     "name": "stdout",
     "output_type": "stream",
     "text": [
      "predicting on 10,000 images\n",
      "CPU times: user 2.07 s, sys: 1.9 s, total: 3.97 s\n",
      "Wall time: 1.23 s\n"
     ]
    }
   ],
   "source": [
    "%%time \n",
    "\n",
    "print (\"predicting on {:,} images\".format(len(test_images)))\n",
    "predictions = model.predict(test_images)\n"
   ]
  },
  {
   "cell_type": "code",
   "execution_count": 12,
   "metadata": {},
   "outputs": [
    {
     "name": "stdout",
     "output_type": "stream",
     "text": [
      "random index =  4889\n",
      "test_label[4889] = 4.  So the number is 4\n",
      "prediction of test_image[4889] = [ 0.000  0.000  0.029  0.000  0.963  0.000  0.008  0.000  0.000  0.000]\n",
      "max softmax output =  0.9627787\n",
      "index of max softmax output = 4.  So the prediction is same (4)\n"
     ]
    },
    {
     "data": {
      "text/plain": [
       "<matplotlib.image.AxesImage at 0x7fbcc01de710>"
      ]
     },
     "execution_count": 12,
     "metadata": {},
     "output_type": "execute_result"
    },
    {
     "data": {
      "image/png": "[encoded data removed]",
      "text/plain": [
       "<Figure size 432x288 with 1 Axes>"
      ]
     },
     "metadata": {
      "needs_background": "light"
     },
     "output_type": "display_data"
    }
   ],
   "source": [
    "## Print a sample prediction\n",
    "\n",
    "%matplotlib inline\n",
    "import matplotlib.pyplot as plt\n",
    "import random\n",
    "import numpy as np\n",
    "from pprint import pprint\n",
    "\n",
    "np.set_printoptions(formatter={'float': '{: 0.3f}'.format})\n",
    "\n",
    "index = random.randint(0, len(test_images))\n",
    "\n",
    "print (\"random index = \", index)\n",
    "print (\"test_label[{}] = {}.  So the number is {}\".format(index, test_labels[index], test_labels[index]))\n",
    "print (\"prediction of test_image[{}] = {}\".format(index, predictions[index]))\n",
    "print ('max softmax output = ', np.amax(predictions[index]))\n",
    "print ('index of max softmax output = {}.  So the prediction is same ({})'.format(np.argmax(predictions[index]), np.argmax(predictions[index])))\n",
    "\n",
    "plt.imshow(test_images2[index])"
   ]
  },
  {
   "cell_type": "markdown",
   "metadata": {},
   "source": [
    "## Step 9 : Evaluate the Model "
   ]
  },
  {
   "cell_type": "markdown",
   "metadata": {},
   "source": [
    "### 9.1 - Metrics"
   ]
  },
  {
   "cell_type": "code",
   "execution_count": 13,
   "metadata": {},
   "outputs": [
    {
     "name": "stdout",
     "output_type": "stream",
     "text": [
      "model metrics :  ['loss', 'accuracy']\n",
      "Metric : loss = 0.349\n",
      "Metric : accuracy = 0.878\n"
     ]
    }
   ],
   "source": [
    "metric_names = model.metrics_names\n",
    "print (\"model metrics : \" , metric_names)\n",
    "\n",
    "metrics = model.evaluate(test_images, test_labels, verbose=0)\n",
    "\n",
    "for idx, metric in enumerate(metric_names):\n",
    "    print (\"Metric : {} = {:,.3f}\".format (metric_names[idx], metrics[idx]))"
   ]
  },
  {
   "cell_type": "markdown",
   "metadata": {},
   "source": [
    "### 9.2 - Confusion Matrix"
   ]
  },
  {
   "cell_type": "code",
   "execution_count": 14,
   "metadata": {},
   "outputs": [
    {
     "name": "stdout",
     "output_type": "stream",
     "text": [
      "predictions shape :  (10000, 10)\n",
      "prediction 0 :  [ 0.000  0.000  0.000  0.000  0.000  0.000  0.000  0.003  0.000  0.997]\n",
      "prediction 1 :  [ 0.000  0.000  0.989  0.000  0.011  0.000  0.001  0.000  0.000  0.000]\n"
     ]
    }
   ],
   "source": [
    "## our predictions is an array of arrays\n",
    "print('predictions shape : ', predictions.shape)\n",
    "print ('prediction 0 : ' , predictions[0])\n",
    "print ('prediction 1 : ' , predictions[1])"
   ]
  },
  {
   "cell_type": "code",
   "execution_count": 15,
   "metadata": {},
   "outputs": [
    {
     "name": "stdout",
     "output_type": "stream",
     "text": [
      "prediction2 0 :  9\n",
      "prediction2 1 :  2\n"
     ]
    }
   ],
   "source": [
    "## We need to find the final output (max of softmax probabilities for each prediction)\n",
    "predictions2 = [ np.argmax(p) for p in predictions]\n",
    "print ('prediction2 0 : ' , predictions2[0])\n",
    "print ('prediction2 1 : ' , predictions2[1])"
   ]
  },
  {
   "cell_type": "code",
   "execution_count": 16,
   "metadata": {},
   "outputs": [
    {
     "data": {
      "text/plain": [
       "array([[831,   1,  19,  22,  10,   1, 108,   0,   8,   0],\n",
       "       [  4, 967,   1,  21,   4,   0,   2,   0,   1,   0],\n",
       "       [ 17,   1, 732,  12, 179,   0,  59,   0,   0,   0],\n",
       "       [ 29,   4,  14, 885,  47,   0,  18,   0,   3,   0],\n",
       "       [  1,   0,  51,  25, 894,   0,  28,   0,   1,   0],\n",
       "       [  0,   0,   0,   0,   0, 964,   0,  14,   1,  21],\n",
       "       [124,   2,  69,  29, 129,   0, 629,   0,  18,   0],\n",
       "       [  0,   0,   0,   0,   0,  21,   0, 919,   1,  59],\n",
       "       [  4,   0,   3,   2,   8,   2,   1,   3, 977,   0],\n",
       "       [  0,   0,   0,   0,   0,   4,   1,  16,   0, 979]])"
      ]
     },
     "execution_count": 16,
     "metadata": {},
     "output_type": "execute_result"
    }
   ],
   "source": [
    "from sklearn.metrics import confusion_matrix\n",
    "import seaborn as sns\n",
    "\n",
    "cm = confusion_matrix(test_labels, predictions2, labels = [0,1,2,3,4,5,6,7,8,9])\n",
    "cm"
   ]
  },
  {
   "cell_type": "code",
   "execution_count": 17,
   "metadata": {},
   "outputs": [
    {
     "data": {
      "text/plain": [
       "[]"
      ]
     },
     "execution_count": 17,
     "metadata": {},
     "output_type": "execute_result"
    },
    {
     "data": {
      "image/png": "[encoded data removed]",
      "text/plain": [
       "<Figure size 576x432 with 2 Axes>"
      ]
     },
     "metadata": {
      "needs_background": "light"
     },
     "output_type": "display_data"
    }
   ],
   "source": [
    "import matplotlib.pyplot as plt\n",
    "import seaborn as sns\n",
    "\n",
    "plt.figure(figsize = (8,6))\n",
    "\n",
    "# colormaps : cmap=\"YlGnBu\" , cmap=\"Greens\", cmap=\"Blues\",  cmap=\"Reds\"\n",
    "sns.heatmap(cm, annot=True, cmap=\"Reds\", fmt='d').plot()"
   ]
  },
  {
   "cell_type": "markdown",
   "metadata": {},
   "source": [
    "### 9.3 - Metrics Calculated from Confusion Matrix"
   ]
  },
  {
   "cell_type": "code",
   "execution_count": 18,
   "metadata": {},
   "outputs": [
    {
     "name": "stdout",
     "output_type": "stream",
     "text": [
      "{'0': {'f1-score': 0.826865671641791,\n",
      "       'precision': 0.8227722772277227,\n",
      "       'recall': 0.831,\n",
      "       'support': 1000},\n",
      " '1': {'f1-score': 0.9792405063291139,\n",
      "       'precision': 0.9917948717948718,\n",
      "       'recall': 0.967,\n",
      "       'support': 1000},\n",
      " '2': {'f1-score': 0.7750132345156168,\n",
      "       'precision': 0.8233970753655793,\n",
      "       'recall': 0.732,\n",
      "       'support': 1000},\n",
      " '3': {'f1-score': 0.8867735470941883,\n",
      "       'precision': 0.8885542168674698,\n",
      "       'recall': 0.885,\n",
      "       'support': 1000},\n",
      " '4': {'f1-score': 0.7873183619550859,\n",
      "       'precision': 0.7033831628638867,\n",
      "       'recall': 0.894,\n",
      "       'support': 1000},\n",
      " '5': {'f1-score': 0.9678714859437753,\n",
      "       'precision': 0.9717741935483871,\n",
      "       'recall': 0.964,\n",
      "       'support': 1000},\n",
      " '6': {'f1-score': 0.6814734561213435,\n",
      "       'precision': 0.7434988179669031,\n",
      "       'recall': 0.629,\n",
      "       'support': 1000},\n",
      " '7': {'f1-score': 0.9415983606557378,\n",
      "       'precision': 0.9653361344537815,\n",
      "       'recall': 0.919,\n",
      "       'support': 1000},\n",
      " '8': {'f1-score': 0.9721393034825871,\n",
      "       'precision': 0.9673267326732673,\n",
      "       'recall': 0.977,\n",
      "       'support': 1000},\n",
      " '9': {'f1-score': 0.9509470616804273,\n",
      "       'precision': 0.9244570349386213,\n",
      "       'recall': 0.979,\n",
      "       'support': 1000},\n",
      " 'accuracy': 0.8777,\n",
      " 'macro avg': {'f1-score': 0.8769240989419667,\n",
      "               'precision': 0.8802294517700491,\n",
      "               'recall': 0.8776999999999999,\n",
      "               'support': 10000},\n",
      " 'weighted avg': {'f1-score': 0.8769240989419667,\n",
      "                  'precision': 0.8802294517700491,\n",
      "                  'recall': 0.8777,\n",
      "                  'support': 10000}}\n"
     ]
    }
   ],
   "source": [
    "from sklearn.metrics import classification_report\n",
    "from pprint import pprint\n",
    "\n",
    "pprint(classification_report(test_labels, predictions2, output_dict=True))"
   ]
  },
  {
   "cell_type": "markdown",
   "metadata": {
    "jupyter": {
     "source_hidden": true
    }
   },
   "source": [
    "## Step 10 : Improve the Model\n",
    "\n",
    "Try the following exercises\n",
    "\n",
    "**1 - Increase epochs**  \n",
    "- In Step-6, increase epochs to 50\n",
    "- Rerun the notebook\n",
    "- did the accuracy improve?\n",
    "- how much the training time go up?\n",
    "\n",
    "**2 - Build a deeper neural net** \n",
    "- IN Step-4, uncomment and use 'model-2'.  This is a wider/deeper model\n",
    "- Rerun the notebook again\n",
    "- did the accuracy improve?\n",
    "- how much the training time go up?"
   ]
  },
  {
   "cell_type": "code",
   "execution_count": null,
   "metadata": {},
   "outputs": [],
   "source": []
  }
 ],
 "metadata": {
  "kernelspec": {
   "display_name": "Python 3",
   "language": "python",
   "name": "python3"
  },
  "language_info": {
   "codemirror_mode": {
    "name": "ipython",
    "version": 3
   },
   "file_extension": ".py",
   "mimetype": "text/x-python",
   "name": "python",
   "nbconvert_exporter": "python",
   "pygments_lexer": "ipython3",
   "version": "3.7.7"
  }
 },
 "nbformat": 4,
 "nbformat_minor": 4
}
