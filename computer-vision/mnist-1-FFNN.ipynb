{
 "cells": [
  {
   "cell_type": "markdown",
   "metadata": {},
   "source": [
    "# Lab: Predicting Digits with a Neural Net"
   ]
  },
  {
   "cell_type": "markdown",
   "metadata": {},
   "source": [
    "## About MNIST Data\n",
    "\n",
    "MNIST is a widely used dataset of hand written digits.\n",
    "\n",
    "<img src=\"../assets/images/mnist-1.jpeg\" />"
   ]
  },
  {
   "cell_type": "code",
   "execution_count": null,
   "metadata": {},
   "outputs": [],
   "source": [
    "## Determine if we are running on google colab\n",
    "\n",
    "try:\n",
    "    import google.colab\n",
    "    RUNNING_IN_COLAB = True\n",
    "except:\n",
    "    RUNNING_IN_COLAB = False\n",
    "\n",
    "print (\"Running in Google COLAB : \", RUNNING_IN_COLAB)\n"
   ]
  },
  {
   "cell_type": "code",
   "execution_count": 2,
   "metadata": {},
   "outputs": [],
   "source": [
    "try:\n",
    "  # %tensorflow_version only exists in Colab.\n",
    "  %tensorflow_version 2.x\n",
    "except Exception:\n",
    "  pass\n",
    "\n",
    "import tensorflow as tf\n",
    "from tensorflow import keras\n"
   ]
  },
  {
   "cell_type": "markdown",
   "metadata": {},
   "source": [
    "## Step 1: Download data"
   ]
  },
  {
   "cell_type": "code",
   "execution_count": 3,
   "metadata": {},
   "outputs": [
    {
     "name": "stdout",
     "output_type": "stream",
     "text": [
      "train_images shape :  (60000, 28, 28)\n",
      "train_labels shape :  (60000,)\n",
      "test_images shape :  (10000, 28, 28)\n",
      "test_labels shape :  (10000,)\n"
     ]
    }
   ],
   "source": [
    "(train_images, train_labels), (test_images, test_labels) = keras.datasets.mnist.load_data()\n",
    "\n",
    "# backup\n",
    "(train_images2, train_labels2), (test_images2, test_labels2) = keras.datasets.mnist.load_data()\n",
    "\n",
    "print(\"train_images shape : \", train_images.shape)\n",
    "print(\"train_labels shape : \", train_labels.shape)\n",
    "print(\"test_images shape : \", test_images.shape)\n",
    "print(\"test_labels shape : \", test_labels.shape)"
   ]
  },
  {
   "cell_type": "markdown",
   "metadata": {},
   "source": [
    "## Step 2 : Data Exploration"
   ]
  },
  {
   "cell_type": "code",
   "execution_count": 4,
   "metadata": {},
   "outputs": [
    {
     "name": "stdout",
     "output_type": "stream",
     "text": [
      "Displaying train index =  13330\n",
      "train label [13330] = 2 \n",
      "------------ raw data for train_image[13330] -------\n",
      "[[  0   0   0   0   0   0   0   0   0   0   0   0   0   0   0   0   0   0\n",
      "    0   0   0   0   0   0   0   0   0   0]\n",
      " [  0   0   0   0   0   0   0   0   0   0   0   0   0   0   0   0   0   0\n",
      "    0   0   0   0   0   0   0   0   0   0]\n",
      " [  0   0   0   0   0   0   0   0   0   0   0   0   0   0   0   0   0   0\n",
      "    0   0   0   0   0   0   0   0   0   0]\n",
      " [  0   0   0   0   0   0   0   0   0   0   0   0   0   0   0   0   0   0\n",
      "    0   0   0   0   0   0   0   0   0   0]\n",
      " [  0   0   0   0   0   0   0   0   0   0  75  83 173 255 182  59   0   0\n",
      "    0   0   0   0   0   0   0   0   0   0]\n",
      " [  0   0   0   0   0   0   0   0 125 243 253 254 254 254 254 240  33   0\n",
      "    0   0   0   0   0   0   0   0   0   0]\n",
      " [  0   0   0   0   0   0  22 238 253 254 187 105  79   8 133 254 189   0\n",
      "    0   0   0   0   0   0   0   0   0   0]\n",
      " [  0   0   0   0   0   0 208 235 105  20   2   0   0   0  16 225 252  53\n",
      "    0   0   0   0   0   0   0   0   0   0]\n",
      " [  0   0   0   0   0   0 100  17   0   0   0   0   0   0   0 156 254 107\n",
      "    0   0   0   0   0   0   0   0   0   0]\n",
      " [  0   0   0   0   0   0   0   0   0   0   0   0   0   0   0 122 254 191\n",
      "    0   0   0   0   0   0   0   0   0   0]\n",
      " [  0   0   0   0   0   0   0   0   0   0   0   0   0   0   0  73 254 228\n",
      "    0   0   0   0   0   0   0   0   0   0]\n",
      " [  0   0   0   0   0   0   0   0   0   0   0   0   0   0   0  35 254 181\n",
      "    0   0   0   0   0   0   0   0   0   0]\n",
      " [  0   0   0   0   0   0   0   0   0   0   0   0   0   0   0  35 254 216\n",
      "    0   0   0   0   0   0   0   0   0   0]\n",
      " [  0   0   0   0   0   0   0   0   0   0   0   0   0   0   0  35 254 184\n",
      "    0   0   0   0   0   0   0   0   0   0]\n",
      " [  0   0   0   0   0   0   0   0   0   0   0   0   0   0   0  78 254 141\n",
      "    0   0   0   0   0   0   0   0   0   0]\n",
      " [  0   0   0   0   0   0   0   0   0   0   0   0   0   0   0 122 254 101\n",
      "    0   0   0   0   0   0   0   0   0   0]\n",
      " [  0   0   0   0   0   0   0   0   0   0   0   0   0   0   0 131 254  56\n",
      "    0   0   0   0   0   0   0   0   0   0]\n",
      " [  0   0   0   0   0   0   0   0   0   0   0   0   0   0   0 207 254  56\n",
      "    0   0   0   0   0   0   0   0   0   0]\n",
      " [  0   0   0   0   0   0   0   0   0   0   0   0   0   0  17 227 230  13\n",
      "    0   0   0   0   0   0   0   0   0   0]\n",
      " [  0   0   0   0   0   0   0   0   0   0   0   0   0  15  83 254 194   0\n",
      "    0   0   0   0   0   0   0   0   0   0]\n",
      " [  0   0   0   0   0   0   0   0   0   4  13  90 116 243 254 254 246 185\n",
      "  113   4   0   0   0   0   0   0   0   0]\n",
      " [  0   0   0   0   0   0   0   0  31 191 254 254 252 246 254 252 245 252\n",
      "  254 164  26   0   0   0   0   0   0   0]\n",
      " [  0   0   0   0   0   0   0  27 243 254 231 145  92  45 254 218   0  70\n",
      "  229 254 159   2   0   0   0   0   0   0]\n",
      " [  0   0   0   0   0   0   0 214 254 154   9   0   0 188 254  75   0   0\n",
      "    7 210 254 103   0   0   0   0   0   0]\n",
      " [  0   0   0   0   0   0   0   0   0   0   0   0   0   0   0   0   0   0\n",
      "    0   0   0   0   0   0   0   0   0   0]\n",
      " [  0   0   0   0   0   0   0   0   0   0   0   0   0   0   0   0   0   0\n",
      "    0   0   0   0   0   0   0   0   0   0]\n",
      " [  0   0   0   0   0   0   0   0   0   0   0   0   0   0   0   0   0   0\n",
      "    0   0   0   0   0   0   0   0   0   0]\n",
      " [  0   0   0   0   0   0   0   0   0   0   0   0   0   0   0   0   0   0\n",
      "    0   0   0   0   0   0   0   0   0   0]]\n",
      "--------------------\n"
     ]
    },
    {
     "data": {
      "image/png": "[encoded data removed]",
      "text/plain": [
       "<Figure size 432x288 with 1 Axes>"
      ]
     },
     "metadata": {
      "needs_background": "light"
     },
     "output_type": "display_data"
    }
   ],
   "source": [
    "## Run this cell a few times to randomly display some digit data\n",
    "%matplotlib inline\n",
    "import matplotlib.pyplot as plt\n",
    "import random\n",
    "\n",
    "index = random.randint(0, len(train_images))\n",
    "# index = 10\n",
    "print (\"Displaying train index = \", index)\n",
    "\n",
    "print(\"train label [{}] = {} \".format(index, train_labels[index]))\n",
    "print (\"------------ raw data for train_image[{}] -------\".format(index))\n",
    "print(train_images[index])\n",
    "print (\"--------------------\")\n",
    "\n",
    "plt.imshow(train_images[index])\n",
    "plt.show()"
   ]
  },
  {
   "cell_type": "markdown",
   "metadata": {},
   "source": [
    "## Step 3: Shape data"
   ]
  },
  {
   "cell_type": "code",
   "execution_count": 5,
   "metadata": {},
   "outputs": [],
   "source": [
    "train_images  = train_images / 255.0\n",
    "test_images = test_images / 255.0"
   ]
  },
  {
   "cell_type": "markdown",
   "metadata": {},
   "source": [
    "## Step 4: Create model\n",
    "\n",
    "### TODO : Sketch the neural net\n",
    "- What is the input dimensions\n",
    "- how many neurons in layers\n",
    "- how many output neurons\n",
    "\n",
    "<img src=\"../assets/images/neural-net-unknown.png\" style=\"width:30%\"/>"
   ]
  },
  {
   "cell_type": "code",
   "execution_count": 6,
   "metadata": {},
   "outputs": [
    {
     "name": "stdout",
     "output_type": "stream",
     "text": [
      "Model: \"sequential\"\n",
      "_________________________________________________________________\n",
      "Layer (type)                 Output Shape              Param #   \n",
      "=================================================================\n",
      "reshape (Reshape)            (None, 784)               0         \n",
      "_________________________________________________________________\n",
      "dense (Dense)                (None, 128)               100480    \n",
      "_________________________________________________________________\n",
      "dense_1 (Dense)              (None, 10)                1290      \n",
      "=================================================================\n",
      "Total params: 101,770\n",
      "Trainable params: 101,770\n",
      "Non-trainable params: 0\n",
      "_________________________________________________________________\n",
      "None\n"
     ]
    },
    {
     "data": {
      "image/png": "[encoded data removed]",
      "text/plain": [
       "<IPython.core.display.Image object>"
      ]
     },
     "execution_count": 6,
     "metadata": {},
     "output_type": "execute_result"
    }
   ],
   "source": [
    "## Model 1\n",
    "\n",
    "model = tf.keras.models.Sequential([\n",
    "            keras.layers.Reshape(\n",
    "              target_shape=(28 * 28,), input_shape=(28, 28)\n",
    "              ),\n",
    "            tf.keras.layers.Dense(units=128, activation=tf.nn.relu), \n",
    "            tf.keras.layers.Dense(units=10, activation=tf.nn.softmax)\n",
    "            ])\n",
    "\n",
    "\n",
    "model.compile(\n",
    "  optimizer=tf.keras.optimizers.Adam(),  # 'adam'\n",
    "  loss='sparse_categorical_crossentropy',\n",
    "  metrics=['accuracy'])\n",
    "\n",
    "print (model.summary())\n",
    "tf.keras.utils.plot_model(model, to_file='model.png', show_shapes=True)"
   ]
  },
  {
   "cell_type": "code",
   "execution_count": 7,
   "metadata": {},
   "outputs": [],
   "source": [
    "## Model 2\n",
    "\n",
    "# model = keras.Sequential([\n",
    "#     keras.layers.Reshape(\n",
    "#       target_shape=(28 * 28,), input_shape=(28, 28)\n",
    "#     ),\n",
    "#     keras.layers.Dense(\n",
    "#       units=256, activation=tf.nn.relu  #'relu'\n",
    "#     ),\n",
    "#     keras.layers.Dense(\n",
    "#       units=192, activation=tf.nn.relu  #'relu'\n",
    "#     ),\n",
    "#     keras.layers.Dense(\n",
    "#       units=128, activation=tf.nn.relu  #'relu'\n",
    "#     ),\n",
    "#     keras.layers.Dense(\n",
    "#       units=10, activation=tf.nn.softmax #'softmax'\n",
    "#     )\n",
    "# ])\n",
    "\n",
    "# model.compile(\n",
    "#   optimizer=tf.keras.optimizers.Adam(),  # 'adam'\n",
    "#   loss='sparse_categorical_crossentropy',\n",
    "#   metrics=['accuracy'])\n",
    "\n",
    "# print (model.summary())"
   ]
  },
  {
   "cell_type": "markdown",
   "metadata": {},
   "source": [
    "## Step 5 - Setup Tensorboard"
   ]
  },
  {
   "cell_type": "code",
   "execution_count": 8,
   "metadata": {},
   "outputs": [
    {
     "name": "stdout",
     "output_type": "stream",
     "text": [
      "Saving TB logs to :  /tmp/tensorboard-logs/mnist1/2020-03-12--22-21-47\n"
     ]
    }
   ],
   "source": [
    "## This is fairly boiler plate code\n",
    "\n",
    "import datetime\n",
    "import os\n",
    "\n",
    "app_name = 'mnist1' # you can change this, if you like\n",
    "\n",
    "tb_top_level_dir= '/tmp/tensorboard-logs'\n",
    "tensorboard_logs_dir= os.path.join (tb_top_level_dir, app_name, \n",
    "                                    datetime.datetime.now().strftime(\"%Y-%m-%d--%H-%M-%S\"))\n",
    "print (\"Saving TB logs to : \" , tensorboard_logs_dir)\n",
    "\n",
    "tensorboard_callback = tf.keras.callbacks.TensorBoard(log_dir=tb_logs_dir, write_graph=True, \n",
    "                                                      write_images=True, histogram_freq=1)\n",
    "# Loading of tensorboard in Colab\n",
    "if RUNNING_IN_COLAB:\n",
    "    %load_ext tensorboard\n",
    "    %tensorboard --logdir $tb_top_level_dir\n"
   ]
  },
  {
   "cell_type": "markdown",
   "metadata": {},
   "source": [
    "## Step 6: Training the model\n"
   ]
  },
  {
   "cell_type": "code",
   "execution_count": 9,
   "metadata": {},
   "outputs": [
    {
     "name": "stdout",
     "output_type": "stream",
     "text": [
      "training starting ...\n",
      "Train on 48000 samples, validate on 12000 samples\n",
      "Epoch 1/10\n",
      "48000/48000 [==============================] - 17s 355us/sample - loss: 0.2860 - accuracy: 0.9191 - val_loss: 0.1651 - val_accuracy: 0.9523\n",
      "Epoch 2/10\n",
      "48000/48000 [==============================] - 13s 278us/sample - loss: 0.1278 - accuracy: 0.9629 - val_loss: 0.1127 - val_accuracy: 0.9662\n",
      "Epoch 3/10\n",
      "48000/48000 [==============================] - 14s 284us/sample - loss: 0.0881 - accuracy: 0.9736 - val_loss: 0.0991 - val_accuracy: 0.9698\n",
      "Epoch 4/10\n",
      "48000/48000 [==============================] - 13s 277us/sample - loss: 0.0652 - accuracy: 0.9799 - val_loss: 0.0939 - val_accuracy: 0.9717\n",
      "Epoch 5/10\n",
      "48000/48000 [==============================] - 13s 276us/sample - loss: 0.0505 - accuracy: 0.9849 - val_loss: 0.0897 - val_accuracy: 0.9730\n",
      "Epoch 6/10\n",
      "48000/48000 [==============================] - 15s 320us/sample - loss: 0.0404 - accuracy: 0.9872 - val_loss: 0.0981 - val_accuracy: 0.9716\n",
      "Epoch 7/10\n",
      "48000/48000 [==============================] - 14s 293us/sample - loss: 0.0311 - accuracy: 0.9910 - val_loss: 0.0910 - val_accuracy: 0.9743\n",
      "Epoch 8/10\n",
      "48000/48000 [==============================] - 18s 370us/sample - loss: 0.0255 - accuracy: 0.9924 - val_loss: 0.0891 - val_accuracy: 0.9757\n",
      "Epoch 9/10\n",
      "48000/48000 [==============================] - 19s 399us/sample - loss: 0.0200 - accuracy: 0.9941 - val_loss: 0.0899 - val_accuracy: 0.9767\n",
      "Epoch 10/10\n",
      "48000/48000 [==============================] - 21s 431us/sample - loss: 0.0167 - accuracy: 0.9946 - val_loss: 0.0958 - val_accuracy: 0.9762\n",
      "training done.\n",
      "CPU times: user 4min 41s, sys: 12min 46s, total: 17min 28s\n",
      "Wall time: 2min 38s\n"
     ]
    }
   ],
   "source": [
    "%%time\n",
    "\n",
    "epochs=10\n",
    "print (\"training starting ...\")\n",
    "\n",
    "history = model.fit(\n",
    "    train_images,\n",
    "    train_labels,\n",
    "    epochs=epochs,\n",
    "    validation_split=0.2,\n",
    "    verbose=1,\n",
    "    callbacks=[tensorboard_callback]\n",
    ")\n",
    "\n",
    "print (\"training done.\")"
   ]
  },
  {
   "cell_type": "markdown",
   "metadata": {},
   "source": [
    "## Step 7 : See Training History"
   ]
  },
  {
   "cell_type": "code",
   "execution_count": 10,
   "metadata": {},
   "outputs": [
    {
     "data": {
      "image/png": "[encoded data removed]",
      "text/plain": [
       "<Figure size 432x288 with 1 Axes>"
      ]
     },
     "metadata": {
      "needs_background": "light"
     },
     "output_type": "display_data"
    }
   ],
   "source": [
    "%matplotlib inline\n",
    "import matplotlib.pyplot as plt\n",
    "\n",
    "plt.plot(history.history['accuracy'], label='train_accuracy')\n",
    "plt.plot(history.history['val_accuracy'], label='val_accuracy')\n",
    "plt.legend()\n",
    "plt.show()"
   ]
  },
  {
   "cell_type": "markdown",
   "metadata": {},
   "source": [
    "## Step 8 - Predict\n",
    "\n",
    "**==> Compare prediction time vs training time.  Prediction is very quick!**"
   ]
  },
  {
   "cell_type": "code",
   "execution_count": 11,
   "metadata": {},
   "outputs": [
    {
     "name": "stdout",
     "output_type": "stream",
     "text": [
      "predicting on 10,000 images\n",
      "CPU times: user 3.3 s, sys: 9.66 s, total: 13 s\n",
      "Wall time: 3.12 s\n"
     ]
    }
   ],
   "source": [
    "%%time \n",
    "\n",
    "print (\"predicting on {:,} images\".format(len(test_images)))\n",
    "predictions = model.predict(test_images)\n"
   ]
  },
  {
   "cell_type": "code",
   "execution_count": 12,
   "metadata": {},
   "outputs": [
    {
     "name": "stdout",
     "output_type": "stream",
     "text": [
      "random index =  564\n",
      "test_label[564] = 0.  So the number is 0\n",
      "prediction of test_image[564] = [ 1.000  0.000  0.000  0.000  0.000  0.000  0.000  0.000  0.000  0.000]\n",
      "max softmax output =  0.9999945\n",
      "index of max softmax output = 0.  So the prediction is same (0)\n"
     ]
    },
    {
     "data": {
      "text/plain": [
       "<matplotlib.image.AxesImage at 0x7facc87ee250>"
      ]
     },
     "execution_count": 12,
     "metadata": {},
     "output_type": "execute_result"
    },
    {
     "data": {
      "image/png": "[encoded data removed]",
      "text/plain": [
       "<Figure size 432x288 with 1 Axes>"
      ]
     },
     "metadata": {
      "needs_background": "light"
     },
     "output_type": "display_data"
    }
   ],
   "source": [
    "## Print a sample prediction\n",
    "\n",
    "%matplotlib inline\n",
    "import matplotlib.pyplot as plt\n",
    "import random\n",
    "import numpy as np\n",
    "from pprint import pprint\n",
    "\n",
    "np.set_printoptions(formatter={'float': '{: 0.3f}'.format})\n",
    "\n",
    "index = random.randint(0, len(test_images))\n",
    "\n",
    "print (\"random index = \", index)\n",
    "print (\"test_label[{}] = {}.  So the number is {}\".format(index, test_labels[index], test_labels[index]))\n",
    "print (\"prediction of test_image[{}] = {}\".format(index, predictions[index]))\n",
    "print ('max softmax output = ', np.amax(predictions[index]))\n",
    "print ('index of max softmax output = {}.  So the prediction is same ({})'.format(np.argmax(predictions[index]), np.argmax(predictions[index])))\n",
    "\n",
    "plt.imshow(test_images2[index])"
   ]
  },
  {
   "cell_type": "markdown",
   "metadata": {},
   "source": [
    "## Step 9 : Evaluate the Model "
   ]
  },
  {
   "cell_type": "markdown",
   "metadata": {},
   "source": [
    "### 9.1 - Metrics"
   ]
  },
  {
   "cell_type": "code",
   "execution_count": 13,
   "metadata": {},
   "outputs": [
    {
     "name": "stdout",
     "output_type": "stream",
     "text": [
      "model metrics :  ['loss', 'accuracy']\n",
      "Metric : loss = 0.084\n",
      "Metric : accuracy = 0.976\n"
     ]
    }
   ],
   "source": [
    "metric_names = model.metrics_names\n",
    "print (\"model metrics : \" , metric_names)\n",
    "\n",
    "metrics = model.evaluate(test_images, test_labels, verbose=0)\n",
    "\n",
    "for idx, metric in enumerate(metric_names):\n",
    "    print (\"Metric : {} = {:,.3f}\".format (metric_names[idx], metrics[idx]))"
   ]
  },
  {
   "cell_type": "markdown",
   "metadata": {},
   "source": [
    "### 9.2 - Confusion Matrix"
   ]
  },
  {
   "cell_type": "code",
   "execution_count": 14,
   "metadata": {},
   "outputs": [
    {
     "name": "stdout",
     "output_type": "stream",
     "text": [
      "predictions shape :  (10000, 10)\n",
      "prediction 0 :  [ 0.000  0.000  0.000  0.000  0.000  0.000  0.000  1.000  0.000  0.000]\n",
      "prediction 1 :  [ 0.000  0.000  1.000  0.000  0.000  0.000  0.000  0.000  0.000  0.000]\n"
     ]
    }
   ],
   "source": [
    "## our predictions is an array of arrays\n",
    "print('predictions shape : ', predictions.shape)\n",
    "print ('prediction 0 : ' , predictions[0])\n",
    "print ('prediction 1 : ' , predictions[1])"
   ]
  },
  {
   "cell_type": "code",
   "execution_count": 15,
   "metadata": {},
   "outputs": [
    {
     "name": "stdout",
     "output_type": "stream",
     "text": [
      "prediction2 0 :  7\n",
      "prediction2 1 :  2\n"
     ]
    }
   ],
   "source": [
    "## We need to find the final output (max of softmax probabilities for each prediction)\n",
    "predictions2 = [ np.argmax(p) for p in predictions]\n",
    "print ('prediction2 0 : ' , predictions2[0])\n",
    "print ('prediction2 1 : ' , predictions2[1])"
   ]
  },
  {
   "cell_type": "code",
   "execution_count": 16,
   "metadata": {},
   "outputs": [
    {
     "data": {
      "text/plain": [
       "array([[ 974,    0,    0,    0,    0,    0,    3,    1,    2,    0],\n",
       "       [   0, 1121,    4,    1,    0,    1,    3,    1,    4,    0],\n",
       "       [   3,    0, 1000,    7,    1,    0,    3,    7,   11,    0],\n",
       "       [   0,    0,    5,  977,    0,    5,    0,    7,    8,    8],\n",
       "       [   3,    1,    2,    1,  945,    1,   11,    3,    1,   14],\n",
       "       [   2,    0,    0,    7,    0,  867,    8,    0,    7,    1],\n",
       "       [   6,    3,    1,    1,    1,    2,  941,    0,    3,    0],\n",
       "       [   1,    2,    9,    4,    0,    0,    0, 1006,    3,    3],\n",
       "       [   8,    1,    2,    1,    4,    2,    3,    2,  947,    4],\n",
       "       [   4,    1,    0,    3,    5,    2,    1,    6,    3,  984]])"
      ]
     },
     "execution_count": 16,
     "metadata": {},
     "output_type": "execute_result"
    }
   ],
   "source": [
    "from sklearn.metrics import confusion_matrix\n",
    "import seaborn as sns\n",
    "\n",
    "cm = confusion_matrix(test_labels, predictions2, labels = [0,1,2,3,4,5,6,7,8,9])\n",
    "cm"
   ]
  },
  {
   "cell_type": "code",
   "execution_count": 17,
   "metadata": {},
   "outputs": [
    {
     "data": {
      "text/plain": [
       "[]"
      ]
     },
     "execution_count": 17,
     "metadata": {},
     "output_type": "execute_result"
    },
    {
     "data": {
      "image/png": "[encoded data removed]",
      "text/plain": [
       "<Figure size 576x432 with 2 Axes>"
      ]
     },
     "metadata": {
      "needs_background": "light"
     },
     "output_type": "display_data"
    }
   ],
   "source": [
    "import matplotlib.pyplot as plt\n",
    "import seaborn as sns\n",
    "\n",
    "plt.figure(figsize = (8,6))\n",
    "\n",
    "# colormaps : cmap=\"YlGnBu\" , cmap=\"Greens\", cmap=\"Blues\",  cmap=\"Reds\"\n",
    "sns.heatmap(cm, annot=True, cmap=\"Reds\", fmt='d').plot()"
   ]
  },
  {
   "cell_type": "markdown",
   "metadata": {},
   "source": [
    "### 9.3 - Metrics Calculated from Confusion Matrix"
   ]
  },
  {
   "cell_type": "code",
   "execution_count": 18,
   "metadata": {},
   "outputs": [
    {
     "name": "stdout",
     "output_type": "stream",
     "text": [
      "{'0': {'f1-score': 0.98334174659263,\n",
      "       'precision': 0.973026973026973,\n",
      "       'recall': 0.9938775510204082,\n",
      "       'support': 980},\n",
      " '1': {'f1-score': 0.9902826855123674,\n",
      "       'precision': 0.9929140832595217,\n",
      "       'recall': 0.9876651982378855,\n",
      "       'support': 1135},\n",
      " '2': {'f1-score': 0.97323600973236,\n",
      "       'precision': 0.9775171065493646,\n",
      "       'recall': 0.9689922480620154,\n",
      "       'support': 1032},\n",
      " '3': {'f1-score': 0.9711729622266401,\n",
      "       'precision': 0.9750499001996008,\n",
      "       'recall': 0.9673267326732673,\n",
      "       'support': 1010},\n",
      " '4': {'f1-score': 0.9752321981424149,\n",
      "       'precision': 0.9884937238493724,\n",
      "       'recall': 0.9623217922606925,\n",
      "       'support': 982},\n",
      " '5': {'f1-score': 0.9785553047404063,\n",
      "       'precision': 0.9852272727272727,\n",
      "       'recall': 0.9719730941704036,\n",
      "       'support': 892},\n",
      " '6': {'f1-score': 0.9746245468669084,\n",
      "       'precision': 0.9671120246659815,\n",
      "       'recall': 0.9822546972860126,\n",
      "       'support': 958},\n",
      " '7': {'f1-score': 0.9762251334303736,\n",
      "       'precision': 0.9738625363020329,\n",
      "       'recall': 0.9785992217898832,\n",
      "       'support': 1028},\n",
      " '8': {'f1-score': 0.9648497198166073,\n",
      "       'precision': 0.9575328614762386,\n",
      "       'recall': 0.9722792607802875,\n",
      "       'support': 974},\n",
      " '9': {'f1-score': 0.9728126544735541,\n",
      "       'precision': 0.9704142011834319,\n",
      "       'recall': 0.9752229930624381,\n",
      "       'support': 1009},\n",
      " 'accuracy': 0.9762,\n",
      " 'macro avg': {'f1-score': 0.9760332961534262,\n",
      "               'precision': 0.9761150683239791,\n",
      "               'recall': 0.9760512789343295,\n",
      "               'support': 10000},\n",
      " 'weighted avg': {'f1-score': 0.9762040712544423,\n",
      "                  'precision': 0.9763054478339782,\n",
      "                  'recall': 0.9762,\n",
      "                  'support': 10000}}\n"
     ]
    }
   ],
   "source": [
    "from sklearn.metrics import classification_report\n",
    "from pprint import pprint\n",
    "\n",
    "pprint(classification_report(test_labels, predictions2, output_dict=True))"
   ]
  },
  {
   "cell_type": "markdown",
   "metadata": {},
   "source": [
    "## Step 10 : Improve the Model\n",
    "\n",
    "Try the following exercises\n",
    "\n",
    "**1 - Increase epochs**  \n",
    "- In Step-6, increase epochs to 50\n",
    "- Rerun the notebook\n",
    "- did the accuracy improve?\n",
    "- how much the training time go up?\n",
    "\n",
    "**2 - Build a deeper neural net** \n",
    "- IN Step-4, uncomment and use 'model-2'.  This is a wider/deeper model\n",
    "- Rerun the notebook again\n",
    "- did the accuracy improve?\n",
    "- how much the training time go up?"
   ]
  },
  {
   "cell_type": "code",
   "execution_count": null,
   "metadata": {},
   "outputs": [],
   "source": []
  }
 ],
 "metadata": {
  "kernelspec": {
   "display_name": "Python 3",
   "language": "python",
   "name": "python3"
  },
  "language_info": {
   "codemirror_mode": {
    "name": "ipython",
    "version": 3
   },
   "file_extension": ".py",
   "mimetype": "text/x-python",
   "name": "python",
   "nbconvert_exporter": "python",
   "pygments_lexer": "ipython3",
   "version": "3.7.7"
  }
 },
 "nbformat": 4,
 "nbformat_minor": 4
}
