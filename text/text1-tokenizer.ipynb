{
 "cells": [
  {
   "cell_type": "markdown",
   "metadata": {},
   "source": [
    "## Lab : Text Tokenizer\n",
    "Get familiar with Text Tokenizer\n",
    "\n",
    "### Runtime\n",
    "~15 minutes"
   ]
  },
  {
   "cell_type": "markdown",
   "metadata": {},
   "source": [
    "## Step 1 - Start with Tokenizer"
   ]
  },
  {
   "cell_type": "code",
   "execution_count": 1,
   "metadata": {},
   "outputs": [
    {
     "name": "stdout",
     "output_type": "stream",
     "text": [
      "word index: {'i': 1, 'like': 2, 'apples': 3, 'bananas': 4}\n",
      "word count: OrderedDict([('i', 2), ('like', 2), ('apples', 1), ('bananas', 1)])\n"
     ]
    }
   ],
   "source": [
    "from tensorflow.keras.preprocessing.text import Tokenizer\n",
    "\n",
    "sentences = [\n",
    "    'I like apples',\n",
    "    'I like bananas']\n",
    "\n",
    "tokenizer = Tokenizer(num_words=100)\n",
    "\n",
    "## encodes text, assignes unique encoding for each words\n",
    "tokenizer.fit_on_texts(sentences)\n",
    "\n",
    "word_index = tokenizer.word_index\n",
    "print (\"word index:\", tokenizer.word_index)\n",
    "print (\"word count:\", tokenizer.word_counts)"
   ]
  },
  {
   "cell_type": "markdown",
   "metadata": {},
   "source": [
    "## Step 2 - Text to Sequences"
   ]
  },
  {
   "cell_type": "code",
   "execution_count": 2,
   "metadata": {},
   "outputs": [
    {
     "name": "stdout",
     "output_type": "stream",
     "text": [
      "I like apples --> [1, 2, 3]\n",
      "I like bananas --> [1, 2, 4]\n"
     ]
    }
   ],
   "source": [
    "sequences = tokenizer.texts_to_sequences(sentences)\n",
    "\n",
    "for i, line in enumerate(sentences):\n",
    "    print (line, '-->' , sequences[i] )"
   ]
  },
  {
   "cell_type": "markdown",
   "metadata": {},
   "source": [
    "## Step 3 - Unknown Words"
   ]
  },
  {
   "cell_type": "code",
   "execution_count": 3,
   "metadata": {},
   "outputs": [
    {
     "name": "stdout",
     "output_type": "stream",
     "text": [
      "I like green apples --> [1, 2, 3]\n",
      "I love yellow bananas --> [1, 4]\n",
      "brown cow --> []\n"
     ]
    }
   ],
   "source": [
    "test_sentences = [\n",
    "    'I like green apples',\n",
    "    'I love yellow bananas',\n",
    "    'brown cow']\n",
    "\n",
    "## map sentences --> sequences\n",
    "sequences = tokenizer.texts_to_sequences(test_sentences)\n",
    "\n",
    "for i, line in enumerate(test_sentences):\n",
    "    print (line, '-->' , sequences[i] )"
   ]
  },
  {
   "cell_type": "markdown",
   "metadata": {},
   "source": [
    "## Step 4 - Use Out of Vocabulary Marker"
   ]
  },
  {
   "cell_type": "code",
   "execution_count": 4,
   "metadata": {},
   "outputs": [
    {
     "name": "stdout",
     "output_type": "stream",
     "text": [
      "word index: {'<OOV>': 1, 'i': 2, 'like': 3, 'apples': 4, 'bananas': 5}\n"
     ]
    }
   ],
   "source": [
    "from tensorflow.keras.preprocessing.text import Tokenizer\n",
    "\n",
    "sentences = [\n",
    "    'I like apples',\n",
    "    'I like bananas']\n",
    "\n",
    "tokenizer = Tokenizer(num_words=100, oov_token='<OOV>')\n",
    "\n",
    "## encodes text, assignes unique encoding for each words\n",
    "tokenizer.fit_on_texts(sentences)\n",
    "\n",
    "word_index = tokenizer.word_index\n",
    "print (\"word index:\", tokenizer.word_index)"
   ]
  },
  {
   "cell_type": "code",
   "execution_count": 5,
   "metadata": {},
   "outputs": [
    {
     "name": "stdout",
     "output_type": "stream",
     "text": [
      "I like green apples --> [2, 3, 1, 4]\n",
      "I love yellow bananas --> [2, 1, 1, 5]\n",
      "brown cow --> [1, 1]\n"
     ]
    }
   ],
   "source": [
    "test_sentences = [\n",
    "    'I like green apples',\n",
    "    'I love yellow bananas',\n",
    "    'brown cow']\n",
    "\n",
    "## map sentences --> sequences\n",
    "sequences = tokenizer.texts_to_sequences(test_sentences)\n",
    "\n",
    "for i, line in enumerate(test_sentences):\n",
    "    print (line, '-->' , sequences[i] )"
   ]
  },
  {
   "cell_type": "code",
   "execution_count": null,
   "metadata": {},
   "outputs": [],
   "source": []
  }
 ],
 "metadata": {
  "kernelspec": {
   "display_name": "Python 3",
   "language": "python",
   "name": "python3"
  },
  "language_info": {
   "codemirror_mode": {
    "name": "ipython",
    "version": 3
   },
   "file_extension": ".py",
   "mimetype": "text/x-python",
   "name": "python",
   "nbconvert_exporter": "python",
   "pygments_lexer": "ipython3",
   "version": "3.7.7"
  }
 },
 "nbformat": 4,
 "nbformat_minor": 4
}
