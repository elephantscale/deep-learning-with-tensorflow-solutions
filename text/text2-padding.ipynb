{
 "cells": [
  {
   "cell_type": "markdown",
   "metadata": {},
   "source": [
    "## Lab : Using Padding\n",
    "\n",
    "### Overview\n",
    "Learn how to use padding\n",
    "\n",
    "### Runtime\n",
    "~15 minutes"
   ]
  },
  {
   "cell_type": "markdown",
   "metadata": {},
   "source": [
    "## Step 1 - Start with Tokenizer"
   ]
  },
  {
   "cell_type": "code",
   "execution_count": 1,
   "metadata": {},
   "outputs": [
    {
     "name": "stdout",
     "output_type": "stream",
     "text": [
      "word index: {'<OOV>': 1, 'i': 2, 'like': 3, 'apples': 4, 'really': 5, 'bananas': 6}\n",
      "word count: OrderedDict([('i', 2), ('like', 2), ('apples', 1), ('really', 1), ('bananas', 1)])\n"
     ]
    }
   ],
   "source": [
    "from tensorflow.keras.preprocessing.text import Tokenizer\n",
    "\n",
    "sentences = [\n",
    "    'I like apples',\n",
    "    'I really like bananas']\n",
    "\n",
    "tokenizer = Tokenizer(num_words=100, oov_token='<OOV>')\n",
    "\n",
    "## encodes text, assignes unique encoding for each words\n",
    "tokenizer.fit_on_texts(sentences)\n",
    "\n",
    "word_index = tokenizer.word_index\n",
    "print (\"word index:\", tokenizer.word_index)\n",
    "print (\"word count:\", tokenizer.word_counts)"
   ]
  },
  {
   "cell_type": "markdown",
   "metadata": {},
   "source": [
    "## Step 2 - Text to Sequences"
   ]
  },
  {
   "cell_type": "code",
   "execution_count": 2,
   "metadata": {},
   "outputs": [
    {
     "name": "stdout",
     "output_type": "stream",
     "text": [
      "I like apples --> [2, 3, 4]\n",
      "I love yellow bananas --> [2, 1, 1, 6]\n",
      "brown cow --> [1, 1]\n"
     ]
    }
   ],
   "source": [
    "test_sentences = [\n",
    "    'I like apples',\n",
    "    'I love yellow bananas',\n",
    "    'brown cow'\n",
    "]\n",
    "\n",
    "sequences = tokenizer.texts_to_sequences(test_sentences)\n",
    "\n",
    "for i, line in enumerate(test_sentences):\n",
    "    print (line, '-->' , sequences[i] )"
   ]
  },
  {
   "cell_type": "markdown",
   "metadata": {},
   "source": [
    "## Step 3 - Padding"
   ]
  },
  {
   "cell_type": "code",
   "execution_count": 3,
   "metadata": {},
   "outputs": [
    {
     "name": "stdout",
     "output_type": "stream",
     "text": [
      "With padding:\n",
      "I like apples --> [0 2 3 4]\n",
      "I love yellow bananas --> [2 1 1 6]\n",
      "brown cow --> [0 0 1 1]\n"
     ]
    }
   ],
   "source": [
    "from tensorflow.keras.preprocessing.sequence import pad_sequences\n",
    "\n",
    "padded = pad_sequences(sequences)\n",
    "print (\"With padding:\")\n",
    "for i, line in enumerate(test_sentences):\n",
    "    print (line, '-->' , padded[i] )"
   ]
  },
  {
   "cell_type": "markdown",
   "metadata": {},
   "source": [
    "## Step 4 - Pad the end of sentence"
   ]
  },
  {
   "cell_type": "code",
   "execution_count": 4,
   "metadata": {},
   "outputs": [
    {
     "name": "stdout",
     "output_type": "stream",
     "text": [
      "With padding:\n",
      "I like apples --> [2 3 4 0]\n",
      "I love yellow bananas --> [2 1 1 6]\n",
      "brown cow --> [1 1 0 0]\n"
     ]
    }
   ],
   "source": [
    "from tensorflow.keras.preprocessing.sequence import pad_sequences\n",
    "\n",
    "padded = pad_sequences(sequences, padding='post')\n",
    "print (\"With padding:\")\n",
    "for i, line in enumerate(test_sentences):\n",
    "    print (line, '-->' , padded[i] )"
   ]
  },
  {
   "cell_type": "markdown",
   "metadata": {},
   "source": [
    "## Step 5 - Padding Length"
   ]
  },
  {
   "cell_type": "code",
   "execution_count": 5,
   "metadata": {},
   "outputs": [
    {
     "name": "stdout",
     "output_type": "stream",
     "text": [
      "With padding:\n",
      "I like apples --> [2 3 4 0 0 0 0 0 0 0]\n",
      "I love yellow bananas --> [2 1 1 6 0 0 0 0 0 0]\n",
      "brown cow --> [1 1 0 0 0 0 0 0 0 0]\n"
     ]
    }
   ],
   "source": [
    "from tensorflow.keras.preprocessing.sequence import pad_sequences\n",
    "\n",
    "padded = pad_sequences(sequences, padding='post', maxlen=10)\n",
    "print (\"With padding:\")\n",
    "for i, line in enumerate(test_sentences):\n",
    "    print (line, '-->' , padded[i] )"
   ]
  },
  {
   "cell_type": "code",
   "execution_count": null,
   "metadata": {},
   "outputs": [],
   "source": []
  }
 ],
 "metadata": {
  "kernelspec": {
   "display_name": "Python 3",
   "language": "python",
   "name": "python3"
  },
  "language_info": {
   "codemirror_mode": {
    "name": "ipython",
    "version": 3
   },
   "file_extension": ".py",
   "mimetype": "text/x-python",
   "name": "python",
   "nbconvert_exporter": "python",
   "pygments_lexer": "ipython3",
   "version": "3.7.7"
  }
 },
 "nbformat": 4,
 "nbformat_minor": 4
}
