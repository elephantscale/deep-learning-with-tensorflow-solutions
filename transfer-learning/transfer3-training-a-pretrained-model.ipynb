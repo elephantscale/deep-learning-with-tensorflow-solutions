{
 "cells": [
  {
   "cell_type": "markdown",
   "metadata": {},
   "source": [
    "# Lab: Retraining a pre-trained model\n",
    "We will retrain a pre-trained model to classify cats-and-dogs!\n",
    "\n",
    "### Runtime\n",
    "~ 30 minutes\n",
    "\n",
    "### Note\n",
    "Here we are dealing with real world images.  Processing them will required a lot of compute power.  \n",
    "If you have access to, switch to **GPU** as run time!\n",
    "\n",
    "### References\n",
    "- https://www.tensorflow.org/tutorials/images/transfer_learning\n",
    "- https://www.learnopencv.com/keras-tutorial-using-pre-trained-imagenet-models/"
   ]
  },
  {
   "cell_type": "code",
   "execution_count": 1,
   "metadata": {},
   "outputs": [
    {
     "name": "stdout",
     "output_type": "stream",
     "text": [
      "tensorflow version : 2.2.0\n"
     ]
    },
    {
     "data": {
      "text/plain": [
       "[PhysicalDevice(name='/physical_device:CPU:0', device_type='CPU'),\n",
       " PhysicalDevice(name='/physical_device:XLA_CPU:0', device_type='XLA_CPU'),\n",
       " PhysicalDevice(name='/physical_device:GPU:0', device_type='GPU'),\n",
       " PhysicalDevice(name='/physical_device:XLA_GPU:0', device_type='XLA_GPU')]"
      ]
     },
     "execution_count": 1,
     "metadata": {},
     "output_type": "execute_result"
    }
   ],
   "source": [
    "try:\n",
    "  # %tensorflow_version only exists in Colab.\n",
    "  %tensorflow_version 2.x\n",
    "except Exception:\n",
    "  pass\n",
    "\n",
    "import tensorflow as tf\n",
    "from tensorflow import keras\n",
    "print ('tensorflow version :', tf.__version__)\n",
    "tf.config.experimental.list_physical_devices()"
   ]
  },
  {
   "cell_type": "code",
   "execution_count": 2,
   "metadata": {},
   "outputs": [],
   "source": [
    "## Add top level dir to include path\n",
    "import os\n",
    "import sys\n",
    "from pathlib import Path\n",
    "\n",
    "top_dir = os.path.abspath(Path(os.getcwd()).parent)\n",
    "if top_dir not in sys.path:\n",
    "    sys.path.append(top_dir)"
   ]
  },
  {
   "cell_type": "markdown",
   "metadata": {
    "colab_type": "text",
    "id": "m6sLPjRC3vPG"
   },
   "source": [
    "## TF-GPU Config\n",
    "The following cell sets TF properties to run on GPU"
   ]
  },
  {
   "cell_type": "code",
   "execution_count": 3,
   "metadata": {},
   "outputs": [
    {
     "name": "stdout",
     "output_type": "stream",
     "text": [
      "Device mapping:\n",
      "/job:localhost/replica:0/task:0/device:XLA_CPU:0 -> device: XLA_CPU device\n",
      "/job:localhost/replica:0/task:0/device:GPU:0 -> device: 0, name: GeForce RTX 2070, pci bus id: 0000:01:00.0, compute capability: 7.5\n",
      "/job:localhost/replica:0/task:0/device:XLA_GPU:0 -> device: XLA_GPU device\n",
      "\n"
     ]
    }
   ],
   "source": [
    "## This block is to tweak TF running on GPU\n",
    "## You may comment this out, if you are not using GPU\n",
    "\n",
    "## ---- start Memory setting ----\n",
    "## Ask TF not to allocate all GPU memory at once.. allocate as needed\n",
    "## Without this the execution will fail with \"failed to initialize algorithm\" error\n",
    "\n",
    "from tensorflow.compat.v1.keras.backend import set_session\n",
    "config = tf.compat.v1.ConfigProto()\n",
    "config.gpu_options.allow_growth = True  # dynamically grow the memory used on the GPU\n",
    "config.log_device_placement = True  # to log device placement (on which device the operation ran)\n",
    "sess = tf.compat.v1.Session(config=config)\n",
    "set_session(sess)\n",
    "## ---- end Memory setting ----"
   ]
  },
  {
   "cell_type": "markdown",
   "metadata": {},
   "source": [
    "## Step 1 - Download Data\n",
    "We will use cat-dog-redux dataset"
   ]
  },
  {
   "cell_type": "code",
   "execution_count": 4,
   "metadata": {},
   "outputs": [],
   "source": [
    "## Common constants\n",
    "\n",
    "IMG_WIDTH=160\n",
    "IMG_HEIGHT=160\n",
    "NUM_CLASSES=2\n",
    "BATCH_SIZE=64\n",
    "APP_NAME = 'retrain'\n",
    "EPOCHS = 3"
   ]
  },
  {
   "cell_type": "code",
   "execution_count": 5,
   "metadata": {},
   "outputs": [
    {
     "name": "stdout",
     "output_type": "stream",
     "text": [
      "local download file:  /home/sujee/.keras/datasets/cat-dog-redux.zip\n",
      "local data dir:  /home/sujee/.keras/datasets/cat-dog-redux\n",
      "train dir: /home/sujee/.keras/datasets/cat-dog-redux/train\n",
      "validation dir: /home/sujee/.keras/datasets/cat-dog-redux/val\n"
     ]
    }
   ],
   "source": [
    "import os\n",
    "\n",
    "data_location = 'https://elephantscale-public.s3.amazonaws.com/data/images/cat-dog-redux.zip'\n",
    "\n",
    "data_location_local = keras.utils.get_file(fname=os.path.basename(data_location),\n",
    "                                           origin=data_location, extract=True)\n",
    "print ('local download file: ', data_location_local)\n",
    "data_dir = os.path.join(os.path.dirname(data_location_local), 'cat-dog-redux')\n",
    "print ('local data dir: ', data_dir)\n",
    "train_dir = os.path.join(data_dir, 'train')\n",
    "validation_dir = os.path.join(data_dir, 'val')\n",
    "print ('train dir:', train_dir)\n",
    "print ('validation dir:', validation_dir)"
   ]
  },
  {
   "cell_type": "markdown",
   "metadata": {},
   "source": [
    "## Step 2 - Setup Data Generators"
   ]
  },
  {
   "cell_type": "code",
   "execution_count": 6,
   "metadata": {},
   "outputs": [
    {
     "name": "stdout",
     "output_type": "stream",
     "text": [
      "Found 500 images belonging to 2 classes.\n",
      "Found 500 images belonging to 2 classes.\n"
     ]
    }
   ],
   "source": [
    "from tensorflow.keras.preprocessing.image import ImageDataGenerator\n",
    "\n",
    "# train_image_generator = ImageDataGenerator(rescale=1./255) # Generator for our training data\n",
    "\n",
    "train_image_generator = ImageDataGenerator(\n",
    "                            rescale=1./255,\n",
    "                            rotation_range=45,\n",
    "                            width_shift_range = 0.2,\n",
    "                            height_shift_range = 0.2,\n",
    "                            shear_range = 0.2,\n",
    "                            zoom_range = 0.2,\n",
    "                            horizontal_flip = True)\n",
    "\n",
    "\n",
    "validation_image_generator = ImageDataGenerator(rescale=1./255) # Generator for our validation data\n",
    "\n",
    "train_data_gen = train_image_generator.flow_from_directory(batch_size=BATCH_SIZE,\n",
    "                                                           directory=train_dir,\n",
    "                                                           shuffle=True,\n",
    "                                                           target_size=(IMG_HEIGHT, IMG_WIDTH),\n",
    "                                                           class_mode='categorical'\n",
    "                                                          )\n",
    "\n",
    "\n",
    "val_data_gen = validation_image_generator.flow_from_directory(batch_size=BATCH_SIZE,\n",
    "                                                              directory=validation_dir,\n",
    "                                                              target_size=(IMG_HEIGHT, IMG_WIDTH),\n",
    "                                                              class_mode='categorical'\n",
    "                                                             )"
   ]
  },
  {
   "cell_type": "markdown",
   "metadata": {},
   "source": [
    "## Step 3 - Download Model\n",
    "Let's try the InceptionV3 model.  We will only download the 'base' model, without the final classifying layers"
   ]
  },
  {
   "cell_type": "code",
   "execution_count": 7,
   "metadata": {},
   "outputs": [
    {
     "name": "stdout",
     "output_type": "stream",
     "text": [
      "* Model: \"inception_v3\"\n",
      "* Total params: 21,802,784\n",
      "* Trainable params: 21,768,352\n",
      "* Non-trainable params: 34,432\n",
      "* # layers:  311\n",
      "\n",
      "92M\t/home/sujee/.keras/models/inception_v3_weights_tf_dim_ordering_tf_kernels.h5\n",
      "84M\t/home/sujee/.keras/models/inception_v3_weights_tf_dim_ordering_tf_kernels_notop.h5\n"
     ]
    }
   ],
   "source": [
    "from transfer_learning_utils import print_model_summary_compact\n",
    "\n",
    "pre_trained_model = tf.keras.applications.InceptionV3(input_shape=(IMG_WIDTH,IMG_HEIGHT,3), \n",
    "                                               include_top = False,\n",
    "                                               weights = 'imagenet')\n",
    "print_model_summary_compact(pre_trained_model)\n",
    "print ()\n",
    "\n",
    "! du -skh ~/.keras/models/* | grep inception"
   ]
  },
  {
   "cell_type": "code",
   "execution_count": 8,
   "metadata": {},
   "outputs": [],
   "source": [
    "# pre_trained_model.summary()  # large output"
   ]
  },
  {
   "cell_type": "markdown",
   "metadata": {},
   "source": [
    "### Inspect the model and freeze the layers"
   ]
  },
  {
   "cell_type": "code",
   "execution_count": 9,
   "metadata": {},
   "outputs": [
    {
     "name": "stdout",
     "output_type": "stream",
     "text": [
      "last_layer.name: mixed10\n",
      "last_layer.output.shape: (None, 3, 3, 2048)\n"
     ]
    }
   ],
   "source": [
    "# last_layer = pre_trained_model.get_layer('mixed7')\n",
    "last_layer = pre_trained_model.layers[-1]\n",
    "\n",
    "print (\"last_layer.name:\", last_layer.name)\n",
    "print ('last_layer.output.shape:', last_layer.output_shape)"
   ]
  },
  {
   "cell_type": "code",
   "execution_count": 10,
   "metadata": {},
   "outputs": [
    {
     "name": "stdout",
     "output_type": "stream",
     "text": [
      "* Model: \"inception_v3\"\n",
      "* Total params: 21,802,784\n",
      "* Trainable params: 0\n",
      "* Non-trainable params: 21,802,784\n",
      "* # layers:  311\n"
     ]
    }
   ],
   "source": [
    "## Freeze all layers\n",
    "# for layer in pre_trained_model.layers:\n",
    "#   layer.trainable = False\n",
    "\n",
    "# or this works too\n",
    "pre_trained_model.trainable = False\n",
    "\n",
    "print_model_summary_compact (pre_trained_model)"
   ]
  },
  {
   "cell_type": "markdown",
   "metadata": {},
   "source": [
    "## Step 4 - Create our own model\n",
    "\n",
    "We are going to add a ccouple of layers\n",
    "- One fully connected layer\n",
    "- And a softmax layer\n",
    "\n",
    "On top of the model"
   ]
  },
  {
   "cell_type": "code",
   "execution_count": 25,
   "metadata": {},
   "outputs": [
    {
     "name": "stdout",
     "output_type": "stream",
     "text": [
      "* Model: \"sequential_1\"\n",
      "* Total params: 31,241,506\n",
      "* Trainable params: 9,438,722\n",
      "* Non-trainable params: 21,802,784\n",
      "* # layers:  5\n",
      "\n"
     ]
    },
    {
     "data": {
      "image/png": "[encoded data removed]",
      "text/plain": [
       "<IPython.core.display.Image object>"
      ]
     },
     "execution_count": 25,
     "metadata": {},
     "output_type": "execute_result"
    }
   ],
   "source": [
    "from tensorflow.keras.models import Sequential\n",
    "from tensorflow.keras.layers import Input, Dense, Softmax, Flatten, GlobalAveragePooling2D, Dropout\n",
    "from transfer_learning_utils import print_model_summary_compact\n",
    "\n",
    "model = Sequential ([\n",
    "                Input (shape=(IMG_WIDTH, IMG_HEIGHT, 3)),\n",
    "                pre_trained_model, \n",
    "                Flatten(), \n",
    "                #GlobalAveragePooling2D(),\n",
    "                Dense(512, activation='relu'),\n",
    "                Dropout(0.5),\n",
    "                Dense(NUM_CLASSES, activation='softmax')\n",
    "            ])\n",
    "\n",
    "model.compile (loss='categorical_crossentropy',\n",
    "                  optimizer= 'adam',\n",
    "                  metrics=['accuracy'])\n",
    "\n",
    "print_model_summary_compact(model)\n",
    "print()\n",
    "# my_model.summary()  # large output\n",
    "\n",
    "tf.keras.utils.plot_model(model, to_file='model.png', show_shapes=True)"
   ]
  },
  {
   "cell_type": "markdown",
   "metadata": {
    "colab_type": "text",
    "id": "sU4Z4MYG3vPh"
   },
   "source": [
    "## Step 5 - Setup Tensorboard"
   ]
  },
  {
   "cell_type": "code",
   "execution_count": 12,
   "metadata": {},
   "outputs": [
    {
     "name": "stdout",
     "output_type": "stream",
     "text": [
      "Saving TB logs to :  /tmp/tensorboard-logs/retrain/20-38-12\n"
     ]
    },
    {
     "data": {
      "text/html": [
       "\n",
       "      <iframe id=\"tensorboard-frame-5508cec3dd8873f3\" width=\"100%\" height=\"800\" frameborder=\"0\">\n",
       "      </iframe>\n",
       "      <script>\n",
       "        (function() {\n",
       "          const frame = document.getElementById(\"tensorboard-frame-5508cec3dd8873f3\");\n",
       "          const url = new URL(\"/\", window.location);\n",
       "          url.port = 6007;\n",
       "          frame.src = url;\n",
       "        })();\n",
       "      </script>\n",
       "  "
      ],
      "text/plain": [
       "<IPython.core.display.HTML object>"
      ]
     },
     "metadata": {},
     "output_type": "display_data"
    }
   ],
   "source": [
    "## This is fairly boiler plate code\n",
    "\n",
    "import datetime\n",
    "import os\n",
    "import shutil\n",
    "\n",
    "app_name = APP_NAME\n",
    "\n",
    "\n",
    "# timestamp  = datetime.datetime.now().strftime(\"%Y-%m-%d--%H-%M-%S\")\n",
    "\n",
    "tb_top_level_dir= '/tmp/tensorboard-logs'\n",
    "\n",
    "tb_app_dir = os.path.join (tb_top_level_dir, app_name)\n",
    "\n",
    "tb_logs_dir = os.path.join (tb_app_dir, datetime.datetime.now().strftime(\"%H-%M-%S\"))\n",
    "\n",
    "\n",
    "print (\"Saving TB logs to : \" , tb_logs_dir)\n",
    "\n",
    "#clear out old logs\n",
    "shutil.rmtree ( tb_app_dir, ignore_errors=True )\n",
    "\n",
    "tensorboard_callback = tf.keras.callbacks.TensorBoard(log_dir=tb_logs_dir, write_graph=True, \n",
    "                                                      write_images=True, histogram_freq=1)\n",
    "\n",
    "## This will embed Tensorboard right here in jupyter!\n",
    "# ! killall tensorboard  # kill previously running tensorboards\n",
    "%load_ext tensorboard\n",
    "%tensorboard --logdir $tb_logs_dir"
   ]
  },
  {
   "cell_type": "markdown",
   "metadata": {
    "colab_type": "text",
    "id": "cflnm-v23vPj"
   },
   "source": [
    "## Step 6 : Train"
   ]
  },
  {
   "cell_type": "code",
   "execution_count": 13,
   "metadata": {},
   "outputs": [
    {
     "name": "stdout",
     "output_type": "stream",
     "text": [
      "steps_per_epocoh: 7\n",
      "validation_steps: 7\n",
      "Epoch 1/10\n",
      "7/7 [==============================] - 6s 826ms/step - loss: 29.5414 - accuracy: 0.5402 - val_loss: 2.2663 - val_accuracy: 0.8884\n",
      "Epoch 2/10\n",
      "7/7 [==============================] - 5s 697ms/step - loss: 5.6050 - accuracy: 0.7982 - val_loss: 0.7580 - val_accuracy: 0.9353\n",
      "Epoch 3/10\n",
      "7/7 [==============================] - 5s 737ms/step - loss: 2.4032 - accuracy: 0.8670 - val_loss: 0.8108 - val_accuracy: 0.9554\n",
      "Epoch 4/10\n",
      "7/7 [==============================] - 5s 729ms/step - loss: 1.6215 - accuracy: 0.8991 - val_loss: 0.5320 - val_accuracy: 0.9576\n",
      "Epoch 5/10\n",
      "7/7 [==============================] - 5s 727ms/step - loss: 1.1982 - accuracy: 0.9083 - val_loss: 0.4356 - val_accuracy: 0.9554\n",
      "Epoch 6/10\n",
      "7/7 [==============================] - 5s 723ms/step - loss: 0.9206 - accuracy: 0.9197 - val_loss: 0.4140 - val_accuracy: 0.9554\n",
      "Epoch 7/10\n",
      "7/7 [==============================] - 5s 729ms/step - loss: 0.6340 - accuracy: 0.9220 - val_loss: 0.1619 - val_accuracy: 0.9665\n",
      "Epoch 8/10\n",
      "7/7 [==============================] - 5s 733ms/step - loss: 0.5011 - accuracy: 0.9106 - val_loss: 0.2790 - val_accuracy: 0.9531\n",
      "Epoch 9/10\n",
      "7/7 [==============================] - 5s 731ms/step - loss: 0.3259 - accuracy: 0.9107 - val_loss: 0.0825 - val_accuracy: 0.9732\n",
      "Epoch 10/10\n",
      "7/7 [==============================] - 5s 734ms/step - loss: 0.2010 - accuracy: 0.9197 - val_loss: 0.1300 - val_accuracy: 0.9509\n",
      "CPU times: user 1min 1s, sys: 1.25 s, total: 1min 3s\n",
      "Wall time: 57.9 s\n"
     ]
    }
   ],
   "source": [
    "%%time \n",
    "\n",
    "steps_per_epoch = train_data_gen.n // train_data_gen.batch_size\n",
    "validation_steps = val_data_gen.n // val_data_gen.batch_size\n",
    "print ('steps_per_epocoh:', steps_per_epoch)\n",
    "print ('validation_steps:', validation_steps)\n",
    "\n",
    "history = model.fit(\n",
    "    train_data_gen,\n",
    "    steps_per_epoch= steps_per_epoch,\n",
    "    epochs=10,\n",
    "    validation_data=val_data_gen,\n",
    "    validation_steps=validation_steps,\n",
    "    callbacks = [tensorboard_callback]\n",
    ")"
   ]
  },
  {
   "cell_type": "markdown",
   "metadata": {},
   "source": [
    "### Save the model for reuse later\n",
    "As you can see training takes a long time.  \n",
    "Let's save the resulting model, so we can use it quickly without going through training again."
   ]
  },
  {
   "cell_type": "code",
   "execution_count": 27,
   "metadata": {},
   "outputs": [
    {
     "name": "stdout",
     "output_type": "stream",
     "text": [
      "model saved as 'retrain-model.h5',  size = 125,465,520.000000 bytes / 125,465.5 KB  / 125.5 MB\n"
     ]
    }
   ],
   "source": [
    "import os\n",
    "\n",
    "model_file =  APP_NAME + '-model.h5'\n",
    "model.save(model_file)\n",
    "\n",
    "model_size_in_bytes = os.path.getsize(model_file)\n",
    "print (\"model saved as '{}',  size = {:,f} bytes / {:,.1f} KB  / {:,.1f} MB\".format(model_file, \n",
    "                                    model_size_in_bytes, model_size_in_bytes / 1e3, \n",
    "                                    model_size_in_bytes / 1e6 ))"
   ]
  },
  {
   "cell_type": "markdown",
   "metadata": {
    "colab_type": "text",
    "id": "a9kZ2ul33vPm"
   },
   "source": [
    "## Step 7 : See Training History"
   ]
  },
  {
   "cell_type": "code",
   "execution_count": 15,
   "metadata": {},
   "outputs": [
    {
     "data": {
      "image/png": "[encoded data removed]",
      "text/plain": [
       "<Figure size 432x288 with 1 Axes>"
      ]
     },
     "metadata": {
      "needs_background": "light"
     },
     "output_type": "display_data"
    }
   ],
   "source": [
    "%matplotlib inline\n",
    "import matplotlib.pyplot as plt\n",
    "\n",
    "plt.plot(history.history['accuracy'], label='train_accuracy')\n",
    "plt.plot(history.history['val_accuracy'], label='val_accuracy')\n",
    "plt.legend()\n",
    "plt.show()"
   ]
  },
  {
   "cell_type": "markdown",
   "metadata": {
    "colab_type": "text",
    "id": "Kmzupp1d3vPu"
   },
   "source": [
    "## Step 8 : Evaluate the Model "
   ]
  },
  {
   "cell_type": "markdown",
   "metadata": {
    "colab_type": "text",
    "id": "xF81OSSQ3vPv"
   },
   "source": [
    "### 8.1 - Metrics"
   ]
  },
  {
   "cell_type": "code",
   "execution_count": 16,
   "metadata": {
    "colab": {
     "base_uri": "https://localhost:8080/",
     "height": 69
    },
    "colab_type": "code",
    "id": "K8JoGQPJ3vPv",
    "outputId": "f8a19588-5045-4416-f0f3-9cdda95f376f"
   },
   "outputs": [
    {
     "name": "stdout",
     "output_type": "stream",
     "text": [
      "7/7 [==============================] - 1s 82ms/step - loss: 0.1140 - accuracy: 0.9576\n",
      "model metrics :  ['loss', 'accuracy']\n",
      "Metric : loss = 0.114\n",
      "Metric : accuracy = 0.958\n"
     ]
    }
   ],
   "source": [
    "from math import ceil\n",
    "\n",
    "\n",
    "metrics = model.evaluate(val_data_gen, batch_size=val_data_gen.batch_size, steps=ceil(val_data_gen.n // val_data_gen.batch_size) )\n",
    "\n",
    "metric_names = model.metrics_names\n",
    "print (\"model metrics : \" , metric_names)\n",
    "\n",
    "for idx, metric in enumerate(metric_names):\n",
    "    print (\"Metric : {} = {:,.3f}\".format (metric_names[idx], metrics[idx]))"
   ]
  },
  {
   "cell_type": "markdown",
   "metadata": {},
   "source": [
    "### 8.2 - Predictions and Confusion Matrix"
   ]
  },
  {
   "cell_type": "code",
   "execution_count": 22,
   "metadata": {},
   "outputs": [
    {
     "name": "stdout",
     "output_type": "stream",
     "text": [
      "predicting on 500 test images\n",
      "predictions.shape:  (500, 2)\n",
      "convering softmax --> classes\n"
     ]
    }
   ],
   "source": [
    "import numpy as np\n",
    "from math import ceil\n",
    "\n",
    "\n",
    "print (\"predicting on {:,} test images\".format(val_data_gen.n))\n",
    "# we need a ceiling for steps\n",
    "predictions = model.predict(val_data_gen, batch_size=val_data_gen.batch_size, \n",
    "                            steps=ceil(val_data_gen.n / val_data_gen.batch_size) )\n",
    "print( 'predictions.shape: ', predictions.shape)\n",
    "\n",
    "\n",
    "if val_data_gen.class_mode == 'categorical':\n",
    "    # converting softmax --> classes\n",
    "    print (\"convering softmax --> classes\")\n",
    "    predictions2 = [ np.argmax(p) for p in predictions]\n",
    "\n",
    "if val_data_gen.class_mode == 'binary':\n",
    "    # converting sigmoid --> classes\n",
    "    print (\"converting sigmod --> binary\")\n",
    "    predictions2 = [0 if n < 0.5 else 1 for n in predictions]\n",
    "\n",
    "\n",
    "# ## Ensure all predictions match\n",
    "assert(len(predictions) == len(predictions2) == len(val_data_gen.classes) )"
   ]
  },
  {
   "cell_type": "code",
   "execution_count": 18,
   "metadata": {},
   "outputs": [
    {
     "name": "stdout",
     "output_type": "stream",
     "text": [
      "predictions :  [[ 1.00  0.00]\n",
      " [ 0.00  1.00]\n",
      " [ 1.00  0.00]\n",
      " [ 0.00  1.00]\n",
      " [ 0.00  1.00]\n",
      " [ 0.00  1.00]\n",
      " [ 1.00  0.00]\n",
      " [ 0.00  1.00]\n",
      " [ 1.00  0.00]\n",
      " [ 1.00  0.00]]\n",
      "prediction2:  [0, 1, 0, 1, 1, 1, 0, 1, 0, 0]\n"
     ]
    }
   ],
   "source": [
    "np.set_printoptions(formatter={'float': '{: 0.2f}'.format})\n",
    "\n",
    "print ('predictions : ' , predictions[:10])\n",
    "print ('prediction2: ' , predictions2[:10])"
   ]
  },
  {
   "cell_type": "code",
   "execution_count": 23,
   "metadata": {},
   "outputs": [
    {
     "data": {
      "text/plain": [
       "array([[111, 139],\n",
       "       [118, 132]])"
      ]
     },
     "execution_count": 23,
     "metadata": {},
     "output_type": "execute_result"
    }
   ],
   "source": [
    "from sklearn.metrics import confusion_matrix\n",
    "import seaborn as sns\n",
    "\n",
    "test_labels = val_data_gen.classes\n",
    "cm = confusion_matrix(test_labels, predictions2, labels = range(0, NUM_CLASSES))\n",
    "cm"
   ]
  },
  {
   "cell_type": "code",
   "execution_count": 24,
   "metadata": {},
   "outputs": [
    {
     "name": "stdout",
     "output_type": "stream",
     "text": [
      "class index mapping :  {'cat': 0, 'dog': 1}\n"
     ]
    },
    {
     "data": {
      "text/plain": [
       "[]"
      ]
     },
     "execution_count": 24,
     "metadata": {},
     "output_type": "execute_result"
    },
    {
     "data": {
      "image/png": "[encoded data removed]",
      "text/plain": [
       "<Figure size 576x432 with 2 Axes>"
      ]
     },
     "metadata": {
      "needs_background": "light"
     },
     "output_type": "display_data"
    }
   ],
   "source": [
    "import matplotlib.pyplot as plt\n",
    "import seaborn as sns\n",
    "\n",
    "print (\"class index mapping : \", val_data_gen.class_indices)\n",
    "\n",
    "plt.figure(figsize = (8,6))\n",
    "\n",
    "# colormaps : cmap=\"YlGnBu\" , cmap=\"Greens\", cmap=\"Blues\",  cmap=\"Reds\"\n",
    "sns.heatmap(cm, annot=True, cmap=\"Reds\", fmt='d').plot()"
   ]
  },
  {
   "cell_type": "markdown",
   "metadata": {},
   "source": [
    "## Cleanup \n",
    "Before running the next exercise, run the following cell to terminate processes and free up resources"
   ]
  },
  {
   "cell_type": "code",
   "execution_count": 21,
   "metadata": {},
   "outputs": [
    {
     "name": "stdout",
     "output_type": "stream",
     "text": [
      "Killing Child pid  22815\n"
     ]
    }
   ],
   "source": [
    "## Kill any child processes (like tensorboard)\n",
    "\n",
    "import psutil\n",
    "import os, signal\n",
    "\n",
    "current_process = psutil.Process()\n",
    "children = current_process.children(recursive=True)\n",
    "for child in children:\n",
    "    print('Killing Child pid  {}'.format(child.pid))\n",
    "    os.kill(child.pid, signal.SIGKILL)\n",
    "    \n",
    "## This will kill actual kernel itself\n",
    "# os.kill(os.getpid(), signal.SIGKILL)"
   ]
  }
 ],
 "metadata": {
  "kernelspec": {
   "display_name": "TensorFlow-GPU",
   "language": "python",
   "name": "tf2-gpu"
  },
  "language_info": {
   "codemirror_mode": {
    "name": "ipython",
    "version": 3
   },
   "file_extension": ".py",
   "mimetype": "text/x-python",
   "name": "python",
   "nbconvert_exporter": "python",
   "pygments_lexer": "ipython3",
   "version": "3.7.7"
  }
 },
 "nbformat": 4,
 "nbformat_minor": 4
}
