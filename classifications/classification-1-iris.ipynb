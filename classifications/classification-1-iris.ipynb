{
 "cells": [
  {
   "cell_type": "markdown",
   "metadata": {},
   "source": [
    "## Deep Neural Network (DNN) Classifier - Iris\n",
    "We will build a relataively simple neuran net to classify IRIS dataset "
   ]
  },
  {
   "cell_type": "markdown",
   "metadata": {},
   "source": [
    "## Step 1 - About IRIS Dataset\n",
    "\n",
    "Imagine you are a botanist seeking an automated way to categorize each Iris flower you find. Machine learning provides many algorithms to statistically classify flowers. For instance, a sophisticated machine learning program could classify flowers based on photographs. Our ambitions are more modest—we're going to classify Iris flowers based on the length and width measurements of their [sepals](https://en.wikipedia.org/wiki/Sepal) and [petals](https://en.wikipedia.org/wiki/Petal).\n",
    "\n",
    "The Iris genus entails about 300 species, but our program will only classify the following three:\n",
    "\n",
    "* Iris setosa\n",
    "* Iris virginica\n",
    "* Iris versicolor\n",
    "\n",
    "<table>\n",
    "  <tr><td>\n",
    "    <img src=\"https://www.tensorflow.org/images/iris_three_species.jpg\"\n",
    "         alt=\"Petal geometry compared for three iris species: Iris setosa, Iris virginica, and Iris versicolor\">\n",
    "  </td></tr>\n",
    "  <tr><td align=\"center\">\n",
    "    <b>Figure 1.</b> <a href=\"https://commons.wikimedia.org/w/index.php?curid=170298\">Iris setosa</a> (by <a href=\"https://commons.wikimedia.org/wiki/User:Radomil\">Radomil</a>, CC BY-SA 3.0), <a href=\"https://commons.wikimedia.org/w/index.php?curid=248095\">Iris versicolor</a>, (by <a href=\"https://commons.wikimedia.org/wiki/User:Dlanglois\">Dlanglois</a>, CC BY-SA 3.0), and <a href=\"https://www.flickr.com/photos/33397993@N05/3352169862\">Iris virginica</a> (by <a href=\"https://www.flickr.com/photos/33397993@N05\">Frank Mayfield</a>, CC BY-SA 2.0).<br/>&nbsp;\n",
    "  </td></tr>\n",
    "</table>\n",
    "\n",
    "Fortunately, someone has already created a [data set of 120 Iris flowers](https://en.wikipedia.org/wiki/Iris_flower_data_set) with the sepal and p"
   ]
  },
  {
   "cell_type": "code",
   "execution_count": 1,
   "metadata": {},
   "outputs": [
    {
     "name": "stdout",
     "output_type": "stream",
     "text": [
      "Running in Google COLAB :  False\n"
     ]
    }
   ],
   "source": [
    "## Determine if we are running on google colab\n",
    "\n",
    "try:\n",
    "    import google.colab\n",
    "    RUNNING_IN_COLAB = True\n",
    "except:\n",
    "    RUNNING_IN_COLAB = False\n",
    "\n",
    "print (\"Running in Google COLAB : \", RUNNING_IN_COLAB)\n"
   ]
  },
  {
   "cell_type": "code",
   "execution_count": 2,
   "metadata": {},
   "outputs": [],
   "source": [
    "%matplotlib inline\n",
    "import numpy as np\n",
    "import pandas as pd\n",
    "import matplotlib.pyplot as plt\n",
    "\n",
    "try:\n",
    "  # %tensorflow_version only exists in Colab.\n",
    "  %tensorflow_version 2.x\n",
    "except Exception:\n",
    "  pass\n",
    "\n",
    "import tensorflow as tf\n",
    "from tensorflow import keras"
   ]
  },
  {
   "cell_type": "markdown",
   "metadata": {},
   "source": [
    "## Step 2 : Read Data"
   ]
  },
  {
   "cell_type": "code",
   "execution_count": 3,
   "metadata": {},
   "outputs": [
    {
     "data": {
      "text/html": [
       "<div>\n",
       "<style scoped>\n",
       "    .dataframe tbody tr th:only-of-type {\n",
       "        vertical-align: middle;\n",
       "    }\n",
       "\n",
       "    .dataframe tbody tr th {\n",
       "        vertical-align: top;\n",
       "    }\n",
       "\n",
       "    .dataframe thead th {\n",
       "        text-align: right;\n",
       "    }\n",
       "</style>\n",
       "<table border=\"1\" class=\"dataframe\">\n",
       "  <thead>\n",
       "    <tr style=\"text-align: right;\">\n",
       "      <th></th>\n",
       "      <th>SepalLengthCm</th>\n",
       "      <th>SepalWidthCm</th>\n",
       "      <th>PetalLengthCm</th>\n",
       "      <th>PetalWidthCm</th>\n",
       "      <th>Species</th>\n",
       "    </tr>\n",
       "  </thead>\n",
       "  <tbody>\n",
       "    <tr>\n",
       "      <th>0</th>\n",
       "      <td>5.1</td>\n",
       "      <td>3.5</td>\n",
       "      <td>1.4</td>\n",
       "      <td>0.2</td>\n",
       "      <td>Iris-setosa</td>\n",
       "    </tr>\n",
       "    <tr>\n",
       "      <th>1</th>\n",
       "      <td>4.9</td>\n",
       "      <td>3.0</td>\n",
       "      <td>1.4</td>\n",
       "      <td>0.2</td>\n",
       "      <td>Iris-setosa</td>\n",
       "    </tr>\n",
       "    <tr>\n",
       "      <th>2</th>\n",
       "      <td>4.7</td>\n",
       "      <td>3.2</td>\n",
       "      <td>1.3</td>\n",
       "      <td>0.2</td>\n",
       "      <td>Iris-setosa</td>\n",
       "    </tr>\n",
       "    <tr>\n",
       "      <th>3</th>\n",
       "      <td>4.6</td>\n",
       "      <td>3.1</td>\n",
       "      <td>1.5</td>\n",
       "      <td>0.2</td>\n",
       "      <td>Iris-setosa</td>\n",
       "    </tr>\n",
       "    <tr>\n",
       "      <th>4</th>\n",
       "      <td>5.0</td>\n",
       "      <td>3.6</td>\n",
       "      <td>1.4</td>\n",
       "      <td>0.2</td>\n",
       "      <td>Iris-setosa</td>\n",
       "    </tr>\n",
       "    <tr>\n",
       "      <th>...</th>\n",
       "      <td>...</td>\n",
       "      <td>...</td>\n",
       "      <td>...</td>\n",
       "      <td>...</td>\n",
       "      <td>...</td>\n",
       "    </tr>\n",
       "    <tr>\n",
       "      <th>145</th>\n",
       "      <td>6.7</td>\n",
       "      <td>3.0</td>\n",
       "      <td>5.2</td>\n",
       "      <td>2.3</td>\n",
       "      <td>Iris-virginica</td>\n",
       "    </tr>\n",
       "    <tr>\n",
       "      <th>146</th>\n",
       "      <td>6.3</td>\n",
       "      <td>2.5</td>\n",
       "      <td>5.0</td>\n",
       "      <td>1.9</td>\n",
       "      <td>Iris-virginica</td>\n",
       "    </tr>\n",
       "    <tr>\n",
       "      <th>147</th>\n",
       "      <td>6.5</td>\n",
       "      <td>3.0</td>\n",
       "      <td>5.2</td>\n",
       "      <td>2.0</td>\n",
       "      <td>Iris-virginica</td>\n",
       "    </tr>\n",
       "    <tr>\n",
       "      <th>148</th>\n",
       "      <td>6.2</td>\n",
       "      <td>3.4</td>\n",
       "      <td>5.4</td>\n",
       "      <td>2.3</td>\n",
       "      <td>Iris-virginica</td>\n",
       "    </tr>\n",
       "    <tr>\n",
       "      <th>149</th>\n",
       "      <td>5.9</td>\n",
       "      <td>3.0</td>\n",
       "      <td>5.1</td>\n",
       "      <td>1.8</td>\n",
       "      <td>Iris-virginica</td>\n",
       "    </tr>\n",
       "  </tbody>\n",
       "</table>\n",
       "<p>150 rows × 5 columns</p>\n",
       "</div>"
      ],
      "text/plain": [
       "     SepalLengthCm  SepalWidthCm  PetalLengthCm  PetalWidthCm         Species\n",
       "0              5.1           3.5            1.4           0.2     Iris-setosa\n",
       "1              4.9           3.0            1.4           0.2     Iris-setosa\n",
       "2              4.7           3.2            1.3           0.2     Iris-setosa\n",
       "3              4.6           3.1            1.5           0.2     Iris-setosa\n",
       "4              5.0           3.6            1.4           0.2     Iris-setosa\n",
       "..             ...           ...            ...           ...             ...\n",
       "145            6.7           3.0            5.2           2.3  Iris-virginica\n",
       "146            6.3           2.5            5.0           1.9  Iris-virginica\n",
       "147            6.5           3.0            5.2           2.0  Iris-virginica\n",
       "148            6.2           3.4            5.4           2.3  Iris-virginica\n",
       "149            5.9           3.0            5.1           1.8  Iris-virginica\n",
       "\n",
       "[150 rows x 5 columns]"
      ]
     },
     "execution_count": 3,
     "metadata": {},
     "output_type": "execute_result"
    }
   ],
   "source": [
    "import os\n",
    "\n",
    "# data_location_local = '../data/iris/keras/iris.csv'\n",
    "\n",
    "data_location = \"https://s3.amazonaws.com/elephantscale-public/data/iris/keras/iris.csv\"\n",
    "data_location_local = keras.utils.get_file(fname=os.path.basename(data_location),\n",
    "                                           origin=data_location)\n",
    "iris = pd.read_csv(data_location_local)\n",
    "\n",
    "iris.columns = ['SepalLengthCm', 'SepalWidthCm', 'PetalLengthCm', 'PetalWidthCm','Species']\n",
    "\n",
    "iris"
   ]
  },
  {
   "cell_type": "markdown",
   "metadata": {},
   "source": [
    "## Step 3 : Shape Data\n",
    "\n",
    "### 3.1 - Select columns"
   ]
  },
  {
   "cell_type": "code",
   "execution_count": 4,
   "metadata": {},
   "outputs": [
    {
     "name": "stdout",
     "output_type": "stream",
     "text": [
      "   SepalLengthCm  SepalWidthCm  PetalLengthCm  PetalWidthCm\n",
      "0            5.1           3.5            1.4           0.2\n",
      "1            4.9           3.0            1.4           0.2\n",
      "2            4.7           3.2            1.3           0.2\n",
      "3            4.6           3.1            1.5           0.2\n",
      "4            5.0           3.6            1.4           0.2\n",
      "-----\n",
      "       Species\n",
      "0  Iris-setosa\n",
      "1  Iris-setosa\n",
      "2  Iris-setosa\n",
      "3  Iris-setosa\n",
      "4  Iris-setosa\n"
     ]
    }
   ],
   "source": [
    "input_columns = ['SepalLengthCm', 'SepalWidthCm', 'PetalLengthCm', 'PetalWidthCm']\n",
    "x = iris [input_columns]\n",
    "y = iris[['Species']]\n",
    "\n",
    "print (x.head())\n",
    "print('-----')\n",
    "print (y.head())"
   ]
  },
  {
   "cell_type": "markdown",
   "metadata": {},
   "source": [
    "### 3.2 - Encode Labels\n",
    "Our output labels are strings like 'Iris-setosa' and 'Iris-virginica' ..etc.  \n",
    "These are called **categorical variables**  \n",
    "We need to change these to numbers  \n",
    "This is called **encoding**"
   ]
  },
  {
   "cell_type": "code",
   "execution_count": 5,
   "metadata": {},
   "outputs": [
    {
     "name": "stdout",
     "output_type": "stream",
     "text": [
      "[0 0 0 0 0 0 0 0 0 0 0 0 0 0 0 0 0 0 0 0 0 0 0 0 0 0 0 0 0 0 0 0 0 0 0 0 0\n",
      " 0 0 0 0 0 0 0 0 0 0 0 0 0 1 1 1 1 1 1 1 1 1 1 1 1 1 1 1 1 1 1 1 1 1 1 1 1\n",
      " 1 1 1 1 1 1 1 1 1 1 1 1 1 1 1 1 1 1 1 1 1 1 1 1 1 1 2 2 2 2 2 2 2 2 2 2 2\n",
      " 2 2 2 2 2 2 2 2 2 2 2 2 2 2 2 2 2 2 2 2 2 2 2 2 2 2 2 2 2 2 2 2 2 2 2 2 2\n",
      " 2 2]\n"
     ]
    },
    {
     "name": "stderr",
     "output_type": "stream",
     "text": [
      "/home/ubuntu/apps/anaconda/lib/python3.7/site-packages/sklearn/utils/validation.py:73: DataConversionWarning: A column-vector y was passed when a 1d array was expected. Please change the shape of y to (n_samples, ), for example using ravel().\n",
      "  return f(**kwargs)\n"
     ]
    }
   ],
   "source": [
    "from sklearn.preprocessing import LabelEncoder\n",
    "encoder =  LabelEncoder()\n",
    "y1 = encoder.fit_transform(y.values) ## need y.values which is an array\n",
    "print(y1)"
   ]
  },
  {
   "cell_type": "markdown",
   "metadata": {},
   "source": [
    "### 3.3 - Create train/test split"
   ]
  },
  {
   "cell_type": "code",
   "execution_count": 6,
   "metadata": {},
   "outputs": [
    {
     "name": "stdout",
     "output_type": "stream",
     "text": [
      "x_train.shape :  (120, 4)\n",
      "y_train.shape :  (120,)\n",
      "x_test.shape :  (30, 4)\n",
      "y_test.shape :  (30,)\n"
     ]
    }
   ],
   "source": [
    "from sklearn.model_selection import train_test_split\n",
    "\n",
    "# supply 'y1' (encoded labels)\n",
    "x_train,x_test, y_train,y_test = train_test_split(x,y1,test_size=0.2,random_state=0) \n",
    "\n",
    "print (\"x_train.shape : \", x_train.shape)\n",
    "print (\"y_train.shape : \", y_train.shape)\n",
    "print (\"x_test.shape : \", x_test.shape)\n",
    "print (\"y_test.shape : \", y_test.shape)"
   ]
  },
  {
   "cell_type": "markdown",
   "metadata": {},
   "source": [
    "## Step 4 : Build the Model\n",
    "Since this is a classifier, here is how we are going to build the neural network\n",
    "- Neurons in Input layer  = input dimensions (4 here)\n",
    "- Neurons in hidden layer = ???\n",
    "- Neurons in Output layer = output classes (3 here)\n",
    "- Output activation is 'softmax'\n",
    "\n",
    "### TODO : Sketch the neural net\n",
    "- What is the input dimensions\n",
    "- how many neurons in layers\n",
    "- how many output neurons\n",
    "\n",
    "<img src=\"../assets/images/neural-net-unknown.png\" style=\"width:40%\"/>"
   ]
  },
  {
   "cell_type": "code",
   "execution_count": 7,
   "metadata": {},
   "outputs": [
    {
     "name": "stdout",
     "output_type": "stream",
     "text": [
      "input_dim :  4 , output classes :  3\n",
      "Model: \"sequential\"\n",
      "_________________________________________________________________\n",
      "Layer (type)                 Output Shape              Param #   \n",
      "=================================================================\n",
      "dense (Dense)                (None, 64)                320       \n",
      "_________________________________________________________________\n",
      "dense_1 (Dense)              (None, 32)                2080      \n",
      "_________________________________________________________________\n",
      "dense_2 (Dense)              (None, 3)                 99        \n",
      "=================================================================\n",
      "Total params: 2,499\n",
      "Trainable params: 2,499\n",
      "Non-trainable params: 0\n",
      "_________________________________________________________________\n",
      "None\n"
     ]
    },
    {
     "data": {
      "image/png": "[encoded data removed]",
      "text/plain": [
       "<IPython.core.display.Image object>"
      ]
     },
     "execution_count": 7,
     "metadata": {},
     "output_type": "execute_result"
    }
   ],
   "source": [
    "input_dim = len(input_columns)\n",
    "output_clases = 3 \n",
    "print (\"input_dim : \", input_dim, \", output classes : \", output_clases)\n",
    "\n",
    "model = tf.keras.Sequential([\n",
    "            tf.keras.layers.Dense(units=64, activation=tf.nn.relu, input_dim=input_dim),\n",
    "            tf.keras.layers.Dense(units=32, activation=tf.nn.relu),\n",
    "            tf.keras.layers.Dense(units=output_clases,  activation=tf.nn.softmax)\n",
    "            ])\n",
    "\n",
    "# loss = 'sparse_categorical_crossentropy'  or 'categorical_crossentropy'\n",
    "model.compile(loss='sparse_categorical_crossentropy', \n",
    "                 optimizer=tf.keras.optimizers.Adam(), # or 'adam', \n",
    "                 metrics=['accuracy'])\n",
    "\n",
    "print (model.summary())\n",
    "\n",
    "tf.keras.utils.plot_model(model, to_file='model.png', show_shapes=True)"
   ]
  },
  {
   "cell_type": "markdown",
   "metadata": {},
   "source": [
    "## Step 5 : Tensorboard"
   ]
  },
  {
   "cell_type": "code",
   "execution_count": 8,
   "metadata": {},
   "outputs": [
    {
     "name": "stdout",
     "output_type": "stream",
     "text": [
      "Saving TB logs to :  /tmp/tensorboard-logs/classification-iris/20-33-53\n"
     ]
    },
    {
     "data": {
      "text/html": [
       "\n",
       "      <iframe id=\"tensorboard-frame-e01604cf7a51626b\" width=\"100%\" height=\"800\" frameborder=\"0\">\n",
       "      </iframe>\n",
       "      <script>\n",
       "        (function() {\n",
       "          const frame = document.getElementById(\"tensorboard-frame-e01604cf7a51626b\");\n",
       "          const url = new URL(\"/\", window.location);\n",
       "          url.port = 6013;\n",
       "          frame.src = url;\n",
       "        })();\n",
       "      </script>\n",
       "  "
      ],
      "text/plain": [
       "<IPython.core.display.HTML object>"
      ]
     },
     "metadata": {},
     "output_type": "display_data"
    }
   ],
   "source": [
    "## This is fairly boiler plate code\n",
    "\n",
    "import datetime\n",
    "import os\n",
    "import shutil\n",
    "\n",
    "app_name = 'classification-iris'\n",
    "\n",
    "\n",
    "# timestamp  = datetime.datetime.now().strftime(\"%Y-%m-%d--%H-%M-%S\")\n",
    "\n",
    "tb_top_level_dir= '/tmp/tensorboard-logs'\n",
    "\n",
    "tb_app_dir = os.path.join (tb_top_level_dir, app_name)\n",
    "\n",
    "tb_logs_dir = os.path.join (tb_app_dir, datetime.datetime.now().strftime(\"%H-%M-%S\"))\n",
    "\n",
    "\n",
    "print (\"Saving TB logs to : \" , tb_logs_dir)\n",
    "\n",
    "#clear out old logs\n",
    "shutil.rmtree ( tb_app_dir, ignore_errors=True )\n",
    "\n",
    "tensorboard_callback = tf.keras.callbacks.TensorBoard(log_dir=tb_logs_dir, histogram_freq=1)\n",
    "\n",
    "## This will embed Tensorboard right here in jupyter!\n",
    "%load_ext tensorboard\n",
    "%tensorboard --logdir $tb_logs_dir"
   ]
  },
  {
   "cell_type": "markdown",
   "metadata": {},
   "source": [
    "## Step 6 : Train"
   ]
  },
  {
   "cell_type": "code",
   "execution_count": 9,
   "metadata": {},
   "outputs": [
    {
     "name": "stdout",
     "output_type": "stream",
     "text": [
      "training starting ...\n",
      "Epoch 1/100\n",
      "3/3 [==============================] - 0s 118ms/step - loss: 1.1706 - accuracy: 0.3438 - val_loss: 1.1193 - val_accuracy: 0.2500\n",
      "Epoch 2/100\n",
      "3/3 [==============================] - 0s 27ms/step - loss: 1.0307 - accuracy: 0.5625 - val_loss: 1.0379 - val_accuracy: 0.5417\n",
      "Epoch 3/100\n",
      "3/3 [==============================] - 0s 30ms/step - loss: 0.9408 - accuracy: 0.7188 - val_loss: 1.0014 - val_accuracy: 0.5417\n",
      "Epoch 4/100\n",
      "3/3 [==============================] - 0s 32ms/step - loss: 0.8940 - accuracy: 0.7188 - val_loss: 0.9826 - val_accuracy: 0.5417\n",
      "Epoch 5/100\n",
      "3/3 [==============================] - 0s 32ms/step - loss: 0.8512 - accuracy: 0.7188 - val_loss: 0.9384 - val_accuracy: 0.5417\n",
      "Epoch 6/100\n",
      "3/3 [==============================] - 0s 30ms/step - loss: 0.8072 - accuracy: 0.7292 - val_loss: 0.8768 - val_accuracy: 0.5417\n",
      "Epoch 7/100\n",
      "3/3 [==============================] - 0s 34ms/step - loss: 0.7694 - accuracy: 0.7292 - val_loss: 0.8118 - val_accuracy: 0.5417\n",
      "Epoch 8/100\n",
      "3/3 [==============================] - 0s 34ms/step - loss: 0.7282 - accuracy: 0.7396 - val_loss: 0.7788 - val_accuracy: 0.5833\n",
      "Epoch 9/100\n",
      "3/3 [==============================] - 0s 28ms/step - loss: 0.6938 - accuracy: 0.7396 - val_loss: 0.7560 - val_accuracy: 0.5833\n",
      "Epoch 10/100\n",
      "3/3 [==============================] - 0s 30ms/step - loss: 0.6637 - accuracy: 0.7396 - val_loss: 0.7387 - val_accuracy: 0.5833\n",
      "Epoch 11/100\n",
      "3/3 [==============================] - 0s 24ms/step - loss: 0.6368 - accuracy: 0.7396 - val_loss: 0.7358 - val_accuracy: 0.5417\n",
      "Epoch 12/100\n",
      "3/3 [==============================] - 0s 26ms/step - loss: 0.6183 - accuracy: 0.7292 - val_loss: 0.7342 - val_accuracy: 0.5417\n",
      "Epoch 13/100\n",
      "3/3 [==============================] - 0s 29ms/step - loss: 0.5942 - accuracy: 0.7292 - val_loss: 0.7084 - val_accuracy: 0.5417\n",
      "Epoch 14/100\n",
      "3/3 [==============================] - 0s 24ms/step - loss: 0.5716 - accuracy: 0.7292 - val_loss: 0.6777 - val_accuracy: 0.5417\n",
      "Epoch 15/100\n",
      "3/3 [==============================] - 0s 28ms/step - loss: 0.5534 - accuracy: 0.7396 - val_loss: 0.6320 - val_accuracy: 0.6667\n",
      "Epoch 16/100\n",
      "3/3 [==============================] - 0s 29ms/step - loss: 0.5326 - accuracy: 0.8333 - val_loss: 0.6076 - val_accuracy: 0.7500\n",
      "Epoch 17/100\n",
      "3/3 [==============================] - 0s 36ms/step - loss: 0.5205 - accuracy: 0.8438 - val_loss: 0.5871 - val_accuracy: 0.7917\n",
      "Epoch 18/100\n",
      "3/3 [==============================] - 0s 30ms/step - loss: 0.5023 - accuracy: 0.8438 - val_loss: 0.5915 - val_accuracy: 0.6667\n",
      "Epoch 19/100\n",
      "3/3 [==============================] - 0s 42ms/step - loss: 0.4859 - accuracy: 0.7812 - val_loss: 0.5927 - val_accuracy: 0.6250\n",
      "Epoch 20/100\n",
      "3/3 [==============================] - 0s 34ms/step - loss: 0.4729 - accuracy: 0.7396 - val_loss: 0.5827 - val_accuracy: 0.6250\n",
      "Epoch 21/100\n",
      "3/3 [==============================] - 0s 25ms/step - loss: 0.4605 - accuracy: 0.7604 - val_loss: 0.5619 - val_accuracy: 0.6667\n",
      "Epoch 22/100\n",
      "3/3 [==============================] - 0s 31ms/step - loss: 0.4478 - accuracy: 0.8229 - val_loss: 0.5450 - val_accuracy: 0.7500\n",
      "Epoch 23/100\n",
      "3/3 [==============================] - 0s 30ms/step - loss: 0.4397 - accuracy: 0.8438 - val_loss: 0.5148 - val_accuracy: 0.8333\n",
      "Epoch 24/100\n",
      "3/3 [==============================] - 0s 33ms/step - loss: 0.4267 - accuracy: 0.8438 - val_loss: 0.5095 - val_accuracy: 0.7917\n",
      "Epoch 25/100\n",
      "3/3 [==============================] - 0s 27ms/step - loss: 0.4144 - accuracy: 0.8542 - val_loss: 0.4968 - val_accuracy: 0.8333\n",
      "Epoch 26/100\n",
      "3/3 [==============================] - 0s 30ms/step - loss: 0.4038 - accuracy: 0.8542 - val_loss: 0.4844 - val_accuracy: 0.8333\n",
      "Epoch 27/100\n",
      "3/3 [==============================] - 0s 24ms/step - loss: 0.3950 - accuracy: 0.8542 - val_loss: 0.4833 - val_accuracy: 0.7917\n",
      "Epoch 28/100\n",
      "3/3 [==============================] - 0s 27ms/step - loss: 0.3847 - accuracy: 0.8646 - val_loss: 0.4630 - val_accuracy: 0.8333\n",
      "Epoch 29/100\n",
      "3/3 [==============================] - 0s 22ms/step - loss: 0.3737 - accuracy: 0.8646 - val_loss: 0.4500 - val_accuracy: 0.8750\n",
      "Epoch 30/100\n",
      "3/3 [==============================] - 0s 26ms/step - loss: 0.3649 - accuracy: 0.8958 - val_loss: 0.4353 - val_accuracy: 0.8750\n",
      "Epoch 31/100\n",
      "3/3 [==============================] - 0s 30ms/step - loss: 0.3561 - accuracy: 0.9062 - val_loss: 0.4309 - val_accuracy: 0.8750\n",
      "Epoch 32/100\n",
      "3/3 [==============================] - 0s 53ms/step - loss: 0.3474 - accuracy: 0.9062 - val_loss: 0.4176 - val_accuracy: 0.8750\n",
      "Epoch 33/100\n",
      "3/3 [==============================] - 0s 41ms/step - loss: 0.3418 - accuracy: 0.9062 - val_loss: 0.4191 - val_accuracy: 0.8750\n",
      "Epoch 34/100\n",
      "3/3 [==============================] - 0s 36ms/step - loss: 0.3323 - accuracy: 0.8958 - val_loss: 0.3962 - val_accuracy: 0.8750\n",
      "Epoch 35/100\n",
      "3/3 [==============================] - 0s 31ms/step - loss: 0.3236 - accuracy: 0.9375 - val_loss: 0.3819 - val_accuracy: 0.8750\n",
      "Epoch 36/100\n",
      "3/3 [==============================] - 0s 34ms/step - loss: 0.3167 - accuracy: 0.9583 - val_loss: 0.3718 - val_accuracy: 0.8750\n",
      "Epoch 37/100\n",
      "3/3 [==============================] - 0s 25ms/step - loss: 0.3083 - accuracy: 0.9688 - val_loss: 0.3677 - val_accuracy: 0.8750\n",
      "Epoch 38/100\n",
      "3/3 [==============================] - 0s 35ms/step - loss: 0.3017 - accuracy: 0.9479 - val_loss: 0.3639 - val_accuracy: 0.8750\n",
      "Epoch 39/100\n",
      "3/3 [==============================] - 0s 28ms/step - loss: 0.2947 - accuracy: 0.9583 - val_loss: 0.3555 - val_accuracy: 0.8750\n",
      "Epoch 40/100\n",
      "3/3 [==============================] - 0s 32ms/step - loss: 0.2923 - accuracy: 0.9167 - val_loss: 0.3616 - val_accuracy: 0.8750\n",
      "Epoch 41/100\n",
      "3/3 [==============================] - 0s 31ms/step - loss: 0.2821 - accuracy: 0.9167 - val_loss: 0.3380 - val_accuracy: 0.8750\n",
      "Epoch 42/100\n",
      "3/3 [==============================] - 0s 28ms/step - loss: 0.2743 - accuracy: 0.9688 - val_loss: 0.3195 - val_accuracy: 0.9167\n",
      "Epoch 43/100\n",
      "3/3 [==============================] - 0s 45ms/step - loss: 0.2695 - accuracy: 0.9688 - val_loss: 0.3052 - val_accuracy: 0.9167\n",
      "Epoch 44/100\n",
      "3/3 [==============================] - 0s 28ms/step - loss: 0.2658 - accuracy: 0.9792 - val_loss: 0.2994 - val_accuracy: 0.9167\n",
      "Epoch 45/100\n",
      "3/3 [==============================] - 0s 24ms/step - loss: 0.2589 - accuracy: 0.9688 - val_loss: 0.3165 - val_accuracy: 0.8750\n",
      "Epoch 46/100\n",
      "3/3 [==============================] - 0s 21ms/step - loss: 0.2517 - accuracy: 0.9583 - val_loss: 0.3123 - val_accuracy: 0.8750\n",
      "Epoch 47/100\n",
      "3/3 [==============================] - 0s 26ms/step - loss: 0.2469 - accuracy: 0.9688 - val_loss: 0.2965 - val_accuracy: 0.8750\n",
      "Epoch 48/100\n",
      "3/3 [==============================] - 0s 30ms/step - loss: 0.2412 - accuracy: 0.9688 - val_loss: 0.2742 - val_accuracy: 0.9167\n",
      "Epoch 49/100\n",
      "3/3 [==============================] - 0s 34ms/step - loss: 0.2354 - accuracy: 0.9792 - val_loss: 0.2659 - val_accuracy: 0.9167\n",
      "Epoch 50/100\n",
      "3/3 [==============================] - 0s 34ms/step - loss: 0.2292 - accuracy: 0.9792 - val_loss: 0.2720 - val_accuracy: 0.9167\n",
      "Epoch 51/100\n",
      "3/3 [==============================] - 0s 24ms/step - loss: 0.2249 - accuracy: 0.9688 - val_loss: 0.2757 - val_accuracy: 0.8750\n",
      "Epoch 52/100\n",
      "3/3 [==============================] - 0s 31ms/step - loss: 0.2202 - accuracy: 0.9792 - val_loss: 0.2554 - val_accuracy: 0.9167\n",
      "Epoch 53/100\n",
      "3/3 [==============================] - 0s 30ms/step - loss: 0.2145 - accuracy: 0.9792 - val_loss: 0.2464 - val_accuracy: 0.9167\n",
      "Epoch 54/100\n",
      "3/3 [==============================] - 0s 30ms/step - loss: 0.2090 - accuracy: 0.9792 - val_loss: 0.2426 - val_accuracy: 0.9167\n",
      "Epoch 55/100\n",
      "3/3 [==============================] - 0s 24ms/step - loss: 0.2057 - accuracy: 0.9792 - val_loss: 0.2334 - val_accuracy: 0.9167\n",
      "Epoch 56/100\n",
      "3/3 [==============================] - 0s 26ms/step - loss: 0.2007 - accuracy: 0.9792 - val_loss: 0.2412 - val_accuracy: 0.9167\n",
      "Epoch 57/100\n",
      "3/3 [==============================] - 0s 27ms/step - loss: 0.1977 - accuracy: 0.9792 - val_loss: 0.2410 - val_accuracy: 0.9167\n",
      "Epoch 58/100\n",
      "3/3 [==============================] - 0s 24ms/step - loss: 0.1936 - accuracy: 0.9792 - val_loss: 0.2179 - val_accuracy: 0.9167\n",
      "Epoch 59/100\n",
      "3/3 [==============================] - 0s 35ms/step - loss: 0.1880 - accuracy: 0.9792 - val_loss: 0.2136 - val_accuracy: 0.9167\n",
      "Epoch 60/100\n",
      "3/3 [==============================] - 0s 23ms/step - loss: 0.1833 - accuracy: 0.9792 - val_loss: 0.2121 - val_accuracy: 0.9167\n",
      "Epoch 61/100\n",
      "3/3 [==============================] - 0s 35ms/step - loss: 0.1791 - accuracy: 0.9792 - val_loss: 0.2126 - val_accuracy: 0.9167\n",
      "Epoch 62/100\n",
      "3/3 [==============================] - 0s 33ms/step - loss: 0.1758 - accuracy: 0.9792 - val_loss: 0.2164 - val_accuracy: 0.9167\n",
      "Epoch 63/100\n",
      "3/3 [==============================] - 0s 48ms/step - loss: 0.1728 - accuracy: 0.9792 - val_loss: 0.2084 - val_accuracy: 0.9167\n",
      "Epoch 64/100\n",
      "3/3 [==============================] - 0s 24ms/step - loss: 0.1686 - accuracy: 0.9792 - val_loss: 0.1918 - val_accuracy: 0.9167\n",
      "Epoch 65/100\n",
      "3/3 [==============================] - 0s 32ms/step - loss: 0.1655 - accuracy: 0.9792 - val_loss: 0.1926 - val_accuracy: 0.9167\n",
      "Epoch 66/100\n",
      "3/3 [==============================] - 0s 29ms/step - loss: 0.1618 - accuracy: 0.9792 - val_loss: 0.1928 - val_accuracy: 0.9167\n",
      "Epoch 67/100\n",
      "3/3 [==============================] - 0s 37ms/step - loss: 0.1582 - accuracy: 0.9792 - val_loss: 0.1861 - val_accuracy: 0.9167\n",
      "Epoch 68/100\n",
      "3/3 [==============================] - 0s 24ms/step - loss: 0.1552 - accuracy: 0.9792 - val_loss: 0.1828 - val_accuracy: 0.9167\n",
      "Epoch 69/100\n",
      "3/3 [==============================] - 0s 34ms/step - loss: 0.1540 - accuracy: 0.9792 - val_loss: 0.1757 - val_accuracy: 0.9167\n",
      "Epoch 70/100\n",
      "3/3 [==============================] - 0s 33ms/step - loss: 0.1493 - accuracy: 0.9792 - val_loss: 0.1886 - val_accuracy: 0.9167\n",
      "Epoch 71/100\n",
      "3/3 [==============================] - 0s 19ms/step - loss: 0.1472 - accuracy: 0.9792 - val_loss: 0.1888 - val_accuracy: 0.9167\n",
      "Epoch 72/100\n",
      "3/3 [==============================] - 0s 31ms/step - loss: 0.1445 - accuracy: 0.9792 - val_loss: 0.1714 - val_accuracy: 0.9167\n",
      "Epoch 73/100\n",
      "3/3 [==============================] - 0s 30ms/step - loss: 0.1452 - accuracy: 0.9792 - val_loss: 0.1573 - val_accuracy: 0.9167\n",
      "Epoch 74/100\n",
      "3/3 [==============================] - 0s 18ms/step - loss: 0.1394 - accuracy: 0.9792 - val_loss: 0.1655 - val_accuracy: 0.9167\n",
      "Epoch 75/100\n",
      "3/3 [==============================] - 0s 33ms/step - loss: 0.1352 - accuracy: 0.9792 - val_loss: 0.1767 - val_accuracy: 0.9167\n",
      "Epoch 76/100\n",
      "3/3 [==============================] - 0s 35ms/step - loss: 0.1350 - accuracy: 0.9792 - val_loss: 0.1827 - val_accuracy: 0.9167\n",
      "Epoch 77/100\n",
      "3/3 [==============================] - 0s 26ms/step - loss: 0.1345 - accuracy: 0.9792 - val_loss: 0.1619 - val_accuracy: 0.9167\n",
      "Epoch 78/100\n",
      "3/3 [==============================] - 0s 27ms/step - loss: 0.1295 - accuracy: 0.9792 - val_loss: 0.1558 - val_accuracy: 0.9167\n",
      "Epoch 79/100\n",
      "3/3 [==============================] - 0s 29ms/step - loss: 0.1277 - accuracy: 0.9792 - val_loss: 0.1525 - val_accuracy: 0.9167\n",
      "Epoch 80/100\n",
      "3/3 [==============================] - 0s 21ms/step - loss: 0.1262 - accuracy: 0.9792 - val_loss: 0.1611 - val_accuracy: 0.9167\n",
      "Epoch 81/100\n",
      "3/3 [==============================] - 0s 45ms/step - loss: 0.1239 - accuracy: 0.9792 - val_loss: 0.1566 - val_accuracy: 0.9167\n",
      "Epoch 82/100\n",
      "3/3 [==============================] - 0s 37ms/step - loss: 0.1255 - accuracy: 0.9792 - val_loss: 0.1429 - val_accuracy: 0.9167\n",
      "Epoch 83/100\n",
      "3/3 [==============================] - 0s 32ms/step - loss: 0.1201 - accuracy: 0.9792 - val_loss: 0.1566 - val_accuracy: 0.9167\n",
      "Epoch 84/100\n",
      "3/3 [==============================] - 0s 32ms/step - loss: 0.1185 - accuracy: 0.9792 - val_loss: 0.1621 - val_accuracy: 0.9167\n",
      "Epoch 85/100\n",
      "3/3 [==============================] - 0s 28ms/step - loss: 0.1185 - accuracy: 0.9792 - val_loss: 0.1467 - val_accuracy: 0.9167\n",
      "Epoch 86/100\n",
      "3/3 [==============================] - 0s 30ms/step - loss: 0.1156 - accuracy: 0.9792 - val_loss: 0.1475 - val_accuracy: 0.9167\n",
      "Epoch 87/100\n",
      "3/3 [==============================] - 0s 35ms/step - loss: 0.1141 - accuracy: 0.9792 - val_loss: 0.1448 - val_accuracy: 0.9167\n",
      "Epoch 88/100\n",
      "3/3 [==============================] - 0s 52ms/step - loss: 0.1135 - accuracy: 0.9792 - val_loss: 0.1451 - val_accuracy: 0.9167\n",
      "Epoch 89/100\n",
      "3/3 [==============================] - 0s 42ms/step - loss: 0.1113 - accuracy: 0.9792 - val_loss: 0.1339 - val_accuracy: 0.9167\n",
      "Epoch 90/100\n",
      "3/3 [==============================] - 0s 32ms/step - loss: 0.1104 - accuracy: 0.9792 - val_loss: 0.1330 - val_accuracy: 0.9167\n",
      "Epoch 91/100\n",
      "3/3 [==============================] - 0s 23ms/step - loss: 0.1091 - accuracy: 0.9792 - val_loss: 0.1411 - val_accuracy: 0.9167\n",
      "Epoch 92/100\n",
      "3/3 [==============================] - 0s 30ms/step - loss: 0.1085 - accuracy: 0.9792 - val_loss: 0.1546 - val_accuracy: 0.9167\n",
      "Epoch 93/100\n",
      "3/3 [==============================] - 0s 34ms/step - loss: 0.1071 - accuracy: 0.9792 - val_loss: 0.1374 - val_accuracy: 0.9167\n",
      "Epoch 94/100\n",
      "3/3 [==============================] - 0s 31ms/step - loss: 0.1049 - accuracy: 0.9792 - val_loss: 0.1288 - val_accuracy: 0.9167\n",
      "Epoch 95/100\n",
      "3/3 [==============================] - 0s 29ms/step - loss: 0.1055 - accuracy: 0.9792 - val_loss: 0.1403 - val_accuracy: 0.9167\n",
      "Epoch 96/100\n",
      "3/3 [==============================] - 0s 25ms/step - loss: 0.1030 - accuracy: 0.9792 - val_loss: 0.1299 - val_accuracy: 0.9167\n",
      "Epoch 97/100\n",
      "3/3 [==============================] - 0s 29ms/step - loss: 0.1024 - accuracy: 0.9792 - val_loss: 0.1361 - val_accuracy: 0.9167\n",
      "Epoch 98/100\n",
      "3/3 [==============================] - 0s 28ms/step - loss: 0.1005 - accuracy: 0.9792 - val_loss: 0.1315 - val_accuracy: 0.9167\n",
      "Epoch 99/100\n",
      "3/3 [==============================] - 0s 33ms/step - loss: 0.0996 - accuracy: 0.9792 - val_loss: 0.1296 - val_accuracy: 0.9167\n",
      "Epoch 100/100\n",
      "3/3 [==============================] - 0s 29ms/step - loss: 0.0984 - accuracy: 0.9792 - val_loss: 0.1320 - val_accuracy: 0.9167\n",
      "training done.\n",
      "CPU times: user 1min 10s, sys: 1min 40s, total: 2min 50s\n",
      "Wall time: 11.9 s\n"
     ]
    }
   ],
   "source": [
    "%%time\n",
    "\n",
    "## TODO configure some of these\n",
    "epochs = 100  ## experiment 100, 500, 1000\n",
    "\n",
    "print (\"training starting ...\")\n",
    "history = model.fit(\n",
    "              x_train, y_train,\n",
    "              epochs=epochs, validation_split = 0.2, verbose=1,\n",
    "              callbacks=[tensorboard_callback])\n",
    "\n",
    "print (\"training done.\")"
   ]
  },
  {
   "cell_type": "markdown",
   "metadata": {},
   "source": [
    "## Step 7 : Plot History"
   ]
  },
  {
   "cell_type": "code",
   "execution_count": 10,
   "metadata": {},
   "outputs": [
    {
     "data": {
      "image/png": "[encoded data removed]",
      "text/plain": [
       "<Figure size 432x288 with 1 Axes>"
      ]
     },
     "metadata": {
      "needs_background": "light"
     },
     "output_type": "display_data"
    }
   ],
   "source": [
    "%matplotlib inline\n",
    "import matplotlib.pyplot as plt\n",
    "\n",
    "plt.plot(history.history['accuracy'], label='train_accuracy')\n",
    "plt.plot(history.history['val_accuracy'], label='val_accuracy')\n",
    "plt.legend()\n",
    "plt.show()"
   ]
  },
  {
   "cell_type": "markdown",
   "metadata": {},
   "source": [
    "## Step 8 : Predict"
   ]
  },
  {
   "cell_type": "code",
   "execution_count": 11,
   "metadata": {},
   "outputs": [
    {
     "data": {
      "text/plain": [
       "array([[ 0.000,  0.007,  0.993],\n",
       "       [ 0.006,  0.971,  0.023],\n",
       "       [ 0.999,  0.001,  0.000],\n",
       "       [ 0.000,  0.023,  0.977],\n",
       "       [ 0.995,  0.005,  0.000],\n",
       "       [ 0.000,  0.003,  0.997],\n",
       "       [ 0.997,  0.003,  0.000],\n",
       "       [ 0.004,  0.948,  0.048],\n",
       "       [ 0.003,  0.926,  0.071],\n",
       "       [ 0.007,  0.979,  0.014],\n",
       "       [ 0.000,  0.034,  0.965],\n",
       "       [ 0.005,  0.956,  0.039],\n",
       "       [ 0.005,  0.855,  0.140],\n",
       "       [ 0.004,  0.890,  0.106],\n",
       "       [ 0.005,  0.763,  0.232],\n",
       "       [ 0.993,  0.007,  0.000],\n",
       "       [ 0.006,  0.786,  0.208],\n",
       "       [ 0.007,  0.703,  0.290],\n",
       "       [ 0.989,  0.011,  0.000],\n",
       "       [ 0.999,  0.001,  0.000],\n",
       "       [ 0.000,  0.021,  0.979],\n",
       "       [ 0.007,  0.595,  0.399],\n",
       "       [ 0.988,  0.012,  0.000],\n",
       "       [ 0.988,  0.012,  0.000],\n",
       "       [ 0.002,  0.292,  0.706],\n",
       "       [ 0.999,  0.001,  0.000],\n",
       "       [ 0.993,  0.007,  0.000],\n",
       "       [ 0.005,  0.969,  0.026],\n",
       "       [ 0.022,  0.957,  0.021],\n",
       "       [ 0.991,  0.009,  0.000]], dtype=float32)"
      ]
     },
     "execution_count": 11,
     "metadata": {},
     "output_type": "execute_result"
    }
   ],
   "source": [
    "np.set_printoptions(formatter={'float': '{: 0.3f}'.format})\n",
    "\n",
    "predictions = model.predict(x_test)\n",
    "predictions"
   ]
  },
  {
   "cell_type": "markdown",
   "metadata": {},
   "source": [
    "### Understanding Predictions\n",
    "In the above output, for each test input, the softmax layer, produces 3 numbers.  \n",
    "These numbers are probabilities.  If you add them up, you will get 1.0  \n",
    "We want to choose the output that has the highest probability.  \n",
    "\n",
    "For example `(0.03086184, 0.33362046, 0.6355177)` means  \n",
    "- class 1 has prob of 0.03  or 3%\n",
    "- class 2 has prob of 0.33  or 33%\n",
    "- class 3 has prob of 0.63  or 63%\n",
    "\n",
    "So we choose the class with highest probability as prediction : class 3\n",
    "\n",
    "\n",
    "We can get class predictions directly as follows"
   ]
  },
  {
   "cell_type": "code",
   "execution_count": 12,
   "metadata": {},
   "outputs": [
    {
     "name": "stdout",
     "output_type": "stream",
     "text": [
      "prediction classes:  [2 1 0 2 0 2 0 1 1 1 2 1 1 1 1 0 1 1 0 0 2 1 0 0 2 0 0 1 1 0]\n"
     ]
    }
   ],
   "source": [
    "y_pred = np.argmax(predictions, axis=-1)\n",
    "print ('prediction classes: ', y_pred)"
   ]
  },
  {
   "cell_type": "markdown",
   "metadata": {},
   "source": [
    "## Step 9 : Evaluate the model\n",
    "\n",
    "### 9.1 - Print out metrics"
   ]
  },
  {
   "cell_type": "code",
   "execution_count": 13,
   "metadata": {},
   "outputs": [
    {
     "name": "stdout",
     "output_type": "stream",
     "text": [
      "model metrics :  ['loss', 'accuracy']\n",
      "Metric : loss = 0.08\n",
      "Metric : accuracy = 1.00\n"
     ]
    }
   ],
   "source": [
    "metric_names = model.metrics_names\n",
    "print (\"model metrics : \" , metric_names)\n",
    "\n",
    "metrics = model.evaluate(x_test, y_test, verbose=0)\n",
    "\n",
    "for idx, metric in enumerate(metric_names):\n",
    "    print (\"Metric : {} = {:,.2f}\".format (metric_names[idx], metrics[idx]))"
   ]
  },
  {
   "cell_type": "markdown",
   "metadata": {},
   "source": [
    "### 9.2 - Confussion Matrix\n",
    "Since this is a classification problem, confusion matrix is very effective way to evaluate our model"
   ]
  },
  {
   "cell_type": "code",
   "execution_count": 14,
   "metadata": {},
   "outputs": [
    {
     "data": {
      "text/plain": [
       "array([[11,  0,  0],\n",
       "       [ 0, 13,  0],\n",
       "       [ 0,  0,  6]])"
      ]
     },
     "execution_count": 14,
     "metadata": {},
     "output_type": "execute_result"
    }
   ],
   "source": [
    "## plain confusion matrix \n",
    "\n",
    "from sklearn.metrics import confusion_matrix\n",
    "import seaborn as sns\n",
    "\n",
    "cm = confusion_matrix(y_test, y_pred, labels = [0,1,2])\n",
    "cm\n"
   ]
  },
  {
   "cell_type": "code",
   "execution_count": 15,
   "metadata": {},
   "outputs": [
    {
     "data": {
      "text/plain": [
       "[]"
      ]
     },
     "execution_count": 15,
     "metadata": {},
     "output_type": "execute_result"
    },
    {
     "data": {
      "image/png": "[encoded data removed]",
      "text/plain": [
       "<Figure size 576x360 with 2 Axes>"
      ]
     },
     "metadata": {
      "needs_background": "light"
     },
     "output_type": "display_data"
    }
   ],
   "source": [
    "import matplotlib.pyplot as plt\n",
    "import seaborn as sns\n",
    "\n",
    "plt.figure(figsize = (8,5))\n",
    "\n",
    "# colormaps : cmap=\"YlGnBu\" , cmap=\"Greens\", cmap=\"Blues\",  cmap=\"Reds\"\n",
    "sns.heatmap(cm, annot=True, cmap=\"Reds\", fmt='d').plot()"
   ]
  },
  {
   "cell_type": "markdown",
   "metadata": {},
   "source": [
    "### 9.3 - Metrics calculated from Confusion Matrix"
   ]
  },
  {
   "cell_type": "code",
   "execution_count": 16,
   "metadata": {},
   "outputs": [
    {
     "name": "stdout",
     "output_type": "stream",
     "text": [
      "{'0': {'f1-score': 1.0, 'precision': 1.0, 'recall': 1.0, 'support': 11},\n",
      " '1': {'f1-score': 1.0, 'precision': 1.0, 'recall': 1.0, 'support': 13},\n",
      " '2': {'f1-score': 1.0, 'precision': 1.0, 'recall': 1.0, 'support': 6},\n",
      " 'accuracy': 1.0,\n",
      " 'macro avg': {'f1-score': 1.0, 'precision': 1.0, 'recall': 1.0, 'support': 30},\n",
      " 'weighted avg': {'f1-score': 1.0,\n",
      "                  'precision': 1.0,\n",
      "                  'recall': 1.0,\n",
      "                  'support': 30}}\n"
     ]
    }
   ],
   "source": [
    "from sklearn.metrics import classification_report\n",
    "from pprint import pprint\n",
    "\n",
    "pprint(classification_report(y_test, y_pred, output_dict=True))"
   ]
  },
  {
   "cell_type": "markdown",
   "metadata": {},
   "source": [
    "### TODO : Intepret confusion matrix\n",
    "Instructor will walk you through the matrix.  \n",
    "Answer these questions\n",
    "- which class is classified correctly mostly\n",
    "- which class is classified incorrectly?"
   ]
  },
  {
   "cell_type": "markdown",
   "metadata": {},
   "source": [
    "## Step 10 : Improve the Model\n",
    "\n",
    "Inspect the following\n",
    "- What is the metric 'accuracy' in step 9.1\n",
    "- And verify this with tensorboard (port 6066)\n",
    "\n",
    "Most likely, we didn't get a great accuracy.  \n",
    "How can we improve it?\n",
    "\n",
    "**Try the following ideas** \n",
    "\n",
    "- **Idea-1 : Increase neurons in hidden layer**  \n",
    "  - In Step-4, increase hidden layer neurons from 8 --> 64  \n",
    "  - Click 'Kernel --> Restart and Run all Cells'  \n",
    "  - Hopefully you should see improvement in the accuracy.  \n",
    "  - Check  accuracy metrics / confusion matrix / tensorboard"
   ]
  },
  {
   "cell_type": "markdown",
   "metadata": {},
   "source": [
    "## Step 11 : Create a compact version of this notebook\n",
    "Start another notebook and implement this notebook in the most compact way!"
   ]
  },
  {
   "cell_type": "code",
   "execution_count": null,
   "metadata": {},
   "outputs": [],
   "source": []
  }
 ],
 "metadata": {
  "kernelspec": {
   "display_name": "Python 3",
   "language": "python",
   "name": "python3"
  },
  "language_info": {
   "codemirror_mode": {
    "name": "ipython",
    "version": 3
   },
   "file_extension": ".py",
   "mimetype": "text/x-python",
   "name": "python",
   "nbconvert_exporter": "python",
   "pygments_lexer": "ipython3",
   "version": "3.7.7"
  }
 },
 "nbformat": 4,
 "nbformat_minor": 4
}
