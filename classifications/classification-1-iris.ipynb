{
 "cells": [
  {
   "cell_type": "markdown",
   "metadata": {},
   "source": [
    "## Deep Neural Network (DNN) Classifier - Iris\n",
    "We will build a relataively simple neuran net to classify IRIS dataset "
   ]
  },
  {
   "cell_type": "markdown",
   "metadata": {},
   "source": [
    "## Step 1 - About IRIS Dataset\n",
    "\n",
    "Imagine you are a botanist seeking an automated way to categorize each Iris flower you find. Machine learning provides many algorithms to statistically classify flowers. For instance, a sophisticated machine learning program could classify flowers based on photographs. Our ambitions are more modest—we're going to classify Iris flowers based on the length and width measurements of their [sepals](https://en.wikipedia.org/wiki/Sepal) and [petals](https://en.wikipedia.org/wiki/Petal).\n",
    "\n",
    "The Iris genus entails about 300 species, but our program will only classify the following three:\n",
    "\n",
    "* Iris setosa\n",
    "* Iris virginica\n",
    "* Iris versicolor\n",
    "\n",
    "<table>\n",
    "  <tr><td>\n",
    "    <img src=\"https://www.tensorflow.org/images/iris_three_species.jpg\"\n",
    "         alt=\"Petal geometry compared for three iris species: Iris setosa, Iris virginica, and Iris versicolor\">\n",
    "  </td></tr>\n",
    "  <tr><td align=\"center\">\n",
    "    <b>Figure 1.</b> <a href=\"https://commons.wikimedia.org/w/index.php?curid=170298\">Iris setosa</a> (by <a href=\"https://commons.wikimedia.org/wiki/User:Radomil\">Radomil</a>, CC BY-SA 3.0), <a href=\"https://commons.wikimedia.org/w/index.php?curid=248095\">Iris versicolor</a>, (by <a href=\"https://commons.wikimedia.org/wiki/User:Dlanglois\">Dlanglois</a>, CC BY-SA 3.0), and <a href=\"https://www.flickr.com/photos/33397993@N05/3352169862\">Iris virginica</a> (by <a href=\"https://www.flickr.com/photos/33397993@N05\">Frank Mayfield</a>, CC BY-SA 2.0).<br/>&nbsp;\n",
    "  </td></tr>\n",
    "</table>\n",
    "\n",
    "Fortunately, someone has already created a [data set of 120 Iris flowers](https://en.wikipedia.org/wiki/Iris_flower_data_set) with the sepal and p"
   ]
  },
  {
   "cell_type": "code",
   "execution_count": 2,
   "metadata": {},
   "outputs": [
    {
     "name": "stdout",
     "output_type": "stream",
     "text": [
      "Running in Google COLAB :  False\n"
     ]
    }
   ],
   "source": [
    "## Determine if we are running on google colab\n",
    "\n",
    "try:\n",
    "    import google.colab\n",
    "    RUNNING_IN_COLAB = True\n",
    "except:\n",
    "    RUNNING_IN_COLAB = False\n",
    "\n",
    "print (\"Running in Google COLAB : \", RUNNING_IN_COLAB)\n"
   ]
  },
  {
   "cell_type": "code",
   "execution_count": 3,
   "metadata": {},
   "outputs": [],
   "source": [
    "%matplotlib inline\n",
    "import numpy as np\n",
    "import pandas as pd\n",
    "import matplotlib.pyplot as plt\n",
    "\n",
    "try:\n",
    "  # %tensorflow_version only exists in Colab.\n",
    "  %tensorflow_version 2.x\n",
    "except Exception:\n",
    "  pass\n",
    "\n",
    "import tensorflow as tf\n",
    "from tensorflow import keras"
   ]
  },
  {
   "cell_type": "markdown",
   "metadata": {},
   "source": [
    "## Step 2 : Read Data"
   ]
  },
  {
   "cell_type": "code",
   "execution_count": 4,
   "metadata": {},
   "outputs": [
    {
     "data": {
      "text/html": [
       "<div>\n",
       "<style scoped>\n",
       "    .dataframe tbody tr th:only-of-type {\n",
       "        vertical-align: middle;\n",
       "    }\n",
       "\n",
       "    .dataframe tbody tr th {\n",
       "        vertical-align: top;\n",
       "    }\n",
       "\n",
       "    .dataframe thead th {\n",
       "        text-align: right;\n",
       "    }\n",
       "</style>\n",
       "<table border=\"1\" class=\"dataframe\">\n",
       "  <thead>\n",
       "    <tr style=\"text-align: right;\">\n",
       "      <th></th>\n",
       "      <th>SepalLengthCm</th>\n",
       "      <th>SepalWidthCm</th>\n",
       "      <th>PetalLengthCm</th>\n",
       "      <th>PetalWidthCm</th>\n",
       "      <th>Species</th>\n",
       "    </tr>\n",
       "  </thead>\n",
       "  <tbody>\n",
       "    <tr>\n",
       "      <th>0</th>\n",
       "      <td>5.1</td>\n",
       "      <td>3.5</td>\n",
       "      <td>1.4</td>\n",
       "      <td>0.2</td>\n",
       "      <td>Iris-setosa</td>\n",
       "    </tr>\n",
       "    <tr>\n",
       "      <th>1</th>\n",
       "      <td>4.9</td>\n",
       "      <td>3.0</td>\n",
       "      <td>1.4</td>\n",
       "      <td>0.2</td>\n",
       "      <td>Iris-setosa</td>\n",
       "    </tr>\n",
       "    <tr>\n",
       "      <th>2</th>\n",
       "      <td>4.7</td>\n",
       "      <td>3.2</td>\n",
       "      <td>1.3</td>\n",
       "      <td>0.2</td>\n",
       "      <td>Iris-setosa</td>\n",
       "    </tr>\n",
       "    <tr>\n",
       "      <th>3</th>\n",
       "      <td>4.6</td>\n",
       "      <td>3.1</td>\n",
       "      <td>1.5</td>\n",
       "      <td>0.2</td>\n",
       "      <td>Iris-setosa</td>\n",
       "    </tr>\n",
       "    <tr>\n",
       "      <th>4</th>\n",
       "      <td>5.0</td>\n",
       "      <td>3.6</td>\n",
       "      <td>1.4</td>\n",
       "      <td>0.2</td>\n",
       "      <td>Iris-setosa</td>\n",
       "    </tr>\n",
       "    <tr>\n",
       "      <th>...</th>\n",
       "      <td>...</td>\n",
       "      <td>...</td>\n",
       "      <td>...</td>\n",
       "      <td>...</td>\n",
       "      <td>...</td>\n",
       "    </tr>\n",
       "    <tr>\n",
       "      <th>145</th>\n",
       "      <td>6.7</td>\n",
       "      <td>3.0</td>\n",
       "      <td>5.2</td>\n",
       "      <td>2.3</td>\n",
       "      <td>Iris-virginica</td>\n",
       "    </tr>\n",
       "    <tr>\n",
       "      <th>146</th>\n",
       "      <td>6.3</td>\n",
       "      <td>2.5</td>\n",
       "      <td>5.0</td>\n",
       "      <td>1.9</td>\n",
       "      <td>Iris-virginica</td>\n",
       "    </tr>\n",
       "    <tr>\n",
       "      <th>147</th>\n",
       "      <td>6.5</td>\n",
       "      <td>3.0</td>\n",
       "      <td>5.2</td>\n",
       "      <td>2.0</td>\n",
       "      <td>Iris-virginica</td>\n",
       "    </tr>\n",
       "    <tr>\n",
       "      <th>148</th>\n",
       "      <td>6.2</td>\n",
       "      <td>3.4</td>\n",
       "      <td>5.4</td>\n",
       "      <td>2.3</td>\n",
       "      <td>Iris-virginica</td>\n",
       "    </tr>\n",
       "    <tr>\n",
       "      <th>149</th>\n",
       "      <td>5.9</td>\n",
       "      <td>3.0</td>\n",
       "      <td>5.1</td>\n",
       "      <td>1.8</td>\n",
       "      <td>Iris-virginica</td>\n",
       "    </tr>\n",
       "  </tbody>\n",
       "</table>\n",
       "<p>150 rows × 5 columns</p>\n",
       "</div>"
      ],
      "text/plain": [
       "     SepalLengthCm  SepalWidthCm  PetalLengthCm  PetalWidthCm         Species\n",
       "0              5.1           3.5            1.4           0.2     Iris-setosa\n",
       "1              4.9           3.0            1.4           0.2     Iris-setosa\n",
       "2              4.7           3.2            1.3           0.2     Iris-setosa\n",
       "3              4.6           3.1            1.5           0.2     Iris-setosa\n",
       "4              5.0           3.6            1.4           0.2     Iris-setosa\n",
       "..             ...           ...            ...           ...             ...\n",
       "145            6.7           3.0            5.2           2.3  Iris-virginica\n",
       "146            6.3           2.5            5.0           1.9  Iris-virginica\n",
       "147            6.5           3.0            5.2           2.0  Iris-virginica\n",
       "148            6.2           3.4            5.4           2.3  Iris-virginica\n",
       "149            5.9           3.0            5.1           1.8  Iris-virginica\n",
       "\n",
       "[150 rows x 5 columns]"
      ]
     },
     "execution_count": 4,
     "metadata": {},
     "output_type": "execute_result"
    }
   ],
   "source": [
    "data_location = '../data/iris/keras/iris.csv'\n",
    "\n",
    "if RUNNING_IN_COLAB:\n",
    "    data_location = \"https://s3.amazonaws.com/elephantscale-public/data/iris/keras/iris.csv\"\n",
    "\n",
    "iris = pd.read_csv(data_location)\n",
    "iris.columns = ['SepalLengthCm', 'SepalWidthCm', 'PetalLengthCm', 'PetalWidthCm','Species']\n",
    "\n",
    "iris"
   ]
  },
  {
   "cell_type": "markdown",
   "metadata": {},
   "source": [
    "## Step 3 : Shape Data\n",
    "\n",
    "### 3.1 - Select columns"
   ]
  },
  {
   "cell_type": "code",
   "execution_count": 5,
   "metadata": {},
   "outputs": [
    {
     "name": "stdout",
     "output_type": "stream",
     "text": [
      "   SepalLengthCm  SepalWidthCm  PetalLengthCm  PetalWidthCm\n",
      "0            5.1           3.5            1.4           0.2\n",
      "1            4.9           3.0            1.4           0.2\n",
      "2            4.7           3.2            1.3           0.2\n",
      "3            4.6           3.1            1.5           0.2\n",
      "4            5.0           3.6            1.4           0.2\n",
      "-----\n",
      "       Species\n",
      "0  Iris-setosa\n",
      "1  Iris-setosa\n",
      "2  Iris-setosa\n",
      "3  Iris-setosa\n",
      "4  Iris-setosa\n"
     ]
    }
   ],
   "source": [
    "input_columns = ['SepalLengthCm', 'SepalWidthCm', 'PetalLengthCm', 'PetalWidthCm']\n",
    "x = iris [input_columns]\n",
    "y = iris[['Species']]\n",
    "\n",
    "print (x.head())\n",
    "print('-----')\n",
    "print (y.head())"
   ]
  },
  {
   "cell_type": "markdown",
   "metadata": {},
   "source": [
    "### 3.2 - Encode Labels\n",
    "Our output labels are strings like 'Iris-setosa' and 'Iris-virginica' ..etc.  \n",
    "These are called **categorical variables**  \n",
    "We need to change these to numbers  \n",
    "This is called **encoding**"
   ]
  },
  {
   "cell_type": "code",
   "execution_count": 6,
   "metadata": {},
   "outputs": [
    {
     "name": "stdout",
     "output_type": "stream",
     "text": [
      "[0 0 0 0 0 0 0 0 0 0 0 0 0 0 0 0 0 0 0 0 0 0 0 0 0 0 0 0 0 0 0 0 0 0 0 0 0\n",
      " 0 0 0 0 0 0 0 0 0 0 0 0 0 1 1 1 1 1 1 1 1 1 1 1 1 1 1 1 1 1 1 1 1 1 1 1 1\n",
      " 1 1 1 1 1 1 1 1 1 1 1 1 1 1 1 1 1 1 1 1 1 1 1 1 1 1 2 2 2 2 2 2 2 2 2 2 2\n",
      " 2 2 2 2 2 2 2 2 2 2 2 2 2 2 2 2 2 2 2 2 2 2 2 2 2 2 2 2 2 2 2 2 2 2 2 2 2\n",
      " 2 2]\n"
     ]
    },
    {
     "name": "stderr",
     "output_type": "stream",
     "text": [
      "/home/ubuntu/apps/anaconda/lib/python3.7/site-packages/sklearn/preprocessing/_label.py:251: DataConversionWarning: A column-vector y was passed when a 1d array was expected. Please change the shape of y to (n_samples, ), for example using ravel().\n",
      "  y = column_or_1d(y, warn=True)\n"
     ]
    }
   ],
   "source": [
    "from sklearn.preprocessing import LabelEncoder\n",
    "encoder =  LabelEncoder()\n",
    "y1 = encoder.fit_transform(y.values) ## need y.values which is an array\n",
    "print(y1)"
   ]
  },
  {
   "cell_type": "markdown",
   "metadata": {},
   "source": [
    "### 3.3 - Create train/test split"
   ]
  },
  {
   "cell_type": "code",
   "execution_count": 7,
   "metadata": {},
   "outputs": [
    {
     "name": "stdout",
     "output_type": "stream",
     "text": [
      "x_train.shape :  (120, 4)\n",
      "y_train.shape :  (120,)\n",
      "x_test.shape :  (30, 4)\n",
      "y_test.shape :  (30,)\n"
     ]
    }
   ],
   "source": [
    "from sklearn.model_selection import train_test_split\n",
    "\n",
    "# supply 'y1' (encoded labels)\n",
    "x_train,x_test, y_train,y_test = train_test_split(x,y1,test_size=0.2,random_state=0) \n",
    "\n",
    "print (\"x_train.shape : \", x_train.shape)\n",
    "print (\"y_train.shape : \", y_train.shape)\n",
    "print (\"x_test.shape : \", x_test.shape)\n",
    "print (\"y_test.shape : \", y_test.shape)"
   ]
  },
  {
   "cell_type": "markdown",
   "metadata": {},
   "source": [
    "## Step 4 : Build the Model\n",
    "Since this is a classifier, here is how we are going to build the neural network\n",
    "- Neurons in Input layer  = input dimensions (4 here)\n",
    "- Neurons in hidden layer = ???\n",
    "- Neurons in Output layer = output classes (3 here)\n",
    "- Output activation is 'softmax'\n",
    "\n",
    "### TODO : Sketch the neural net\n",
    "- What is the input dimensions\n",
    "- how many neurons in layers\n",
    "- how many output neurons\n",
    "\n",
    "<img src=\"../assets/images/neural-net-unknown.png\" style=\"width:40%\"/>"
   ]
  },
  {
   "cell_type": "code",
   "execution_count": 8,
   "metadata": {},
   "outputs": [
    {
     "name": "stdout",
     "output_type": "stream",
     "text": [
      "input_dim :  4 , output classes :  3\n",
      "Model: \"sequential\"\n",
      "_________________________________________________________________\n",
      "Layer (type)                 Output Shape              Param #   \n",
      "=================================================================\n",
      "dense (Dense)                (None, 4)                 20        \n",
      "_________________________________________________________________\n",
      "dense_1 (Dense)              (None, 64)                320       \n",
      "_________________________________________________________________\n",
      "dense_2 (Dense)              (None, 3)                 195       \n",
      "=================================================================\n",
      "Total params: 535\n",
      "Trainable params: 535\n",
      "Non-trainable params: 0\n",
      "_________________________________________________________________\n",
      "None\n"
     ]
    },
    {
     "data": {
      "image/png": "[encoded data removed]",
      "text/plain": [
       "<IPython.core.display.Image object>"
      ]
     },
     "execution_count": 8,
     "metadata": {},
     "output_type": "execute_result"
    }
   ],
   "source": [
    "input_dim = len(input_columns)\n",
    "output_clases = 3 \n",
    "print (\"input_dim : \", input_dim, \", output classes : \", output_clases)\n",
    "\n",
    "model = tf.keras.Sequential([\n",
    "            tf.keras.layers.Dense(units=input_dim, activation=tf.nn.relu, input_dim=input_dim),\n",
    "            tf.keras.layers.Dense(units=64, activation=tf.nn.relu),\n",
    "            tf.keras.layers.Dense(units=output_clases,  activation=tf.nn.softmax)\n",
    "            ])\n",
    "\n",
    "# loss = 'sparse_categorical_crossentropy'  or 'categorical_crossentropy'\n",
    "model.compile(loss='sparse_categorical_crossentropy', \n",
    "                 optimizer=tf.keras.optimizers.Adam(), # or 'adam', \n",
    "                 metrics=['accuracy'])\n",
    "\n",
    "print (model.summary())\n",
    "\n",
    "tf.keras.utils.plot_model(model, to_file='model.png', show_shapes=True)"
   ]
  },
  {
   "cell_type": "markdown",
   "metadata": {},
   "source": [
    "## Step 5 : Tensorboard"
   ]
  },
  {
   "cell_type": "code",
   "execution_count": 9,
   "metadata": {},
   "outputs": [
    {
     "name": "stdout",
     "output_type": "stream",
     "text": [
      "Saving TB logs to :  /tmp/tensorboard-logs/classification-iris-1/2020-03-15--09-19-13\n"
     ]
    }
   ],
   "source": [
    "## This is fairly boiler plate code\n",
    "\n",
    "import datetime\n",
    "import os\n",
    "\n",
    "app_name = 'classification-iris-1' # you can change this, if you like\n",
    "\n",
    "tb_top_level_dir= '/tmp/tensorboard-logs'\n",
    "tensorboard_logs_dir= os.path.join (tb_top_level_dir, app_name, \n",
    "                                    datetime.datetime.now().strftime(\"%Y-%m-%d--%H-%M-%S\"))\n",
    "print (\"Saving TB logs to : \" , tensorboard_logs_dir)\n",
    "\n",
    "tensorboard_callback = tf.keras.callbacks.TensorBoard(log_dir=tensorboard_logs_dir, histogram_freq=1)\n",
    "\n",
    "# Loading of tensorboard in Colab\n",
    "if RUNNING_IN_COLAB:\n",
    "    %load_ext tensorboard\n",
    "    %tensorboard --logdir $tb_top_level_dir"
   ]
  },
  {
   "cell_type": "markdown",
   "metadata": {},
   "source": [
    "## Step 6 : Train"
   ]
  },
  {
   "cell_type": "code",
   "execution_count": 10,
   "metadata": {},
   "outputs": [
    {
     "name": "stdout",
     "output_type": "stream",
     "text": [
      "training starting ...\n",
      "Train on 96 samples, validate on 24 samples\n",
      "Epoch 1/100\n",
      "96/96 [==============================] - 1s 6ms/sample - loss: 1.0880 - accuracy: 0.3854 - val_loss: 1.1747 - val_accuracy: 0.2917\n",
      "Epoch 2/100\n",
      "96/96 [==============================] - 0s 834us/sample - loss: 1.0597 - accuracy: 0.3854 - val_loss: 1.1421 - val_accuracy: 0.2917\n",
      "Epoch 3/100\n",
      "96/96 [==============================] - 0s 895us/sample - loss: 1.0559 - accuracy: 0.3854 - val_loss: 1.1320 - val_accuracy: 0.2917\n",
      "Epoch 4/100\n",
      "96/96 [==============================] - 0s 969us/sample - loss: 1.0554 - accuracy: 0.3854 - val_loss: 1.1306 - val_accuracy: 0.2917\n",
      "Epoch 5/100\n",
      "96/96 [==============================] - 0s 840us/sample - loss: 1.0569 - accuracy: 0.3854 - val_loss: 1.1311 - val_accuracy: 0.2917\n",
      "Epoch 6/100\n",
      "96/96 [==============================] - 0s 697us/sample - loss: 1.0500 - accuracy: 0.3854 - val_loss: 1.1287 - val_accuracy: 0.2917\n",
      "Epoch 7/100\n",
      "96/96 [==============================] - 0s 726us/sample - loss: 1.0444 - accuracy: 0.3854 - val_loss: 1.1327 - val_accuracy: 0.2917\n",
      "Epoch 8/100\n",
      "96/96 [==============================] - 0s 658us/sample - loss: 1.0378 - accuracy: 0.3854 - val_loss: 1.1340 - val_accuracy: 0.2917\n",
      "Epoch 9/100\n",
      "96/96 [==============================] - 0s 446us/sample - loss: 1.0349 - accuracy: 0.3854 - val_loss: 1.1266 - val_accuracy: 0.2917\n",
      "Epoch 10/100\n",
      "96/96 [==============================] - 0s 1ms/sample - loss: 1.0299 - accuracy: 0.3854 - val_loss: 1.1257 - val_accuracy: 0.2917\n",
      "Epoch 11/100\n",
      "96/96 [==============================] - 0s 637us/sample - loss: 1.0257 - accuracy: 0.3854 - val_loss: 1.1212 - val_accuracy: 0.2917\n",
      "Epoch 12/100\n",
      "96/96 [==============================] - 0s 508us/sample - loss: 1.0213 - accuracy: 0.3854 - val_loss: 1.1160 - val_accuracy: 0.2917\n",
      "Epoch 13/100\n",
      "96/96 [==============================] - 0s 936us/sample - loss: 1.0150 - accuracy: 0.3854 - val_loss: 1.1092 - val_accuracy: 0.2917\n",
      "Epoch 14/100\n",
      "96/96 [==============================] - 0s 756us/sample - loss: 1.0089 - accuracy: 0.3854 - val_loss: 1.1010 - val_accuracy: 0.2917\n",
      "Epoch 15/100\n",
      "96/96 [==============================] - 0s 625us/sample - loss: 1.0038 - accuracy: 0.3854 - val_loss: 1.0920 - val_accuracy: 0.2917\n",
      "Epoch 16/100\n",
      "96/96 [==============================] - 0s 781us/sample - loss: 0.9971 - accuracy: 0.3854 - val_loss: 1.0899 - val_accuracy: 0.2917\n",
      "Epoch 17/100\n",
      "96/96 [==============================] - 0s 1ms/sample - loss: 0.9919 - accuracy: 0.4479 - val_loss: 1.0866 - val_accuracy: 0.3750\n",
      "Epoch 18/100\n",
      "96/96 [==============================] - 0s 943us/sample - loss: 0.9833 - accuracy: 0.5312 - val_loss: 1.0833 - val_accuracy: 0.3750\n",
      "Epoch 19/100\n",
      "96/96 [==============================] - 0s 737us/sample - loss: 0.9755 - accuracy: 0.5625 - val_loss: 1.0762 - val_accuracy: 0.3750\n",
      "Epoch 20/100\n",
      "96/96 [==============================] - 0s 879us/sample - loss: 0.9677 - accuracy: 0.5938 - val_loss: 1.0691 - val_accuracy: 0.4167\n",
      "Epoch 21/100\n",
      "96/96 [==============================] - 0s 820us/sample - loss: 0.9612 - accuracy: 0.5729 - val_loss: 1.0674 - val_accuracy: 0.3750\n",
      "Epoch 22/100\n",
      "96/96 [==============================] - 0s 719us/sample - loss: 0.9510 - accuracy: 0.6146 - val_loss: 1.0559 - val_accuracy: 0.4583\n",
      "Epoch 23/100\n",
      "96/96 [==============================] - 0s 809us/sample - loss: 0.9416 - accuracy: 0.6667 - val_loss: 1.0488 - val_accuracy: 0.4583\n",
      "Epoch 24/100\n",
      "96/96 [==============================] - 0s 537us/sample - loss: 0.9312 - accuracy: 0.7083 - val_loss: 1.0401 - val_accuracy: 0.5000\n",
      "Epoch 25/100\n",
      "96/96 [==============================] - 0s 505us/sample - loss: 0.9216 - accuracy: 0.7292 - val_loss: 1.0342 - val_accuracy: 0.5417\n",
      "Epoch 26/100\n",
      "96/96 [==============================] - 0s 1ms/sample - loss: 0.9099 - accuracy: 0.7292 - val_loss: 1.0225 - val_accuracy: 0.5417\n",
      "Epoch 27/100\n",
      "96/96 [==============================] - 0s 639us/sample - loss: 0.8992 - accuracy: 0.7292 - val_loss: 1.0107 - val_accuracy: 0.5417\n",
      "Epoch 28/100\n",
      "96/96 [==============================] - 0s 636us/sample - loss: 0.8872 - accuracy: 0.7292 - val_loss: 1.0007 - val_accuracy: 0.5417\n",
      "Epoch 29/100\n",
      "96/96 [==============================] - 0s 619us/sample - loss: 0.8754 - accuracy: 0.7292 - val_loss: 0.9880 - val_accuracy: 0.5417\n",
      "Epoch 30/100\n",
      "96/96 [==============================] - 0s 798us/sample - loss: 0.8624 - accuracy: 0.7292 - val_loss: 0.9804 - val_accuracy: 0.5417\n",
      "Epoch 31/100\n",
      "96/96 [==============================] - 0s 580us/sample - loss: 0.8491 - accuracy: 0.7292 - val_loss: 0.9679 - val_accuracy: 0.5417\n",
      "Epoch 32/100\n",
      "96/96 [==============================] - 0s 754us/sample - loss: 0.8357 - accuracy: 0.7292 - val_loss: 0.9525 - val_accuracy: 0.5417\n",
      "Epoch 33/100\n",
      "96/96 [==============================] - 0s 485us/sample - loss: 0.8209 - accuracy: 0.7292 - val_loss: 0.9420 - val_accuracy: 0.5417\n",
      "Epoch 34/100\n",
      "96/96 [==============================] - 0s 521us/sample - loss: 0.8063 - accuracy: 0.7292 - val_loss: 0.9311 - val_accuracy: 0.5417\n",
      "Epoch 35/100\n",
      "96/96 [==============================] - 0s 341us/sample - loss: 0.7915 - accuracy: 0.7292 - val_loss: 0.9201 - val_accuracy: 0.5417\n",
      "Epoch 36/100\n",
      "96/96 [==============================] - 0s 657us/sample - loss: 0.7744 - accuracy: 0.7292 - val_loss: 0.9103 - val_accuracy: 0.5417\n",
      "Epoch 37/100\n",
      "96/96 [==============================] - 0s 361us/sample - loss: 0.7564 - accuracy: 0.7292 - val_loss: 0.8934 - val_accuracy: 0.5417\n",
      "Epoch 38/100\n",
      "96/96 [==============================] - 0s 458us/sample - loss: 0.7386 - accuracy: 0.7292 - val_loss: 0.8803 - val_accuracy: 0.5417\n",
      "Epoch 39/100\n",
      "96/96 [==============================] - 0s 657us/sample - loss: 0.7204 - accuracy: 0.7292 - val_loss: 0.8605 - val_accuracy: 0.5417\n",
      "Epoch 40/100\n",
      "96/96 [==============================] - 0s 709us/sample - loss: 0.7026 - accuracy: 0.7292 - val_loss: 0.8455 - val_accuracy: 0.5417\n",
      "Epoch 41/100\n",
      "96/96 [==============================] - 0s 838us/sample - loss: 0.6859 - accuracy: 0.7292 - val_loss: 0.8302 - val_accuracy: 0.5417\n",
      "Epoch 42/100\n",
      "96/96 [==============================] - 0s 710us/sample - loss: 0.6704 - accuracy: 0.7292 - val_loss: 0.8120 - val_accuracy: 0.5417\n",
      "Epoch 43/100\n",
      "96/96 [==============================] - 0s 391us/sample - loss: 0.6563 - accuracy: 0.7292 - val_loss: 0.7925 - val_accuracy: 0.5417\n",
      "Epoch 44/100\n",
      "96/96 [==============================] - 0s 543us/sample - loss: 0.6406 - accuracy: 0.7292 - val_loss: 0.7793 - val_accuracy: 0.5417\n",
      "Epoch 45/100\n",
      "96/96 [==============================] - 0s 748us/sample - loss: 0.6268 - accuracy: 0.7292 - val_loss: 0.7700 - val_accuracy: 0.5417\n",
      "Epoch 46/100\n",
      "96/96 [==============================] - 0s 486us/sample - loss: 0.6147 - accuracy: 0.7292 - val_loss: 0.7643 - val_accuracy: 0.5417\n",
      "Epoch 47/100\n",
      "96/96 [==============================] - 0s 487us/sample - loss: 0.6005 - accuracy: 0.7292 - val_loss: 0.7544 - val_accuracy: 0.5417\n",
      "Epoch 48/100\n",
      "96/96 [==============================] - 0s 650us/sample - loss: 0.5870 - accuracy: 0.7292 - val_loss: 0.7396 - val_accuracy: 0.5417\n",
      "Epoch 49/100\n",
      "96/96 [==============================] - 0s 603us/sample - loss: 0.5736 - accuracy: 0.7292 - val_loss: 0.7251 - val_accuracy: 0.5417\n",
      "Epoch 50/100\n",
      "96/96 [==============================] - 0s 914us/sample - loss: 0.5604 - accuracy: 0.7292 - val_loss: 0.7091 - val_accuracy: 0.5417\n",
      "Epoch 51/100\n",
      "96/96 [==============================] - 0s 744us/sample - loss: 0.5480 - accuracy: 0.7292 - val_loss: 0.6940 - val_accuracy: 0.5417\n",
      "Epoch 52/100\n",
      "96/96 [==============================] - 0s 665us/sample - loss: 0.5366 - accuracy: 0.7292 - val_loss: 0.6791 - val_accuracy: 0.5417\n",
      "Epoch 53/100\n",
      "96/96 [==============================] - 0s 1ms/sample - loss: 0.5248 - accuracy: 0.7292 - val_loss: 0.6681 - val_accuracy: 0.5417\n",
      "Epoch 54/100\n",
      "96/96 [==============================] - 0s 580us/sample - loss: 0.5143 - accuracy: 0.7396 - val_loss: 0.6569 - val_accuracy: 0.5417\n",
      "Epoch 55/100\n",
      "96/96 [==============================] - 0s 551us/sample - loss: 0.5040 - accuracy: 0.7396 - val_loss: 0.6479 - val_accuracy: 0.5417\n",
      "Epoch 56/100\n",
      "96/96 [==============================] - 0s 513us/sample - loss: 0.4946 - accuracy: 0.7396 - val_loss: 0.6413 - val_accuracy: 0.5417\n",
      "Epoch 57/100\n",
      "96/96 [==============================] - 0s 282us/sample - loss: 0.4862 - accuracy: 0.7396 - val_loss: 0.6358 - val_accuracy: 0.5417\n",
      "Epoch 58/100\n",
      "96/96 [==============================] - 0s 561us/sample - loss: 0.4780 - accuracy: 0.7396 - val_loss: 0.6277 - val_accuracy: 0.5417\n",
      "Epoch 59/100\n",
      "96/96 [==============================] - 0s 468us/sample - loss: 0.4702 - accuracy: 0.7396 - val_loss: 0.6179 - val_accuracy: 0.5417\n",
      "Epoch 60/100\n",
      "96/96 [==============================] - 0s 778us/sample - loss: 0.4636 - accuracy: 0.7500 - val_loss: 0.6047 - val_accuracy: 0.5417\n",
      "Epoch 61/100\n",
      "96/96 [==============================] - 0s 688us/sample - loss: 0.4562 - accuracy: 0.7500 - val_loss: 0.5972 - val_accuracy: 0.5417\n",
      "Epoch 62/100\n",
      "96/96 [==============================] - 0s 963us/sample - loss: 0.4494 - accuracy: 0.7500 - val_loss: 0.5911 - val_accuracy: 0.5417\n",
      "Epoch 63/100\n",
      "96/96 [==============================] - 0s 546us/sample - loss: 0.4430 - accuracy: 0.7604 - val_loss: 0.5823 - val_accuracy: 0.5833\n",
      "Epoch 64/100\n",
      "96/96 [==============================] - 0s 331us/sample - loss: 0.4367 - accuracy: 0.7604 - val_loss: 0.5748 - val_accuracy: 0.5833\n",
      "Epoch 65/100\n",
      "96/96 [==============================] - 0s 625us/sample - loss: 0.4313 - accuracy: 0.7604 - val_loss: 0.5644 - val_accuracy: 0.5833\n",
      "Epoch 66/100\n",
      "96/96 [==============================] - 0s 388us/sample - loss: 0.4271 - accuracy: 0.7604 - val_loss: 0.5646 - val_accuracy: 0.5833\n",
      "Epoch 67/100\n",
      "96/96 [==============================] - 0s 839us/sample - loss: 0.4194 - accuracy: 0.7604 - val_loss: 0.5556 - val_accuracy: 0.5833\n",
      "Epoch 68/100\n",
      "96/96 [==============================] - 0s 731us/sample - loss: 0.4144 - accuracy: 0.7604 - val_loss: 0.5452 - val_accuracy: 0.5833\n",
      "Epoch 69/100\n",
      "96/96 [==============================] - 0s 320us/sample - loss: 0.4104 - accuracy: 0.7604 - val_loss: 0.5453 - val_accuracy: 0.5833\n",
      "Epoch 70/100\n",
      "96/96 [==============================] - 0s 474us/sample - loss: 0.4040 - accuracy: 0.7604 - val_loss: 0.5359 - val_accuracy: 0.6250\n",
      "Epoch 71/100\n",
      "96/96 [==============================] - 0s 840us/sample - loss: 0.3986 - accuracy: 0.7604 - val_loss: 0.5273 - val_accuracy: 0.7083\n",
      "Epoch 72/100\n",
      "96/96 [==============================] - 0s 721us/sample - loss: 0.3940 - accuracy: 0.7604 - val_loss: 0.5195 - val_accuracy: 0.7083\n",
      "Epoch 73/100\n",
      "96/96 [==============================] - 0s 802us/sample - loss: 0.3896 - accuracy: 0.7917 - val_loss: 0.5183 - val_accuracy: 0.7083\n",
      "Epoch 74/100\n",
      "96/96 [==============================] - 0s 824us/sample - loss: 0.3846 - accuracy: 0.7708 - val_loss: 0.5130 - val_accuracy: 0.7083\n",
      "Epoch 75/100\n",
      "96/96 [==============================] - 0s 522us/sample - loss: 0.3800 - accuracy: 0.7812 - val_loss: 0.5085 - val_accuracy: 0.7083\n",
      "Epoch 76/100\n",
      "96/96 [==============================] - 0s 511us/sample - loss: 0.3762 - accuracy: 0.7917 - val_loss: 0.4957 - val_accuracy: 0.7500\n",
      "Epoch 77/100\n",
      "96/96 [==============================] - 0s 574us/sample - loss: 0.3718 - accuracy: 0.8750 - val_loss: 0.4853 - val_accuracy: 0.7917\n",
      "Epoch 78/100\n",
      "96/96 [==============================] - 0s 799us/sample - loss: 0.3663 - accuracy: 0.8958 - val_loss: 0.4839 - val_accuracy: 0.7917\n",
      "Epoch 79/100\n",
      "96/96 [==============================] - 0s 723us/sample - loss: 0.3617 - accuracy: 0.8854 - val_loss: 0.4847 - val_accuracy: 0.7500\n",
      "Epoch 80/100\n",
      "96/96 [==============================] - 0s 770us/sample - loss: 0.3575 - accuracy: 0.8750 - val_loss: 0.4823 - val_accuracy: 0.7500\n",
      "Epoch 81/100\n",
      "96/96 [==============================] - 0s 557us/sample - loss: 0.3567 - accuracy: 0.8854 - val_loss: 0.4667 - val_accuracy: 0.7917\n",
      "Epoch 82/100\n",
      "96/96 [==============================] - 0s 724us/sample - loss: 0.3489 - accuracy: 0.9062 - val_loss: 0.4661 - val_accuracy: 0.7917\n",
      "Epoch 83/100\n",
      "96/96 [==============================] - 0s 505us/sample - loss: 0.3444 - accuracy: 0.8958 - val_loss: 0.4627 - val_accuracy: 0.7917\n",
      "Epoch 84/100\n",
      "96/96 [==============================] - 0s 532us/sample - loss: 0.3403 - accuracy: 0.9062 - val_loss: 0.4558 - val_accuracy: 0.7917\n",
      "Epoch 85/100\n",
      "96/96 [==============================] - 0s 370us/sample - loss: 0.3369 - accuracy: 0.9062 - val_loss: 0.4477 - val_accuracy: 0.7917\n",
      "Epoch 86/100\n",
      "96/96 [==============================] - 0s 586us/sample - loss: 0.3324 - accuracy: 0.9062 - val_loss: 0.4451 - val_accuracy: 0.7917\n",
      "Epoch 87/100\n",
      "96/96 [==============================] - 0s 635us/sample - loss: 0.3282 - accuracy: 0.9167 - val_loss: 0.4352 - val_accuracy: 0.8333\n",
      "Epoch 88/100\n",
      "96/96 [==============================] - 0s 462us/sample - loss: 0.3240 - accuracy: 0.9375 - val_loss: 0.4285 - val_accuracy: 0.8333\n",
      "Epoch 89/100\n",
      "96/96 [==============================] - 0s 480us/sample - loss: 0.3214 - accuracy: 0.9375 - val_loss: 0.4227 - val_accuracy: 0.8333\n",
      "Epoch 90/100\n",
      "96/96 [==============================] - 0s 438us/sample - loss: 0.3170 - accuracy: 0.9375 - val_loss: 0.4270 - val_accuracy: 0.8333\n",
      "Epoch 91/100\n",
      "96/96 [==============================] - 0s 253us/sample - loss: 0.3122 - accuracy: 0.9271 - val_loss: 0.4215 - val_accuracy: 0.8333\n",
      "Epoch 92/100\n",
      "96/96 [==============================] - 0s 593us/sample - loss: 0.3082 - accuracy: 0.9375 - val_loss: 0.4132 - val_accuracy: 0.8333\n",
      "Epoch 93/100\n",
      "96/96 [==============================] - 0s 394us/sample - loss: 0.3042 - accuracy: 0.9375 - val_loss: 0.4062 - val_accuracy: 0.8333\n",
      "Epoch 94/100\n",
      "96/96 [==============================] - 0s 435us/sample - loss: 0.3011 - accuracy: 0.9375 - val_loss: 0.3966 - val_accuracy: 0.8333\n",
      "Epoch 95/100\n",
      "96/96 [==============================] - 0s 848us/sample - loss: 0.2968 - accuracy: 0.9583 - val_loss: 0.3919 - val_accuracy: 0.8333\n",
      "Epoch 96/100\n",
      "96/96 [==============================] - 0s 538us/sample - loss: 0.2934 - accuracy: 0.9479 - val_loss: 0.3917 - val_accuracy: 0.8333\n",
      "Epoch 97/100\n",
      "96/96 [==============================] - 0s 539us/sample - loss: 0.2893 - accuracy: 0.9479 - val_loss: 0.3899 - val_accuracy: 0.8333\n",
      "Epoch 98/100\n",
      "96/96 [==============================] - 0s 997us/sample - loss: 0.2868 - accuracy: 0.9375 - val_loss: 0.3874 - val_accuracy: 0.8333\n",
      "Epoch 99/100\n",
      "96/96 [==============================] - 0s 340us/sample - loss: 0.2843 - accuracy: 0.9479 - val_loss: 0.3690 - val_accuracy: 0.8750\n",
      "Epoch 100/100\n",
      "96/96 [==============================] - 0s 666us/sample - loss: 0.2793 - accuracy: 0.9583 - val_loss: 0.3640 - val_accuracy: 0.8750\n",
      "training done.\n",
      "CPU times: user 32.7 s, sys: 51.4 s, total: 1min 24s\n",
      "Wall time: 7.05 s\n"
     ]
    }
   ],
   "source": [
    "%%time\n",
    "\n",
    "## TODO configure some of these\n",
    "epochs = 100  ## experiment 100, 500, 1000\n",
    "\n",
    "print (\"training starting ...\")\n",
    "history = model.fit(\n",
    "              x_train, y_train,\n",
    "              epochs=epochs, validation_split = 0.2, verbose=1,\n",
    "              callbacks=[tensorboard_callback])\n",
    "\n",
    "print (\"training done.\")"
   ]
  },
  {
   "cell_type": "markdown",
   "metadata": {},
   "source": [
    "## Step 7 : Plot History"
   ]
  },
  {
   "cell_type": "code",
   "execution_count": 11,
   "metadata": {},
   "outputs": [
    {
     "data": {
      "image/png": "[encoded data removed]",
      "text/plain": [
       "<Figure size 432x288 with 1 Axes>"
      ]
     },
     "metadata": {
      "needs_background": "light"
     },
     "output_type": "display_data"
    }
   ],
   "source": [
    "%matplotlib inline\n",
    "import matplotlib.pyplot as plt\n",
    "\n",
    "plt.plot(history.history['accuracy'], label='train_accuracy')\n",
    "plt.plot(history.history['val_accuracy'], label='val_accuracy')\n",
    "plt.legend()\n",
    "plt.show()"
   ]
  },
  {
   "cell_type": "markdown",
   "metadata": {},
   "source": [
    "## Step 8 : Predict"
   ]
  },
  {
   "cell_type": "code",
   "execution_count": 19,
   "metadata": {},
   "outputs": [
    {
     "data": {
      "text/plain": [
       "array([[ 0.002,  0.249,  0.749],\n",
       "       [ 0.023,  0.602,  0.375],\n",
       "       [ 0.987,  0.012,  0.000],\n",
       "       [ 0.000,  0.111,  0.889],\n",
       "       [ 0.965,  0.034,  0.001],\n",
       "       [ 0.000,  0.151,  0.849],\n",
       "       [ 0.977,  0.023,  0.000],\n",
       "       [ 0.016,  0.589,  0.395],\n",
       "       [ 0.008,  0.513,  0.478],\n",
       "       [ 0.049,  0.688,  0.263],\n",
       "       [ 0.000,  0.139,  0.861],\n",
       "       [ 0.027,  0.634,  0.340],\n",
       "       [ 0.009,  0.450,  0.542],\n",
       "       [ 0.012,  0.547,  0.441],\n",
       "       [ 0.010,  0.466,  0.525],\n",
       "       [ 0.952,  0.047,  0.001],\n",
       "       [ 0.016,  0.529,  0.455],\n",
       "       [ 0.012,  0.444,  0.545],\n",
       "       [ 0.954,  0.045,  0.001],\n",
       "       [ 0.985,  0.014,  0.000],\n",
       "       [ 0.003,  0.294,  0.703],\n",
       "       [ 0.016,  0.487,  0.498],\n",
       "       [ 0.925,  0.073,  0.002],\n",
       "       [ 0.946,  0.053,  0.001],\n",
       "       [ 0.006,  0.418,  0.576],\n",
       "       [ 0.986,  0.014,  0.000],\n",
       "       [ 0.953,  0.046,  0.001],\n",
       "       [ 0.028,  0.632,  0.340],\n",
       "       [ 0.103,  0.668,  0.229],\n",
       "       [ 0.958,  0.041,  0.001]], dtype=float32)"
      ]
     },
     "execution_count": 19,
     "metadata": {},
     "output_type": "execute_result"
    }
   ],
   "source": [
    "np.set_printoptions(formatter={'float': '{: 0.3f}'.format})\n",
    "\n",
    "predictions = model.predict(x_test)\n",
    "predictions"
   ]
  },
  {
   "cell_type": "markdown",
   "metadata": {},
   "source": [
    "### Understanding Predictions\n",
    "In the above output, for each test input, the softmax layer, produces 3 numbers.  \n",
    "These numbers are probabilities.  If you add them up, you will get 1.0  \n",
    "We want to choose the output that has the highest probability.  \n",
    "\n",
    "For example `(0.03086184, 0.33362046, 0.6355177)` means  \n",
    "- class 1 has prob of 0.03  or 3%\n",
    "- class 2 has prob of 0.33  or 33%\n",
    "- class 3 has prob of 0.63  or 63%\n",
    "\n",
    "So we choose the class with highest probability as prediction : class 3\n",
    "\n",
    "\n",
    "We can get class predictions directly as follows"
   ]
  },
  {
   "cell_type": "code",
   "execution_count": 13,
   "metadata": {},
   "outputs": [
    {
     "data": {
      "text/plain": [
       "array([2, 1, 0, 2, 0, 2, 0, 1, 1, 1, 2, 1, 2, 1, 2, 0, 1, 2, 0, 0, 2, 2,\n",
       "       0, 0, 2, 0, 0, 1, 1, 0])"
      ]
     },
     "execution_count": 13,
     "metadata": {},
     "output_type": "execute_result"
    }
   ],
   "source": [
    "## Use 'predict_classes' instead of 'predict'\n",
    "y_pred = model.predict_classes(x_test)\n",
    "y_pred"
   ]
  },
  {
   "cell_type": "markdown",
   "metadata": {},
   "source": [
    "## Step 9 : Evaluate the model\n",
    "\n",
    "### 9.1 - Print out metrics"
   ]
  },
  {
   "cell_type": "code",
   "execution_count": 14,
   "metadata": {},
   "outputs": [
    {
     "name": "stdout",
     "output_type": "stream",
     "text": [
      "model metrics :  ['loss', 'accuracy']\n",
      "Metric : loss = 0.33\n",
      "Metric : accuracy = 0.87\n"
     ]
    }
   ],
   "source": [
    "metric_names = model.metrics_names\n",
    "print (\"model metrics : \" , metric_names)\n",
    "\n",
    "metrics = model.evaluate(x_test, y_test, verbose=0)\n",
    "\n",
    "for idx, metric in enumerate(metric_names):\n",
    "    print (\"Metric : {} = {:,.2f}\".format (metric_names[idx], metrics[idx]))"
   ]
  },
  {
   "cell_type": "markdown",
   "metadata": {},
   "source": [
    "### 9.2 - Confussion Matrix\n",
    "Since this is a classification problem, confusion matrix is very effective way to evaluate our model"
   ]
  },
  {
   "cell_type": "code",
   "execution_count": 15,
   "metadata": {},
   "outputs": [
    {
     "data": {
      "text/plain": [
       "array([[11,  0,  0],\n",
       "       [ 0,  9,  4],\n",
       "       [ 0,  0,  6]])"
      ]
     },
     "execution_count": 15,
     "metadata": {},
     "output_type": "execute_result"
    }
   ],
   "source": [
    "## plain confusion matrix \n",
    "\n",
    "from sklearn.metrics import confusion_matrix\n",
    "import seaborn as sns\n",
    "\n",
    "cm = confusion_matrix(y_test, y_pred, labels = [0,1,2])\n",
    "cm\n"
   ]
  },
  {
   "cell_type": "code",
   "execution_count": 16,
   "metadata": {},
   "outputs": [
    {
     "data": {
      "text/plain": [
       "[]"
      ]
     },
     "execution_count": 16,
     "metadata": {},
     "output_type": "execute_result"
    },
    {
     "data": {
      "image/png": "[encoded data removed]",
      "text/plain": [
       "<Figure size 576x360 with 2 Axes>"
      ]
     },
     "metadata": {
      "needs_background": "light"
     },
     "output_type": "display_data"
    }
   ],
   "source": [
    "import matplotlib.pyplot as plt\n",
    "import seaborn as sns\n",
    "\n",
    "plt.figure(figsize = (8,5))\n",
    "\n",
    "# colormaps : cmap=\"YlGnBu\" , cmap=\"Greens\", cmap=\"Blues\",  cmap=\"Reds\"\n",
    "sns.heatmap(cm, annot=True, cmap=\"Reds\", fmt='d').plot()"
   ]
  },
  {
   "cell_type": "markdown",
   "metadata": {},
   "source": [
    "### 9.3 - Metrics calculated from Confusion Matrix"
   ]
  },
  {
   "cell_type": "code",
   "execution_count": 17,
   "metadata": {},
   "outputs": [
    {
     "name": "stdout",
     "output_type": "stream",
     "text": [
      "{'0': {'f1-score': 1.0, 'precision': 1.0, 'recall': 1.0, 'support': 11},\n",
      " '1': {'f1-score': 0.8181818181818181,\n",
      "       'precision': 1.0,\n",
      "       'recall': 0.6923076923076923,\n",
      "       'support': 13},\n",
      " '2': {'f1-score': 0.7499999999999999,\n",
      "       'precision': 0.6,\n",
      "       'recall': 1.0,\n",
      "       'support': 6},\n",
      " 'accuracy': 0.8666666666666667,\n",
      " 'macro avg': {'f1-score': 0.856060606060606,\n",
      "               'precision': 0.8666666666666667,\n",
      "               'recall': 0.8974358974358975,\n",
      "               'support': 30},\n",
      " 'weighted avg': {'f1-score': 0.8712121212121211,\n",
      "                  'precision': 0.92,\n",
      "                  'recall': 0.8666666666666667,\n",
      "                  'support': 30}}\n"
     ]
    }
   ],
   "source": [
    "from sklearn.metrics import classification_report\n",
    "from pprint import pprint\n",
    "\n",
    "pprint(classification_report(y_test, y_pred, output_dict=True))"
   ]
  },
  {
   "cell_type": "markdown",
   "metadata": {},
   "source": [
    "### TODO : Intepret confusion matrix\n",
    "Instructor will walk you through the matrix.  \n",
    "Answer these questions\n",
    "- which class is classified correctly mostly\n",
    "- which class is classified incorrectly?"
   ]
  },
  {
   "cell_type": "markdown",
   "metadata": {},
   "source": [
    "## Step 10 : Improve the Model\n",
    "\n",
    "Inspect the following\n",
    "- What is the metric 'accuracy' in step 9.1\n",
    "- And verify this with tensorboard (port 6066)\n",
    "\n",
    "Most likely, we didn't get a great accuracy.  \n",
    "How can we improve it?\n",
    "\n",
    "**Try the following ideas** \n",
    "\n",
    "- **Idea-1 : Increase neurons in hidden layer**  \n",
    "  - In Step-4, increase hidden layer neurons from 8 --> 64  \n",
    "  - Click 'Kernel --> Restart and Run all Cells'  \n",
    "  - Hopefully you should see improvement in the accuracy.  \n",
    "  - Check  accuracy metrics / confusion matrix / tensorboard"
   ]
  },
  {
   "cell_type": "markdown",
   "metadata": {},
   "source": [
    "## Step 11 : Create a compact version of this notebook\n",
    "Start another notebook and implement this notebook in the most compact way!"
   ]
  },
  {
   "cell_type": "code",
   "execution_count": null,
   "metadata": {},
   "outputs": [],
   "source": []
  }
 ],
 "metadata": {
  "kernelspec": {
   "display_name": "Python 3",
   "language": "python",
   "name": "python3"
  },
  "language_info": {
   "codemirror_mode": {
    "name": "ipython",
    "version": 3
   },
   "file_extension": ".py",
   "mimetype": "text/x-python",
   "name": "python",
   "nbconvert_exporter": "python",
   "pygments_lexer": "ipython3",
   "version": "3.7.6"
  }
 },
 "nbformat": 4,
 "nbformat_minor": 4
}
