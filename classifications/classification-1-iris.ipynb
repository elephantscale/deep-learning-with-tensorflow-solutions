{
 "cells": [
  {
   "cell_type": "markdown",
   "metadata": {},
   "source": [
    "## Deep Neural Network (DNN) Classifier - Iris\n",
    "We will build a relataively simple neuran net to classify IRIS dataset "
   ]
  },
  {
   "cell_type": "markdown",
   "metadata": {},
   "source": [
    "## Step 1 - About IRIS Dataset\n",
    "\n",
    "Imagine you are a botanist seeking an automated way to categorize each Iris flower you find. Machine learning provides many algorithms to statistically classify flowers. For instance, a sophisticated machine learning program could classify flowers based on photographs. Our ambitions are more modest—we're going to classify Iris flowers based on the length and width measurements of their [sepals](https://en.wikipedia.org/wiki/Sepal) and [petals](https://en.wikipedia.org/wiki/Petal).\n",
    "\n",
    "The Iris genus entails about 300 species, but our program will only classify the following three:\n",
    "\n",
    "* Iris setosa\n",
    "* Iris virginica\n",
    "* Iris versicolor\n",
    "\n",
    "<table>\n",
    "  <tr><td>\n",
    "    <img src=\"https://www.tensorflow.org/images/iris_three_species.jpg\"\n",
    "         alt=\"Petal geometry compared for three iris species: Iris setosa, Iris virginica, and Iris versicolor\">\n",
    "  </td></tr>\n",
    "  <tr><td align=\"center\">\n",
    "    <b>Figure 1.</b> <a href=\"https://commons.wikimedia.org/w/index.php?curid=170298\">Iris setosa</a> (by <a href=\"https://commons.wikimedia.org/wiki/User:Radomil\">Radomil</a>, CC BY-SA 3.0), <a href=\"https://commons.wikimedia.org/w/index.php?curid=248095\">Iris versicolor</a>, (by <a href=\"https://commons.wikimedia.org/wiki/User:Dlanglois\">Dlanglois</a>, CC BY-SA 3.0), and <a href=\"https://www.flickr.com/photos/33397993@N05/3352169862\">Iris virginica</a> (by <a href=\"https://www.flickr.com/photos/33397993@N05\">Frank Mayfield</a>, CC BY-SA 2.0).<br/>&nbsp;\n",
    "  </td></tr>\n",
    "</table>\n",
    "\n",
    "Fortunately, someone has already created a [data set of 120 Iris flowers](https://en.wikipedia.org/wiki/Iris_flower_data_set) with the sepal and p"
   ]
  },
  {
   "cell_type": "code",
   "execution_count": 1,
   "metadata": {},
   "outputs": [
    {
     "name": "stdout",
     "output_type": "stream",
     "text": [
      "Running in Google COLAB :  False\n"
     ]
    }
   ],
   "source": [
    "## Determine if we are running on google colab\n",
    "\n",
    "try:\n",
    "    import google.colab\n",
    "    RUNNING_IN_COLAB = True\n",
    "except:\n",
    "    RUNNING_IN_COLAB = False\n",
    "\n",
    "print (\"Running in Google COLAB : \", RUNNING_IN_COLAB)\n"
   ]
  },
  {
   "cell_type": "code",
   "execution_count": 2,
   "metadata": {},
   "outputs": [],
   "source": [
    "%matplotlib inline\n",
    "import numpy as np\n",
    "import pandas as pd\n",
    "import matplotlib.pyplot as plt\n",
    "\n",
    "try:\n",
    "  # %tensorflow_version only exists in Colab.\n",
    "  %tensorflow_version 2.x\n",
    "except Exception:\n",
    "  pass\n",
    "\n",
    "import tensorflow as tf\n",
    "from tensorflow import keras"
   ]
  },
  {
   "cell_type": "markdown",
   "metadata": {},
   "source": [
    "## Step 2 : Read Data"
   ]
  },
  {
   "cell_type": "code",
   "execution_count": 3,
   "metadata": {},
   "outputs": [
    {
     "data": {
      "text/html": [
       "<div>\n",
       "<style scoped>\n",
       "    .dataframe tbody tr th:only-of-type {\n",
       "        vertical-align: middle;\n",
       "    }\n",
       "\n",
       "    .dataframe tbody tr th {\n",
       "        vertical-align: top;\n",
       "    }\n",
       "\n",
       "    .dataframe thead th {\n",
       "        text-align: right;\n",
       "    }\n",
       "</style>\n",
       "<table border=\"1\" class=\"dataframe\">\n",
       "  <thead>\n",
       "    <tr style=\"text-align: right;\">\n",
       "      <th></th>\n",
       "      <th>SepalLengthCm</th>\n",
       "      <th>SepalWidthCm</th>\n",
       "      <th>PetalLengthCm</th>\n",
       "      <th>PetalWidthCm</th>\n",
       "      <th>Species</th>\n",
       "    </tr>\n",
       "  </thead>\n",
       "  <tbody>\n",
       "    <tr>\n",
       "      <th>0</th>\n",
       "      <td>5.1</td>\n",
       "      <td>3.5</td>\n",
       "      <td>1.4</td>\n",
       "      <td>0.2</td>\n",
       "      <td>Iris-setosa</td>\n",
       "    </tr>\n",
       "    <tr>\n",
       "      <th>1</th>\n",
       "      <td>4.9</td>\n",
       "      <td>3.0</td>\n",
       "      <td>1.4</td>\n",
       "      <td>0.2</td>\n",
       "      <td>Iris-setosa</td>\n",
       "    </tr>\n",
       "    <tr>\n",
       "      <th>2</th>\n",
       "      <td>4.7</td>\n",
       "      <td>3.2</td>\n",
       "      <td>1.3</td>\n",
       "      <td>0.2</td>\n",
       "      <td>Iris-setosa</td>\n",
       "    </tr>\n",
       "    <tr>\n",
       "      <th>3</th>\n",
       "      <td>4.6</td>\n",
       "      <td>3.1</td>\n",
       "      <td>1.5</td>\n",
       "      <td>0.2</td>\n",
       "      <td>Iris-setosa</td>\n",
       "    </tr>\n",
       "    <tr>\n",
       "      <th>4</th>\n",
       "      <td>5.0</td>\n",
       "      <td>3.6</td>\n",
       "      <td>1.4</td>\n",
       "      <td>0.2</td>\n",
       "      <td>Iris-setosa</td>\n",
       "    </tr>\n",
       "    <tr>\n",
       "      <th>...</th>\n",
       "      <td>...</td>\n",
       "      <td>...</td>\n",
       "      <td>...</td>\n",
       "      <td>...</td>\n",
       "      <td>...</td>\n",
       "    </tr>\n",
       "    <tr>\n",
       "      <th>145</th>\n",
       "      <td>6.7</td>\n",
       "      <td>3.0</td>\n",
       "      <td>5.2</td>\n",
       "      <td>2.3</td>\n",
       "      <td>Iris-virginica</td>\n",
       "    </tr>\n",
       "    <tr>\n",
       "      <th>146</th>\n",
       "      <td>6.3</td>\n",
       "      <td>2.5</td>\n",
       "      <td>5.0</td>\n",
       "      <td>1.9</td>\n",
       "      <td>Iris-virginica</td>\n",
       "    </tr>\n",
       "    <tr>\n",
       "      <th>147</th>\n",
       "      <td>6.5</td>\n",
       "      <td>3.0</td>\n",
       "      <td>5.2</td>\n",
       "      <td>2.0</td>\n",
       "      <td>Iris-virginica</td>\n",
       "    </tr>\n",
       "    <tr>\n",
       "      <th>148</th>\n",
       "      <td>6.2</td>\n",
       "      <td>3.4</td>\n",
       "      <td>5.4</td>\n",
       "      <td>2.3</td>\n",
       "      <td>Iris-virginica</td>\n",
       "    </tr>\n",
       "    <tr>\n",
       "      <th>149</th>\n",
       "      <td>5.9</td>\n",
       "      <td>3.0</td>\n",
       "      <td>5.1</td>\n",
       "      <td>1.8</td>\n",
       "      <td>Iris-virginica</td>\n",
       "    </tr>\n",
       "  </tbody>\n",
       "</table>\n",
       "<p>150 rows × 5 columns</p>\n",
       "</div>"
      ],
      "text/plain": [
       "     SepalLengthCm  SepalWidthCm  PetalLengthCm  PetalWidthCm         Species\n",
       "0              5.1           3.5            1.4           0.2     Iris-setosa\n",
       "1              4.9           3.0            1.4           0.2     Iris-setosa\n",
       "2              4.7           3.2            1.3           0.2     Iris-setosa\n",
       "3              4.6           3.1            1.5           0.2     Iris-setosa\n",
       "4              5.0           3.6            1.4           0.2     Iris-setosa\n",
       "..             ...           ...            ...           ...             ...\n",
       "145            6.7           3.0            5.2           2.3  Iris-virginica\n",
       "146            6.3           2.5            5.0           1.9  Iris-virginica\n",
       "147            6.5           3.0            5.2           2.0  Iris-virginica\n",
       "148            6.2           3.4            5.4           2.3  Iris-virginica\n",
       "149            5.9           3.0            5.1           1.8  Iris-virginica\n",
       "\n",
       "[150 rows x 5 columns]"
      ]
     },
     "execution_count": 3,
     "metadata": {},
     "output_type": "execute_result"
    }
   ],
   "source": [
    "data_location = '../data/iris/keras/iris.csv'\n",
    "\n",
    "if RUNNING_IN_COLAB:\n",
    "    data_location = \"https://s3.amazonaws.com/elephantscale-public/data/iris/keras/iris.csv\"\n",
    "\n",
    "iris = pd.read_csv(data_location)\n",
    "iris.columns = ['SepalLengthCm', 'SepalWidthCm', 'PetalLengthCm', 'PetalWidthCm','Species']\n",
    "\n",
    "iris"
   ]
  },
  {
   "cell_type": "markdown",
   "metadata": {},
   "source": [
    "## Step 3 : Shape Data\n",
    "\n",
    "### 3.1 - Select columns"
   ]
  },
  {
   "cell_type": "code",
   "execution_count": 4,
   "metadata": {},
   "outputs": [
    {
     "name": "stdout",
     "output_type": "stream",
     "text": [
      "   SepalLengthCm  SepalWidthCm  PetalLengthCm  PetalWidthCm\n",
      "0            5.1           3.5            1.4           0.2\n",
      "1            4.9           3.0            1.4           0.2\n",
      "2            4.7           3.2            1.3           0.2\n",
      "3            4.6           3.1            1.5           0.2\n",
      "4            5.0           3.6            1.4           0.2\n",
      "-----\n",
      "       Species\n",
      "0  Iris-setosa\n",
      "1  Iris-setosa\n",
      "2  Iris-setosa\n",
      "3  Iris-setosa\n",
      "4  Iris-setosa\n"
     ]
    }
   ],
   "source": [
    "input_columns = ['SepalLengthCm', 'SepalWidthCm', 'PetalLengthCm', 'PetalWidthCm']\n",
    "x = iris [input_columns]\n",
    "y = iris[['Species']]\n",
    "\n",
    "print (x.head())\n",
    "print('-----')\n",
    "print (y.head())"
   ]
  },
  {
   "cell_type": "markdown",
   "metadata": {},
   "source": [
    "### 3.2 - Encode Labels\n",
    "Our output labels are strings like 'Iris-setosa' and 'Iris-virginica' ..etc.  \n",
    "These are called **categorical variables**  \n",
    "We need to change these to numbers  \n",
    "This is called **encoding**"
   ]
  },
  {
   "cell_type": "code",
   "execution_count": 5,
   "metadata": {},
   "outputs": [
    {
     "name": "stdout",
     "output_type": "stream",
     "text": [
      "[0 0 0 0 0 0 0 0 0 0 0 0 0 0 0 0 0 0 0 0 0 0 0 0 0 0 0 0 0 0 0 0 0 0 0 0 0\n",
      " 0 0 0 0 0 0 0 0 0 0 0 0 0 1 1 1 1 1 1 1 1 1 1 1 1 1 1 1 1 1 1 1 1 1 1 1 1\n",
      " 1 1 1 1 1 1 1 1 1 1 1 1 1 1 1 1 1 1 1 1 1 1 1 1 1 1 2 2 2 2 2 2 2 2 2 2 2\n",
      " 2 2 2 2 2 2 2 2 2 2 2 2 2 2 2 2 2 2 2 2 2 2 2 2 2 2 2 2 2 2 2 2 2 2 2 2 2\n",
      " 2 2]\n"
     ]
    },
    {
     "name": "stderr",
     "output_type": "stream",
     "text": [
      "/home/ubuntu/apps/anaconda/lib/python3.7/site-packages/sklearn/preprocessing/_label.py:251: DataConversionWarning: A column-vector y was passed when a 1d array was expected. Please change the shape of y to (n_samples, ), for example using ravel().\n",
      "  y = column_or_1d(y, warn=True)\n"
     ]
    }
   ],
   "source": [
    "from sklearn.preprocessing import LabelEncoder\n",
    "encoder =  LabelEncoder()\n",
    "y1 = encoder.fit_transform(y.values) ## need y.values which is an array\n",
    "print(y1)"
   ]
  },
  {
   "cell_type": "markdown",
   "metadata": {},
   "source": [
    "### 3.3 - Create train/test split"
   ]
  },
  {
   "cell_type": "code",
   "execution_count": 6,
   "metadata": {},
   "outputs": [
    {
     "name": "stdout",
     "output_type": "stream",
     "text": [
      "x_train.shape :  (120, 4)\n",
      "y_train.shape :  (120,)\n",
      "x_test.shape :  (30, 4)\n",
      "y_test.shape :  (30,)\n"
     ]
    }
   ],
   "source": [
    "from sklearn.model_selection import train_test_split\n",
    "\n",
    "# supply 'y1' (encoded labels)\n",
    "x_train,x_test, y_train,y_test = train_test_split(x,y1,test_size=0.2,random_state=0) \n",
    "\n",
    "print (\"x_train.shape : \", x_train.shape)\n",
    "print (\"y_train.shape : \", y_train.shape)\n",
    "print (\"x_test.shape : \", x_test.shape)\n",
    "print (\"y_test.shape : \", y_test.shape)"
   ]
  },
  {
   "cell_type": "markdown",
   "metadata": {},
   "source": [
    "## Step 4 : Build the Model\n",
    "Since this is a classifier, here is how we are going to build the neural network\n",
    "- Neurons in Input layer  = input dimensions (4 here)\n",
    "- Neurons in hidden layer = ???\n",
    "- Neurons in Output layer = output classes (3 here)\n",
    "- Output activation is 'softmax'\n",
    "\n",
    "### TODO : Sketch the neural net\n",
    "- What is the input dimensions\n",
    "- how many neurons in layers\n",
    "- how many output neurons\n",
    "\n",
    "<img src=\"../assets/images/neural-net-unknown.png\" style=\"width:40%\"/>"
   ]
  },
  {
   "cell_type": "code",
   "execution_count": 7,
   "metadata": {},
   "outputs": [
    {
     "name": "stdout",
     "output_type": "stream",
     "text": [
      "input_dim :  4 , output classes :  3\n",
      "Model: \"sequential\"\n",
      "_________________________________________________________________\n",
      "Layer (type)                 Output Shape              Param #   \n",
      "=================================================================\n",
      "dense (Dense)                (None, 4)                 20        \n",
      "_________________________________________________________________\n",
      "dense_1 (Dense)              (None, 64)                320       \n",
      "_________________________________________________________________\n",
      "dense_2 (Dense)              (None, 3)                 195       \n",
      "=================================================================\n",
      "Total params: 535\n",
      "Trainable params: 535\n",
      "Non-trainable params: 0\n",
      "_________________________________________________________________\n",
      "None\n"
     ]
    },
    {
     "data": {
      "image/png": "[encoded data removed]",
      "text/plain": [
       "<IPython.core.display.Image object>"
      ]
     },
     "execution_count": 7,
     "metadata": {},
     "output_type": "execute_result"
    }
   ],
   "source": [
    "input_dim = len(input_columns)\n",
    "output_clases = 3 \n",
    "print (\"input_dim : \", input_dim, \", output classes : \", output_clases)\n",
    "\n",
    "model = tf.keras.Sequential([\n",
    "            tf.keras.layers.Dense(units=input_dim, activation=tf.nn.relu, input_dim=input_dim),\n",
    "            tf.keras.layers.Dense(units=64, activation=tf.nn.relu),\n",
    "            tf.keras.layers.Dense(units=output_clases,  activation=tf.nn.softmax)\n",
    "            ])\n",
    "\n",
    "# loss = 'sparse_categorical_crossentropy'  or 'categorical_crossentropy'\n",
    "model.compile(loss='sparse_categorical_crossentropy', \n",
    "                 optimizer=tf.keras.optimizers.Adam(), # or 'adam', \n",
    "                 metrics=['accuracy'])\n",
    "\n",
    "print (model.summary())\n",
    "\n",
    "tf.keras.utils.plot_model(model, to_file='model.png', show_shapes=True)"
   ]
  },
  {
   "cell_type": "markdown",
   "metadata": {},
   "source": [
    "## Step 5 : Tensorboard"
   ]
  },
  {
   "cell_type": "code",
   "execution_count": 8,
   "metadata": {},
   "outputs": [
    {
     "name": "stdout",
     "output_type": "stream",
     "text": [
      "Saving TB logs to :  /tmp/tensorboard-logs/classification-iris-1/2020-02-05--18-47-10\n"
     ]
    }
   ],
   "source": [
    "## This is fairly boiler plate code\n",
    "\n",
    "import datetime\n",
    "import os\n",
    "\n",
    "app_name = 'classification-iris-1' # you can change this, if you like\n",
    "\n",
    "tb_top_level_dir= '/tmp/tensorboard-logs'\n",
    "tensorboard_logs_dir= os.path.join (tb_top_level_dir, app_name, \n",
    "                                    datetime.datetime.now().strftime(\"%Y-%m-%d--%H-%M-%S\"))\n",
    "print (\"Saving TB logs to : \" , tensorboard_logs_dir)\n",
    "\n",
    "tensorboard_callback = tf.keras.callbacks.TensorBoard(log_dir=tensorboard_logs_dir, histogram_freq=1)\n",
    "\n",
    "# Loading of tensorboard in Colab\n",
    "if RUNNING_IN_COLAB:\n",
    "    %load_ext tensorboard\n",
    "    %tensorboard --logdir $tb_top_level_dir"
   ]
  },
  {
   "cell_type": "markdown",
   "metadata": {},
   "source": [
    "## Step 6 : Train"
   ]
  },
  {
   "cell_type": "code",
   "execution_count": 9,
   "metadata": {},
   "outputs": [
    {
     "name": "stdout",
     "output_type": "stream",
     "text": [
      "training starting ...\n",
      "WARNING:tensorflow:Falling back from v2 loop because of error: Failed to find data adapter that can handle input: <class 'pandas.core.frame.DataFrame'>, <class 'NoneType'>\n",
      "Train on 96 samples, validate on 24 samples\n",
      "Epoch 1/100\n",
      "96/96 [==============================] - 1s 8ms/sample - loss: 2.1204 - accuracy: 0.2708 - val_loss: 1.5499 - val_accuracy: 0.4583\n",
      "Epoch 2/100\n",
      "96/96 [==============================] - 0s 1ms/sample - loss: 1.8996 - accuracy: 0.2708 - val_loss: 1.4221 - val_accuracy: 0.4583\n",
      "Epoch 3/100\n",
      "96/96 [==============================] - 0s 1ms/sample - loss: 1.7208 - accuracy: 0.2708 - val_loss: 1.3114 - val_accuracy: 0.4583\n",
      "Epoch 4/100\n",
      "96/96 [==============================] - 0s 959us/sample - loss: 1.5518 - accuracy: 0.2708 - val_loss: 1.2186 - val_accuracy: 0.4583\n",
      "Epoch 5/100\n",
      "96/96 [==============================] - 0s 863us/sample - loss: 1.4080 - accuracy: 0.2708 - val_loss: 1.1422 - val_accuracy: 0.4583\n",
      "Epoch 6/100\n",
      "96/96 [==============================] - 0s 1ms/sample - loss: 1.2905 - accuracy: 0.2708 - val_loss: 1.0828 - val_accuracy: 0.4583\n",
      "Epoch 7/100\n",
      "96/96 [==============================] - 0s 716us/sample - loss: 1.1866 - accuracy: 0.2917 - val_loss: 1.0390 - val_accuracy: 0.6667\n",
      "Epoch 8/100\n",
      "96/96 [==============================] - 0s 819us/sample - loss: 1.1077 - accuracy: 0.6042 - val_loss: 1.0085 - val_accuracy: 0.7083\n",
      "Epoch 9/100\n",
      "96/96 [==============================] - 0s 1ms/sample - loss: 1.0410 - accuracy: 0.6146 - val_loss: 0.9901 - val_accuracy: 0.7083\n",
      "Epoch 10/100\n",
      "96/96 [==============================] - 0s 1ms/sample - loss: 0.9890 - accuracy: 0.6146 - val_loss: 0.9805 - val_accuracy: 0.7083\n",
      "Epoch 11/100\n",
      "96/96 [==============================] - 0s 762us/sample - loss: 0.9525 - accuracy: 0.7188 - val_loss: 0.9762 - val_accuracy: 0.5833\n",
      "Epoch 12/100\n",
      "96/96 [==============================] - 0s 699us/sample - loss: 0.9277 - accuracy: 0.7500 - val_loss: 0.9757 - val_accuracy: 0.5417\n",
      "Epoch 13/100\n",
      "96/96 [==============================] - 0s 1ms/sample - loss: 0.9073 - accuracy: 0.7292 - val_loss: 0.9772 - val_accuracy: 0.5417\n",
      "Epoch 14/100\n",
      "96/96 [==============================] - 0s 859us/sample - loss: 0.8869 - accuracy: 0.7292 - val_loss: 0.9772 - val_accuracy: 0.5417\n",
      "Epoch 15/100\n",
      "96/96 [==============================] - 0s 2ms/sample - loss: 0.8695 - accuracy: 0.7292 - val_loss: 0.9736 - val_accuracy: 0.5417\n",
      "Epoch 16/100\n",
      "96/96 [==============================] - 0s 807us/sample - loss: 0.8551 - accuracy: 0.7292 - val_loss: 0.9673 - val_accuracy: 0.5417\n",
      "Epoch 17/100\n",
      "96/96 [==============================] - 0s 794us/sample - loss: 0.8399 - accuracy: 0.7292 - val_loss: 0.9572 - val_accuracy: 0.5417\n",
      "Epoch 18/100\n",
      "96/96 [==============================] - 0s 999us/sample - loss: 0.8254 - accuracy: 0.7292 - val_loss: 0.9457 - val_accuracy: 0.5417\n",
      "Epoch 19/100\n",
      "96/96 [==============================] - 0s 966us/sample - loss: 0.8107 - accuracy: 0.7292 - val_loss: 0.9320 - val_accuracy: 0.5417\n",
      "Epoch 20/100\n",
      "96/96 [==============================] - 0s 875us/sample - loss: 0.7964 - accuracy: 0.7292 - val_loss: 0.9179 - val_accuracy: 0.5417\n",
      "Epoch 21/100\n",
      "96/96 [==============================] - 0s 908us/sample - loss: 0.7813 - accuracy: 0.7292 - val_loss: 0.9014 - val_accuracy: 0.5417\n",
      "Epoch 22/100\n",
      "96/96 [==============================] - 0s 696us/sample - loss: 0.7665 - accuracy: 0.7292 - val_loss: 0.8855 - val_accuracy: 0.5417\n",
      "Epoch 23/100\n",
      "96/96 [==============================] - 0s 728us/sample - loss: 0.7517 - accuracy: 0.7292 - val_loss: 0.8687 - val_accuracy: 0.5417\n",
      "Epoch 24/100\n",
      "96/96 [==============================] - 0s 759us/sample - loss: 0.7373 - accuracy: 0.7292 - val_loss: 0.8534 - val_accuracy: 0.5417\n",
      "Epoch 25/100\n",
      "96/96 [==============================] - 0s 819us/sample - loss: 0.7241 - accuracy: 0.7292 - val_loss: 0.8376 - val_accuracy: 0.5417\n",
      "Epoch 26/100\n",
      "96/96 [==============================] - 0s 573us/sample - loss: 0.7103 - accuracy: 0.7292 - val_loss: 0.8227 - val_accuracy: 0.5417\n",
      "Epoch 27/100\n",
      "96/96 [==============================] - 0s 675us/sample - loss: 0.6969 - accuracy: 0.7292 - val_loss: 0.8097 - val_accuracy: 0.5417\n",
      "Epoch 28/100\n",
      "96/96 [==============================] - 0s 749us/sample - loss: 0.6836 - accuracy: 0.7292 - val_loss: 0.7973 - val_accuracy: 0.5417\n",
      "Epoch 29/100\n",
      "96/96 [==============================] - 0s 755us/sample - loss: 0.6711 - accuracy: 0.7292 - val_loss: 0.7860 - val_accuracy: 0.5417\n",
      "Epoch 30/100\n",
      "96/96 [==============================] - 0s 639us/sample - loss: 0.6587 - accuracy: 0.7292 - val_loss: 0.7762 - val_accuracy: 0.5417\n",
      "Epoch 31/100\n",
      "96/96 [==============================] - 0s 554us/sample - loss: 0.6464 - accuracy: 0.7292 - val_loss: 0.7649 - val_accuracy: 0.5417\n",
      "Epoch 32/100\n",
      "96/96 [==============================] - 0s 1ms/sample - loss: 0.6348 - accuracy: 0.7292 - val_loss: 0.7558 - val_accuracy: 0.5417\n",
      "Epoch 33/100\n",
      "96/96 [==============================] - 0s 485us/sample - loss: 0.6233 - accuracy: 0.7292 - val_loss: 0.7462 - val_accuracy: 0.5417\n",
      "Epoch 34/100\n",
      "96/96 [==============================] - 0s 588us/sample - loss: 0.6124 - accuracy: 0.7292 - val_loss: 0.7374 - val_accuracy: 0.5417\n",
      "Epoch 35/100\n",
      "96/96 [==============================] - 0s 2ms/sample - loss: 0.6023 - accuracy: 0.7292 - val_loss: 0.7296 - val_accuracy: 0.5417\n",
      "Epoch 36/100\n",
      "96/96 [==============================] - 0s 2ms/sample - loss: 0.5917 - accuracy: 0.7292 - val_loss: 0.7204 - val_accuracy: 0.5417\n",
      "Epoch 37/100\n",
      "96/96 [==============================] - 0s 1ms/sample - loss: 0.5817 - accuracy: 0.7292 - val_loss: 0.7105 - val_accuracy: 0.5417\n",
      "Epoch 38/100\n",
      "96/96 [==============================] - 0s 925us/sample - loss: 0.5721 - accuracy: 0.7292 - val_loss: 0.7007 - val_accuracy: 0.5417\n",
      "Epoch 39/100\n",
      "96/96 [==============================] - 0s 940us/sample - loss: 0.5629 - accuracy: 0.7292 - val_loss: 0.6917 - val_accuracy: 0.5417\n",
      "Epoch 40/100\n",
      "96/96 [==============================] - 0s 1ms/sample - loss: 0.5537 - accuracy: 0.7292 - val_loss: 0.6813 - val_accuracy: 0.5417\n",
      "Epoch 41/100\n",
      "96/96 [==============================] - 0s 1ms/sample - loss: 0.5450 - accuracy: 0.7292 - val_loss: 0.6729 - val_accuracy: 0.5417\n",
      "Epoch 42/100\n",
      "96/96 [==============================] - ETA: 0s - loss: 0.5829 - accuracy: 0.62 - 0s 940us/sample - loss: 0.5371 - accuracy: 0.7396 - val_loss: 0.6615 - val_accuracy: 0.5417\n",
      "Epoch 43/100\n",
      "96/96 [==============================] - 0s 971us/sample - loss: 0.5283 - accuracy: 0.7396 - val_loss: 0.6549 - val_accuracy: 0.5417\n",
      "Epoch 44/100\n",
      "96/96 [==============================] - 0s 992us/sample - loss: 0.5207 - accuracy: 0.7396 - val_loss: 0.6444 - val_accuracy: 0.5833\n",
      "Epoch 45/100\n",
      "96/96 [==============================] - 0s 1ms/sample - loss: 0.5122 - accuracy: 0.7396 - val_loss: 0.6371 - val_accuracy: 0.5833\n",
      "Epoch 46/100\n",
      "96/96 [==============================] - 0s 883us/sample - loss: 0.5054 - accuracy: 0.7396 - val_loss: 0.6324 - val_accuracy: 0.5833\n",
      "Epoch 47/100\n",
      "96/96 [==============================] - 0s 936us/sample - loss: 0.4958 - accuracy: 0.7396 - val_loss: 0.6236 - val_accuracy: 0.5833\n",
      "Epoch 48/100\n",
      "96/96 [==============================] - 0s 862us/sample - loss: 0.4881 - accuracy: 0.7500 - val_loss: 0.6150 - val_accuracy: 0.5833\n",
      "Epoch 49/100\n",
      "96/96 [==============================] - 0s 2ms/sample - loss: 0.4809 - accuracy: 0.7500 - val_loss: 0.6065 - val_accuracy: 0.5833\n",
      "Epoch 50/100\n",
      "96/96 [==============================] - 0s 737us/sample - loss: 0.4739 - accuracy: 0.7500 - val_loss: 0.5985 - val_accuracy: 0.5833\n",
      "Epoch 51/100\n",
      "96/96 [==============================] - 0s 1ms/sample - loss: 0.4668 - accuracy: 0.7604 - val_loss: 0.5912 - val_accuracy: 0.5833\n",
      "Epoch 52/100\n",
      "96/96 [==============================] - 0s 1ms/sample - loss: 0.4599 - accuracy: 0.7604 - val_loss: 0.5827 - val_accuracy: 0.5833\n",
      "Epoch 53/100\n",
      "96/96 [==============================] - 0s 867us/sample - loss: 0.4535 - accuracy: 0.7917 - val_loss: 0.5751 - val_accuracy: 0.6250\n",
      "Epoch 54/100\n",
      "96/96 [==============================] - 0s 680us/sample - loss: 0.4477 - accuracy: 0.8021 - val_loss: 0.5646 - val_accuracy: 0.6667\n",
      "Epoch 55/100\n",
      "96/96 [==============================] - 0s 935us/sample - loss: 0.4412 - accuracy: 0.8021 - val_loss: 0.5556 - val_accuracy: 0.6667\n",
      "Epoch 56/100\n",
      "96/96 [==============================] - 0s 750us/sample - loss: 0.4345 - accuracy: 0.8021 - val_loss: 0.5492 - val_accuracy: 0.7083\n",
      "Epoch 57/100\n",
      "96/96 [==============================] - 0s 816us/sample - loss: 0.4287 - accuracy: 0.8021 - val_loss: 0.5444 - val_accuracy: 0.7083\n",
      "Epoch 58/100\n",
      "96/96 [==============================] - 0s 794us/sample - loss: 0.4228 - accuracy: 0.8021 - val_loss: 0.5370 - val_accuracy: 0.7083\n",
      "Epoch 59/100\n",
      "96/96 [==============================] - 0s 748us/sample - loss: 0.4170 - accuracy: 0.8125 - val_loss: 0.5318 - val_accuracy: 0.7083\n",
      "Epoch 60/100\n",
      "96/96 [==============================] - 0s 327us/sample - loss: 0.4119 - accuracy: 0.8229 - val_loss: 0.5254 - val_accuracy: 0.7500\n",
      "Epoch 61/100\n",
      "96/96 [==============================] - 0s 871us/sample - loss: 0.4059 - accuracy: 0.8333 - val_loss: 0.5185 - val_accuracy: 0.7500\n",
      "Epoch 62/100\n",
      "96/96 [==============================] - 0s 972us/sample - loss: 0.4003 - accuracy: 0.8438 - val_loss: 0.5099 - val_accuracy: 0.7917\n",
      "Epoch 63/100\n",
      "96/96 [==============================] - 0s 1ms/sample - loss: 0.3947 - accuracy: 0.8542 - val_loss: 0.5034 - val_accuracy: 0.8333\n",
      "Epoch 64/100\n",
      "96/96 [==============================] - 0s 939us/sample - loss: 0.3896 - accuracy: 0.8542 - val_loss: 0.4956 - val_accuracy: 0.8333\n",
      "Epoch 65/100\n",
      "96/96 [==============================] - 0s 938us/sample - loss: 0.3843 - accuracy: 0.8646 - val_loss: 0.4881 - val_accuracy: 0.8333\n",
      "Epoch 66/100\n",
      "96/96 [==============================] - 0s 651us/sample - loss: 0.3791 - accuracy: 0.8750 - val_loss: 0.4816 - val_accuracy: 0.8333\n",
      "Epoch 67/100\n",
      "96/96 [==============================] - 0s 515us/sample - loss: 0.3749 - accuracy: 0.8854 - val_loss: 0.4787 - val_accuracy: 0.8333\n",
      "Epoch 68/100\n",
      "96/96 [==============================] - 0s 874us/sample - loss: 0.3689 - accuracy: 0.8854 - val_loss: 0.4706 - val_accuracy: 0.8333\n",
      "Epoch 69/100\n",
      "96/96 [==============================] - 0s 931us/sample - loss: 0.3640 - accuracy: 0.8958 - val_loss: 0.4624 - val_accuracy: 0.8333\n",
      "Epoch 70/100\n",
      "96/96 [==============================] - 0s 665us/sample - loss: 0.3592 - accuracy: 0.8958 - val_loss: 0.4562 - val_accuracy: 0.8333\n",
      "Epoch 71/100\n",
      "96/96 [==============================] - 0s 748us/sample - loss: 0.3542 - accuracy: 0.9062 - val_loss: 0.4506 - val_accuracy: 0.8333\n",
      "Epoch 72/100\n",
      "96/96 [==============================] - 0s 910us/sample - loss: 0.3496 - accuracy: 0.9062 - val_loss: 0.4440 - val_accuracy: 0.8750\n",
      "Epoch 73/100\n",
      "96/96 [==============================] - 0s 509us/sample - loss: 0.3448 - accuracy: 0.9167 - val_loss: 0.4375 - val_accuracy: 0.8750\n",
      "Epoch 74/100\n",
      "96/96 [==============================] - 0s 608us/sample - loss: 0.3402 - accuracy: 0.9167 - val_loss: 0.4314 - val_accuracy: 0.8750\n",
      "Epoch 75/100\n",
      "96/96 [==============================] - 0s 498us/sample - loss: 0.3355 - accuracy: 0.9167 - val_loss: 0.4275 - val_accuracy: 0.8750\n",
      "Epoch 76/100\n",
      "96/96 [==============================] - 0s 459us/sample - loss: 0.3309 - accuracy: 0.9271 - val_loss: 0.4215 - val_accuracy: 0.8750\n",
      "Epoch 77/100\n",
      "96/96 [==============================] - 0s 462us/sample - loss: 0.3263 - accuracy: 0.9271 - val_loss: 0.4164 - val_accuracy: 0.8750\n",
      "Epoch 78/100\n",
      "96/96 [==============================] - ETA: 0s - loss: 0.3415 - accuracy: 0.93 - 0s 1ms/sample - loss: 0.3220 - accuracy: 0.9271 - val_loss: 0.4086 - val_accuracy: 0.8750\n",
      "Epoch 79/100\n",
      "96/96 [==============================] - 0s 494us/sample - loss: 0.3176 - accuracy: 0.9479 - val_loss: 0.4018 - val_accuracy: 0.8750\n",
      "Epoch 80/100\n",
      "96/96 [==============================] - 0s 416us/sample - loss: 0.3132 - accuracy: 0.9583 - val_loss: 0.3962 - val_accuracy: 0.8750\n",
      "Epoch 81/100\n",
      "96/96 [==============================] - 0s 441us/sample - loss: 0.3086 - accuracy: 0.9583 - val_loss: 0.3929 - val_accuracy: 0.8750\n",
      "Epoch 82/100\n",
      "96/96 [==============================] - 0s 460us/sample - loss: 0.3043 - accuracy: 0.9583 - val_loss: 0.3894 - val_accuracy: 0.8750\n",
      "Epoch 83/100\n",
      "96/96 [==============================] - 0s 840us/sample - loss: 0.3004 - accuracy: 0.9583 - val_loss: 0.3824 - val_accuracy: 0.8750\n",
      "Epoch 84/100\n",
      "96/96 [==============================] - 0s 1ms/sample - loss: 0.2959 - accuracy: 0.9583 - val_loss: 0.3772 - val_accuracy: 0.8750\n",
      "Epoch 85/100\n",
      "96/96 [==============================] - 0s 1ms/sample - loss: 0.2920 - accuracy: 0.9583 - val_loss: 0.3725 - val_accuracy: 0.8750\n",
      "Epoch 86/100\n",
      "96/96 [==============================] - 0s 1ms/sample - loss: 0.2880 - accuracy: 0.9583 - val_loss: 0.3655 - val_accuracy: 0.8750\n",
      "Epoch 87/100\n",
      "96/96 [==============================] - 0s 704us/sample - loss: 0.2843 - accuracy: 0.9583 - val_loss: 0.3614 - val_accuracy: 0.8750\n",
      "Epoch 88/100\n",
      "96/96 [==============================] - 0s 560us/sample - loss: 0.2799 - accuracy: 0.9583 - val_loss: 0.3558 - val_accuracy: 0.8750\n",
      "Epoch 89/100\n",
      "96/96 [==============================] - 0s 581us/sample - loss: 0.2763 - accuracy: 0.9583 - val_loss: 0.3477 - val_accuracy: 0.8750\n",
      "Epoch 90/100\n",
      "96/96 [==============================] - 0s 846us/sample - loss: 0.2725 - accuracy: 0.9583 - val_loss: 0.3431 - val_accuracy: 0.8750\n",
      "Epoch 91/100\n",
      "96/96 [==============================] - 0s 780us/sample - loss: 0.2690 - accuracy: 0.9583 - val_loss: 0.3363 - val_accuracy: 0.8750\n",
      "Epoch 92/100\n",
      "96/96 [==============================] - 0s 767us/sample - loss: 0.2652 - accuracy: 0.9583 - val_loss: 0.3336 - val_accuracy: 0.8750\n",
      "Epoch 93/100\n",
      "96/96 [==============================] - 0s 1ms/sample - loss: 0.2612 - accuracy: 0.9583 - val_loss: 0.3303 - val_accuracy: 0.8750\n",
      "Epoch 94/100\n",
      "96/96 [==============================] - 0s 692us/sample - loss: 0.2580 - accuracy: 0.9583 - val_loss: 0.3234 - val_accuracy: 0.8750\n",
      "Epoch 95/100\n",
      "96/96 [==============================] - 0s 594us/sample - loss: 0.2542 - accuracy: 0.9583 - val_loss: 0.3202 - val_accuracy: 0.8750\n",
      "Epoch 96/100\n",
      "96/96 [==============================] - 0s 695us/sample - loss: 0.2509 - accuracy: 0.9583 - val_loss: 0.3147 - val_accuracy: 0.8750\n",
      "Epoch 97/100\n",
      "96/96 [==============================] - 0s 496us/sample - loss: 0.2477 - accuracy: 0.9583 - val_loss: 0.3127 - val_accuracy: 0.8750\n",
      "Epoch 98/100\n",
      "96/96 [==============================] - 0s 853us/sample - loss: 0.2440 - accuracy: 0.9583 - val_loss: 0.3083 - val_accuracy: 0.8750\n",
      "Epoch 99/100\n",
      "96/96 [==============================] - 0s 862us/sample - loss: 0.2408 - accuracy: 0.9583 - val_loss: 0.3030 - val_accuracy: 0.9167\n",
      "Epoch 100/100\n",
      "96/96 [==============================] - 0s 587us/sample - loss: 0.2375 - accuracy: 0.9583 - val_loss: 0.2986 - val_accuracy: 0.9167\n",
      "training done.\n",
      "CPU times: user 14.3 s, sys: 18.9 s, total: 33.3 s\n",
      "Wall time: 10.1 s\n"
     ]
    }
   ],
   "source": [
    "%%time\n",
    "\n",
    "## TODO configure some of these\n",
    "epochs = 100  ## experiment 100, 500, 1000\n",
    "\n",
    "print (\"training starting ...\")\n",
    "history = model.fit(\n",
    "              x_train, y_train,\n",
    "              epochs=epochs, validation_split = 0.2, verbose=1,\n",
    "              callbacks=[tensorboard_callback])\n",
    "\n",
    "print (\"training done.\")"
   ]
  },
  {
   "cell_type": "markdown",
   "metadata": {},
   "source": [
    "## Step 7 : Plot History"
   ]
  },
  {
   "cell_type": "code",
   "execution_count": 10,
   "metadata": {},
   "outputs": [
    {
     "data": {
      "image/png": "[encoded data removed]",
      "text/plain": [
       "<Figure size 432x288 with 1 Axes>"
      ]
     },
     "metadata": {
      "needs_background": "light"
     },
     "output_type": "display_data"
    }
   ],
   "source": [
    "%matplotlib inline\n",
    "import matplotlib.pyplot as plt\n",
    "\n",
    "plt.plot(history.history['accuracy'], label='train_accuracy')\n",
    "plt.plot(history.history['val_accuracy'], label='val_accuracy')\n",
    "plt.legend()\n",
    "plt.show()"
   ]
  },
  {
   "cell_type": "markdown",
   "metadata": {},
   "source": [
    "## Step 8 : Predict"
   ]
  },
  {
   "cell_type": "code",
   "execution_count": 11,
   "metadata": {},
   "outputs": [
    {
     "name": "stdout",
     "output_type": "stream",
     "text": [
      "WARNING:tensorflow:Falling back from v2 loop because of error: Failed to find data adapter that can handle input: <class 'pandas.core.frame.DataFrame'>, <class 'NoneType'>\n"
     ]
    },
    {
     "data": {
      "text/plain": [
       "array([[1.4915523e-03, 9.8838739e-02, 8.9966977e-01],\n",
       "       [5.8555320e-02, 7.1379983e-01, 2.2764485e-01],\n",
       "       [9.8226476e-01, 1.7348032e-02, 3.8723220e-04],\n",
       "       [6.5410649e-04, 9.1161706e-02, 9.0818417e-01],\n",
       "       [9.5869827e-01, 3.9771475e-02, 1.5302596e-03],\n",
       "       [5.7655061e-04, 6.2645413e-02, 9.3677801e-01],\n",
       "       [9.6863896e-01, 3.0328160e-02, 1.0328759e-03],\n",
       "       [3.2414701e-02, 7.0806795e-01, 2.5951728e-01],\n",
       "       [2.5324274e-02, 6.5351218e-01, 3.2116351e-01],\n",
       "       [7.3743165e-02, 7.5423616e-01, 1.7202070e-01],\n",
       "       [1.4496391e-03, 1.0101038e-01, 8.9753991e-01],\n",
       "       [4.0691871e-02, 7.2579288e-01, 2.3351526e-01],\n",
       "       [2.1441564e-02, 5.1648676e-01, 4.6207166e-01],\n",
       "       [2.7557038e-02, 6.3966215e-01, 3.3278075e-01],\n",
       "       [1.9393027e-02, 4.9791506e-01, 4.8269191e-01],\n",
       "       [9.5075822e-01, 4.7175564e-02, 2.0662791e-03],\n",
       "       [2.4912722e-02, 5.5120677e-01, 4.2388043e-01],\n",
       "       [2.0059392e-02, 4.2833826e-01, 5.5160236e-01],\n",
       "       [9.4565177e-01, 5.1997304e-02, 2.3510291e-03],\n",
       "       [9.7871828e-01, 2.0779384e-02, 5.0244236e-04],\n",
       "       [2.9865806e-03, 1.4577101e-01, 8.5124248e-01],\n",
       "       [1.8957755e-02, 4.3765509e-01, 5.4338717e-01],\n",
       "       [9.0877873e-01, 8.6548120e-02, 4.6732426e-03],\n",
       "       [9.3023449e-01, 6.5872155e-02, 3.8933626e-03],\n",
       "       [1.0202552e-02, 3.7090373e-01, 6.1889374e-01],\n",
       "       [9.7453791e-01, 2.4574459e-02, 8.8755484e-04],\n",
       "       [9.3124539e-01, 6.6041790e-02, 2.7127857e-03],\n",
       "       [4.7993299e-02, 7.3070294e-01, 2.2130376e-01],\n",
       "       [1.1384836e-01, 6.8922764e-01, 1.9692400e-01],\n",
       "       [9.4345510e-01, 5.4332539e-02, 2.2123689e-03]], dtype=float32)"
      ]
     },
     "execution_count": 11,
     "metadata": {},
     "output_type": "execute_result"
    }
   ],
   "source": [
    "predictions = model.predict(x_test)\n",
    "predictions"
   ]
  },
  {
   "cell_type": "markdown",
   "metadata": {},
   "source": [
    "### Understanding Predictions\n",
    "In the above output, for each test input, the softmax layer, produces 3 numbers.  \n",
    "These numbers are probabilities.  If you add them up, you will get 1.0  \n",
    "We want to choose the output that has the highest probability.  \n",
    "\n",
    "For example `(0.03086184, 0.33362046, 0.6355177)` means  \n",
    "- class 1 has prob of 0.03  or 3%\n",
    "- class 2 has prob of 0.33  or 33%\n",
    "- class 3 has prob of 0.63  or 63%\n",
    "\n",
    "So we choose the class with highest probability as prediction : class 3\n",
    "\n",
    "\n",
    "We can get class predictions directly as follows"
   ]
  },
  {
   "cell_type": "code",
   "execution_count": 12,
   "metadata": {},
   "outputs": [
    {
     "name": "stdout",
     "output_type": "stream",
     "text": [
      "WARNING:tensorflow:Falling back from v2 loop because of error: Failed to find data adapter that can handle input: <class 'pandas.core.frame.DataFrame'>, <class 'NoneType'>\n"
     ]
    },
    {
     "data": {
      "text/plain": [
       "array([2, 1, 0, 2, 0, 2, 0, 1, 1, 1, 2, 1, 1, 1, 1, 0, 1, 2, 0, 0, 2, 2,\n",
       "       0, 0, 2, 0, 0, 1, 1, 0])"
      ]
     },
     "execution_count": 12,
     "metadata": {},
     "output_type": "execute_result"
    }
   ],
   "source": [
    "## Use 'predict_classes' instead of 'predict'\n",
    "y_pred = model.predict_classes(x_test)\n",
    "y_pred"
   ]
  },
  {
   "cell_type": "markdown",
   "metadata": {},
   "source": [
    "## Step 9 : Evaluate the model\n",
    "\n",
    "### 9.1 - Print out metrics"
   ]
  },
  {
   "cell_type": "code",
   "execution_count": 13,
   "metadata": {},
   "outputs": [
    {
     "name": "stdout",
     "output_type": "stream",
     "text": [
      "model metrics :  ['loss', 'accuracy']\n",
      "WARNING:tensorflow:Falling back from v2 loop because of error: Failed to find data adapter that can handle input: <class 'pandas.core.frame.DataFrame'>, <class 'NoneType'>\n",
      "Metric : loss = 0.27\n",
      "Metric : accuracy = 0.93\n"
     ]
    }
   ],
   "source": [
    "metric_names = model.metrics_names\n",
    "print (\"model metrics : \" , metric_names)\n",
    "\n",
    "metrics = model.evaluate(x_test, y_test, verbose=0)\n",
    "\n",
    "for idx, metric in enumerate(metric_names):\n",
    "    print (\"Metric : {} = {:,.2f}\".format (metric_names[idx], metrics[idx]))"
   ]
  },
  {
   "cell_type": "markdown",
   "metadata": {},
   "source": [
    "### 9.2 - Confussion Matrix\n",
    "Since this is a classification problem, confusion matrix is very effective way to evaluate our model"
   ]
  },
  {
   "cell_type": "code",
   "execution_count": 14,
   "metadata": {},
   "outputs": [
    {
     "data": {
      "text/plain": [
       "array([[11,  0,  0],\n",
       "       [ 0, 11,  2],\n",
       "       [ 0,  0,  6]])"
      ]
     },
     "execution_count": 14,
     "metadata": {},
     "output_type": "execute_result"
    }
   ],
   "source": [
    "## plain confusion matrix \n",
    "\n",
    "from sklearn.metrics import confusion_matrix\n",
    "import seaborn as sns\n",
    "\n",
    "cm = confusion_matrix(y_test, y_pred, labels = [0,1,2])\n",
    "cm\n"
   ]
  },
  {
   "cell_type": "code",
   "execution_count": 15,
   "metadata": {},
   "outputs": [
    {
     "data": {
      "text/plain": [
       "[]"
      ]
     },
     "execution_count": 15,
     "metadata": {},
     "output_type": "execute_result"
    },
    {
     "data": {
      "image/png": "[encoded data removed]",
      "text/plain": [
       "<Figure size 576x360 with 2 Axes>"
      ]
     },
     "metadata": {
      "needs_background": "light"
     },
     "output_type": "display_data"
    }
   ],
   "source": [
    "import matplotlib.pyplot as plt\n",
    "import seaborn as sns\n",
    "\n",
    "plt.figure(figsize = (8,5))\n",
    "\n",
    "# colormaps : cmap=\"YlGnBu\" , cmap=\"Greens\", cmap=\"Blues\",  cmap=\"Reds\"\n",
    "sns.heatmap(cm, annot=True, cmap=\"Reds\", fmt='d').plot()"
   ]
  },
  {
   "cell_type": "markdown",
   "metadata": {},
   "source": [
    "### 9.3 - Metrics calculated from Confusion Matrix"
   ]
  },
  {
   "cell_type": "code",
   "execution_count": 16,
   "metadata": {},
   "outputs": [
    {
     "name": "stdout",
     "output_type": "stream",
     "text": [
      "{'0': {'f1-score': 1.0, 'precision': 1.0, 'recall': 1.0, 'support': 11},\n",
      " '1': {'f1-score': 0.9166666666666666,\n",
      "       'precision': 1.0,\n",
      "       'recall': 0.8461538461538461,\n",
      "       'support': 13},\n",
      " '2': {'f1-score': 0.8571428571428571,\n",
      "       'precision': 0.75,\n",
      "       'recall': 1.0,\n",
      "       'support': 6},\n",
      " 'accuracy': 0.9333333333333333,\n",
      " 'macro avg': {'f1-score': 0.9246031746031745,\n",
      "               'precision': 0.9166666666666666,\n",
      "               'recall': 0.9487179487179488,\n",
      "               'support': 30},\n",
      " 'weighted avg': {'f1-score': 0.9353174603174602,\n",
      "                  'precision': 0.95,\n",
      "                  'recall': 0.9333333333333333,\n",
      "                  'support': 30}}\n"
     ]
    }
   ],
   "source": [
    "from sklearn.metrics import classification_report\n",
    "from pprint import pprint\n",
    "\n",
    "pprint(classification_report(y_test, y_pred, output_dict=True))"
   ]
  },
  {
   "cell_type": "markdown",
   "metadata": {},
   "source": [
    "### TODO : Intepret confusion matrix\n",
    "Instructor will walk you through the matrix.  \n",
    "Answer these questions\n",
    "- which class is classified correctly mostly\n",
    "- which class is classified incorrectly?"
   ]
  },
  {
   "cell_type": "markdown",
   "metadata": {},
   "source": [
    "## Step 10 : Improve the Model\n",
    "\n",
    "Inspect the following\n",
    "- What is the metric 'accuracy' in step 9.1\n",
    "- And verify this with tensorboard (port 6066)\n",
    "\n",
    "Most likely, we didn't get a great accuracy.  \n",
    "How can we improve it?\n",
    "\n",
    "**Try the following ideas** \n",
    "\n",
    "- **Idea-1 : Increase neurons in hidden layer**  \n",
    "  - In Step-4, increase hidden layer neurons from 8 --> 64  \n",
    "  - Click 'Kernel --> Restart and Run all Cells'  \n",
    "  - Hopefully you should see improvement in the accuracy.  \n",
    "  - Check  accuracy metrics / confusion matrix / tensorboard"
   ]
  },
  {
   "cell_type": "markdown",
   "metadata": {},
   "source": [
    "## Step 11 : Create a compact version of this notebook\n",
    "Start another notebook and implement this notebook in the most compact way!"
   ]
  },
  {
   "cell_type": "code",
   "execution_count": null,
   "metadata": {},
   "outputs": [],
   "source": []
  }
 ],
 "metadata": {
  "kernelspec": {
   "display_name": "Python 3",
   "language": "python",
   "name": "python3"
  },
  "language_info": {
   "codemirror_mode": {
    "name": "ipython",
    "version": 3
   },
   "file_extension": ".py",
   "mimetype": "text/x-python",
   "name": "python",
   "nbconvert_exporter": "python",
   "pygments_lexer": "ipython3",
   "version": "3.7.6"
  }
 },
 "nbformat": 4,
 "nbformat_minor": 4
}
