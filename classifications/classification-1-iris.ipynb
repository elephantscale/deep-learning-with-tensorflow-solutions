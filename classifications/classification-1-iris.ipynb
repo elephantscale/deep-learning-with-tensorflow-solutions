{
 "cells": [
  {
   "cell_type": "markdown",
   "metadata": {},
   "source": [
    "## Deep Neural Network (DNN) Classifier - Iris\n",
    "We will build a relataively simple neuran net to classify IRIS dataset "
   ]
  },
  {
   "cell_type": "markdown",
   "metadata": {},
   "source": [
    "## Step 1 - About IRIS Dataset\n",
    "\n",
    "Imagine you are a botanist seeking an automated way to categorize each Iris flower you find. Machine learning provides many algorithms to statistically classify flowers. For instance, a sophisticated machine learning program could classify flowers based on photographs. Our ambitions are more modest—we're going to classify Iris flowers based on the length and width measurements of their [sepals](https://en.wikipedia.org/wiki/Sepal) and [petals](https://en.wikipedia.org/wiki/Petal).\n",
    "\n",
    "The Iris genus entails about 300 species, but our program will only classify the following three:\n",
    "\n",
    "* Iris setosa\n",
    "* Iris virginica\n",
    "* Iris versicolor\n",
    "\n",
    "<table>\n",
    "  <tr><td>\n",
    "    <img src=\"https://www.tensorflow.org/images/iris_three_species.jpg\"\n",
    "         alt=\"Petal geometry compared for three iris species: Iris setosa, Iris virginica, and Iris versicolor\">\n",
    "  </td></tr>\n",
    "  <tr><td align=\"center\">\n",
    "    <b>Figure 1.</b> <a href=\"https://commons.wikimedia.org/w/index.php?curid=170298\">Iris setosa</a> (by <a href=\"https://commons.wikimedia.org/wiki/User:Radomil\">Radomil</a>, CC BY-SA 3.0), <a href=\"https://commons.wikimedia.org/w/index.php?curid=248095\">Iris versicolor</a>, (by <a href=\"https://commons.wikimedia.org/wiki/User:Dlanglois\">Dlanglois</a>, CC BY-SA 3.0), and <a href=\"https://www.flickr.com/photos/33397993@N05/3352169862\">Iris virginica</a> (by <a href=\"https://www.flickr.com/photos/33397993@N05\">Frank Mayfield</a>, CC BY-SA 2.0).<br/>&nbsp;\n",
    "  </td></tr>\n",
    "</table>\n",
    "\n",
    "Fortunately, someone has already created a [data set of 120 Iris flowers](https://en.wikipedia.org/wiki/Iris_flower_data_set) with the sepal and p"
   ]
  },
  {
   "cell_type": "code",
   "execution_count": null,
   "metadata": {},
   "outputs": [],
   "source": [
    "## Determine if we are running on google colab\n",
    "\n",
    "try:\n",
    "    import google.colab\n",
    "    RUNNING_IN_COLAB = True\n",
    "except:\n",
    "    RUNNING_IN_COLAB = False\n",
    "\n",
    "print (\"Running in Google COLAB : \", RUNNING_IN_COLAB)\n"
   ]
  },
  {
   "cell_type": "code",
   "execution_count": 2,
   "metadata": {},
   "outputs": [],
   "source": [
    "%matplotlib inline\n",
    "import numpy as np\n",
    "import pandas as pd\n",
    "import matplotlib.pyplot as plt\n",
    "\n",
    "try:\n",
    "  # %tensorflow_version only exists in Colab.\n",
    "  %tensorflow_version 2.x\n",
    "except Exception:\n",
    "  pass\n",
    "\n",
    "import tensorflow as tf\n",
    "from tensorflow import keras"
   ]
  },
  {
   "cell_type": "markdown",
   "metadata": {},
   "source": [
    "## Step 2 : Read Data"
   ]
  },
  {
   "cell_type": "code",
   "execution_count": 3,
   "metadata": {},
   "outputs": [
    {
     "data": {
      "text/html": [
       "<div>\n",
       "<style scoped>\n",
       "    .dataframe tbody tr th:only-of-type {\n",
       "        vertical-align: middle;\n",
       "    }\n",
       "\n",
       "    .dataframe tbody tr th {\n",
       "        vertical-align: top;\n",
       "    }\n",
       "\n",
       "    .dataframe thead th {\n",
       "        text-align: right;\n",
       "    }\n",
       "</style>\n",
       "<table border=\"1\" class=\"dataframe\">\n",
       "  <thead>\n",
       "    <tr style=\"text-align: right;\">\n",
       "      <th></th>\n",
       "      <th>SepalLengthCm</th>\n",
       "      <th>SepalWidthCm</th>\n",
       "      <th>PetalLengthCm</th>\n",
       "      <th>PetalWidthCm</th>\n",
       "      <th>Species</th>\n",
       "    </tr>\n",
       "  </thead>\n",
       "  <tbody>\n",
       "    <tr>\n",
       "      <th>0</th>\n",
       "      <td>5.1</td>\n",
       "      <td>3.5</td>\n",
       "      <td>1.4</td>\n",
       "      <td>0.2</td>\n",
       "      <td>Iris-setosa</td>\n",
       "    </tr>\n",
       "    <tr>\n",
       "      <th>1</th>\n",
       "      <td>4.9</td>\n",
       "      <td>3.0</td>\n",
       "      <td>1.4</td>\n",
       "      <td>0.2</td>\n",
       "      <td>Iris-setosa</td>\n",
       "    </tr>\n",
       "    <tr>\n",
       "      <th>2</th>\n",
       "      <td>4.7</td>\n",
       "      <td>3.2</td>\n",
       "      <td>1.3</td>\n",
       "      <td>0.2</td>\n",
       "      <td>Iris-setosa</td>\n",
       "    </tr>\n",
       "    <tr>\n",
       "      <th>3</th>\n",
       "      <td>4.6</td>\n",
       "      <td>3.1</td>\n",
       "      <td>1.5</td>\n",
       "      <td>0.2</td>\n",
       "      <td>Iris-setosa</td>\n",
       "    </tr>\n",
       "    <tr>\n",
       "      <th>4</th>\n",
       "      <td>5.0</td>\n",
       "      <td>3.6</td>\n",
       "      <td>1.4</td>\n",
       "      <td>0.2</td>\n",
       "      <td>Iris-setosa</td>\n",
       "    </tr>\n",
       "    <tr>\n",
       "      <th>...</th>\n",
       "      <td>...</td>\n",
       "      <td>...</td>\n",
       "      <td>...</td>\n",
       "      <td>...</td>\n",
       "      <td>...</td>\n",
       "    </tr>\n",
       "    <tr>\n",
       "      <th>145</th>\n",
       "      <td>6.7</td>\n",
       "      <td>3.0</td>\n",
       "      <td>5.2</td>\n",
       "      <td>2.3</td>\n",
       "      <td>Iris-virginica</td>\n",
       "    </tr>\n",
       "    <tr>\n",
       "      <th>146</th>\n",
       "      <td>6.3</td>\n",
       "      <td>2.5</td>\n",
       "      <td>5.0</td>\n",
       "      <td>1.9</td>\n",
       "      <td>Iris-virginica</td>\n",
       "    </tr>\n",
       "    <tr>\n",
       "      <th>147</th>\n",
       "      <td>6.5</td>\n",
       "      <td>3.0</td>\n",
       "      <td>5.2</td>\n",
       "      <td>2.0</td>\n",
       "      <td>Iris-virginica</td>\n",
       "    </tr>\n",
       "    <tr>\n",
       "      <th>148</th>\n",
       "      <td>6.2</td>\n",
       "      <td>3.4</td>\n",
       "      <td>5.4</td>\n",
       "      <td>2.3</td>\n",
       "      <td>Iris-virginica</td>\n",
       "    </tr>\n",
       "    <tr>\n",
       "      <th>149</th>\n",
       "      <td>5.9</td>\n",
       "      <td>3.0</td>\n",
       "      <td>5.1</td>\n",
       "      <td>1.8</td>\n",
       "      <td>Iris-virginica</td>\n",
       "    </tr>\n",
       "  </tbody>\n",
       "</table>\n",
       "<p>150 rows × 5 columns</p>\n",
       "</div>"
      ],
      "text/plain": [
       "     SepalLengthCm  SepalWidthCm  PetalLengthCm  PetalWidthCm         Species\n",
       "0              5.1           3.5            1.4           0.2     Iris-setosa\n",
       "1              4.9           3.0            1.4           0.2     Iris-setosa\n",
       "2              4.7           3.2            1.3           0.2     Iris-setosa\n",
       "3              4.6           3.1            1.5           0.2     Iris-setosa\n",
       "4              5.0           3.6            1.4           0.2     Iris-setosa\n",
       "..             ...           ...            ...           ...             ...\n",
       "145            6.7           3.0            5.2           2.3  Iris-virginica\n",
       "146            6.3           2.5            5.0           1.9  Iris-virginica\n",
       "147            6.5           3.0            5.2           2.0  Iris-virginica\n",
       "148            6.2           3.4            5.4           2.3  Iris-virginica\n",
       "149            5.9           3.0            5.1           1.8  Iris-virginica\n",
       "\n",
       "[150 rows x 5 columns]"
      ]
     },
     "execution_count": 3,
     "metadata": {},
     "output_type": "execute_result"
    }
   ],
   "source": [
    "data_location = '../data/iris/keras/iris.csv'\n",
    "\n",
    "if RUNNING_IN_COLAB:\n",
    "    data_location = \"https://s3.amazonaws.com/elephantscale-public/data/iris/keras/iris.csv\"\n",
    "\n",
    "iris = pd.read_csv(data_location)\n",
    "iris.columns = ['SepalLengthCm', 'SepalWidthCm', 'PetalLengthCm', 'PetalWidthCm','Species']\n",
    "\n",
    "iris"
   ]
  },
  {
   "cell_type": "markdown",
   "metadata": {},
   "source": [
    "## Step 3 : Shape Data\n",
    "\n",
    "### 3.1 - Select columns"
   ]
  },
  {
   "cell_type": "code",
   "execution_count": 4,
   "metadata": {},
   "outputs": [
    {
     "name": "stdout",
     "output_type": "stream",
     "text": [
      "   SepalLengthCm  SepalWidthCm  PetalLengthCm  PetalWidthCm\n",
      "0            5.1           3.5            1.4           0.2\n",
      "1            4.9           3.0            1.4           0.2\n",
      "2            4.7           3.2            1.3           0.2\n",
      "3            4.6           3.1            1.5           0.2\n",
      "4            5.0           3.6            1.4           0.2\n",
      "-----\n",
      "       Species\n",
      "0  Iris-setosa\n",
      "1  Iris-setosa\n",
      "2  Iris-setosa\n",
      "3  Iris-setosa\n",
      "4  Iris-setosa\n"
     ]
    }
   ],
   "source": [
    "input_columns = ['SepalLengthCm', 'SepalWidthCm', 'PetalLengthCm', 'PetalWidthCm']\n",
    "x = iris [input_columns]\n",
    "y = iris[['Species']]\n",
    "\n",
    "print (x.head())\n",
    "print('-----')\n",
    "print (y.head())"
   ]
  },
  {
   "cell_type": "markdown",
   "metadata": {},
   "source": [
    "### 3.2 - Encode Labels\n",
    "Our output labels are strings like 'Iris-setosa' and 'Iris-virginica' ..etc.  \n",
    "These are called **categorical variables**  \n",
    "We need to change these to numbers  \n",
    "This is called **encoding**"
   ]
  },
  {
   "cell_type": "code",
   "execution_count": 5,
   "metadata": {},
   "outputs": [
    {
     "name": "stdout",
     "output_type": "stream",
     "text": [
      "[0 0 0 0 0 0 0 0 0 0 0 0 0 0 0 0 0 0 0 0 0 0 0 0 0 0 0 0 0 0 0 0 0 0 0 0 0\n",
      " 0 0 0 0 0 0 0 0 0 0 0 0 0 1 1 1 1 1 1 1 1 1 1 1 1 1 1 1 1 1 1 1 1 1 1 1 1\n",
      " 1 1 1 1 1 1 1 1 1 1 1 1 1 1 1 1 1 1 1 1 1 1 1 1 1 1 2 2 2 2 2 2 2 2 2 2 2\n",
      " 2 2 2 2 2 2 2 2 2 2 2 2 2 2 2 2 2 2 2 2 2 2 2 2 2 2 2 2 2 2 2 2 2 2 2 2 2\n",
      " 2 2]\n"
     ]
    },
    {
     "name": "stderr",
     "output_type": "stream",
     "text": [
      "/home/ubuntu/apps/anaconda/lib/python3.7/site-packages/sklearn/utils/validation.py:73: DataConversionWarning: A column-vector y was passed when a 1d array was expected. Please change the shape of y to (n_samples, ), for example using ravel().\n",
      "  return f(**kwargs)\n"
     ]
    }
   ],
   "source": [
    "from sklearn.preprocessing import LabelEncoder\n",
    "encoder =  LabelEncoder()\n",
    "y1 = encoder.fit_transform(y.values) ## need y.values which is an array\n",
    "print(y1)"
   ]
  },
  {
   "cell_type": "markdown",
   "metadata": {},
   "source": [
    "### 3.3 - Create train/test split"
   ]
  },
  {
   "cell_type": "code",
   "execution_count": 6,
   "metadata": {},
   "outputs": [
    {
     "name": "stdout",
     "output_type": "stream",
     "text": [
      "x_train.shape :  (120, 4)\n",
      "y_train.shape :  (120,)\n",
      "x_test.shape :  (30, 4)\n",
      "y_test.shape :  (30,)\n"
     ]
    }
   ],
   "source": [
    "from sklearn.model_selection import train_test_split\n",
    "\n",
    "# supply 'y1' (encoded labels)\n",
    "x_train,x_test, y_train,y_test = train_test_split(x,y1,test_size=0.2,random_state=0) \n",
    "\n",
    "print (\"x_train.shape : \", x_train.shape)\n",
    "print (\"y_train.shape : \", y_train.shape)\n",
    "print (\"x_test.shape : \", x_test.shape)\n",
    "print (\"y_test.shape : \", y_test.shape)"
   ]
  },
  {
   "cell_type": "markdown",
   "metadata": {},
   "source": [
    "## Step 4 : Build the Model\n",
    "Since this is a classifier, here is how we are going to build the neural network\n",
    "- Neurons in Input layer  = input dimensions (4 here)\n",
    "- Neurons in hidden layer = ???\n",
    "- Neurons in Output layer = output classes (3 here)\n",
    "- Output activation is 'softmax'\n",
    "\n",
    "### TODO : Sketch the neural net\n",
    "- What is the input dimensions\n",
    "- how many neurons in layers\n",
    "- how many output neurons\n",
    "\n",
    "<img src=\"../assets/images/neural-net-unknown.png\" style=\"width:40%\"/>"
   ]
  },
  {
   "cell_type": "code",
   "execution_count": 7,
   "metadata": {},
   "outputs": [
    {
     "name": "stdout",
     "output_type": "stream",
     "text": [
      "input_dim :  4 , output classes :  3\n",
      "Model: \"sequential\"\n",
      "_________________________________________________________________\n",
      "Layer (type)                 Output Shape              Param #   \n",
      "=================================================================\n",
      "dense (Dense)                (None, 64)                320       \n",
      "_________________________________________________________________\n",
      "dense_1 (Dense)              (None, 32)                2080      \n",
      "_________________________________________________________________\n",
      "dense_2 (Dense)              (None, 3)                 99        \n",
      "=================================================================\n",
      "Total params: 2,499\n",
      "Trainable params: 2,499\n",
      "Non-trainable params: 0\n",
      "_________________________________________________________________\n",
      "None\n"
     ]
    },
    {
     "data": {
      "image/png": "[encoded data removed]",
      "text/plain": [
       "<IPython.core.display.Image object>"
      ]
     },
     "execution_count": 7,
     "metadata": {},
     "output_type": "execute_result"
    }
   ],
   "source": [
    "input_dim = len(input_columns)\n",
    "output_clases = 3 \n",
    "print (\"input_dim : \", input_dim, \", output classes : \", output_clases)\n",
    "\n",
    "model = tf.keras.Sequential([\n",
    "            tf.keras.layers.Dense(units=64, activation=tf.nn.relu, input_dim=input_dim),\n",
    "            tf.keras.layers.Dense(units=32, activation=tf.nn.relu),\n",
    "            tf.keras.layers.Dense(units=output_clases,  activation=tf.nn.softmax)\n",
    "            ])\n",
    "\n",
    "# loss = 'sparse_categorical_crossentropy'  or 'categorical_crossentropy'\n",
    "model.compile(loss='sparse_categorical_crossentropy', \n",
    "                 optimizer=tf.keras.optimizers.Adam(), # or 'adam', \n",
    "                 metrics=['accuracy'])\n",
    "\n",
    "print (model.summary())\n",
    "\n",
    "tf.keras.utils.plot_model(model, to_file='model.png', show_shapes=True)"
   ]
  },
  {
   "cell_type": "markdown",
   "metadata": {},
   "source": [
    "## Step 5 : Tensorboard"
   ]
  },
  {
   "cell_type": "code",
   "execution_count": 8,
   "metadata": {},
   "outputs": [
    {
     "name": "stdout",
     "output_type": "stream",
     "text": [
      "Saving TB logs to :  /tmp/tensorboard-logs/classification-iris/09-12-19\n"
     ]
    },
    {
     "data": {
      "text/html": [
       "\n",
       "      <iframe id=\"tensorboard-frame-6b38cac27a34ff3d\" width=\"100%\" height=\"800\" frameborder=\"0\">\n",
       "      </iframe>\n",
       "      <script>\n",
       "        (function() {\n",
       "          const frame = document.getElementById(\"tensorboard-frame-6b38cac27a34ff3d\");\n",
       "          const url = new URL(\"/\", window.location);\n",
       "          url.port = 6013;\n",
       "          frame.src = url;\n",
       "        })();\n",
       "      </script>\n",
       "  "
      ],
      "text/plain": [
       "<IPython.core.display.HTML object>"
      ]
     },
     "metadata": {},
     "output_type": "display_data"
    }
   ],
   "source": [
    "## This is fairly boiler plate code\n",
    "\n",
    "import datetime\n",
    "import os\n",
    "import shutil\n",
    "\n",
    "app_name = 'classification-iris'\n",
    "\n",
    "\n",
    "# timestamp  = datetime.datetime.now().strftime(\"%Y-%m-%d--%H-%M-%S\")\n",
    "\n",
    "tb_top_level_dir= '/tmp/tensorboard-logs'\n",
    "\n",
    "tb_app_dir = os.path.join (tb_top_level_dir, app_name)\n",
    "\n",
    "tb_logs_dir = os.path.join (tb_app_dir, datetime.datetime.now().strftime(\"%H-%M-%S\"))\n",
    "\n",
    "\n",
    "print (\"Saving TB logs to : \" , tb_logs_dir)\n",
    "\n",
    "#clear out old logs\n",
    "shutil.rmtree ( tb_app_dir, ignore_errors=True )\n",
    "\n",
    "tensorboard_callback = tf.keras.callbacks.TensorBoard(log_dir=tb_logs_dir, histogram_freq=1)\n",
    "\n",
    "## This will embed Tensorboard right here in jupyter!\n",
    "%load_ext tensorboard\n",
    "%tensorboard --logdir $tb_logs_dir"
   ]
  },
  {
   "cell_type": "markdown",
   "metadata": {},
   "source": [
    "## Step 6 : Train"
   ]
  },
  {
   "cell_type": "code",
   "execution_count": 9,
   "metadata": {},
   "outputs": [
    {
     "name": "stdout",
     "output_type": "stream",
     "text": [
      "training starting ...\n",
      "Epoch 1/100\n",
      "3/3 [==============================] - 1s 206ms/step - loss: 1.5394 - accuracy: 0.3438 - val_loss: 1.2876 - val_accuracy: 0.2500\n",
      "Epoch 2/100\n",
      "3/3 [==============================] - 0s 55ms/step - loss: 1.2530 - accuracy: 0.3438 - val_loss: 1.0625 - val_accuracy: 0.4167\n",
      "Epoch 3/100\n",
      "3/3 [==============================] - 0s 47ms/step - loss: 0.9887 - accuracy: 0.5521 - val_loss: 0.9359 - val_accuracy: 0.7500\n",
      "Epoch 4/100\n",
      "3/3 [==============================] - 0s 42ms/step - loss: 0.8556 - accuracy: 0.8229 - val_loss: 0.9045 - val_accuracy: 0.5417\n",
      "Epoch 5/100\n",
      "3/3 [==============================] - 0s 36ms/step - loss: 0.8022 - accuracy: 0.7292 - val_loss: 0.9271 - val_accuracy: 0.5417\n",
      "Epoch 6/100\n",
      "3/3 [==============================] - 0s 31ms/step - loss: 0.7765 - accuracy: 0.7292 - val_loss: 0.9305 - val_accuracy: 0.5417\n",
      "Epoch 7/100\n",
      "3/3 [==============================] - 0s 32ms/step - loss: 0.7512 - accuracy: 0.7292 - val_loss: 0.8911 - val_accuracy: 0.5417\n",
      "Epoch 8/100\n",
      "3/3 [==============================] - 0s 35ms/step - loss: 0.7061 - accuracy: 0.7292 - val_loss: 0.8193 - val_accuracy: 0.5417\n",
      "Epoch 9/100\n",
      "3/3 [==============================] - 0s 29ms/step - loss: 0.6565 - accuracy: 0.7292 - val_loss: 0.7539 - val_accuracy: 0.5417\n",
      "Epoch 10/100\n",
      "3/3 [==============================] - 0s 39ms/step - loss: 0.6203 - accuracy: 0.7292 - val_loss: 0.7000 - val_accuracy: 0.5417\n",
      "Epoch 11/100\n",
      "3/3 [==============================] - 0s 33ms/step - loss: 0.5917 - accuracy: 0.7604 - val_loss: 0.6656 - val_accuracy: 0.6250\n",
      "Epoch 12/100\n",
      "3/3 [==============================] - 0s 33ms/step - loss: 0.5670 - accuracy: 0.8229 - val_loss: 0.6441 - val_accuracy: 0.6667\n",
      "Epoch 13/100\n",
      "3/3 [==============================] - 0s 44ms/step - loss: 0.5461 - accuracy: 0.8125 - val_loss: 0.6349 - val_accuracy: 0.6250\n",
      "Epoch 14/100\n",
      "3/3 [==============================] - 0s 34ms/step - loss: 0.5207 - accuracy: 0.8021 - val_loss: 0.6262 - val_accuracy: 0.6250\n",
      "Epoch 15/100\n",
      "3/3 [==============================] - 0s 30ms/step - loss: 0.5008 - accuracy: 0.7812 - val_loss: 0.6194 - val_accuracy: 0.5833\n",
      "Epoch 16/100\n",
      "3/3 [==============================] - 0s 30ms/step - loss: 0.4818 - accuracy: 0.7604 - val_loss: 0.6076 - val_accuracy: 0.5833\n",
      "Epoch 17/100\n",
      "3/3 [==============================] - 0s 34ms/step - loss: 0.4651 - accuracy: 0.7604 - val_loss: 0.5920 - val_accuracy: 0.5833\n",
      "Epoch 18/100\n",
      "3/3 [==============================] - 0s 35ms/step - loss: 0.4491 - accuracy: 0.7604 - val_loss: 0.5729 - val_accuracy: 0.5833\n",
      "Epoch 19/100\n",
      "3/3 [==============================] - 0s 41ms/step - loss: 0.4345 - accuracy: 0.7917 - val_loss: 0.5513 - val_accuracy: 0.6250\n",
      "Epoch 20/100\n",
      "3/3 [==============================] - 0s 29ms/step - loss: 0.4203 - accuracy: 0.8021 - val_loss: 0.5287 - val_accuracy: 0.6667\n",
      "Epoch 21/100\n",
      "3/3 [==============================] - 0s 42ms/step - loss: 0.4090 - accuracy: 0.8542 - val_loss: 0.5070 - val_accuracy: 0.8333\n",
      "Epoch 22/100\n",
      "3/3 [==============================] - 0s 35ms/step - loss: 0.3978 - accuracy: 0.8854 - val_loss: 0.4928 - val_accuracy: 0.8333\n",
      "Epoch 23/100\n",
      "3/3 [==============================] - 0s 39ms/step - loss: 0.3865 - accuracy: 0.8854 - val_loss: 0.4849 - val_accuracy: 0.8333\n",
      "Epoch 24/100\n",
      "3/3 [==============================] - 0s 37ms/step - loss: 0.3757 - accuracy: 0.8750 - val_loss: 0.4787 - val_accuracy: 0.8333\n",
      "Epoch 25/100\n",
      "3/3 [==============================] - 0s 35ms/step - loss: 0.3662 - accuracy: 0.8646 - val_loss: 0.4683 - val_accuracy: 0.8333\n",
      "Epoch 26/100\n",
      "3/3 [==============================] - 0s 32ms/step - loss: 0.3570 - accuracy: 0.8646 - val_loss: 0.4620 - val_accuracy: 0.8333\n",
      "Epoch 27/100\n",
      "3/3 [==============================] - 0s 31ms/step - loss: 0.3509 - accuracy: 0.8958 - val_loss: 0.4390 - val_accuracy: 0.8333\n",
      "Epoch 28/100\n",
      "3/3 [==============================] - 0s 33ms/step - loss: 0.3399 - accuracy: 0.9167 - val_loss: 0.4342 - val_accuracy: 0.8333\n",
      "Epoch 29/100\n",
      "3/3 [==============================] - 0s 31ms/step - loss: 0.3311 - accuracy: 0.9271 - val_loss: 0.4233 - val_accuracy: 0.8333\n",
      "Epoch 30/100\n",
      "3/3 [==============================] - 0s 34ms/step - loss: 0.3230 - accuracy: 0.9375 - val_loss: 0.4091 - val_accuracy: 0.8333\n",
      "Epoch 31/100\n",
      "3/3 [==============================] - 0s 31ms/step - loss: 0.3164 - accuracy: 0.9479 - val_loss: 0.3945 - val_accuracy: 0.8750\n",
      "Epoch 32/100\n",
      "3/3 [==============================] - 0s 31ms/step - loss: 0.3076 - accuracy: 0.9479 - val_loss: 0.3929 - val_accuracy: 0.8333\n",
      "Epoch 33/100\n",
      "3/3 [==============================] - 0s 35ms/step - loss: 0.3010 - accuracy: 0.9375 - val_loss: 0.3884 - val_accuracy: 0.8333\n",
      "Epoch 34/100\n",
      "3/3 [==============================] - 0s 38ms/step - loss: 0.2935 - accuracy: 0.9479 - val_loss: 0.3756 - val_accuracy: 0.8750\n",
      "Epoch 35/100\n",
      "3/3 [==============================] - 0s 41ms/step - loss: 0.2870 - accuracy: 0.9479 - val_loss: 0.3588 - val_accuracy: 0.8750\n",
      "Epoch 36/100\n",
      "3/3 [==============================] - 0s 20ms/step - loss: 0.2795 - accuracy: 0.9583 - val_loss: 0.3489 - val_accuracy: 0.8750\n",
      "Epoch 37/100\n",
      "3/3 [==============================] - 0s 26ms/step - loss: 0.2733 - accuracy: 0.9583 - val_loss: 0.3470 - val_accuracy: 0.8750\n",
      "Epoch 38/100\n",
      "3/3 [==============================] - 0s 33ms/step - loss: 0.2665 - accuracy: 0.9583 - val_loss: 0.3383 - val_accuracy: 0.8750\n",
      "Epoch 39/100\n",
      "3/3 [==============================] - 0s 36ms/step - loss: 0.2610 - accuracy: 0.9583 - val_loss: 0.3301 - val_accuracy: 0.8750\n",
      "Epoch 40/100\n",
      "3/3 [==============================] - 0s 40ms/step - loss: 0.2544 - accuracy: 0.9583 - val_loss: 0.3213 - val_accuracy: 0.8750\n",
      "Epoch 41/100\n",
      "3/3 [==============================] - 0s 32ms/step - loss: 0.2481 - accuracy: 0.9583 - val_loss: 0.3137 - val_accuracy: 0.8750\n",
      "Epoch 42/100\n",
      "3/3 [==============================] - 0s 40ms/step - loss: 0.2428 - accuracy: 0.9583 - val_loss: 0.3050 - val_accuracy: 0.8750\n",
      "Epoch 43/100\n",
      "3/3 [==============================] - 0s 29ms/step - loss: 0.2368 - accuracy: 0.9583 - val_loss: 0.2971 - val_accuracy: 0.8750\n",
      "Epoch 44/100\n",
      "3/3 [==============================] - 0s 33ms/step - loss: 0.2332 - accuracy: 0.9688 - val_loss: 0.2839 - val_accuracy: 0.9167\n",
      "Epoch 45/100\n",
      "3/3 [==============================] - 0s 32ms/step - loss: 0.2261 - accuracy: 0.9688 - val_loss: 0.2864 - val_accuracy: 0.8750\n",
      "Epoch 46/100\n",
      "3/3 [==============================] - 0s 32ms/step - loss: 0.2210 - accuracy: 0.9583 - val_loss: 0.2816 - val_accuracy: 0.8750\n",
      "Epoch 47/100\n",
      "3/3 [==============================] - 0s 35ms/step - loss: 0.2162 - accuracy: 0.9583 - val_loss: 0.2755 - val_accuracy: 0.8750\n",
      "Epoch 48/100\n",
      "3/3 [==============================] - 0s 43ms/step - loss: 0.2112 - accuracy: 0.9688 - val_loss: 0.2640 - val_accuracy: 0.9167\n",
      "Epoch 49/100\n",
      "3/3 [==============================] - 0s 39ms/step - loss: 0.2075 - accuracy: 0.9688 - val_loss: 0.2490 - val_accuracy: 0.9167\n",
      "Epoch 50/100\n",
      "3/3 [==============================] - 0s 40ms/step - loss: 0.2020 - accuracy: 0.9688 - val_loss: 0.2498 - val_accuracy: 0.9167\n",
      "Epoch 51/100\n",
      "3/3 [==============================] - 0s 35ms/step - loss: 0.1983 - accuracy: 0.9688 - val_loss: 0.2569 - val_accuracy: 0.8750\n",
      "Epoch 52/100\n",
      "3/3 [==============================] - 0s 51ms/step - loss: 0.1977 - accuracy: 0.9688 - val_loss: 0.2397 - val_accuracy: 0.9167\n",
      "Epoch 53/100\n",
      "3/3 [==============================] - 0s 38ms/step - loss: 0.1887 - accuracy: 0.9688 - val_loss: 0.2372 - val_accuracy: 0.9167\n",
      "Epoch 54/100\n",
      "3/3 [==============================] - 0s 40ms/step - loss: 0.1852 - accuracy: 0.9688 - val_loss: 0.2371 - val_accuracy: 0.9167\n",
      "Epoch 55/100\n",
      "3/3 [==============================] - 0s 52ms/step - loss: 0.1815 - accuracy: 0.9688 - val_loss: 0.2313 - val_accuracy: 0.9167\n",
      "Epoch 56/100\n",
      "3/3 [==============================] - 0s 35ms/step - loss: 0.1776 - accuracy: 0.9688 - val_loss: 0.2167 - val_accuracy: 0.9167\n",
      "Epoch 57/100\n",
      "3/3 [==============================] - 0s 38ms/step - loss: 0.1741 - accuracy: 0.9688 - val_loss: 0.2123 - val_accuracy: 0.9167\n",
      "Epoch 58/100\n",
      "3/3 [==============================] - 0s 39ms/step - loss: 0.1716 - accuracy: 0.9688 - val_loss: 0.2190 - val_accuracy: 0.9167\n",
      "Epoch 59/100\n",
      "3/3 [==============================] - 0s 37ms/step - loss: 0.1703 - accuracy: 0.9688 - val_loss: 0.2044 - val_accuracy: 0.9167\n",
      "Epoch 60/100\n",
      "3/3 [==============================] - 0s 33ms/step - loss: 0.1654 - accuracy: 0.9688 - val_loss: 0.2021 - val_accuracy: 0.9167\n",
      "Epoch 61/100\n",
      "3/3 [==============================] - 0s 38ms/step - loss: 0.1605 - accuracy: 0.9688 - val_loss: 0.2123 - val_accuracy: 0.9167\n",
      "Epoch 62/100\n",
      "3/3 [==============================] - 0s 42ms/step - loss: 0.1588 - accuracy: 0.9688 - val_loss: 0.2123 - val_accuracy: 0.9167\n",
      "Epoch 63/100\n",
      "3/3 [==============================] - 0s 31ms/step - loss: 0.1562 - accuracy: 0.9688 - val_loss: 0.1970 - val_accuracy: 0.9167\n",
      "Epoch 64/100\n",
      "3/3 [==============================] - 0s 31ms/step - loss: 0.1531 - accuracy: 0.9688 - val_loss: 0.1927 - val_accuracy: 0.9167\n",
      "Epoch 65/100\n",
      "3/3 [==============================] - 0s 36ms/step - loss: 0.1524 - accuracy: 0.9688 - val_loss: 0.1814 - val_accuracy: 0.9167\n",
      "Epoch 66/100\n",
      "3/3 [==============================] - 0s 36ms/step - loss: 0.1478 - accuracy: 0.9688 - val_loss: 0.1781 - val_accuracy: 0.9167\n",
      "Epoch 67/100\n",
      "3/3 [==============================] - 0s 38ms/step - loss: 0.1453 - accuracy: 0.9688 - val_loss: 0.1830 - val_accuracy: 0.9167\n",
      "Epoch 68/100\n",
      "3/3 [==============================] - 0s 26ms/step - loss: 0.1432 - accuracy: 0.9688 - val_loss: 0.1905 - val_accuracy: 0.9167\n",
      "Epoch 69/100\n",
      "3/3 [==============================] - 0s 30ms/step - loss: 0.1407 - accuracy: 0.9688 - val_loss: 0.1832 - val_accuracy: 0.9167\n",
      "Epoch 70/100\n",
      "3/3 [==============================] - 0s 33ms/step - loss: 0.1382 - accuracy: 0.9688 - val_loss: 0.1748 - val_accuracy: 0.9167\n",
      "Epoch 71/100\n",
      "3/3 [==============================] - 0s 32ms/step - loss: 0.1364 - accuracy: 0.9688 - val_loss: 0.1687 - val_accuracy: 0.9167\n",
      "Epoch 72/100\n",
      "3/3 [==============================] - 0s 34ms/step - loss: 0.1347 - accuracy: 0.9688 - val_loss: 0.1723 - val_accuracy: 0.9167\n",
      "Epoch 73/100\n",
      "3/3 [==============================] - 0s 29ms/step - loss: 0.1357 - accuracy: 0.9688 - val_loss: 0.1626 - val_accuracy: 0.9167\n",
      "Epoch 74/100\n",
      "3/3 [==============================] - 0s 26ms/step - loss: 0.1325 - accuracy: 0.9688 - val_loss: 0.1606 - val_accuracy: 0.9167\n",
      "Epoch 75/100\n",
      "3/3 [==============================] - 0s 35ms/step - loss: 0.1295 - accuracy: 0.9688 - val_loss: 0.1804 - val_accuracy: 0.9167\n",
      "Epoch 76/100\n",
      "3/3 [==============================] - 0s 33ms/step - loss: 0.1284 - accuracy: 0.9688 - val_loss: 0.1768 - val_accuracy: 0.9167\n",
      "Epoch 77/100\n",
      "3/3 [==============================] - 0s 30ms/step - loss: 0.1256 - accuracy: 0.9688 - val_loss: 0.1625 - val_accuracy: 0.9167\n",
      "Epoch 78/100\n",
      "3/3 [==============================] - 0s 26ms/step - loss: 0.1239 - accuracy: 0.9688 - val_loss: 0.1563 - val_accuracy: 0.9167\n",
      "Epoch 79/100\n",
      "3/3 [==============================] - 0s 29ms/step - loss: 0.1218 - accuracy: 0.9896 - val_loss: 0.1473 - val_accuracy: 0.9167\n",
      "Epoch 80/100\n",
      "3/3 [==============================] - 0s 32ms/step - loss: 0.1213 - accuracy: 0.9896 - val_loss: 0.1472 - val_accuracy: 0.9167\n",
      "Epoch 81/100\n",
      "3/3 [==============================] - 0s 34ms/step - loss: 0.1202 - accuracy: 0.9792 - val_loss: 0.1610 - val_accuracy: 0.9167\n",
      "Epoch 82/100\n",
      "3/3 [==============================] - 0s 28ms/step - loss: 0.1176 - accuracy: 0.9688 - val_loss: 0.1628 - val_accuracy: 0.9167\n",
      "Epoch 83/100\n",
      "3/3 [==============================] - 0s 30ms/step - loss: 0.1168 - accuracy: 0.9688 - val_loss: 0.1564 - val_accuracy: 0.9167\n",
      "Epoch 84/100\n",
      "3/3 [==============================] - 0s 38ms/step - loss: 0.1152 - accuracy: 0.9688 - val_loss: 0.1468 - val_accuracy: 0.9167\n",
      "Epoch 85/100\n",
      "3/3 [==============================] - 0s 31ms/step - loss: 0.1136 - accuracy: 0.9896 - val_loss: 0.1465 - val_accuracy: 0.9167\n",
      "Epoch 86/100\n",
      "3/3 [==============================] - 0s 30ms/step - loss: 0.1131 - accuracy: 0.9688 - val_loss: 0.1489 - val_accuracy: 0.9167\n",
      "Epoch 87/100\n",
      "3/3 [==============================] - 0s 28ms/step - loss: 0.1128 - accuracy: 0.9792 - val_loss: 0.1434 - val_accuracy: 0.9167\n",
      "Epoch 88/100\n",
      "3/3 [==============================] - 0s 33ms/step - loss: 0.1119 - accuracy: 0.9688 - val_loss: 0.1556 - val_accuracy: 0.9167\n",
      "Epoch 89/100\n",
      "3/3 [==============================] - 0s 24ms/step - loss: 0.1097 - accuracy: 0.9688 - val_loss: 0.1511 - val_accuracy: 0.9167\n",
      "Epoch 90/100\n",
      "3/3 [==============================] - 0s 29ms/step - loss: 0.1082 - accuracy: 0.9688 - val_loss: 0.1433 - val_accuracy: 0.9167\n",
      "Epoch 91/100\n",
      "3/3 [==============================] - 0s 33ms/step - loss: 0.1069 - accuracy: 0.9896 - val_loss: 0.1295 - val_accuracy: 0.9167\n",
      "Epoch 92/100\n",
      "3/3 [==============================] - 0s 27ms/step - loss: 0.1089 - accuracy: 0.9896 - val_loss: 0.1267 - val_accuracy: 0.9167\n",
      "Epoch 93/100\n",
      "3/3 [==============================] - 0s 31ms/step - loss: 0.1052 - accuracy: 0.9896 - val_loss: 0.1458 - val_accuracy: 0.9167\n",
      "Epoch 94/100\n",
      "3/3 [==============================] - 0s 28ms/step - loss: 0.1038 - accuracy: 0.9688 - val_loss: 0.1543 - val_accuracy: 0.9167\n",
      "Epoch 95/100\n",
      "3/3 [==============================] - 0s 27ms/step - loss: 0.1077 - accuracy: 0.9688 - val_loss: 0.1623 - val_accuracy: 0.9167\n",
      "Epoch 96/100\n",
      "3/3 [==============================] - 0s 31ms/step - loss: 0.1063 - accuracy: 0.9792 - val_loss: 0.1261 - val_accuracy: 0.9167\n",
      "Epoch 97/100\n",
      "3/3 [==============================] - 0s 29ms/step - loss: 0.1025 - accuracy: 0.9896 - val_loss: 0.1296 - val_accuracy: 0.9167\n",
      "Epoch 98/100\n",
      "3/3 [==============================] - 0s 28ms/step - loss: 0.1015 - accuracy: 0.9896 - val_loss: 0.1273 - val_accuracy: 0.9167\n",
      "Epoch 99/100\n",
      "3/3 [==============================] - 0s 32ms/step - loss: 0.0999 - accuracy: 0.9896 - val_loss: 0.1334 - val_accuracy: 0.9167\n",
      "Epoch 100/100\n",
      "3/3 [==============================] - 0s 38ms/step - loss: 0.1009 - accuracy: 0.9688 - val_loss: 0.1539 - val_accuracy: 0.9167\n",
      "training done.\n",
      "CPU times: user 20.7 s, sys: 26.9 s, total: 47.6 s\n",
      "Wall time: 13.8 s\n"
     ]
    }
   ],
   "source": [
    "%%time\n",
    "\n",
    "## TODO configure some of these\n",
    "epochs = 100  ## experiment 100, 500, 1000\n",
    "\n",
    "print (\"training starting ...\")\n",
    "history = model.fit(\n",
    "              x_train, y_train,\n",
    "              epochs=epochs, validation_split = 0.2, verbose=1,\n",
    "              callbacks=[tensorboard_callback])\n",
    "\n",
    "print (\"training done.\")"
   ]
  },
  {
   "cell_type": "markdown",
   "metadata": {},
   "source": [
    "## Step 7 : Plot History"
   ]
  },
  {
   "cell_type": "code",
   "execution_count": 10,
   "metadata": {},
   "outputs": [
    {
     "data": {
      "image/png": "[encoded data removed]",
      "text/plain": [
       "<Figure size 432x288 with 1 Axes>"
      ]
     },
     "metadata": {
      "needs_background": "light"
     },
     "output_type": "display_data"
    }
   ],
   "source": [
    "%matplotlib inline\n",
    "import matplotlib.pyplot as plt\n",
    "\n",
    "plt.plot(history.history['accuracy'], label='train_accuracy')\n",
    "plt.plot(history.history['val_accuracy'], label='val_accuracy')\n",
    "plt.legend()\n",
    "plt.show()"
   ]
  },
  {
   "cell_type": "markdown",
   "metadata": {},
   "source": [
    "## Step 8 : Predict"
   ]
  },
  {
   "cell_type": "code",
   "execution_count": 11,
   "metadata": {},
   "outputs": [
    {
     "data": {
      "text/plain": [
       "array([[ 0.000,  0.006,  0.994],\n",
       "       [ 0.005,  0.955,  0.040],\n",
       "       [ 0.999,  0.001,  0.000],\n",
       "       [ 0.000,  0.011,  0.989],\n",
       "       [ 0.995,  0.005,  0.000],\n",
       "       [ 0.000,  0.002,  0.998],\n",
       "       [ 0.997,  0.003,  0.000],\n",
       "       [ 0.003,  0.936,  0.061],\n",
       "       [ 0.002,  0.884,  0.114],\n",
       "       [ 0.006,  0.975,  0.018],\n",
       "       [ 0.000,  0.019,  0.981],\n",
       "       [ 0.004,  0.954,  0.043],\n",
       "       [ 0.003,  0.797,  0.200],\n",
       "       [ 0.002,  0.852,  0.146],\n",
       "       [ 0.003,  0.711,  0.286],\n",
       "       [ 0.994,  0.006,  0.000],\n",
       "       [ 0.004,  0.759,  0.238],\n",
       "       [ 0.004,  0.630,  0.366],\n",
       "       [ 0.990,  0.010,  0.000],\n",
       "       [ 0.998,  0.002,  0.000],\n",
       "       [ 0.000,  0.020,  0.980],\n",
       "       [ 0.004,  0.591,  0.405],\n",
       "       [ 0.985,  0.015,  0.000],\n",
       "       [ 0.988,  0.012,  0.000],\n",
       "       [ 0.001,  0.251,  0.748],\n",
       "       [ 0.998,  0.002,  0.000],\n",
       "       [ 0.990,  0.010,  0.000],\n",
       "       [ 0.004,  0.962,  0.033],\n",
       "       [ 0.019,  0.955,  0.026],\n",
       "       [ 0.990,  0.010,  0.000]], dtype=float32)"
      ]
     },
     "execution_count": 11,
     "metadata": {},
     "output_type": "execute_result"
    }
   ],
   "source": [
    "np.set_printoptions(formatter={'float': '{: 0.3f}'.format})\n",
    "\n",
    "predictions = model.predict(x_test)\n",
    "predictions"
   ]
  },
  {
   "cell_type": "markdown",
   "metadata": {},
   "source": [
    "### Understanding Predictions\n",
    "In the above output, for each test input, the softmax layer, produces 3 numbers.  \n",
    "These numbers are probabilities.  If you add them up, you will get 1.0  \n",
    "We want to choose the output that has the highest probability.  \n",
    "\n",
    "For example `(0.03086184, 0.33362046, 0.6355177)` means  \n",
    "- class 1 has prob of 0.03  or 3%\n",
    "- class 2 has prob of 0.33  or 33%\n",
    "- class 3 has prob of 0.63  or 63%\n",
    "\n",
    "So we choose the class with highest probability as prediction : class 3\n",
    "\n",
    "\n",
    "We can get class predictions directly as follows"
   ]
  },
  {
   "cell_type": "code",
   "execution_count": 12,
   "metadata": {},
   "outputs": [
    {
     "name": "stdout",
     "output_type": "stream",
     "text": [
      "WARNING:tensorflow:From <ipython-input-12-279119a3b0e0>:2: Sequential.predict_classes (from tensorflow.python.keras.engine.sequential) is deprecated and will be removed after 2021-01-01.\n",
      "Instructions for updating:\n",
      "Please use instead:* `np.argmax(model.predict(x), axis=-1)`,   if your model does multi-class classification   (e.g. if it uses a `softmax` last-layer activation).* `(model.predict(x) > 0.5).astype(\"int32\")`,   if your model does binary classification   (e.g. if it uses a `sigmoid` last-layer activation).\n"
     ]
    },
    {
     "data": {
      "text/plain": [
       "array([2, 1, 0, 2, 0, 2, 0, 1, 1, 1, 2, 1, 1, 1, 1, 0, 1, 1, 0, 0, 2, 1,\n",
       "       0, 0, 2, 0, 0, 1, 1, 0])"
      ]
     },
     "execution_count": 12,
     "metadata": {},
     "output_type": "execute_result"
    }
   ],
   "source": [
    "## Use 'predict_classes' instead of 'predict'\n",
    "y_pred = model.predict_classes(x_test)\n",
    "# y_pred = (model.predict(x_test) > 0.5).astype(\"int32\")\n",
    "y_pred"
   ]
  },
  {
   "cell_type": "markdown",
   "metadata": {},
   "source": [
    "## Step 9 : Evaluate the model\n",
    "\n",
    "### 9.1 - Print out metrics"
   ]
  },
  {
   "cell_type": "code",
   "execution_count": 13,
   "metadata": {},
   "outputs": [
    {
     "name": "stdout",
     "output_type": "stream",
     "text": [
      "model metrics :  ['loss', 'accuracy']\n",
      "Metric : loss = 0.09\n",
      "Metric : accuracy = 1.00\n"
     ]
    }
   ],
   "source": [
    "metric_names = model.metrics_names\n",
    "print (\"model metrics : \" , metric_names)\n",
    "\n",
    "metrics = model.evaluate(x_test, y_test, verbose=0)\n",
    "\n",
    "for idx, metric in enumerate(metric_names):\n",
    "    print (\"Metric : {} = {:,.2f}\".format (metric_names[idx], metrics[idx]))"
   ]
  },
  {
   "cell_type": "markdown",
   "metadata": {},
   "source": [
    "### 9.2 - Confussion Matrix\n",
    "Since this is a classification problem, confusion matrix is very effective way to evaluate our model"
   ]
  },
  {
   "cell_type": "code",
   "execution_count": 14,
   "metadata": {},
   "outputs": [
    {
     "data": {
      "text/plain": [
       "array([[11,  0,  0],\n",
       "       [ 0, 13,  0],\n",
       "       [ 0,  0,  6]])"
      ]
     },
     "execution_count": 14,
     "metadata": {},
     "output_type": "execute_result"
    }
   ],
   "source": [
    "## plain confusion matrix \n",
    "\n",
    "from sklearn.metrics import confusion_matrix\n",
    "import seaborn as sns\n",
    "\n",
    "cm = confusion_matrix(y_test, y_pred, labels = [0,1,2])\n",
    "cm\n"
   ]
  },
  {
   "cell_type": "code",
   "execution_count": 15,
   "metadata": {},
   "outputs": [
    {
     "data": {
      "text/plain": [
       "[]"
      ]
     },
     "execution_count": 15,
     "metadata": {},
     "output_type": "execute_result"
    },
    {
     "data": {
      "image/png": "[encoded data removed]",
      "text/plain": [
       "<Figure size 576x360 with 2 Axes>"
      ]
     },
     "metadata": {
      "needs_background": "light"
     },
     "output_type": "display_data"
    }
   ],
   "source": [
    "import matplotlib.pyplot as plt\n",
    "import seaborn as sns\n",
    "\n",
    "plt.figure(figsize = (8,5))\n",
    "\n",
    "# colormaps : cmap=\"YlGnBu\" , cmap=\"Greens\", cmap=\"Blues\",  cmap=\"Reds\"\n",
    "sns.heatmap(cm, annot=True, cmap=\"Reds\", fmt='d').plot()"
   ]
  },
  {
   "cell_type": "markdown",
   "metadata": {},
   "source": [
    "### 9.3 - Metrics calculated from Confusion Matrix"
   ]
  },
  {
   "cell_type": "code",
   "execution_count": 16,
   "metadata": {},
   "outputs": [
    {
     "name": "stdout",
     "output_type": "stream",
     "text": [
      "{'0': {'f1-score': 1.0, 'precision': 1.0, 'recall': 1.0, 'support': 11},\n",
      " '1': {'f1-score': 1.0, 'precision': 1.0, 'recall': 1.0, 'support': 13},\n",
      " '2': {'f1-score': 1.0, 'precision': 1.0, 'recall': 1.0, 'support': 6},\n",
      " 'accuracy': 1.0,\n",
      " 'macro avg': {'f1-score': 1.0, 'precision': 1.0, 'recall': 1.0, 'support': 30},\n",
      " 'weighted avg': {'f1-score': 1.0,\n",
      "                  'precision': 1.0,\n",
      "                  'recall': 1.0,\n",
      "                  'support': 30}}\n"
     ]
    }
   ],
   "source": [
    "from sklearn.metrics import classification_report\n",
    "from pprint import pprint\n",
    "\n",
    "pprint(classification_report(y_test, y_pred, output_dict=True))"
   ]
  },
  {
   "cell_type": "markdown",
   "metadata": {},
   "source": [
    "### TODO : Intepret confusion matrix\n",
    "Instructor will walk you through the matrix.  \n",
    "Answer these questions\n",
    "- which class is classified correctly mostly\n",
    "- which class is classified incorrectly?"
   ]
  },
  {
   "cell_type": "markdown",
   "metadata": {},
   "source": [
    "## Step 10 : Improve the Model\n",
    "\n",
    "Inspect the following\n",
    "- What is the metric 'accuracy' in step 9.1\n",
    "- And verify this with tensorboard (port 6066)\n",
    "\n",
    "Most likely, we didn't get a great accuracy.  \n",
    "How can we improve it?\n",
    "\n",
    "**Try the following ideas** \n",
    "\n",
    "- **Idea-1 : Increase neurons in hidden layer**  \n",
    "  - In Step-4, increase hidden layer neurons from 8 --> 64  \n",
    "  - Click 'Kernel --> Restart and Run all Cells'  \n",
    "  - Hopefully you should see improvement in the accuracy.  \n",
    "  - Check  accuracy metrics / confusion matrix / tensorboard"
   ]
  },
  {
   "cell_type": "markdown",
   "metadata": {},
   "source": [
    "## Step 11 : Create a compact version of this notebook\n",
    "Start another notebook and implement this notebook in the most compact way!"
   ]
  },
  {
   "cell_type": "code",
   "execution_count": null,
   "metadata": {},
   "outputs": [],
   "source": []
  }
 ],
 "metadata": {
  "kernelspec": {
   "display_name": "Python 3",
   "language": "python",
   "name": "python3"
  },
  "language_info": {
   "codemirror_mode": {
    "name": "ipython",
    "version": 3
   },
   "file_extension": ".py",
   "mimetype": "text/x-python",
   "name": "python",
   "nbconvert_exporter": "python",
   "pygments_lexer": "ipython3",
   "version": "3.7.7"
  }
 },
 "nbformat": 4,
 "nbformat_minor": 4
}
