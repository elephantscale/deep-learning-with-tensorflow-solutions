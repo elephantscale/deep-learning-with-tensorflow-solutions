{
 "cells": [
  {
   "cell_type": "markdown",
   "metadata": {},
   "source": [
    "## Deep Neural Network (DNN) Classifier - Iris\n",
    "We will build a relataively simple neuran net to classify IRIS dataset "
   ]
  },
  {
   "cell_type": "markdown",
   "metadata": {},
   "source": [
    "## Step 1 - About IRIS Dataset\n",
    "\n",
    "Imagine you are a botanist seeking an automated way to categorize each Iris flower you find. Machine learning provides many algorithms to statistically classify flowers. For instance, a sophisticated machine learning program could classify flowers based on photographs. Our ambitions are more modest—we're going to classify Iris flowers based on the length and width measurements of their [sepals](https://en.wikipedia.org/wiki/Sepal) and [petals](https://en.wikipedia.org/wiki/Petal).\n",
    "\n",
    "The Iris genus entails about 300 species, but our program will only classify the following three:\n",
    "\n",
    "* Iris setosa\n",
    "* Iris virginica\n",
    "* Iris versicolor\n",
    "\n",
    "<table>\n",
    "  <tr><td>\n",
    "    <img src=\"https://www.tensorflow.org/images/iris_three_species.jpg\"\n",
    "         alt=\"Petal geometry compared for three iris species: Iris setosa, Iris virginica, and Iris versicolor\">\n",
    "  </td></tr>\n",
    "  <tr><td align=\"center\">\n",
    "    <b>Figure 1.</b> <a href=\"https://commons.wikimedia.org/w/index.php?curid=170298\">Iris setosa</a> (by <a href=\"https://commons.wikimedia.org/wiki/User:Radomil\">Radomil</a>, CC BY-SA 3.0), <a href=\"https://commons.wikimedia.org/w/index.php?curid=248095\">Iris versicolor</a>, (by <a href=\"https://commons.wikimedia.org/wiki/User:Dlanglois\">Dlanglois</a>, CC BY-SA 3.0), and <a href=\"https://www.flickr.com/photos/33397993@N05/3352169862\">Iris virginica</a> (by <a href=\"https://www.flickr.com/photos/33397993@N05\">Frank Mayfield</a>, CC BY-SA 2.0).<br/>&nbsp;\n",
    "  </td></tr>\n",
    "</table>\n",
    "\n",
    "Fortunately, someone has already created a [data set of 120 Iris flowers](https://en.wikipedia.org/wiki/Iris_flower_data_set) with the sepal and p"
   ]
  },
  {
   "cell_type": "code",
   "execution_count": 1,
   "metadata": {},
   "outputs": [],
   "source": [
    "%matplotlib inline\n",
    "import numpy as np\n",
    "import pandas as pd\n",
    "import matplotlib.pyplot as plt\n",
    "\n",
    "import tensorflow as tf\n",
    "from tensorflow import keras"
   ]
  },
  {
   "cell_type": "code",
   "execution_count": 2,
   "metadata": {},
   "outputs": [
    {
     "name": "stdout",
     "output_type": "stream",
     "text": [
      "Running in Google COLAB :  False\n"
     ]
    }
   ],
   "source": [
    "# Install the package for running tensorboard on google colaboration\n",
    "try:\n",
    "    import google.colab\n",
    "    IN_COLAB = True\n",
    "except:\n",
    "    IN_COLAB = False\n",
    "\n",
    "print (\"Running in Google COLAB : \", IN_COLAB)\n",
    "\n",
    "\n",
    "if IN_COLAB == True:\n",
    "    from tensorboardcolab import *\n",
    "    !pip install -U tensorboardcolab\n",
    "# Load the TensorBoard notebook extension\n",
    "    %load_ext tensorboard"
   ]
  },
  {
   "cell_type": "markdown",
   "metadata": {},
   "source": [
    "## Step 2 : Read Data"
   ]
  },
  {
   "cell_type": "code",
   "execution_count": 3,
   "metadata": {},
   "outputs": [
    {
     "data": {
      "text/html": [
       "<div>\n",
       "<style scoped>\n",
       "    .dataframe tbody tr th:only-of-type {\n",
       "        vertical-align: middle;\n",
       "    }\n",
       "\n",
       "    .dataframe tbody tr th {\n",
       "        vertical-align: top;\n",
       "    }\n",
       "\n",
       "    .dataframe thead th {\n",
       "        text-align: right;\n",
       "    }\n",
       "</style>\n",
       "<table border=\"1\" class=\"dataframe\">\n",
       "  <thead>\n",
       "    <tr style=\"text-align: right;\">\n",
       "      <th></th>\n",
       "      <th>SepalLengthCm</th>\n",
       "      <th>SepalWidthCm</th>\n",
       "      <th>PetalLengthCm</th>\n",
       "      <th>PetalWidthCm</th>\n",
       "      <th>Species</th>\n",
       "    </tr>\n",
       "  </thead>\n",
       "  <tbody>\n",
       "    <tr>\n",
       "      <td>0</td>\n",
       "      <td>5.1</td>\n",
       "      <td>3.5</td>\n",
       "      <td>1.4</td>\n",
       "      <td>0.2</td>\n",
       "      <td>Iris-setosa</td>\n",
       "    </tr>\n",
       "    <tr>\n",
       "      <td>1</td>\n",
       "      <td>4.9</td>\n",
       "      <td>3.0</td>\n",
       "      <td>1.4</td>\n",
       "      <td>0.2</td>\n",
       "      <td>Iris-setosa</td>\n",
       "    </tr>\n",
       "    <tr>\n",
       "      <td>2</td>\n",
       "      <td>4.7</td>\n",
       "      <td>3.2</td>\n",
       "      <td>1.3</td>\n",
       "      <td>0.2</td>\n",
       "      <td>Iris-setosa</td>\n",
       "    </tr>\n",
       "    <tr>\n",
       "      <td>3</td>\n",
       "      <td>4.6</td>\n",
       "      <td>3.1</td>\n",
       "      <td>1.5</td>\n",
       "      <td>0.2</td>\n",
       "      <td>Iris-setosa</td>\n",
       "    </tr>\n",
       "    <tr>\n",
       "      <td>4</td>\n",
       "      <td>5.0</td>\n",
       "      <td>3.6</td>\n",
       "      <td>1.4</td>\n",
       "      <td>0.2</td>\n",
       "      <td>Iris-setosa</td>\n",
       "    </tr>\n",
       "    <tr>\n",
       "      <td>...</td>\n",
       "      <td>...</td>\n",
       "      <td>...</td>\n",
       "      <td>...</td>\n",
       "      <td>...</td>\n",
       "      <td>...</td>\n",
       "    </tr>\n",
       "    <tr>\n",
       "      <td>145</td>\n",
       "      <td>6.7</td>\n",
       "      <td>3.0</td>\n",
       "      <td>5.2</td>\n",
       "      <td>2.3</td>\n",
       "      <td>Iris-virginica</td>\n",
       "    </tr>\n",
       "    <tr>\n",
       "      <td>146</td>\n",
       "      <td>6.3</td>\n",
       "      <td>2.5</td>\n",
       "      <td>5.0</td>\n",
       "      <td>1.9</td>\n",
       "      <td>Iris-virginica</td>\n",
       "    </tr>\n",
       "    <tr>\n",
       "      <td>147</td>\n",
       "      <td>6.5</td>\n",
       "      <td>3.0</td>\n",
       "      <td>5.2</td>\n",
       "      <td>2.0</td>\n",
       "      <td>Iris-virginica</td>\n",
       "    </tr>\n",
       "    <tr>\n",
       "      <td>148</td>\n",
       "      <td>6.2</td>\n",
       "      <td>3.4</td>\n",
       "      <td>5.4</td>\n",
       "      <td>2.3</td>\n",
       "      <td>Iris-virginica</td>\n",
       "    </tr>\n",
       "    <tr>\n",
       "      <td>149</td>\n",
       "      <td>5.9</td>\n",
       "      <td>3.0</td>\n",
       "      <td>5.1</td>\n",
       "      <td>1.8</td>\n",
       "      <td>Iris-virginica</td>\n",
       "    </tr>\n",
       "  </tbody>\n",
       "</table>\n",
       "<p>150 rows × 5 columns</p>\n",
       "</div>"
      ],
      "text/plain": [
       "     SepalLengthCm  SepalWidthCm  PetalLengthCm  PetalWidthCm         Species\n",
       "0              5.1           3.5            1.4           0.2     Iris-setosa\n",
       "1              4.9           3.0            1.4           0.2     Iris-setosa\n",
       "2              4.7           3.2            1.3           0.2     Iris-setosa\n",
       "3              4.6           3.1            1.5           0.2     Iris-setosa\n",
       "4              5.0           3.6            1.4           0.2     Iris-setosa\n",
       "..             ...           ...            ...           ...             ...\n",
       "145            6.7           3.0            5.2           2.3  Iris-virginica\n",
       "146            6.3           2.5            5.0           1.9  Iris-virginica\n",
       "147            6.5           3.0            5.2           2.0  Iris-virginica\n",
       "148            6.2           3.4            5.4           2.3  Iris-virginica\n",
       "149            5.9           3.0            5.1           1.8  Iris-virginica\n",
       "\n",
       "[150 rows x 5 columns]"
      ]
     },
     "execution_count": 3,
     "metadata": {},
     "output_type": "execute_result"
    }
   ],
   "source": [
    "data_location = '/data/iris/keras/iris.csv'\n",
    "# data_location = \"https://s3.amazonaws.com/elephantscale-public/data/iris/keras/iris.csv\"\n",
    "\n",
    "iris = pd.read_csv(data_location)\n",
    "iris.columns = ['SepalLengthCm', 'SepalWidthCm', 'PetalLengthCm', 'PetalWidthCm','Species']\n",
    "\n",
    "iris"
   ]
  },
  {
   "cell_type": "markdown",
   "metadata": {},
   "source": [
    "## Step 3 : Shape Data\n",
    "\n",
    "### 3.1 - Select columns"
   ]
  },
  {
   "cell_type": "code",
   "execution_count": 4,
   "metadata": {},
   "outputs": [
    {
     "name": "stdout",
     "output_type": "stream",
     "text": [
      "   SepalLengthCm  SepalWidthCm  PetalLengthCm  PetalWidthCm\n",
      "0            5.1           3.5            1.4           0.2\n",
      "1            4.9           3.0            1.4           0.2\n",
      "2            4.7           3.2            1.3           0.2\n",
      "3            4.6           3.1            1.5           0.2\n",
      "4            5.0           3.6            1.4           0.2\n",
      "-----\n",
      "       Species\n",
      "0  Iris-setosa\n",
      "1  Iris-setosa\n",
      "2  Iris-setosa\n",
      "3  Iris-setosa\n",
      "4  Iris-setosa\n"
     ]
    }
   ],
   "source": [
    "input_columns = ['SepalLengthCm', 'SepalWidthCm', 'PetalLengthCm', 'PetalWidthCm']\n",
    "x = iris [input_columns]\n",
    "y = iris[['Species']]\n",
    "\n",
    "print (x.head())\n",
    "print('-----')\n",
    "print (y.head())"
   ]
  },
  {
   "cell_type": "markdown",
   "metadata": {},
   "source": [
    "### 3.2 - Encode Labels\n",
    "Our output labels are strings like 'Iris-setosa' and 'Iris-virginica' ..etc.  \n",
    "These are called **categorical variables**  \n",
    "We need to change these to numbers  \n",
    "This is called **encoding**"
   ]
  },
  {
   "cell_type": "code",
   "execution_count": 5,
   "metadata": {},
   "outputs": [
    {
     "name": "stdout",
     "output_type": "stream",
     "text": [
      "[0 0 0 0 0 0 0 0 0 0 0 0 0 0 0 0 0 0 0 0 0 0 0 0 0 0 0 0 0 0 0 0 0 0 0 0 0\n",
      " 0 0 0 0 0 0 0 0 0 0 0 0 0 1 1 1 1 1 1 1 1 1 1 1 1 1 1 1 1 1 1 1 1 1 1 1 1\n",
      " 1 1 1 1 1 1 1 1 1 1 1 1 1 1 1 1 1 1 1 1 1 1 1 1 1 1 2 2 2 2 2 2 2 2 2 2 2\n",
      " 2 2 2 2 2 2 2 2 2 2 2 2 2 2 2 2 2 2 2 2 2 2 2 2 2 2 2 2 2 2 2 2 2 2 2 2 2\n",
      " 2 2]\n"
     ]
    },
    {
     "name": "stderr",
     "output_type": "stream",
     "text": [
      "/home/ubuntu/apps/anaconda/envs/tf2/lib/python3.7/site-packages/sklearn/preprocessing/label.py:235: DataConversionWarning: A column-vector y was passed when a 1d array was expected. Please change the shape of y to (n_samples, ), for example using ravel().\n",
      "  y = column_or_1d(y, warn=True)\n"
     ]
    }
   ],
   "source": [
    "from sklearn.preprocessing import LabelEncoder\n",
    "encoder =  LabelEncoder()\n",
    "y1 = encoder.fit_transform(y.values) ## need y.values which is an array\n",
    "print(y1)"
   ]
  },
  {
   "cell_type": "markdown",
   "metadata": {},
   "source": [
    "### 3.3 - Create train/test split"
   ]
  },
  {
   "cell_type": "code",
   "execution_count": 6,
   "metadata": {},
   "outputs": [
    {
     "name": "stdout",
     "output_type": "stream",
     "text": [
      "x_train.shape :  (120, 4)\n",
      "y_train.shape :  (120,)\n",
      "x_test.shape :  (30, 4)\n",
      "y_test.shape :  (30,)\n"
     ]
    }
   ],
   "source": [
    "from sklearn.model_selection import train_test_split\n",
    "\n",
    "# supply 'y1' (encoded labels)\n",
    "x_train,x_test, y_train,y_test = train_test_split(x,y1,test_size=0.2,random_state=0) \n",
    "\n",
    "print (\"x_train.shape : \", x_train.shape)\n",
    "print (\"y_train.shape : \", y_train.shape)\n",
    "print (\"x_test.shape : \", x_test.shape)\n",
    "print (\"y_test.shape : \", y_test.shape)"
   ]
  },
  {
   "cell_type": "markdown",
   "metadata": {},
   "source": [
    "## Step 4 : Build the Model\n",
    "Since this is a classifier, here is how we are going to build the neural network\n",
    "- Neurons in Input layer  = input dimensions (4 here)\n",
    "- Neurons in hidden layer = ???\n",
    "- Neurons in Output layer = output classes (3 here)\n",
    "- Output activation is 'softmax'\n",
    "\n",
    "### TODO : Sketch the neural net\n",
    "- What is the input dimensions\n",
    "- how many neurons in layers\n",
    "- how many output neurons\n",
    "\n",
    "<img src=\"../assets/images/neural-net-unknown.png\" style=\"width:40%\"/>"
   ]
  },
  {
   "cell_type": "code",
   "execution_count": 7,
   "metadata": {},
   "outputs": [
    {
     "name": "stdout",
     "output_type": "stream",
     "text": [
      "input_dim :  4 , output classes :  3\n",
      "Model: \"sequential\"\n",
      "_________________________________________________________________\n",
      "Layer (type)                 Output Shape              Param #   \n",
      "=================================================================\n",
      "input_layer (Dense)          (None, 4)                 20        \n",
      "_________________________________________________________________\n",
      "hidden_1 (Dense)             (None, 64)                320       \n",
      "_________________________________________________________________\n",
      "output_layer (Dense)         (None, 3)                 195       \n",
      "=================================================================\n",
      "Total params: 535\n",
      "Trainable params: 535\n",
      "Non-trainable params: 0\n",
      "_________________________________________________________________\n",
      "None\n"
     ]
    }
   ],
   "source": [
    "input_dim = len(input_columns)\n",
    "output_clases = 3 \n",
    "print (\"input_dim : \", input_dim, \", output classes : \", output_clases)\n",
    "\n",
    "model = tf.keras.Sequential([\n",
    "            tf.keras.layers.Dense(units=input_dim, activation=tf.nn.relu, input_dim=input_dim, name=\"input_layer\"),\n",
    "            tf.keras.layers.Dense(units=64, activation=tf.nn.relu, name=\"hidden_1\"),\n",
    "            tf.keras.layers.Dense(units=output_clases,  activation=tf.nn.softmax, name=\"output_layer\")\n",
    "            ])\n",
    "\n",
    "# loss = 'sparse_categorical_crossentropy'  or 'categorical_crossentropy'\n",
    "model.compile(loss='sparse_categorical_crossentropy', \n",
    "                 optimizer=tf.keras.optimizers.Adam(), # or 'adam', \n",
    "                 metrics=['accuracy'])\n",
    "\n",
    "print (model.summary())"
   ]
  },
  {
   "cell_type": "markdown",
   "metadata": {},
   "source": [
    "## Step 5 : Tensorboard"
   ]
  },
  {
   "cell_type": "code",
   "execution_count": 8,
   "metadata": {},
   "outputs": [
    {
     "name": "stdout",
     "output_type": "stream",
     "text": [
      "Saving TB logs to :  /tmp/tensorboard-logs/classification-iris-1/2019-09-09--07-55-49\n"
     ]
    }
   ],
   "source": [
    "## This is fairly boiler plate code\n",
    "\n",
    "import datetime\n",
    "import os\n",
    "\n",
    "app_name = 'classification-iris-1' # you can change this, if you like\n",
    "\n",
    "tb_top_level_dir= '/tmp/tensorboard-logs'\n",
    "tensorboard_logs_dir= os.path.join (tb_top_level_dir, app_name, \n",
    "                                    datetime.datetime.now().strftime(\"%Y-%m-%d--%H-%M-%S\"))\n",
    "print (\"Saving TB logs to : \" , tensorboard_logs_dir)\n",
    "\n",
    "tensorboard_callback = tf.keras.callbacks.TensorBoard(log_dir=tensorboard_logs_dir, histogram_freq=1)\n"
   ]
  },
  {
   "cell_type": "markdown",
   "metadata": {},
   "source": [
    "## Step 6 : Train"
   ]
  },
  {
   "cell_type": "code",
   "execution_count": 9,
   "metadata": {},
   "outputs": [
    {
     "name": "stdout",
     "output_type": "stream",
     "text": [
      "training starting ...\n",
      "WARNING:tensorflow:Falling back from v2 loop because of error: Failed to find data adapter that can handle input: <class 'pandas.core.frame.DataFrame'>, <class 'NoneType'>\n",
      "WARNING:tensorflow:From /home/ubuntu/apps/anaconda/envs/tf2/lib/python3.7/site-packages/tensorflow_core/python/ops/math_grad.py:1424: where (from tensorflow.python.ops.array_ops) is deprecated and will be removed in a future version.\n",
      "Instructions for updating:\n",
      "Use tf.where in 2.0, which has the same broadcast rule as np.where\n",
      "Train on 96 samples, validate on 24 samples\n",
      "Epoch 1/100\n",
      "96/96 [==============================] - 0s 830us/sample - loss: 1.0941 - accuracy: 0.0938 - val_loss: 1.0952 - val_accuracy: 0.0000e+00\n",
      "Epoch 2/100\n",
      "96/96 [==============================] - 0s 59us/sample - loss: 1.0854 - accuracy: 0.2188 - val_loss: 1.0905 - val_accuracy: 0.2917\n",
      "Epoch 3/100\n",
      "96/96 [==============================] - 0s 64us/sample - loss: 1.0775 - accuracy: 0.3854 - val_loss: 1.0855 - val_accuracy: 0.2917\n",
      "Epoch 4/100\n",
      "96/96 [==============================] - 0s 58us/sample - loss: 1.0687 - accuracy: 0.3854 - val_loss: 1.0800 - val_accuracy: 0.2917\n",
      "Epoch 5/100\n",
      "96/96 [==============================] - 0s 56us/sample - loss: 1.0569 - accuracy: 0.3854 - val_loss: 1.0742 - val_accuracy: 0.2917\n",
      "Epoch 6/100\n",
      "96/96 [==============================] - 0s 61us/sample - loss: 1.0464 - accuracy: 0.3854 - val_loss: 1.0685 - val_accuracy: 0.2917\n",
      "Epoch 7/100\n",
      "96/96 [==============================] - 0s 59us/sample - loss: 1.0362 - accuracy: 0.3854 - val_loss: 1.0628 - val_accuracy: 0.2917\n",
      "Epoch 8/100\n",
      "96/96 [==============================] - 0s 60us/sample - loss: 1.0250 - accuracy: 0.3854 - val_loss: 1.0575 - val_accuracy: 0.2917\n",
      "Epoch 9/100\n",
      "96/96 [==============================] - 0s 62us/sample - loss: 1.0132 - accuracy: 0.3854 - val_loss: 1.0523 - val_accuracy: 0.2917\n",
      "Epoch 10/100\n",
      "96/96 [==============================] - 0s 56us/sample - loss: 1.0016 - accuracy: 0.3854 - val_loss: 1.0475 - val_accuracy: 0.2917\n",
      "Epoch 11/100\n",
      "96/96 [==============================] - 0s 69us/sample - loss: 0.9900 - accuracy: 0.3854 - val_loss: 1.0432 - val_accuracy: 0.2917\n",
      "Epoch 12/100\n",
      "96/96 [==============================] - 0s 59us/sample - loss: 0.9776 - accuracy: 0.3854 - val_loss: 1.0388 - val_accuracy: 0.2917\n",
      "Epoch 13/100\n",
      "96/96 [==============================] - 0s 65us/sample - loss: 0.9661 - accuracy: 0.3854 - val_loss: 1.0345 - val_accuracy: 0.2917\n",
      "Epoch 14/100\n",
      "96/96 [==============================] - 0s 60us/sample - loss: 0.9545 - accuracy: 0.3854 - val_loss: 1.0307 - val_accuracy: 0.2917\n",
      "Epoch 15/100\n",
      "96/96 [==============================] - 0s 57us/sample - loss: 0.9430 - accuracy: 0.3854 - val_loss: 1.0267 - val_accuracy: 0.2917\n",
      "Epoch 16/100\n",
      "96/96 [==============================] - 0s 66us/sample - loss: 0.9312 - accuracy: 0.3854 - val_loss: 1.0221 - val_accuracy: 0.2917\n",
      "Epoch 17/100\n",
      "96/96 [==============================] - 0s 56us/sample - loss: 0.9197 - accuracy: 0.3854 - val_loss: 1.0165 - val_accuracy: 0.2917\n",
      "Epoch 18/100\n",
      "96/96 [==============================] - 0s 58us/sample - loss: 0.9094 - accuracy: 0.4896 - val_loss: 1.0114 - val_accuracy: 0.5417\n",
      "Epoch 19/100\n",
      "96/96 [==============================] - 0s 59us/sample - loss: 0.8993 - accuracy: 0.7292 - val_loss: 1.0059 - val_accuracy: 0.5417\n",
      "Epoch 20/100\n",
      "96/96 [==============================] - 0s 62us/sample - loss: 0.8899 - accuracy: 0.7292 - val_loss: 1.0002 - val_accuracy: 0.5417\n",
      "Epoch 21/100\n",
      "96/96 [==============================] - 0s 63us/sample - loss: 0.8812 - accuracy: 0.7292 - val_loss: 0.9947 - val_accuracy: 0.5417\n",
      "Epoch 22/100\n",
      "96/96 [==============================] - 0s 58us/sample - loss: 0.8729 - accuracy: 0.7292 - val_loss: 0.9889 - val_accuracy: 0.5417\n",
      "Epoch 23/100\n",
      "96/96 [==============================] - 0s 64us/sample - loss: 0.8647 - accuracy: 0.7292 - val_loss: 0.9815 - val_accuracy: 0.5417\n",
      "Epoch 24/100\n",
      "96/96 [==============================] - 0s 60us/sample - loss: 0.8570 - accuracy: 0.7292 - val_loss: 0.9748 - val_accuracy: 0.5417\n",
      "Epoch 25/100\n",
      "96/96 [==============================] - 0s 61us/sample - loss: 0.8504 - accuracy: 0.7292 - val_loss: 0.9689 - val_accuracy: 0.5417\n",
      "Epoch 26/100\n",
      "96/96 [==============================] - 0s 59us/sample - loss: 0.8429 - accuracy: 0.7292 - val_loss: 0.9607 - val_accuracy: 0.5417\n",
      "Epoch 27/100\n",
      "96/96 [==============================] - 0s 55us/sample - loss: 0.8363 - accuracy: 0.7292 - val_loss: 0.9533 - val_accuracy: 0.5417\n",
      "Epoch 28/100\n",
      "96/96 [==============================] - 0s 63us/sample - loss: 0.8301 - accuracy: 0.7292 - val_loss: 0.9435 - val_accuracy: 0.5417\n",
      "Epoch 29/100\n",
      "96/96 [==============================] - 0s 61us/sample - loss: 0.8233 - accuracy: 0.7292 - val_loss: 0.9367 - val_accuracy: 0.5417\n",
      "Epoch 30/100\n",
      "96/96 [==============================] - 0s 56us/sample - loss: 0.8173 - accuracy: 0.7292 - val_loss: 0.9283 - val_accuracy: 0.5417\n",
      "Epoch 31/100\n",
      "96/96 [==============================] - 0s 61us/sample - loss: 0.8115 - accuracy: 0.7292 - val_loss: 0.9215 - val_accuracy: 0.5417\n",
      "Epoch 32/100\n",
      "96/96 [==============================] - 0s 57us/sample - loss: 0.8061 - accuracy: 0.7292 - val_loss: 0.9133 - val_accuracy: 0.5417\n",
      "Epoch 33/100\n",
      "96/96 [==============================] - 0s 61us/sample - loss: 0.8008 - accuracy: 0.7292 - val_loss: 0.9078 - val_accuracy: 0.5417\n",
      "Epoch 34/100\n",
      "96/96 [==============================] - 0s 61us/sample - loss: 0.7954 - accuracy: 0.7292 - val_loss: 0.9008 - val_accuracy: 0.5417\n",
      "Epoch 35/100\n",
      "96/96 [==============================] - 0s 65us/sample - loss: 0.7906 - accuracy: 0.7292 - val_loss: 0.8935 - val_accuracy: 0.5417\n",
      "Epoch 36/100\n",
      "96/96 [==============================] - 0s 67us/sample - loss: 0.7857 - accuracy: 0.7292 - val_loss: 0.8880 - val_accuracy: 0.5417\n",
      "Epoch 37/100\n",
      "96/96 [==============================] - 0s 61us/sample - loss: 0.7809 - accuracy: 0.7292 - val_loss: 0.8822 - val_accuracy: 0.5417\n",
      "Epoch 38/100\n",
      "96/96 [==============================] - 0s 69us/sample - loss: 0.7764 - accuracy: 0.7292 - val_loss: 0.8767 - val_accuracy: 0.5417\n",
      "Epoch 39/100\n",
      "96/96 [==============================] - 0s 61us/sample - loss: 0.7719 - accuracy: 0.7292 - val_loss: 0.8709 - val_accuracy: 0.5417\n",
      "Epoch 40/100\n",
      "96/96 [==============================] - 0s 60us/sample - loss: 0.7677 - accuracy: 0.7292 - val_loss: 0.8646 - val_accuracy: 0.5417\n",
      "Epoch 41/100\n",
      "96/96 [==============================] - 0s 58us/sample - loss: 0.7634 - accuracy: 0.7292 - val_loss: 0.8588 - val_accuracy: 0.5417\n",
      "Epoch 42/100\n",
      "96/96 [==============================] - 0s 57us/sample - loss: 0.7595 - accuracy: 0.7292 - val_loss: 0.8526 - val_accuracy: 0.5417\n",
      "Epoch 43/100\n",
      "96/96 [==============================] - 0s 60us/sample - loss: 0.7557 - accuracy: 0.7292 - val_loss: 0.8465 - val_accuracy: 0.5417\n",
      "Epoch 44/100\n",
      "96/96 [==============================] - 0s 60us/sample - loss: 0.7515 - accuracy: 0.7292 - val_loss: 0.8417 - val_accuracy: 0.5417\n",
      "Epoch 45/100\n",
      "96/96 [==============================] - 0s 63us/sample - loss: 0.7477 - accuracy: 0.7292 - val_loss: 0.8374 - val_accuracy: 0.5417\n",
      "Epoch 46/100\n",
      "96/96 [==============================] - 0s 60us/sample - loss: 0.7444 - accuracy: 0.7292 - val_loss: 0.8315 - val_accuracy: 0.5417\n",
      "Epoch 47/100\n",
      "96/96 [==============================] - 0s 60us/sample - loss: 0.7407 - accuracy: 0.7292 - val_loss: 0.8263 - val_accuracy: 0.5417\n",
      "Epoch 48/100\n",
      "96/96 [==============================] - 0s 62us/sample - loss: 0.7368 - accuracy: 0.7292 - val_loss: 0.8229 - val_accuracy: 0.5417\n",
      "Epoch 49/100\n",
      "96/96 [==============================] - 0s 74us/sample - loss: 0.7334 - accuracy: 0.7292 - val_loss: 0.8186 - val_accuracy: 0.5417\n",
      "Epoch 50/100\n",
      "96/96 [==============================] - 0s 67us/sample - loss: 0.7299 - accuracy: 0.7292 - val_loss: 0.8148 - val_accuracy: 0.5417\n",
      "Epoch 51/100\n",
      "96/96 [==============================] - 0s 72us/sample - loss: 0.7268 - accuracy: 0.7292 - val_loss: 0.8100 - val_accuracy: 0.5417\n",
      "Epoch 52/100\n",
      "96/96 [==============================] - 0s 64us/sample - loss: 0.7234 - accuracy: 0.7292 - val_loss: 0.8079 - val_accuracy: 0.5417\n",
      "Epoch 53/100\n",
      "96/96 [==============================] - 0s 67us/sample - loss: 0.7201 - accuracy: 0.7292 - val_loss: 0.8048 - val_accuracy: 0.5417\n",
      "Epoch 54/100\n",
      "96/96 [==============================] - 0s 63us/sample - loss: 0.7173 - accuracy: 0.7292 - val_loss: 0.7992 - val_accuracy: 0.5417\n",
      "Epoch 55/100\n",
      "96/96 [==============================] - 0s 62us/sample - loss: 0.7138 - accuracy: 0.7292 - val_loss: 0.7959 - val_accuracy: 0.5417\n",
      "Epoch 56/100\n",
      "96/96 [==============================] - 0s 60us/sample - loss: 0.7110 - accuracy: 0.7292 - val_loss: 0.7907 - val_accuracy: 0.5417\n",
      "Epoch 57/100\n",
      "96/96 [==============================] - 0s 60us/sample - loss: 0.7076 - accuracy: 0.7292 - val_loss: 0.7873 - val_accuracy: 0.5417\n",
      "Epoch 58/100\n",
      "96/96 [==============================] - 0s 64us/sample - loss: 0.7046 - accuracy: 0.7292 - val_loss: 0.7827 - val_accuracy: 0.5417\n",
      "Epoch 59/100\n",
      "96/96 [==============================] - 0s 61us/sample - loss: 0.7015 - accuracy: 0.7292 - val_loss: 0.7788 - val_accuracy: 0.5417\n",
      "Epoch 60/100\n",
      "96/96 [==============================] - 0s 65us/sample - loss: 0.6988 - accuracy: 0.7292 - val_loss: 0.7748 - val_accuracy: 0.5417\n",
      "Epoch 61/100\n",
      "96/96 [==============================] - 0s 60us/sample - loss: 0.6956 - accuracy: 0.7292 - val_loss: 0.7721 - val_accuracy: 0.5417\n",
      "Epoch 62/100\n",
      "96/96 [==============================] - 0s 59us/sample - loss: 0.6928 - accuracy: 0.7292 - val_loss: 0.7690 - val_accuracy: 0.5417\n",
      "Epoch 63/100\n",
      "96/96 [==============================] - 0s 61us/sample - loss: 0.6899 - accuracy: 0.7292 - val_loss: 0.7648 - val_accuracy: 0.5417\n",
      "Epoch 64/100\n",
      "96/96 [==============================] - 0s 62us/sample - loss: 0.6871 - accuracy: 0.7292 - val_loss: 0.7629 - val_accuracy: 0.5417\n",
      "Epoch 65/100\n",
      "96/96 [==============================] - 0s 61us/sample - loss: 0.6839 - accuracy: 0.7292 - val_loss: 0.7597 - val_accuracy: 0.5417\n",
      "Epoch 66/100\n",
      "96/96 [==============================] - 0s 63us/sample - loss: 0.6812 - accuracy: 0.7292 - val_loss: 0.7549 - val_accuracy: 0.5417\n",
      "Epoch 67/100\n",
      "96/96 [==============================] - 0s 63us/sample - loss: 0.6782 - accuracy: 0.7292 - val_loss: 0.7506 - val_accuracy: 0.5417\n",
      "Epoch 68/100\n",
      "96/96 [==============================] - 0s 59us/sample - loss: 0.6756 - accuracy: 0.7292 - val_loss: 0.7463 - val_accuracy: 0.5417\n",
      "Epoch 69/100\n",
      "96/96 [==============================] - 0s 57us/sample - loss: 0.6725 - accuracy: 0.7396 - val_loss: 0.7436 - val_accuracy: 0.5833\n",
      "Epoch 70/100\n",
      "96/96 [==============================] - 0s 68us/sample - loss: 0.6695 - accuracy: 0.7396 - val_loss: 0.7404 - val_accuracy: 0.5833\n",
      "Epoch 71/100\n",
      "96/96 [==============================] - 0s 66us/sample - loss: 0.6668 - accuracy: 0.7500 - val_loss: 0.7371 - val_accuracy: 0.5833\n",
      "Epoch 72/100\n",
      "96/96 [==============================] - 0s 58us/sample - loss: 0.6641 - accuracy: 0.7500 - val_loss: 0.7362 - val_accuracy: 0.5833\n",
      "Epoch 73/100\n",
      "96/96 [==============================] - 0s 78us/sample - loss: 0.6610 - accuracy: 0.7500 - val_loss: 0.7339 - val_accuracy: 0.5833\n",
      "Epoch 74/100\n",
      "96/96 [==============================] - 0s 72us/sample - loss: 0.6584 - accuracy: 0.7500 - val_loss: 0.7292 - val_accuracy: 0.5833\n",
      "Epoch 75/100\n",
      "96/96 [==============================] - 0s 81us/sample - loss: 0.6552 - accuracy: 0.7500 - val_loss: 0.7261 - val_accuracy: 0.5833\n",
      "Epoch 76/100\n",
      "96/96 [==============================] - 0s 61us/sample - loss: 0.6524 - accuracy: 0.7500 - val_loss: 0.7224 - val_accuracy: 0.5833\n",
      "Epoch 77/100\n",
      "96/96 [==============================] - 0s 627us/sample - loss: 0.6495 - accuracy: 0.7500 - val_loss: 0.7190 - val_accuracy: 0.5833\n",
      "Epoch 78/100\n",
      "96/96 [==============================] - 0s 55us/sample - loss: 0.6467 - accuracy: 0.7500 - val_loss: 0.7150 - val_accuracy: 0.6250\n",
      "Epoch 79/100\n",
      "96/96 [==============================] - 0s 58us/sample - loss: 0.6437 - accuracy: 0.7500 - val_loss: 0.7126 - val_accuracy: 0.6250\n",
      "Epoch 80/100\n",
      "96/96 [==============================] - 0s 62us/sample - loss: 0.6408 - accuracy: 0.7500 - val_loss: 0.7104 - val_accuracy: 0.6250\n",
      "Epoch 81/100\n",
      "96/96 [==============================] - 0s 62us/sample - loss: 0.6380 - accuracy: 0.7604 - val_loss: 0.7070 - val_accuracy: 0.6667\n",
      "Epoch 82/100\n",
      "96/96 [==============================] - 0s 60us/sample - loss: 0.6352 - accuracy: 0.7604 - val_loss: 0.7024 - val_accuracy: 0.6667\n",
      "Epoch 83/100\n",
      "96/96 [==============================] - 0s 61us/sample - loss: 0.6325 - accuracy: 0.7708 - val_loss: 0.7011 - val_accuracy: 0.6667\n",
      "Epoch 84/100\n",
      "96/96 [==============================] - 0s 59us/sample - loss: 0.6292 - accuracy: 0.7708 - val_loss: 0.6973 - val_accuracy: 0.6667\n",
      "Epoch 85/100\n",
      "96/96 [==============================] - 0s 60us/sample - loss: 0.6263 - accuracy: 0.7708 - val_loss: 0.6931 - val_accuracy: 0.6667\n",
      "Epoch 86/100\n",
      "96/96 [==============================] - 0s 59us/sample - loss: 0.6233 - accuracy: 0.7708 - val_loss: 0.6899 - val_accuracy: 0.7500\n",
      "Epoch 87/100\n",
      "96/96 [==============================] - 0s 62us/sample - loss: 0.6205 - accuracy: 0.7708 - val_loss: 0.6860 - val_accuracy: 0.7500\n",
      "Epoch 88/100\n",
      "96/96 [==============================] - 0s 62us/sample - loss: 0.6180 - accuracy: 0.7812 - val_loss: 0.6813 - val_accuracy: 0.7500\n",
      "Epoch 89/100\n",
      "96/96 [==============================] - 0s 65us/sample - loss: 0.6144 - accuracy: 0.8021 - val_loss: 0.6797 - val_accuracy: 0.7500\n",
      "Epoch 90/100\n",
      "96/96 [==============================] - 0s 62us/sample - loss: 0.6114 - accuracy: 0.8021 - val_loss: 0.6779 - val_accuracy: 0.7500\n",
      "Epoch 91/100\n",
      "96/96 [==============================] - 0s 61us/sample - loss: 0.6083 - accuracy: 0.8021 - val_loss: 0.6753 - val_accuracy: 0.7500\n",
      "Epoch 92/100\n",
      "96/96 [==============================] - 0s 58us/sample - loss: 0.6056 - accuracy: 0.8021 - val_loss: 0.6724 - val_accuracy: 0.7500\n",
      "Epoch 93/100\n",
      "96/96 [==============================] - 0s 61us/sample - loss: 0.6026 - accuracy: 0.8021 - val_loss: 0.6699 - val_accuracy: 0.7500\n",
      "Epoch 94/100\n",
      "96/96 [==============================] - 0s 61us/sample - loss: 0.5994 - accuracy: 0.8229 - val_loss: 0.6655 - val_accuracy: 0.7500\n",
      "Epoch 95/100\n",
      "96/96 [==============================] - 0s 65us/sample - loss: 0.5968 - accuracy: 0.8229 - val_loss: 0.6596 - val_accuracy: 0.7917\n",
      "Epoch 96/100\n",
      "96/96 [==============================] - 0s 64us/sample - loss: 0.5935 - accuracy: 0.8333 - val_loss: 0.6573 - val_accuracy: 0.7917\n",
      "Epoch 97/100\n",
      "96/96 [==============================] - 0s 56us/sample - loss: 0.5903 - accuracy: 0.8333 - val_loss: 0.6545 - val_accuracy: 0.7917\n",
      "Epoch 98/100\n",
      "96/96 [==============================] - 0s 60us/sample - loss: 0.5875 - accuracy: 0.8438 - val_loss: 0.6498 - val_accuracy: 0.7917\n",
      "Epoch 99/100\n",
      "96/96 [==============================] - 0s 58us/sample - loss: 0.5849 - accuracy: 0.8438 - val_loss: 0.6455 - val_accuracy: 0.7917\n",
      "Epoch 100/100\n",
      "96/96 [==============================] - 0s 62us/sample - loss: 0.5814 - accuracy: 0.8438 - val_loss: 0.6449 - val_accuracy: 0.7917\n",
      "training done.\n",
      "CPU times: user 1.17 s, sys: 81 ms, total: 1.25 s\n",
      "Wall time: 982 ms\n"
     ]
    }
   ],
   "source": [
    "%%time\n",
    "\n",
    "## TODO configure some of these\n",
    "epochs = 100  ## experiment 100, 500, 1000\n",
    "\n",
    "print (\"training starting ...\")\n",
    "history = model.fit(\n",
    "              x_train, y_train,\n",
    "              epochs=epochs, validation_split = 0.2, verbose=1,\n",
    "              callbacks=[tensorboard_callback])\n",
    "\n",
    "print (\"training done.\")"
   ]
  },
  {
   "cell_type": "markdown",
   "metadata": {},
   "source": [
    "## Step 7 : Plot History"
   ]
  },
  {
   "cell_type": "code",
   "execution_count": 10,
   "metadata": {},
   "outputs": [
    {
     "data": {
      "image/png": "[encoded data removed]",
      "text/plain": [
       "<Figure size 432x288 with 1 Axes>"
      ]
     },
     "metadata": {
      "needs_background": "light"
     },
     "output_type": "display_data"
    }
   ],
   "source": [
    "%matplotlib inline\n",
    "import matplotlib.pyplot as plt\n",
    "\n",
    "plt.plot(history.history['accuracy'], label='train_accuracy')\n",
    "plt.plot(history.history['val_accuracy'], label='val_accuracy')\n",
    "plt.legend()\n",
    "plt.show()"
   ]
  },
  {
   "cell_type": "markdown",
   "metadata": {},
   "source": [
    "## Step 8 : Predict"
   ]
  },
  {
   "cell_type": "code",
   "execution_count": 11,
   "metadata": {},
   "outputs": [
    {
     "name": "stdout",
     "output_type": "stream",
     "text": [
      "WARNING:tensorflow:Falling back from v2 loop because of error: Failed to find data adapter that can handle input: <class 'pandas.core.frame.DataFrame'>, <class 'NoneType'>\n"
     ]
    },
    {
     "data": {
      "text/plain": [
       "array([[8.95822013e-04, 1.30858958e-01, 8.68245244e-01],\n",
       "       [4.99455072e-02, 4.94711012e-01, 4.55343425e-01],\n",
       "       [4.45664525e-01, 3.04133594e-01, 2.50201911e-01],\n",
       "       [1.92108273e-03, 1.75240293e-01, 8.22838664e-01],\n",
       "       [4.45664525e-01, 3.04133594e-01, 2.50201911e-01],\n",
       "       [6.15859055e-04, 1.12999715e-01, 8.86384368e-01],\n",
       "       [4.45664525e-01, 3.04133594e-01, 2.50201911e-01],\n",
       "       [2.74895895e-02, 4.26703393e-01, 5.45807064e-01],\n",
       "       [2.11498383e-02, 3.96436453e-01, 5.82413673e-01],\n",
       "       [5.40211312e-02, 5.00332832e-01, 4.45646048e-01],\n",
       "       [7.81546999e-03, 2.89757878e-01, 7.02426672e-01],\n",
       "       [3.77329290e-02, 4.63323802e-01, 4.98943299e-01],\n",
       "       [3.94650698e-02, 4.68455762e-01, 4.92079198e-01],\n",
       "       [1.94377713e-02, 3.86798441e-01, 5.93763769e-01],\n",
       "       [2.72743776e-02, 4.25791830e-01, 5.46933770e-01],\n",
       "       [4.45664525e-01, 3.04133594e-01, 2.50201911e-01],\n",
       "       [2.49467473e-02, 4.15456831e-01, 5.59596419e-01],\n",
       "       [3.88640091e-02, 4.66703713e-01, 4.94432211e-01],\n",
       "       [4.45664525e-01, 3.04133594e-01, 2.50201911e-01],\n",
       "       [4.45664525e-01, 3.04133594e-01, 2.50201911e-01],\n",
       "       [3.70018277e-03, 2.23137110e-01, 7.73162663e-01],\n",
       "       [2.92010177e-02, 4.33710098e-01, 5.37088931e-01],\n",
       "       [4.45664525e-01, 3.04133594e-01, 2.50201911e-01],\n",
       "       [4.45664525e-01, 3.04133594e-01, 2.50201911e-01],\n",
       "       [7.12685846e-03, 2.80849338e-01, 7.12023854e-01],\n",
       "       [4.45664525e-01, 3.04133594e-01, 2.50201911e-01],\n",
       "       [4.45664525e-01, 3.04133594e-01, 2.50201911e-01],\n",
       "       [4.84870225e-02, 4.91589487e-01, 4.59923476e-01],\n",
       "       [1.02794953e-01, 5.02656877e-01, 3.94548267e-01],\n",
       "       [4.45664525e-01, 3.04133594e-01, 2.50201911e-01]], dtype=float32)"
      ]
     },
     "execution_count": 11,
     "metadata": {},
     "output_type": "execute_result"
    }
   ],
   "source": [
    "predictions = model.predict(x_test)\n",
    "predictions"
   ]
  },
  {
   "cell_type": "markdown",
   "metadata": {},
   "source": [
    "### Understanding Predictions\n",
    "In the above output, for each test input, the softmax layer, produces 3 numbers.  \n",
    "These numbers are probabilities.  If you add them up, you will get 1.0  \n",
    "We want to choose the output that has the highest probability.  \n",
    "\n",
    "For example `(0.03086184, 0.33362046, 0.6355177)` means  \n",
    "- class 1 has prob of 0.03  or 3%\n",
    "- class 2 has prob of 0.33  or 33%\n",
    "- class 3 has prob of 0.63  or 63%\n",
    "\n",
    "So we choose the class with highest probability as prediction : class 3\n",
    "\n",
    "\n",
    "We can get class predictions directly as follows"
   ]
  },
  {
   "cell_type": "code",
   "execution_count": 12,
   "metadata": {},
   "outputs": [
    {
     "name": "stdout",
     "output_type": "stream",
     "text": [
      "WARNING:tensorflow:Falling back from v2 loop because of error: Failed to find data adapter that can handle input: <class 'pandas.core.frame.DataFrame'>, <class 'NoneType'>\n"
     ]
    },
    {
     "data": {
      "text/plain": [
       "array([2, 1, 0, 2, 0, 2, 0, 2, 2, 1, 2, 2, 2, 2, 2, 0, 2, 2, 0, 0, 2, 2,\n",
       "       0, 0, 2, 0, 0, 1, 1, 0])"
      ]
     },
     "execution_count": 12,
     "metadata": {},
     "output_type": "execute_result"
    }
   ],
   "source": [
    "## Use 'predict_classes' instead of 'predict'\n",
    "y_pred = model.predict_classes(x_test)\n",
    "y_pred"
   ]
  },
  {
   "cell_type": "markdown",
   "metadata": {},
   "source": [
    "## Step 9 : Evaluate the model\n",
    "\n",
    "### 9.1 - Print out metrics"
   ]
  },
  {
   "cell_type": "code",
   "execution_count": 13,
   "metadata": {},
   "outputs": [
    {
     "name": "stdout",
     "output_type": "stream",
     "text": [
      "model metrics :  ['loss', 'accuracy']\n",
      "WARNING:tensorflow:Falling back from v2 loop because of error: Failed to find data adapter that can handle input: <class 'pandas.core.frame.DataFrame'>, <class 'NoneType'>\n",
      "Metric : loss = 0.69\n",
      "Metric : accuracy = 0.70\n"
     ]
    }
   ],
   "source": [
    "metric_names = model.metrics_names\n",
    "print (\"model metrics : \" , metric_names)\n",
    "\n",
    "metrics = model.evaluate(x_test, y_test, verbose=0)\n",
    "\n",
    "for idx, metric in enumerate(metric_names):\n",
    "    print (\"Metric : {} = {:,.2f}\".format (metric_names[idx], metrics[idx]))"
   ]
  },
  {
   "cell_type": "markdown",
   "metadata": {},
   "source": [
    "### 9.2 - Confussion Matrix\n",
    "Since this is a classification problem, confusion matrix is very effective way to evaluate our model"
   ]
  },
  {
   "cell_type": "code",
   "execution_count": 14,
   "metadata": {},
   "outputs": [
    {
     "data": {
      "text/plain": [
       "array([[11,  0,  0],\n",
       "       [ 0,  4,  9],\n",
       "       [ 0,  0,  6]])"
      ]
     },
     "execution_count": 14,
     "metadata": {},
     "output_type": "execute_result"
    }
   ],
   "source": [
    "## plain confusion matrix \n",
    "\n",
    "from sklearn.metrics import confusion_matrix\n",
    "import seaborn as sns\n",
    "\n",
    "cm = confusion_matrix(y_test, y_pred, labels = [0,1,2])\n",
    "cm\n"
   ]
  },
  {
   "cell_type": "code",
   "execution_count": 15,
   "metadata": {},
   "outputs": [
    {
     "data": {
      "image/png": "[encoded data removed]",
      "text/plain": [
       "<Figure size 576x432 with 2 Axes>"
      ]
     },
     "metadata": {
      "needs_background": "light"
     },
     "output_type": "display_data"
    }
   ],
   "source": [
    "## Plot confusion matrix\n",
    "import os\n",
    "import sys\n",
    "top_dir = os.path.abspath(os.path.join(os.getcwd(), \"../\"))\n",
    "if top_dir not in sys.path:\n",
    "    sys.path.append(top_dir)\n",
    "\n",
    "import my_utils\n",
    "\n",
    "my_utils.plot_confusion_matrix(cm, target_names=[0,1,2], normalize=False)"
   ]
  },
  {
   "cell_type": "markdown",
   "metadata": {},
   "source": [
    "### 9.3 - Metrics calculated from Confusion Matrix"
   ]
  },
  {
   "cell_type": "code",
   "execution_count": 16,
   "metadata": {},
   "outputs": [
    {
     "name": "stdout",
     "output_type": "stream",
     "text": [
      "{'0': {'f1-score': 1.0, 'precision': 1.0, 'recall': 1.0, 'support': 11},\n",
      " '1': {'f1-score': 0.47058823529411764,\n",
      "       'precision': 1.0,\n",
      "       'recall': 0.3076923076923077,\n",
      "       'support': 13},\n",
      " '2': {'f1-score': 0.5714285714285715,\n",
      "       'precision': 0.4,\n",
      "       'recall': 1.0,\n",
      "       'support': 6},\n",
      " 'accuracy': 0.7,\n",
      " 'macro avg': {'f1-score': 0.6806722689075632,\n",
      "               'precision': 0.7999999999999999,\n",
      "               'recall': 0.7692307692307692,\n",
      "               'support': 30},\n",
      " 'weighted avg': {'f1-score': 0.6848739495798319,\n",
      "                  'precision': 0.88,\n",
      "                  'recall': 0.7,\n",
      "                  'support': 30}}\n"
     ]
    }
   ],
   "source": [
    "from sklearn.metrics import classification_report\n",
    "from pprint import pprint\n",
    "\n",
    "pprint(classification_report(y_test, y_pred, output_dict=True))"
   ]
  },
  {
   "cell_type": "markdown",
   "metadata": {},
   "source": [
    "### TODO : Intepret confusion matrix\n",
    "Instructor will walk you through the matrix.  \n",
    "Answer these questions\n",
    "- which class is classified correctly mostly\n",
    "- which class is classified incorrectly?"
   ]
  },
  {
   "cell_type": "markdown",
   "metadata": {},
   "source": [
    "## Step 10 : Improve the Model\n",
    "\n",
    "Inspect the following\n",
    "- What is the metric 'accuracy' in step 9.1\n",
    "- And verify this with tensorboard (port 6066)\n",
    "\n",
    "Most likely, we didn't get a great accuracy.  \n",
    "How can we improve it?\n",
    "\n",
    "**Try the following ideas** \n",
    "\n",
    "- **Idea-1 : Increase neurons in hidden layer**  \n",
    "  - In Step-4, increase hidden layer neurons from 8 --> 64  \n",
    "  - Click 'Kernel --> Restart and Run all Cells'  \n",
    "  - Hopefully you should see improvement in the accuracy.  \n",
    "  - Check  accuracy metrics / confusion matrix / tensorboard"
   ]
  },
  {
   "cell_type": "markdown",
   "metadata": {},
   "source": [
    "## Step 11 : Create a compact version of this notebook\n",
    "Start another notebook and implement this notebook in the most compact way!"
   ]
  },
  {
   "cell_type": "code",
   "execution_count": null,
   "metadata": {},
   "outputs": [],
   "source": []
  }
 ],
 "metadata": {
  "kernelspec": {
   "display_name": "tf2",
   "language": "python",
   "name": "tf2"
  },
  "language_info": {
   "codemirror_mode": {
    "name": "ipython",
    "version": 3
   },
   "file_extension": ".py",
   "mimetype": "text/x-python",
   "name": "python",
   "nbconvert_exporter": "python",
   "pygments_lexer": "ipython3",
   "version": "3.7.4"
  }
 },
 "nbformat": 4,
 "nbformat_minor": 4
}
