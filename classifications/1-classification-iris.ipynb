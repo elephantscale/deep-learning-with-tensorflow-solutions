{
 "cells": [
  {
   "cell_type": "markdown",
   "metadata": {},
   "source": [
    "## Deep Neural Network (DNN) Classifier - Iris\n",
    "We will build a relataively simple neuran net to classify IRIS dataset "
   ]
  },
  {
   "cell_type": "markdown",
   "metadata": {},
   "source": [
    "## Step 1 - About IRIS Dataset\n",
    "\n",
    "Imagine you are a botanist seeking an automated way to categorize each Iris flower you find. Machine learning provides many algorithms to statistically classify flowers. For instance, a sophisticated machine learning program could classify flowers based on photographs. Our ambitions are more modest—we're going to classify Iris flowers based on the length and width measurements of their [sepals](https://en.wikipedia.org/wiki/Sepal) and [petals](https://en.wikipedia.org/wiki/Petal).\n",
    "\n",
    "The Iris genus entails about 300 species, but our program will only classify the following three:\n",
    "\n",
    "* Iris setosa\n",
    "* Iris virginica\n",
    "* Iris versicolor\n",
    "\n",
    "<table>\n",
    "  <tr><td>\n",
    "    <img src=\"https://www.tensorflow.org/images/iris_three_species.jpg\"\n",
    "         alt=\"Petal geometry compared for three iris species: Iris setosa, Iris virginica, and Iris versicolor\">\n",
    "  </td></tr>\n",
    "  <tr><td align=\"center\">\n",
    "    <b>Figure 1.</b> <a href=\"https://commons.wikimedia.org/w/index.php?curid=170298\">Iris setosa</a> (by <a href=\"https://commons.wikimedia.org/wiki/User:Radomil\">Radomil</a>, CC BY-SA 3.0), <a href=\"https://commons.wikimedia.org/w/index.php?curid=248095\">Iris versicolor</a>, (by <a href=\"https://commons.wikimedia.org/wiki/User:Dlanglois\">Dlanglois</a>, CC BY-SA 3.0), and <a href=\"https://www.flickr.com/photos/33397993@N05/3352169862\">Iris virginica</a> (by <a href=\"https://www.flickr.com/photos/33397993@N05\">Frank Mayfield</a>, CC BY-SA 2.0).<br/>&nbsp;\n",
    "  </td></tr>\n",
    "</table>\n",
    "\n",
    "Fortunately, someone has already created a [data set of 120 Iris flowers](https://en.wikipedia.org/wiki/Iris_flower_data_set) with the sepal and p"
   ]
  },
  {
   "cell_type": "code",
   "execution_count": 2,
   "metadata": {},
   "outputs": [],
   "source": [
    "%matplotlib inline\n",
    "import numpy as np\n",
    "import pandas as pd\n",
    "import matplotlib.pyplot as plt\n",
    "\n",
    "import tensorflow as tf\n",
    "from tensorflow import keras"
   ]
  },
  {
   "cell_type": "code",
   "execution_count": 3,
   "metadata": {},
   "outputs": [
    {
     "name": "stdout",
     "output_type": "stream",
     "text": [
      "Running in Google COLAB :  False\n"
     ]
    }
   ],
   "source": [
    "# Install the package for running tensorboard on google colaboration\n",
    "try:\n",
    "    import google.colab\n",
    "    IN_COLAB = True\n",
    "except:\n",
    "    IN_COLAB = False\n",
    "\n",
    "print (\"Running in Google COLAB : \", IN_COLAB)\n",
    "\n",
    "\n",
    "if IN_COLAB == True:\n",
    "    from tensorboardcolab import *\n",
    "    !pip install -U tensorboardcolab\n",
    "# Load the TensorBoard notebook extension\n",
    "    %load_ext tensorboard"
   ]
  },
  {
   "cell_type": "markdown",
   "metadata": {},
   "source": [
    "## Step 2 : Read Data"
   ]
  },
  {
   "cell_type": "code",
   "execution_count": 4,
   "metadata": {},
   "outputs": [
    {
     "data": {
      "text/html": [
       "<div>\n",
       "<style scoped>\n",
       "    .dataframe tbody tr th:only-of-type {\n",
       "        vertical-align: middle;\n",
       "    }\n",
       "\n",
       "    .dataframe tbody tr th {\n",
       "        vertical-align: top;\n",
       "    }\n",
       "\n",
       "    .dataframe thead th {\n",
       "        text-align: right;\n",
       "    }\n",
       "</style>\n",
       "<table border=\"1\" class=\"dataframe\">\n",
       "  <thead>\n",
       "    <tr style=\"text-align: right;\">\n",
       "      <th></th>\n",
       "      <th>SepalLengthCm</th>\n",
       "      <th>SepalWidthCm</th>\n",
       "      <th>PetalLengthCm</th>\n",
       "      <th>PetalWidthCm</th>\n",
       "      <th>Species</th>\n",
       "    </tr>\n",
       "  </thead>\n",
       "  <tbody>\n",
       "    <tr>\n",
       "      <th>0</th>\n",
       "      <td>5.1</td>\n",
       "      <td>3.5</td>\n",
       "      <td>1.4</td>\n",
       "      <td>0.2</td>\n",
       "      <td>Iris-setosa</td>\n",
       "    </tr>\n",
       "    <tr>\n",
       "      <th>1</th>\n",
       "      <td>4.9</td>\n",
       "      <td>3.0</td>\n",
       "      <td>1.4</td>\n",
       "      <td>0.2</td>\n",
       "      <td>Iris-setosa</td>\n",
       "    </tr>\n",
       "    <tr>\n",
       "      <th>2</th>\n",
       "      <td>4.7</td>\n",
       "      <td>3.2</td>\n",
       "      <td>1.3</td>\n",
       "      <td>0.2</td>\n",
       "      <td>Iris-setosa</td>\n",
       "    </tr>\n",
       "    <tr>\n",
       "      <th>3</th>\n",
       "      <td>4.6</td>\n",
       "      <td>3.1</td>\n",
       "      <td>1.5</td>\n",
       "      <td>0.2</td>\n",
       "      <td>Iris-setosa</td>\n",
       "    </tr>\n",
       "    <tr>\n",
       "      <th>4</th>\n",
       "      <td>5.0</td>\n",
       "      <td>3.6</td>\n",
       "      <td>1.4</td>\n",
       "      <td>0.2</td>\n",
       "      <td>Iris-setosa</td>\n",
       "    </tr>\n",
       "    <tr>\n",
       "      <th>...</th>\n",
       "      <td>...</td>\n",
       "      <td>...</td>\n",
       "      <td>...</td>\n",
       "      <td>...</td>\n",
       "      <td>...</td>\n",
       "    </tr>\n",
       "    <tr>\n",
       "      <th>145</th>\n",
       "      <td>6.7</td>\n",
       "      <td>3.0</td>\n",
       "      <td>5.2</td>\n",
       "      <td>2.3</td>\n",
       "      <td>Iris-virginica</td>\n",
       "    </tr>\n",
       "    <tr>\n",
       "      <th>146</th>\n",
       "      <td>6.3</td>\n",
       "      <td>2.5</td>\n",
       "      <td>5.0</td>\n",
       "      <td>1.9</td>\n",
       "      <td>Iris-virginica</td>\n",
       "    </tr>\n",
       "    <tr>\n",
       "      <th>147</th>\n",
       "      <td>6.5</td>\n",
       "      <td>3.0</td>\n",
       "      <td>5.2</td>\n",
       "      <td>2.0</td>\n",
       "      <td>Iris-virginica</td>\n",
       "    </tr>\n",
       "    <tr>\n",
       "      <th>148</th>\n",
       "      <td>6.2</td>\n",
       "      <td>3.4</td>\n",
       "      <td>5.4</td>\n",
       "      <td>2.3</td>\n",
       "      <td>Iris-virginica</td>\n",
       "    </tr>\n",
       "    <tr>\n",
       "      <th>149</th>\n",
       "      <td>5.9</td>\n",
       "      <td>3.0</td>\n",
       "      <td>5.1</td>\n",
       "      <td>1.8</td>\n",
       "      <td>Iris-virginica</td>\n",
       "    </tr>\n",
       "  </tbody>\n",
       "</table>\n",
       "<p>150 rows × 5 columns</p>\n",
       "</div>"
      ],
      "text/plain": [
       "     SepalLengthCm  SepalWidthCm  PetalLengthCm  PetalWidthCm         Species\n",
       "0              5.1           3.5            1.4           0.2     Iris-setosa\n",
       "1              4.9           3.0            1.4           0.2     Iris-setosa\n",
       "2              4.7           3.2            1.3           0.2     Iris-setosa\n",
       "3              4.6           3.1            1.5           0.2     Iris-setosa\n",
       "4              5.0           3.6            1.4           0.2     Iris-setosa\n",
       "..             ...           ...            ...           ...             ...\n",
       "145            6.7           3.0            5.2           2.3  Iris-virginica\n",
       "146            6.3           2.5            5.0           1.9  Iris-virginica\n",
       "147            6.5           3.0            5.2           2.0  Iris-virginica\n",
       "148            6.2           3.4            5.4           2.3  Iris-virginica\n",
       "149            5.9           3.0            5.1           1.8  Iris-virginica\n",
       "\n",
       "[150 rows x 5 columns]"
      ]
     },
     "execution_count": 4,
     "metadata": {},
     "output_type": "execute_result"
    }
   ],
   "source": [
    "data_location = '../data/iris/keras/iris.csv'\n",
    "# data_location = \"https://s3.amazonaws.com/elephantscale-public/data/iris/keras/iris.csv\"\n",
    "\n",
    "iris = pd.read_csv(data_location)\n",
    "iris.columns = ['SepalLengthCm', 'SepalWidthCm', 'PetalLengthCm', 'PetalWidthCm','Species']\n",
    "\n",
    "iris"
   ]
  },
  {
   "cell_type": "markdown",
   "metadata": {},
   "source": [
    "## Step 3 : Shape Data\n",
    "\n",
    "### 3.1 - Select columns"
   ]
  },
  {
   "cell_type": "code",
   "execution_count": 5,
   "metadata": {},
   "outputs": [
    {
     "name": "stdout",
     "output_type": "stream",
     "text": [
      "   SepalLengthCm  SepalWidthCm  PetalLengthCm  PetalWidthCm\n",
      "0            5.1           3.5            1.4           0.2\n",
      "1            4.9           3.0            1.4           0.2\n",
      "2            4.7           3.2            1.3           0.2\n",
      "3            4.6           3.1            1.5           0.2\n",
      "4            5.0           3.6            1.4           0.2\n",
      "-----\n",
      "       Species\n",
      "0  Iris-setosa\n",
      "1  Iris-setosa\n",
      "2  Iris-setosa\n",
      "3  Iris-setosa\n",
      "4  Iris-setosa\n"
     ]
    }
   ],
   "source": [
    "input_columns = ['SepalLengthCm', 'SepalWidthCm', 'PetalLengthCm', 'PetalWidthCm']\n",
    "x = iris [input_columns]\n",
    "y = iris[['Species']]\n",
    "\n",
    "print (x.head())\n",
    "print('-----')\n",
    "print (y.head())"
   ]
  },
  {
   "cell_type": "markdown",
   "metadata": {},
   "source": [
    "### 3.2 - Encode Labels\n",
    "Our output labels are strings like 'Iris-setosa' and 'Iris-virginica' ..etc.  \n",
    "These are called **categorical variables**  \n",
    "We need to change these to numbers  \n",
    "This is called **encoding**"
   ]
  },
  {
   "cell_type": "code",
   "execution_count": 6,
   "metadata": {},
   "outputs": [
    {
     "name": "stdout",
     "output_type": "stream",
     "text": [
      "[0 0 0 0 0 0 0 0 0 0 0 0 0 0 0 0 0 0 0 0 0 0 0 0 0 0 0 0 0 0 0 0 0 0 0 0 0\n",
      " 0 0 0 0 0 0 0 0 0 0 0 0 0 1 1 1 1 1 1 1 1 1 1 1 1 1 1 1 1 1 1 1 1 1 1 1 1\n",
      " 1 1 1 1 1 1 1 1 1 1 1 1 1 1 1 1 1 1 1 1 1 1 1 1 1 1 2 2 2 2 2 2 2 2 2 2 2\n",
      " 2 2 2 2 2 2 2 2 2 2 2 2 2 2 2 2 2 2 2 2 2 2 2 2 2 2 2 2 2 2 2 2 2 2 2 2 2\n",
      " 2 2]\n"
     ]
    },
    {
     "name": "stderr",
     "output_type": "stream",
     "text": [
      "/home/ubuntu/apps/anaconda/lib/python3.7/site-packages/sklearn/preprocessing/label.py:235: DataConversionWarning: A column-vector y was passed when a 1d array was expected. Please change the shape of y to (n_samples, ), for example using ravel().\n",
      "  y = column_or_1d(y, warn=True)\n"
     ]
    }
   ],
   "source": [
    "from sklearn.preprocessing import LabelEncoder\n",
    "encoder =  LabelEncoder()\n",
    "y1 = encoder.fit_transform(y.values) ## need y.values which is an array\n",
    "print(y1)"
   ]
  },
  {
   "cell_type": "markdown",
   "metadata": {},
   "source": [
    "### 3.3 - Create train/test split"
   ]
  },
  {
   "cell_type": "code",
   "execution_count": 7,
   "metadata": {},
   "outputs": [
    {
     "name": "stdout",
     "output_type": "stream",
     "text": [
      "x_train.shape :  (120, 4)\n",
      "y_train.shape :  (120,)\n",
      "x_test.shape :  (30, 4)\n",
      "y_test.shape :  (30,)\n"
     ]
    }
   ],
   "source": [
    "from sklearn.model_selection import train_test_split\n",
    "\n",
    "# supply 'y1' (encoded labels)\n",
    "x_train,x_test, y_train,y_test = train_test_split(x,y1,test_size=0.2,random_state=0) \n",
    "\n",
    "print (\"x_train.shape : \", x_train.shape)\n",
    "print (\"y_train.shape : \", y_train.shape)\n",
    "print (\"x_test.shape : \", x_test.shape)\n",
    "print (\"y_test.shape : \", y_test.shape)"
   ]
  },
  {
   "cell_type": "markdown",
   "metadata": {},
   "source": [
    "## Step 4 : Build the Model\n",
    "Since this is a classifier, here is how we are going to build the neural network\n",
    "- Neurons in Input layer  = input dimensions (4 here)\n",
    "- Neurons in hidden layer = ???\n",
    "- Neurons in Output layer = output classes (3 here)\n",
    "- Output activation is 'softmax'\n",
    "\n",
    "### TODO : Sketch the neural net\n",
    "- What is the input dimensions\n",
    "- how many neurons in layers\n",
    "- how many output neurons\n",
    "\n",
    "<img src=\"../assets/images/neural-net-unknown.png\" style=\"width:40%\"/>"
   ]
  },
  {
   "cell_type": "code",
   "execution_count": 8,
   "metadata": {},
   "outputs": [
    {
     "name": "stdout",
     "output_type": "stream",
     "text": [
      "input_dim :  4 , output classes :  3\n",
      "Model: \"sequential\"\n",
      "_________________________________________________________________\n",
      "Layer (type)                 Output Shape              Param #   \n",
      "=================================================================\n",
      "input_layer (Dense)          (None, 4)                 20        \n",
      "_________________________________________________________________\n",
      "hidden_1 (Dense)             (None, 64)                320       \n",
      "_________________________________________________________________\n",
      "output_layer (Dense)         (None, 3)                 195       \n",
      "=================================================================\n",
      "Total params: 535\n",
      "Trainable params: 535\n",
      "Non-trainable params: 0\n",
      "_________________________________________________________________\n",
      "None\n"
     ]
    },
    {
     "data": {
      "image/png": "[encoded data removed]",
      "text/plain": [
       "<IPython.core.display.Image object>"
      ]
     },
     "execution_count": 8,
     "metadata": {},
     "output_type": "execute_result"
    }
   ],
   "source": [
    "input_dim = len(input_columns)\n",
    "output_clases = 3 \n",
    "print (\"input_dim : \", input_dim, \", output classes : \", output_clases)\n",
    "\n",
    "model = tf.keras.Sequential([\n",
    "            tf.keras.layers.Dense(units=input_dim, activation=tf.nn.relu, input_dim=input_dim, name=\"input_layer\"),\n",
    "            tf.keras.layers.Dense(units=64, activation=tf.nn.relu, name=\"hidden_1\"),\n",
    "            tf.keras.layers.Dense(units=output_clases,  activation=tf.nn.softmax, name=\"output_layer\")\n",
    "            ])\n",
    "\n",
    "# loss = 'sparse_categorical_crossentropy'  or 'categorical_crossentropy'\n",
    "model.compile(loss='sparse_categorical_crossentropy', \n",
    "                 optimizer=tf.keras.optimizers.Adam(), # or 'adam', \n",
    "                 metrics=['accuracy'])\n",
    "\n",
    "print (model.summary())\n",
    "\n",
    "tf.keras.utils.plot_model(model, to_file='model.png', show_shapes=True)"
   ]
  },
  {
   "cell_type": "markdown",
   "metadata": {},
   "source": [
    "## Step 5 : Tensorboard"
   ]
  },
  {
   "cell_type": "code",
   "execution_count": 9,
   "metadata": {},
   "outputs": [
    {
     "name": "stdout",
     "output_type": "stream",
     "text": [
      "Saving TB logs to :  /tmp/tensorboard-logs/classification-iris-1/2019-12-11--05-15-43\n"
     ]
    }
   ],
   "source": [
    "## This is fairly boiler plate code\n",
    "\n",
    "import datetime\n",
    "import os\n",
    "\n",
    "app_name = 'classification-iris-1' # you can change this, if you like\n",
    "\n",
    "tb_top_level_dir= '/tmp/tensorboard-logs'\n",
    "tensorboard_logs_dir= os.path.join (tb_top_level_dir, app_name, \n",
    "                                    datetime.datetime.now().strftime(\"%Y-%m-%d--%H-%M-%S\"))\n",
    "print (\"Saving TB logs to : \" , tensorboard_logs_dir)\n",
    "\n",
    "tensorboard_callback = tf.keras.callbacks.TensorBoard(log_dir=tensorboard_logs_dir, histogram_freq=1)\n"
   ]
  },
  {
   "cell_type": "markdown",
   "metadata": {},
   "source": [
    "## Step 6 : Train"
   ]
  },
  {
   "cell_type": "code",
   "execution_count": 10,
   "metadata": {},
   "outputs": [
    {
     "name": "stdout",
     "output_type": "stream",
     "text": [
      "training starting ...\n",
      "WARNING:tensorflow:Falling back from v2 loop because of error: Failed to find data adapter that can handle input: <class 'pandas.core.frame.DataFrame'>, <class 'NoneType'>\n",
      "Train on 96 samples, validate on 24 samples\n",
      "Epoch 1/100\n",
      "96/96 [==============================] - 1s 7ms/sample - loss: 1.9878 - accuracy: 0.2708 - val_loss: 1.5423 - val_accuracy: 0.4583\n",
      "Epoch 2/100\n",
      "96/96 [==============================] - 0s 425us/sample - loss: 1.8558 - accuracy: 0.1979 - val_loss: 1.4737 - val_accuracy: 0.0833\n",
      "Epoch 3/100\n",
      "96/96 [==============================] - 0s 478us/sample - loss: 1.7287 - accuracy: 0.1667 - val_loss: 1.4113 - val_accuracy: 0.2917\n",
      "Epoch 4/100\n",
      "96/96 [==============================] - 0s 457us/sample - loss: 1.6136 - accuracy: 0.3750 - val_loss: 1.3477 - val_accuracy: 0.2917\n",
      "Epoch 5/100\n",
      "96/96 [==============================] - 0s 686us/sample - loss: 1.5159 - accuracy: 0.3854 - val_loss: 1.2843 - val_accuracy: 0.2917\n",
      "Epoch 6/100\n",
      "96/96 [==============================] - 0s 677us/sample - loss: 1.4145 - accuracy: 0.3854 - val_loss: 1.2279 - val_accuracy: 0.2917\n",
      "Epoch 7/100\n",
      "96/96 [==============================] - 0s 575us/sample - loss: 1.3180 - accuracy: 0.3854 - val_loss: 1.1801 - val_accuracy: 0.2917\n",
      "Epoch 8/100\n",
      "96/96 [==============================] - 0s 528us/sample - loss: 1.2427 - accuracy: 0.3854 - val_loss: 1.1417 - val_accuracy: 0.2917\n",
      "Epoch 9/100\n",
      "96/96 [==============================] - 0s 591us/sample - loss: 1.1864 - accuracy: 0.3854 - val_loss: 1.1145 - val_accuracy: 0.2917\n",
      "Epoch 10/100\n",
      "96/96 [==============================] - 0s 1ms/sample - loss: 1.1371 - accuracy: 0.3854 - val_loss: 1.0981 - val_accuracy: 0.2917\n",
      "Epoch 11/100\n",
      "96/96 [==============================] - 0s 901us/sample - loss: 1.1022 - accuracy: 0.3854 - val_loss: 1.0910 - val_accuracy: 0.2917\n",
      "Epoch 12/100\n",
      "96/96 [==============================] - 0s 941us/sample - loss: 1.0723 - accuracy: 0.3854 - val_loss: 1.0930 - val_accuracy: 0.2917\n",
      "Epoch 13/100\n",
      "96/96 [==============================] - 0s 552us/sample - loss: 1.0528 - accuracy: 0.3854 - val_loss: 1.0959 - val_accuracy: 0.2917\n",
      "Epoch 14/100\n",
      "96/96 [==============================] - 0s 431us/sample - loss: 1.0401 - accuracy: 0.3854 - val_loss: 1.0998 - val_accuracy: 0.2917\n",
      "Epoch 15/100\n",
      "96/96 [==============================] - 0s 407us/sample - loss: 1.0289 - accuracy: 0.3854 - val_loss: 1.0992 - val_accuracy: 0.2917\n",
      "Epoch 16/100\n",
      "96/96 [==============================] - 0s 376us/sample - loss: 1.0217 - accuracy: 0.4167 - val_loss: 1.0994 - val_accuracy: 0.3333\n",
      "Epoch 17/100\n",
      "96/96 [==============================] - 0s 431us/sample - loss: 1.0100 - accuracy: 0.5729 - val_loss: 1.0898 - val_accuracy: 0.5417\n",
      "Epoch 18/100\n",
      "96/96 [==============================] - 0s 587us/sample - loss: 0.9994 - accuracy: 0.7188 - val_loss: 1.0787 - val_accuracy: 0.5417\n",
      "Epoch 19/100\n",
      "96/96 [==============================] - 0s 543us/sample - loss: 0.9888 - accuracy: 0.7292 - val_loss: 1.0667 - val_accuracy: 0.5417\n",
      "Epoch 20/100\n",
      "96/96 [==============================] - 0s 577us/sample - loss: 0.9781 - accuracy: 0.7292 - val_loss: 1.0548 - val_accuracy: 0.5417\n",
      "Epoch 21/100\n",
      "96/96 [==============================] - 0s 425us/sample - loss: 0.9666 - accuracy: 0.7292 - val_loss: 1.0450 - val_accuracy: 0.5417\n",
      "Epoch 22/100\n",
      "96/96 [==============================] - 0s 431us/sample - loss: 0.9558 - accuracy: 0.7292 - val_loss: 1.0329 - val_accuracy: 0.5417\n",
      "Epoch 23/100\n",
      "96/96 [==============================] - 0s 519us/sample - loss: 0.9450 - accuracy: 0.7292 - val_loss: 1.0212 - val_accuracy: 0.5417\n",
      "Epoch 24/100\n",
      "96/96 [==============================] - 0s 501us/sample - loss: 0.9341 - accuracy: 0.7292 - val_loss: 1.0104 - val_accuracy: 0.5417\n",
      "Epoch 25/100\n",
      "96/96 [==============================] - 0s 499us/sample - loss: 0.9227 - accuracy: 0.7292 - val_loss: 0.9997 - val_accuracy: 0.5417\n",
      "Epoch 26/100\n",
      "96/96 [==============================] - 0s 499us/sample - loss: 0.9110 - accuracy: 0.7292 - val_loss: 0.9882 - val_accuracy: 0.5417\n",
      "Epoch 27/100\n",
      "96/96 [==============================] - 0s 438us/sample - loss: 0.8997 - accuracy: 0.7292 - val_loss: 0.9788 - val_accuracy: 0.5417\n",
      "Epoch 28/100\n",
      "96/96 [==============================] - 0s 392us/sample - loss: 0.8876 - accuracy: 0.7292 - val_loss: 0.9686 - val_accuracy: 0.5417\n",
      "Epoch 29/100\n",
      "96/96 [==============================] - 0s 622us/sample - loss: 0.8758 - accuracy: 0.7292 - val_loss: 0.9606 - val_accuracy: 0.5417\n",
      "Epoch 30/100\n",
      "96/96 [==============================] - 0s 470us/sample - loss: 0.8636 - accuracy: 0.7292 - val_loss: 0.9508 - val_accuracy: 0.5417\n",
      "Epoch 31/100\n",
      "96/96 [==============================] - 0s 498us/sample - loss: 0.8522 - accuracy: 0.7292 - val_loss: 0.9449 - val_accuracy: 0.5417\n",
      "Epoch 32/100\n",
      "96/96 [==============================] - 0s 415us/sample - loss: 0.8390 - accuracy: 0.7292 - val_loss: 0.9361 - val_accuracy: 0.5417\n",
      "Epoch 33/100\n",
      "96/96 [==============================] - 0s 510us/sample - loss: 0.8267 - accuracy: 0.7292 - val_loss: 0.9248 - val_accuracy: 0.5417\n",
      "Epoch 34/100\n",
      "96/96 [==============================] - 0s 408us/sample - loss: 0.8146 - accuracy: 0.7292 - val_loss: 0.9169 - val_accuracy: 0.5417\n",
      "Epoch 35/100\n",
      "96/96 [==============================] - 0s 471us/sample - loss: 0.8023 - accuracy: 0.7292 - val_loss: 0.9047 - val_accuracy: 0.5417\n",
      "Epoch 36/100\n",
      "96/96 [==============================] - 0s 482us/sample - loss: 0.7902 - accuracy: 0.7292 - val_loss: 0.8952 - val_accuracy: 0.5417\n",
      "Epoch 37/100\n",
      "96/96 [==============================] - 0s 419us/sample - loss: 0.7787 - accuracy: 0.7292 - val_loss: 0.8902 - val_accuracy: 0.5417\n",
      "Epoch 38/100\n",
      "96/96 [==============================] - 0s 594us/sample - loss: 0.7654 - accuracy: 0.7292 - val_loss: 0.8804 - val_accuracy: 0.5417\n",
      "Epoch 39/100\n",
      "96/96 [==============================] - 0s 488us/sample - loss: 0.7531 - accuracy: 0.7292 - val_loss: 0.8697 - val_accuracy: 0.5417\n",
      "Epoch 40/100\n",
      "96/96 [==============================] - 0s 468us/sample - loss: 0.7414 - accuracy: 0.7292 - val_loss: 0.8566 - val_accuracy: 0.5417\n",
      "Epoch 41/100\n",
      "96/96 [==============================] - 0s 582us/sample - loss: 0.7293 - accuracy: 0.7292 - val_loss: 0.8445 - val_accuracy: 0.5417\n",
      "Epoch 42/100\n",
      "96/96 [==============================] - 0s 506us/sample - loss: 0.7179 - accuracy: 0.7292 - val_loss: 0.8319 - val_accuracy: 0.5417\n",
      "Epoch 43/100\n",
      "96/96 [==============================] - 0s 1ms/sample - loss: 0.7068 - accuracy: 0.7292 - val_loss: 0.8247 - val_accuracy: 0.5417\n",
      "Epoch 44/100\n",
      "96/96 [==============================] - 0s 599us/sample - loss: 0.6948 - accuracy: 0.7292 - val_loss: 0.8135 - val_accuracy: 0.5417\n",
      "Epoch 45/100\n",
      "96/96 [==============================] - 0s 538us/sample - loss: 0.6852 - accuracy: 0.7292 - val_loss: 0.8090 - val_accuracy: 0.5417\n",
      "Epoch 46/100\n",
      "96/96 [==============================] - 0s 472us/sample - loss: 0.6736 - accuracy: 0.7292 - val_loss: 0.7970 - val_accuracy: 0.5417\n",
      "Epoch 47/100\n",
      "96/96 [==============================] - 0s 505us/sample - loss: 0.6624 - accuracy: 0.7292 - val_loss: 0.7865 - val_accuracy: 0.5417\n",
      "Epoch 48/100\n",
      "96/96 [==============================] - 0s 438us/sample - loss: 0.6518 - accuracy: 0.7292 - val_loss: 0.7780 - val_accuracy: 0.5417\n",
      "Epoch 49/100\n",
      "96/96 [==============================] - 0s 474us/sample - loss: 0.6417 - accuracy: 0.7292 - val_loss: 0.7673 - val_accuracy: 0.5417\n",
      "Epoch 50/100\n",
      "96/96 [==============================] - 0s 883us/sample - loss: 0.6316 - accuracy: 0.7292 - val_loss: 0.7594 - val_accuracy: 0.5417\n",
      "Epoch 51/100\n",
      "96/96 [==============================] - 0s 516us/sample - loss: 0.6222 - accuracy: 0.7292 - val_loss: 0.7534 - val_accuracy: 0.5417\n",
      "Epoch 52/100\n",
      "96/96 [==============================] - 0s 675us/sample - loss: 0.6118 - accuracy: 0.7292 - val_loss: 0.7439 - val_accuracy: 0.5417\n",
      "Epoch 53/100\n",
      "96/96 [==============================] - 0s 374us/sample - loss: 0.6030 - accuracy: 0.7292 - val_loss: 0.7313 - val_accuracy: 0.5417\n",
      "Epoch 54/100\n",
      "96/96 [==============================] - 0s 853us/sample - loss: 0.5934 - accuracy: 0.7292 - val_loss: 0.7242 - val_accuracy: 0.5417\n",
      "Epoch 55/100\n",
      "96/96 [==============================] - 0s 615us/sample - loss: 0.5848 - accuracy: 0.7292 - val_loss: 0.7161 - val_accuracy: 0.5417\n",
      "Epoch 56/100\n",
      "96/96 [==============================] - 0s 590us/sample - loss: 0.5760 - accuracy: 0.7292 - val_loss: 0.7103 - val_accuracy: 0.5417\n",
      "Epoch 57/100\n",
      "96/96 [==============================] - 0s 439us/sample - loss: 0.5675 - accuracy: 0.7292 - val_loss: 0.7037 - val_accuracy: 0.5417\n",
      "Epoch 58/100\n",
      "96/96 [==============================] - 0s 679us/sample - loss: 0.5600 - accuracy: 0.7292 - val_loss: 0.6982 - val_accuracy: 0.5417\n",
      "Epoch 59/100\n",
      "96/96 [==============================] - 0s 471us/sample - loss: 0.5515 - accuracy: 0.7292 - val_loss: 0.6861 - val_accuracy: 0.5417\n",
      "Epoch 60/100\n",
      "96/96 [==============================] - 0s 559us/sample - loss: 0.5438 - accuracy: 0.7292 - val_loss: 0.6754 - val_accuracy: 0.5417\n",
      "Epoch 61/100\n",
      "96/96 [==============================] - 0s 584us/sample - loss: 0.5374 - accuracy: 0.7292 - val_loss: 0.6681 - val_accuracy: 0.5417\n",
      "Epoch 62/100\n",
      "96/96 [==============================] - 0s 392us/sample - loss: 0.5294 - accuracy: 0.7292 - val_loss: 0.6611 - val_accuracy: 0.5417\n",
      "Epoch 63/100\n",
      "96/96 [==============================] - 0s 459us/sample - loss: 0.5224 - accuracy: 0.7292 - val_loss: 0.6539 - val_accuracy: 0.5417\n",
      "Epoch 64/100\n",
      "96/96 [==============================] - 0s 753us/sample - loss: 0.5159 - accuracy: 0.7292 - val_loss: 0.6474 - val_accuracy: 0.5417\n",
      "Epoch 65/100\n",
      "96/96 [==============================] - 0s 551us/sample - loss: 0.5098 - accuracy: 0.7396 - val_loss: 0.6406 - val_accuracy: 0.5417\n",
      "Epoch 66/100\n",
      "96/96 [==============================] - 0s 591us/sample - loss: 0.5035 - accuracy: 0.7396 - val_loss: 0.6340 - val_accuracy: 0.5417\n",
      "Epoch 67/100\n",
      "96/96 [==============================] - 0s 516us/sample - loss: 0.4971 - accuracy: 0.7396 - val_loss: 0.6296 - val_accuracy: 0.5417\n",
      "Epoch 68/100\n",
      "96/96 [==============================] - 0s 555us/sample - loss: 0.4917 - accuracy: 0.7396 - val_loss: 0.6256 - val_accuracy: 0.5417\n",
      "Epoch 69/100\n",
      "96/96 [==============================] - 0s 341us/sample - loss: 0.4860 - accuracy: 0.7396 - val_loss: 0.6216 - val_accuracy: 0.5417\n",
      "Epoch 70/100\n",
      "96/96 [==============================] - 0s 655us/sample - loss: 0.4809 - accuracy: 0.7396 - val_loss: 0.6196 - val_accuracy: 0.5417\n",
      "Epoch 71/100\n",
      "96/96 [==============================] - 0s 614us/sample - loss: 0.4759 - accuracy: 0.7396 - val_loss: 0.6082 - val_accuracy: 0.5417\n",
      "Epoch 72/100\n",
      "96/96 [==============================] - 0s 651us/sample - loss: 0.4696 - accuracy: 0.7396 - val_loss: 0.6026 - val_accuracy: 0.5417\n",
      "Epoch 73/100\n",
      "96/96 [==============================] - 0s 449us/sample - loss: 0.4648 - accuracy: 0.7500 - val_loss: 0.5957 - val_accuracy: 0.5833\n",
      "Epoch 74/100\n",
      "96/96 [==============================] - 0s 647us/sample - loss: 0.4602 - accuracy: 0.7604 - val_loss: 0.5894 - val_accuracy: 0.5833\n",
      "Epoch 75/100\n",
      "96/96 [==============================] - 0s 873us/sample - loss: 0.4556 - accuracy: 0.7604 - val_loss: 0.5875 - val_accuracy: 0.5833\n",
      "Epoch 76/100\n",
      "96/96 [==============================] - 0s 860us/sample - loss: 0.4514 - accuracy: 0.7604 - val_loss: 0.5789 - val_accuracy: 0.5833\n",
      "Epoch 77/100\n",
      "96/96 [==============================] - 0s 456us/sample - loss: 0.4467 - accuracy: 0.7604 - val_loss: 0.5792 - val_accuracy: 0.5833\n",
      "Epoch 78/100\n",
      "96/96 [==============================] - 0s 524us/sample - loss: 0.4419 - accuracy: 0.7604 - val_loss: 0.5720 - val_accuracy: 0.5833\n",
      "Epoch 79/100\n",
      "96/96 [==============================] - 0s 517us/sample - loss: 0.4376 - accuracy: 0.7604 - val_loss: 0.5699 - val_accuracy: 0.5833\n",
      "Epoch 80/100\n",
      "96/96 [==============================] - 0s 438us/sample - loss: 0.4332 - accuracy: 0.7604 - val_loss: 0.5632 - val_accuracy: 0.5833\n",
      "Epoch 81/100\n",
      "96/96 [==============================] - 0s 318us/sample - loss: 0.4297 - accuracy: 0.7604 - val_loss: 0.5555 - val_accuracy: 0.6250\n",
      "Epoch 82/100\n",
      "96/96 [==============================] - 0s 497us/sample - loss: 0.4257 - accuracy: 0.7604 - val_loss: 0.5563 - val_accuracy: 0.5833\n",
      "Epoch 83/100\n",
      "96/96 [==============================] - 0s 657us/sample - loss: 0.4212 - accuracy: 0.7604 - val_loss: 0.5511 - val_accuracy: 0.6250\n",
      "Epoch 84/100\n",
      "96/96 [==============================] - 0s 508us/sample - loss: 0.4177 - accuracy: 0.7604 - val_loss: 0.5447 - val_accuracy: 0.6250\n",
      "Epoch 85/100\n",
      "96/96 [==============================] - 0s 384us/sample - loss: 0.4142 - accuracy: 0.7917 - val_loss: 0.5375 - val_accuracy: 0.6667\n",
      "Epoch 86/100\n",
      "96/96 [==============================] - 0s 367us/sample - loss: 0.4100 - accuracy: 0.7812 - val_loss: 0.5368 - val_accuracy: 0.6667\n",
      "Epoch 87/100\n",
      "96/96 [==============================] - 0s 402us/sample - loss: 0.4062 - accuracy: 0.7708 - val_loss: 0.5337 - val_accuracy: 0.6667\n",
      "Epoch 88/100\n",
      "96/96 [==============================] - 0s 386us/sample - loss: 0.4032 - accuracy: 0.7812 - val_loss: 0.5276 - val_accuracy: 0.7083\n",
      "Epoch 89/100\n",
      "96/96 [==============================] - 0s 450us/sample - loss: 0.3993 - accuracy: 0.8021 - val_loss: 0.5279 - val_accuracy: 0.7083\n",
      "Epoch 90/100\n",
      "96/96 [==============================] - 0s 445us/sample - loss: 0.3957 - accuracy: 0.7917 - val_loss: 0.5255 - val_accuracy: 0.7083\n",
      "Epoch 91/100\n",
      "96/96 [==============================] - 0s 460us/sample - loss: 0.3927 - accuracy: 0.8021 - val_loss: 0.5175 - val_accuracy: 0.7083\n",
      "Epoch 92/100\n",
      "96/96 [==============================] - 0s 315us/sample - loss: 0.3891 - accuracy: 0.8333 - val_loss: 0.5130 - val_accuracy: 0.7500\n",
      "Epoch 93/100\n",
      "96/96 [==============================] - 0s 554us/sample - loss: 0.3871 - accuracy: 0.8229 - val_loss: 0.5143 - val_accuracy: 0.7083\n",
      "Epoch 94/100\n",
      "96/96 [==============================] - 0s 456us/sample - loss: 0.3849 - accuracy: 0.8542 - val_loss: 0.5013 - val_accuracy: 0.7917\n",
      "Epoch 95/100\n",
      "96/96 [==============================] - 0s 605us/sample - loss: 0.3795 - accuracy: 0.8854 - val_loss: 0.4994 - val_accuracy: 0.7917\n",
      "Epoch 96/100\n",
      "96/96 [==============================] - 0s 496us/sample - loss: 0.3765 - accuracy: 0.8854 - val_loss: 0.4948 - val_accuracy: 0.7917\n",
      "Epoch 97/100\n",
      "96/96 [==============================] - 0s 414us/sample - loss: 0.3732 - accuracy: 0.8854 - val_loss: 0.4949 - val_accuracy: 0.7917\n",
      "Epoch 98/100\n",
      "96/96 [==============================] - 0s 376us/sample - loss: 0.3702 - accuracy: 0.8854 - val_loss: 0.4945 - val_accuracy: 0.7500\n",
      "Epoch 99/100\n",
      "96/96 [==============================] - 0s 402us/sample - loss: 0.3671 - accuracy: 0.8854 - val_loss: 0.4886 - val_accuracy: 0.7917\n",
      "Epoch 100/100\n",
      "96/96 [==============================] - 0s 390us/sample - loss: 0.3640 - accuracy: 0.8854 - val_loss: 0.4858 - val_accuracy: 0.7917\n",
      "training done.\n",
      "CPU times: user 10 s, sys: 13 s, total: 23 s\n",
      "Wall time: 7.2 s\n"
     ]
    }
   ],
   "source": [
    "%%time\n",
    "\n",
    "## TODO configure some of these\n",
    "epochs = 100  ## experiment 100, 500, 1000\n",
    "\n",
    "print (\"training starting ...\")\n",
    "history = model.fit(\n",
    "              x_train, y_train,\n",
    "              epochs=epochs, validation_split = 0.2, verbose=1,\n",
    "              callbacks=[tensorboard_callback])\n",
    "\n",
    "print (\"training done.\")"
   ]
  },
  {
   "cell_type": "markdown",
   "metadata": {},
   "source": [
    "## Step 7 : Plot History"
   ]
  },
  {
   "cell_type": "code",
   "execution_count": 11,
   "metadata": {},
   "outputs": [
    {
     "data": {
      "image/png": "[encoded data removed]",
      "text/plain": [
       "<Figure size 432x288 with 1 Axes>"
      ]
     },
     "metadata": {
      "needs_background": "light"
     },
     "output_type": "display_data"
    }
   ],
   "source": [
    "%matplotlib inline\n",
    "import matplotlib.pyplot as plt\n",
    "\n",
    "plt.plot(history.history['accuracy'], label='train_accuracy')\n",
    "plt.plot(history.history['val_accuracy'], label='val_accuracy')\n",
    "plt.legend()\n",
    "plt.show()"
   ]
  },
  {
   "cell_type": "markdown",
   "metadata": {},
   "source": [
    "## Step 8 : Predict"
   ]
  },
  {
   "cell_type": "code",
   "execution_count": 12,
   "metadata": {},
   "outputs": [
    {
     "name": "stdout",
     "output_type": "stream",
     "text": [
      "WARNING:tensorflow:Falling back from v2 loop because of error: Failed to find data adapter that can handle input: <class 'pandas.core.frame.DataFrame'>, <class 'NoneType'>\n"
     ]
    },
    {
     "data": {
      "text/plain": [
       "array([[0.00872822, 0.28618708, 0.70508474],\n",
       "       [0.05260084, 0.45437852, 0.49302056],\n",
       "       [0.96561617, 0.03145548, 0.00292829],\n",
       "       [0.0017961 , 0.16059147, 0.83761245],\n",
       "       [0.927714  , 0.06369113, 0.00859489],\n",
       "       [0.00279493, 0.19739261, 0.7998125 ],\n",
       "       [0.9459213 , 0.04831044, 0.00576828],\n",
       "       [0.04001892, 0.47468475, 0.48529634],\n",
       "       [0.027668  , 0.41833365, 0.55399835],\n",
       "       [0.08670377, 0.5267949 , 0.38650134],\n",
       "       [0.00339543, 0.1805184 , 0.8160862 ],\n",
       "       [0.05391069, 0.5078466 , 0.43824276],\n",
       "       [0.02486549, 0.38225305, 0.5928814 ],\n",
       "       [0.03452291, 0.44323018, 0.522247  ],\n",
       "       [0.0265229 , 0.39876786, 0.5747093 ],\n",
       "       [0.9065748 , 0.08090641, 0.01251882],\n",
       "       [0.03617065, 0.43955988, 0.52426946],\n",
       "       [0.02798424, 0.37903115, 0.59298456],\n",
       "       [0.90945125, 0.0785958 , 0.01195299],\n",
       "       [0.96272534, 0.03397842, 0.00329622],\n",
       "       [0.0122856 , 0.30977702, 0.67793727],\n",
       "       [0.03303691, 0.42062962, 0.5463335 ],\n",
       "       [0.8498987 , 0.12649906, 0.02360223],\n",
       "       [0.8865297 , 0.0966718 , 0.01679841],\n",
       "       [0.02024649, 0.37671533, 0.6030382 ],\n",
       "       [0.95318604, 0.04200001, 0.00481403],\n",
       "       [0.89871746, 0.08818559, 0.01309697],\n",
       "       [0.05678624, 0.49538168, 0.44783217],\n",
       "       [0.12629093, 0.5125881 , 0.36112094],\n",
       "       [0.91319674, 0.07593271, 0.01087046]], dtype=float32)"
      ]
     },
     "execution_count": 12,
     "metadata": {},
     "output_type": "execute_result"
    }
   ],
   "source": [
    "predictions = model.predict(x_test)\n",
    "predictions"
   ]
  },
  {
   "cell_type": "markdown",
   "metadata": {},
   "source": [
    "### Understanding Predictions\n",
    "In the above output, for each test input, the softmax layer, produces 3 numbers.  \n",
    "These numbers are probabilities.  If you add them up, you will get 1.0  \n",
    "We want to choose the output that has the highest probability.  \n",
    "\n",
    "For example `(0.03086184, 0.33362046, 0.6355177)` means  \n",
    "- class 1 has prob of 0.03  or 3%\n",
    "- class 2 has prob of 0.33  or 33%\n",
    "- class 3 has prob of 0.63  or 63%\n",
    "\n",
    "So we choose the class with highest probability as prediction : class 3\n",
    "\n",
    "\n",
    "We can get class predictions directly as follows"
   ]
  },
  {
   "cell_type": "code",
   "execution_count": 13,
   "metadata": {},
   "outputs": [
    {
     "name": "stdout",
     "output_type": "stream",
     "text": [
      "WARNING:tensorflow:Falling back from v2 loop because of error: Failed to find data adapter that can handle input: <class 'pandas.core.frame.DataFrame'>, <class 'NoneType'>\n"
     ]
    },
    {
     "data": {
      "text/plain": [
       "array([2, 2, 0, 2, 0, 2, 0, 2, 2, 1, 2, 1, 2, 2, 2, 0, 2, 2, 0, 0, 2, 2,\n",
       "       0, 0, 2, 0, 0, 1, 1, 0])"
      ]
     },
     "execution_count": 13,
     "metadata": {},
     "output_type": "execute_result"
    }
   ],
   "source": [
    "## Use 'predict_classes' instead of 'predict'\n",
    "y_pred = model.predict_classes(x_test)\n",
    "y_pred"
   ]
  },
  {
   "cell_type": "markdown",
   "metadata": {},
   "source": [
    "## Step 9 : Evaluate the model\n",
    "\n",
    "### 9.1 - Print out metrics"
   ]
  },
  {
   "cell_type": "code",
   "execution_count": 14,
   "metadata": {},
   "outputs": [
    {
     "name": "stdout",
     "output_type": "stream",
     "text": [
      "model metrics :  ['loss', 'accuracy']\n",
      "WARNING:tensorflow:Falling back from v2 loop because of error: Failed to find data adapter that can handle input: <class 'pandas.core.frame.DataFrame'>, <class 'NoneType'>\n",
      "Metric : loss = 0.44\n",
      "Metric : accuracy = 0.70\n"
     ]
    }
   ],
   "source": [
    "metric_names = model.metrics_names\n",
    "print (\"model metrics : \" , metric_names)\n",
    "\n",
    "metrics = model.evaluate(x_test, y_test, verbose=0)\n",
    "\n",
    "for idx, metric in enumerate(metric_names):\n",
    "    print (\"Metric : {} = {:,.2f}\".format (metric_names[idx], metrics[idx]))"
   ]
  },
  {
   "cell_type": "markdown",
   "metadata": {},
   "source": [
    "### 9.2 - Confussion Matrix\n",
    "Since this is a classification problem, confusion matrix is very effective way to evaluate our model"
   ]
  },
  {
   "cell_type": "code",
   "execution_count": 15,
   "metadata": {},
   "outputs": [
    {
     "data": {
      "text/plain": [
       "array([[11,  0,  0],\n",
       "       [ 0,  4,  9],\n",
       "       [ 0,  0,  6]])"
      ]
     },
     "execution_count": 15,
     "metadata": {},
     "output_type": "execute_result"
    }
   ],
   "source": [
    "## plain confusion matrix \n",
    "\n",
    "from sklearn.metrics import confusion_matrix\n",
    "import seaborn as sns\n",
    "\n",
    "cm = confusion_matrix(y_test, y_pred, labels = [0,1,2])\n",
    "cm\n"
   ]
  },
  {
   "cell_type": "code",
   "execution_count": 16,
   "metadata": {},
   "outputs": [
    {
     "data": {
      "image/png": "[encoded data removed]",
      "text/plain": [
       "<Figure size 576x432 with 2 Axes>"
      ]
     },
     "metadata": {
      "needs_background": "light"
     },
     "output_type": "display_data"
    }
   ],
   "source": [
    "## Plot confusion matrix\n",
    "import os\n",
    "import sys\n",
    "top_dir = os.path.abspath(os.path.join(os.getcwd(), \"../\"))\n",
    "if top_dir not in sys.path:\n",
    "    sys.path.append(top_dir)\n",
    "\n",
    "import my_utils\n",
    "\n",
    "my_utils.plot_confusion_matrix(cm, target_names=[0,1,2], normalize=False)"
   ]
  },
  {
   "cell_type": "markdown",
   "metadata": {},
   "source": [
    "### 9.3 - Metrics calculated from Confusion Matrix"
   ]
  },
  {
   "cell_type": "code",
   "execution_count": 17,
   "metadata": {},
   "outputs": [
    {
     "name": "stdout",
     "output_type": "stream",
     "text": [
      "{'0': {'f1-score': 1.0, 'precision': 1.0, 'recall': 1.0, 'support': 11},\n",
      " '1': {'f1-score': 0.47058823529411764,\n",
      "       'precision': 1.0,\n",
      "       'recall': 0.3076923076923077,\n",
      "       'support': 13},\n",
      " '2': {'f1-score': 0.5714285714285715,\n",
      "       'precision': 0.4,\n",
      "       'recall': 1.0,\n",
      "       'support': 6},\n",
      " 'accuracy': 0.7,\n",
      " 'macro avg': {'f1-score': 0.6806722689075632,\n",
      "               'precision': 0.7999999999999999,\n",
      "               'recall': 0.7692307692307692,\n",
      "               'support': 30},\n",
      " 'weighted avg': {'f1-score': 0.6848739495798319,\n",
      "                  'precision': 0.88,\n",
      "                  'recall': 0.7,\n",
      "                  'support': 30}}\n"
     ]
    }
   ],
   "source": [
    "from sklearn.metrics import classification_report\n",
    "from pprint import pprint\n",
    "\n",
    "pprint(classification_report(y_test, y_pred, output_dict=True))"
   ]
  },
  {
   "cell_type": "markdown",
   "metadata": {},
   "source": [
    "### TODO : Intepret confusion matrix\n",
    "Instructor will walk you through the matrix.  \n",
    "Answer these questions\n",
    "- which class is classified correctly mostly\n",
    "- which class is classified incorrectly?"
   ]
  },
  {
   "cell_type": "markdown",
   "metadata": {},
   "source": [
    "## Step 10 : Improve the Model\n",
    "\n",
    "Inspect the following\n",
    "- What is the metric 'accuracy' in step 9.1\n",
    "- And verify this with tensorboard (port 6066)\n",
    "\n",
    "Most likely, we didn't get a great accuracy.  \n",
    "How can we improve it?\n",
    "\n",
    "**Try the following ideas** \n",
    "\n",
    "- **Idea-1 : Increase neurons in hidden layer**  \n",
    "  - In Step-4, increase hidden layer neurons from 8 --> 64  \n",
    "  - Click 'Kernel --> Restart and Run all Cells'  \n",
    "  - Hopefully you should see improvement in the accuracy.  \n",
    "  - Check  accuracy metrics / confusion matrix / tensorboard"
   ]
  },
  {
   "cell_type": "markdown",
   "metadata": {},
   "source": [
    "## Step 11 : Create a compact version of this notebook\n",
    "Start another notebook and implement this notebook in the most compact way!"
   ]
  },
  {
   "cell_type": "code",
   "execution_count": null,
   "metadata": {},
   "outputs": [],
   "source": []
  }
 ],
 "metadata": {
  "kernelspec": {
   "display_name": "Python 3",
   "language": "python",
   "name": "python3"
  },
  "language_info": {
   "codemirror_mode": {
    "name": "ipython",
    "version": 3
   },
   "file_extension": ".py",
   "mimetype": "text/x-python",
   "name": "python",
   "nbconvert_exporter": "python",
   "pygments_lexer": "ipython3",
   "version": "3.7.5"
  }
 },
 "nbformat": 4,
 "nbformat_minor": 4
}
