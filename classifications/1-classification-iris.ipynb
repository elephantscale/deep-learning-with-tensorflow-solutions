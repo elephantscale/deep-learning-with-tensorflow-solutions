{
 "cells": [
  {
   "cell_type": "markdown",
   "metadata": {},
   "source": [
    "## Deep Neural Network (DNN) Classifier - Iris\n",
    "We will build a relataively simple neuran net to classify IRIS dataset "
   ]
  },
  {
   "cell_type": "markdown",
   "metadata": {},
   "source": [
    "## Step 1 - About IRIS Dataset\n",
    "\n",
    "Imagine you are a botanist seeking an automated way to categorize each Iris flower you find. Machine learning provides many algorithms to statistically classify flowers. For instance, a sophisticated machine learning program could classify flowers based on photographs. Our ambitions are more modest—we're going to classify Iris flowers based on the length and width measurements of their [sepals](https://en.wikipedia.org/wiki/Sepal) and [petals](https://en.wikipedia.org/wiki/Petal).\n",
    "\n",
    "The Iris genus entails about 300 species, but our program will only classify the following three:\n",
    "\n",
    "* Iris setosa\n",
    "* Iris virginica\n",
    "* Iris versicolor\n",
    "\n",
    "<table>\n",
    "  <tr><td>\n",
    "    <img src=\"https://www.tensorflow.org/images/iris_three_species.jpg\"\n",
    "         alt=\"Petal geometry compared for three iris species: Iris setosa, Iris virginica, and Iris versicolor\">\n",
    "  </td></tr>\n",
    "  <tr><td align=\"center\">\n",
    "    <b>Figure 1.</b> <a href=\"https://commons.wikimedia.org/w/index.php?curid=170298\">Iris setosa</a> (by <a href=\"https://commons.wikimedia.org/wiki/User:Radomil\">Radomil</a>, CC BY-SA 3.0), <a href=\"https://commons.wikimedia.org/w/index.php?curid=248095\">Iris versicolor</a>, (by <a href=\"https://commons.wikimedia.org/wiki/User:Dlanglois\">Dlanglois</a>, CC BY-SA 3.0), and <a href=\"https://www.flickr.com/photos/33397993@N05/3352169862\">Iris virginica</a> (by <a href=\"https://www.flickr.com/photos/33397993@N05\">Frank Mayfield</a>, CC BY-SA 2.0).<br/>&nbsp;\n",
    "  </td></tr>\n",
    "</table>\n",
    "\n",
    "Fortunately, someone has already created a [data set of 120 Iris flowers](https://en.wikipedia.org/wiki/Iris_flower_data_set) with the sepal and p"
   ]
  },
  {
   "cell_type": "code",
   "execution_count": null,
   "metadata": {},
   "outputs": [],
   "source": [
    "## Determine if we are running on google colab\n",
    "\n",
    "try:\n",
    "    import google.colab\n",
    "    RUNNING_IN_COLAB = True\n",
    "except:\n",
    "    RUNNING_IN_COLAB = False\n",
    "\n",
    "print (\"Running in Google COLAB : \", RUNNING_IN_COLAB)\n"
   ]
  },
  {
   "cell_type": "code",
   "execution_count": 2,
   "metadata": {},
   "outputs": [],
   "source": [
    "%matplotlib inline\n",
    "import numpy as np\n",
    "import pandas as pd\n",
    "import matplotlib.pyplot as plt\n",
    "\n",
    "try:\n",
    "  # %tensorflow_version only exists in Colab.\n",
    "  %tensorflow_version 2.x\n",
    "except Exception:\n",
    "  pass\n",
    "\n",
    "import tensorflow as tf\n",
    "from tensorflow import keras"
   ]
  },
  {
   "cell_type": "markdown",
   "metadata": {},
   "source": [
    "## Step 2 : Read Data"
   ]
  },
  {
   "cell_type": "code",
   "execution_count": 3,
   "metadata": {},
   "outputs": [
    {
     "data": {
      "text/html": [
       "<div>\n",
       "<style scoped>\n",
       "    .dataframe tbody tr th:only-of-type {\n",
       "        vertical-align: middle;\n",
       "    }\n",
       "\n",
       "    .dataframe tbody tr th {\n",
       "        vertical-align: top;\n",
       "    }\n",
       "\n",
       "    .dataframe thead th {\n",
       "        text-align: right;\n",
       "    }\n",
       "</style>\n",
       "<table border=\"1\" class=\"dataframe\">\n",
       "  <thead>\n",
       "    <tr style=\"text-align: right;\">\n",
       "      <th></th>\n",
       "      <th>SepalLengthCm</th>\n",
       "      <th>SepalWidthCm</th>\n",
       "      <th>PetalLengthCm</th>\n",
       "      <th>PetalWidthCm</th>\n",
       "      <th>Species</th>\n",
       "    </tr>\n",
       "  </thead>\n",
       "  <tbody>\n",
       "    <tr>\n",
       "      <td>0</td>\n",
       "      <td>5.1</td>\n",
       "      <td>3.5</td>\n",
       "      <td>1.4</td>\n",
       "      <td>0.2</td>\n",
       "      <td>Iris-setosa</td>\n",
       "    </tr>\n",
       "    <tr>\n",
       "      <td>1</td>\n",
       "      <td>4.9</td>\n",
       "      <td>3.0</td>\n",
       "      <td>1.4</td>\n",
       "      <td>0.2</td>\n",
       "      <td>Iris-setosa</td>\n",
       "    </tr>\n",
       "    <tr>\n",
       "      <td>2</td>\n",
       "      <td>4.7</td>\n",
       "      <td>3.2</td>\n",
       "      <td>1.3</td>\n",
       "      <td>0.2</td>\n",
       "      <td>Iris-setosa</td>\n",
       "    </tr>\n",
       "    <tr>\n",
       "      <td>3</td>\n",
       "      <td>4.6</td>\n",
       "      <td>3.1</td>\n",
       "      <td>1.5</td>\n",
       "      <td>0.2</td>\n",
       "      <td>Iris-setosa</td>\n",
       "    </tr>\n",
       "    <tr>\n",
       "      <td>4</td>\n",
       "      <td>5.0</td>\n",
       "      <td>3.6</td>\n",
       "      <td>1.4</td>\n",
       "      <td>0.2</td>\n",
       "      <td>Iris-setosa</td>\n",
       "    </tr>\n",
       "    <tr>\n",
       "      <td>...</td>\n",
       "      <td>...</td>\n",
       "      <td>...</td>\n",
       "      <td>...</td>\n",
       "      <td>...</td>\n",
       "      <td>...</td>\n",
       "    </tr>\n",
       "    <tr>\n",
       "      <td>145</td>\n",
       "      <td>6.7</td>\n",
       "      <td>3.0</td>\n",
       "      <td>5.2</td>\n",
       "      <td>2.3</td>\n",
       "      <td>Iris-virginica</td>\n",
       "    </tr>\n",
       "    <tr>\n",
       "      <td>146</td>\n",
       "      <td>6.3</td>\n",
       "      <td>2.5</td>\n",
       "      <td>5.0</td>\n",
       "      <td>1.9</td>\n",
       "      <td>Iris-virginica</td>\n",
       "    </tr>\n",
       "    <tr>\n",
       "      <td>147</td>\n",
       "      <td>6.5</td>\n",
       "      <td>3.0</td>\n",
       "      <td>5.2</td>\n",
       "      <td>2.0</td>\n",
       "      <td>Iris-virginica</td>\n",
       "    </tr>\n",
       "    <tr>\n",
       "      <td>148</td>\n",
       "      <td>6.2</td>\n",
       "      <td>3.4</td>\n",
       "      <td>5.4</td>\n",
       "      <td>2.3</td>\n",
       "      <td>Iris-virginica</td>\n",
       "    </tr>\n",
       "    <tr>\n",
       "      <td>149</td>\n",
       "      <td>5.9</td>\n",
       "      <td>3.0</td>\n",
       "      <td>5.1</td>\n",
       "      <td>1.8</td>\n",
       "      <td>Iris-virginica</td>\n",
       "    </tr>\n",
       "  </tbody>\n",
       "</table>\n",
       "<p>150 rows × 5 columns</p>\n",
       "</div>"
      ],
      "text/plain": [
       "     SepalLengthCm  SepalWidthCm  PetalLengthCm  PetalWidthCm         Species\n",
       "0              5.1           3.5            1.4           0.2     Iris-setosa\n",
       "1              4.9           3.0            1.4           0.2     Iris-setosa\n",
       "2              4.7           3.2            1.3           0.2     Iris-setosa\n",
       "3              4.6           3.1            1.5           0.2     Iris-setosa\n",
       "4              5.0           3.6            1.4           0.2     Iris-setosa\n",
       "..             ...           ...            ...           ...             ...\n",
       "145            6.7           3.0            5.2           2.3  Iris-virginica\n",
       "146            6.3           2.5            5.0           1.9  Iris-virginica\n",
       "147            6.5           3.0            5.2           2.0  Iris-virginica\n",
       "148            6.2           3.4            5.4           2.3  Iris-virginica\n",
       "149            5.9           3.0            5.1           1.8  Iris-virginica\n",
       "\n",
       "[150 rows x 5 columns]"
      ]
     },
     "execution_count": 3,
     "metadata": {},
     "output_type": "execute_result"
    }
   ],
   "source": [
    "data_location = '../data/iris/keras/iris.csv'\n",
    "\n",
    "if RUNNING_IN_COLAB:\n",
    "    data_location = \"https://s3.amazonaws.com/elephantscale-public/data/iris/keras/iris.csv\"\n",
    "\n",
    "iris = pd.read_csv(data_location)\n",
    "iris.columns = ['SepalLengthCm', 'SepalWidthCm', 'PetalLengthCm', 'PetalWidthCm','Species']\n",
    "\n",
    "iris"
   ]
  },
  {
   "cell_type": "markdown",
   "metadata": {},
   "source": [
    "## Step 3 : Shape Data\n",
    "\n",
    "### 3.1 - Select columns"
   ]
  },
  {
   "cell_type": "code",
   "execution_count": 4,
   "metadata": {},
   "outputs": [
    {
     "name": "stdout",
     "output_type": "stream",
     "text": [
      "   SepalLengthCm  SepalWidthCm  PetalLengthCm  PetalWidthCm\n",
      "0            5.1           3.5            1.4           0.2\n",
      "1            4.9           3.0            1.4           0.2\n",
      "2            4.7           3.2            1.3           0.2\n",
      "3            4.6           3.1            1.5           0.2\n",
      "4            5.0           3.6            1.4           0.2\n",
      "-----\n",
      "       Species\n",
      "0  Iris-setosa\n",
      "1  Iris-setosa\n",
      "2  Iris-setosa\n",
      "3  Iris-setosa\n",
      "4  Iris-setosa\n"
     ]
    }
   ],
   "source": [
    "input_columns = ['SepalLengthCm', 'SepalWidthCm', 'PetalLengthCm', 'PetalWidthCm']\n",
    "x = iris [input_columns]\n",
    "y = iris[['Species']]\n",
    "\n",
    "print (x.head())\n",
    "print('-----')\n",
    "print (y.head())"
   ]
  },
  {
   "cell_type": "markdown",
   "metadata": {},
   "source": [
    "### 3.2 - Encode Labels\n",
    "Our output labels are strings like 'Iris-setosa' and 'Iris-virginica' ..etc.  \n",
    "These are called **categorical variables**  \n",
    "We need to change these to numbers  \n",
    "This is called **encoding**"
   ]
  },
  {
   "cell_type": "code",
   "execution_count": 5,
   "metadata": {},
   "outputs": [
    {
     "name": "stdout",
     "output_type": "stream",
     "text": [
      "[0 0 0 0 0 0 0 0 0 0 0 0 0 0 0 0 0 0 0 0 0 0 0 0 0 0 0 0 0 0 0 0 0 0 0 0 0\n",
      " 0 0 0 0 0 0 0 0 0 0 0 0 0 1 1 1 1 1 1 1 1 1 1 1 1 1 1 1 1 1 1 1 1 1 1 1 1\n",
      " 1 1 1 1 1 1 1 1 1 1 1 1 1 1 1 1 1 1 1 1 1 1 1 1 1 1 2 2 2 2 2 2 2 2 2 2 2\n",
      " 2 2 2 2 2 2 2 2 2 2 2 2 2 2 2 2 2 2 2 2 2 2 2 2 2 2 2 2 2 2 2 2 2 2 2 2 2\n",
      " 2 2]\n"
     ]
    },
    {
     "name": "stderr",
     "output_type": "stream",
     "text": [
      "/home/sujee/anaconda3/envs/tf2/lib/python3.7/site-packages/sklearn/preprocessing/label.py:235: DataConversionWarning: A column-vector y was passed when a 1d array was expected. Please change the shape of y to (n_samples, ), for example using ravel().\n",
      "  y = column_or_1d(y, warn=True)\n"
     ]
    }
   ],
   "source": [
    "from sklearn.preprocessing import LabelEncoder\n",
    "encoder =  LabelEncoder()\n",
    "y1 = encoder.fit_transform(y.values) ## need y.values which is an array\n",
    "print(y1)"
   ]
  },
  {
   "cell_type": "markdown",
   "metadata": {},
   "source": [
    "### 3.3 - Create train/test split"
   ]
  },
  {
   "cell_type": "code",
   "execution_count": 6,
   "metadata": {},
   "outputs": [
    {
     "name": "stdout",
     "output_type": "stream",
     "text": [
      "x_train.shape :  (120, 4)\n",
      "y_train.shape :  (120,)\n",
      "x_test.shape :  (30, 4)\n",
      "y_test.shape :  (30,)\n"
     ]
    }
   ],
   "source": [
    "from sklearn.model_selection import train_test_split\n",
    "\n",
    "# supply 'y1' (encoded labels)\n",
    "x_train,x_test, y_train,y_test = train_test_split(x,y1,test_size=0.2,random_state=0) \n",
    "\n",
    "print (\"x_train.shape : \", x_train.shape)\n",
    "print (\"y_train.shape : \", y_train.shape)\n",
    "print (\"x_test.shape : \", x_test.shape)\n",
    "print (\"y_test.shape : \", y_test.shape)"
   ]
  },
  {
   "cell_type": "markdown",
   "metadata": {},
   "source": [
    "## Step 4 : Build the Model\n",
    "Since this is a classifier, here is how we are going to build the neural network\n",
    "- Neurons in Input layer  = input dimensions (4 here)\n",
    "- Neurons in hidden layer = ???\n",
    "- Neurons in Output layer = output classes (3 here)\n",
    "- Output activation is 'softmax'\n",
    "\n",
    "### TODO : Sketch the neural net\n",
    "- What is the input dimensions\n",
    "- how many neurons in layers\n",
    "- how many output neurons\n",
    "\n",
    "<img src=\"../assets/images/neural-net-unknown.png\" style=\"width:40%\"/>"
   ]
  },
  {
   "cell_type": "code",
   "execution_count": 7,
   "metadata": {},
   "outputs": [
    {
     "name": "stdout",
     "output_type": "stream",
     "text": [
      "input_dim :  4 , output classes :  3\n",
      "Model: \"sequential\"\n",
      "_________________________________________________________________\n",
      "Layer (type)                 Output Shape              Param #   \n",
      "=================================================================\n",
      "dense (Dense)                (None, 4)                 20        \n",
      "_________________________________________________________________\n",
      "dense_1 (Dense)              (None, 64)                320       \n",
      "_________________________________________________________________\n",
      "dense_2 (Dense)              (None, 3)                 195       \n",
      "=================================================================\n",
      "Total params: 535\n",
      "Trainable params: 535\n",
      "Non-trainable params: 0\n",
      "_________________________________________________________________\n",
      "None\n"
     ]
    },
    {
     "data": {
      "image/png": "[encoded data removed]",
      "text/plain": [
       "<IPython.core.display.Image object>"
      ]
     },
     "execution_count": 7,
     "metadata": {},
     "output_type": "execute_result"
    }
   ],
   "source": [
    "input_dim = len(input_columns)\n",
    "output_clases = 3 \n",
    "print (\"input_dim : \", input_dim, \", output classes : \", output_clases)\n",
    "\n",
    "model = tf.keras.Sequential([\n",
    "            tf.keras.layers.Dense(units=input_dim, activation=tf.nn.relu, input_dim=input_dim),\n",
    "            tf.keras.layers.Dense(units=64, activation=tf.nn.relu),\n",
    "            tf.keras.layers.Dense(units=output_clases,  activation=tf.nn.softmax)\n",
    "            ])\n",
    "\n",
    "# loss = 'sparse_categorical_crossentropy'  or 'categorical_crossentropy'\n",
    "model.compile(loss='sparse_categorical_crossentropy', \n",
    "                 optimizer=tf.keras.optimizers.Adam(), # or 'adam', \n",
    "                 metrics=['accuracy'])\n",
    "\n",
    "print (model.summary())\n",
    "\n",
    "tf.keras.utils.plot_model(model, to_file='model.png', show_shapes=True)"
   ]
  },
  {
   "cell_type": "markdown",
   "metadata": {},
   "source": [
    "## Step 5 : Tensorboard"
   ]
  },
  {
   "cell_type": "code",
   "execution_count": 8,
   "metadata": {},
   "outputs": [
    {
     "name": "stdout",
     "output_type": "stream",
     "text": [
      "Saving TB logs to :  /tmp/tensorboard-logs/classification-iris-1/2020-01-16--10-21-02\n"
     ]
    }
   ],
   "source": [
    "## This is fairly boiler plate code\n",
    "\n",
    "import datetime\n",
    "import os\n",
    "\n",
    "app_name = 'classification-iris-1' # you can change this, if you like\n",
    "\n",
    "tb_top_level_dir= '/tmp/tensorboard-logs'\n",
    "tensorboard_logs_dir= os.path.join (tb_top_level_dir, app_name, \n",
    "                                    datetime.datetime.now().strftime(\"%Y-%m-%d--%H-%M-%S\"))\n",
    "print (\"Saving TB logs to : \" , tensorboard_logs_dir)\n",
    "\n",
    "tensorboard_callback = tf.keras.callbacks.TensorBoard(log_dir=tensorboard_logs_dir, histogram_freq=1)\n",
    "\n",
    "# Loading of tensorboard in Colab\n",
    "if RUNNING_IN_COLAB:\n",
    "    %load_ext tensorboard\n",
    "    %tensorboard --logdir $tb_top_level_dir"
   ]
  },
  {
   "cell_type": "markdown",
   "metadata": {},
   "source": [
    "## Step 6 : Train"
   ]
  },
  {
   "cell_type": "code",
   "execution_count": 9,
   "metadata": {},
   "outputs": [
    {
     "name": "stdout",
     "output_type": "stream",
     "text": [
      "training starting ...\n",
      "WARNING:tensorflow:Falling back from v2 loop because of error: Failed to find data adapter that can handle input: <class 'pandas.core.frame.DataFrame'>, <class 'NoneType'>\n",
      "WARNING:tensorflow:From /home/sujee/anaconda3/envs/tf2/lib/python3.7/site-packages/tensorflow_core/python/ops/math_grad.py:1424: where (from tensorflow.python.ops.array_ops) is deprecated and will be removed in a future version.\n",
      "Instructions for updating:\n",
      "Use tf.where in 2.0, which has the same broadcast rule as np.where\n",
      "Train on 96 samples, validate on 24 samples\n",
      "Epoch 1/100\n",
      "96/96 [==============================] - 0s 736us/sample - loss: 1.8802 - accuracy: 0.3438 - val_loss: 1.6651 - val_accuracy: 0.2500\n",
      "Epoch 2/100\n",
      "96/96 [==============================] - 0s 51us/sample - loss: 1.7325 - accuracy: 0.3438 - val_loss: 1.5327 - val_accuracy: 0.2500\n",
      "Epoch 3/100\n",
      "96/96 [==============================] - 0s 48us/sample - loss: 1.5912 - accuracy: 0.3438 - val_loss: 1.4234 - val_accuracy: 0.2500\n",
      "Epoch 4/100\n",
      "96/96 [==============================] - 0s 71us/sample - loss: 1.4825 - accuracy: 0.3438 - val_loss: 1.3384 - val_accuracy: 0.2500\n",
      "Epoch 5/100\n",
      "96/96 [==============================] - 0s 68us/sample - loss: 1.3765 - accuracy: 0.3438 - val_loss: 1.2729 - val_accuracy: 0.2500\n",
      "Epoch 6/100\n",
      "96/96 [==============================] - 0s 51us/sample - loss: 1.2902 - accuracy: 0.3438 - val_loss: 1.2231 - val_accuracy: 0.2500\n",
      "Epoch 7/100\n",
      "96/96 [==============================] - 0s 59us/sample - loss: 1.2197 - accuracy: 0.3438 - val_loss: 1.1936 - val_accuracy: 0.2500\n",
      "Epoch 8/100\n",
      "96/96 [==============================] - 0s 46us/sample - loss: 1.1739 - accuracy: 0.3438 - val_loss: 1.1750 - val_accuracy: 0.2500\n",
      "Epoch 9/100\n",
      "96/96 [==============================] - 0s 47us/sample - loss: 1.1364 - accuracy: 0.3438 - val_loss: 1.1715 - val_accuracy: 0.2500\n",
      "Epoch 10/100\n",
      "96/96 [==============================] - 0s 51us/sample - loss: 1.1038 - accuracy: 0.2812 - val_loss: 1.1677 - val_accuracy: 0.2917\n",
      "Epoch 11/100\n",
      "96/96 [==============================] - 0s 49us/sample - loss: 1.0912 - accuracy: 0.3854 - val_loss: 1.1680 - val_accuracy: 0.2917\n",
      "Epoch 12/100\n",
      "96/96 [==============================] - 0s 47us/sample - loss: 1.0892 - accuracy: 0.3854 - val_loss: 1.1734 - val_accuracy: 0.2917\n",
      "Epoch 13/100\n",
      "96/96 [==============================] - 0s 55us/sample - loss: 1.0886 - accuracy: 0.3854 - val_loss: 1.1770 - val_accuracy: 0.2917\n",
      "Epoch 14/100\n",
      "96/96 [==============================] - 0s 48us/sample - loss: 1.0845 - accuracy: 0.3854 - val_loss: 1.1680 - val_accuracy: 0.2917\n",
      "Epoch 15/100\n",
      "96/96 [==============================] - 0s 47us/sample - loss: 1.0822 - accuracy: 0.3854 - val_loss: 1.1606 - val_accuracy: 0.2917\n",
      "Epoch 16/100\n",
      "96/96 [==============================] - 0s 53us/sample - loss: 1.0811 - accuracy: 0.3854 - val_loss: 1.1521 - val_accuracy: 0.2917\n",
      "Epoch 17/100\n",
      "96/96 [==============================] - 0s 53us/sample - loss: 1.0800 - accuracy: 0.3854 - val_loss: 1.1437 - val_accuracy: 0.2917\n",
      "Epoch 18/100\n",
      "96/96 [==============================] - 0s 54us/sample - loss: 1.0782 - accuracy: 0.3854 - val_loss: 1.1325 - val_accuracy: 0.2917\n",
      "Epoch 19/100\n",
      "96/96 [==============================] - 0s 56us/sample - loss: 1.0750 - accuracy: 0.3854 - val_loss: 1.1250 - val_accuracy: 0.2917\n",
      "Epoch 20/100\n",
      "96/96 [==============================] - 0s 49us/sample - loss: 1.0737 - accuracy: 0.3854 - val_loss: 1.1191 - val_accuracy: 0.2917\n",
      "Epoch 21/100\n",
      "96/96 [==============================] - 0s 48us/sample - loss: 1.0716 - accuracy: 0.3854 - val_loss: 1.1143 - val_accuracy: 0.2917\n",
      "Epoch 22/100\n",
      "96/96 [==============================] - 0s 50us/sample - loss: 1.0706 - accuracy: 0.3854 - val_loss: 1.1157 - val_accuracy: 0.2917\n",
      "Epoch 23/100\n",
      "96/96 [==============================] - 0s 47us/sample - loss: 1.0669 - accuracy: 0.3854 - val_loss: 1.1152 - val_accuracy: 0.2917\n",
      "Epoch 24/100\n",
      "96/96 [==============================] - 0s 46us/sample - loss: 1.0657 - accuracy: 0.3854 - val_loss: 1.1143 - val_accuracy: 0.2917\n",
      "Epoch 25/100\n",
      "96/96 [==============================] - 0s 50us/sample - loss: 1.0635 - accuracy: 0.3854 - val_loss: 1.1144 - val_accuracy: 0.2917\n",
      "Epoch 26/100\n",
      "96/96 [==============================] - 0s 46us/sample - loss: 1.0606 - accuracy: 0.3854 - val_loss: 1.1113 - val_accuracy: 0.2917\n",
      "Epoch 27/100\n",
      "96/96 [==============================] - 0s 46us/sample - loss: 1.0590 - accuracy: 0.3854 - val_loss: 1.1097 - val_accuracy: 0.2917\n",
      "Epoch 28/100\n",
      "96/96 [==============================] - 0s 47us/sample - loss: 1.0576 - accuracy: 0.3854 - val_loss: 1.1124 - val_accuracy: 0.2917\n",
      "Epoch 29/100\n",
      "96/96 [==============================] - 0s 47us/sample - loss: 1.0544 - accuracy: 0.3854 - val_loss: 1.1091 - val_accuracy: 0.2917\n",
      "Epoch 30/100\n",
      "96/96 [==============================] - 0s 46us/sample - loss: 1.0519 - accuracy: 0.3854 - val_loss: 1.1065 - val_accuracy: 0.2917\n",
      "Epoch 31/100\n",
      "96/96 [==============================] - 0s 47us/sample - loss: 1.0504 - accuracy: 0.3854 - val_loss: 1.1085 - val_accuracy: 0.2917\n",
      "Epoch 32/100\n",
      "96/96 [==============================] - 0s 48us/sample - loss: 1.0471 - accuracy: 0.3854 - val_loss: 1.1037 - val_accuracy: 0.2917\n",
      "Epoch 33/100\n",
      "96/96 [==============================] - 0s 47us/sample - loss: 1.0445 - accuracy: 0.3854 - val_loss: 1.1019 - val_accuracy: 0.2917\n",
      "Epoch 34/100\n",
      "96/96 [==============================] - 0s 45us/sample - loss: 1.0415 - accuracy: 0.3854 - val_loss: 1.0981 - val_accuracy: 0.2917\n",
      "Epoch 35/100\n",
      "96/96 [==============================] - 0s 46us/sample - loss: 1.0385 - accuracy: 0.3854 - val_loss: 1.0921 - val_accuracy: 0.2917\n",
      "Epoch 36/100\n",
      "96/96 [==============================] - 0s 45us/sample - loss: 1.0362 - accuracy: 0.3854 - val_loss: 1.0837 - val_accuracy: 0.2917\n",
      "Epoch 37/100\n",
      "96/96 [==============================] - 0s 45us/sample - loss: 1.0326 - accuracy: 0.3854 - val_loss: 1.0834 - val_accuracy: 0.2917\n",
      "Epoch 38/100\n",
      "96/96 [==============================] - 0s 48us/sample - loss: 1.0289 - accuracy: 0.3854 - val_loss: 1.0815 - val_accuracy: 0.2917\n",
      "Epoch 39/100\n",
      "96/96 [==============================] - 0s 47us/sample - loss: 1.0251 - accuracy: 0.3854 - val_loss: 1.0761 - val_accuracy: 0.2917\n",
      "Epoch 40/100\n",
      "96/96 [==============================] - 0s 55us/sample - loss: 1.0214 - accuracy: 0.3854 - val_loss: 1.0715 - val_accuracy: 0.2917\n",
      "Epoch 41/100\n",
      "96/96 [==============================] - 0s 51us/sample - loss: 1.0168 - accuracy: 0.3854 - val_loss: 1.0702 - val_accuracy: 0.2917\n",
      "Epoch 42/100\n",
      "96/96 [==============================] - 0s 46us/sample - loss: 1.0125 - accuracy: 0.3854 - val_loss: 1.0657 - val_accuracy: 0.2917\n",
      "Epoch 43/100\n",
      "96/96 [==============================] - 0s 48us/sample - loss: 1.0079 - accuracy: 0.3854 - val_loss: 1.0657 - val_accuracy: 0.2917\n",
      "Epoch 44/100\n",
      "96/96 [==============================] - 0s 50us/sample - loss: 1.0029 - accuracy: 0.3854 - val_loss: 1.0591 - val_accuracy: 0.2917\n",
      "Epoch 45/100\n",
      "96/96 [==============================] - 0s 47us/sample - loss: 0.9978 - accuracy: 0.3854 - val_loss: 1.0531 - val_accuracy: 0.2917\n",
      "Epoch 46/100\n",
      "96/96 [==============================] - ETA: 0s - loss: 0.9482 - accuracy: 0.46 - 0s 48us/sample - loss: 0.9915 - accuracy: 0.3854 - val_loss: 1.0514 - val_accuracy: 0.2917\n",
      "Epoch 47/100\n",
      "96/96 [==============================] - 0s 53us/sample - loss: 0.9854 - accuracy: 0.3854 - val_loss: 1.0489 - val_accuracy: 0.2917\n",
      "Epoch 48/100\n",
      "96/96 [==============================] - 0s 48us/sample - loss: 0.9794 - accuracy: 0.3854 - val_loss: 1.0455 - val_accuracy: 0.2917\n",
      "Epoch 49/100\n",
      "96/96 [==============================] - 0s 48us/sample - loss: 0.9718 - accuracy: 0.4062 - val_loss: 1.0360 - val_accuracy: 0.3333\n",
      "Epoch 50/100\n",
      "96/96 [==============================] - 0s 49us/sample - loss: 0.9645 - accuracy: 0.4479 - val_loss: 1.0262 - val_accuracy: 0.3333\n",
      "Epoch 51/100\n",
      "96/96 [==============================] - 0s 47us/sample - loss: 0.9570 - accuracy: 0.4896 - val_loss: 1.0164 - val_accuracy: 0.3333\n",
      "Epoch 52/100\n",
      "96/96 [==============================] - 0s 47us/sample - loss: 0.9491 - accuracy: 0.5104 - val_loss: 1.0128 - val_accuracy: 0.3333\n",
      "Epoch 53/100\n",
      "96/96 [==============================] - 0s 50us/sample - loss: 0.9400 - accuracy: 0.5521 - val_loss: 1.0036 - val_accuracy: 0.3750\n",
      "Epoch 54/100\n",
      "96/96 [==============================] - 0s 46us/sample - loss: 0.9318 - accuracy: 0.6042 - val_loss: 1.0000 - val_accuracy: 0.3750\n",
      "Epoch 55/100\n",
      "96/96 [==============================] - 0s 45us/sample - loss: 0.9216 - accuracy: 0.6250 - val_loss: 0.9899 - val_accuracy: 0.4583\n",
      "Epoch 56/100\n",
      "96/96 [==============================] - 0s 45us/sample - loss: 0.9122 - accuracy: 0.6667 - val_loss: 0.9818 - val_accuracy: 0.4583\n",
      "Epoch 57/100\n",
      "96/96 [==============================] - 0s 47us/sample - loss: 0.9016 - accuracy: 0.6667 - val_loss: 0.9726 - val_accuracy: 0.4583\n",
      "Epoch 58/100\n",
      "96/96 [==============================] - 0s 48us/sample - loss: 0.8910 - accuracy: 0.6667 - val_loss: 0.9668 - val_accuracy: 0.4583\n",
      "Epoch 59/100\n",
      "96/96 [==============================] - 0s 46us/sample - loss: 0.8794 - accuracy: 0.6667 - val_loss: 0.9591 - val_accuracy: 0.4583\n",
      "Epoch 60/100\n",
      "96/96 [==============================] - 0s 48us/sample - loss: 0.8683 - accuracy: 0.6979 - val_loss: 0.9524 - val_accuracy: 0.5000\n",
      "Epoch 61/100\n",
      "96/96 [==============================] - 0s 45us/sample - loss: 0.8571 - accuracy: 0.7188 - val_loss: 0.9442 - val_accuracy: 0.5000\n",
      "Epoch 62/100\n",
      "96/96 [==============================] - 0s 50us/sample - loss: 0.8442 - accuracy: 0.7188 - val_loss: 0.9334 - val_accuracy: 0.5417\n",
      "Epoch 63/100\n",
      "96/96 [==============================] - 0s 48us/sample - loss: 0.8321 - accuracy: 0.7188 - val_loss: 0.9252 - val_accuracy: 0.5417\n",
      "Epoch 64/100\n",
      "96/96 [==============================] - 0s 46us/sample - loss: 0.8198 - accuracy: 0.7188 - val_loss: 0.9108 - val_accuracy: 0.5417\n",
      "Epoch 65/100\n",
      "96/96 [==============================] - 0s 47us/sample - loss: 0.8070 - accuracy: 0.7292 - val_loss: 0.8975 - val_accuracy: 0.5417\n",
      "Epoch 66/100\n",
      "96/96 [==============================] - 0s 47us/sample - loss: 0.7940 - accuracy: 0.7292 - val_loss: 0.8907 - val_accuracy: 0.5417\n",
      "Epoch 67/100\n",
      "96/96 [==============================] - 0s 45us/sample - loss: 0.7813 - accuracy: 0.7292 - val_loss: 0.8775 - val_accuracy: 0.5417\n",
      "Epoch 68/100\n",
      "96/96 [==============================] - 0s 52us/sample - loss: 0.7681 - accuracy: 0.7292 - val_loss: 0.8689 - val_accuracy: 0.5417\n",
      "Epoch 69/100\n",
      "96/96 [==============================] - 0s 46us/sample - loss: 0.7547 - accuracy: 0.7292 - val_loss: 0.8581 - val_accuracy: 0.5417\n",
      "Epoch 70/100\n",
      "96/96 [==============================] - 0s 49us/sample - loss: 0.7416 - accuracy: 0.7292 - val_loss: 0.8495 - val_accuracy: 0.5417\n",
      "Epoch 71/100\n",
      "96/96 [==============================] - 0s 44us/sample - loss: 0.7288 - accuracy: 0.7292 - val_loss: 0.8411 - val_accuracy: 0.5417\n",
      "Epoch 72/100\n",
      "96/96 [==============================] - 0s 47us/sample - loss: 0.7153 - accuracy: 0.7292 - val_loss: 0.8298 - val_accuracy: 0.5417\n",
      "Epoch 73/100\n",
      "96/96 [==============================] - 0s 46us/sample - loss: 0.7017 - accuracy: 0.7292 - val_loss: 0.8179 - val_accuracy: 0.5417\n",
      "Epoch 74/100\n",
      "96/96 [==============================] - 0s 45us/sample - loss: 0.6884 - accuracy: 0.7292 - val_loss: 0.8070 - val_accuracy: 0.5417\n",
      "Epoch 75/100\n",
      "96/96 [==============================] - 0s 47us/sample - loss: 0.6744 - accuracy: 0.7292 - val_loss: 0.7972 - val_accuracy: 0.5417\n",
      "Epoch 76/100\n",
      "96/96 [==============================] - 0s 46us/sample - loss: 0.6614 - accuracy: 0.7292 - val_loss: 0.7886 - val_accuracy: 0.5417\n",
      "Epoch 77/100\n",
      "96/96 [==============================] - 0s 46us/sample - loss: 0.6493 - accuracy: 0.7292 - val_loss: 0.7808 - val_accuracy: 0.5417\n",
      "Epoch 78/100\n",
      "96/96 [==============================] - 0s 45us/sample - loss: 0.6362 - accuracy: 0.7292 - val_loss: 0.7701 - val_accuracy: 0.5417\n",
      "Epoch 79/100\n",
      "96/96 [==============================] - 0s 48us/sample - loss: 0.6252 - accuracy: 0.7292 - val_loss: 0.7581 - val_accuracy: 0.5417\n",
      "Epoch 80/100\n",
      "96/96 [==============================] - 0s 45us/sample - loss: 0.6125 - accuracy: 0.7292 - val_loss: 0.7478 - val_accuracy: 0.5417\n",
      "Epoch 81/100\n",
      "96/96 [==============================] - 0s 45us/sample - loss: 0.6012 - accuracy: 0.7292 - val_loss: 0.7391 - val_accuracy: 0.5417\n",
      "Epoch 82/100\n",
      "96/96 [==============================] - 0s 46us/sample - loss: 0.5911 - accuracy: 0.7292 - val_loss: 0.7357 - val_accuracy: 0.5417\n",
      "Epoch 83/100\n",
      "96/96 [==============================] - 0s 46us/sample - loss: 0.5811 - accuracy: 0.7292 - val_loss: 0.7205 - val_accuracy: 0.5417\n",
      "Epoch 84/100\n",
      "96/96 [==============================] - 0s 44us/sample - loss: 0.5702 - accuracy: 0.7292 - val_loss: 0.7080 - val_accuracy: 0.5417\n",
      "Epoch 85/100\n",
      "96/96 [==============================] - 0s 55us/sample - loss: 0.5600 - accuracy: 0.7292 - val_loss: 0.7018 - val_accuracy: 0.5417\n",
      "Epoch 86/100\n",
      "96/96 [==============================] - 0s 47us/sample - loss: 0.5513 - accuracy: 0.7292 - val_loss: 0.6975 - val_accuracy: 0.5417\n",
      "Epoch 87/100\n",
      "96/96 [==============================] - 0s 47us/sample - loss: 0.5421 - accuracy: 0.7292 - val_loss: 0.6918 - val_accuracy: 0.5417\n",
      "Epoch 88/100\n",
      "96/96 [==============================] - 0s 57us/sample - loss: 0.5352 - accuracy: 0.7292 - val_loss: 0.6906 - val_accuracy: 0.5417\n",
      "Epoch 89/100\n",
      "96/96 [==============================] - 0s 47us/sample - loss: 0.5255 - accuracy: 0.7292 - val_loss: 0.6776 - val_accuracy: 0.5417\n",
      "Epoch 90/100\n",
      "96/96 [==============================] - 0s 632us/sample - loss: 0.5178 - accuracy: 0.7292 - val_loss: 0.6652 - val_accuracy: 0.5417\n",
      "Epoch 91/100\n",
      "96/96 [==============================] - 0s 49us/sample - loss: 0.5104 - accuracy: 0.7292 - val_loss: 0.6549 - val_accuracy: 0.5417\n",
      "Epoch 92/100\n",
      "96/96 [==============================] - 0s 47us/sample - loss: 0.5037 - accuracy: 0.7292 - val_loss: 0.6512 - val_accuracy: 0.5417\n",
      "Epoch 93/100\n",
      "96/96 [==============================] - 0s 59us/sample - loss: 0.4963 - accuracy: 0.7292 - val_loss: 0.6445 - val_accuracy: 0.5417\n",
      "Epoch 94/100\n",
      "96/96 [==============================] - 0s 47us/sample - loss: 0.4898 - accuracy: 0.7292 - val_loss: 0.6411 - val_accuracy: 0.5417\n",
      "Epoch 95/100\n",
      "96/96 [==============================] - 0s 45us/sample - loss: 0.4840 - accuracy: 0.7292 - val_loss: 0.6412 - val_accuracy: 0.5417\n",
      "Epoch 96/100\n",
      "96/96 [==============================] - 0s 61us/sample - loss: 0.4758 - accuracy: 0.7292 - val_loss: 0.6317 - val_accuracy: 0.5417\n",
      "Epoch 97/100\n",
      "96/96 [==============================] - 0s 49us/sample - loss: 0.4697 - accuracy: 0.7396 - val_loss: 0.6267 - val_accuracy: 0.5417\n",
      "Epoch 98/100\n",
      "96/96 [==============================] - 0s 47us/sample - loss: 0.4641 - accuracy: 0.7396 - val_loss: 0.6220 - val_accuracy: 0.5417\n",
      "Epoch 99/100\n",
      "96/96 [==============================] - 0s 57us/sample - loss: 0.4579 - accuracy: 0.7500 - val_loss: 0.6074 - val_accuracy: 0.5417\n",
      "Epoch 100/100\n",
      "96/96 [==============================] - 0s 47us/sample - loss: 0.4547 - accuracy: 0.7604 - val_loss: 0.5945 - val_accuracy: 0.5833\n",
      "training done.\n",
      "CPU times: user 978 ms, sys: 45.4 ms, total: 1.02 s\n",
      "Wall time: 806 ms\n"
     ]
    }
   ],
   "source": [
    "%%time\n",
    "\n",
    "## TODO configure some of these\n",
    "epochs = 100  ## experiment 100, 500, 1000\n",
    "\n",
    "print (\"training starting ...\")\n",
    "history = model.fit(\n",
    "              x_train, y_train,\n",
    "              epochs=epochs, validation_split = 0.2, verbose=1,\n",
    "              callbacks=[tensorboard_callback])\n",
    "\n",
    "print (\"training done.\")"
   ]
  },
  {
   "cell_type": "markdown",
   "metadata": {},
   "source": [
    "## Step 7 : Plot History"
   ]
  },
  {
   "cell_type": "code",
   "execution_count": 10,
   "metadata": {},
   "outputs": [
    {
     "data": {
      "image/png": "[encoded data removed]",
      "text/plain": [
       "<Figure size 432x288 with 1 Axes>"
      ]
     },
     "metadata": {
      "needs_background": "light"
     },
     "output_type": "display_data"
    }
   ],
   "source": [
    "%matplotlib inline\n",
    "import matplotlib.pyplot as plt\n",
    "\n",
    "plt.plot(history.history['accuracy'], label='train_accuracy')\n",
    "plt.plot(history.history['val_accuracy'], label='val_accuracy')\n",
    "plt.legend()\n",
    "plt.show()"
   ]
  },
  {
   "cell_type": "markdown",
   "metadata": {},
   "source": [
    "## Step 8 : Predict"
   ]
  },
  {
   "cell_type": "code",
   "execution_count": 11,
   "metadata": {},
   "outputs": [
    {
     "name": "stdout",
     "output_type": "stream",
     "text": [
      "WARNING:tensorflow:Falling back from v2 loop because of error: Failed to find data adapter that can handle input: <class 'pandas.core.frame.DataFrame'>, <class 'NoneType'>\n"
     ]
    },
    {
     "data": {
      "text/plain": [
       "array([[0.0432848 , 0.40840217, 0.5483131 ],\n",
       "       [0.01646796, 0.3707495 , 0.61278254],\n",
       "       [0.9385148 , 0.03665425, 0.02483089],\n",
       "       [0.00223984, 0.21701916, 0.78074104],\n",
       "       [0.8894352 , 0.06625549, 0.04430936],\n",
       "       [0.02551487, 0.35426638, 0.6202187 ],\n",
       "       [0.90945697, 0.05436699, 0.03617606],\n",
       "       [0.03035789, 0.42010832, 0.5495338 ],\n",
       "       [0.01374857, 0.362513  , 0.6237384 ],\n",
       "       [0.0577906 , 0.4533983 , 0.48881108],\n",
       "       [0.00531782, 0.24614127, 0.74854094],\n",
       "       [0.06104343, 0.44396856, 0.494988  ],\n",
       "       [0.02086011, 0.3644025 , 0.6147374 ],\n",
       "       [0.02365727, 0.3998951 , 0.5764476 ],\n",
       "       [0.02946438, 0.39168468, 0.578851  ],\n",
       "       [0.80931365, 0.11543114, 0.07525518],\n",
       "       [0.04406685, 0.42423502, 0.5316981 ],\n",
       "       [0.0322508 , 0.3835409 , 0.58420825],\n",
       "       [0.84129703, 0.09721549, 0.06148751],\n",
       "       [0.92909056, 0.0429883 , 0.02792117],\n",
       "       [0.04494729, 0.40249014, 0.55256253],\n",
       "       [0.07058275, 0.4251009 , 0.50431633],\n",
       "       [0.8383891 , 0.09406907, 0.06754175],\n",
       "       [0.8361822 , 0.09840844, 0.06540941],\n",
       "       [0.02900646, 0.39965355, 0.57133996],\n",
       "       [0.91188955, 0.05277606, 0.03533439],\n",
       "       [0.9178092 , 0.04742585, 0.0347649 ],\n",
       "       [0.04220036, 0.4333279 , 0.5244717 ],\n",
       "       [0.09310915, 0.45537952, 0.45151135],\n",
       "       [0.8934584 , 0.06371816, 0.04282331]], dtype=float32)"
      ]
     },
     "execution_count": 11,
     "metadata": {},
     "output_type": "execute_result"
    }
   ],
   "source": [
    "predictions = model.predict(x_test)\n",
    "predictions"
   ]
  },
  {
   "cell_type": "markdown",
   "metadata": {},
   "source": [
    "### Understanding Predictions\n",
    "In the above output, for each test input, the softmax layer, produces 3 numbers.  \n",
    "These numbers are probabilities.  If you add them up, you will get 1.0  \n",
    "We want to choose the output that has the highest probability.  \n",
    "\n",
    "For example `(0.03086184, 0.33362046, 0.6355177)` means  \n",
    "- class 1 has prob of 0.03  or 3%\n",
    "- class 2 has prob of 0.33  or 33%\n",
    "- class 3 has prob of 0.63  or 63%\n",
    "\n",
    "So we choose the class with highest probability as prediction : class 3\n",
    "\n",
    "\n",
    "We can get class predictions directly as follows"
   ]
  },
  {
   "cell_type": "code",
   "execution_count": 12,
   "metadata": {},
   "outputs": [
    {
     "name": "stdout",
     "output_type": "stream",
     "text": [
      "WARNING:tensorflow:Falling back from v2 loop because of error: Failed to find data adapter that can handle input: <class 'pandas.core.frame.DataFrame'>, <class 'NoneType'>\n"
     ]
    },
    {
     "data": {
      "text/plain": [
       "array([2, 2, 0, 2, 0, 2, 0, 2, 2, 2, 2, 2, 2, 2, 2, 0, 2, 2, 0, 0, 2, 2,\n",
       "       0, 0, 2, 0, 0, 2, 1, 0])"
      ]
     },
     "execution_count": 12,
     "metadata": {},
     "output_type": "execute_result"
    }
   ],
   "source": [
    "## Use 'predict_classes' instead of 'predict'\n",
    "y_pred = model.predict_classes(x_test)\n",
    "y_pred"
   ]
  },
  {
   "cell_type": "markdown",
   "metadata": {},
   "source": [
    "## Step 9 : Evaluate the model\n",
    "\n",
    "### 9.1 - Print out metrics"
   ]
  },
  {
   "cell_type": "code",
   "execution_count": 13,
   "metadata": {},
   "outputs": [
    {
     "name": "stdout",
     "output_type": "stream",
     "text": [
      "model metrics :  ['loss', 'accuracy']\n",
      "WARNING:tensorflow:Falling back from v2 loop because of error: Failed to find data adapter that can handle input: <class 'pandas.core.frame.DataFrame'>, <class 'NoneType'>\n",
      "Metric : loss = 0.53\n",
      "Metric : accuracy = 0.60\n"
     ]
    }
   ],
   "source": [
    "metric_names = model.metrics_names\n",
    "print (\"model metrics : \" , metric_names)\n",
    "\n",
    "metrics = model.evaluate(x_test, y_test, verbose=0)\n",
    "\n",
    "for idx, metric in enumerate(metric_names):\n",
    "    print (\"Metric : {} = {:,.2f}\".format (metric_names[idx], metrics[idx]))"
   ]
  },
  {
   "cell_type": "markdown",
   "metadata": {},
   "source": [
    "### 9.2 - Confussion Matrix\n",
    "Since this is a classification problem, confusion matrix is very effective way to evaluate our model"
   ]
  },
  {
   "cell_type": "code",
   "execution_count": 14,
   "metadata": {},
   "outputs": [
    {
     "data": {
      "text/plain": [
       "array([[11,  0,  0],\n",
       "       [ 0,  1, 12],\n",
       "       [ 0,  0,  6]])"
      ]
     },
     "execution_count": 14,
     "metadata": {},
     "output_type": "execute_result"
    }
   ],
   "source": [
    "## plain confusion matrix \n",
    "\n",
    "from sklearn.metrics import confusion_matrix\n",
    "import seaborn as sns\n",
    "\n",
    "cm = confusion_matrix(y_test, y_pred, labels = [0,1,2])\n",
    "cm\n"
   ]
  },
  {
   "cell_type": "code",
   "execution_count": 17,
   "metadata": {},
   "outputs": [
    {
     "data": {
      "image/png": "[encoded data removed]",
      "text/plain": [
       "<Figure size 576x432 with 2 Axes>"
      ]
     },
     "metadata": {
      "needs_background": "light"
     },
     "output_type": "display_data"
    }
   ],
   "source": [
    "if not RUNNING_IN_COLAB:\n",
    "  ## Plot confusion matrix\n",
    "  import os\n",
    "  import sys\n",
    "  top_dir = os.path.abspath(os.path.join(os.getcwd(), \"../\"))\n",
    "  if top_dir not in sys.path:\n",
    "      sys.path.append(top_dir)\n",
    "\n",
    "  import my_utils\n",
    "\n",
    "  my_utils.plot_confusion_matrix(cm, target_names=[0,1,2], normalize=False)"
   ]
  },
  {
   "cell_type": "markdown",
   "metadata": {},
   "source": [
    "### 9.3 - Metrics calculated from Confusion Matrix"
   ]
  },
  {
   "cell_type": "code",
   "execution_count": 16,
   "metadata": {},
   "outputs": [
    {
     "name": "stdout",
     "output_type": "stream",
     "text": [
      "{'0': {'f1-score': 1.0, 'precision': 1.0, 'recall': 1.0, 'support': 11},\n",
      " '1': {'f1-score': 0.14285714285714288,\n",
      "       'precision': 1.0,\n",
      "       'recall': 0.07692307692307693,\n",
      "       'support': 13},\n",
      " '2': {'f1-score': 0.5,\n",
      "       'precision': 0.3333333333333333,\n",
      "       'recall': 1.0,\n",
      "       'support': 6},\n",
      " 'accuracy': 0.6,\n",
      " 'macro avg': {'f1-score': 0.5476190476190476,\n",
      "               'precision': 0.7777777777777778,\n",
      "               'recall': 0.6923076923076922,\n",
      "               'support': 30},\n",
      " 'weighted avg': {'f1-score': 0.5285714285714286,\n",
      "                  'precision': 0.8666666666666667,\n",
      "                  'recall': 0.6,\n",
      "                  'support': 30}}\n"
     ]
    }
   ],
   "source": [
    "from sklearn.metrics import classification_report\n",
    "from pprint import pprint\n",
    "\n",
    "pprint(classification_report(y_test, y_pred, output_dict=True))"
   ]
  },
  {
   "cell_type": "markdown",
   "metadata": {},
   "source": [
    "### TODO : Intepret confusion matrix\n",
    "Instructor will walk you through the matrix.  \n",
    "Answer these questions\n",
    "- which class is classified correctly mostly\n",
    "- which class is classified incorrectly?"
   ]
  },
  {
   "cell_type": "markdown",
   "metadata": {},
   "source": [
    "## Step 10 : Improve the Model\n",
    "\n",
    "Inspect the following\n",
    "- What is the metric 'accuracy' in step 9.1\n",
    "- And verify this with tensorboard (port 6066)\n",
    "\n",
    "Most likely, we didn't get a great accuracy.  \n",
    "How can we improve it?\n",
    "\n",
    "**Try the following ideas** \n",
    "\n",
    "- **Idea-1 : Increase neurons in hidden layer**  \n",
    "  - In Step-4, increase hidden layer neurons from 8 --> 64  \n",
    "  - Click 'Kernel --> Restart and Run all Cells'  \n",
    "  - Hopefully you should see improvement in the accuracy.  \n",
    "  - Check  accuracy metrics / confusion matrix / tensorboard"
   ]
  },
  {
   "cell_type": "markdown",
   "metadata": {},
   "source": [
    "## Step 11 : Create a compact version of this notebook\n",
    "Start another notebook and implement this notebook in the most compact way!"
   ]
  },
  {
   "cell_type": "code",
   "execution_count": null,
   "metadata": {},
   "outputs": [],
   "source": []
  }
 ],
 "metadata": {
  "kernelspec": {
   "display_name": "tf2",
   "language": "python",
   "name": "tf2"
  },
  "language_info": {
   "codemirror_mode": {
    "name": "ipython",
    "version": 3
   },
   "file_extension": ".py",
   "mimetype": "text/x-python",
   "name": "python",
   "nbconvert_exporter": "python",
   "pygments_lexer": "ipython3",
   "version": "3.7.4"
  }
 },
 "nbformat": 4,
 "nbformat_minor": 4
}
