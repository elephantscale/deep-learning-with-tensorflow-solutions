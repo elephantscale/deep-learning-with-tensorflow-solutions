{
 "cells": [
  {
   "cell_type": "markdown",
   "metadata": {},
   "source": [
    "## Deep Neural Network (DNN) Classifier - Iris\n",
    "We will build a relataively simple neuran net to classify IRIS dataset "
   ]
  },
  {
   "cell_type": "markdown",
   "metadata": {},
   "source": [
    "## Step 1 - About IRIS Dataset\n",
    "\n",
    "Imagine you are a botanist seeking an automated way to categorize each Iris flower you find. Machine learning provides many algorithms to statistically classify flowers. For instance, a sophisticated machine learning program could classify flowers based on photographs. Our ambitions are more modest—we're going to classify Iris flowers based on the length and width measurements of their [sepals](https://en.wikipedia.org/wiki/Sepal) and [petals](https://en.wikipedia.org/wiki/Petal).\n",
    "\n",
    "The Iris genus entails about 300 species, but our program will only classify the following three:\n",
    "\n",
    "* Iris setosa\n",
    "* Iris virginica\n",
    "* Iris versicolor\n",
    "\n",
    "<table>\n",
    "  <tr><td>\n",
    "    <img src=\"https://www.tensorflow.org/images/iris_three_species.jpg\"\n",
    "         alt=\"Petal geometry compared for three iris species: Iris setosa, Iris virginica, and Iris versicolor\">\n",
    "  </td></tr>\n",
    "  <tr><td align=\"center\">\n",
    "    <b>Figure 1.</b> <a href=\"https://commons.wikimedia.org/w/index.php?curid=170298\">Iris setosa</a> (by <a href=\"https://commons.wikimedia.org/wiki/User:Radomil\">Radomil</a>, CC BY-SA 3.0), <a href=\"https://commons.wikimedia.org/w/index.php?curid=248095\">Iris versicolor</a>, (by <a href=\"https://commons.wikimedia.org/wiki/User:Dlanglois\">Dlanglois</a>, CC BY-SA 3.0), and <a href=\"https://www.flickr.com/photos/33397993@N05/3352169862\">Iris virginica</a> (by <a href=\"https://www.flickr.com/photos/33397993@N05\">Frank Mayfield</a>, CC BY-SA 2.0).<br/>&nbsp;\n",
    "  </td></tr>\n",
    "</table>\n",
    "\n",
    "Fortunately, someone has already created a [data set of 120 Iris flowers](https://en.wikipedia.org/wiki/Iris_flower_data_set) with the sepal and p"
   ]
  },
  {
   "cell_type": "code",
   "execution_count": 1,
   "metadata": {},
   "outputs": [],
   "source": [
    "%matplotlib inline\n",
    "import numpy as np\n",
    "import pandas as pd\n",
    "import matplotlib.pyplot as plt\n",
    "\n",
    "import tensorflow as tf\n",
    "from tensorflow import keras"
   ]
  },
  {
   "cell_type": "code",
   "execution_count": 2,
   "metadata": {},
   "outputs": [
    {
     "name": "stdout",
     "output_type": "stream",
     "text": [
      "Running in Google COLAB :  False\n"
     ]
    }
   ],
   "source": [
    "# Install the package for running tensorboard on google colaboration\n",
    "try:\n",
    "    import google.colab\n",
    "    IN_COLAB = True\n",
    "except:\n",
    "    IN_COLAB = False\n",
    "\n",
    "print (\"Running in Google COLAB : \", IN_COLAB)\n",
    "\n",
    "\n",
    "if IN_COLAB == True:\n",
    "    from tensorboardcolab import *\n",
    "    !pip install -U tensorboardcolab\n",
    "# Load the TensorBoard notebook extension\n",
    "    %load_ext tensorboard"
   ]
  },
  {
   "cell_type": "markdown",
   "metadata": {},
   "source": [
    "## Step 2 : Read Data"
   ]
  },
  {
   "cell_type": "code",
   "execution_count": 3,
   "metadata": {},
   "outputs": [
    {
     "data": {
      "text/html": [
       "<div>\n",
       "<style scoped>\n",
       "    .dataframe tbody tr th:only-of-type {\n",
       "        vertical-align: middle;\n",
       "    }\n",
       "\n",
       "    .dataframe tbody tr th {\n",
       "        vertical-align: top;\n",
       "    }\n",
       "\n",
       "    .dataframe thead th {\n",
       "        text-align: right;\n",
       "    }\n",
       "</style>\n",
       "<table border=\"1\" class=\"dataframe\">\n",
       "  <thead>\n",
       "    <tr style=\"text-align: right;\">\n",
       "      <th></th>\n",
       "      <th>SepalLengthCm</th>\n",
       "      <th>SepalWidthCm</th>\n",
       "      <th>PetalLengthCm</th>\n",
       "      <th>PetalWidthCm</th>\n",
       "      <th>Species</th>\n",
       "    </tr>\n",
       "  </thead>\n",
       "  <tbody>\n",
       "    <tr>\n",
       "      <td>0</td>\n",
       "      <td>5.1</td>\n",
       "      <td>3.5</td>\n",
       "      <td>1.4</td>\n",
       "      <td>0.2</td>\n",
       "      <td>Iris-setosa</td>\n",
       "    </tr>\n",
       "    <tr>\n",
       "      <td>1</td>\n",
       "      <td>4.9</td>\n",
       "      <td>3.0</td>\n",
       "      <td>1.4</td>\n",
       "      <td>0.2</td>\n",
       "      <td>Iris-setosa</td>\n",
       "    </tr>\n",
       "    <tr>\n",
       "      <td>2</td>\n",
       "      <td>4.7</td>\n",
       "      <td>3.2</td>\n",
       "      <td>1.3</td>\n",
       "      <td>0.2</td>\n",
       "      <td>Iris-setosa</td>\n",
       "    </tr>\n",
       "    <tr>\n",
       "      <td>3</td>\n",
       "      <td>4.6</td>\n",
       "      <td>3.1</td>\n",
       "      <td>1.5</td>\n",
       "      <td>0.2</td>\n",
       "      <td>Iris-setosa</td>\n",
       "    </tr>\n",
       "    <tr>\n",
       "      <td>4</td>\n",
       "      <td>5.0</td>\n",
       "      <td>3.6</td>\n",
       "      <td>1.4</td>\n",
       "      <td>0.2</td>\n",
       "      <td>Iris-setosa</td>\n",
       "    </tr>\n",
       "    <tr>\n",
       "      <td>...</td>\n",
       "      <td>...</td>\n",
       "      <td>...</td>\n",
       "      <td>...</td>\n",
       "      <td>...</td>\n",
       "      <td>...</td>\n",
       "    </tr>\n",
       "    <tr>\n",
       "      <td>145</td>\n",
       "      <td>6.7</td>\n",
       "      <td>3.0</td>\n",
       "      <td>5.2</td>\n",
       "      <td>2.3</td>\n",
       "      <td>Iris-virginica</td>\n",
       "    </tr>\n",
       "    <tr>\n",
       "      <td>146</td>\n",
       "      <td>6.3</td>\n",
       "      <td>2.5</td>\n",
       "      <td>5.0</td>\n",
       "      <td>1.9</td>\n",
       "      <td>Iris-virginica</td>\n",
       "    </tr>\n",
       "    <tr>\n",
       "      <td>147</td>\n",
       "      <td>6.5</td>\n",
       "      <td>3.0</td>\n",
       "      <td>5.2</td>\n",
       "      <td>2.0</td>\n",
       "      <td>Iris-virginica</td>\n",
       "    </tr>\n",
       "    <tr>\n",
       "      <td>148</td>\n",
       "      <td>6.2</td>\n",
       "      <td>3.4</td>\n",
       "      <td>5.4</td>\n",
       "      <td>2.3</td>\n",
       "      <td>Iris-virginica</td>\n",
       "    </tr>\n",
       "    <tr>\n",
       "      <td>149</td>\n",
       "      <td>5.9</td>\n",
       "      <td>3.0</td>\n",
       "      <td>5.1</td>\n",
       "      <td>1.8</td>\n",
       "      <td>Iris-virginica</td>\n",
       "    </tr>\n",
       "  </tbody>\n",
       "</table>\n",
       "<p>150 rows × 5 columns</p>\n",
       "</div>"
      ],
      "text/plain": [
       "     SepalLengthCm  SepalWidthCm  PetalLengthCm  PetalWidthCm         Species\n",
       "0              5.1           3.5            1.4           0.2     Iris-setosa\n",
       "1              4.9           3.0            1.4           0.2     Iris-setosa\n",
       "2              4.7           3.2            1.3           0.2     Iris-setosa\n",
       "3              4.6           3.1            1.5           0.2     Iris-setosa\n",
       "4              5.0           3.6            1.4           0.2     Iris-setosa\n",
       "..             ...           ...            ...           ...             ...\n",
       "145            6.7           3.0            5.2           2.3  Iris-virginica\n",
       "146            6.3           2.5            5.0           1.9  Iris-virginica\n",
       "147            6.5           3.0            5.2           2.0  Iris-virginica\n",
       "148            6.2           3.4            5.4           2.3  Iris-virginica\n",
       "149            5.9           3.0            5.1           1.8  Iris-virginica\n",
       "\n",
       "[150 rows x 5 columns]"
      ]
     },
     "execution_count": 3,
     "metadata": {},
     "output_type": "execute_result"
    }
   ],
   "source": [
    "data_location = '/data/iris/keras/iris.csv'\n",
    "# data_location = \"https://s3.amazonaws.com/elephantscale-public/data/iris/keras/iris.csv\"\n",
    "\n",
    "iris = pd.read_csv(data_location)\n",
    "iris.columns = ['SepalLengthCm', 'SepalWidthCm', 'PetalLengthCm', 'PetalWidthCm','Species']\n",
    "\n",
    "iris"
   ]
  },
  {
   "cell_type": "markdown",
   "metadata": {},
   "source": [
    "## Step 3 : Shape Data\n",
    "\n",
    "### 3.1 - Select columns"
   ]
  },
  {
   "cell_type": "code",
   "execution_count": 4,
   "metadata": {},
   "outputs": [
    {
     "name": "stdout",
     "output_type": "stream",
     "text": [
      "   SepalLengthCm  SepalWidthCm  PetalLengthCm  PetalWidthCm\n",
      "0            5.1           3.5            1.4           0.2\n",
      "1            4.9           3.0            1.4           0.2\n",
      "2            4.7           3.2            1.3           0.2\n",
      "3            4.6           3.1            1.5           0.2\n",
      "4            5.0           3.6            1.4           0.2\n",
      "-----\n",
      "       Species\n",
      "0  Iris-setosa\n",
      "1  Iris-setosa\n",
      "2  Iris-setosa\n",
      "3  Iris-setosa\n",
      "4  Iris-setosa\n"
     ]
    }
   ],
   "source": [
    "input_columns = ['SepalLengthCm', 'SepalWidthCm', 'PetalLengthCm', 'PetalWidthCm']\n",
    "x = iris [input_columns]\n",
    "y = iris[['Species']]\n",
    "\n",
    "print (x.head())\n",
    "print('-----')\n",
    "print (y.head())"
   ]
  },
  {
   "cell_type": "markdown",
   "metadata": {},
   "source": [
    "### 3.2 - Encode Labels\n",
    "Our output labels are strings like 'Iris-setosa' and 'Iris-virginica' ..etc.  \n",
    "These are called **categorical variables**  \n",
    "We need to change these to numbers  \n",
    "This is called **encoding**"
   ]
  },
  {
   "cell_type": "code",
   "execution_count": 5,
   "metadata": {},
   "outputs": [
    {
     "name": "stdout",
     "output_type": "stream",
     "text": [
      "[0 0 0 0 0 0 0 0 0 0 0 0 0 0 0 0 0 0 0 0 0 0 0 0 0 0 0 0 0 0 0 0 0 0 0 0 0\n",
      " 0 0 0 0 0 0 0 0 0 0 0 0 0 1 1 1 1 1 1 1 1 1 1 1 1 1 1 1 1 1 1 1 1 1 1 1 1\n",
      " 1 1 1 1 1 1 1 1 1 1 1 1 1 1 1 1 1 1 1 1 1 1 1 1 1 1 2 2 2 2 2 2 2 2 2 2 2\n",
      " 2 2 2 2 2 2 2 2 2 2 2 2 2 2 2 2 2 2 2 2 2 2 2 2 2 2 2 2 2 2 2 2 2 2 2 2 2\n",
      " 2 2]\n"
     ]
    },
    {
     "name": "stderr",
     "output_type": "stream",
     "text": [
      "/home/ubuntu/apps/anaconda/envs/tf2/lib/python3.7/site-packages/sklearn/preprocessing/label.py:235: DataConversionWarning: A column-vector y was passed when a 1d array was expected. Please change the shape of y to (n_samples, ), for example using ravel().\n",
      "  y = column_or_1d(y, warn=True)\n"
     ]
    }
   ],
   "source": [
    "from sklearn.preprocessing import LabelEncoder\n",
    "encoder =  LabelEncoder()\n",
    "y1 = encoder.fit_transform(y.values) ## need y.values which is an array\n",
    "print(y1)"
   ]
  },
  {
   "cell_type": "markdown",
   "metadata": {},
   "source": [
    "### 3.3 - Create train/test split"
   ]
  },
  {
   "cell_type": "code",
   "execution_count": 6,
   "metadata": {},
   "outputs": [
    {
     "name": "stdout",
     "output_type": "stream",
     "text": [
      "x_train.shape :  (120, 4)\n",
      "y_train.shape :  (120,)\n",
      "x_test.shape :  (30, 4)\n",
      "y_test.shape :  (30,)\n"
     ]
    }
   ],
   "source": [
    "from sklearn.model_selection import train_test_split\n",
    "\n",
    "# supply 'y1' (encoded labels)\n",
    "x_train,x_test, y_train,y_test = train_test_split(x,y1,test_size=0.2,random_state=0) \n",
    "\n",
    "print (\"x_train.shape : \", x_train.shape)\n",
    "print (\"y_train.shape : \", y_train.shape)\n",
    "print (\"x_test.shape : \", x_test.shape)\n",
    "print (\"y_test.shape : \", y_test.shape)"
   ]
  },
  {
   "cell_type": "markdown",
   "metadata": {},
   "source": [
    "## Step 4 : Build the Model\n",
    "Since this is a classifier, here is how we are going to build the neural network\n",
    "- Neurons in Input layer  = input dimensions (4 here)\n",
    "- Neurons in hidden layer = ???\n",
    "- Neurons in Output layer = output classes (3 here)\n",
    "- Output activation is 'softmax'\n",
    "\n",
    "### TODO : Sketch the neural net\n",
    "- What is the input dimensions\n",
    "- how many neurons in layers\n",
    "- how many output neurons\n",
    "\n",
    "<img src=\"../assets/images/neural-net-unknown.png\" style=\"width:40%\"/>"
   ]
  },
  {
   "cell_type": "code",
   "execution_count": 7,
   "metadata": {},
   "outputs": [
    {
     "name": "stdout",
     "output_type": "stream",
     "text": [
      "input_dim :  4 , output classes :  3\n",
      "Model: \"sequential\"\n",
      "_________________________________________________________________\n",
      "Layer (type)                 Output Shape              Param #   \n",
      "=================================================================\n",
      "input_layer (Dense)          (None, 4)                 20        \n",
      "_________________________________________________________________\n",
      "hidden_1 (Dense)             (None, 64)                320       \n",
      "_________________________________________________________________\n",
      "output_layer (Dense)         (None, 3)                 195       \n",
      "=================================================================\n",
      "Total params: 535\n",
      "Trainable params: 535\n",
      "Non-trainable params: 0\n",
      "_________________________________________________________________\n",
      "None\n"
     ]
    }
   ],
   "source": [
    "input_dim = len(input_columns)\n",
    "output_clases = 3 \n",
    "print (\"input_dim : \", input_dim, \", output classes : \", output_clases)\n",
    "\n",
    "model = tf.keras.Sequential([\n",
    "            tf.keras.layers.Dense(units=input_dim, activation=tf.nn.relu, input_dim=input_dim, name=\"input_layer\"),\n",
    "            tf.keras.layers.Dense(units=64, activation=tf.nn.relu, name=\"hidden_1\"),\n",
    "            tf.keras.layers.Dense(units=output_clases,  activation=tf.nn.softmax, name=\"output_layer\")\n",
    "            ])\n",
    "\n",
    "# loss = 'sparse_categorical_crossentropy'  or 'categorical_crossentropy'\n",
    "model.compile(loss='sparse_categorical_crossentropy', \n",
    "                 optimizer=tf.keras.optimizers.Adam(), # or 'adam', \n",
    "                 metrics=['accuracy'])\n",
    "\n",
    "print (model.summary())"
   ]
  },
  {
   "cell_type": "markdown",
   "metadata": {},
   "source": [
    "## Step 5 : Tensorboard"
   ]
  },
  {
   "cell_type": "code",
   "execution_count": 8,
   "metadata": {},
   "outputs": [
    {
     "name": "stdout",
     "output_type": "stream",
     "text": [
      "Saving TB logs to :  /tmp/tensorboard-logs/classification-iris-1/2019-09-08--07-53-19\n"
     ]
    }
   ],
   "source": [
    "## This is fairly boiler plate code\n",
    "\n",
    "import datetime\n",
    "import os\n",
    "\n",
    "app_name = 'classification-iris-1' # you can change this, if you like\n",
    "\n",
    "tb_top_level_dir= '/tmp/tensorboard-logs'\n",
    "tensorboard_logs_dir= os.path.join (tb_top_level_dir, app_name, \n",
    "                                    datetime.datetime.now().strftime(\"%Y-%m-%d--%H-%M-%S\"))\n",
    "print (\"Saving TB logs to : \" , tensorboard_logs_dir)\n",
    "\n",
    "tensorboard_callback = tf.keras.callbacks.TensorBoard(log_dir=tensorboard_logs_dir, histogram_freq=1)\n"
   ]
  },
  {
   "cell_type": "markdown",
   "metadata": {},
   "source": [
    "## Step 6 : Train"
   ]
  },
  {
   "cell_type": "code",
   "execution_count": 9,
   "metadata": {},
   "outputs": [
    {
     "name": "stdout",
     "output_type": "stream",
     "text": [
      "training starting ...\n",
      "WARNING:tensorflow:Falling back from v2 loop because of error: Failed to find data adapter that can handle input: <class 'pandas.core.frame.DataFrame'>, <class 'NoneType'>\n",
      "WARNING:tensorflow:From /home/ubuntu/apps/anaconda/envs/tf2/lib/python3.7/site-packages/tensorflow_core/python/ops/math_grad.py:1424: where (from tensorflow.python.ops.array_ops) is deprecated and will be removed in a future version.\n",
      "Instructions for updating:\n",
      "Use tf.where in 2.0, which has the same broadcast rule as np.where\n",
      "Train on 96 samples, validate on 24 samples\n",
      "Epoch 1/100\n",
      "96/96 [==============================] - 0s 824us/sample - loss: 1.0977 - accuracy: 0.3854 - val_loss: 1.2253 - val_accuracy: 0.2917\n",
      "Epoch 2/100\n",
      "96/96 [==============================] - 0s 62us/sample - loss: 1.0525 - accuracy: 0.3854 - val_loss: 1.1546 - val_accuracy: 0.2917\n",
      "Epoch 3/100\n",
      "96/96 [==============================] - 0s 60us/sample - loss: 1.0284 - accuracy: 0.3854 - val_loss: 1.0937 - val_accuracy: 0.2917\n",
      "Epoch 4/100\n",
      "96/96 [==============================] - 0s 72us/sample - loss: 1.0038 - accuracy: 0.3854 - val_loss: 1.0505 - val_accuracy: 0.2917\n",
      "Epoch 5/100\n",
      "96/96 [==============================] - 0s 73us/sample - loss: 0.9884 - accuracy: 0.3854 - val_loss: 1.0224 - val_accuracy: 0.2917\n",
      "Epoch 6/100\n",
      "96/96 [==============================] - 0s 62us/sample - loss: 0.9785 - accuracy: 0.3854 - val_loss: 1.0021 - val_accuracy: 0.2917\n",
      "Epoch 7/100\n",
      "96/96 [==============================] - 0s 58us/sample - loss: 0.9677 - accuracy: 0.3854 - val_loss: 0.9928 - val_accuracy: 0.2917\n",
      "Epoch 8/100\n",
      "96/96 [==============================] - 0s 68us/sample - loss: 0.9569 - accuracy: 0.3854 - val_loss: 0.9868 - val_accuracy: 0.2917\n",
      "Epoch 9/100\n",
      "96/96 [==============================] - 0s 60us/sample - loss: 0.9466 - accuracy: 0.3854 - val_loss: 0.9845 - val_accuracy: 0.2917\n",
      "Epoch 10/100\n",
      "96/96 [==============================] - 0s 70us/sample - loss: 0.9362 - accuracy: 0.3854 - val_loss: 0.9843 - val_accuracy: 0.2917\n",
      "Epoch 11/100\n",
      "96/96 [==============================] - 0s 60us/sample - loss: 0.9264 - accuracy: 0.3854 - val_loss: 0.9791 - val_accuracy: 0.2917\n",
      "Epoch 12/100\n",
      "96/96 [==============================] - 0s 74us/sample - loss: 0.9174 - accuracy: 0.3854 - val_loss: 0.9761 - val_accuracy: 0.2917\n",
      "Epoch 13/100\n",
      "96/96 [==============================] - 0s 62us/sample - loss: 0.9089 - accuracy: 0.3854 - val_loss: 0.9737 - val_accuracy: 0.2917\n",
      "Epoch 14/100\n",
      "96/96 [==============================] - 0s 58us/sample - loss: 0.9009 - accuracy: 0.3854 - val_loss: 0.9665 - val_accuracy: 0.2917\n",
      "Epoch 15/100\n",
      "96/96 [==============================] - 0s 71us/sample - loss: 0.8916 - accuracy: 0.3958 - val_loss: 0.9567 - val_accuracy: 0.2917\n",
      "Epoch 16/100\n",
      "96/96 [==============================] - 0s 64us/sample - loss: 0.8828 - accuracy: 0.4062 - val_loss: 0.9490 - val_accuracy: 0.2917\n",
      "Epoch 17/100\n",
      "96/96 [==============================] - 0s 69us/sample - loss: 0.8741 - accuracy: 0.4479 - val_loss: 0.9367 - val_accuracy: 0.3333\n",
      "Epoch 18/100\n",
      "96/96 [==============================] - 0s 56us/sample - loss: 0.8650 - accuracy: 0.5208 - val_loss: 0.9272 - val_accuracy: 0.4583\n",
      "Epoch 19/100\n",
      "96/96 [==============================] - 0s 59us/sample - loss: 0.8549 - accuracy: 0.6042 - val_loss: 0.9173 - val_accuracy: 0.5000\n",
      "Epoch 20/100\n",
      "96/96 [==============================] - 0s 59us/sample - loss: 0.8455 - accuracy: 0.6458 - val_loss: 0.9098 - val_accuracy: 0.5000\n",
      "Epoch 21/100\n",
      "96/96 [==============================] - 0s 58us/sample - loss: 0.8361 - accuracy: 0.6771 - val_loss: 0.9020 - val_accuracy: 0.5417\n",
      "Epoch 22/100\n",
      "96/96 [==============================] - 0s 64us/sample - loss: 0.8262 - accuracy: 0.7083 - val_loss: 0.8934 - val_accuracy: 0.5417\n",
      "Epoch 23/100\n",
      "96/96 [==============================] - 0s 61us/sample - loss: 0.8163 - accuracy: 0.7083 - val_loss: 0.8850 - val_accuracy: 0.5417\n",
      "Epoch 24/100\n",
      "96/96 [==============================] - 0s 63us/sample - loss: 0.8061 - accuracy: 0.7188 - val_loss: 0.8761 - val_accuracy: 0.5417\n",
      "Epoch 25/100\n",
      "96/96 [==============================] - 0s 60us/sample - loss: 0.7950 - accuracy: 0.7292 - val_loss: 0.8713 - val_accuracy: 0.5417\n",
      "Epoch 26/100\n",
      "96/96 [==============================] - 0s 56us/sample - loss: 0.7847 - accuracy: 0.7292 - val_loss: 0.8646 - val_accuracy: 0.5417\n",
      "Epoch 27/100\n",
      "96/96 [==============================] - 0s 65us/sample - loss: 0.7734 - accuracy: 0.7292 - val_loss: 0.8546 - val_accuracy: 0.5417\n",
      "Epoch 28/100\n",
      "96/96 [==============================] - 0s 59us/sample - loss: 0.7628 - accuracy: 0.7292 - val_loss: 0.8420 - val_accuracy: 0.5417\n",
      "Epoch 29/100\n",
      "96/96 [==============================] - 0s 74us/sample - loss: 0.7512 - accuracy: 0.7292 - val_loss: 0.8292 - val_accuracy: 0.5417\n",
      "Epoch 30/100\n",
      "96/96 [==============================] - 0s 64us/sample - loss: 0.7401 - accuracy: 0.7292 - val_loss: 0.8176 - val_accuracy: 0.5417\n",
      "Epoch 31/100\n",
      "96/96 [==============================] - 0s 59us/sample - loss: 0.7279 - accuracy: 0.7292 - val_loss: 0.8090 - val_accuracy: 0.5417\n",
      "Epoch 32/100\n",
      "96/96 [==============================] - 0s 60us/sample - loss: 0.7172 - accuracy: 0.7292 - val_loss: 0.8018 - val_accuracy: 0.5417\n",
      "Epoch 33/100\n",
      "96/96 [==============================] - 0s 60us/sample - loss: 0.7065 - accuracy: 0.7292 - val_loss: 0.7878 - val_accuracy: 0.5417\n",
      "Epoch 34/100\n",
      "96/96 [==============================] - 0s 64us/sample - loss: 0.6963 - accuracy: 0.7292 - val_loss: 0.7780 - val_accuracy: 0.5417\n",
      "Epoch 35/100\n",
      "96/96 [==============================] - 0s 56us/sample - loss: 0.6860 - accuracy: 0.7292 - val_loss: 0.7703 - val_accuracy: 0.5417\n",
      "Epoch 36/100\n",
      "96/96 [==============================] - 0s 57us/sample - loss: 0.6761 - accuracy: 0.7292 - val_loss: 0.7623 - val_accuracy: 0.5417\n",
      "Epoch 37/100\n",
      "96/96 [==============================] - 0s 61us/sample - loss: 0.6654 - accuracy: 0.7292 - val_loss: 0.7524 - val_accuracy: 0.5417\n",
      "Epoch 38/100\n",
      "96/96 [==============================] - 0s 57us/sample - loss: 0.6559 - accuracy: 0.7292 - val_loss: 0.7394 - val_accuracy: 0.5417\n",
      "Epoch 39/100\n",
      "96/96 [==============================] - 0s 68us/sample - loss: 0.6461 - accuracy: 0.7292 - val_loss: 0.7299 - val_accuracy: 0.5417\n",
      "Epoch 40/100\n",
      "96/96 [==============================] - 0s 59us/sample - loss: 0.6363 - accuracy: 0.7292 - val_loss: 0.7242 - val_accuracy: 0.5417\n",
      "Epoch 41/100\n",
      "96/96 [==============================] - 0s 68us/sample - loss: 0.6266 - accuracy: 0.7292 - val_loss: 0.7161 - val_accuracy: 0.5417\n",
      "Epoch 42/100\n",
      "96/96 [==============================] - 0s 61us/sample - loss: 0.6176 - accuracy: 0.7292 - val_loss: 0.7090 - val_accuracy: 0.5417\n",
      "Epoch 43/100\n",
      "96/96 [==============================] - 0s 62us/sample - loss: 0.6078 - accuracy: 0.7292 - val_loss: 0.6996 - val_accuracy: 0.5417\n",
      "Epoch 44/100\n",
      "96/96 [==============================] - 0s 71us/sample - loss: 0.5977 - accuracy: 0.7292 - val_loss: 0.6882 - val_accuracy: 0.5417\n",
      "Epoch 45/100\n",
      "96/96 [==============================] - 0s 61us/sample - loss: 0.5885 - accuracy: 0.7292 - val_loss: 0.6780 - val_accuracy: 0.5417\n",
      "Epoch 46/100\n",
      "96/96 [==============================] - 0s 64us/sample - loss: 0.5801 - accuracy: 0.7292 - val_loss: 0.6662 - val_accuracy: 0.5417\n",
      "Epoch 47/100\n",
      "96/96 [==============================] - 0s 60us/sample - loss: 0.5716 - accuracy: 0.7292 - val_loss: 0.6554 - val_accuracy: 0.5417\n",
      "Epoch 48/100\n",
      "96/96 [==============================] - 0s 64us/sample - loss: 0.5611 - accuracy: 0.7292 - val_loss: 0.6539 - val_accuracy: 0.5417\n",
      "Epoch 49/100\n",
      "96/96 [==============================] - 0s 63us/sample - loss: 0.5516 - accuracy: 0.7292 - val_loss: 0.6476 - val_accuracy: 0.5417\n",
      "Epoch 50/100\n",
      "96/96 [==============================] - 0s 55us/sample - loss: 0.5432 - accuracy: 0.7292 - val_loss: 0.6427 - val_accuracy: 0.5417\n",
      "Epoch 51/100\n",
      "96/96 [==============================] - 0s 65us/sample - loss: 0.5345 - accuracy: 0.7292 - val_loss: 0.6377 - val_accuracy: 0.5417\n",
      "Epoch 52/100\n",
      "96/96 [==============================] - 0s 59us/sample - loss: 0.5261 - accuracy: 0.7292 - val_loss: 0.6290 - val_accuracy: 0.5417\n",
      "Epoch 53/100\n",
      "96/96 [==============================] - 0s 70us/sample - loss: 0.5184 - accuracy: 0.7292 - val_loss: 0.6126 - val_accuracy: 0.5417\n",
      "Epoch 54/100\n",
      "96/96 [==============================] - 0s 60us/sample - loss: 0.5089 - accuracy: 0.7396 - val_loss: 0.6003 - val_accuracy: 0.5417\n",
      "Epoch 55/100\n",
      "96/96 [==============================] - 0s 60us/sample - loss: 0.5015 - accuracy: 0.7396 - val_loss: 0.5900 - val_accuracy: 0.5833\n",
      "Epoch 56/100\n",
      "96/96 [==============================] - 0s 68us/sample - loss: 0.4947 - accuracy: 0.7396 - val_loss: 0.5904 - val_accuracy: 0.5833\n",
      "Epoch 57/100\n",
      "96/96 [==============================] - 0s 61us/sample - loss: 0.4852 - accuracy: 0.7396 - val_loss: 0.5824 - val_accuracy: 0.5833\n",
      "Epoch 58/100\n",
      "96/96 [==============================] - 0s 66us/sample - loss: 0.4774 - accuracy: 0.7396 - val_loss: 0.5763 - val_accuracy: 0.5833\n",
      "Epoch 59/100\n",
      "96/96 [==============================] - 0s 71us/sample - loss: 0.4706 - accuracy: 0.7500 - val_loss: 0.5696 - val_accuracy: 0.5833\n",
      "Epoch 60/100\n",
      "96/96 [==============================] - 0s 65us/sample - loss: 0.4631 - accuracy: 0.7500 - val_loss: 0.5592 - val_accuracy: 0.6250\n",
      "Epoch 61/100\n",
      "96/96 [==============================] - 0s 60us/sample - loss: 0.4569 - accuracy: 0.7604 - val_loss: 0.5489 - val_accuracy: 0.6667\n",
      "Epoch 62/100\n",
      "96/96 [==============================] - 0s 61us/sample - loss: 0.4494 - accuracy: 0.7604 - val_loss: 0.5423 - val_accuracy: 0.6667\n",
      "Epoch 63/100\n",
      "96/96 [==============================] - 0s 62us/sample - loss: 0.4429 - accuracy: 0.7708 - val_loss: 0.5389 - val_accuracy: 0.6667\n",
      "Epoch 64/100\n",
      "96/96 [==============================] - 0s 66us/sample - loss: 0.4378 - accuracy: 0.7708 - val_loss: 0.5285 - val_accuracy: 0.7083\n",
      "Epoch 65/100\n",
      "96/96 [==============================] - 0s 72us/sample - loss: 0.4334 - accuracy: 0.7917 - val_loss: 0.5162 - val_accuracy: 0.7083\n",
      "Epoch 66/100\n",
      "96/96 [==============================] - 0s 63us/sample - loss: 0.4247 - accuracy: 0.8229 - val_loss: 0.5187 - val_accuracy: 0.7083\n",
      "Epoch 67/100\n",
      "96/96 [==============================] - 0s 62us/sample - loss: 0.4186 - accuracy: 0.7917 - val_loss: 0.5158 - val_accuracy: 0.7083\n",
      "Epoch 68/100\n",
      "96/96 [==============================] - 0s 63us/sample - loss: 0.4134 - accuracy: 0.7917 - val_loss: 0.5089 - val_accuracy: 0.7083\n",
      "Epoch 69/100\n",
      "96/96 [==============================] - 0s 59us/sample - loss: 0.4077 - accuracy: 0.8125 - val_loss: 0.5036 - val_accuracy: 0.7083\n",
      "Epoch 70/100\n",
      "96/96 [==============================] - 0s 66us/sample - loss: 0.4026 - accuracy: 0.8229 - val_loss: 0.4933 - val_accuracy: 0.7083\n",
      "Epoch 71/100\n",
      "96/96 [==============================] - 0s 60us/sample - loss: 0.3975 - accuracy: 0.8438 - val_loss: 0.4895 - val_accuracy: 0.7083\n",
      "Epoch 72/100\n",
      "96/96 [==============================] - 0s 61us/sample - loss: 0.3929 - accuracy: 0.8438 - val_loss: 0.4771 - val_accuracy: 0.7917\n",
      "Epoch 73/100\n",
      "96/96 [==============================] - 0s 63us/sample - loss: 0.3872 - accuracy: 0.8438 - val_loss: 0.4711 - val_accuracy: 0.7917\n",
      "Epoch 74/100\n",
      "96/96 [==============================] - 0s 60us/sample - loss: 0.3826 - accuracy: 0.8542 - val_loss: 0.4642 - val_accuracy: 0.8333\n",
      "Epoch 75/100\n",
      "96/96 [==============================] - 0s 62us/sample - loss: 0.3780 - accuracy: 0.8542 - val_loss: 0.4606 - val_accuracy: 0.8333\n",
      "Epoch 76/100\n",
      "96/96 [==============================] - 0s 660us/sample - loss: 0.3732 - accuracy: 0.8542 - val_loss: 0.4625 - val_accuracy: 0.7917\n",
      "Epoch 77/100\n",
      "96/96 [==============================] - 0s 59us/sample - loss: 0.3685 - accuracy: 0.8438 - val_loss: 0.4573 - val_accuracy: 0.7917\n",
      "Epoch 78/100\n",
      "96/96 [==============================] - 0s 59us/sample - loss: 0.3653 - accuracy: 0.8542 - val_loss: 0.4446 - val_accuracy: 0.8333\n",
      "Epoch 79/100\n",
      "96/96 [==============================] - 0s 70us/sample - loss: 0.3596 - accuracy: 0.8750 - val_loss: 0.4415 - val_accuracy: 0.8333\n",
      "Epoch 80/100\n",
      "96/96 [==============================] - 0s 74us/sample - loss: 0.3552 - accuracy: 0.8750 - val_loss: 0.4364 - val_accuracy: 0.8750\n",
      "Epoch 81/100\n",
      "96/96 [==============================] - 0s 95us/sample - loss: 0.3515 - accuracy: 0.8646 - val_loss: 0.4333 - val_accuracy: 0.8750\n",
      "Epoch 82/100\n",
      "96/96 [==============================] - 0s 59us/sample - loss: 0.3485 - accuracy: 0.8854 - val_loss: 0.4190 - val_accuracy: 0.8750\n",
      "Epoch 83/100\n",
      "96/96 [==============================] - 0s 66us/sample - loss: 0.3434 - accuracy: 0.8854 - val_loss: 0.4194 - val_accuracy: 0.8750\n",
      "Epoch 84/100\n",
      "96/96 [==============================] - 0s 60us/sample - loss: 0.3394 - accuracy: 0.8854 - val_loss: 0.4114 - val_accuracy: 0.8750\n",
      "Epoch 85/100\n",
      "96/96 [==============================] - 0s 59us/sample - loss: 0.3348 - accuracy: 0.9062 - val_loss: 0.4082 - val_accuracy: 0.8750\n",
      "Epoch 86/100\n",
      "96/96 [==============================] - 0s 57us/sample - loss: 0.3309 - accuracy: 0.9062 - val_loss: 0.4071 - val_accuracy: 0.8750\n",
      "Epoch 87/100\n",
      "96/96 [==============================] - 0s 63us/sample - loss: 0.3283 - accuracy: 0.9062 - val_loss: 0.3971 - val_accuracy: 0.8750\n",
      "Epoch 88/100\n",
      "96/96 [==============================] - 0s 57us/sample - loss: 0.3232 - accuracy: 0.9167 - val_loss: 0.3953 - val_accuracy: 0.8750\n",
      "Epoch 89/100\n",
      "96/96 [==============================] - 0s 59us/sample - loss: 0.3212 - accuracy: 0.8958 - val_loss: 0.3986 - val_accuracy: 0.8750\n",
      "Epoch 90/100\n",
      "96/96 [==============================] - 0s 62us/sample - loss: 0.3167 - accuracy: 0.9062 - val_loss: 0.3862 - val_accuracy: 0.8750\n",
      "Epoch 91/100\n",
      "96/96 [==============================] - 0s 61us/sample - loss: 0.3124 - accuracy: 0.9167 - val_loss: 0.3785 - val_accuracy: 0.8750\n",
      "Epoch 92/100\n",
      "96/96 [==============================] - 0s 58us/sample - loss: 0.3098 - accuracy: 0.9167 - val_loss: 0.3784 - val_accuracy: 0.8750\n",
      "Epoch 93/100\n",
      "96/96 [==============================] - 0s 65us/sample - loss: 0.3054 - accuracy: 0.9167 - val_loss: 0.3733 - val_accuracy: 0.8750\n",
      "Epoch 94/100\n",
      "96/96 [==============================] - 0s 61us/sample - loss: 0.3020 - accuracy: 0.9375 - val_loss: 0.3649 - val_accuracy: 0.8750\n",
      "Epoch 95/100\n",
      "96/96 [==============================] - 0s 58us/sample - loss: 0.2986 - accuracy: 0.9479 - val_loss: 0.3592 - val_accuracy: 0.8750\n",
      "Epoch 96/100\n",
      "96/96 [==============================] - 0s 61us/sample - loss: 0.2958 - accuracy: 0.9479 - val_loss: 0.3606 - val_accuracy: 0.8750\n",
      "Epoch 97/100\n",
      "96/96 [==============================] - 0s 57us/sample - loss: 0.2917 - accuracy: 0.9375 - val_loss: 0.3551 - val_accuracy: 0.8750\n",
      "Epoch 98/100\n",
      "96/96 [==============================] - 0s 73us/sample - loss: 0.2890 - accuracy: 0.9375 - val_loss: 0.3541 - val_accuracy: 0.8750\n",
      "Epoch 99/100\n",
      "96/96 [==============================] - 0s 62us/sample - loss: 0.2858 - accuracy: 0.9479 - val_loss: 0.3428 - val_accuracy: 0.8750\n",
      "Epoch 100/100\n",
      "96/96 [==============================] - 0s 61us/sample - loss: 0.2825 - accuracy: 0.9583 - val_loss: 0.3368 - val_accuracy: 0.8750\n",
      "training done.\n",
      "CPU times: user 1.18 s, sys: 90.7 ms, total: 1.27 s\n",
      "Wall time: 1 s\n"
     ]
    }
   ],
   "source": [
    "%%time\n",
    "\n",
    "## TODO configure some of these\n",
    "epochs = 100  ## experiment 100, 500, 1000\n",
    "\n",
    "print (\"training starting ...\")\n",
    "history = model.fit(\n",
    "              x_train, y_train,\n",
    "              epochs=epochs, validation_split = 0.2, verbose=1,\n",
    "              callbacks=[tensorboard_callback])\n",
    "\n",
    "print (\"training done.\")"
   ]
  },
  {
   "cell_type": "markdown",
   "metadata": {},
   "source": [
    "## Step 7 : Plot History"
   ]
  },
  {
   "cell_type": "code",
   "execution_count": 10,
   "metadata": {},
   "outputs": [
    {
     "data": {
      "image/png": "[encoded data removed]",
      "text/plain": [
       "<Figure size 432x288 with 1 Axes>"
      ]
     },
     "metadata": {
      "needs_background": "light"
     },
     "output_type": "display_data"
    }
   ],
   "source": [
    "%matplotlib inline\n",
    "import matplotlib.pyplot as plt\n",
    "\n",
    "plt.plot(history.history['accuracy'], label='train_accuracy')\n",
    "plt.plot(history.history['val_accuracy'], label='val_accuracy')\n",
    "plt.legend()\n",
    "plt.show()"
   ]
  },
  {
   "cell_type": "markdown",
   "metadata": {},
   "source": [
    "## Step 8 : Predict"
   ]
  },
  {
   "cell_type": "code",
   "execution_count": 11,
   "metadata": {},
   "outputs": [
    {
     "name": "stdout",
     "output_type": "stream",
     "text": [
      "WARNING:tensorflow:Falling back from v2 loop because of error: Failed to find data adapter that can handle input: <class 'pandas.core.frame.DataFrame'>, <class 'NoneType'>\n"
     ]
    },
    {
     "data": {
      "text/plain": [
       "array([[3.7544317e-04, 1.2249839e-01, 8.7712616e-01],\n",
       "       [5.4226261e-02, 6.9238710e-01, 2.5338659e-01],\n",
       "       [9.4420743e-01, 5.0372280e-02, 5.4202653e-03],\n",
       "       [5.2439648e-04, 2.2950020e-01, 7.6997542e-01],\n",
       "       [9.4661427e-01, 4.8433285e-02, 4.9524875e-03],\n",
       "       [9.8948432e-05, 7.6285131e-02, 9.2361593e-01],\n",
       "       [9.4417459e-01, 5.0398543e-02, 5.4267724e-03],\n",
       "       [1.3761720e-02, 5.7848042e-01, 4.0775788e-01],\n",
       "       [1.2976717e-02, 6.0076571e-01, 3.8625759e-01],\n",
       "       [4.0160775e-02, 6.6970909e-01, 2.9013014e-01],\n",
       "       [2.0149392e-03, 2.8880620e-01, 7.0917881e-01],\n",
       "       [1.7311918e-02, 5.7117051e-01, 4.1151753e-01],\n",
       "       [1.6699363e-02, 5.6132716e-01, 4.2197344e-01],\n",
       "       [1.2704616e-02, 5.6089050e-01, 4.2640480e-01],\n",
       "       [1.1554772e-02, 4.9839607e-01, 4.9004909e-01],\n",
       "       [9.4792467e-01, 4.7369208e-02, 4.7062091e-03],\n",
       "       [1.2339318e-02, 4.9412838e-01, 4.9353227e-01],\n",
       "       [1.8452950e-02, 5.1821131e-01, 4.6333575e-01],\n",
       "       [9.4804132e-01, 4.7274113e-02, 4.6845586e-03],\n",
       "       [9.4697279e-01, 4.8142638e-02, 4.8844931e-03],\n",
       "       [1.3317105e-03, 1.9802448e-01, 8.0064380e-01],\n",
       "       [1.0473696e-02, 4.2232600e-01, 5.6720030e-01],\n",
       "       [9.2888087e-01, 6.3874111e-02, 7.2450880e-03],\n",
       "       [9.4115788e-01, 5.2800741e-02, 6.0413387e-03],\n",
       "       [3.9766100e-03, 3.6068952e-01, 6.3533390e-01],\n",
       "       [9.2828447e-01, 6.2866196e-02, 8.8492837e-03],\n",
       "       [9.2367780e-01, 6.8541281e-02, 7.7808509e-03],\n",
       "       [2.7672756e-02, 6.3387930e-01, 3.3844790e-01],\n",
       "       [1.0834699e-01, 6.4303857e-01, 2.4861446e-01],\n",
       "       [9.3865317e-01, 5.5580828e-02, 5.7659708e-03]], dtype=float32)"
      ]
     },
     "execution_count": 11,
     "metadata": {},
     "output_type": "execute_result"
    }
   ],
   "source": [
    "predictions = model.predict(x_test)\n",
    "predictions"
   ]
  },
  {
   "cell_type": "markdown",
   "metadata": {},
   "source": [
    "### Understanding Predictions\n",
    "In the above output, for each test input, the softmax layer, produces 3 numbers.  \n",
    "These numbers are probabilities.  If you add them up, you will get 1.0  \n",
    "We want to choose the output that has the highest probability.  \n",
    "\n",
    "For example `(0.03086184, 0.33362046, 0.6355177)` means  \n",
    "- class 1 has prob of 0.03  or 3%\n",
    "- class 2 has prob of 0.33  or 33%\n",
    "- class 3 has prob of 0.63  or 63%\n",
    "\n",
    "So we choose the class with highest probability as prediction : class 3\n",
    "\n",
    "\n",
    "We can get class predictions directly as follows"
   ]
  },
  {
   "cell_type": "code",
   "execution_count": 12,
   "metadata": {},
   "outputs": [
    {
     "name": "stdout",
     "output_type": "stream",
     "text": [
      "WARNING:tensorflow:Falling back from v2 loop because of error: Failed to find data adapter that can handle input: <class 'pandas.core.frame.DataFrame'>, <class 'NoneType'>\n"
     ]
    },
    {
     "data": {
      "text/plain": [
       "array([2, 1, 0, 2, 0, 2, 0, 1, 1, 1, 2, 1, 1, 1, 1, 0, 1, 1, 0, 0, 2, 2,\n",
       "       0, 0, 2, 0, 0, 1, 1, 0])"
      ]
     },
     "execution_count": 12,
     "metadata": {},
     "output_type": "execute_result"
    }
   ],
   "source": [
    "## Use 'predict_classes' instead of 'predict'\n",
    "y_pred = model.predict_classes(x_test)\n",
    "y_pred"
   ]
  },
  {
   "cell_type": "markdown",
   "metadata": {},
   "source": [
    "## Step 9 : Evaluate the model\n",
    "\n",
    "### 9.1 - Print out metrics"
   ]
  },
  {
   "cell_type": "code",
   "execution_count": 13,
   "metadata": {},
   "outputs": [
    {
     "name": "stdout",
     "output_type": "stream",
     "text": [
      "model metrics :  ['loss', 'accuracy']\n",
      "WARNING:tensorflow:Falling back from v2 loop because of error: Failed to find data adapter that can handle input: <class 'pandas.core.frame.DataFrame'>, <class 'NoneType'>\n",
      "Metric : loss = 0.32\n",
      "Metric : accuracy = 0.97\n"
     ]
    }
   ],
   "source": [
    "metric_names = model.metrics_names\n",
    "print (\"model metrics : \" , metric_names)\n",
    "\n",
    "metrics = model.evaluate(x_test, y_test, verbose=0)\n",
    "\n",
    "for idx, metric in enumerate(metric_names):\n",
    "    print (\"Metric : {} = {:,.2f}\".format (metric_names[idx], metrics[idx]))"
   ]
  },
  {
   "cell_type": "markdown",
   "metadata": {},
   "source": [
    "### 9.2 - Confussion Matrix\n",
    "Since this is a classification problem, confusion matrix is very effective way to evaluate our model"
   ]
  },
  {
   "cell_type": "code",
   "execution_count": 14,
   "metadata": {},
   "outputs": [
    {
     "data": {
      "text/plain": [
       "array([[11,  0,  0],\n",
       "       [ 0, 12,  1],\n",
       "       [ 0,  0,  6]])"
      ]
     },
     "execution_count": 14,
     "metadata": {},
     "output_type": "execute_result"
    }
   ],
   "source": [
    "## plain confusion matrix \n",
    "\n",
    "from sklearn.metrics import confusion_matrix\n",
    "import seaborn as sns\n",
    "\n",
    "cm = confusion_matrix(y_test, y_pred, labels = [0,1,2])\n",
    "cm\n"
   ]
  },
  {
   "cell_type": "code",
   "execution_count": 15,
   "metadata": {},
   "outputs": [
    {
     "data": {
      "image/png": "[encoded data removed]",
      "text/plain": [
       "<Figure size 576x576 with 2 Axes>"
      ]
     },
     "metadata": {
      "needs_background": "light"
     },
     "output_type": "display_data"
    }
   ],
   "source": [
    "## Let's pretty it up a bit using Seaborn\n",
    "\n",
    "%matplotlib inline\n",
    "import seaborn as sns\n",
    "import matplotlib.pyplot as plt\n",
    "import numpy as np\n",
    "import pandas as pd\n",
    "\n",
    "\n",
    "df_cm = pd.DataFrame(cm, columns=np.unique(y_test), index = np.unique(y_test))\n",
    "df_cm.index.name = 'Actual'\n",
    "df_cm.columns.name = 'Predicted'\n",
    "plt.figure(figsize = (8,8))\n",
    "\n",
    "sns.set(font_scale=1.4) #for label size\n",
    "sns.heatmap(df_cm, cmap=\"Blues\", annot=True, fmt=',', annot_kws={\"size\": 16})# font size\n",
    "plt.show()"
   ]
  },
  {
   "cell_type": "markdown",
   "metadata": {},
   "source": [
    "### 9.3 - Metrics calculated from Confusion Matrix"
   ]
  },
  {
   "cell_type": "code",
   "execution_count": 16,
   "metadata": {},
   "outputs": [
    {
     "name": "stdout",
     "output_type": "stream",
     "text": [
      "{'0': {'f1-score': 1.0, 'precision': 1.0, 'recall': 1.0, 'support': 11},\n",
      " '1': {'f1-score': 0.9600000000000001,\n",
      "       'precision': 1.0,\n",
      "       'recall': 0.9230769230769231,\n",
      "       'support': 13},\n",
      " '2': {'f1-score': 0.923076923076923,\n",
      "       'precision': 0.8571428571428571,\n",
      "       'recall': 1.0,\n",
      "       'support': 6},\n",
      " 'accuracy': 0.9666666666666667,\n",
      " 'macro avg': {'f1-score': 0.9610256410256409,\n",
      "               'precision': 0.9523809523809524,\n",
      "               'recall': 0.9743589743589745,\n",
      "               'support': 30},\n",
      " 'weighted avg': {'f1-score': 0.9672820512820512,\n",
      "                  'precision': 0.9714285714285714,\n",
      "                  'recall': 0.9666666666666667,\n",
      "                  'support': 30}}\n"
     ]
    }
   ],
   "source": [
    "from sklearn.metrics import classification_report\n",
    "from pprint import pprint\n",
    "\n",
    "pprint(classification_report(y_test, y_pred, output_dict=True))"
   ]
  },
  {
   "cell_type": "markdown",
   "metadata": {},
   "source": [
    "### TODO : Intepret confusion matrix\n",
    "Instructor will walk you through the matrix.  \n",
    "Answer these questions\n",
    "- which class is classified correctly mostly\n",
    "- which class is classified incorrectly?"
   ]
  },
  {
   "cell_type": "markdown",
   "metadata": {},
   "source": [
    "## Step 10 : Improve the Model\n",
    "\n",
    "Inspect the following\n",
    "- What is the metric 'accuracy' in step 9.1\n",
    "- And verify this with tensorboard (port 6066)\n",
    "\n",
    "Most likely, we didn't get a great accuracy.  \n",
    "How can we improve it?\n",
    "\n",
    "**Try the following ideas** \n",
    "\n",
    "- **Idea-1 : Increase neurons in hidden layer**  \n",
    "  - In Step-4, increase hidden layer neurons from 8 --> 64  \n",
    "  - Click 'Kernel --> Restart and Run all Cells'  \n",
    "  - Hopefully you should see improvement in the accuracy.  \n",
    "  - Check  accuracy metrics / confusion matrix / tensorboard"
   ]
  },
  {
   "cell_type": "markdown",
   "metadata": {},
   "source": [
    "## Step 11 : Create a compact version of this notebook\n",
    "Start another notebook and implement this notebook in the most compact way!"
   ]
  },
  {
   "cell_type": "code",
   "execution_count": null,
   "metadata": {},
   "outputs": [],
   "source": []
  }
 ],
 "metadata": {
  "kernelspec": {
   "display_name": "tf2",
   "language": "python",
   "name": "tf2"
  },
  "language_info": {
   "codemirror_mode": {
    "name": "ipython",
    "version": 3
   },
   "file_extension": ".py",
   "mimetype": "text/x-python",
   "name": "python",
   "nbconvert_exporter": "python",
   "pygments_lexer": "ipython3",
   "version": "3.7.4"
  }
 },
 "nbformat": 4,
 "nbformat_minor": 4
}
