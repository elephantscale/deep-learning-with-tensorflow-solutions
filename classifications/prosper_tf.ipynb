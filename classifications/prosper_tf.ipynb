{
 "cells": [
  {
   "cell_type": "markdown",
   "metadata": {
    "colab_type": "text",
    "id": "Yts6mIrn3I0K"
   },
   "source": [
    "# Neural Network : Prosper Loan Dataset\n",
    "\n",
    "We are going to look at the prosper loan dataset.  This dataset shows a history of loans made by Prosper.\n"
   ]
  },
  {
   "cell_type": "code",
   "execution_count": 1,
   "metadata": {
    "colab": {
     "base_uri": "https://localhost:8080/",
     "height": 34
    },
    "colab_type": "code",
    "id": "q68GAWGQ3I0L",
    "outputId": "ba5d3e5e-e6a0-4b5d-f77c-795c93b98460",
    "scrolled": true
   },
   "outputs": [],
   "source": [
    "%matplotlib inline\n",
    "import time,datetime\n",
    "import pandas as pd\n",
    "import matplotlib.pyplot as plt\n",
    "\n",
    "\n",
    "\n",
    "\n",
    "try:\n",
    "  # %tensorflow_version only exists in Colab.\n",
    "  %tensorflow_version 2.x\n",
    "except Exception:\n",
    "  pass\n",
    "import tensorflow as tf\n"
   ]
  },
  {
   "cell_type": "markdown",
   "metadata": {
    "colab_type": "text",
    "id": "OBa1hiTR3I0N"
   },
   "source": [
    "## Step 1: Load the Data\n",
    "\n",
    "Notice we are first loading this into a Pandas dataframe. This is fine for a small dataset, but we will need more than this for a large \"at scale\" notebook."
   ]
  },
  {
   "cell_type": "code",
   "execution_count": 2,
   "metadata": {
    "colab": {
     "base_uri": "https://localhost:8080/",
     "height": 1000
    },
    "colab_type": "code",
    "id": "oQr-gFdH3I0N",
    "outputId": "5e97d3c1-9ce3-4c33-a6ae-840148e1e937",
    "scrolled": true
   },
   "outputs": [
    {
     "data": {
      "text/html": [
       "<div>\n",
       "<style scoped>\n",
       "    .dataframe tbody tr th:only-of-type {\n",
       "        vertical-align: middle;\n",
       "    }\n",
       "\n",
       "    .dataframe tbody tr th {\n",
       "        vertical-align: top;\n",
       "    }\n",
       "\n",
       "    .dataframe thead th {\n",
       "        text-align: right;\n",
       "    }\n",
       "</style>\n",
       "<table border=\"1\" class=\"dataframe\">\n",
       "  <thead>\n",
       "    <tr style=\"text-align: right;\">\n",
       "      <th></th>\n",
       "      <th>Term</th>\n",
       "      <th>LoanStatus</th>\n",
       "      <th>BorrowerRate</th>\n",
       "      <th>ProsperRating (numeric)</th>\n",
       "      <th>ProsperScore</th>\n",
       "      <th>ListingCategory</th>\n",
       "      <th>BorrowerState</th>\n",
       "      <th>EmploymentStatus</th>\n",
       "      <th>EmploymentStatusDuration</th>\n",
       "      <th>IsBorrowerHomeowner</th>\n",
       "      <th>...</th>\n",
       "      <th>ProsperPaymentsOneMonthPlusLate</th>\n",
       "      <th>ProsperPrincipalBorrowed</th>\n",
       "      <th>ProsperPrincipalOutstanding</th>\n",
       "      <th>LoanOriginalAmount</th>\n",
       "      <th>MonthlyLoanPayment</th>\n",
       "      <th>Recommendations</th>\n",
       "      <th>InvestmentFromFriendsCount</th>\n",
       "      <th>InvestmentFromFriendsAmount</th>\n",
       "      <th>Investors</th>\n",
       "      <th>YearsWithCredit</th>\n",
       "    </tr>\n",
       "  </thead>\n",
       "  <tbody>\n",
       "    <tr>\n",
       "      <td>0</td>\n",
       "      <td>36</td>\n",
       "      <td>1</td>\n",
       "      <td>0.1580</td>\n",
       "      <td>4.0</td>\n",
       "      <td>6.0</td>\n",
       "      <td>Unknown</td>\n",
       "      <td>CO</td>\n",
       "      <td>Self-employed</td>\n",
       "      <td>2.0</td>\n",
       "      <td>True</td>\n",
       "      <td>...</td>\n",
       "      <td>0.0</td>\n",
       "      <td>0.0</td>\n",
       "      <td>0.00</td>\n",
       "      <td>9425</td>\n",
       "      <td>330.43</td>\n",
       "      <td>0</td>\n",
       "      <td>0</td>\n",
       "      <td>0.0</td>\n",
       "      <td>258</td>\n",
       "      <td>13</td>\n",
       "    </tr>\n",
       "    <tr>\n",
       "      <td>1</td>\n",
       "      <td>36</td>\n",
       "      <td>1</td>\n",
       "      <td>0.1325</td>\n",
       "      <td>4.0</td>\n",
       "      <td>6.0</td>\n",
       "      <td>Unknown</td>\n",
       "      <td>Unknown</td>\n",
       "      <td>Full-time</td>\n",
       "      <td>19.0</td>\n",
       "      <td>False</td>\n",
       "      <td>...</td>\n",
       "      <td>0.0</td>\n",
       "      <td>0.0</td>\n",
       "      <td>0.00</td>\n",
       "      <td>1000</td>\n",
       "      <td>33.81</td>\n",
       "      <td>0</td>\n",
       "      <td>0</td>\n",
       "      <td>0.0</td>\n",
       "      <td>53</td>\n",
       "      <td>14</td>\n",
       "    </tr>\n",
       "    <tr>\n",
       "      <td>2</td>\n",
       "      <td>36</td>\n",
       "      <td>0</td>\n",
       "      <td>0.1435</td>\n",
       "      <td>5.0</td>\n",
       "      <td>4.0</td>\n",
       "      <td>Debt</td>\n",
       "      <td>AL</td>\n",
       "      <td>Employed</td>\n",
       "      <td>1.0</td>\n",
       "      <td>False</td>\n",
       "      <td>...</td>\n",
       "      <td>0.0</td>\n",
       "      <td>0.0</td>\n",
       "      <td>0.00</td>\n",
       "      <td>4000</td>\n",
       "      <td>137.39</td>\n",
       "      <td>0</td>\n",
       "      <td>0</td>\n",
       "      <td>0.0</td>\n",
       "      <td>1</td>\n",
       "      <td>18</td>\n",
       "    </tr>\n",
       "    <tr>\n",
       "      <td>3</td>\n",
       "      <td>36</td>\n",
       "      <td>0</td>\n",
       "      <td>0.3177</td>\n",
       "      <td>1.0</td>\n",
       "      <td>5.0</td>\n",
       "      <td>Household</td>\n",
       "      <td>FL</td>\n",
       "      <td>Other</td>\n",
       "      <td>121.0</td>\n",
       "      <td>True</td>\n",
       "      <td>...</td>\n",
       "      <td>0.0</td>\n",
       "      <td>0.0</td>\n",
       "      <td>0.00</td>\n",
       "      <td>4000</td>\n",
       "      <td>173.71</td>\n",
       "      <td>0</td>\n",
       "      <td>0</td>\n",
       "      <td>0.0</td>\n",
       "      <td>10</td>\n",
       "      <td>15</td>\n",
       "    </tr>\n",
       "    <tr>\n",
       "      <td>4</td>\n",
       "      <td>36</td>\n",
       "      <td>1</td>\n",
       "      <td>0.2075</td>\n",
       "      <td>4.0</td>\n",
       "      <td>6.0</td>\n",
       "      <td>Unknown</td>\n",
       "      <td>MI</td>\n",
       "      <td>Full-time</td>\n",
       "      <td>36.0</td>\n",
       "      <td>False</td>\n",
       "      <td>...</td>\n",
       "      <td>0.0</td>\n",
       "      <td>0.0</td>\n",
       "      <td>0.00</td>\n",
       "      <td>3000</td>\n",
       "      <td>112.64</td>\n",
       "      <td>0</td>\n",
       "      <td>0</td>\n",
       "      <td>0.0</td>\n",
       "      <td>53</td>\n",
       "      <td>11</td>\n",
       "    </tr>\n",
       "    <tr>\n",
       "      <td>...</td>\n",
       "      <td>...</td>\n",
       "      <td>...</td>\n",
       "      <td>...</td>\n",
       "      <td>...</td>\n",
       "      <td>...</td>\n",
       "      <td>...</td>\n",
       "      <td>...</td>\n",
       "      <td>...</td>\n",
       "      <td>...</td>\n",
       "      <td>...</td>\n",
       "      <td>...</td>\n",
       "      <td>...</td>\n",
       "      <td>...</td>\n",
       "      <td>...</td>\n",
       "      <td>...</td>\n",
       "      <td>...</td>\n",
       "      <td>...</td>\n",
       "      <td>...</td>\n",
       "      <td>...</td>\n",
       "      <td>...</td>\n",
       "      <td>...</td>\n",
       "    </tr>\n",
       "    <tr>\n",
       "      <td>49719</td>\n",
       "      <td>36</td>\n",
       "      <td>1</td>\n",
       "      <td>0.0679</td>\n",
       "      <td>4.0</td>\n",
       "      <td>6.0</td>\n",
       "      <td>Personal</td>\n",
       "      <td>WA</td>\n",
       "      <td>Full-time</td>\n",
       "      <td>69.0</td>\n",
       "      <td>True</td>\n",
       "      <td>...</td>\n",
       "      <td>0.0</td>\n",
       "      <td>1000.0</td>\n",
       "      <td>847.61</td>\n",
       "      <td>4292</td>\n",
       "      <td>132.11</td>\n",
       "      <td>2</td>\n",
       "      <td>0</td>\n",
       "      <td>0.0</td>\n",
       "      <td>194</td>\n",
       "      <td>42</td>\n",
       "    </tr>\n",
       "    <tr>\n",
       "      <td>49720</td>\n",
       "      <td>36</td>\n",
       "      <td>1</td>\n",
       "      <td>0.1899</td>\n",
       "      <td>4.0</td>\n",
       "      <td>6.0</td>\n",
       "      <td>Business</td>\n",
       "      <td>CO</td>\n",
       "      <td>Full-time</td>\n",
       "      <td>22.0</td>\n",
       "      <td>False</td>\n",
       "      <td>...</td>\n",
       "      <td>0.0</td>\n",
       "      <td>14250.0</td>\n",
       "      <td>0.02</td>\n",
       "      <td>2000</td>\n",
       "      <td>73.30</td>\n",
       "      <td>0</td>\n",
       "      <td>0</td>\n",
       "      <td>0.0</td>\n",
       "      <td>25</td>\n",
       "      <td>10</td>\n",
       "    </tr>\n",
       "    <tr>\n",
       "      <td>49721</td>\n",
       "      <td>36</td>\n",
       "      <td>1</td>\n",
       "      <td>0.2639</td>\n",
       "      <td>2.0</td>\n",
       "      <td>3.0</td>\n",
       "      <td>Reno</td>\n",
       "      <td>FL</td>\n",
       "      <td>Employed</td>\n",
       "      <td>25.0</td>\n",
       "      <td>False</td>\n",
       "      <td>...</td>\n",
       "      <td>0.0</td>\n",
       "      <td>0.0</td>\n",
       "      <td>0.00</td>\n",
       "      <td>2500</td>\n",
       "      <td>101.25</td>\n",
       "      <td>0</td>\n",
       "      <td>0</td>\n",
       "      <td>0.0</td>\n",
       "      <td>26</td>\n",
       "      <td>6</td>\n",
       "    </tr>\n",
       "    <tr>\n",
       "      <td>49722</td>\n",
       "      <td>36</td>\n",
       "      <td>0</td>\n",
       "      <td>0.1110</td>\n",
       "      <td>6.0</td>\n",
       "      <td>8.0</td>\n",
       "      <td>Other</td>\n",
       "      <td>PA</td>\n",
       "      <td>Employed</td>\n",
       "      <td>21.0</td>\n",
       "      <td>True</td>\n",
       "      <td>...</td>\n",
       "      <td>0.0</td>\n",
       "      <td>33501.0</td>\n",
       "      <td>4815.42</td>\n",
       "      <td>2000</td>\n",
       "      <td>65.57</td>\n",
       "      <td>0</td>\n",
       "      <td>0</td>\n",
       "      <td>0.0</td>\n",
       "      <td>22</td>\n",
       "      <td>22</td>\n",
       "    </tr>\n",
       "    <tr>\n",
       "      <td>49723</td>\n",
       "      <td>60</td>\n",
       "      <td>1</td>\n",
       "      <td>0.2605</td>\n",
       "      <td>4.0</td>\n",
       "      <td>5.0</td>\n",
       "      <td>Reno</td>\n",
       "      <td>GA</td>\n",
       "      <td>Full-time</td>\n",
       "      <td>94.0</td>\n",
       "      <td>True</td>\n",
       "      <td>...</td>\n",
       "      <td>0.0</td>\n",
       "      <td>5000.0</td>\n",
       "      <td>3264.37</td>\n",
       "      <td>15000</td>\n",
       "      <td>449.55</td>\n",
       "      <td>0</td>\n",
       "      <td>0</td>\n",
       "      <td>0.0</td>\n",
       "      <td>274</td>\n",
       "      <td>21</td>\n",
       "    </tr>\n",
       "  </tbody>\n",
       "</table>\n",
       "<p>49724 rows × 46 columns</p>\n",
       "</div>"
      ],
      "text/plain": [
       "       Term  LoanStatus  BorrowerRate  ProsperRating (numeric)  ProsperScore  \\\n",
       "0        36           1        0.1580                      4.0           6.0   \n",
       "1        36           1        0.1325                      4.0           6.0   \n",
       "2        36           0        0.1435                      5.0           4.0   \n",
       "3        36           0        0.3177                      1.0           5.0   \n",
       "4        36           1        0.2075                      4.0           6.0   \n",
       "...     ...         ...           ...                      ...           ...   \n",
       "49719    36           1        0.0679                      4.0           6.0   \n",
       "49720    36           1        0.1899                      4.0           6.0   \n",
       "49721    36           1        0.2639                      2.0           3.0   \n",
       "49722    36           0        0.1110                      6.0           8.0   \n",
       "49723    60           1        0.2605                      4.0           5.0   \n",
       "\n",
       "      ListingCategory BorrowerState EmploymentStatus  \\\n",
       "0             Unknown            CO    Self-employed   \n",
       "1             Unknown       Unknown        Full-time   \n",
       "2                Debt            AL         Employed   \n",
       "3           Household            FL            Other   \n",
       "4             Unknown            MI        Full-time   \n",
       "...               ...           ...              ...   \n",
       "49719        Personal            WA        Full-time   \n",
       "49720        Business            CO        Full-time   \n",
       "49721            Reno            FL         Employed   \n",
       "49722           Other            PA         Employed   \n",
       "49723            Reno            GA        Full-time   \n",
       "\n",
       "       EmploymentStatusDuration  IsBorrowerHomeowner  ...  \\\n",
       "0                           2.0                 True  ...   \n",
       "1                          19.0                False  ...   \n",
       "2                           1.0                False  ...   \n",
       "3                         121.0                 True  ...   \n",
       "4                          36.0                False  ...   \n",
       "...                         ...                  ...  ...   \n",
       "49719                      69.0                 True  ...   \n",
       "49720                      22.0                False  ...   \n",
       "49721                      25.0                False  ...   \n",
       "49722                      21.0                 True  ...   \n",
       "49723                      94.0                 True  ...   \n",
       "\n",
       "       ProsperPaymentsOneMonthPlusLate  ProsperPrincipalBorrowed  \\\n",
       "0                                  0.0                       0.0   \n",
       "1                                  0.0                       0.0   \n",
       "2                                  0.0                       0.0   \n",
       "3                                  0.0                       0.0   \n",
       "4                                  0.0                       0.0   \n",
       "...                                ...                       ...   \n",
       "49719                              0.0                    1000.0   \n",
       "49720                              0.0                   14250.0   \n",
       "49721                              0.0                       0.0   \n",
       "49722                              0.0                   33501.0   \n",
       "49723                              0.0                    5000.0   \n",
       "\n",
       "       ProsperPrincipalOutstanding  LoanOriginalAmount  MonthlyLoanPayment  \\\n",
       "0                             0.00                9425              330.43   \n",
       "1                             0.00                1000               33.81   \n",
       "2                             0.00                4000              137.39   \n",
       "3                             0.00                4000              173.71   \n",
       "4                             0.00                3000              112.64   \n",
       "...                            ...                 ...                 ...   \n",
       "49719                       847.61                4292              132.11   \n",
       "49720                         0.02                2000               73.30   \n",
       "49721                         0.00                2500              101.25   \n",
       "49722                      4815.42                2000               65.57   \n",
       "49723                      3264.37               15000              449.55   \n",
       "\n",
       "       Recommendations  InvestmentFromFriendsCount  \\\n",
       "0                    0                           0   \n",
       "1                    0                           0   \n",
       "2                    0                           0   \n",
       "3                    0                           0   \n",
       "4                    0                           0   \n",
       "...                ...                         ...   \n",
       "49719                2                           0   \n",
       "49720                0                           0   \n",
       "49721                0                           0   \n",
       "49722                0                           0   \n",
       "49723                0                           0   \n",
       "\n",
       "       InvestmentFromFriendsAmount  Investors  YearsWithCredit  \n",
       "0                              0.0        258               13  \n",
       "1                              0.0         53               14  \n",
       "2                              0.0          1               18  \n",
       "3                              0.0         10               15  \n",
       "4                              0.0         53               11  \n",
       "...                            ...        ...              ...  \n",
       "49719                          0.0        194               42  \n",
       "49720                          0.0         25               10  \n",
       "49721                          0.0         26                6  \n",
       "49722                          0.0         22               22  \n",
       "49723                          0.0        274               21  \n",
       "\n",
       "[49724 rows x 46 columns]"
      ]
     },
     "execution_count": 2,
     "metadata": {},
     "output_type": "execute_result"
    }
   ],
   "source": [
    "## small file, start with this\n",
    "#datafile = \"https://s3.amazonaws.com/elephantscale-public/data/prosper-loan/prosper-loan-data-sample.csv\"\n",
    "## this is a large file\n",
    "datafile = \"https://s3.amazonaws.com/elephantscale-public/data/prosper-loan/prosper-loan-data.csv.gz\"\n",
    "\n",
    "\n",
    "data = pd.read_csv(datafile)\n",
    "data"
   ]
  },
  {
   "cell_type": "code",
   "execution_count": 3,
   "metadata": {
    "colab": {},
    "colab_type": "code",
    "id": "4wLLqJnI3I0P",
    "scrolled": true
   },
   "outputs": [],
   "source": [
    "## TODO : select a few columns \n",
    "## start with: 'LoanStatus',  'EmploymentStatus', 'CreditScore', 'StatedMonthlyIncome', 'ListingCategory'\n",
    "#select_columns = ['LoanStatus', 'EmploymentStatus', 'CreditScore', '???', '???']\n",
    "\n",
    "\n",
    "## we can add more later\n",
    "\n",
    "select_columns = ['LoanStatus',  'EmploymentStatus', 'CreditScore', 'StatedMonthlyIncome', 'ListingCategory']\n",
    "\n",
    "## Note : vector columns can only have Numbers, don't include Categorical columns here\n",
    "## And definitely not 'LoanStatus'  (if you are curiuos include and see what happens!)\n",
    "vector_columns = [ 'EmpIndex', 'CreditScore', 'StatedMonthlyIncome', 'CategoryIndex']\n",
    "\n",
    "## Feature Columns\n",
    "\n",
    "feature_columns = ['EmploymentStatusFactor', 'CreditScore', 'StatedMonthlyIncome', 'ListingCategoryFactor']\n",
    "\n",
    "\n"
   ]
  },
  {
   "cell_type": "markdown",
   "metadata": {
    "colab_type": "text",
    "id": "QdDW4wne3I0R"
   },
   "source": [
    "## Step 2 : Clean Data"
   ]
  },
  {
   "cell_type": "code",
   "execution_count": 4,
   "metadata": {
    "colab": {
     "base_uri": "https://localhost:8080/",
     "height": 1000
    },
    "colab_type": "code",
    "id": "ZDi6ldye3I0S",
    "outputId": "88e3b14e-c4ce-4b3d-e9ad-b9df608f9722",
    "scrolled": true
   },
   "outputs": [
    {
     "name": "stdout",
     "output_type": "stream",
     "text": [
      "Original record count 49,724, cleaned records count 49,724,  dropped 0\n"
     ]
    },
    {
     "data": {
      "text/html": [
       "<div>\n",
       "<style scoped>\n",
       "    .dataframe tbody tr th:only-of-type {\n",
       "        vertical-align: middle;\n",
       "    }\n",
       "\n",
       "    .dataframe tbody tr th {\n",
       "        vertical-align: top;\n",
       "    }\n",
       "\n",
       "    .dataframe thead th {\n",
       "        text-align: right;\n",
       "    }\n",
       "</style>\n",
       "<table border=\"1\" class=\"dataframe\">\n",
       "  <thead>\n",
       "    <tr style=\"text-align: right;\">\n",
       "      <th></th>\n",
       "      <th>Term</th>\n",
       "      <th>LoanStatus</th>\n",
       "      <th>BorrowerRate</th>\n",
       "      <th>ProsperRating (numeric)</th>\n",
       "      <th>ProsperScore</th>\n",
       "      <th>ListingCategory</th>\n",
       "      <th>BorrowerState</th>\n",
       "      <th>EmploymentStatus</th>\n",
       "      <th>EmploymentStatusDuration</th>\n",
       "      <th>IsBorrowerHomeowner</th>\n",
       "      <th>...</th>\n",
       "      <th>ProsperPaymentsOneMonthPlusLate</th>\n",
       "      <th>ProsperPrincipalBorrowed</th>\n",
       "      <th>ProsperPrincipalOutstanding</th>\n",
       "      <th>LoanOriginalAmount</th>\n",
       "      <th>MonthlyLoanPayment</th>\n",
       "      <th>Recommendations</th>\n",
       "      <th>InvestmentFromFriendsCount</th>\n",
       "      <th>InvestmentFromFriendsAmount</th>\n",
       "      <th>Investors</th>\n",
       "      <th>YearsWithCredit</th>\n",
       "    </tr>\n",
       "  </thead>\n",
       "  <tbody>\n",
       "    <tr>\n",
       "      <td>0</td>\n",
       "      <td>36</td>\n",
       "      <td>1</td>\n",
       "      <td>0.1580</td>\n",
       "      <td>4.0</td>\n",
       "      <td>6.0</td>\n",
       "      <td>Unknown</td>\n",
       "      <td>CO</td>\n",
       "      <td>Self-employed</td>\n",
       "      <td>2.0</td>\n",
       "      <td>True</td>\n",
       "      <td>...</td>\n",
       "      <td>0.0</td>\n",
       "      <td>0.0</td>\n",
       "      <td>0.00</td>\n",
       "      <td>9425</td>\n",
       "      <td>330.43</td>\n",
       "      <td>0</td>\n",
       "      <td>0</td>\n",
       "      <td>0.0</td>\n",
       "      <td>258</td>\n",
       "      <td>13</td>\n",
       "    </tr>\n",
       "    <tr>\n",
       "      <td>1</td>\n",
       "      <td>36</td>\n",
       "      <td>1</td>\n",
       "      <td>0.1325</td>\n",
       "      <td>4.0</td>\n",
       "      <td>6.0</td>\n",
       "      <td>Unknown</td>\n",
       "      <td>Unknown</td>\n",
       "      <td>Full-time</td>\n",
       "      <td>19.0</td>\n",
       "      <td>False</td>\n",
       "      <td>...</td>\n",
       "      <td>0.0</td>\n",
       "      <td>0.0</td>\n",
       "      <td>0.00</td>\n",
       "      <td>1000</td>\n",
       "      <td>33.81</td>\n",
       "      <td>0</td>\n",
       "      <td>0</td>\n",
       "      <td>0.0</td>\n",
       "      <td>53</td>\n",
       "      <td>14</td>\n",
       "    </tr>\n",
       "    <tr>\n",
       "      <td>2</td>\n",
       "      <td>36</td>\n",
       "      <td>0</td>\n",
       "      <td>0.1435</td>\n",
       "      <td>5.0</td>\n",
       "      <td>4.0</td>\n",
       "      <td>Debt</td>\n",
       "      <td>AL</td>\n",
       "      <td>Employed</td>\n",
       "      <td>1.0</td>\n",
       "      <td>False</td>\n",
       "      <td>...</td>\n",
       "      <td>0.0</td>\n",
       "      <td>0.0</td>\n",
       "      <td>0.00</td>\n",
       "      <td>4000</td>\n",
       "      <td>137.39</td>\n",
       "      <td>0</td>\n",
       "      <td>0</td>\n",
       "      <td>0.0</td>\n",
       "      <td>1</td>\n",
       "      <td>18</td>\n",
       "    </tr>\n",
       "    <tr>\n",
       "      <td>3</td>\n",
       "      <td>36</td>\n",
       "      <td>0</td>\n",
       "      <td>0.3177</td>\n",
       "      <td>1.0</td>\n",
       "      <td>5.0</td>\n",
       "      <td>Household</td>\n",
       "      <td>FL</td>\n",
       "      <td>Other</td>\n",
       "      <td>121.0</td>\n",
       "      <td>True</td>\n",
       "      <td>...</td>\n",
       "      <td>0.0</td>\n",
       "      <td>0.0</td>\n",
       "      <td>0.00</td>\n",
       "      <td>4000</td>\n",
       "      <td>173.71</td>\n",
       "      <td>0</td>\n",
       "      <td>0</td>\n",
       "      <td>0.0</td>\n",
       "      <td>10</td>\n",
       "      <td>15</td>\n",
       "    </tr>\n",
       "    <tr>\n",
       "      <td>4</td>\n",
       "      <td>36</td>\n",
       "      <td>1</td>\n",
       "      <td>0.2075</td>\n",
       "      <td>4.0</td>\n",
       "      <td>6.0</td>\n",
       "      <td>Unknown</td>\n",
       "      <td>MI</td>\n",
       "      <td>Full-time</td>\n",
       "      <td>36.0</td>\n",
       "      <td>False</td>\n",
       "      <td>...</td>\n",
       "      <td>0.0</td>\n",
       "      <td>0.0</td>\n",
       "      <td>0.00</td>\n",
       "      <td>3000</td>\n",
       "      <td>112.64</td>\n",
       "      <td>0</td>\n",
       "      <td>0</td>\n",
       "      <td>0.0</td>\n",
       "      <td>53</td>\n",
       "      <td>11</td>\n",
       "    </tr>\n",
       "    <tr>\n",
       "      <td>...</td>\n",
       "      <td>...</td>\n",
       "      <td>...</td>\n",
       "      <td>...</td>\n",
       "      <td>...</td>\n",
       "      <td>...</td>\n",
       "      <td>...</td>\n",
       "      <td>...</td>\n",
       "      <td>...</td>\n",
       "      <td>...</td>\n",
       "      <td>...</td>\n",
       "      <td>...</td>\n",
       "      <td>...</td>\n",
       "      <td>...</td>\n",
       "      <td>...</td>\n",
       "      <td>...</td>\n",
       "      <td>...</td>\n",
       "      <td>...</td>\n",
       "      <td>...</td>\n",
       "      <td>...</td>\n",
       "      <td>...</td>\n",
       "      <td>...</td>\n",
       "    </tr>\n",
       "    <tr>\n",
       "      <td>49719</td>\n",
       "      <td>36</td>\n",
       "      <td>1</td>\n",
       "      <td>0.0679</td>\n",
       "      <td>4.0</td>\n",
       "      <td>6.0</td>\n",
       "      <td>Personal</td>\n",
       "      <td>WA</td>\n",
       "      <td>Full-time</td>\n",
       "      <td>69.0</td>\n",
       "      <td>True</td>\n",
       "      <td>...</td>\n",
       "      <td>0.0</td>\n",
       "      <td>1000.0</td>\n",
       "      <td>847.61</td>\n",
       "      <td>4292</td>\n",
       "      <td>132.11</td>\n",
       "      <td>2</td>\n",
       "      <td>0</td>\n",
       "      <td>0.0</td>\n",
       "      <td>194</td>\n",
       "      <td>42</td>\n",
       "    </tr>\n",
       "    <tr>\n",
       "      <td>49720</td>\n",
       "      <td>36</td>\n",
       "      <td>1</td>\n",
       "      <td>0.1899</td>\n",
       "      <td>4.0</td>\n",
       "      <td>6.0</td>\n",
       "      <td>Business</td>\n",
       "      <td>CO</td>\n",
       "      <td>Full-time</td>\n",
       "      <td>22.0</td>\n",
       "      <td>False</td>\n",
       "      <td>...</td>\n",
       "      <td>0.0</td>\n",
       "      <td>14250.0</td>\n",
       "      <td>0.02</td>\n",
       "      <td>2000</td>\n",
       "      <td>73.30</td>\n",
       "      <td>0</td>\n",
       "      <td>0</td>\n",
       "      <td>0.0</td>\n",
       "      <td>25</td>\n",
       "      <td>10</td>\n",
       "    </tr>\n",
       "    <tr>\n",
       "      <td>49721</td>\n",
       "      <td>36</td>\n",
       "      <td>1</td>\n",
       "      <td>0.2639</td>\n",
       "      <td>2.0</td>\n",
       "      <td>3.0</td>\n",
       "      <td>Reno</td>\n",
       "      <td>FL</td>\n",
       "      <td>Employed</td>\n",
       "      <td>25.0</td>\n",
       "      <td>False</td>\n",
       "      <td>...</td>\n",
       "      <td>0.0</td>\n",
       "      <td>0.0</td>\n",
       "      <td>0.00</td>\n",
       "      <td>2500</td>\n",
       "      <td>101.25</td>\n",
       "      <td>0</td>\n",
       "      <td>0</td>\n",
       "      <td>0.0</td>\n",
       "      <td>26</td>\n",
       "      <td>6</td>\n",
       "    </tr>\n",
       "    <tr>\n",
       "      <td>49722</td>\n",
       "      <td>36</td>\n",
       "      <td>0</td>\n",
       "      <td>0.1110</td>\n",
       "      <td>6.0</td>\n",
       "      <td>8.0</td>\n",
       "      <td>Other</td>\n",
       "      <td>PA</td>\n",
       "      <td>Employed</td>\n",
       "      <td>21.0</td>\n",
       "      <td>True</td>\n",
       "      <td>...</td>\n",
       "      <td>0.0</td>\n",
       "      <td>33501.0</td>\n",
       "      <td>4815.42</td>\n",
       "      <td>2000</td>\n",
       "      <td>65.57</td>\n",
       "      <td>0</td>\n",
       "      <td>0</td>\n",
       "      <td>0.0</td>\n",
       "      <td>22</td>\n",
       "      <td>22</td>\n",
       "    </tr>\n",
       "    <tr>\n",
       "      <td>49723</td>\n",
       "      <td>60</td>\n",
       "      <td>1</td>\n",
       "      <td>0.2605</td>\n",
       "      <td>4.0</td>\n",
       "      <td>5.0</td>\n",
       "      <td>Reno</td>\n",
       "      <td>GA</td>\n",
       "      <td>Full-time</td>\n",
       "      <td>94.0</td>\n",
       "      <td>True</td>\n",
       "      <td>...</td>\n",
       "      <td>0.0</td>\n",
       "      <td>5000.0</td>\n",
       "      <td>3264.37</td>\n",
       "      <td>15000</td>\n",
       "      <td>449.55</td>\n",
       "      <td>0</td>\n",
       "      <td>0</td>\n",
       "      <td>0.0</td>\n",
       "      <td>274</td>\n",
       "      <td>21</td>\n",
       "    </tr>\n",
       "  </tbody>\n",
       "</table>\n",
       "<p>49724 rows × 46 columns</p>\n",
       "</div>"
      ],
      "text/plain": [
       "       Term  LoanStatus  BorrowerRate  ProsperRating (numeric)  ProsperScore  \\\n",
       "0        36           1        0.1580                      4.0           6.0   \n",
       "1        36           1        0.1325                      4.0           6.0   \n",
       "2        36           0        0.1435                      5.0           4.0   \n",
       "3        36           0        0.3177                      1.0           5.0   \n",
       "4        36           1        0.2075                      4.0           6.0   \n",
       "...     ...         ...           ...                      ...           ...   \n",
       "49719    36           1        0.0679                      4.0           6.0   \n",
       "49720    36           1        0.1899                      4.0           6.0   \n",
       "49721    36           1        0.2639                      2.0           3.0   \n",
       "49722    36           0        0.1110                      6.0           8.0   \n",
       "49723    60           1        0.2605                      4.0           5.0   \n",
       "\n",
       "      ListingCategory BorrowerState EmploymentStatus  \\\n",
       "0             Unknown            CO    Self-employed   \n",
       "1             Unknown       Unknown        Full-time   \n",
       "2                Debt            AL         Employed   \n",
       "3           Household            FL            Other   \n",
       "4             Unknown            MI        Full-time   \n",
       "...               ...           ...              ...   \n",
       "49719        Personal            WA        Full-time   \n",
       "49720        Business            CO        Full-time   \n",
       "49721            Reno            FL         Employed   \n",
       "49722           Other            PA         Employed   \n",
       "49723            Reno            GA        Full-time   \n",
       "\n",
       "       EmploymentStatusDuration  IsBorrowerHomeowner  ...  \\\n",
       "0                           2.0                 True  ...   \n",
       "1                          19.0                False  ...   \n",
       "2                           1.0                False  ...   \n",
       "3                         121.0                 True  ...   \n",
       "4                          36.0                False  ...   \n",
       "...                         ...                  ...  ...   \n",
       "49719                      69.0                 True  ...   \n",
       "49720                      22.0                False  ...   \n",
       "49721                      25.0                False  ...   \n",
       "49722                      21.0                 True  ...   \n",
       "49723                      94.0                 True  ...   \n",
       "\n",
       "       ProsperPaymentsOneMonthPlusLate  ProsperPrincipalBorrowed  \\\n",
       "0                                  0.0                       0.0   \n",
       "1                                  0.0                       0.0   \n",
       "2                                  0.0                       0.0   \n",
       "3                                  0.0                       0.0   \n",
       "4                                  0.0                       0.0   \n",
       "...                                ...                       ...   \n",
       "49719                              0.0                    1000.0   \n",
       "49720                              0.0                   14250.0   \n",
       "49721                              0.0                       0.0   \n",
       "49722                              0.0                   33501.0   \n",
       "49723                              0.0                    5000.0   \n",
       "\n",
       "       ProsperPrincipalOutstanding  LoanOriginalAmount  MonthlyLoanPayment  \\\n",
       "0                             0.00                9425              330.43   \n",
       "1                             0.00                1000               33.81   \n",
       "2                             0.00                4000              137.39   \n",
       "3                             0.00                4000              173.71   \n",
       "4                             0.00                3000              112.64   \n",
       "...                            ...                 ...                 ...   \n",
       "49719                       847.61                4292              132.11   \n",
       "49720                         0.02                2000               73.30   \n",
       "49721                         0.00                2500              101.25   \n",
       "49722                      4815.42                2000               65.57   \n",
       "49723                      3264.37               15000              449.55   \n",
       "\n",
       "       Recommendations  InvestmentFromFriendsCount  \\\n",
       "0                    0                           0   \n",
       "1                    0                           0   \n",
       "2                    0                           0   \n",
       "3                    0                           0   \n",
       "4                    0                           0   \n",
       "...                ...                         ...   \n",
       "49719                2                           0   \n",
       "49720                0                           0   \n",
       "49721                0                           0   \n",
       "49722                0                           0   \n",
       "49723                0                           0   \n",
       "\n",
       "       InvestmentFromFriendsAmount  Investors  YearsWithCredit  \n",
       "0                              0.0        258               13  \n",
       "1                              0.0         53               14  \n",
       "2                              0.0          1               18  \n",
       "3                              0.0         10               15  \n",
       "4                              0.0         53               11  \n",
       "...                            ...        ...              ...  \n",
       "49719                          0.0        194               42  \n",
       "49720                          0.0         25               10  \n",
       "49721                          0.0         26                6  \n",
       "49722                          0.0         22               22  \n",
       "49723                          0.0        274               21  \n",
       "\n",
       "[49724 rows x 46 columns]"
      ]
     },
     "execution_count": 4,
     "metadata": {},
     "output_type": "execute_result"
    }
   ],
   "source": [
    "## TODO :  Drop any NA, null values.  \n",
    "## Hint : Using `.na.drop()`\n",
    "prosper_clean = data.dropna()\n",
    "\n",
    "print(\"Original record count {:,}, cleaned records count {:,},  dropped {:,}\"\\\n",
    "      .format(len(data), len(prosper_clean), \n",
    "              (len(data) - len(prosper_clean))))\n",
    "prosper_clean"
   ]
  },
  {
   "cell_type": "markdown",
   "metadata": {
    "colab_type": "text",
    "id": "BFdU-N4d3I0U"
   },
   "source": [
    "## Look at some summary data"
   ]
  },
  {
   "cell_type": "code",
   "execution_count": 5,
   "metadata": {
    "colab": {
     "base_uri": "https://localhost:8080/",
     "height": 578
    },
    "colab_type": "code",
    "id": "fh9plSDg3I0U",
    "outputId": "078c12aa-a3be-40b4-d243-76d0cca64953"
   },
   "outputs": [
    {
     "name": "stdout",
     "output_type": "stream",
     "text": [
      "1    33530\n",
      "0    16194\n",
      "Name: LoanStatus, dtype: int64\n",
      "Full-time        25016\n",
      "Employed         18393\n",
      "Self-employed     3045\n",
      "Part-time         1060\n",
      "Other              924\n",
      "Retired            703\n",
      "Not employed       583\n",
      "Name: EmploymentStatus, dtype: int64\n",
      "Debt             19107\n",
      "Unknown           9335\n",
      "Other             6272\n",
      "Business          4449\n",
      "Reno              3468\n",
      "Personal          2392\n",
      "Auto              1596\n",
      "Student            756\n",
      "Household          675\n",
      "Medical            444\n",
      "Taxes              246\n",
      "Vacation           225\n",
      "LargePurchase      224\n",
      "Wedding            196\n",
      "Motorcycle         103\n",
      "Engagement          72\n",
      "Cosmetic            47\n",
      "Baby                46\n",
      "Boat                30\n",
      "Green               23\n",
      "RV                  18\n",
      "Name: ListingCategory, dtype: int64\n"
     ]
    }
   ],
   "source": [
    "print(prosper_clean['LoanStatus'].value_counts())\n",
    "print(prosper_clean['EmploymentStatus'].value_counts())\n",
    "print(prosper_clean['ListingCategory'].value_counts())\n"
   ]
  },
  {
   "cell_type": "markdown",
   "metadata": {
    "colab_type": "text",
    "id": "7z9Vb9JK3I0W"
   },
   "source": [
    "**=> What does that say about the cardinality of these categorical columns? ***\n",
    "\n"
   ]
  },
  {
   "cell_type": "markdown",
   "metadata": {
    "colab_type": "text",
    "id": "VHaeNYjC3I0X"
   },
   "source": [
    "## Step 3: Converting Categorical columns \n",
    "\n",
    "Convert categorical columns to numeric.   \n",
    "Here let's convert **EmploymentStatus** column"
   ]
  },
  {
   "cell_type": "code",
   "execution_count": 6,
   "metadata": {
    "colab": {},
    "colab_type": "code",
    "id": "BjAVFQwj3I0X",
    "scrolled": true
   },
   "outputs": [],
   "source": [
    "# use pd.factorize on EmploymentStatus, ListingCategory\n",
    "\n",
    "prosper_clean['EmploymentStatusFactor'] = pd.factorize(prosper_clean['EmploymentStatus'])[0]\n",
    "prosper_clean['ListingCategoryFactor'] = pd.factorize(prosper_clean['ListingCategory'])[0]"
   ]
  },
  {
   "cell_type": "markdown",
   "metadata": {
    "colab_type": "text",
    "id": "l47cbHUD3I0Z"
   },
   "source": [
    "## Step 4: Build feature vectors "
   ]
  },
  {
   "cell_type": "code",
   "execution_count": 7,
   "metadata": {
    "colab": {},
    "colab_type": "code",
    "id": "PSigTgOj3I0a",
    "scrolled": true
   },
   "outputs": [],
   "source": [
    "features = prosper_clean[feature_columns]\n",
    "label = prosper_clean['LoanStatus']"
   ]
  },
  {
   "cell_type": "code",
   "execution_count": 8,
   "metadata": {
    "colab": {
     "base_uri": "https://localhost:8080/",
     "height": 34
    },
    "colab_type": "code",
    "id": "6G6uM2jJ_SKh",
    "outputId": "dc47c014-ea4d-4035-a4a6-2d1503a5db33"
   },
   "outputs": [
    {
     "data": {
      "text/plain": [
       "4"
      ]
     },
     "execution_count": 8,
     "metadata": {},
     "output_type": "execute_result"
    }
   ],
   "source": [
    "len(features.columns)"
   ]
  },
  {
   "cell_type": "code",
   "execution_count": null,
   "metadata": {
    "colab": {},
    "colab_type": "code",
    "id": "brRlFiOfQ67u"
   },
   "outputs": [],
   "source": []
  },
  {
   "cell_type": "markdown",
   "metadata": {
    "colab_type": "text",
    "id": "z1Lux8_Z3I0b"
   },
   "source": [
    "## Step 5: Split Data into training and test.\n",
    "\n",
    "We will split our the data up into training and test.  (You know the drill by now).\n",
    "\n",
    "**=> TODO: Split dataset into 70% training, 30% validation**\n"
   ]
  },
  {
   "cell_type": "code",
   "execution_count": 9,
   "metadata": {
    "colab": {
     "base_uri": "https://localhost:8080/",
     "height": 51
    },
    "colab_type": "code",
    "id": "adcGF7eL3I0c",
    "outputId": "baf0bd77-c7e1-42bb-994f-5df6bd2250e0",
    "scrolled": true
   },
   "outputs": [
    {
     "name": "stdout",
     "output_type": "stream",
     "text": [
      "training set =  37293\n",
      "testing set =  12431\n"
     ]
    }
   ],
   "source": [
    "## TODO :  Split the data into 70% training and 30% test sets \n",
    "## Hint : 0.7   , 0.3\n",
    "from sklearn.model_selection import train_test_split\n",
    "train_x, test_x, train_y, test_y = train_test_split(features, label)\n",
    "print(\"training set = \" , len(train_x))\n",
    "print(\"testing set = \" , len(test_x))"
   ]
  },
  {
   "cell_type": "code",
   "execution_count": 10,
   "metadata": {
    "colab": {},
    "colab_type": "code",
    "id": "Ci3BrZ4jQ_k0"
   },
   "outputs": [],
   "source": [
    "\n",
    "# Normalize the input features using the sklearn StandardScaler.\n",
    "# This will set the mean to 0 and standard deviation to 1.\n",
    "from sklearn.preprocessing import StandardScaler\n",
    "scaler = StandardScaler()\n",
    "train_features = scaler.fit_transform(train_x)\n",
    "test_features = scaler.transform(test_x)\n"
   ]
  },
  {
   "cell_type": "code",
   "execution_count": 11,
   "metadata": {
    "colab": {
     "base_uri": "https://localhost:8080/",
     "height": 34
    },
    "colab_type": "code",
    "id": "F39_1V1K3I0f",
    "outputId": "7fc9608f-f471-4185-8c43-6c74b04b7277"
   },
   "outputs": [
    {
     "data": {
      "text/plain": [
       "4"
      ]
     },
     "execution_count": 11,
     "metadata": {},
     "output_type": "execute_result"
    }
   ],
   "source": [
    "len(train_x.keys())"
   ]
  },
  {
   "cell_type": "code",
   "execution_count": 12,
   "metadata": {
    "colab": {
     "base_uri": "https://localhost:8080/",
     "height": 136
    },
    "colab_type": "code",
    "id": "vw5902VE3I0g",
    "outputId": "514ebcd8-a6df-44dd-b322-93bc61dcbb30"
   },
   "outputs": [
    {
     "name": "stdout",
     "output_type": "stream",
     "text": [
      "[[0. 1.]\n",
      " [0. 1.]\n",
      " [1. 0.]\n",
      " ...\n",
      " [0. 1.]\n",
      " [0. 1.]\n",
      " [0. 1.]]\n"
     ]
    }
   ],
   "source": [
    "y = tf.keras.utils.to_categorical(train_y)\n",
    "#y=train_y\n",
    "print(y)\n",
    "\n"
   ]
  },
  {
   "cell_type": "markdown",
   "metadata": {
    "colab_type": "text",
    "id": "nCdWtBzZ3I0i"
   },
   "source": [
    "## Step 6: Neural Network\n",
    "\n",
    "Note this using Tensorflow's Keras interface, which is going to be the standard high-level interface for Tensorflow starting with 2.0\n"
   ]
  },
  {
   "cell_type": "code",
   "execution_count": 13,
   "metadata": {
    "colab": {
     "base_uri": "https://localhost:8080/",
     "height": 323
    },
    "colab_type": "code",
    "id": "PhMf04Xa3I0j",
    "outputId": "bcf50e12-eb06-4054-98ef-8dbec222205c",
    "scrolled": true
   },
   "outputs": [
    {
     "name": "stdout",
     "output_type": "stream",
     "text": [
      "Model: \"sequential\"\n",
      "_________________________________________________________________\n",
      "Layer (type)                 Output Shape              Param #   \n",
      "=================================================================\n",
      "dense (Dense)                (None, 64)                320       \n",
      "_________________________________________________________________\n",
      "dropout (Dropout)            (None, 64)                0         \n",
      "_________________________________________________________________\n",
      "dense_1 (Dense)              (None, 64)                4160      \n",
      "_________________________________________________________________\n",
      "dropout_1 (Dropout)          (None, 64)                0         \n",
      "_________________________________________________________________\n",
      "dense_2 (Dense)              (None, 1)                 65        \n",
      "=================================================================\n",
      "Total params: 4,545\n",
      "Trainable params: 4,545\n",
      "Non-trainable params: 0\n",
      "_________________________________________________________________\n"
     ]
    }
   ],
   "source": [
    "def build_model(train_x):\n",
    "  model = tf.keras.Sequential([\n",
    "    tf.keras.layers.Dense(64, activation=tf.nn.tanh, input_dim=len(features.columns)),\n",
    "    tf.keras.layers.Dropout(0.2),\n",
    "    tf.keras.layers.Dense(64, activation=tf.nn.tanh),\n",
    "    tf.keras.layers.Dropout(0.2),\n",
    "    tf.keras.layers.Dense(1, activation=tf.nn.sigmoid)\n",
    "  ])\n",
    "  \n",
    "  \n",
    "  metrics = [\n",
    "      tf.keras.metrics.Accuracy(name='accuracy'),\n",
    "      tf.keras.metrics.TruePositives(name='tp'),\n",
    "      tf.keras.metrics.FalsePositives(name='fp'),\n",
    "      tf.keras.metrics.TrueNegatives(name='tn'),\n",
    "      tf.keras.metrics.FalseNegatives(name='fn'),\n",
    "      tf.keras.metrics.Precision(name='precision'),\n",
    "      tf.keras.metrics.Recall(name='recall'),\n",
    "      tf.keras.metrics.AUC(name='auc')\n",
    "  ]\n",
    "\n",
    "\n",
    "  model.compile(loss='binary_crossentropy',\n",
    "                optimizer=tf.keras.optimizers.RMSprop(lr=0.000001),\n",
    "                metrics=metrics)\n",
    "  return model\n",
    "\n",
    "\n",
    "model = build_model(train_features)\n",
    "model.summary()"
   ]
  },
  {
   "cell_type": "code",
   "execution_count": 14,
   "metadata": {
    "colab": {
     "base_uri": "https://localhost:8080/",
     "height": 428
    },
    "colab_type": "code",
    "id": "k-kCO1dm3I0l",
    "outputId": "cc8f16e6-68fb-4b33-c9ee-4614ed80f2c5"
   },
   "outputs": [
    {
     "name": "stdout",
     "output_type": "stream",
     "text": [
      "WARNING:tensorflow:Falling back from v2 loop because of error: Failed to find data adapter that can handle input: <class 'pandas.core.frame.DataFrame'>, <class 'NoneType'>\n",
      "WARNING:tensorflow:From /home/ubuntu/apps/anaconda/envs/tf2/lib/python3.7/site-packages/tensorflow_core/python/ops/math_grad.py:1424: where (from tensorflow.python.ops.array_ops) is deprecated and will be removed in a future version.\n",
      "Instructions for updating:\n",
      "Use tf.where in 2.0, which has the same broadcast rule as np.where\n",
      "Train on 29834 samples, validate on 7459 samples\n",
      "Epoch 1/10\n",
      "29834/29834 - 2s - loss: 0.7223 - accuracy: 0.0000e+00 - tp: 12705.0000 - fp: 6239.0000 - tn: 3487.0000 - fn: 7403.0000 - precision: 0.6707 - recall: 0.6318 - auc: 0.4943 - val_loss: 0.6581 - val_accuracy: 0.0000e+00 - val_tp: 4916.0000 - val_fp: 2318.0000 - val_tn: 93.0000 - val_fn: 132.0000 - val_precision: 0.6796 - val_recall: 0.9739 - val_auc: 0.4890\n",
      "Epoch 2/10\n",
      "29834/29834 - 1s - loss: 0.7009 - accuracy: 0.0000e+00 - tp: 14686.0000 - fp: 7085.0000 - tn: 2641.0000 - fn: 5422.0000 - precision: 0.6746 - recall: 0.7304 - auc: 0.5005 - val_loss: 0.6446 - val_accuracy: 0.0000e+00 - val_tp: 4916.0000 - val_fp: 2318.0000 - val_tn: 93.0000 - val_fn: 132.0000 - val_precision: 0.6796 - val_recall: 0.9739 - val_auc: 0.4878\n",
      "Epoch 3/10\n",
      "29834/29834 - 1s - loss: 0.6926 - accuracy: 0.0000e+00 - tp: 15903.0000 - fp: 7659.0000 - tn: 2067.0000 - fn: 4205.0000 - precision: 0.6749 - recall: 0.7909 - auc: 0.4979 - val_loss: 0.6396 - val_accuracy: 0.0000e+00 - val_tp: 4926.0000 - val_fp: 2326.0000 - val_tn: 85.0000 - val_fn: 122.0000 - val_precision: 0.6793 - val_recall: 0.9758 - val_auc: 0.4867\n",
      "Epoch 4/10\n",
      "29834/29834 - 1s - loss: 0.6914 - accuracy: 0.0000e+00 - tp: 16534.0000 - fp: 8091.0000 - tn: 1635.0000 - fn: 3574.0000 - precision: 0.6714 - recall: 0.8223 - auc: 0.4930 - val_loss: 0.6379 - val_accuracy: 0.0000e+00 - val_tp: 4926.0000 - val_fp: 2326.0000 - val_tn: 85.0000 - val_fn: 122.0000 - val_precision: 0.6793 - val_recall: 0.9758 - val_auc: 0.4873\n",
      "Epoch 5/10\n",
      "29834/29834 - 1s - loss: 0.6866 - accuracy: 0.0000e+00 - tp: 16996.0000 - fp: 8137.0000 - tn: 1589.0000 - fn: 3112.0000 - precision: 0.6762 - recall: 0.8452 - auc: 0.4984 - val_loss: 0.6372 - val_accuracy: 0.0000e+00 - val_tp: 4927.0000 - val_fp: 2326.0000 - val_tn: 85.0000 - val_fn: 121.0000 - val_precision: 0.6793 - val_recall: 0.9760 - val_auc: 0.4870\n",
      "Epoch 6/10\n",
      "29834/29834 - 1s - loss: 0.6842 - accuracy: 0.0000e+00 - tp: 17181.0000 - fp: 8272.0000 - tn: 1454.0000 - fn: 2927.0000 - precision: 0.6750 - recall: 0.8544 - auc: 0.5028 - val_loss: 0.6368 - val_accuracy: 0.0000e+00 - val_tp: 4927.0000 - val_fp: 2326.0000 - val_tn: 85.0000 - val_fn: 121.0000 - val_precision: 0.6793 - val_recall: 0.9760 - val_auc: 0.4870\n",
      "Epoch 7/10\n",
      "29834/29834 - 1s - loss: 0.6824 - accuracy: 0.0000e+00 - tp: 17316.0000 - fp: 8313.0000 - tn: 1413.0000 - fn: 2792.0000 - precision: 0.6756 - recall: 0.8611 - auc: 0.5048 - val_loss: 0.6363 - val_accuracy: 0.0000e+00 - val_tp: 4927.0000 - val_fp: 2326.0000 - val_tn: 85.0000 - val_fn: 121.0000 - val_precision: 0.6793 - val_recall: 0.9760 - val_auc: 0.4876\n",
      "Epoch 8/10\n",
      "29834/29834 - 1s - loss: 0.6815 - accuracy: 0.0000e+00 - tp: 17402.0000 - fp: 8376.0000 - tn: 1350.0000 - fn: 2706.0000 - precision: 0.6751 - recall: 0.8654 - auc: 0.5047 - val_loss: 0.6357 - val_accuracy: 0.0000e+00 - val_tp: 4927.0000 - val_fp: 2326.0000 - val_tn: 85.0000 - val_fn: 121.0000 - val_precision: 0.6793 - val_recall: 0.9760 - val_auc: 0.4871\n",
      "Epoch 9/10\n",
      "29834/29834 - 1s - loss: 0.6796 - accuracy: 0.0000e+00 - tp: 17506.0000 - fp: 8402.0000 - tn: 1324.0000 - fn: 2602.0000 - precision: 0.6757 - recall: 0.8706 - auc: 0.5058 - val_loss: 0.6352 - val_accuracy: 0.0000e+00 - val_tp: 4927.0000 - val_fp: 2326.0000 - val_tn: 85.0000 - val_fn: 121.0000 - val_precision: 0.6793 - val_recall: 0.9760 - val_auc: 0.4874\n",
      "Epoch 10/10\n",
      "29834/29834 - 1s - loss: 0.6797 - accuracy: 0.0000e+00 - tp: 17507.0000 - fp: 8386.0000 - tn: 1340.0000 - fn: 2601.0000 - precision: 0.6761 - recall: 0.8706 - auc: 0.5073 - val_loss: 0.6348 - val_accuracy: 0.0000e+00 - val_tp: 4927.0000 - val_fp: 2326.0000 - val_tn: 85.0000 - val_fn: 121.0000 - val_precision: 0.6793 - val_recall: 0.9760 - val_auc: 0.4874\n"
     ]
    },
    {
     "data": {
      "text/plain": [
       "<tensorflow.python.keras.callbacks.History at 0x7f10d41fcfd0>"
      ]
     },
     "execution_count": 14,
     "metadata": {},
     "output_type": "execute_result"
    }
   ],
   "source": [
    "\n",
    "EPOCHS = 10\n",
    "BATCH_SIZE = 256\n",
    "\n",
    "\n",
    "\n",
    "log_dir=\"logs/fit/\" + datetime.datetime.now().strftime(\"%Y%m%d-%H%M%S\")\n",
    "tensorboard_callback = tf.keras.callbacks.TensorBoard(log_dir=log_dir, histogram_freq=1)\n",
    "\n",
    "\n",
    "model.fit(\n",
    "  train_x, train_y,\n",
    "  epochs=EPOCHS, validation_split = 0.2, verbose=2, callbacks=[tensorboard_callback])"
   ]
  },
  {
   "cell_type": "code",
   "execution_count": 15,
   "metadata": {
    "colab": {},
    "colab_type": "code",
    "id": "80o_nxWF3I0n"
   },
   "outputs": [],
   "source": [
    "predictions = model.predict(test_features)"
   ]
  },
  {
   "cell_type": "code",
   "execution_count": 16,
   "metadata": {
    "colab": {
     "base_uri": "https://localhost:8080/",
     "height": 136
    },
    "colab_type": "code",
    "id": "cZmn9Gw3_rjc",
    "outputId": "c98d9c24-9f73-4a4f-ed84-13e471002920"
   },
   "outputs": [
    {
     "data": {
      "text/plain": [
       "array([[0.44043687],\n",
       "       [0.42610982],\n",
       "       [0.61827   ],\n",
       "       ...,\n",
       "       [0.666938  ],\n",
       "       [0.49820292],\n",
       "       [0.61985314]], dtype=float32)"
      ]
     },
     "execution_count": 16,
     "metadata": {},
     "output_type": "execute_result"
    }
   ],
   "source": [
    "predictions"
   ]
  },
  {
   "cell_type": "code",
   "execution_count": 17,
   "metadata": {
    "colab": {
     "base_uri": "https://localhost:8080/",
     "height": 51
    },
    "colab_type": "code",
    "id": "QRXZaOyw30V4",
    "outputId": "9a8b266d-1fdb-4c1c-edb1-5bdfc50f0159"
   },
   "outputs": [
    {
     "data": {
      "text/plain": [
       "array([[2313, 1744],\n",
       "       [4299, 4075]])"
      ]
     },
     "execution_count": 17,
     "metadata": {},
     "output_type": "execute_result"
    }
   ],
   "source": [
    "from sklearn.metrics import confusion_matrix\n",
    "\n",
    "confusion_matrix(test_y, predictions > 0.5)"
   ]
  },
  {
   "cell_type": "markdown",
   "metadata": {
    "colab_type": "text",
    "id": "dlBsili43I0o"
   },
   "source": [
    "## Step 7: Evaluate the model.\n",
    "\n",
    "Let us check to see how the model did, using accuracy as a measure."
   ]
  },
  {
   "cell_type": "code",
   "execution_count": 18,
   "metadata": {
    "colab": {
     "base_uri": "https://localhost:8080/",
     "height": 34
    },
    "colab_type": "code",
    "id": "1k_WbWJZ3I0p",
    "outputId": "68eedc82-5e1b-4165-c12f-68515adfe86b",
    "scrolled": true
   },
   "outputs": [
    {
     "data": {
      "text/plain": [
       "0.5138765988255168"
      ]
     },
     "execution_count": 18,
     "metadata": {},
     "output_type": "execute_result"
    }
   ],
   "source": [
    "from sklearn.metrics import accuracy_score\n",
    "accuracy_score(test_y, predictions > 0.5)\n"
   ]
  },
  {
   "cell_type": "markdown",
   "metadata": {
    "colab_type": "text",
    "id": "YpdQREEe3I0r"
   },
   "source": [
    "## Step 8: Tensorboard"
   ]
  },
  {
   "cell_type": "code",
   "execution_count": 19,
   "metadata": {
    "colab": {
     "base_uri": "https://localhost:8080/",
     "height": 34
    },
    "colab_type": "code",
    "id": "HY83nifW3I0r",
    "outputId": "a3fee76a-2e9c-4095-cbb1-bf6c31df70d0"
   },
   "outputs": [
    {
     "name": "stderr",
     "output_type": "stream",
     "text": [
      "UsageError: Line magic function `%tensorboard` not found.\n"
     ]
    }
   ],
   "source": [
    "%tensorboard --logdir logs/fit  # For Colab\n",
    "\n",
    "# jupyter: run the following at the command line: tensorboard --logdir logs/fit"
   ]
  },
  {
   "cell_type": "markdown",
   "metadata": {
    "colab_type": "text",
    "id": "dcVjKOt-3I0t"
   },
   "source": [
    "## Step 9: Improve Accuracy\n",
    "\n",
    "### Add more features\n",
    "Look at the schema of the full dataset.  Are there any columns you want to add. Make sure you up the number of neurons in the hidden layer as you add more features."
   ]
  },
  {
   "cell_type": "code",
   "execution_count": null,
   "metadata": {
    "colab": {},
    "colab_type": "code",
    "id": "F6qKFwcW3I0u"
   },
   "outputs": [],
   "source": []
  },
  {
   "cell_type": "code",
   "execution_count": null,
   "metadata": {
    "colab": {},
    "colab_type": "code",
    "id": "9uczhASR3I0w"
   },
   "outputs": [],
   "source": []
  },
  {
   "cell_type": "code",
   "execution_count": null,
   "metadata": {
    "colab": {},
    "colab_type": "code",
    "id": "iTeRSXCr3I0z"
   },
   "outputs": [],
   "source": []
  }
 ],
 "metadata": {
  "anaconda-cloud": {},
  "colab": {
   "name": "prosper-tf.ipynb",
   "provenance": [],
   "version": "0.3.2"
  },
  "kernelspec": {
   "display_name": "tf2",
   "language": "python",
   "name": "tf2"
  },
  "language_info": {
   "codemirror_mode": {
    "name": "ipython",
    "version": 3
   },
   "file_extension": ".py",
   "mimetype": "text/x-python",
   "name": "python",
   "nbconvert_exporter": "python",
   "pygments_lexer": "ipython3",
   "version": "3.7.4"
  }
 },
 "nbformat": 4,
 "nbformat_minor": 4
}
