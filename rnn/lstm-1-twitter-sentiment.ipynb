{
 "cells": [
  {
   "cell_type": "markdown",
   "metadata": {
    "colab_type": "text",
    "id": "ycANAX_Siz0J"
   },
   "source": [
    "# Lab: Sentiment analysis using LSTM"
   ]
  },
  {
   "cell_type": "code",
   "execution_count": 1,
   "metadata": {
    "colab": {
     "base_uri": "https://localhost:8080/",
     "height": 54
    },
    "colab_type": "code",
    "id": "yOSRHcs8iz0l",
    "outputId": "484cbb53-a88c-449b-fafa-301b5f9f03a5"
   },
   "outputs": [
    {
     "name": "stderr",
     "output_type": "stream",
     "text": [
      "Using TensorFlow backend.\n"
     ]
    }
   ],
   "source": [
    "try:\n",
    "  %tensorflow_version 2.x\n",
    "except Exception:\n",
    "  pass\n",
    "\n",
    "import pandas as pd\n",
    "import tensorflow as tf\n",
    "from tensorflow import keras\n",
    "from tensorflow.keras import layers\n",
    "from keras.preprocessing.text import Tokenizer\n",
    "from keras.preprocessing.sequence import pad_sequences\n",
    "from sklearn.model_selection import train_test_split"
   ]
  },
  {
   "cell_type": "markdown",
   "metadata": {
    "colab_type": "text",
    "id": "wGu3KoYsiz1A"
   },
   "source": [
    "## Step 1: Load data\n",
    "Data consists of 32000 tweets and has come from kaggle website. We have summerized the data so we work with a small dataset. The original data can be accessed through the following link: https://www.kaggle.com/kazanova/sentiment140/version/1. "
   ]
  },
  {
   "cell_type": "code",
   "execution_count": 14,
   "metadata": {
    "colab": {},
    "colab_type": "code",
    "id": "xfv_PTWWiz1E"
   },
   "outputs": [
    {
     "data": {
      "text/html": [
       "<div>\n",
       "<style scoped>\n",
       "    .dataframe tbody tr th:only-of-type {\n",
       "        vertical-align: middle;\n",
       "    }\n",
       "\n",
       "    .dataframe tbody tr th {\n",
       "        vertical-align: top;\n",
       "    }\n",
       "\n",
       "    .dataframe thead th {\n",
       "        text-align: right;\n",
       "    }\n",
       "</style>\n",
       "<table border=\"1\" class=\"dataframe\">\n",
       "  <thead>\n",
       "    <tr style=\"text-align: right;\">\n",
       "      <th></th>\n",
       "      <th>sentiment</th>\n",
       "      <th>text</th>\n",
       "    </tr>\n",
       "  </thead>\n",
       "  <tbody>\n",
       "    <tr>\n",
       "      <th>0</th>\n",
       "      <td>sentiment</td>\n",
       "      <td>text</td>\n",
       "    </tr>\n",
       "    <tr>\n",
       "      <th>1</th>\n",
       "      <td>0</td>\n",
       "      <td>@switchfoot http://twitpic.com/2y1zl - Awww, t...</td>\n",
       "    </tr>\n",
       "    <tr>\n",
       "      <th>2</th>\n",
       "      <td>0</td>\n",
       "      <td>Broadband plan 'a massive broken promise' http...</td>\n",
       "    </tr>\n",
       "    <tr>\n",
       "      <th>3</th>\n",
       "      <td>0</td>\n",
       "      <td>Body Of Missing Northern Calif. Girl Found: P...</td>\n",
       "    </tr>\n",
       "    <tr>\n",
       "      <th>4</th>\n",
       "      <td>0</td>\n",
       "      <td>@onemoreproject that is lame</td>\n",
       "    </tr>\n",
       "    <tr>\n",
       "      <th>...</th>\n",
       "      <td>...</td>\n",
       "      <td>...</td>\n",
       "    </tr>\n",
       "    <tr>\n",
       "      <th>31996</th>\n",
       "      <td>4</td>\n",
       "      <td>@jerseyshorejen haha I know that's why I said ...</td>\n",
       "    </tr>\n",
       "    <tr>\n",
       "      <th>31997</th>\n",
       "      <td>4</td>\n",
       "      <td>@cherub_rock123 ehh....it's a day.</td>\n",
       "    </tr>\n",
       "    <tr>\n",
       "      <th>31998</th>\n",
       "      <td>4</td>\n",
       "      <td>sick, sick, sick today, but still fingers cros...</td>\n",
       "    </tr>\n",
       "    <tr>\n",
       "      <th>31999</th>\n",
       "      <td>4</td>\n",
       "      <td>@cris1015 My goal on stocks like $MTXX is to h...</td>\n",
       "    </tr>\n",
       "    <tr>\n",
       "      <th>32000</th>\n",
       "      <td>4</td>\n",
       "      <td>OMG how good is ben and jerrys cookie dough ic...</td>\n",
       "    </tr>\n",
       "  </tbody>\n",
       "</table>\n",
       "<p>32001 rows × 2 columns</p>\n",
       "</div>"
      ],
      "text/plain": [
       "       sentiment                                               text\n",
       "0      sentiment                                               text\n",
       "1              0  @switchfoot http://twitpic.com/2y1zl - Awww, t...\n",
       "2              0  Broadband plan 'a massive broken promise' http...\n",
       "3              0   Body Of Missing Northern Calif. Girl Found: P...\n",
       "4              0                      @onemoreproject that is lame \n",
       "...          ...                                                ...\n",
       "31996          4  @jerseyshorejen haha I know that's why I said ...\n",
       "31997          4                @cherub_rock123 ehh....it's a day. \n",
       "31998          4  sick, sick, sick today, but still fingers cros...\n",
       "31999          4  @cris1015 My goal on stocks like $MTXX is to h...\n",
       "32000          4  OMG how good is ben and jerrys cookie dough ic...\n",
       "\n",
       "[32001 rows x 2 columns]"
      ]
     },
     "execution_count": 14,
     "metadata": {},
     "output_type": "execute_result"
    }
   ],
   "source": [
    "data = pd.read_csv(\"/data/text/twitter-sentiment/twitter-sentiment.csv\" ,usecols = [1,2], header = None , names=[\"sentiment\",\"text\"])\n",
    "data"
   ]
  },
  {
   "cell_type": "markdown",
   "metadata": {
    "colab_type": "text",
    "id": "8R8mMj8Diz1N"
   },
   "source": [
    "## Step 2: Explore data"
   ]
  },
  {
   "cell_type": "code",
   "execution_count": 3,
   "metadata": {
    "colab": {
     "base_uri": "https://localhost:8080/",
     "height": 298
    },
    "colab_type": "code",
    "id": "mStDJe_Iiz1P",
    "outputId": "1dde56e6-2b2a-46d9-f7c9-601ad513bc65"
   },
   "outputs": [
    {
     "name": "stdout",
     "output_type": "stream",
     "text": [
      "Values in \"sentiment\" :\n",
      "0            16000\n",
      "4            16000\n",
      "sentiment        1\n",
      "Name: sentiment, dtype: int64\n"
     ]
    },
    {
     "data": {
      "text/html": [
       "<div>\n",
       "<style scoped>\n",
       "    .dataframe tbody tr th:only-of-type {\n",
       "        vertical-align: middle;\n",
       "    }\n",
       "\n",
       "    .dataframe tbody tr th {\n",
       "        vertical-align: top;\n",
       "    }\n",
       "\n",
       "    .dataframe thead th {\n",
       "        text-align: right;\n",
       "    }\n",
       "</style>\n",
       "<table border=\"1\" class=\"dataframe\">\n",
       "  <thead>\n",
       "    <tr style=\"text-align: right;\">\n",
       "      <th></th>\n",
       "      <th>sentiment</th>\n",
       "      <th>text</th>\n",
       "    </tr>\n",
       "  </thead>\n",
       "  <tbody>\n",
       "    <tr>\n",
       "      <th>0</th>\n",
       "      <td>sentiment</td>\n",
       "      <td>text</td>\n",
       "    </tr>\n",
       "    <tr>\n",
       "      <th>1</th>\n",
       "      <td>0</td>\n",
       "      <td>@switchfoot http://twitpic.com/2y1zl - Awww, t...</td>\n",
       "    </tr>\n",
       "    <tr>\n",
       "      <th>2</th>\n",
       "      <td>0</td>\n",
       "      <td>Broadband plan 'a massive broken promise' http...</td>\n",
       "    </tr>\n",
       "    <tr>\n",
       "      <th>3</th>\n",
       "      <td>0</td>\n",
       "      <td>Body Of Missing Northern Calif. Girl Found: P...</td>\n",
       "    </tr>\n",
       "    <tr>\n",
       "      <th>4</th>\n",
       "      <td>0</td>\n",
       "      <td>@onemoreproject that is lame</td>\n",
       "    </tr>\n",
       "  </tbody>\n",
       "</table>\n",
       "</div>"
      ],
      "text/plain": [
       "   sentiment                                               text\n",
       "0  sentiment                                               text\n",
       "1          0  @switchfoot http://twitpic.com/2y1zl - Awww, t...\n",
       "2          0  Broadband plan 'a massive broken promise' http...\n",
       "3          0   Body Of Missing Northern Calif. Girl Found: P...\n",
       "4          0                      @onemoreproject that is lame "
      ]
     },
     "execution_count": 3,
     "metadata": {},
     "output_type": "execute_result"
    }
   ],
   "source": [
    "print(\"Values in \\\"sentiment\\\" :\")\n",
    "print(data['sentiment'].value_counts())\n",
    "# data.head()"
   ]
  },
  {
   "cell_type": "markdown",
   "metadata": {
    "colab_type": "text",
    "id": "y4pkmfIUiz1X"
   },
   "source": [
    "## Step 3: Shape data"
   ]
  },
  {
   "cell_type": "code",
   "execution_count": 4,
   "metadata": {
    "colab": {},
    "colab_type": "code",
    "id": "iiQRHR8Ciz1a"
   },
   "outputs": [],
   "source": [
    "# Substitutes 0 with neg and 4 with pos\n",
    "data['sentiment'] = ['neg' if (x=='0') else 'pos' for x in data['sentiment']]"
   ]
  },
  {
   "cell_type": "code",
   "execution_count": 5,
   "metadata": {
    "colab": {},
    "colab_type": "code",
    "id": "BLRtxUTXiz1g"
   },
   "outputs": [],
   "source": [
    "tokenizer = Tokenizer(num_words=2500, lower=True, split=' ')\n",
    "\n",
    "tokenizer.fit_on_texts(data['text'].values)\n",
    "\n",
    "X = tokenizer.texts_to_sequences(data['text'].values)\n",
    "\n",
    "X = pad_sequences(X)"
   ]
  },
  {
   "cell_type": "code",
   "execution_count": 13,
   "metadata": {},
   "outputs": [
    {
     "data": {
      "text/plain": [
       "array([[   0,    0,    0, ...,    0,    0,  627],\n",
       "       [   0,    0,    0, ...,   41,    8,  400],\n",
       "       [   0,    0,    0, ...,   10,   62,   36],\n",
       "       ...,\n",
       "       [   0,    0,    0, ...,  528,   29, 1156],\n",
       "       [   0,    0,    0, ...,    3,  730,    8],\n",
       "       [   0,    0,    0, ...,   71,   33,   26]], dtype=int32)"
      ]
     },
     "execution_count": 13,
     "metadata": {},
     "output_type": "execute_result"
    }
   ],
   "source": [
    "X"
   ]
  },
  {
   "cell_type": "markdown",
   "metadata": {
    "colab_type": "text",
    "id": "gKBBNJcGiz1n"
   },
   "source": [
    "## Step 4: Build model"
   ]
  },
  {
   "cell_type": "code",
   "execution_count": 10,
   "metadata": {
    "colab": {
     "base_uri": "https://localhost:8080/",
     "height": 293
    },
    "colab_type": "code",
    "id": "E2g8PORliz1p",
    "outputId": "e5617fa4-2046-4bd7-9d67-d6c5edec3ea9"
   },
   "outputs": [
    {
     "name": "stdout",
     "output_type": "stream",
     "text": [
      "Model: \"sequential_1\"\n",
      "_________________________________________________________________\n",
      "Layer (type)                 Output Shape              Param #   \n",
      "=================================================================\n",
      "embedding_1 (Embedding)      (None, 37, 128)           320000    \n",
      "_________________________________________________________________\n",
      "lstm_1 (LSTM)                (None, 200)               263200    \n",
      "_________________________________________________________________\n",
      "dense_1 (Dense)              (None, 2)                 402       \n",
      "=================================================================\n",
      "Total params: 583,602\n",
      "Trainable params: 583,602\n",
      "Non-trainable params: 0\n",
      "_________________________________________________________________\n",
      "None\n"
     ]
    },
    {
     "data": {
      "image/png": "[encoded data removed]",
      "text/plain": [
       "<IPython.core.display.Image object>"
      ]
     },
     "execution_count": 10,
     "metadata": {},
     "output_type": "execute_result"
    }
   ],
   "source": [
    "embed_dim = 128\n",
    "lstm_out = 200\n",
    "batch_size = 32\n",
    "\n",
    "model = tf.keras.Sequential()\n",
    "model.add(layers.Embedding(2500, embed_dim,input_length = X.shape[1]))\n",
    "model.add(layers.LSTM(lstm_out))\n",
    "model.add(keras.layers.Dense(2,activation='softmax'))\n",
    "\n",
    "model.compile(loss = 'categorical_crossentropy', optimizer='adam',metrics = ['accuracy'])\n",
    "print(model.summary())\n",
    "\n",
    "tf.keras.utils.plot_model(model, to_file='model.png', show_shapes=True)"
   ]
  },
  {
   "cell_type": "code",
   "execution_count": 7,
   "metadata": {
    "colab": {},
    "colab_type": "code",
    "id": "4cwhBaspiz1v"
   },
   "outputs": [],
   "source": [
    "Y = pd.get_dummies(data['sentiment']).values\n",
    "X_train, X_valid, Y_train, Y_valid = train_test_split(X,Y, test_size = 0.20, random_state = 36)"
   ]
  },
  {
   "cell_type": "markdown",
   "metadata": {
    "colab_type": "text",
    "id": "DS4g-4Paiz14"
   },
   "source": [
    "## Train model"
   ]
  },
  {
   "cell_type": "code",
   "execution_count": 11,
   "metadata": {
    "colab": {
     "base_uri": "https://localhost:8080/",
     "height": 146
    },
    "colab_type": "code",
    "id": "_wnmLWygiz17",
    "outputId": "2ff354ff-3a85-436c-bfb7-9f93d18bacf7"
   },
   "outputs": [
    {
     "name": "stdout",
     "output_type": "stream",
     "text": [
      "Train on 25600 samples\n",
      "Epoch 1/5\n",
      "25600/25600 [==============================] - 61s 2ms/sample - loss: 0.5357 - accuracy: 0.7309\n",
      "Epoch 2/5\n",
      "25600/25600 [==============================] - 59s 2ms/sample - loss: 0.4493 - accuracy: 0.7909\n",
      "Epoch 3/5\n",
      "25600/25600 [==============================] - 62s 2ms/sample - loss: 0.4103 - accuracy: 0.8120\n",
      "Epoch 4/5\n",
      "25600/25600 [==============================] - 61s 2ms/sample - loss: 0.3745 - accuracy: 0.8274\n",
      "Epoch 5/5\n",
      "25600/25600 [==============================] - 58s 2ms/sample - loss: 0.3381 - accuracy: 0.8440\n"
     ]
    },
    {
     "data": {
      "text/plain": [
       "<tensorflow.python.keras.callbacks.History at 0x7f45c8259d50>"
      ]
     },
     "execution_count": 11,
     "metadata": {},
     "output_type": "execute_result"
    }
   ],
   "source": [
    "model.fit(X_train, Y_train, batch_size =batch_size, epochs = 5)"
   ]
  },
  {
   "cell_type": "markdown",
   "metadata": {
    "colab_type": "text",
    "id": "IF9CEElKiz2B"
   },
   "source": [
    "## Evaluate model"
   ]
  },
  {
   "cell_type": "code",
   "execution_count": 9,
   "metadata": {
    "colab": {
     "base_uri": "https://localhost:8080/",
     "height": 72
    },
    "colab_type": "code",
    "id": "JnP2RYJdiz2D",
    "outputId": "c7224b5c-f31c-4e32-d0b9-5fc1840c0d90"
   },
   "outputs": [
    {
     "name": "stdout",
     "output_type": "stream",
     "text": [
      "6401/1 - 5s - loss: 0.3076 - accuracy: 0.7622\n",
      "Score: 0.55\n",
      "Validation accuracy: 0.76\n"
     ]
    }
   ],
   "source": [
    "score, acc = model.evaluate(X_valid, Y_valid, verbose=2, batch_size = batch_size)\n",
    "print(\"Score: %.2f\" % (score))\n",
    "print(\"Validation accuracy: %.2f\" % (acc))"
   ]
  }
 ],
 "metadata": {
  "colab": {
   "name": "LSTM_hello_world.ipynb",
   "provenance": []
  },
  "kernelspec": {
   "display_name": "Python 3",
   "language": "python",
   "name": "python3"
  },
  "language_info": {
   "codemirror_mode": {
    "name": "ipython",
    "version": 3
   },
   "file_extension": ".py",
   "mimetype": "text/x-python",
   "name": "python",
   "nbconvert_exporter": "python",
   "pygments_lexer": "ipython3",
   "version": "3.7.5"
  }
 },
 "nbformat": 4,
 "nbformat_minor": 4
}
