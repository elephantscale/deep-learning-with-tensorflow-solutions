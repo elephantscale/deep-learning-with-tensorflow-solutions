{
 "cells": [
  {
   "cell_type": "markdown",
   "metadata": {},
   "source": [
    "# RNN Sine Wave\n",
    "\n",
    "### Overview\n",
    "Predict a simple sine wave using RNN\n",
    "\n",
    "Adopted with thanks from [here](https://www.datatechnotes.com/2018/12/rnn-example-with-keras-simplernn-in.html)"
   ]
  },
  {
   "cell_type": "code",
   "execution_count": 1,
   "metadata": {
    "colab": {
     "base_uri": "https://localhost:8080/",
     "height": 52
    },
    "colab_type": "code",
    "id": "UAwy6Gft3vPD",
    "outputId": "5da0e37f-0ab6-423d-b7b3-99e9163fde15"
   },
   "outputs": [
    {
     "name": "stdout",
     "output_type": "stream",
     "text": [
      "tf version:  2.3.0\n",
      "keras version:  2.4.0\n"
     ]
    }
   ],
   "source": [
    "from __future__ import absolute_import, division, print_function, unicode_literals\n",
    "\n",
    "try:\n",
    "  # %tensorflow_version only exists in Colab.\n",
    "  %tensorflow_version 2.x\n",
    "except Exception:\n",
    "  pass\n",
    "\n",
    "import tensorflow as tf\n",
    "from tensorflow import keras\n",
    "print (\"tf version: \", tf.__version__)\n",
    "print (\"keras version: \", keras.__version__)"
   ]
  },
  {
   "cell_type": "markdown",
   "metadata": {
    "colab_type": "text",
    "id": "m6sLPjRC3vPG"
   },
   "source": [
    "## TF-GPU Debug\n",
    "The following block tests if TF is running on GPU."
   ]
  },
  {
   "cell_type": "code",
   "execution_count": 2,
   "metadata": {
    "colab": {
     "base_uri": "https://localhost:8080/",
     "height": 104
    },
    "colab_type": "code",
    "id": "0hg6UWFl3vPG",
    "outputId": "30a14a87-6833-4f9b-bd41-006e273f421a"
   },
   "outputs": [
    {
     "name": "stdout",
     "output_type": "stream",
     "text": [
      "[PhysicalDevice(name='/physical_device:CPU:0', device_type='CPU'), PhysicalDevice(name='/physical_device:XLA_CPU:0', device_type='XLA_CPU'), PhysicalDevice(name='/physical_device:XLA_GPU:0', device_type='XLA_GPU'), PhysicalDevice(name='/physical_device:GPU:0', device_type='GPU')]\n",
      "Device mapping:\n",
      "/job:localhost/replica:0/task:0/device:XLA_CPU:0 -> device: XLA_CPU device\n",
      "/job:localhost/replica:0/task:0/device:XLA_GPU:0 -> device: XLA_GPU device\n",
      "/job:localhost/replica:0/task:0/device:GPU:0 -> device: 0, name: GeForce RTX 2070, pci bus id: 0000:01:00.0, compute capability: 7.5\n",
      "\n"
     ]
    }
   ],
   "source": [
    "print (tf.config.experimental.list_physical_devices())\n",
    "\n",
    "## This block is to tweak TF running on GPU\n",
    "## You may comment this out, if you are not using GPU\n",
    "\n",
    "## ---- start Memory setting ----\n",
    "## Ask TF not to allocate all GPU memory at once.. allocate as needed\n",
    "## Without this the execution will fail with \"failed to initialize algorithm\" error\n",
    "\n",
    "from tensorflow.compat.v1.keras.backend import set_session\n",
    "config = tf.compat.v1.ConfigProto()\n",
    "config.gpu_options.allow_growth = True  # dynamically grow the memory used on the GPU\n",
    "config.log_device_placement = True  # to log device placement (on which device the operation ran)\n",
    "sess = tf.compat.v1.Session(config=config)\n",
    "set_session(sess)\n",
    "## ---- end Memory setting ----\n"
   ]
  },
  {
   "cell_type": "code",
   "execution_count": 3,
   "metadata": {},
   "outputs": [],
   "source": [
    "import pandas as pd\n",
    "import numpy as np\n",
    "import matplotlib.pyplot as plt\n",
    "\n",
    "# number formats\n",
    "pd.options.display.float_format = '{:,.4f}'.format\n",
    "np.set_printoptions(formatter={'float': '{: 0.4f}'.format})"
   ]
  },
  {
   "cell_type": "markdown",
   "metadata": {},
   "source": [
    "## Generate some data"
   ]
  },
  {
   "cell_type": "code",
   "execution_count": 4,
   "metadata": {},
   "outputs": [
    {
     "data": {
      "text/html": [
       "<div>\n",
       "<style scoped>\n",
       "    .dataframe tbody tr th:only-of-type {\n",
       "        vertical-align: middle;\n",
       "    }\n",
       "\n",
       "    .dataframe tbody tr th {\n",
       "        vertical-align: top;\n",
       "    }\n",
       "\n",
       "    .dataframe thead th {\n",
       "        text-align: right;\n",
       "    }\n",
       "</style>\n",
       "<table border=\"1\" class=\"dataframe\">\n",
       "  <thead>\n",
       "    <tr style=\"text-align: right;\">\n",
       "      <th></th>\n",
       "      <th>0</th>\n",
       "    </tr>\n",
       "  </thead>\n",
       "  <tbody>\n",
       "    <tr>\n",
       "      <th>0</th>\n",
       "      <td>1.9239</td>\n",
       "    </tr>\n",
       "    <tr>\n",
       "      <th>1</th>\n",
       "      <td>0.1661</td>\n",
       "    </tr>\n",
       "    <tr>\n",
       "      <th>2</th>\n",
       "      <td>0.3281</td>\n",
       "    </tr>\n",
       "    <tr>\n",
       "      <th>3</th>\n",
       "      <td>1.9848</td>\n",
       "    </tr>\n",
       "    <tr>\n",
       "      <th>4</th>\n",
       "      <td>0.7335</td>\n",
       "    </tr>\n",
       "    <tr>\n",
       "      <th>...</th>\n",
       "      <td>...</td>\n",
       "    </tr>\n",
       "    <tr>\n",
       "      <th>995</th>\n",
       "      <td>1.3410</td>\n",
       "    </tr>\n",
       "    <tr>\n",
       "      <th>996</th>\n",
       "      <td>1.5441</td>\n",
       "    </tr>\n",
       "    <tr>\n",
       "      <th>997</th>\n",
       "      <td>1.2833</td>\n",
       "    </tr>\n",
       "    <tr>\n",
       "      <th>998</th>\n",
       "      <td>2.3653</td>\n",
       "    </tr>\n",
       "    <tr>\n",
       "      <th>999</th>\n",
       "      <td>2.0728</td>\n",
       "    </tr>\n",
       "  </tbody>\n",
       "</table>\n",
       "<p>1000 rows × 1 columns</p>\n",
       "</div>"
      ],
      "text/plain": [
       "         0\n",
       "0   1.9239\n",
       "1   0.1661\n",
       "2   0.3281\n",
       "3   1.9848\n",
       "4   0.7335\n",
       "..     ...\n",
       "995 1.3410\n",
       "996 1.5441\n",
       "997 1.2833\n",
       "998 2.3653\n",
       "999 2.0728\n",
       "\n",
       "[1000 rows x 1 columns]"
      ]
     },
     "execution_count": 4,
     "metadata": {},
     "output_type": "execute_result"
    }
   ],
   "source": [
    "# Generate 1000 samples\n",
    "samples = 1000    \n",
    "training_samples = 800    \n",
    "\n",
    "t=np.arange(0,samples)\n",
    "\n",
    "## Generating a sine wave, with some noise \n",
    "x=np.sin(0.02*t)+2*np.random.rand(samples)\n",
    "\n",
    "## print data\n",
    "df_orig = pd.DataFrame(x)\n",
    "df_orig\n"
   ]
  },
  {
   "cell_type": "code",
   "execution_count": 5,
   "metadata": {},
   "outputs": [
    {
     "data": {
      "image/png": "[encoded data removed]",
      "text/plain": [
       "<Figure size 432x288 with 1 Axes>"
      ]
     },
     "metadata": {
      "needs_background": "light"
     },
     "output_type": "display_data"
    }
   ],
   "source": [
    "## plot data\n",
    "plt.plot(df_orig)\n",
    "plt.show() "
   ]
  },
  {
   "cell_type": "markdown",
   "metadata": {},
   "source": [
    "## Train / Test split"
   ]
  },
  {
   "cell_type": "code",
   "execution_count": 6,
   "metadata": {},
   "outputs": [
    {
     "name": "stdout",
     "output_type": "stream",
     "text": [
      "values: [[ 0.1661]\n",
      " [ 0.3281]\n",
      " [ 1.9848]\n",
      " [ 0.7335]\n",
      " [ 0.6048]\n",
      " [ 0.4135]\n",
      " [ 1.8930]\n",
      " [ 0.2787]\n",
      " [ 0.9715]\n",
      " [ 2.1354]\n",
      " [ 1.1811]\n",
      " [ 0.5782]\n",
      " [ 1.4726]\n",
      " [ 1.7918]\n",
      " [ 2.2741]\n",
      " [ 1.9895]\n",
      " [ 0.8487]\n",
      " [ 1.3431]\n",
      " [ 2.1118]]\n",
      "train size 800\n",
      "test size 200\n"
     ]
    }
   ],
   "source": [
    "## Create train / test values\n",
    "\n",
    "values=df_orig.values\n",
    "train,test = values[0:training_samples,:], values[training_samples:samples,:]\n",
    "\n",
    "print (\"values:\" , values[1:20])\n",
    "print ('train size', len(train))\n",
    "print ('test size', len(test))"
   ]
  },
  {
   "cell_type": "code",
   "execution_count": 7,
   "metadata": {},
   "outputs": [
    {
     "name": "stdout",
     "output_type": "stream",
     "text": [
      "train size 804\n",
      "test size 204\n"
     ]
    }
   ],
   "source": [
    "## padding the data\n",
    "step = 4\n",
    "# add step elements into train and test\n",
    "test = np.append(test,np.repeat(test[-1,],step))\n",
    "train = np.append(train,np.repeat(train[-1,],step))\n",
    "\n",
    "print (\"train size\", len(train))\n",
    "print (\"test size\", len(test))"
   ]
  },
  {
   "cell_type": "code",
   "execution_count": 8,
   "metadata": {},
   "outputs": [
    {
     "data": {
      "text/plain": [
       "array([ 1.9239,  0.1661,  0.3281,  1.9848,  0.7335,  0.6048,  0.4135,\n",
       "        1.8930,  0.2787,  0.9715,  2.1354,  1.1811,  0.5782,  1.4726,\n",
       "        1.7918,  2.2741,  1.9895,  0.8487,  1.3431,  2.1118,  2.0897,\n",
       "        1.2288,  1.3781,  1.3675,  1.5750,  1.1348,  0.6785,  1.5589,\n",
       "        2.2224,  1.0507])"
      ]
     },
     "execution_count": 8,
     "metadata": {},
     "output_type": "execute_result"
    }
   ],
   "source": [
    "## see some data\n",
    "## compare with original data\n",
    "train[:30]"
   ]
  },
  {
   "cell_type": "code",
   "execution_count": 9,
   "metadata": {},
   "outputs": [
    {
     "name": "stdout",
     "output_type": "stream",
     "text": [
      "x_train.shape (800, 4)\n",
      "y_train.shape (800,)\n",
      "x_test.shape (200, 4)\n",
      "y_test.shape (200,)\n"
     ]
    }
   ],
   "source": [
    "## vectorize the data\n",
    "\n",
    "def convertToMatrix(data, step):\n",
    " X, Y =[], []\n",
    " for i in range(len(data)-step):\n",
    "  d=i+step  \n",
    "  X.append(data[i:d,])\n",
    "  Y.append(data[d,])\n",
    " return np.array(X), np.array(Y)\n",
    "\n",
    "x_train,y_train =convertToMatrix(train,step)\n",
    "x_test,y_test =convertToMatrix(test,step)\n",
    "\n",
    "print (\"x_train.shape\", x_train.shape)\n",
    "print (\"y_train.shape\", y_train.shape)\n",
    "print (\"x_test.shape\", x_test.shape)\n",
    "print (\"y_test.shape\", y_test.shape)"
   ]
  },
  {
   "cell_type": "code",
   "execution_count": 10,
   "metadata": {},
   "outputs": [
    {
     "data": {
      "text/html": [
       "<div>\n",
       "<style scoped>\n",
       "    .dataframe tbody tr th:only-of-type {\n",
       "        vertical-align: middle;\n",
       "    }\n",
       "\n",
       "    .dataframe tbody tr th {\n",
       "        vertical-align: top;\n",
       "    }\n",
       "\n",
       "    .dataframe thead th {\n",
       "        text-align: right;\n",
       "    }\n",
       "</style>\n",
       "<table border=\"1\" class=\"dataframe\">\n",
       "  <thead>\n",
       "    <tr style=\"text-align: right;\">\n",
       "      <th></th>\n",
       "      <th>0</th>\n",
       "      <th>1</th>\n",
       "      <th>2</th>\n",
       "      <th>3</th>\n",
       "    </tr>\n",
       "  </thead>\n",
       "  <tbody>\n",
       "    <tr>\n",
       "      <th>0.7335</th>\n",
       "      <td>1.9239</td>\n",
       "      <td>0.1661</td>\n",
       "      <td>0.3281</td>\n",
       "      <td>1.9848</td>\n",
       "    </tr>\n",
       "    <tr>\n",
       "      <th>0.6048</th>\n",
       "      <td>0.1661</td>\n",
       "      <td>0.3281</td>\n",
       "      <td>1.9848</td>\n",
       "      <td>0.7335</td>\n",
       "    </tr>\n",
       "    <tr>\n",
       "      <th>0.4135</th>\n",
       "      <td>0.3281</td>\n",
       "      <td>1.9848</td>\n",
       "      <td>0.7335</td>\n",
       "      <td>0.6048</td>\n",
       "    </tr>\n",
       "    <tr>\n",
       "      <th>1.8930</th>\n",
       "      <td>1.9848</td>\n",
       "      <td>0.7335</td>\n",
       "      <td>0.6048</td>\n",
       "      <td>0.4135</td>\n",
       "    </tr>\n",
       "    <tr>\n",
       "      <th>0.2787</th>\n",
       "      <td>0.7335</td>\n",
       "      <td>0.6048</td>\n",
       "      <td>0.4135</td>\n",
       "      <td>1.8930</td>\n",
       "    </tr>\n",
       "    <tr>\n",
       "      <th>...</th>\n",
       "      <td>...</td>\n",
       "      <td>...</td>\n",
       "      <td>...</td>\n",
       "      <td>...</td>\n",
       "    </tr>\n",
       "    <tr>\n",
       "      <th>0.6862</th>\n",
       "      <td>0.7716</td>\n",
       "      <td>0.2073</td>\n",
       "      <td>1.4872</td>\n",
       "      <td>0.7171</td>\n",
       "    </tr>\n",
       "    <tr>\n",
       "      <th>0.6862</th>\n",
       "      <td>0.2073</td>\n",
       "      <td>1.4872</td>\n",
       "      <td>0.7171</td>\n",
       "      <td>0.6862</td>\n",
       "    </tr>\n",
       "    <tr>\n",
       "      <th>0.6862</th>\n",
       "      <td>1.4872</td>\n",
       "      <td>0.7171</td>\n",
       "      <td>0.6862</td>\n",
       "      <td>0.6862</td>\n",
       "    </tr>\n",
       "    <tr>\n",
       "      <th>0.6862</th>\n",
       "      <td>0.7171</td>\n",
       "      <td>0.6862</td>\n",
       "      <td>0.6862</td>\n",
       "      <td>0.6862</td>\n",
       "    </tr>\n",
       "    <tr>\n",
       "      <th>0.6862</th>\n",
       "      <td>0.6862</td>\n",
       "      <td>0.6862</td>\n",
       "      <td>0.6862</td>\n",
       "      <td>0.6862</td>\n",
       "    </tr>\n",
       "  </tbody>\n",
       "</table>\n",
       "<p>800 rows × 4 columns</p>\n",
       "</div>"
      ],
      "text/plain": [
       "            0      1      2      3\n",
       "0.7335 1.9239 0.1661 0.3281 1.9848\n",
       "0.6048 0.1661 0.3281 1.9848 0.7335\n",
       "0.4135 0.3281 1.9848 0.7335 0.6048\n",
       "1.8930 1.9848 0.7335 0.6048 0.4135\n",
       "0.2787 0.7335 0.6048 0.4135 1.8930\n",
       "...       ...    ...    ...    ...\n",
       "0.6862 0.7716 0.2073 1.4872 0.7171\n",
       "0.6862 0.2073 1.4872 0.7171 0.6862\n",
       "0.6862 1.4872 0.7171 0.6862 0.6862\n",
       "0.6862 0.7171 0.6862 0.6862 0.6862\n",
       "0.6862 0.6862 0.6862 0.6862 0.6862\n",
       "\n",
       "[800 rows x 4 columns]"
      ]
     },
     "execution_count": 10,
     "metadata": {},
     "output_type": "execute_result"
    }
   ],
   "source": [
    "## See data\n",
    "df = pd.DataFrame(x_train, y_train)\n",
    "df"
   ]
  },
  {
   "cell_type": "code",
   "execution_count": 11,
   "metadata": {},
   "outputs": [
    {
     "name": "stdout",
     "output_type": "stream",
     "text": [
      "x_train.shape (800, 1, 4)\n",
      "y_train.shape (800,)\n",
      "x_test.shape (200, 1, 4)\n",
      "y_test.shape (200,)\n"
     ]
    }
   ],
   "source": [
    "## Finally, we'll reshape trainX and testX to fit with the Keras model. \n",
    "## RNN model requires three-dimensional input data.\n",
    "\n",
    "x_train = np.reshape(x_train, (x_train.shape[0], 1, x_train.shape[1]))\n",
    "x_test = np.reshape(x_test, (x_test.shape[0], 1, x_test.shape[1]))\n",
    "\n",
    "print (\"x_train.shape\", x_train.shape)\n",
    "print (\"y_train.shape\", y_train.shape)\n",
    "print (\"x_test.shape\", x_test.shape)\n",
    "print (\"y_test.shape\", y_test.shape)"
   ]
  },
  {
   "cell_type": "markdown",
   "metadata": {},
   "source": [
    "## Build RNN"
   ]
  },
  {
   "cell_type": "code",
   "execution_count": 12,
   "metadata": {},
   "outputs": [
    {
     "name": "stdout",
     "output_type": "stream",
     "text": [
      "Model: \"sequential\"\n",
      "_________________________________________________________________\n",
      "Layer (type)                 Output Shape              Param #   \n",
      "=================================================================\n",
      "simple_rnn (SimpleRNN)       (None, 32)                1184      \n",
      "_________________________________________________________________\n",
      "dense (Dense)                (None, 8)                 264       \n",
      "_________________________________________________________________\n",
      "dense_1 (Dense)              (None, 1)                 9         \n",
      "=================================================================\n",
      "Total params: 1,457\n",
      "Trainable params: 1,457\n",
      "Non-trainable params: 0\n",
      "_________________________________________________________________\n"
     ]
    },
    {
     "data": {
      "image/png": "[encoded data removed]",
      "text/plain": [
       "<IPython.core.display.Image object>"
      ]
     },
     "execution_count": 12,
     "metadata": {},
     "output_type": "execute_result"
    }
   ],
   "source": [
    "model = keras.models.Sequential()\n",
    "model.add(keras.layers.SimpleRNN(units=32, input_shape=(1,step), activation=\"relu\"))\n",
    "model.add(keras.layers.Dense(8, activation=\"relu\")) \n",
    "model.add(keras.layers.Dense(1))\n",
    "model.compile(optimizer='rmsprop', loss = 'mse', metrics=['mse'])\n",
    "model.summary()\n",
    "tf.keras.utils.plot_model(model, to_file='model.png', show_shapes=True)"
   ]
  },
  {
   "cell_type": "markdown",
   "metadata": {},
   "source": [
    "## Setup Tensorboard"
   ]
  },
  {
   "cell_type": "code",
   "execution_count": 13,
   "metadata": {},
   "outputs": [
    {
     "name": "stdout",
     "output_type": "stream",
     "text": [
      "Saving TB logs to :  /tmp/tensorboard-logs/rnn-sine/19-49-39\n"
     ]
    },
    {
     "data": {
      "text/html": [
       "\n",
       "      <iframe id=\"tensorboard-frame-63fb90919f9f6b1a\" width=\"100%\" height=\"800\" frameborder=\"0\">\n",
       "      </iframe>\n",
       "      <script>\n",
       "        (function() {\n",
       "          const frame = document.getElementById(\"tensorboard-frame-63fb90919f9f6b1a\");\n",
       "          const url = new URL(\"/\", window.location);\n",
       "          const port = 6007;\n",
       "          if (port) {\n",
       "            url.port = port;\n",
       "          }\n",
       "          frame.src = url;\n",
       "        })();\n",
       "      </script>\n",
       "    "
      ],
      "text/plain": [
       "<IPython.core.display.HTML object>"
      ]
     },
     "metadata": {},
     "output_type": "display_data"
    }
   ],
   "source": [
    "## This is fairly boiler plate code\n",
    "\n",
    "import datetime\n",
    "import os\n",
    "import shutil\n",
    "\n",
    "app_name = 'rnn-sine'\n",
    "\n",
    "# timestamp  = datetime.datetime.now().strftime(\"%Y-%m-%d--%H-%M-%S\")\n",
    "\n",
    "tb_top_level_dir= '/tmp/tensorboard-logs'\n",
    "\n",
    "tb_app_dir = os.path.join (tb_top_level_dir, app_name)\n",
    "\n",
    "tb_logs_dir = os.path.join (tb_app_dir, datetime.datetime.now().strftime(\"%H-%M-%S\"))\n",
    "\n",
    "\n",
    "print (\"Saving TB logs to : \" , tb_logs_dir)\n",
    "\n",
    "#clear out old logs\n",
    "shutil.rmtree ( tb_app_dir, ignore_errors=True )\n",
    "\n",
    "tensorboard_callback = tf.keras.callbacks.TensorBoard(log_dir=tb_logs_dir, write_graph=True, \n",
    "                                                      write_images=True, histogram_freq=1)\n",
    "\n",
    "## This will embed Tensorboard right here in jupyter!\n",
    "%load_ext tensorboard\n",
    "%tensorboard --logdir $tb_logs_dir"
   ]
  },
  {
   "cell_type": "markdown",
   "metadata": {},
   "source": [
    "## Train"
   ]
  },
  {
   "cell_type": "code",
   "execution_count": 14,
   "metadata": {},
   "outputs": [
    {
     "name": "stdout",
     "output_type": "stream",
     "text": [
      "training starting ...\n",
      "Epoch 1/100\n",
      " 1/50 [..............................] - ETA: 0s - loss: 1.6943 - mse: 1.6943WARNING:tensorflow:From /home/sujee/anaconda3/envs/tf-2.3/lib/python3.8/site-packages/tensorflow/python/ops/summary_ops_v2.py:1277: stop (from tensorflow.python.eager.profiler) is deprecated and will be removed after 2020-07-01.\n",
      "Instructions for updating:\n",
      "use `tf.profiler.experimental.stop` instead.\n",
      "WARNING:tensorflow:Callbacks method `on_train_batch_end` is slow compared to the batch time (batch time: 0.0022s vs `on_train_batch_end` time: 0.0140s). Check your callbacks.\n",
      "50/50 [==============================] - 0s 2ms/step - loss: 0.8742 - mse: 0.8742\n",
      "Epoch 2/100\n",
      "50/50 [==============================] - 0s 1ms/step - loss: 0.4709 - mse: 0.4709\n",
      "Epoch 3/100\n",
      "50/50 [==============================] - 0s 1ms/step - loss: 0.4356 - mse: 0.4356\n",
      "Epoch 4/100\n",
      "50/50 [==============================] - 0s 1ms/step - loss: 0.4234 - mse: 0.4234\n",
      "Epoch 5/100\n",
      "50/50 [==============================] - 0s 1ms/step - loss: 0.4180 - mse: 0.4180\n",
      "Epoch 6/100\n",
      "50/50 [==============================] - 0s 1ms/step - loss: 0.4162 - mse: 0.4162\n",
      "Epoch 7/100\n",
      "50/50 [==============================] - 0s 1ms/step - loss: 0.4106 - mse: 0.4106\n",
      "Epoch 8/100\n",
      "50/50 [==============================] - 0s 2ms/step - loss: 0.4113 - mse: 0.4113\n",
      "Epoch 9/100\n",
      "50/50 [==============================] - 0s 2ms/step - loss: 0.4103 - mse: 0.4103\n",
      "Epoch 10/100\n",
      "50/50 [==============================] - 0s 2ms/step - loss: 0.4069 - mse: 0.4069\n",
      "Epoch 11/100\n",
      "50/50 [==============================] - 0s 2ms/step - loss: 0.4069 - mse: 0.4069\n",
      "Epoch 12/100\n",
      "50/50 [==============================] - 0s 2ms/step - loss: 0.4085 - mse: 0.4085\n",
      "Epoch 13/100\n",
      "50/50 [==============================] - 0s 2ms/step - loss: 0.4074 - mse: 0.4074\n",
      "Epoch 14/100\n",
      "50/50 [==============================] - 0s 2ms/step - loss: 0.4040 - mse: 0.4040\n",
      "Epoch 15/100\n",
      "50/50 [==============================] - 0s 2ms/step - loss: 0.4060 - mse: 0.4060\n",
      "Epoch 16/100\n",
      "50/50 [==============================] - 0s 2ms/step - loss: 0.4036 - mse: 0.4036\n",
      "Epoch 17/100\n",
      "50/50 [==============================] - 0s 2ms/step - loss: 0.4015 - mse: 0.4015\n",
      "Epoch 18/100\n",
      "50/50 [==============================] - 0s 2ms/step - loss: 0.4022 - mse: 0.4022\n",
      "Epoch 19/100\n",
      "50/50 [==============================] - 0s 2ms/step - loss: 0.4034 - mse: 0.4034\n",
      "Epoch 20/100\n",
      "50/50 [==============================] - 0s 2ms/step - loss: 0.4011 - mse: 0.4011\n",
      "Epoch 21/100\n",
      "50/50 [==============================] - 0s 1ms/step - loss: 0.3985 - mse: 0.3985\n",
      "Epoch 22/100\n",
      "50/50 [==============================] - 0s 2ms/step - loss: 0.4012 - mse: 0.4012\n",
      "Epoch 23/100\n",
      "50/50 [==============================] - 0s 1ms/step - loss: 0.3999 - mse: 0.3999\n",
      "Epoch 24/100\n",
      "50/50 [==============================] - 0s 1ms/step - loss: 0.3960 - mse: 0.3960\n",
      "Epoch 25/100\n",
      "50/50 [==============================] - 0s 1ms/step - loss: 0.3999 - mse: 0.3999\n",
      "Epoch 26/100\n",
      "50/50 [==============================] - 0s 2ms/step - loss: 0.3988 - mse: 0.3988\n",
      "Epoch 27/100\n",
      "50/50 [==============================] - 0s 2ms/step - loss: 0.3976 - mse: 0.3976\n",
      "Epoch 28/100\n",
      "50/50 [==============================] - 0s 2ms/step - loss: 0.3984 - mse: 0.3984\n",
      "Epoch 29/100\n",
      "50/50 [==============================] - 0s 2ms/step - loss: 0.3985 - mse: 0.3985\n",
      "Epoch 30/100\n",
      "50/50 [==============================] - 0s 2ms/step - loss: 0.3972 - mse: 0.3972\n",
      "Epoch 31/100\n",
      "50/50 [==============================] - 0s 2ms/step - loss: 0.3944 - mse: 0.3944\n",
      "Epoch 32/100\n",
      "50/50 [==============================] - 0s 1ms/step - loss: 0.3984 - mse: 0.3984\n",
      "Epoch 33/100\n",
      "50/50 [==============================] - 0s 1ms/step - loss: 0.3963 - mse: 0.3963\n",
      "Epoch 34/100\n",
      "50/50 [==============================] - 0s 1ms/step - loss: 0.3968 - mse: 0.3968\n",
      "Epoch 35/100\n",
      "50/50 [==============================] - 0s 1ms/step - loss: 0.3915 - mse: 0.3915\n",
      "Epoch 36/100\n",
      "50/50 [==============================] - 0s 1ms/step - loss: 0.3964 - mse: 0.3964\n",
      "Epoch 37/100\n",
      "50/50 [==============================] - 0s 1ms/step - loss: 0.3948 - mse: 0.3948\n",
      "Epoch 38/100\n",
      "50/50 [==============================] - 0s 2ms/step - loss: 0.3987 - mse: 0.3987\n",
      "Epoch 39/100\n",
      "50/50 [==============================] - 0s 2ms/step - loss: 0.3920 - mse: 0.3920\n",
      "Epoch 40/100\n",
      "50/50 [==============================] - 0s 2ms/step - loss: 0.3919 - mse: 0.3919\n",
      "Epoch 41/100\n",
      "50/50 [==============================] - 0s 2ms/step - loss: 0.3923 - mse: 0.3923\n",
      "Epoch 42/100\n",
      "50/50 [==============================] - 0s 2ms/step - loss: 0.3936 - mse: 0.3936\n",
      "Epoch 43/100\n",
      "50/50 [==============================] - 0s 2ms/step - loss: 0.3928 - mse: 0.3928\n",
      "Epoch 44/100\n",
      "50/50 [==============================] - 0s 2ms/step - loss: 0.3919 - mse: 0.3919\n",
      "Epoch 45/100\n",
      "50/50 [==============================] - 0s 2ms/step - loss: 0.3917 - mse: 0.3917\n",
      "Epoch 46/100\n",
      "50/50 [==============================] - 0s 1ms/step - loss: 0.3931 - mse: 0.3931\n",
      "Epoch 47/100\n",
      "50/50 [==============================] - 0s 1ms/step - loss: 0.3898 - mse: 0.3898\n",
      "Epoch 48/100\n",
      "50/50 [==============================] - 0s 2ms/step - loss: 0.3900 - mse: 0.3900\n",
      "Epoch 49/100\n",
      "50/50 [==============================] - 0s 2ms/step - loss: 0.3929 - mse: 0.3929\n",
      "Epoch 50/100\n",
      "50/50 [==============================] - 0s 1ms/step - loss: 0.3907 - mse: 0.3907\n",
      "Epoch 51/100\n",
      "50/50 [==============================] - 0s 1ms/step - loss: 0.3895 - mse: 0.3895\n",
      "Epoch 52/100\n",
      "50/50 [==============================] - 0s 1ms/step - loss: 0.3906 - mse: 0.3906\n",
      "Epoch 53/100\n",
      "50/50 [==============================] - 0s 1ms/step - loss: 0.3885 - mse: 0.3885\n",
      "Epoch 54/100\n",
      "50/50 [==============================] - 0s 1ms/step - loss: 0.3884 - mse: 0.3884\n",
      "Epoch 55/100\n",
      "50/50 [==============================] - 0s 1ms/step - loss: 0.3889 - mse: 0.3889\n",
      "Epoch 56/100\n",
      "50/50 [==============================] - 0s 1ms/step - loss: 0.3904 - mse: 0.3904\n",
      "Epoch 57/100\n",
      "50/50 [==============================] - 0s 1ms/step - loss: 0.3886 - mse: 0.3886\n",
      "Epoch 58/100\n",
      "50/50 [==============================] - 0s 1ms/step - loss: 0.3880 - mse: 0.3880\n",
      "Epoch 59/100\n",
      "50/50 [==============================] - 0s 1ms/step - loss: 0.3859 - mse: 0.3859\n",
      "Epoch 60/100\n",
      "50/50 [==============================] - 0s 1ms/step - loss: 0.3877 - mse: 0.3877\n",
      "Epoch 61/100\n",
      "50/50 [==============================] - 0s 2ms/step - loss: 0.3833 - mse: 0.3833\n",
      "Epoch 62/100\n",
      "50/50 [==============================] - 0s 2ms/step - loss: 0.3870 - mse: 0.3870\n",
      "Epoch 63/100\n",
      "50/50 [==============================] - 0s 2ms/step - loss: 0.3850 - mse: 0.3850\n",
      "Epoch 64/100\n",
      "50/50 [==============================] - 0s 2ms/step - loss: 0.3889 - mse: 0.3889\n",
      "Epoch 65/100\n",
      "50/50 [==============================] - 0s 2ms/step - loss: 0.3877 - mse: 0.3877\n",
      "Epoch 66/100\n",
      "50/50 [==============================] - 0s 1ms/step - loss: 0.3876 - mse: 0.3876\n",
      "Epoch 67/100\n",
      "50/50 [==============================] - 0s 1ms/step - loss: 0.3862 - mse: 0.3862\n",
      "Epoch 68/100\n",
      "50/50 [==============================] - 0s 2ms/step - loss: 0.3850 - mse: 0.3850\n",
      "Epoch 69/100\n",
      "50/50 [==============================] - 0s 2ms/step - loss: 0.3860 - mse: 0.3860\n",
      "Epoch 70/100\n",
      "50/50 [==============================] - 0s 2ms/step - loss: 0.3882 - mse: 0.3882\n",
      "Epoch 71/100\n",
      "50/50 [==============================] - 0s 2ms/step - loss: 0.3851 - mse: 0.3851\n",
      "Epoch 72/100\n",
      "50/50 [==============================] - 0s 2ms/step - loss: 0.3871 - mse: 0.3871\n",
      "Epoch 73/100\n",
      "50/50 [==============================] - 0s 2ms/step - loss: 0.3859 - mse: 0.3859\n",
      "Epoch 74/100\n",
      "50/50 [==============================] - 0s 2ms/step - loss: 0.3860 - mse: 0.3860\n",
      "Epoch 75/100\n",
      "50/50 [==============================] - 0s 1ms/step - loss: 0.3845 - mse: 0.3845\n",
      "Epoch 76/100\n",
      "50/50 [==============================] - 0s 2ms/step - loss: 0.3871 - mse: 0.3871\n",
      "Epoch 77/100\n",
      "50/50 [==============================] - 0s 2ms/step - loss: 0.3831 - mse: 0.3831\n",
      "Epoch 78/100\n",
      "50/50 [==============================] - 0s 2ms/step - loss: 0.3828 - mse: 0.3828\n",
      "Epoch 79/100\n",
      "50/50 [==============================] - 0s 2ms/step - loss: 0.3843 - mse: 0.3843\n",
      "Epoch 80/100\n",
      "50/50 [==============================] - 0s 2ms/step - loss: 0.3850 - mse: 0.3850\n",
      "Epoch 81/100\n",
      "50/50 [==============================] - 0s 2ms/step - loss: 0.3843 - mse: 0.3843\n",
      "Epoch 82/100\n",
      "50/50 [==============================] - 0s 1ms/step - loss: 0.3849 - mse: 0.3849\n",
      "Epoch 83/100\n",
      "50/50 [==============================] - 0s 1ms/step - loss: 0.3838 - mse: 0.3838\n",
      "Epoch 84/100\n",
      "50/50 [==============================] - 0s 1ms/step - loss: 0.3798 - mse: 0.3798\n",
      "Epoch 85/100\n",
      "50/50 [==============================] - 0s 1ms/step - loss: 0.3854 - mse: 0.3854\n",
      "Epoch 86/100\n",
      "50/50 [==============================] - 0s 2ms/step - loss: 0.3812 - mse: 0.3812\n",
      "Epoch 87/100\n",
      "50/50 [==============================] - 0s 1ms/step - loss: 0.3802 - mse: 0.3802\n",
      "Epoch 88/100\n",
      "50/50 [==============================] - 0s 1ms/step - loss: 0.3808 - mse: 0.3808\n",
      "Epoch 89/100\n",
      "50/50 [==============================] - 0s 1ms/step - loss: 0.3801 - mse: 0.3801\n",
      "Epoch 90/100\n",
      "50/50 [==============================] - 0s 1ms/step - loss: 0.3803 - mse: 0.3803\n",
      "Epoch 91/100\n",
      "50/50 [==============================] - 0s 1ms/step - loss: 0.3810 - mse: 0.3810\n",
      "Epoch 92/100\n",
      "50/50 [==============================] - 0s 1ms/step - loss: 0.3807 - mse: 0.3807\n",
      "Epoch 93/100\n",
      "50/50 [==============================] - 0s 2ms/step - loss: 0.3808 - mse: 0.3808\n",
      "Epoch 94/100\n",
      "50/50 [==============================] - 0s 1ms/step - loss: 0.3812 - mse: 0.3812\n",
      "Epoch 95/100\n",
      "50/50 [==============================] - 0s 1ms/step - loss: 0.3797 - mse: 0.3797\n",
      "Epoch 96/100\n",
      "50/50 [==============================] - 0s 1ms/step - loss: 0.3801 - mse: 0.3801\n",
      "Epoch 97/100\n",
      "50/50 [==============================] - 0s 1ms/step - loss: 0.3815 - mse: 0.3815\n",
      "Epoch 98/100\n",
      "50/50 [==============================] - 0s 1ms/step - loss: 0.3799 - mse: 0.3799\n",
      "Epoch 99/100\n",
      "50/50 [==============================] - 0s 1ms/step - loss: 0.3774 - mse: 0.3774\n",
      "Epoch 100/100\n",
      "50/50 [==============================] - 0s 1ms/step - loss: 0.3788 - mse: 0.3788\n",
      "training done.\n",
      "CPU times: user 13.4 s, sys: 1.02 s, total: 14.5 s\n",
      "Wall time: 8.68 s\n"
     ]
    }
   ],
   "source": [
    "%%time\n",
    "\n",
    "print (\"training starting ...\")\n",
    "\n",
    "# Fitting the RNN to the Training set\n",
    "history = model.fit(x_train, y_train, epochs=100, batch_size=16,\n",
    "                   callbacks = [tensorboard_callback])\n",
    "\n",
    "print (\"training done.\")"
   ]
  },
  {
   "cell_type": "markdown",
   "metadata": {},
   "source": [
    "## Training History"
   ]
  },
  {
   "cell_type": "code",
   "execution_count": 15,
   "metadata": {},
   "outputs": [
    {
     "data": {
      "image/png": "[encoded data removed]",
      "text/plain": [
       "<Figure size 432x288 with 1 Axes>"
      ]
     },
     "metadata": {
      "needs_background": "light"
     },
     "output_type": "display_data"
    }
   ],
   "source": [
    "%matplotlib inline\n",
    "import matplotlib.pyplot as plt\n",
    "\n",
    "plt.plot(history.history['mse'], label='mse')\n",
    "plt.legend()\n",
    "plt.show()"
   ]
  },
  {
   "cell_type": "markdown",
   "metadata": {},
   "source": [
    "## Prediction"
   ]
  },
  {
   "cell_type": "code",
   "execution_count": 16,
   "metadata": {},
   "outputs": [
    {
     "name": "stdout",
     "output_type": "stream",
     "text": [
      "[[ 0.7558]\n",
      " [ 0.6884]\n",
      " [ 1.1440]\n",
      " [ 1.2529]\n",
      " [ 1.0287]\n",
      " [ 1.0514]\n",
      " [ 1.0955]\n",
      " [ 1.1676]\n",
      " [ 0.9688]\n",
      " [ 1.3966]]\n"
     ]
    }
   ],
   "source": [
    "predict_train = model.predict(x_train)\n",
    "predict_test= model.predict(x_test)\n",
    "\n",
    "predicted=np.concatenate((predict_train,predict_test),axis=0)\n",
    "\n",
    "print (predicted[:10])\n"
   ]
  },
  {
   "cell_type": "markdown",
   "metadata": {},
   "source": [
    "## Evaluate"
   ]
  },
  {
   "cell_type": "code",
   "execution_count": 17,
   "metadata": {},
   "outputs": [
    {
     "name": "stdout",
     "output_type": "stream",
     "text": [
      "train_score [0.3782018721103668, 0.3782018721103668]\n",
      "test_score [0.38556796312332153, 0.38556796312332153]\n"
     ]
    }
   ],
   "source": [
    "train_score = model.evaluate(x_train, y_train, verbose=0)\n",
    "test_score = model.evaluate(x_test, y_test, verbose=0)\n",
    "\n",
    "print (\"train_score\", train_score)\n",
    "print (\"test_score\", test_score)"
   ]
  },
  {
   "cell_type": "code",
   "execution_count": 18,
   "metadata": {},
   "outputs": [
    {
     "name": "stdout",
     "output_type": "stream",
     "text": [
      "model metrics :  ['loss', 'mse']\n",
      "Train Metric : loss = 0.38\n",
      "Train Metric : mse = 0.38\n",
      "Test Metric : loss = 0.39\n",
      "Test Metric : mse = 0.39\n"
     ]
    }
   ],
   "source": [
    "metric_names = model.metrics_names\n",
    "print (\"model metrics : \" , metric_names)\n",
    "\n",
    "train_metrics = model.evaluate(x_train, y_train, verbose=0)\n",
    "for idx, metric in enumerate(metric_names):\n",
    "    print (\"Train Metric : {} = {:,.2f}\".format (metric_names[idx], train_metrics[idx]))\n",
    "    \n",
    "test_metrics = model.evaluate(x_test, y_test, verbose=0)\n",
    "for idx, metric in enumerate(metric_names):\n",
    "    print (\"Test Metric : {} = {:,.2f}\".format (metric_names[idx], test_metrics[idx]))"
   ]
  },
  {
   "cell_type": "markdown",
   "metadata": {},
   "source": [
    "## Plot"
   ]
  },
  {
   "cell_type": "code",
   "execution_count": 19,
   "metadata": {},
   "outputs": [
    {
     "data": {
      "image/png": "[encoded data removed]",
      "text/plain": [
       "<Figure size 432x288 with 1 Axes>"
      ]
     },
     "metadata": {
      "needs_background": "light"
     },
     "output_type": "display_data"
    }
   ],
   "source": [
    "index = df_orig.index.values\n",
    "plt.plot(df_orig)\n",
    "plt.plot(predicted)\n",
    "plt.axvline(df_orig.index[training_samples], c=\"r\")\n",
    "plt.show()"
   ]
  },
  {
   "cell_type": "code",
   "execution_count": null,
   "metadata": {},
   "outputs": [],
   "source": []
  }
 ],
 "metadata": {
  "kernelspec": {
   "display_name": "Python 3",
   "language": "python",
   "name": "python3"
  },
  "language_info": {
   "codemirror_mode": {
    "name": "ipython",
    "version": 3
   },
   "file_extension": ".py",
   "mimetype": "text/x-python",
   "name": "python",
   "nbconvert_exporter": "python",
   "pygments_lexer": "ipython3",
   "version": "3.8.2"
  }
 },
 "nbformat": 4,
 "nbformat_minor": 4
}
