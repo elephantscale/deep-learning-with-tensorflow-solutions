{
 "cells": [
  {
   "cell_type": "markdown",
   "metadata": {},
   "source": [
    "# Lab: Using Long Short-term Memory (LSTM) for predicting the next price in stock market"
   ]
  },
  {
   "cell_type": "code",
   "execution_count": 1,
   "metadata": {},
   "outputs": [
    {
     "name": "stderr",
     "output_type": "stream",
     "text": [
      "Using TensorFlow backend.\n"
     ]
    }
   ],
   "source": [
    "from __future__ import absolute_import, division, print_function, unicode_literals\n",
    "\n",
    "try:\n",
    "  # %tensorflow_version only exists in Colab.\n",
    "  %tensorflow_version 2.x\n",
    "except Exception:\n",
    "  pass\n",
    "\n",
    "#!pip install -q tensorflow-gpu==2.0.0-beta1\n",
    "import tensorflow as tf\n",
    "import datetime\n",
    "from tensorflow.keras import datasets, layers, models\n",
    "import tensorflow as tf\n",
    "import numpy as np\n",
    "import matplotlib.pyplot as plt\n",
    "import keras\n",
    "import datetime\n",
    "from tensorflow.python.keras.callbacks import TensorBoard\n",
    "from tensorflow.python.keras.layers.core import Dense, Activation, Dropout\n",
    "from tensorflow.python.keras.layers.recurrent import LSTM\n",
    "from tensorflow.python.keras.models import Sequential\n",
    "import time #helper libraries"
   ]
  },
  {
   "cell_type": "code",
   "execution_count": 2,
   "metadata": {},
   "outputs": [
    {
     "name": "stdout",
     "output_type": "stream",
     "text": [
      "Running in Google COLAB :  False\n"
     ]
    }
   ],
   "source": [
    "# Install the package for running tensorboard on google colaboration\n",
    "try:\n",
    "    import google.colab\n",
    "    IN_COLAB = True\n",
    "except:\n",
    "    IN_COLAB = False\n",
    "\n",
    "print (\"Running in Google COLAB : \", IN_COLAB)\n",
    "\n",
    "if IN_COLAB:\n",
    "    !pip install -q tf-nightly-2.0-preview\n",
    "    # Load the TensorBoard notebook extension\n",
    "    %tensorflow_version 2.x"
   ]
  },
  {
   "cell_type": "markdown",
   "metadata": {},
   "source": [
    "## Step 1: Dataset\n",
    "### 1.1 - Load the Data\n",
    "\n",
    "Here we are going to load the data. To do this we will be creating windows of size 50.  This means that we will be creating sequences of size 50 from the input data as our training examples.\n",
    "\n",
    "We are also going to normalize the data within each window. This is because the long-term direction of the market will ultimately change (we hope it will get higher), and we want the magnitude to be apples-to-apples across windows."
   ]
  },
  {
   "cell_type": "code",
   "execution_count": 3,
   "metadata": {},
   "outputs": [
    {
     "name": "stdout",
     "output_type": "stream",
     "text": [
      "--2019-09-12 03:56:13--  https://s3.amazonaws.com/elephantscale-public/data/stocks/sp500.csv\n",
      "Resolving s3.amazonaws.com (s3.amazonaws.com)... 52.216.229.37\n",
      "Connecting to s3.amazonaws.com (s3.amazonaws.com)|52.216.229.37|:443... connected.\n",
      "HTTP request sent, awaiting response... 200 OK\n",
      "Length: 48119 (47K) [text/csv]\n",
      "Saving to: ‘sp500.csv’\n",
      "\n",
      "sp500.csv           100%[===================>]  46.99K  --.-KB/s    in 0.08s   \n",
      "\n",
      "2019-09-12 03:56:14 (609 KB/s) - ‘sp500.csv’ saved [48119/48119]\n",
      "\n"
     ]
    }
   ],
   "source": [
    "# Run this cell if you need to get the data\n",
    "\n",
    "!wget https://s3.amazonaws.com/elephantscale-public/data/stocks/sp500.csv\n",
    "\n"
   ]
  },
  {
   "cell_type": "code",
   "execution_count": 4,
   "metadata": {},
   "outputs": [],
   "source": [
    "def normalise_windows(window_data):\n",
    "    normalised_data = []\n",
    "    for window in window_data:\n",
    "        normalised_window = [((float(p) / float(window[0])) - 1) for p in window]\n",
    "        normalised_data.append(normalised_window)\n",
    "    return normalised_data\n",
    "\n",
    "\n",
    "def load_data(filename, seq_len, normalise_window):\n",
    "    f = open(filename, 'r').read()\n",
    "    data = f.split('\\n')\n",
    "\n",
    "    sequence_length = seq_len + 1\n",
    "    result = []\n",
    "    for index in range(len(data) - sequence_length):\n",
    "        result.append(data[index: index + sequence_length])\n",
    "    \n",
    "    if normalise_window:\n",
    "        result = normalise_windows(result)\n",
    "\n",
    "    result = np.array(result)\n",
    "\n",
    "    row = round(0.9 * result.shape[0])\n",
    "    train = result[:int(row), :]\n",
    "    np.random.shuffle(train)\n",
    "    x_train = train[:, :-1]\n",
    "    y_train = train[:, -1]\n",
    "    x_test = result[int(row):, :-1]\n",
    "    y_test = result[int(row):, -1]\n",
    "\n",
    "    x_train = np.reshape(x_train, (x_train.shape[0], x_train.shape[1], 1))\n",
    "    x_test = np.reshape(x_test, (x_test.shape[0], x_test.shape[1], 1))  \n",
    "\n",
    "    return [x_train, y_train, x_test, y_test]"
   ]
  },
  {
   "cell_type": "markdown",
   "metadata": {},
   "source": [
    "### 1.2 - Split the data"
   ]
  },
  {
   "cell_type": "code",
   "execution_count": 5,
   "metadata": {},
   "outputs": [],
   "source": [
    "URL = 'sp500.csv'\n",
    "X_train, y_train, X_test, y_test = load_data(URL, 50, True)"
   ]
  },
  {
   "cell_type": "markdown",
   "metadata": {},
   "source": [
    "## Step 2: Build the model\n",
    "\n",
    "Let's build the model.  We have two LSTM layers of size 50 and 100, respectively.\n",
    "\n",
    "`return_sequences` means that we will pass the hidden state of the LSTM to the next layer. This is required if we are going to have a stacked series of LSTM layers, as we are doing in this case.\n",
    "\n",
    "The final layer is a dense (fully-connected) layer, with an output of 1. This is because we are ultimately trying to predict the next value in the stock market (a regression problem). We use `linear` activation because this is a regression problem and we are trying to get a real number output.\n"
   ]
  },
  {
   "cell_type": "code",
   "execution_count": 6,
   "metadata": {},
   "outputs": [
    {
     "name": "stdout",
     "output_type": "stream",
     "text": [
      "compilation time :  0.011394262313842773\n"
     ]
    }
   ],
   "source": [
    "#Step 2 Build Model\n",
    "model = Sequential()\n",
    "\n",
    "model.add(LSTM(\n",
    "    input_shape=(None,1),\n",
    "    units=50,\n",
    "    return_sequences=True))\n",
    "model.add(Dropout(0.2))\n",
    "\n",
    "model.add(LSTM(\n",
    "    100,\n",
    "    return_sequences=False))\n",
    "model.add(Dropout(0.2))\n",
    "\n",
    "model.add(Dense(\n",
    "    units=1))\n",
    "model.add(Activation('linear'))\n",
    "\n",
    "start = time.time()\n",
    "model.compile(loss='mse', optimizer='rmsprop')\n",
    "print('compilation time : ', time.time() - start)"
   ]
  },
  {
   "cell_type": "markdown",
   "metadata": {},
   "source": [
    "## Step 3: Setup Tensorboard"
   ]
  },
  {
   "cell_type": "code",
   "execution_count": 7,
   "metadata": {},
   "outputs": [
    {
     "name": "stdout",
     "output_type": "stream",
     "text": [
      "Saving TB logs to :  /tmp/tensorboard-logs/lstm-stocks/2019-09-12--03-56-15\n"
     ]
    }
   ],
   "source": [
    "## This is fairly boiler plate code\n",
    "\n",
    "import datetime\n",
    "import os\n",
    "\n",
    "app_name = 'lstm-stocks' # you can change this, if you like\n",
    "\n",
    "tb_top_level_dir= '/tmp/tensorboard-logs'\n",
    "tensorboard_logs_dir= os.path.join (tb_top_level_dir, app_name, \n",
    "                                    datetime.datetime.now().strftime(\"%Y-%m-%d--%H-%M-%S\"))\n",
    "print (\"Saving TB logs to : \" , tensorboard_logs_dir)\n",
    "\n",
    "tensorboard_callback = tf.keras.callbacks.TensorBoard(log_dir=tensorboard_logs_dir, histogram_freq=1)\n"
   ]
  },
  {
   "cell_type": "markdown",
   "metadata": {},
   "source": [
    "## Step 4: Train the Model\n",
    "\n",
    "**=> TODO: Train the model for some number of epochs**\n",
    "\n",
    "Don't run too long. Something less than 10 will finish quickly enough.\n"
   ]
  },
  {
   "cell_type": "code",
   "execution_count": 8,
   "metadata": {},
   "outputs": [
    {
     "name": "stdout",
     "output_type": "stream",
     "text": [
      "Train on 3523 samples, validate on 186 samples\n",
      "Epoch 1/10\n",
      "WARNING:tensorflow:From /home/ubuntu/apps/anaconda/envs/tf2/lib/python3.7/site-packages/tensorflow_core/python/ops/math_grad.py:1424: where (from tensorflow.python.ops.array_ops) is deprecated and will be removed in a future version.\n",
      "Instructions for updating:\n",
      "Use tf.where in 2.0, which has the same broadcast rule as np.where\n",
      "WARNING:tensorflow:Entity <function Function._initialize_uninitialized_variables.<locals>.initialize_variables at 0x7fd4700589e0> could not be transformed and will be executed as-is. Please report this to the AutoGraph team. When filing the bug, set the verbosity to 10 (on Linux, `export AUTOGRAPH_VERBOSITY=10`) and attach the full output. Cause: module 'gast' has no attribute 'Num'\n",
      "WARNING: Entity <function Function._initialize_uninitialized_variables.<locals>.initialize_variables at 0x7fd4700589e0> could not be transformed and will be executed as-is. Please report this to the AutoGraph team. When filing the bug, set the verbosity to 10 (on Linux, `export AUTOGRAPH_VERBOSITY=10`) and attach the full output. Cause: module 'gast' has no attribute 'Num'\n",
      " 512/3523 [===>..........................] - ETA: 20s - loss: 0.0070WARNING:tensorflow:Method (on_train_batch_end) is slow compared to the batch update (0.522744). Check your callbacks.\n",
      "3523/3523 [==============================] - 6s 2ms/sample - loss: 0.0030 - val_loss: 9.8444e-04\n",
      "Epoch 2/10\n",
      "3523/3523 [==============================] - 1s 292us/sample - loss: 7.8091e-04 - val_loss: 5.4088e-04\n",
      "Epoch 3/10\n",
      "3523/3523 [==============================] - 1s 298us/sample - loss: 7.5570e-04 - val_loss: 5.7610e-04\n",
      "Epoch 4/10\n",
      "3523/3523 [==============================] - 1s 304us/sample - loss: 6.0490e-04 - val_loss: 3.6976e-04\n",
      "Epoch 5/10\n",
      "3523/3523 [==============================] - 1s 290us/sample - loss: 5.1579e-04 - val_loss: 4.4312e-04\n",
      "Epoch 6/10\n",
      "3523/3523 [==============================] - 1s 311us/sample - loss: 7.0390e-04 - val_loss: 3.3490e-04\n",
      "Epoch 7/10\n",
      "3523/3523 [==============================] - 1s 288us/sample - loss: 4.4356e-04 - val_loss: 3.4340e-04\n",
      "Epoch 8/10\n",
      "3523/3523 [==============================] - 1s 290us/sample - loss: 5.1787e-04 - val_loss: 3.8135e-04\n",
      "Epoch 9/10\n",
      "3523/3523 [==============================] - 1s 294us/sample - loss: 4.2654e-04 - val_loss: 4.1583e-04\n",
      "Epoch 10/10\n",
      "3523/3523 [==============================] - 1s 294us/sample - loss: 5.2413e-04 - val_loss: 3.7503e-04\n"
     ]
    },
    {
     "data": {
      "text/plain": [
       "<tensorflow.python.keras.callbacks.History at 0x7fd47005e710>"
      ]
     },
     "execution_count": 8,
     "metadata": {},
     "output_type": "execute_result"
    }
   ],
   "source": [
    "#Step 3 Train the model\n",
    "\n",
    "model.fit(X_train,\n",
    "          y_train,\n",
    "          batch_size=512,\n",
    "          epochs=10,\n",
    "          validation_split=0.05,\n",
    "          callbacks=[tensorboard_callback])"
   ]
  },
  {
   "cell_type": "markdown",
   "metadata": {},
   "source": [
    "## Step 5: Predict"
   ]
  },
  {
   "cell_type": "code",
   "execution_count": 9,
   "metadata": {},
   "outputs": [],
   "source": [
    "#Step 4 - Make Predictions  By steps of 50, before advancing another 50 steps\n",
    "\n",
    "def predict_sequences_multiple(model, data, window_size, prediction_len):\n",
    "    #Predict sequence of 50 steps before shifting prediction run forward by 50 steps\n",
    "    prediction_seqs = []\n",
    "    for i in range(len(data)//prediction_len):\n",
    "        curr_frame = data[i*int(prediction_len)]\n",
    "        predicted = []\n",
    "        for j in range(int(prediction_len)):\n",
    "            predicted.append(model.predict(curr_frame[np.newaxis,:,:])[0,0])\n",
    "            curr_frame = curr_frame[1:]\n",
    "            curr_frame = np.insert(curr_frame, [window_size-1], predicted[-1], axis=0)\n",
    "        prediction_seqs.append(predicted)\n",
    "    return prediction_seqs\n",
    "\n",
    "\n",
    "predictions = predict_sequences_multiple(model, X_test, 50, 50)\n"
   ]
  },
  {
   "cell_type": "markdown",
   "metadata": {},
   "source": [
    "## Step 6: Plot the Predictions\n",
    "\n",
    "See the results.  The results here show a series of validation, seeing if we had trained the model up to a point, and then predicting *from* that point.  \n",
    "\n",
    "The results here won't be very accurate, so definitely don't **trade** on this model!  The goal is to see if the model got the general sense of the direction of the market **from that point**.   There will be some hits and misses here; that is to be expected."
   ]
  },
  {
   "cell_type": "code",
   "execution_count": 16,
   "metadata": {},
   "outputs": [
    {
     "data": {
      "image/png": "[encoded data removed]",
      "text/plain": [
       "<Figure size 432x288 with 1 Axes>"
      ]
     },
     "metadata": {},
     "output_type": "display_data"
    }
   ],
   "source": [
    "# Step 5 -- Plot predictions\n",
    "def plot_results_multiple(predicted_data, true_data, prediction_len):\n",
    "    fig = plt.figure(facecolor='white')\n",
    "    ax = fig.add_subplot(111)\n",
    "    ax.plot(true_data, label='True Data')\n",
    "    #Pad the list of predictions to shift it in the graph to it's correct start\n",
    "    for i, data in enumerate(predicted_data):\n",
    "        padding = [None for p in range(i * prediction_len)]\n",
    "        plt.plot(padding + data, label='Prediction')\n",
    "        plt.legend(loc='best')\n",
    "    plt.show()\n",
    "\n",
    "plot_results_multiple(predictions, y_test, 50)"
   ]
  },
  {
   "cell_type": "markdown",
   "metadata": {},
   "source": [
    "## Step 7: Run Tensorboard"
   ]
  },
  {
   "cell_type": "code",
   "execution_count": 11,
   "metadata": {},
   "outputs": [],
   "source": [
    "if IN_COLAB:\n",
    "    %tensorboard --logdir /tmp/tensorboard-logs"
   ]
  },
  {
   "cell_type": "markdown",
   "metadata": {},
   "source": [
    "If you use this notebook local please click the following link:\n",
    "    http://35.161.161.147:6006"
   ]
  }
 ],
 "metadata": {
  "kernelspec": {
   "display_name": "tf2",
   "language": "python",
   "name": "tf2"
  },
  "language_info": {
   "codemirror_mode": {
    "name": "ipython",
    "version": 3
   },
   "file_extension": ".py",
   "mimetype": "text/x-python",
   "name": "python",
   "nbconvert_exporter": "python",
   "pygments_lexer": "ipython3",
   "version": "3.7.4"
  }
 },
 "nbformat": 4,
 "nbformat_minor": 4
}
