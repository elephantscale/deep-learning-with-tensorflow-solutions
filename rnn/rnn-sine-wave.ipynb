{
 "cells": [
  {
   "cell_type": "markdown",
   "metadata": {},
   "source": [
    "# RNN Sine Wave\n",
    "\n",
    "### Overview\n",
    "Predict a simple sine wave using RNN\n",
    "\n",
    "Adopted with thanks from [here](https://www.datatechnotes.com/2018/12/rnn-example-with-keras-simplernn-in.html)"
   ]
  },
  {
   "cell_type": "code",
   "execution_count": 1,
   "metadata": {},
   "outputs": [],
   "source": [
    "import pandas as pd\n",
    "import numpy as np\n",
    "import matplotlib.pyplot as plt\n",
    "\n",
    "import tensorflow as tf\n",
    "from tensorflow import keras\n",
    "\n",
    "# number formats\n",
    "pd.options.display.float_format = '{:,.4f}'.format\n",
    "np.set_printoptions(formatter={'float': '{: 0.4f}'.format})"
   ]
  },
  {
   "cell_type": "markdown",
   "metadata": {},
   "source": [
    "## Generate some data"
   ]
  },
  {
   "cell_type": "code",
   "execution_count": 2,
   "metadata": {},
   "outputs": [
    {
     "data": {
      "text/html": [
       "<div>\n",
       "<style scoped>\n",
       "    .dataframe tbody tr th:only-of-type {\n",
       "        vertical-align: middle;\n",
       "    }\n",
       "\n",
       "    .dataframe tbody tr th {\n",
       "        vertical-align: top;\n",
       "    }\n",
       "\n",
       "    .dataframe thead th {\n",
       "        text-align: right;\n",
       "    }\n",
       "</style>\n",
       "<table border=\"1\" class=\"dataframe\">\n",
       "  <thead>\n",
       "    <tr style=\"text-align: right;\">\n",
       "      <th></th>\n",
       "      <th>0</th>\n",
       "    </tr>\n",
       "  </thead>\n",
       "  <tbody>\n",
       "    <tr>\n",
       "      <th>0</th>\n",
       "      <td>1.6565</td>\n",
       "    </tr>\n",
       "    <tr>\n",
       "      <th>1</th>\n",
       "      <td>1.1690</td>\n",
       "    </tr>\n",
       "    <tr>\n",
       "      <th>2</th>\n",
       "      <td>0.7687</td>\n",
       "    </tr>\n",
       "    <tr>\n",
       "      <th>3</th>\n",
       "      <td>0.6216</td>\n",
       "    </tr>\n",
       "    <tr>\n",
       "      <th>4</th>\n",
       "      <td>1.0349</td>\n",
       "    </tr>\n",
       "    <tr>\n",
       "      <th>...</th>\n",
       "      <td>...</td>\n",
       "    </tr>\n",
       "    <tr>\n",
       "      <th>995</th>\n",
       "      <td>1.5161</td>\n",
       "    </tr>\n",
       "    <tr>\n",
       "      <th>996</th>\n",
       "      <td>1.1259</td>\n",
       "    </tr>\n",
       "    <tr>\n",
       "      <th>997</th>\n",
       "      <td>1.8623</td>\n",
       "    </tr>\n",
       "    <tr>\n",
       "      <th>998</th>\n",
       "      <td>0.9390</td>\n",
       "    </tr>\n",
       "    <tr>\n",
       "      <th>999</th>\n",
       "      <td>2.0677</td>\n",
       "    </tr>\n",
       "  </tbody>\n",
       "</table>\n",
       "<p>1000 rows × 1 columns</p>\n",
       "</div>"
      ],
      "text/plain": [
       "         0\n",
       "0   1.6565\n",
       "1   1.1690\n",
       "2   0.7687\n",
       "3   0.6216\n",
       "4   1.0349\n",
       "..     ...\n",
       "995 1.5161\n",
       "996 1.1259\n",
       "997 1.8623\n",
       "998 0.9390\n",
       "999 2.0677\n",
       "\n",
       "[1000 rows x 1 columns]"
      ]
     },
     "execution_count": 2,
     "metadata": {},
     "output_type": "execute_result"
    }
   ],
   "source": [
    "# Generate 1000 samples\n",
    "samples = 1000    \n",
    "training_samples = 800    \n",
    "\n",
    "t=np.arange(0,samples)\n",
    "\n",
    "## Generating a sine wave, with some noise \n",
    "x=np.sin(0.02*t)+2*np.random.rand(samples)\n",
    "\n",
    "## print data\n",
    "df_orig = pd.DataFrame(x)\n",
    "df_orig\n"
   ]
  },
  {
   "cell_type": "code",
   "execution_count": 3,
   "metadata": {},
   "outputs": [
    {
     "data": {
      "image/png": "[encoded data removed]",
      "text/plain": [
       "<Figure size 432x288 with 1 Axes>"
      ]
     },
     "metadata": {
      "needs_background": "light"
     },
     "output_type": "display_data"
    }
   ],
   "source": [
    "## plot data\n",
    "plt.plot(df_orig)\n",
    "plt.show() "
   ]
  },
  {
   "cell_type": "markdown",
   "metadata": {},
   "source": [
    "## Train / Test split"
   ]
  },
  {
   "cell_type": "code",
   "execution_count": 4,
   "metadata": {},
   "outputs": [
    {
     "name": "stdout",
     "output_type": "stream",
     "text": [
      "values: [[ 1.1690]\n",
      " [ 0.7687]\n",
      " [ 0.6216]\n",
      " [ 1.0349]\n",
      " [ 0.1124]\n",
      " [ 1.3249]\n",
      " [ 0.2906]\n",
      " [ 1.1567]\n",
      " [ 0.8384]\n",
      " [ 0.2623]\n",
      " [ 0.5491]\n",
      " [ 0.4954]\n",
      " [ 0.9406]\n",
      " [ 2.1358]\n",
      " [ 1.5935]\n",
      " [ 1.3424]\n",
      " [ 1.3145]\n",
      " [ 1.0486]\n",
      " [ 0.5519]]\n",
      "train size 800\n",
      "test size 200\n"
     ]
    }
   ],
   "source": [
    "## Create train / test values\n",
    "\n",
    "values=df_orig.values\n",
    "train,test = values[0:training_samples,:], values[training_samples:samples,:]\n",
    "\n",
    "print (\"values:\" , values[1:20])\n",
    "print ('train size', len(train))\n",
    "print ('test size', len(test))"
   ]
  },
  {
   "cell_type": "code",
   "execution_count": 5,
   "metadata": {},
   "outputs": [
    {
     "name": "stdout",
     "output_type": "stream",
     "text": [
      "train size 804\n",
      "test size 204\n"
     ]
    }
   ],
   "source": [
    "## padding the data\n",
    "step = 4\n",
    "# add step elements into train and test\n",
    "test = np.append(test,np.repeat(test[-1,],step))\n",
    "train = np.append(train,np.repeat(train[-1,],step))\n",
    "\n",
    "print (\"train size\", len(train))\n",
    "print (\"test size\", len(test))"
   ]
  },
  {
   "cell_type": "code",
   "execution_count": 6,
   "metadata": {},
   "outputs": [
    {
     "data": {
      "text/plain": [
       "array([ 1.6565,  1.1690,  0.7687,  0.6216,  1.0349,  0.1124,  1.3249,\n",
       "        0.2906,  1.1567,  0.8384,  0.2623,  0.5491,  0.4954,  0.9406,\n",
       "        2.1358,  1.5935,  1.3424,  1.3145,  1.0486,  0.5519,  0.9634,\n",
       "        1.7153,  1.4317,  1.7139,  0.5758,  1.8879,  2.2357,  1.3755,\n",
       "        0.6216,  1.8446])"
      ]
     },
     "execution_count": 6,
     "metadata": {},
     "output_type": "execute_result"
    }
   ],
   "source": [
    "## see some data\n",
    "## compare with original data\n",
    "train[:30]"
   ]
  },
  {
   "cell_type": "code",
   "execution_count": 7,
   "metadata": {},
   "outputs": [
    {
     "name": "stdout",
     "output_type": "stream",
     "text": [
      "x_train.shape (800, 4)\n",
      "y_train.shape (800,)\n",
      "x_test.shape (200, 4)\n",
      "y_test.shape (200,)\n"
     ]
    }
   ],
   "source": [
    "## vectorize the data\n",
    "\n",
    "def convertToMatrix(data, step):\n",
    " X, Y =[], []\n",
    " for i in range(len(data)-step):\n",
    "  d=i+step  \n",
    "  X.append(data[i:d,])\n",
    "  Y.append(data[d,])\n",
    " return np.array(X), np.array(Y)\n",
    "\n",
    "x_train,y_train =convertToMatrix(train,step)\n",
    "x_test,y_test =convertToMatrix(test,step)\n",
    "\n",
    "print (\"x_train.shape\", x_train.shape)\n",
    "print (\"y_train.shape\", y_train.shape)\n",
    "print (\"x_test.shape\", x_test.shape)\n",
    "print (\"y_test.shape\", y_test.shape)"
   ]
  },
  {
   "cell_type": "code",
   "execution_count": 8,
   "metadata": {},
   "outputs": [
    {
     "data": {
      "text/html": [
       "<div>\n",
       "<style scoped>\n",
       "    .dataframe tbody tr th:only-of-type {\n",
       "        vertical-align: middle;\n",
       "    }\n",
       "\n",
       "    .dataframe tbody tr th {\n",
       "        vertical-align: top;\n",
       "    }\n",
       "\n",
       "    .dataframe thead th {\n",
       "        text-align: right;\n",
       "    }\n",
       "</style>\n",
       "<table border=\"1\" class=\"dataframe\">\n",
       "  <thead>\n",
       "    <tr style=\"text-align: right;\">\n",
       "      <th></th>\n",
       "      <th>0</th>\n",
       "      <th>1</th>\n",
       "      <th>2</th>\n",
       "      <th>3</th>\n",
       "    </tr>\n",
       "  </thead>\n",
       "  <tbody>\n",
       "    <tr>\n",
       "      <th>1.0349</th>\n",
       "      <td>1.6565</td>\n",
       "      <td>1.1690</td>\n",
       "      <td>0.7687</td>\n",
       "      <td>0.6216</td>\n",
       "    </tr>\n",
       "    <tr>\n",
       "      <th>0.1124</th>\n",
       "      <td>1.1690</td>\n",
       "      <td>0.7687</td>\n",
       "      <td>0.6216</td>\n",
       "      <td>1.0349</td>\n",
       "    </tr>\n",
       "    <tr>\n",
       "      <th>1.3249</th>\n",
       "      <td>0.7687</td>\n",
       "      <td>0.6216</td>\n",
       "      <td>1.0349</td>\n",
       "      <td>0.1124</td>\n",
       "    </tr>\n",
       "    <tr>\n",
       "      <th>0.2906</th>\n",
       "      <td>0.6216</td>\n",
       "      <td>1.0349</td>\n",
       "      <td>0.1124</td>\n",
       "      <td>1.3249</td>\n",
       "    </tr>\n",
       "    <tr>\n",
       "      <th>1.1567</th>\n",
       "      <td>1.0349</td>\n",
       "      <td>0.1124</td>\n",
       "      <td>1.3249</td>\n",
       "      <td>0.2906</td>\n",
       "    </tr>\n",
       "    <tr>\n",
       "      <th>...</th>\n",
       "      <td>...</td>\n",
       "      <td>...</td>\n",
       "      <td>...</td>\n",
       "      <td>...</td>\n",
       "    </tr>\n",
       "    <tr>\n",
       "      <th>-0.0575</th>\n",
       "      <td>0.3849</td>\n",
       "      <td>0.7801</td>\n",
       "      <td>0.6373</td>\n",
       "      <td>0.8977</td>\n",
       "    </tr>\n",
       "    <tr>\n",
       "      <th>-0.0575</th>\n",
       "      <td>0.7801</td>\n",
       "      <td>0.6373</td>\n",
       "      <td>0.8977</td>\n",
       "      <td>-0.0575</td>\n",
       "    </tr>\n",
       "    <tr>\n",
       "      <th>-0.0575</th>\n",
       "      <td>0.6373</td>\n",
       "      <td>0.8977</td>\n",
       "      <td>-0.0575</td>\n",
       "      <td>-0.0575</td>\n",
       "    </tr>\n",
       "    <tr>\n",
       "      <th>-0.0575</th>\n",
       "      <td>0.8977</td>\n",
       "      <td>-0.0575</td>\n",
       "      <td>-0.0575</td>\n",
       "      <td>-0.0575</td>\n",
       "    </tr>\n",
       "    <tr>\n",
       "      <th>-0.0575</th>\n",
       "      <td>-0.0575</td>\n",
       "      <td>-0.0575</td>\n",
       "      <td>-0.0575</td>\n",
       "      <td>-0.0575</td>\n",
       "    </tr>\n",
       "  </tbody>\n",
       "</table>\n",
       "<p>800 rows × 4 columns</p>\n",
       "</div>"
      ],
      "text/plain": [
       "              0       1       2       3\n",
       "1.0349   1.6565  1.1690  0.7687  0.6216\n",
       "0.1124   1.1690  0.7687  0.6216  1.0349\n",
       "1.3249   0.7687  0.6216  1.0349  0.1124\n",
       "0.2906   0.6216  1.0349  0.1124  1.3249\n",
       "1.1567   1.0349  0.1124  1.3249  0.2906\n",
       "...         ...     ...     ...     ...\n",
       "-0.0575  0.3849  0.7801  0.6373  0.8977\n",
       "-0.0575  0.7801  0.6373  0.8977 -0.0575\n",
       "-0.0575  0.6373  0.8977 -0.0575 -0.0575\n",
       "-0.0575  0.8977 -0.0575 -0.0575 -0.0575\n",
       "-0.0575 -0.0575 -0.0575 -0.0575 -0.0575\n",
       "\n",
       "[800 rows x 4 columns]"
      ]
     },
     "execution_count": 8,
     "metadata": {},
     "output_type": "execute_result"
    }
   ],
   "source": [
    "## See data\n",
    "df = pd.DataFrame(x_train, y_train)\n",
    "df"
   ]
  },
  {
   "cell_type": "code",
   "execution_count": 9,
   "metadata": {},
   "outputs": [
    {
     "name": "stdout",
     "output_type": "stream",
     "text": [
      "x_train.shape (800, 1, 4)\n",
      "y_train.shape (800,)\n",
      "x_test.shape (200, 1, 4)\n",
      "y_test.shape (200,)\n"
     ]
    }
   ],
   "source": [
    "## Finally, we'll reshape trainX and testX to fit with the Keras model. \n",
    "## RNN model requires three-dimensional input data.\n",
    "\n",
    "x_train = np.reshape(x_train, (x_train.shape[0], 1, x_train.shape[1]))\n",
    "x_test = np.reshape(x_test, (x_test.shape[0], 1, x_test.shape[1]))\n",
    "\n",
    "print (\"x_train.shape\", x_train.shape)\n",
    "print (\"y_train.shape\", y_train.shape)\n",
    "print (\"x_test.shape\", x_test.shape)\n",
    "print (\"y_test.shape\", y_test.shape)"
   ]
  },
  {
   "cell_type": "markdown",
   "metadata": {},
   "source": [
    "## Build RNN"
   ]
  },
  {
   "cell_type": "code",
   "execution_count": 10,
   "metadata": {},
   "outputs": [
    {
     "name": "stdout",
     "output_type": "stream",
     "text": [
      "Model: \"sequential\"\n",
      "_________________________________________________________________\n",
      "Layer (type)                 Output Shape              Param #   \n",
      "=================================================================\n",
      "simple_rnn (SimpleRNN)       (None, 32)                1184      \n",
      "_________________________________________________________________\n",
      "dense (Dense)                (None, 8)                 264       \n",
      "_________________________________________________________________\n",
      "dense_1 (Dense)              (None, 1)                 9         \n",
      "=================================================================\n",
      "Total params: 1,457\n",
      "Trainable params: 1,457\n",
      "Non-trainable params: 0\n",
      "_________________________________________________________________\n"
     ]
    },
    {
     "data": {
      "image/png": "[encoded data removed]",
      "text/plain": [
       "<IPython.core.display.Image object>"
      ]
     },
     "execution_count": 10,
     "metadata": {},
     "output_type": "execute_result"
    }
   ],
   "source": [
    "model = keras.models.Sequential()\n",
    "model.add(keras.layers.SimpleRNN(units=32, input_shape=(1,step), activation=\"relu\"))\n",
    "model.add(keras.layers.Dense(8, activation=\"relu\")) \n",
    "model.add(keras.layers.Dense(1))\n",
    "model.compile(optimizer='rmsprop', loss = 'mse', metrics=['mse'])\n",
    "model.summary()\n",
    "tf.keras.utils.plot_model(model, to_file='model.png', show_shapes=True)"
   ]
  },
  {
   "cell_type": "markdown",
   "metadata": {},
   "source": [
    "## Train"
   ]
  },
  {
   "cell_type": "code",
   "execution_count": 11,
   "metadata": {},
   "outputs": [
    {
     "name": "stdout",
     "output_type": "stream",
     "text": [
      "training starting ...\n",
      "Train on 800 samples\n",
      "Epoch 1/100\n",
      "800/800 [==============================] - 1s 1ms/sample - loss: 1.3962 - mse: 1.3962\n",
      "Epoch 2/100\n",
      "800/800 [==============================] - 0s 231us/sample - loss: 0.4745 - mse: 0.4745\n",
      "Epoch 3/100\n",
      "800/800 [==============================] - 0s 206us/sample - loss: 0.4073 - mse: 0.4073\n",
      "Epoch 4/100\n",
      "800/800 [==============================] - 0s 240us/sample - loss: 0.4037 - mse: 0.4037\n",
      "Epoch 5/100\n",
      "800/800 [==============================] - 0s 278us/sample - loss: 0.3992 - mse: 0.3992\n",
      "Epoch 6/100\n",
      "800/800 [==============================] - 0s 212us/sample - loss: 0.3972 - mse: 0.3972\n",
      "Epoch 7/100\n",
      "800/800 [==============================] - 0s 218us/sample - loss: 0.3950 - mse: 0.3950\n",
      "Epoch 8/100\n",
      "800/800 [==============================] - 0s 221us/sample - loss: 0.3930 - mse: 0.3930\n",
      "Epoch 9/100\n",
      "800/800 [==============================] - 0s 228us/sample - loss: 0.3929 - mse: 0.3929\n",
      "Epoch 10/100\n",
      "800/800 [==============================] - 0s 257us/sample - loss: 0.3899 - mse: 0.3899\n",
      "Epoch 11/100\n",
      "800/800 [==============================] - 0s 306us/sample - loss: 0.3877 - mse: 0.3877\n",
      "Epoch 12/100\n",
      "800/800 [==============================] - 0s 239us/sample - loss: 0.3873 - mse: 0.3873\n",
      "Epoch 13/100\n",
      "800/800 [==============================] - 0s 181us/sample - loss: 0.3886 - mse: 0.3886\n",
      "Epoch 14/100\n",
      "800/800 [==============================] - 0s 217us/sample - loss: 0.3872 - mse: 0.3872\n",
      "Epoch 15/100\n",
      "800/800 [==============================] - 0s 218us/sample - loss: 0.3844 - mse: 0.3844\n",
      "Epoch 16/100\n",
      "800/800 [==============================] - 0s 248us/sample - loss: 0.3845 - mse: 0.3845\n",
      "Epoch 17/100\n",
      "800/800 [==============================] - 0s 198us/sample - loss: 0.3850 - mse: 0.3850\n",
      "Epoch 18/100\n",
      "800/800 [==============================] - 0s 217us/sample - loss: 0.3832 - mse: 0.3832\n",
      "Epoch 19/100\n",
      "800/800 [==============================] - 0s 191us/sample - loss: 0.3830 - mse: 0.3830\n",
      "Epoch 20/100\n",
      "800/800 [==============================] - 0s 198us/sample - loss: 0.3813 - mse: 0.3813\n",
      "Epoch 21/100\n",
      "800/800 [==============================] - 0s 200us/sample - loss: 0.3813 - mse: 0.3813\n",
      "Epoch 22/100\n",
      "800/800 [==============================] - 0s 226us/sample - loss: 0.3804 - mse: 0.3804\n",
      "Epoch 23/100\n",
      "800/800 [==============================] - 0s 203us/sample - loss: 0.3792 - mse: 0.3792\n",
      "Epoch 24/100\n",
      "800/800 [==============================] - 0s 295us/sample - loss: 0.3791 - mse: 0.3791\n",
      "Epoch 25/100\n",
      "800/800 [==============================] - 0s 193us/sample - loss: 0.3785 - mse: 0.3785\n",
      "Epoch 26/100\n",
      "800/800 [==============================] - 0s 201us/sample - loss: 0.3779 - mse: 0.3779\n",
      "Epoch 27/100\n",
      "800/800 [==============================] - 0s 243us/sample - loss: 0.3775 - mse: 0.3775\n",
      "Epoch 28/100\n",
      "800/800 [==============================] - 0s 200us/sample - loss: 0.3774 - mse: 0.3774\n",
      "Epoch 29/100\n",
      "800/800 [==============================] - 0s 317us/sample - loss: 0.3748 - mse: 0.3748\n",
      "Epoch 30/100\n",
      "800/800 [==============================] - 0s 299us/sample - loss: 0.3741 - mse: 0.3741\n",
      "Epoch 31/100\n",
      "800/800 [==============================] - 0s 243us/sample - loss: 0.3757 - mse: 0.3757\n",
      "Epoch 32/100\n",
      "800/800 [==============================] - 0s 291us/sample - loss: 0.3738 - mse: 0.3738\n",
      "Epoch 33/100\n",
      "800/800 [==============================] - 0s 236us/sample - loss: 0.3717 - mse: 0.3717\n",
      "Epoch 34/100\n",
      "800/800 [==============================] - 0s 312us/sample - loss: 0.3721 - mse: 0.3721\n",
      "Epoch 35/100\n",
      "800/800 [==============================] - 0s 285us/sample - loss: 0.3721 - mse: 0.3721\n",
      "Epoch 36/100\n",
      "800/800 [==============================] - 0s 236us/sample - loss: 0.3722 - mse: 0.3722\n",
      "Epoch 37/100\n",
      "800/800 [==============================] - 0s 247us/sample - loss: 0.3710 - mse: 0.3710\n",
      "Epoch 38/100\n",
      "800/800 [==============================] - 0s 246us/sample - loss: 0.3705 - mse: 0.3705\n",
      "Epoch 39/100\n",
      "800/800 [==============================] - 0s 306us/sample - loss: 0.3686 - mse: 0.3686\n",
      "Epoch 40/100\n",
      "800/800 [==============================] - 0s 199us/sample - loss: 0.3695 - mse: 0.3695\n",
      "Epoch 41/100\n",
      "800/800 [==============================] - 0s 198us/sample - loss: 0.3694 - mse: 0.3694\n",
      "Epoch 42/100\n",
      "800/800 [==============================] - 0s 250us/sample - loss: 0.3693 - mse: 0.3693\n",
      "Epoch 43/100\n",
      "800/800 [==============================] - 0s 241us/sample - loss: 0.3668 - mse: 0.3668\n",
      "Epoch 44/100\n",
      "800/800 [==============================] - 0s 271us/sample - loss: 0.3685 - mse: 0.3685\n",
      "Epoch 45/100\n",
      "800/800 [==============================] - 0s 229us/sample - loss: 0.3654 - mse: 0.3654\n",
      "Epoch 46/100\n",
      "800/800 [==============================] - 0s 229us/sample - loss: 0.3665 - mse: 0.3665\n",
      "Epoch 47/100\n",
      "800/800 [==============================] - 0s 264us/sample - loss: 0.3679 - mse: 0.3679\n",
      "Epoch 48/100\n",
      "800/800 [==============================] - 0s 233us/sample - loss: 0.3653 - mse: 0.3653\n",
      "Epoch 49/100\n",
      "800/800 [==============================] - 0s 238us/sample - loss: 0.3638 - mse: 0.3638\n",
      "Epoch 50/100\n",
      "800/800 [==============================] - 0s 214us/sample - loss: 0.3642 - mse: 0.3642\n",
      "Epoch 51/100\n",
      "800/800 [==============================] - 0s 236us/sample - loss: 0.3660 - mse: 0.3660\n",
      "Epoch 52/100\n",
      "800/800 [==============================] - 0s 362us/sample - loss: 0.3642 - mse: 0.3642\n",
      "Epoch 53/100\n",
      "800/800 [==============================] - 0s 289us/sample - loss: 0.3617 - mse: 0.3617\n",
      "Epoch 54/100\n",
      "800/800 [==============================] - 0s 229us/sample - loss: 0.3621 - mse: 0.3621\n",
      "Epoch 55/100\n",
      "800/800 [==============================] - 0s 229us/sample - loss: 0.3607 - mse: 0.3607\n",
      "Epoch 56/100\n",
      "800/800 [==============================] - 0s 219us/sample - loss: 0.3625 - mse: 0.3625\n",
      "Epoch 57/100\n",
      "800/800 [==============================] - 0s 225us/sample - loss: 0.3619 - mse: 0.3619\n",
      "Epoch 58/100\n",
      "800/800 [==============================] - 0s 240us/sample - loss: 0.3617 - mse: 0.3617\n",
      "Epoch 59/100\n",
      "800/800 [==============================] - 0s 538us/sample - loss: 0.3594 - mse: 0.3594\n",
      "Epoch 60/100\n",
      "800/800 [==============================] - 0s 216us/sample - loss: 0.3598 - mse: 0.3598\n",
      "Epoch 61/100\n",
      "800/800 [==============================] - 0s 290us/sample - loss: 0.3601 - mse: 0.3601\n",
      "Epoch 62/100\n",
      "800/800 [==============================] - 0s 252us/sample - loss: 0.3594 - mse: 0.3594\n",
      "Epoch 63/100\n",
      "800/800 [==============================] - 0s 249us/sample - loss: 0.3609 - mse: 0.3609\n",
      "Epoch 64/100\n",
      "800/800 [==============================] - 0s 235us/sample - loss: 0.3600 - mse: 0.3600\n",
      "Epoch 65/100\n",
      "800/800 [==============================] - 0s 294us/sample - loss: 0.3585 - mse: 0.3585\n",
      "Epoch 66/100\n",
      "800/800 [==============================] - 0s 287us/sample - loss: 0.3579 - mse: 0.3579\n",
      "Epoch 67/100\n",
      "800/800 [==============================] - 0s 249us/sample - loss: 0.3584 - mse: 0.3584\n",
      "Epoch 68/100\n",
      "800/800 [==============================] - 0s 306us/sample - loss: 0.3585 - mse: 0.3585\n",
      "Epoch 69/100\n",
      "800/800 [==============================] - 0s 257us/sample - loss: 0.3574 - mse: 0.3574\n",
      "Epoch 70/100\n",
      "800/800 [==============================] - 0s 262us/sample - loss: 0.3563 - mse: 0.3563\n",
      "Epoch 71/100\n",
      "800/800 [==============================] - 0s 191us/sample - loss: 0.3569 - mse: 0.3569\n",
      "Epoch 72/100\n",
      "800/800 [==============================] - 0s 248us/sample - loss: 0.3564 - mse: 0.3564\n",
      "Epoch 73/100\n",
      "800/800 [==============================] - 0s 222us/sample - loss: 0.3536 - mse: 0.3536\n",
      "Epoch 74/100\n",
      "800/800 [==============================] - 0s 290us/sample - loss: 0.3564 - mse: 0.3564\n",
      "Epoch 75/100\n",
      "800/800 [==============================] - 0s 255us/sample - loss: 0.3553 - mse: 0.3553\n",
      "Epoch 76/100\n",
      "800/800 [==============================] - 0s 231us/sample - loss: 0.3538 - mse: 0.3538\n",
      "Epoch 77/100\n",
      "800/800 [==============================] - 0s 234us/sample - loss: 0.3554 - mse: 0.3554\n",
      "Epoch 78/100\n",
      "800/800 [==============================] - 0s 225us/sample - loss: 0.3546 - mse: 0.3546\n",
      "Epoch 79/100\n",
      "800/800 [==============================] - 0s 266us/sample - loss: 0.3537 - mse: 0.3537\n",
      "Epoch 80/100\n",
      "800/800 [==============================] - 0s 259us/sample - loss: 0.3524 - mse: 0.3524\n",
      "Epoch 81/100\n",
      "800/800 [==============================] - 0s 235us/sample - loss: 0.3517 - mse: 0.3517\n",
      "Epoch 82/100\n",
      "800/800 [==============================] - 0s 251us/sample - loss: 0.3537 - mse: 0.3537\n",
      "Epoch 83/100\n",
      "800/800 [==============================] - 0s 243us/sample - loss: 0.3527 - mse: 0.3527\n",
      "Epoch 84/100\n",
      "800/800 [==============================] - 0s 254us/sample - loss: 0.3524 - mse: 0.3524\n",
      "Epoch 85/100\n",
      "800/800 [==============================] - 0s 223us/sample - loss: 0.3511 - mse: 0.3511\n",
      "Epoch 86/100\n",
      "800/800 [==============================] - 0s 288us/sample - loss: 0.3521 - mse: 0.3521\n",
      "Epoch 87/100\n",
      "800/800 [==============================] - 0s 244us/sample - loss: 0.3501 - mse: 0.3501\n",
      "Epoch 88/100\n",
      "800/800 [==============================] - 0s 233us/sample - loss: 0.3505 - mse: 0.3505\n",
      "Epoch 89/100\n",
      "800/800 [==============================] - 0s 220us/sample - loss: 0.3512 - mse: 0.3512\n",
      "Epoch 90/100\n",
      "800/800 [==============================] - 0s 231us/sample - loss: 0.3508 - mse: 0.3508\n",
      "Epoch 91/100\n",
      "800/800 [==============================] - 0s 216us/sample - loss: 0.3505 - mse: 0.3505\n",
      "Epoch 92/100\n",
      "800/800 [==============================] - 0s 226us/sample - loss: 0.3483 - mse: 0.3483\n",
      "Epoch 93/100\n",
      "800/800 [==============================] - 0s 187us/sample - loss: 0.3491 - mse: 0.3491\n",
      "Epoch 94/100\n",
      "800/800 [==============================] - 0s 205us/sample - loss: 0.3491 - mse: 0.3491\n",
      "Epoch 95/100\n",
      "800/800 [==============================] - 0s 253us/sample - loss: 0.3493 - mse: 0.3493\n",
      "Epoch 96/100\n",
      "800/800 [==============================] - 0s 223us/sample - loss: 0.3501 - mse: 0.3501\n",
      "Epoch 97/100\n",
      "800/800 [==============================] - 0s 231us/sample - loss: 0.3505 - mse: 0.3505\n",
      "Epoch 98/100\n",
      "800/800 [==============================] - 0s 164us/sample - loss: 0.3494 - mse: 0.3494\n",
      "Epoch 99/100\n",
      "800/800 [==============================] - 0s 194us/sample - loss: 0.3482 - mse: 0.3482\n",
      "Epoch 100/100\n",
      "800/800 [==============================] - 0s 295us/sample - loss: 0.3485 - mse: 0.3485\n",
      "training done.\n",
      "CPU times: user 1min 56s, sys: 2min 54s, total: 4min 51s\n",
      "Wall time: 20.5 s\n"
     ]
    }
   ],
   "source": [
    "%%time\n",
    "\n",
    "print (\"training starting ...\")\n",
    "\n",
    "# Fitting the RNN to the Training set\n",
    "history = model.fit(x_train, y_train, epochs=100, batch_size=16)\n",
    "\n",
    "print (\"training done.\")"
   ]
  },
  {
   "cell_type": "markdown",
   "metadata": {},
   "source": [
    "## Training History"
   ]
  },
  {
   "cell_type": "code",
   "execution_count": 12,
   "metadata": {},
   "outputs": [
    {
     "data": {
      "image/png": "[encoded data removed]",
      "text/plain": [
       "<Figure size 432x288 with 1 Axes>"
      ]
     },
     "metadata": {
      "needs_background": "light"
     },
     "output_type": "display_data"
    }
   ],
   "source": [
    "%matplotlib inline\n",
    "import matplotlib.pyplot as plt\n",
    "\n",
    "plt.plot(history.history['mse'], label='mse')\n",
    "plt.legend()\n",
    "plt.show()"
   ]
  },
  {
   "cell_type": "markdown",
   "metadata": {},
   "source": [
    "## Prediction"
   ]
  },
  {
   "cell_type": "code",
   "execution_count": 13,
   "metadata": {},
   "outputs": [
    {
     "name": "stdout",
     "output_type": "stream",
     "text": [
      "[[ 1.1444]\n",
      " [ 0.8841]\n",
      " [ 0.8980]\n",
      " [ 0.9758]\n",
      " [ 1.0087]\n",
      " [ 0.4280]\n",
      " [ 0.9352]\n",
      " [ 0.5556]\n",
      " [ 0.7442]\n",
      " [ 0.6489]]\n"
     ]
    }
   ],
   "source": [
    "predict_train = model.predict(x_train)\n",
    "predict_test= model.predict(x_test)\n",
    "\n",
    "predicted=np.concatenate((predict_train,predict_test),axis=0)\n",
    "\n",
    "print (predicted[:10])\n"
   ]
  },
  {
   "cell_type": "markdown",
   "metadata": {},
   "source": [
    "## Evaluate"
   ]
  },
  {
   "cell_type": "code",
   "execution_count": 14,
   "metadata": {},
   "outputs": [
    {
     "name": "stdout",
     "output_type": "stream",
     "text": [
      "train_score [0.34043187499046323, 0.34043187]\n",
      "test_score [0.45795602321624757, 0.45795602]\n"
     ]
    }
   ],
   "source": [
    "train_score = model.evaluate(x_train, y_train, verbose=0)\n",
    "test_score = model.evaluate(x_test, y_test, verbose=0)\n",
    "\n",
    "print (\"train_score\", train_score)\n",
    "print (\"test_score\", test_score)"
   ]
  },
  {
   "cell_type": "code",
   "execution_count": 15,
   "metadata": {},
   "outputs": [
    {
     "name": "stdout",
     "output_type": "stream",
     "text": [
      "model metrics :  ['loss', 'mse']\n",
      "Train Metric : loss = 0.34\n",
      "Train Metric : mse = 0.34\n",
      "Test Metric : loss = 0.46\n",
      "Test Metric : mse = 0.46\n"
     ]
    }
   ],
   "source": [
    "metric_names = model.metrics_names\n",
    "print (\"model metrics : \" , metric_names)\n",
    "\n",
    "train_metrics = model.evaluate(x_train, y_train, verbose=0)\n",
    "for idx, metric in enumerate(metric_names):\n",
    "    print (\"Train Metric : {} = {:,.2f}\".format (metric_names[idx], train_metrics[idx]))\n",
    "    \n",
    "test_metrics = model.evaluate(x_test, y_test, verbose=0)\n",
    "for idx, metric in enumerate(metric_names):\n",
    "    print (\"Test Metric : {} = {:,.2f}\".format (metric_names[idx], test_metrics[idx]))"
   ]
  },
  {
   "cell_type": "markdown",
   "metadata": {},
   "source": [
    "## Plot"
   ]
  },
  {
   "cell_type": "code",
   "execution_count": 16,
   "metadata": {},
   "outputs": [
    {
     "data": {
      "image/png": "[encoded data removed]",
      "text/plain": [
       "<Figure size 432x288 with 1 Axes>"
      ]
     },
     "metadata": {
      "needs_background": "light"
     },
     "output_type": "display_data"
    }
   ],
   "source": [
    "index = df_orig.index.values\n",
    "plt.plot(index,df_orig)\n",
    "plt.plot(index,predicted)\n",
    "plt.axvline(df_orig.index[training_samples], c=\"r\")\n",
    "plt.show()"
   ]
  },
  {
   "cell_type": "code",
   "execution_count": null,
   "metadata": {},
   "outputs": [],
   "source": []
  }
 ],
 "metadata": {
  "kernelspec": {
   "display_name": "Python 3",
   "language": "python",
   "name": "python3"
  },
  "language_info": {
   "codemirror_mode": {
    "name": "ipython",
    "version": 3
   },
   "file_extension": ".py",
   "mimetype": "text/x-python",
   "name": "python",
   "nbconvert_exporter": "python",
   "pygments_lexer": "ipython3",
   "version": "3.7.6"
  }
 },
 "nbformat": 4,
 "nbformat_minor": 4
}
