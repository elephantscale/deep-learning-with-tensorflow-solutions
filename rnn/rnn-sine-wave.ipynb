{
 "cells": [
  {
   "cell_type": "markdown",
   "metadata": {},
   "source": [
    "# RNN Sine Wave\n",
    "\n",
    "### Overview\n",
    "Predict a simple sine wave using RNN\n",
    "\n",
    "Adopted with thanks from [here](https://www.datatechnotes.com/2018/12/rnn-example-with-keras-simplernn-in.html)"
   ]
  },
  {
   "cell_type": "code",
   "execution_count": 1,
   "metadata": {},
   "outputs": [],
   "source": [
    "import pandas as pd\n",
    "import numpy as np\n",
    "import matplotlib.pyplot as plt\n",
    "\n",
    "import tensorflow as tf\n",
    "from tensorflow import keras\n",
    "\n",
    "# number formats\n",
    "pd.options.display.float_format = '{:,.4f}'.format\n",
    "np.set_printoptions(formatter={'float': '{: 0.4f}'.format})"
   ]
  },
  {
   "cell_type": "markdown",
   "metadata": {},
   "source": [
    "## Generate some data"
   ]
  },
  {
   "cell_type": "code",
   "execution_count": 2,
   "metadata": {},
   "outputs": [
    {
     "data": {
      "text/html": [
       "<div>\n",
       "<style scoped>\n",
       "    .dataframe tbody tr th:only-of-type {\n",
       "        vertical-align: middle;\n",
       "    }\n",
       "\n",
       "    .dataframe tbody tr th {\n",
       "        vertical-align: top;\n",
       "    }\n",
       "\n",
       "    .dataframe thead th {\n",
       "        text-align: right;\n",
       "    }\n",
       "</style>\n",
       "<table border=\"1\" class=\"dataframe\">\n",
       "  <thead>\n",
       "    <tr style=\"text-align: right;\">\n",
       "      <th></th>\n",
       "      <th>0</th>\n",
       "    </tr>\n",
       "  </thead>\n",
       "  <tbody>\n",
       "    <tr>\n",
       "      <th>0</th>\n",
       "      <td>1.7389</td>\n",
       "    </tr>\n",
       "    <tr>\n",
       "      <th>1</th>\n",
       "      <td>0.8447</td>\n",
       "    </tr>\n",
       "    <tr>\n",
       "      <th>2</th>\n",
       "      <td>1.8159</td>\n",
       "    </tr>\n",
       "    <tr>\n",
       "      <th>3</th>\n",
       "      <td>2.0066</td>\n",
       "    </tr>\n",
       "    <tr>\n",
       "      <th>4</th>\n",
       "      <td>1.2887</td>\n",
       "    </tr>\n",
       "    <tr>\n",
       "      <th>...</th>\n",
       "      <td>...</td>\n",
       "    </tr>\n",
       "    <tr>\n",
       "      <th>995</th>\n",
       "      <td>1.0784</td>\n",
       "    </tr>\n",
       "    <tr>\n",
       "      <th>996</th>\n",
       "      <td>1.7513</td>\n",
       "    </tr>\n",
       "    <tr>\n",
       "      <th>997</th>\n",
       "      <td>2.4331</td>\n",
       "    </tr>\n",
       "    <tr>\n",
       "      <th>998</th>\n",
       "      <td>2.1245</td>\n",
       "    </tr>\n",
       "    <tr>\n",
       "      <th>999</th>\n",
       "      <td>2.2275</td>\n",
       "    </tr>\n",
       "  </tbody>\n",
       "</table>\n",
       "<p>1000 rows × 1 columns</p>\n",
       "</div>"
      ],
      "text/plain": [
       "         0\n",
       "0   1.7389\n",
       "1   0.8447\n",
       "2   1.8159\n",
       "3   2.0066\n",
       "4   1.2887\n",
       "..     ...\n",
       "995 1.0784\n",
       "996 1.7513\n",
       "997 2.4331\n",
       "998 2.1245\n",
       "999 2.2275\n",
       "\n",
       "[1000 rows x 1 columns]"
      ]
     },
     "execution_count": 2,
     "metadata": {},
     "output_type": "execute_result"
    }
   ],
   "source": [
    "# Generate 1000 samples\n",
    "samples = 1000    \n",
    "training_samples = 800    \n",
    "\n",
    "t=np.arange(0,samples)\n",
    "\n",
    "## Generating a sine wave, with some noise \n",
    "x=np.sin(0.02*t)+2*np.random.rand(samples)\n",
    "\n",
    "## print data\n",
    "df_orig = pd.DataFrame(x)\n",
    "df_orig\n"
   ]
  },
  {
   "cell_type": "code",
   "execution_count": 3,
   "metadata": {},
   "outputs": [
    {
     "data": {
      "image/png": "[encoded data removed]",
      "text/plain": [
       "<Figure size 432x288 with 1 Axes>"
      ]
     },
     "metadata": {
      "needs_background": "light"
     },
     "output_type": "display_data"
    }
   ],
   "source": [
    "## plot data\n",
    "plt.plot(df_orig)\n",
    "plt.show() "
   ]
  },
  {
   "cell_type": "markdown",
   "metadata": {},
   "source": [
    "## Train / Test split"
   ]
  },
  {
   "cell_type": "code",
   "execution_count": 4,
   "metadata": {},
   "outputs": [
    {
     "name": "stdout",
     "output_type": "stream",
     "text": [
      "values: [[ 0.8447]\n",
      " [ 1.8159]\n",
      " [ 2.0066]\n",
      " [ 1.2887]\n",
      " [ 1.3688]\n",
      " [ 0.2846]\n",
      " [ 1.9745]\n",
      " [ 0.8086]\n",
      " [ 1.8054]\n",
      " [ 2.1342]\n",
      " [ 1.1864]\n",
      " [ 1.6203]\n",
      " [ 1.8056]\n",
      " [ 0.2940]\n",
      " [ 0.4303]\n",
      " [ 1.4742]\n",
      " [ 0.6626]\n",
      " [ 1.3275]\n",
      " [ 1.1657]]\n",
      "train size 800\n",
      "test size 200\n"
     ]
    }
   ],
   "source": [
    "## Create train / test values\n",
    "\n",
    "values=df_orig.values\n",
    "train,test = values[0:training_samples,:], values[training_samples:samples,:]\n",
    "\n",
    "print (\"values:\" , values[1:20])\n",
    "print ('train size', len(train))\n",
    "print ('test size', len(test))"
   ]
  },
  {
   "cell_type": "code",
   "execution_count": 5,
   "metadata": {},
   "outputs": [
    {
     "name": "stdout",
     "output_type": "stream",
     "text": [
      "train size 804\n",
      "test size 204\n"
     ]
    }
   ],
   "source": [
    "## padding the data\n",
    "step = 4\n",
    "# add step elements into train and test\n",
    "test = np.append(test,np.repeat(test[-1,],step))\n",
    "train = np.append(train,np.repeat(train[-1,],step))\n",
    "\n",
    "print (\"train size\", len(train))\n",
    "print (\"test size\", len(test))"
   ]
  },
  {
   "cell_type": "code",
   "execution_count": 6,
   "metadata": {},
   "outputs": [
    {
     "data": {
      "text/plain": [
       "array([ 1.7389,  0.8447,  1.8159,  2.0066,  1.2887,  1.3688,  0.2846,\n",
       "        1.9745,  0.8086,  1.8054,  2.1342,  1.1864,  1.6203,  1.8056,\n",
       "        0.2940,  0.4303,  1.4742,  0.6626,  1.3275,  1.1657,  0.5245,\n",
       "        0.8568,  1.7796,  0.9046,  1.6615,  0.8674,  1.5417,  1.4486,\n",
       "        1.0060,  0.6436])"
      ]
     },
     "execution_count": 6,
     "metadata": {},
     "output_type": "execute_result"
    }
   ],
   "source": [
    "## see some data\n",
    "## compare with original data\n",
    "train[:30]"
   ]
  },
  {
   "cell_type": "code",
   "execution_count": 7,
   "metadata": {},
   "outputs": [
    {
     "name": "stdout",
     "output_type": "stream",
     "text": [
      "x_train.shape (800, 4)\n",
      "y_train.shape (800,)\n",
      "x_test.shape (200, 4)\n",
      "y_test.shape (200,)\n"
     ]
    }
   ],
   "source": [
    "## vectorize the data\n",
    "\n",
    "def convertToMatrix(data, step):\n",
    " X, Y =[], []\n",
    " for i in range(len(data)-step):\n",
    "  d=i+step  \n",
    "  X.append(data[i:d,])\n",
    "  Y.append(data[d,])\n",
    " return np.array(X), np.array(Y)\n",
    "\n",
    "x_train,y_train =convertToMatrix(train,step)\n",
    "x_test,y_test =convertToMatrix(test,step)\n",
    "\n",
    "print (\"x_train.shape\", x_train.shape)\n",
    "print (\"y_train.shape\", y_train.shape)\n",
    "print (\"x_test.shape\", x_test.shape)\n",
    "print (\"y_test.shape\", y_test.shape)"
   ]
  },
  {
   "cell_type": "code",
   "execution_count": 8,
   "metadata": {},
   "outputs": [
    {
     "data": {
      "text/html": [
       "<div>\n",
       "<style scoped>\n",
       "    .dataframe tbody tr th:only-of-type {\n",
       "        vertical-align: middle;\n",
       "    }\n",
       "\n",
       "    .dataframe tbody tr th {\n",
       "        vertical-align: top;\n",
       "    }\n",
       "\n",
       "    .dataframe thead th {\n",
       "        text-align: right;\n",
       "    }\n",
       "</style>\n",
       "<table border=\"1\" class=\"dataframe\">\n",
       "  <thead>\n",
       "    <tr style=\"text-align: right;\">\n",
       "      <th></th>\n",
       "      <th>0</th>\n",
       "      <th>1</th>\n",
       "      <th>2</th>\n",
       "      <th>3</th>\n",
       "    </tr>\n",
       "  </thead>\n",
       "  <tbody>\n",
       "    <tr>\n",
       "      <th>1.2887</th>\n",
       "      <td>1.7389</td>\n",
       "      <td>0.8447</td>\n",
       "      <td>1.8159</td>\n",
       "      <td>2.0066</td>\n",
       "    </tr>\n",
       "    <tr>\n",
       "      <th>1.3688</th>\n",
       "      <td>0.8447</td>\n",
       "      <td>1.8159</td>\n",
       "      <td>2.0066</td>\n",
       "      <td>1.2887</td>\n",
       "    </tr>\n",
       "    <tr>\n",
       "      <th>0.2846</th>\n",
       "      <td>1.8159</td>\n",
       "      <td>2.0066</td>\n",
       "      <td>1.2887</td>\n",
       "      <td>1.3688</td>\n",
       "    </tr>\n",
       "    <tr>\n",
       "      <th>1.9745</th>\n",
       "      <td>2.0066</td>\n",
       "      <td>1.2887</td>\n",
       "      <td>1.3688</td>\n",
       "      <td>0.2846</td>\n",
       "    </tr>\n",
       "    <tr>\n",
       "      <th>0.8086</th>\n",
       "      <td>1.2887</td>\n",
       "      <td>1.3688</td>\n",
       "      <td>0.2846</td>\n",
       "      <td>1.9745</td>\n",
       "    </tr>\n",
       "    <tr>\n",
       "      <th>...</th>\n",
       "      <td>...</td>\n",
       "      <td>...</td>\n",
       "      <td>...</td>\n",
       "      <td>...</td>\n",
       "    </tr>\n",
       "    <tr>\n",
       "      <th>0.4627</th>\n",
       "      <td>1.6202</td>\n",
       "      <td>-0.0579</td>\n",
       "      <td>1.0820</td>\n",
       "      <td>0.9332</td>\n",
       "    </tr>\n",
       "    <tr>\n",
       "      <th>0.4627</th>\n",
       "      <td>-0.0579</td>\n",
       "      <td>1.0820</td>\n",
       "      <td>0.9332</td>\n",
       "      <td>0.4627</td>\n",
       "    </tr>\n",
       "    <tr>\n",
       "      <th>0.4627</th>\n",
       "      <td>1.0820</td>\n",
       "      <td>0.9332</td>\n",
       "      <td>0.4627</td>\n",
       "      <td>0.4627</td>\n",
       "    </tr>\n",
       "    <tr>\n",
       "      <th>0.4627</th>\n",
       "      <td>0.9332</td>\n",
       "      <td>0.4627</td>\n",
       "      <td>0.4627</td>\n",
       "      <td>0.4627</td>\n",
       "    </tr>\n",
       "    <tr>\n",
       "      <th>0.4627</th>\n",
       "      <td>0.4627</td>\n",
       "      <td>0.4627</td>\n",
       "      <td>0.4627</td>\n",
       "      <td>0.4627</td>\n",
       "    </tr>\n",
       "  </tbody>\n",
       "</table>\n",
       "<p>800 rows × 4 columns</p>\n",
       "</div>"
      ],
      "text/plain": [
       "             0       1      2      3\n",
       "1.2887  1.7389  0.8447 1.8159 2.0066\n",
       "1.3688  0.8447  1.8159 2.0066 1.2887\n",
       "0.2846  1.8159  2.0066 1.2887 1.3688\n",
       "1.9745  2.0066  1.2887 1.3688 0.2846\n",
       "0.8086  1.2887  1.3688 0.2846 1.9745\n",
       "...        ...     ...    ...    ...\n",
       "0.4627  1.6202 -0.0579 1.0820 0.9332\n",
       "0.4627 -0.0579  1.0820 0.9332 0.4627\n",
       "0.4627  1.0820  0.9332 0.4627 0.4627\n",
       "0.4627  0.9332  0.4627 0.4627 0.4627\n",
       "0.4627  0.4627  0.4627 0.4627 0.4627\n",
       "\n",
       "[800 rows x 4 columns]"
      ]
     },
     "execution_count": 8,
     "metadata": {},
     "output_type": "execute_result"
    }
   ],
   "source": [
    "## See data\n",
    "df = pd.DataFrame(x_train, y_train)\n",
    "df"
   ]
  },
  {
   "cell_type": "code",
   "execution_count": 9,
   "metadata": {},
   "outputs": [
    {
     "name": "stdout",
     "output_type": "stream",
     "text": [
      "x_train.shape (800, 1, 4)\n",
      "y_train.shape (800,)\n",
      "x_test.shape (200, 1, 4)\n",
      "y_test.shape (200,)\n"
     ]
    }
   ],
   "source": [
    "## Finally, we'll reshape trainX and testX to fit with the Keras model. \n",
    "## RNN model requires three-dimensional input data.\n",
    "\n",
    "x_train = np.reshape(x_train, (x_train.shape[0], 1, x_train.shape[1]))\n",
    "x_test = np.reshape(x_test, (x_test.shape[0], 1, x_test.shape[1]))\n",
    "\n",
    "print (\"x_train.shape\", x_train.shape)\n",
    "print (\"y_train.shape\", y_train.shape)\n",
    "print (\"x_test.shape\", x_test.shape)\n",
    "print (\"y_test.shape\", y_test.shape)"
   ]
  },
  {
   "cell_type": "markdown",
   "metadata": {},
   "source": [
    "## Build RNN"
   ]
  },
  {
   "cell_type": "code",
   "execution_count": 10,
   "metadata": {},
   "outputs": [
    {
     "name": "stdout",
     "output_type": "stream",
     "text": [
      "Model: \"sequential\"\n",
      "_________________________________________________________________\n",
      "Layer (type)                 Output Shape              Param #   \n",
      "=================================================================\n",
      "simple_rnn (SimpleRNN)       (None, 32)                1184      \n",
      "_________________________________________________________________\n",
      "dense (Dense)                (None, 8)                 264       \n",
      "_________________________________________________________________\n",
      "dense_1 (Dense)              (None, 1)                 9         \n",
      "=================================================================\n",
      "Total params: 1,457\n",
      "Trainable params: 1,457\n",
      "Non-trainable params: 0\n",
      "_________________________________________________________________\n"
     ]
    },
    {
     "data": {
      "image/png": "[encoded data removed]",
      "text/plain": [
       "<IPython.core.display.Image object>"
      ]
     },
     "execution_count": 10,
     "metadata": {},
     "output_type": "execute_result"
    }
   ],
   "source": [
    "model = keras.models.Sequential()\n",
    "model.add(keras.layers.SimpleRNN(units=32, input_shape=(1,step), activation=\"relu\"))\n",
    "model.add(keras.layers.Dense(8, activation=\"relu\")) \n",
    "model.add(keras.layers.Dense(1))\n",
    "model.compile(optimizer='rmsprop', loss = 'mse', metrics=['mse'])\n",
    "model.summary()\n",
    "tf.keras.utils.plot_model(model, to_file='model.png', show_shapes=True)"
   ]
  },
  {
   "cell_type": "markdown",
   "metadata": {},
   "source": [
    "## Setup Tensorboard"
   ]
  },
  {
   "cell_type": "code",
   "execution_count": 11,
   "metadata": {},
   "outputs": [
    {
     "name": "stdout",
     "output_type": "stream",
     "text": [
      "Saving TB logs to :  /tmp/tensorboard-logs/rnn-sine/09-39-34\n"
     ]
    },
    {
     "data": {
      "text/html": [
       "\n",
       "      <iframe id=\"tensorboard-frame-d447742c94b623f1\" width=\"100%\" height=\"800\" frameborder=\"0\">\n",
       "      </iframe>\n",
       "      <script>\n",
       "        (function() {\n",
       "          const frame = document.getElementById(\"tensorboard-frame-d447742c94b623f1\");\n",
       "          const url = new URL(\"/\", window.location);\n",
       "          url.port = 6015;\n",
       "          frame.src = url;\n",
       "        })();\n",
       "      </script>\n",
       "  "
      ],
      "text/plain": [
       "<IPython.core.display.HTML object>"
      ]
     },
     "metadata": {},
     "output_type": "display_data"
    }
   ],
   "source": [
    "## This is fairly boiler plate code\n",
    "\n",
    "import datetime\n",
    "import os\n",
    "import shutil\n",
    "\n",
    "app_name = 'rnn-sine'\n",
    "\n",
    "# timestamp  = datetime.datetime.now().strftime(\"%Y-%m-%d--%H-%M-%S\")\n",
    "\n",
    "tb_top_level_dir= '/tmp/tensorboard-logs'\n",
    "\n",
    "tb_app_dir = os.path.join (tb_top_level_dir, app_name)\n",
    "\n",
    "tb_logs_dir = os.path.join (tb_app_dir, datetime.datetime.now().strftime(\"%H-%M-%S\"))\n",
    "\n",
    "\n",
    "print (\"Saving TB logs to : \" , tb_logs_dir)\n",
    "\n",
    "#clear out old logs\n",
    "shutil.rmtree ( tb_app_dir, ignore_errors=True )\n",
    "\n",
    "tensorboard_callback = tf.keras.callbacks.TensorBoard(log_dir=tb_logs_dir, write_graph=True, \n",
    "                                                      write_images=True, histogram_freq=1)\n",
    "\n",
    "## This will embed Tensorboard right here in jupyter!\n",
    "%load_ext tensorboard\n",
    "%tensorboard --logdir $tb_logs_dir"
   ]
  },
  {
   "cell_type": "markdown",
   "metadata": {},
   "source": [
    "## Train"
   ]
  },
  {
   "cell_type": "code",
   "execution_count": 12,
   "metadata": {},
   "outputs": [
    {
     "name": "stdout",
     "output_type": "stream",
     "text": [
      "training starting ...\n",
      "Epoch 1/100\n",
      "50/50 [==============================] - 0s 7ms/step - loss: 1.1069 - mse: 1.1069\n",
      "Epoch 2/100\n",
      "50/50 [==============================] - 0s 4ms/step - loss: 0.4239 - mse: 0.4239\n",
      "Epoch 3/100\n",
      "50/50 [==============================] - 0s 4ms/step - loss: 0.4113 - mse: 0.4113\n",
      "Epoch 4/100\n",
      "50/50 [==============================] - 0s 5ms/step - loss: 0.4060 - mse: 0.4060\n",
      "Epoch 5/100\n",
      "50/50 [==============================] - 0s 6ms/step - loss: 0.4063 - mse: 0.4063\n",
      "Epoch 6/100\n",
      "50/50 [==============================] - 0s 4ms/step - loss: 0.4057 - mse: 0.4057\n",
      "Epoch 7/100\n",
      "50/50 [==============================] - 0s 4ms/step - loss: 0.4028 - mse: 0.4028\n",
      "Epoch 8/100\n",
      "50/50 [==============================] - 0s 6ms/step - loss: 0.4034 - mse: 0.4034\n",
      "Epoch 9/100\n",
      "50/50 [==============================] - 0s 6ms/step - loss: 0.4012 - mse: 0.4012\n",
      "Epoch 10/100\n",
      "50/50 [==============================] - 1s 12ms/step - loss: 0.4003 - mse: 0.4003\n",
      "Epoch 11/100\n",
      "50/50 [==============================] - 1s 11ms/step - loss: 0.3972 - mse: 0.3972\n",
      "Epoch 12/100\n",
      "50/50 [==============================] - 0s 5ms/step - loss: 0.4005 - mse: 0.4005\n",
      "Epoch 13/100\n",
      "50/50 [==============================] - 0s 5ms/step - loss: 0.3975 - mse: 0.3975\n",
      "Epoch 14/100\n",
      "50/50 [==============================] - 0s 5ms/step - loss: 0.3956 - mse: 0.3956\n",
      "Epoch 15/100\n",
      "50/50 [==============================] - 0s 6ms/step - loss: 0.3957 - mse: 0.3957\n",
      "Epoch 16/100\n",
      "50/50 [==============================] - 0s 3ms/step - loss: 0.3945 - mse: 0.3945\n",
      "Epoch 17/100\n",
      "50/50 [==============================] - 1s 12ms/step - loss: 0.3968 - mse: 0.3968\n",
      "Epoch 18/100\n",
      "50/50 [==============================] - 0s 8ms/step - loss: 0.3969 - mse: 0.3969\n",
      "Epoch 19/100\n",
      "50/50 [==============================] - 0s 9ms/step - loss: 0.3935 - mse: 0.3935\n",
      "Epoch 20/100\n",
      "50/50 [==============================] - 0s 8ms/step - loss: 0.3947 - mse: 0.3947\n",
      "Epoch 21/100\n",
      "50/50 [==============================] - 0s 4ms/step - loss: 0.3931 - mse: 0.3931\n",
      "Epoch 22/100\n",
      "50/50 [==============================] - 0s 5ms/step - loss: 0.3938 - mse: 0.3938\n",
      "Epoch 23/100\n",
      "50/50 [==============================] - 0s 6ms/step - loss: 0.3922 - mse: 0.3922\n",
      "Epoch 24/100\n",
      "50/50 [==============================] - 0s 7ms/step - loss: 0.3925 - mse: 0.3925\n",
      "Epoch 25/100\n",
      "50/50 [==============================] - 0s 4ms/step - loss: 0.3919 - mse: 0.3919\n",
      "Epoch 26/100\n",
      "50/50 [==============================] - 0s 5ms/step - loss: 0.3908 - mse: 0.3908\n",
      "Epoch 27/100\n",
      "50/50 [==============================] - 0s 4ms/step - loss: 0.3919 - mse: 0.3919\n",
      "Epoch 28/100\n",
      "50/50 [==============================] - 0s 6ms/step - loss: 0.3915 - mse: 0.3915\n",
      "Epoch 29/100\n",
      "50/50 [==============================] - 0s 4ms/step - loss: 0.3878 - mse: 0.3878\n",
      "Epoch 30/100\n",
      "50/50 [==============================] - 0s 5ms/step - loss: 0.3876 - mse: 0.3876\n",
      "Epoch 31/100\n",
      "50/50 [==============================] - 0s 4ms/step - loss: 0.3889 - mse: 0.3889\n",
      "Epoch 32/100\n",
      "50/50 [==============================] - 0s 5ms/step - loss: 0.3875 - mse: 0.3875\n",
      "Epoch 33/100\n",
      "50/50 [==============================] - 0s 9ms/step - loss: 0.3871 - mse: 0.3871\n",
      "Epoch 34/100\n",
      "50/50 [==============================] - 0s 8ms/step - loss: 0.3856 - mse: 0.3856\n",
      "Epoch 35/100\n",
      "50/50 [==============================] - 0s 9ms/step - loss: 0.3858 - mse: 0.3858\n",
      "Epoch 36/100\n",
      "50/50 [==============================] - 0s 9ms/step - loss: 0.3850 - mse: 0.3850\n",
      "Epoch 37/100\n",
      "50/50 [==============================] - 1s 13ms/step - loss: 0.3870 - mse: 0.3870\n",
      "Epoch 38/100\n",
      "50/50 [==============================] - 0s 6ms/step - loss: 0.3864 - mse: 0.3864\n",
      "Epoch 39/100\n",
      "50/50 [==============================] - 0s 7ms/step - loss: 0.3868 - mse: 0.3868\n",
      "Epoch 40/100\n",
      "50/50 [==============================] - 0s 4ms/step - loss: 0.3847 - mse: 0.3847\n",
      "Epoch 41/100\n",
      "50/50 [==============================] - 0s 4ms/step - loss: 0.3840 - mse: 0.3840\n",
      "Epoch 42/100\n",
      "50/50 [==============================] - 0s 4ms/step - loss: 0.3832 - mse: 0.3832\n",
      "Epoch 43/100\n",
      "50/50 [==============================] - 0s 4ms/step - loss: 0.3824 - mse: 0.3824\n",
      "Epoch 44/100\n",
      "50/50 [==============================] - 0s 4ms/step - loss: 0.3830 - mse: 0.3830\n",
      "Epoch 45/100\n",
      "50/50 [==============================] - 0s 4ms/step - loss: 0.3797 - mse: 0.3797\n",
      "Epoch 46/100\n",
      "50/50 [==============================] - 0s 6ms/step - loss: 0.3811 - mse: 0.3811\n",
      "Epoch 47/100\n",
      "50/50 [==============================] - 0s 6ms/step - loss: 0.3809 - mse: 0.3809\n",
      "Epoch 48/100\n",
      "50/50 [==============================] - 1s 14ms/step - loss: 0.3812 - mse: 0.3812\n",
      "Epoch 49/100\n",
      "50/50 [==============================] - 1s 10ms/step - loss: 0.3804 - mse: 0.3804\n",
      "Epoch 50/100\n",
      "50/50 [==============================] - 0s 4ms/step - loss: 0.3806 - mse: 0.3806\n",
      "Epoch 51/100\n",
      "50/50 [==============================] - 1s 17ms/step - loss: 0.3804 - mse: 0.3804\n",
      "Epoch 52/100\n",
      "50/50 [==============================] - 1s 15ms/step - loss: 0.3807 - mse: 0.3807\n",
      "Epoch 53/100\n",
      "50/50 [==============================] - 0s 5ms/step - loss: 0.3774 - mse: 0.3774\n",
      "Epoch 54/100\n",
      "50/50 [==============================] - 0s 9ms/step - loss: 0.3782 - mse: 0.3782\n",
      "Epoch 55/100\n",
      "50/50 [==============================] - 0s 4ms/step - loss: 0.3775 - mse: 0.3775\n",
      "Epoch 56/100\n",
      "50/50 [==============================] - 0s 3ms/step - loss: 0.3788 - mse: 0.3788\n",
      "Epoch 57/100\n",
      "50/50 [==============================] - 0s 4ms/step - loss: 0.3771 - mse: 0.3771\n",
      "Epoch 58/100\n",
      "50/50 [==============================] - 0s 3ms/step - loss: 0.3751 - mse: 0.3751\n",
      "Epoch 59/100\n",
      "50/50 [==============================] - 0s 3ms/step - loss: 0.3763 - mse: 0.3763\n",
      "Epoch 60/100\n",
      "50/50 [==============================] - 0s 4ms/step - loss: 0.3772 - mse: 0.3772\n",
      "Epoch 61/100\n",
      "50/50 [==============================] - 0s 5ms/step - loss: 0.3750 - mse: 0.3750\n",
      "Epoch 62/100\n",
      "50/50 [==============================] - 1s 17ms/step - loss: 0.3739 - mse: 0.3739\n",
      "Epoch 63/100\n",
      "50/50 [==============================] - 0s 8ms/step - loss: 0.3764 - mse: 0.3764\n",
      "Epoch 64/100\n",
      "50/50 [==============================] - 1s 11ms/step - loss: 0.3767 - mse: 0.3767\n",
      "Epoch 65/100\n",
      "50/50 [==============================] - 0s 7ms/step - loss: 0.3732 - mse: 0.3732\n",
      "Epoch 66/100\n",
      "50/50 [==============================] - 0s 5ms/step - loss: 0.3741 - mse: 0.3741\n",
      "Epoch 67/100\n",
      "50/50 [==============================] - 0s 6ms/step - loss: 0.3736 - mse: 0.3736\n",
      "Epoch 68/100\n",
      "50/50 [==============================] - 0s 5ms/step - loss: 0.3722 - mse: 0.3722\n",
      "Epoch 69/100\n",
      "50/50 [==============================] - 0s 5ms/step - loss: 0.3717 - mse: 0.3717\n",
      "Epoch 70/100\n",
      "50/50 [==============================] - 0s 6ms/step - loss: 0.3746 - mse: 0.3746\n",
      "Epoch 71/100\n",
      "50/50 [==============================] - 1s 18ms/step - loss: 0.3701 - mse: 0.3701\n",
      "Epoch 72/100\n",
      "50/50 [==============================] - 0s 4ms/step - loss: 0.3724 - mse: 0.3724\n",
      "Epoch 73/100\n",
      "50/50 [==============================] - 0s 4ms/step - loss: 0.3713 - mse: 0.3713\n",
      "Epoch 74/100\n",
      "50/50 [==============================] - 0s 7ms/step - loss: 0.3711 - mse: 0.3711\n",
      "Epoch 75/100\n",
      "50/50 [==============================] - 0s 5ms/step - loss: 0.3713 - mse: 0.3713\n",
      "Epoch 76/100\n",
      "50/50 [==============================] - 1s 16ms/step - loss: 0.3713 - mse: 0.3713\n",
      "Epoch 77/100\n",
      "50/50 [==============================] - 0s 5ms/step - loss: 0.3687 - mse: 0.3687\n",
      "Epoch 78/100\n",
      "50/50 [==============================] - 0s 5ms/step - loss: 0.3708 - mse: 0.3708\n",
      "Epoch 79/100\n",
      "50/50 [==============================] - 0s 5ms/step - loss: 0.3689 - mse: 0.3689\n",
      "Epoch 80/100\n",
      "50/50 [==============================] - 0s 5ms/step - loss: 0.3677 - mse: 0.3677\n",
      "Epoch 81/100\n",
      "50/50 [==============================] - 0s 4ms/step - loss: 0.3685 - mse: 0.3685\n",
      "Epoch 82/100\n",
      "50/50 [==============================] - 0s 4ms/step - loss: 0.3704 - mse: 0.3704\n",
      "Epoch 83/100\n",
      "50/50 [==============================] - 0s 4ms/step - loss: 0.3626 - mse: 0.3626\n",
      "Epoch 84/100\n",
      "50/50 [==============================] - 0s 4ms/step - loss: 0.3667 - mse: 0.3667\n",
      "Epoch 85/100\n",
      "50/50 [==============================] - 0s 4ms/step - loss: 0.3643 - mse: 0.3643\n",
      "Epoch 86/100\n",
      "50/50 [==============================] - 0s 4ms/step - loss: 0.3688 - mse: 0.3688\n",
      "Epoch 87/100\n",
      "50/50 [==============================] - 0s 4ms/step - loss: 0.3666 - mse: 0.3666\n",
      "Epoch 88/100\n",
      "50/50 [==============================] - 0s 4ms/step - loss: 0.3639 - mse: 0.3639\n",
      "Epoch 89/100\n",
      "50/50 [==============================] - 0s 4ms/step - loss: 0.3653 - mse: 0.3653\n",
      "Epoch 90/100\n",
      "50/50 [==============================] - 0s 4ms/step - loss: 0.3670 - mse: 0.3670\n",
      "Epoch 91/100\n",
      "50/50 [==============================] - 0s 5ms/step - loss: 0.3669 - mse: 0.3669\n",
      "Epoch 92/100\n",
      "50/50 [==============================] - 0s 4ms/step - loss: 0.3632 - mse: 0.3632\n",
      "Epoch 93/100\n",
      "50/50 [==============================] - 0s 4ms/step - loss: 0.3654 - mse: 0.3654\n",
      "Epoch 94/100\n",
      "50/50 [==============================] - 0s 4ms/step - loss: 0.3640 - mse: 0.3640\n",
      "Epoch 95/100\n",
      "50/50 [==============================] - 0s 4ms/step - loss: 0.3630 - mse: 0.3630\n",
      "Epoch 96/100\n",
      "50/50 [==============================] - 0s 5ms/step - loss: 0.3608 - mse: 0.3608\n",
      "Epoch 97/100\n",
      "50/50 [==============================] - 0s 4ms/step - loss: 0.3634 - mse: 0.3634\n",
      "Epoch 98/100\n",
      "50/50 [==============================] - 0s 4ms/step - loss: 0.3628 - mse: 0.3628\n",
      "Epoch 99/100\n",
      "50/50 [==============================] - 0s 4ms/step - loss: 0.3622 - mse: 0.3622\n",
      "Epoch 100/100\n",
      "50/50 [==============================] - 0s 4ms/step - loss: 0.3623 - mse: 0.3623\n",
      "training done.\n",
      "CPU times: user 51.8 s, sys: 1min 11s, total: 2min 3s\n",
      "Wall time: 33.9 s\n"
     ]
    }
   ],
   "source": [
    "%%time\n",
    "\n",
    "print (\"training starting ...\")\n",
    "\n",
    "# Fitting the RNN to the Training set\n",
    "history = model.fit(x_train, y_train, epochs=100, batch_size=16,\n",
    "                   callbacks = [tensorboard_callback])\n",
    "\n",
    "print (\"training done.\")"
   ]
  },
  {
   "cell_type": "markdown",
   "metadata": {},
   "source": [
    "## Training History"
   ]
  },
  {
   "cell_type": "code",
   "execution_count": 13,
   "metadata": {},
   "outputs": [
    {
     "data": {
      "image/png": "[encoded data removed]",
      "text/plain": [
       "<Figure size 432x288 with 1 Axes>"
      ]
     },
     "metadata": {
      "needs_background": "light"
     },
     "output_type": "display_data"
    }
   ],
   "source": [
    "%matplotlib inline\n",
    "import matplotlib.pyplot as plt\n",
    "\n",
    "plt.plot(history.history['mse'], label='mse')\n",
    "plt.legend()\n",
    "plt.show()"
   ]
  },
  {
   "cell_type": "markdown",
   "metadata": {},
   "source": [
    "## Prediction"
   ]
  },
  {
   "cell_type": "code",
   "execution_count": 14,
   "metadata": {},
   "outputs": [
    {
     "name": "stdout",
     "output_type": "stream",
     "text": [
      "[[ 1.3861]\n",
      " [ 1.2599]\n",
      " [ 1.5985]\n",
      " [ 1.0020]\n",
      " [ 1.1400]\n",
      " [ 0.9679]\n",
      " [ 1.3486]\n",
      " [ 1.4798]\n",
      " [ 1.2920]\n",
      " [ 1.5944]]\n"
     ]
    }
   ],
   "source": [
    "predict_train = model.predict(x_train)\n",
    "predict_test= model.predict(x_test)\n",
    "\n",
    "predicted=np.concatenate((predict_train,predict_test),axis=0)\n",
    "\n",
    "print (predicted[:10])\n"
   ]
  },
  {
   "cell_type": "markdown",
   "metadata": {},
   "source": [
    "## Evaluate"
   ]
  },
  {
   "cell_type": "code",
   "execution_count": 15,
   "metadata": {},
   "outputs": [
    {
     "name": "stdout",
     "output_type": "stream",
     "text": [
      "train_score [0.3637678921222687, 0.3637678921222687]\n",
      "test_score [0.40003570914268494, 0.40003570914268494]\n"
     ]
    }
   ],
   "source": [
    "train_score = model.evaluate(x_train, y_train, verbose=0)\n",
    "test_score = model.evaluate(x_test, y_test, verbose=0)\n",
    "\n",
    "print (\"train_score\", train_score)\n",
    "print (\"test_score\", test_score)"
   ]
  },
  {
   "cell_type": "code",
   "execution_count": 16,
   "metadata": {},
   "outputs": [
    {
     "name": "stdout",
     "output_type": "stream",
     "text": [
      "model metrics :  ['loss', 'mse']\n",
      "Train Metric : loss = 0.36\n",
      "Train Metric : mse = 0.36\n",
      "Test Metric : loss = 0.40\n",
      "Test Metric : mse = 0.40\n"
     ]
    }
   ],
   "source": [
    "metric_names = model.metrics_names\n",
    "print (\"model metrics : \" , metric_names)\n",
    "\n",
    "train_metrics = model.evaluate(x_train, y_train, verbose=0)\n",
    "for idx, metric in enumerate(metric_names):\n",
    "    print (\"Train Metric : {} = {:,.2f}\".format (metric_names[idx], train_metrics[idx]))\n",
    "    \n",
    "test_metrics = model.evaluate(x_test, y_test, verbose=0)\n",
    "for idx, metric in enumerate(metric_names):\n",
    "    print (\"Test Metric : {} = {:,.2f}\".format (metric_names[idx], test_metrics[idx]))"
   ]
  },
  {
   "cell_type": "markdown",
   "metadata": {},
   "source": [
    "## Plot"
   ]
  },
  {
   "cell_type": "code",
   "execution_count": 17,
   "metadata": {},
   "outputs": [
    {
     "data": {
      "image/png": "[encoded data removed]",
      "text/plain": [
       "<Figure size 432x288 with 1 Axes>"
      ]
     },
     "metadata": {
      "needs_background": "light"
     },
     "output_type": "display_data"
    }
   ],
   "source": [
    "index = df_orig.index.values\n",
    "plt.plot(index,df_orig)\n",
    "plt.plot(index,predicted)\n",
    "plt.axvline(df_orig.index[training_samples], c=\"r\")\n",
    "plt.show()"
   ]
  },
  {
   "cell_type": "code",
   "execution_count": null,
   "metadata": {},
   "outputs": [],
   "source": []
  }
 ],
 "metadata": {
  "kernelspec": {
   "display_name": "Python 3",
   "language": "python",
   "name": "python3"
  },
  "language_info": {
   "codemirror_mode": {
    "name": "ipython",
    "version": 3
   },
   "file_extension": ".py",
   "mimetype": "text/x-python",
   "name": "python",
   "nbconvert_exporter": "python",
   "pygments_lexer": "ipython3",
   "version": "3.7.7"
  }
 },
 "nbformat": 4,
 "nbformat_minor": 4
}
