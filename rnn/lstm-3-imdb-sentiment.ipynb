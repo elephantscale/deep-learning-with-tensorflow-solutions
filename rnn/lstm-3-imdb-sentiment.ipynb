{
 "cells": [
  {
   "cell_type": "markdown",
   "metadata": {},
   "source": [
    "# Lab: Sentiment Analysis by Long Short-Term Memory (LSTM)\n",
    "\n",
    "RNN for Sentiment Analysis!\n",
    "\n",
    "In this lesson, we implement a stacked Long Short-Term Memory (LSTM) recurrent neural network for Sentiment Analysis on the IMDB text dataset."
   ]
  },
  {
   "cell_type": "markdown",
   "metadata": {},
   "source": [
    "<img src=\"images/imdb.png\">"
   ]
  },
  {
   "cell_type": "code",
   "execution_count": 7,
   "metadata": {},
   "outputs": [],
   "source": [
    "try:\n",
    "  # %tensorflow_version only exists in Colab.\n",
    "  %tensorflow_version 2.x\n",
    "except Exception:\n",
    "  pass\n",
    "\n",
    "import  os\n",
    "import  tensorflow as tf\n",
    "import  numpy as np\n",
    "from    tensorflow import keras\n",
    "\n",
    "tf.random.set_seed(22)\n",
    "np.random.seed(22)\n",
    "os.environ['TF_CPP_MIN_LOG_LEVEL'] = '2'\n",
    "assert tf.__version__.startswith('2.')"
   ]
  },
  {
   "cell_type": "code",
   "execution_count": 8,
   "metadata": {},
   "outputs": [
    {
     "name": "stdout",
     "output_type": "stream",
     "text": [
      "Running in Google COLAB :  False\n"
     ]
    }
   ],
   "source": [
    "# Install the package for running tensorboard on google colaboration\n",
    "try:\n",
    "    import google.colab\n",
    "    IN_COLAB = True\n",
    "except:\n",
    "    IN_COLAB = False\n",
    "\n",
    "print (\"Running in Google COLAB : \", IN_COLAB)\n",
    "\n",
    "\n",
    "if IN_COLAB == True:\n",
    "    from tensorboardcolab import *\n",
    "    !pip install -U tensorboardcolab\n",
    "# Load the TensorBoard notebook extension\n",
    "    %load_ext tensorboard"
   ]
  },
  {
   "cell_type": "markdown",
   "metadata": {},
   "source": [
    "### Fix random seed for reproducibility"
   ]
  },
  {
   "cell_type": "markdown",
   "metadata": {},
   "source": [
    "## Step 1: Downlad dataset"
   ]
  },
  {
   "cell_type": "code",
   "execution_count": 9,
   "metadata": {},
   "outputs": [],
   "source": [
    "np.random.seed(7)\n",
    "# load the dataset but only keep the top n words, zero the rest\n",
    "top_words = 10000\n",
    "(X_train, y_train), (X_test, y_test) = keras.datasets.imdb.load_data(num_words=top_words)\n",
    "# X_train = tf.convert_to_tensor(X_train)\n",
    "# y_train = tf.one_hot(y_train, depth=2)\n"
   ]
  },
  {
   "cell_type": "markdown",
   "metadata": {},
   "source": [
    "## Step 2: Explore data"
   ]
  },
  {
   "cell_type": "code",
   "execution_count": 10,
   "metadata": {},
   "outputs": [
    {
     "name": "stdout",
     "output_type": "stream",
     "text": [
      "Pad sequences (samples x time)\n",
      "x_train shape: (25000, 80)\n",
      "x_test shape: (25000, 80)\n"
     ]
    }
   ],
   "source": [
    "\n",
    "# truncate and pad input sequences\n",
    "max_review_length = 80\n",
    "\n",
    "print('Pad sequences (samples x time)')\n",
    "x_train = keras.preprocessing.sequence.pad_sequences(X_train, maxlen=max_review_length)\n",
    "x_test = keras.preprocessing.sequence.pad_sequences(X_test, maxlen=max_review_length)\n",
    "print('x_train shape:', x_train.shape)\n",
    "print('x_test shape:', x_test.shape)"
   ]
  },
  {
   "cell_type": "markdown",
   "metadata": {},
   "source": [
    "## Step 3: Create model"
   ]
  },
  {
   "cell_type": "code",
   "execution_count": 11,
   "metadata": {},
   "outputs": [],
   "source": [
    "class RNN(keras.Model):\n",
    "\n",
    "    def __init__(self, units, num_classes, num_layers):\n",
    "        super(RNN, self).__init__()\n",
    "\n",
    "\n",
    "        # self.cells = [keras.layers.LSTMCell(units) for _ in range(num_layers)]\n",
    "        #\n",
    "        # self.rnn = keras.layers.RNN(self.cells, unroll=True)\n",
    "        self.rnn = keras.layers.LSTM(units, return_sequences=True)\n",
    "        self.rnn2 = keras.layers.LSTM(units)\n",
    "\n",
    "        # self.cells = (keras.layers.LSTMCell(units) for _ in range(num_layers))\n",
    "        # #\n",
    "        # self.rnn = keras.layers.RNN(self.cells, return_sequences=True, return_state=True)\n",
    "        # self.rnn = keras.layers.LSTM(units, unroll=True)\n",
    "        # self.rnn = keras.layers.StackedRNNCells(self.cells)\n",
    "\n",
    "\n",
    "        # have 1000 words totally, every word will be embedding into 100 length vector\n",
    "        # the max sentence lenght is 80 words\n",
    "        self.embedding = keras.layers.Embedding(top_words, 100, input_length=max_review_length)\n",
    "        self.fc = keras.layers.Dense(1)\n",
    "\n",
    "    def call(self, inputs, training=None, mask=None):\n",
    "\n",
    "        # print('x', inputs.shape)\n",
    "        # [b, sentence len] => [b, sentence len, word embedding]\n",
    "        x = self.embedding(inputs)\n",
    "        # print('embedding', x.shape)\n",
    "        x = self.rnn(x) \n",
    "        x = self.rnn2(x) \n",
    "        # print('rnn', x.shape)\n",
    "\n",
    "        x = self.fc(x)\n",
    "        print(x.shape)\n",
    "\n",
    "        return x"
   ]
  },
  {
   "cell_type": "markdown",
   "metadata": {},
   "source": [
    "## Step 4: Train model"
   ]
  },
  {
   "cell_type": "code",
   "execution_count": null,
   "metadata": {},
   "outputs": [],
   "source": [
    "def main():\n",
    "\n",
    "    units = 64\n",
    "    num_classes = 2\n",
    "    batch_size = 32\n",
    "    epochs = 20\n",
    "\n",
    "    model = RNN(units, num_classes, num_layers=2)\n",
    "\n",
    "\n",
    "    model.compile(optimizer=keras.optimizers.Adam(0.001),\n",
    "                  loss=keras.losses.BinaryCrossentropy(from_logits=True),\n",
    "                  metrics=['accuracy'])\n",
    "\n",
    "    # train\n",
    "    model.fit(x_train, y_train, batch_size=batch_size, epochs=epochs,\n",
    "              validation_data=(x_test, y_test), verbose=1)"
   ]
  },
  {
   "cell_type": "markdown",
   "metadata": {},
   "source": [
    "## Step 5: Evaluate "
   ]
  },
  {
   "cell_type": "code",
   "execution_count": null,
   "metadata": {},
   "outputs": [
    {
     "name": "stdout",
     "output_type": "stream",
     "text": [
      "(None, 1)\n",
      "Train on 25000 samples, validate on 25000 samples\n",
      "Epoch 1/20\n",
      "(None, 1)\n",
      "(None, 1)\n",
      "24992/25000 [============================>.] - ETA: 0s - loss: 0.4208 - accuracy: 0.7933(None, 1)\n",
      "25000/25000 [==============================] - 86s 3ms/sample - loss: 0.4209 - accuracy: 0.7932 - val_loss: 0.3735 - val_accuracy: 0.8202\n",
      "Epoch 2/20\n",
      "25000/25000 [==============================] - 81s 3ms/sample - loss: 0.2774 - accuracy: 0.8816 - val_loss: 0.3649 - val_accuracy: 0.8379\n",
      "Epoch 3/20\n",
      "25000/25000 [==============================] - 81s 3ms/sample - loss: 0.1949 - accuracy: 0.9213 - val_loss: 0.4539 - val_accuracy: 0.8292\n",
      "Epoch 4/20\n",
      "25000/25000 [==============================] - 80s 3ms/sample - loss: 0.1317 - accuracy: 0.9477 - val_loss: 0.4900 - val_accuracy: 0.8291\n",
      "Epoch 5/20\n",
      "25000/25000 [==============================] - 81s 3ms/sample - loss: 0.0905 - accuracy: 0.9671 - val_loss: 0.6182 - val_accuracy: 0.8050\n",
      "Epoch 6/20\n",
      "25000/25000 [==============================] - 80s 3ms/sample - loss: 0.0665 - accuracy: 0.9772 - val_loss: 0.5837 - val_accuracy: 0.8112\n",
      "Epoch 7/20\n",
      "25000/25000 [==============================] - 81s 3ms/sample - loss: 0.0473 - accuracy: 0.9847 - val_loss: 0.7464 - val_accuracy: 0.8206\n",
      "Epoch 8/20\n",
      "25000/25000 [==============================] - 81s 3ms/sample - loss: 0.0373 - accuracy: 0.9870 - val_loss: 0.8030 - val_accuracy: 0.8152\n",
      "Epoch 9/20\n",
      "25000/25000 [==============================] - 81s 3ms/sample - loss: 0.0268 - accuracy: 0.9924 - val_loss: 0.9314 - val_accuracy: 0.8142\n",
      "Epoch 10/20\n",
      "25000/25000 [==============================] - 79s 3ms/sample - loss: 0.0259 - accuracy: 0.9924 - val_loss: 0.8653 - val_accuracy: 0.8148\n",
      "Epoch 11/20\n",
      "25000/25000 [==============================] - 77s 3ms/sample - loss: 0.0245 - accuracy: 0.9920 - val_loss: 0.8867 - val_accuracy: 0.8152\n",
      "Epoch 12/20\n",
      "25000/25000 [==============================] - 79s 3ms/sample - loss: 0.0211 - accuracy: 0.9932 - val_loss: 0.9108 - val_accuracy: 0.8147\n",
      "Epoch 13/20\n",
      "25000/25000 [==============================] - 77s 3ms/sample - loss: 0.0166 - accuracy: 0.9948 - val_loss: 1.0029 - val_accuracy: 0.8150\n",
      "Epoch 14/20\n",
      "25000/25000 [==============================] - 78s 3ms/sample - loss: 0.0158 - accuracy: 0.9945 - val_loss: 0.9457 - val_accuracy: 0.8104\n",
      "Epoch 15/20\n",
      "25000/25000 [==============================] - 77s 3ms/sample - loss: 0.0149 - accuracy: 0.9951 - val_loss: 0.9835 - val_accuracy: 0.8215\n",
      "Epoch 16/20\n",
      "25000/25000 [==============================] - 77s 3ms/sample - loss: 0.0127 - accuracy: 0.9959 - val_loss: 1.1360 - val_accuracy: 0.8224\n",
      "Epoch 17/20\n",
      " 6016/25000 [======>.......................] - ETA: 46s - loss: 0.0038 - accuracy: 0.9987"
     ]
    }
   ],
   "source": [
    "    # evaluate on test set\n",
    "    scores = model.evaluate(x_test, y_test, batch_size, verbose=1)\n",
    "    print(\"Final test loss and accuracy :\", scores)\n",
    "\n",
    "\n",
    "\n",
    "\n",
    "if __name__ == '__main__':\n",
    "    main()"
   ]
  },
  {
   "cell_type": "markdown",
   "metadata": {},
   "source": [
    "### Source:\n",
    "https://github.com/dragen1860/TensorFlow-2.x-Tutorials/blob/master/09-RNN-Sentiment-Analysis/main.py"
   ]
  }
 ],
 "metadata": {
  "kernelspec": {
   "display_name": "tf2",
   "language": "python",
   "name": "tf2"
  },
  "language_info": {
   "codemirror_mode": {
    "name": "ipython",
    "version": 3
   },
   "file_extension": ".py",
   "mimetype": "text/x-python",
   "name": "python",
   "nbconvert_exporter": "python",
   "pygments_lexer": "ipython3",
   "version": "3.7.4"
  }
 },
 "nbformat": 4,
 "nbformat_minor": 4
}
