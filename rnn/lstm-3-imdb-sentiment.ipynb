{
 "cells": [
  {
   "cell_type": "markdown",
   "metadata": {},
   "source": [
    "# Using LSTM to analyze sentiments of IMDB Reviews\n",
    "\n",
    "## Overview\n",
    "\n",
    "Use LSTM for sentiment classification\n",
    "\n",
    "## Runtime\n",
    "\n",
    "~30 mins"
   ]
  },
  {
   "cell_type": "code",
   "execution_count": 1,
   "metadata": {},
   "outputs": [
    {
     "name": "stdout",
     "output_type": "stream",
     "text": [
      "tensorflow version : 2.3.0\n",
      "[PhysicalDevice(name='/physical_device:CPU:0', device_type='CPU'), PhysicalDevice(name='/physical_device:XLA_CPU:0', device_type='XLA_CPU'), PhysicalDevice(name='/physical_device:XLA_GPU:0', device_type='XLA_GPU'), PhysicalDevice(name='/physical_device:GPU:0', device_type='GPU')]\n"
     ]
    }
   ],
   "source": [
    "try:\n",
    "  # %tensorflow_version only exists in Colab.\n",
    "  %tensorflow_version 2.x\n",
    "except Exception:\n",
    "  pass\n",
    "\n",
    "import tensorflow as tf\n",
    "from tensorflow import keras\n",
    "print ('tensorflow version :', tf.__version__)\n",
    "print (tf.config.experimental.list_physical_devices())"
   ]
  },
  {
   "cell_type": "markdown",
   "metadata": {},
   "source": [
    "## TF-GPU Debug\n",
    "The following block tests if TF is running on GPU."
   ]
  },
  {
   "cell_type": "code",
   "execution_count": 2,
   "metadata": {},
   "outputs": [
    {
     "name": "stdout",
     "output_type": "stream",
     "text": [
      "Device mapping:\n",
      "/job:localhost/replica:0/task:0/device:XLA_CPU:0 -> device: XLA_CPU device\n",
      "/job:localhost/replica:0/task:0/device:XLA_GPU:0 -> device: XLA_GPU device\n",
      "/job:localhost/replica:0/task:0/device:GPU:0 -> device: 0, name: GeForce RTX 2070, pci bus id: 0000:01:00.0, compute capability: 7.5\n",
      "\n"
     ]
    }
   ],
   "source": [
    "## This block is to tweak TF running on GPU\n",
    "## You may comment this out, if you are not using GPU\n",
    "\n",
    "## ---- start Memory setting ----\n",
    "## Ask TF not to allocate all GPU memory at once.. allocate as needed\n",
    "## Without this the execution will fail with \"failed to initialize algorithm\" error\n",
    "\n",
    "from tensorflow.compat.v1.keras.backend import set_session\n",
    "config = tf.compat.v1.ConfigProto()\n",
    "config.gpu_options.allow_growth = True  # dynamically grow the memory used on the GPU\n",
    "config.log_device_placement = True  # to log device placement (on which device the operation ran)\n",
    "sess = tf.compat.v1.Session(config=config)\n",
    "set_session(sess)\n",
    "## ---- end Memory setting ----"
   ]
  },
  {
   "cell_type": "markdown",
   "metadata": {},
   "source": [
    "## Define Some Parameters"
   ]
  },
  {
   "cell_type": "markdown",
   "metadata": {},
   "source": [
    "## Step 1 - Download Data"
   ]
  },
  {
   "cell_type": "code",
   "execution_count": 3,
   "metadata": {},
   "outputs": [
    {
     "name": "stdout",
     "output_type": "stream",
     "text": [
      "tfds.core.DatasetInfo(\n",
      "    name='imdb_reviews',\n",
      "    version=1.0.0,\n",
      "    description='Large Movie Review Dataset.\n",
      "This is a dataset for binary sentiment classification containing substantially more data than previous benchmark datasets. We provide a set of 25,000 highly polar movie reviews for training, and 25,000 for testing. There is additional unlabeled data for use as well.',\n",
      "    homepage='http://ai.stanford.edu/~amaas/data/sentiment/',\n",
      "    features=FeaturesDict({\n",
      "        'label': ClassLabel(shape=(), dtype=tf.int64, num_classes=2),\n",
      "        'text': Text(shape=(), dtype=tf.string),\n",
      "    }),\n",
      "    total_num_examples=100000,\n",
      "    splits={\n",
      "        'test': 25000,\n",
      "        'train': 25000,\n",
      "        'unsupervised': 50000,\n",
      "    },\n",
      "    supervised_keys=('text', 'label'),\n",
      "    citation=\"\"\"@InProceedings{maas-EtAl:2011:ACL-HLT2011,\n",
      "      author    = {Maas, Andrew L.  and  Daly, Raymond E.  and  Pham, Peter T.  and  Huang, Dan  and  Ng, Andrew Y.  and  Potts, Christopher},\n",
      "      title     = {Learning Word Vectors for Sentiment Analysis},\n",
      "      booktitle = {Proceedings of the 49th Annual Meeting of the Association for Computational Linguistics: Human Language Technologies},\n",
      "      month     = {June},\n",
      "      year      = {2011},\n",
      "      address   = {Portland, Oregon, USA},\n",
      "      publisher = {Association for Computational Linguistics},\n",
      "      pages     = {142--150},\n",
      "      url       = {http://www.aclweb.org/anthology/P11-1015}\n",
      "    }\"\"\",\n",
      "    redistribution_info=,\n",
      ")\n",
      "\n",
      "\n",
      "{'test': <PrefetchDataset shapes: ((), ()), types: (tf.string, tf.int64)>, 'train': <PrefetchDataset shapes: ((), ()), types: (tf.string, tf.int64)>, 'unsupervised': <PrefetchDataset shapes: ((), ()), types: (tf.string, tf.int64)>}\n"
     ]
    }
   ],
   "source": [
    "import tensorflow_datasets as tfds\n",
    "tfds.disable_progress_bar()\n",
    "\n",
    "imdb, info = tfds.load(\"imdb_reviews\", with_info=True, as_supervised=True)\n",
    "\n",
    "print (info)\n",
    "print()\n",
    "print (imdb)"
   ]
  },
  {
   "cell_type": "code",
   "execution_count": 4,
   "metadata": {},
   "outputs": [
    {
     "name": "stdout",
     "output_type": "stream",
     "text": [
      "train_data:  25000\n",
      "test_data:  25000\n"
     ]
    }
   ],
   "source": [
    "train_data, test_data = imdb['train'], imdb['test']\n",
    "\n",
    "print (\"train_data: \", len(train_data))\n",
    "print (\"test_data: \", len(test_data))"
   ]
  },
  {
   "cell_type": "markdown",
   "metadata": {},
   "source": [
    "## Train / Test"
   ]
  },
  {
   "cell_type": "code",
   "execution_count": 5,
   "metadata": {},
   "outputs": [],
   "source": [
    "import numpy as np\n",
    "\n",
    "training_sentences = []\n",
    "training_labels = []\n",
    "\n",
    "testing_sentences = []\n",
    "testing_labels = []\n",
    "\n",
    "# str(s.tonumpy()) is needed in Python3 instead of just s.numpy()\n",
    "for s,l in train_data:\n",
    "  training_sentences.append(s.numpy().decode('utf8'))\n",
    "  training_labels.append(l.numpy())\n",
    "  \n",
    "for s,l in test_data:\n",
    "  testing_sentences.append(s.numpy().decode('utf8'))\n",
    "  testing_labels.append(l.numpy())\n",
    "  \n",
    "training_labels_final = np.array(training_labels)\n",
    "testing_labels_final = np.array(testing_labels)\n"
   ]
  },
  {
   "cell_type": "code",
   "execution_count": 6,
   "metadata": {},
   "outputs": [
    {
     "name": "stdout",
     "output_type": "stream",
     "text": [
      "training_labels_final[23172]\n",
      "1\n",
      "\n",
      "training_sentences[23172]\n",
      "I saw this movie in 1976, my first year of living in New York. I went on to live there for the next 26 years,but never saw anything as delicate and beautiful again as this small TV movie. It was part of a PBS series as I recall, and I've never forgotten it. <br /><br />There are no sex scenes to speak of, just delicate, moving, extraordinarily touching moments full of tension and excitement, all set within a conservative, Boston (I think), World War 1 environment where women played the role of devoted wife awaiting the return of husband from the war, and did not seek out a career and financial independence. Frances Lee McCain is superb in the role of career photographer and I have spent the next 30 odd years searching for her in equally challenging roles to no avail.<br /><br />There has to be a video of this movie? Sure it should be on DVD but surely at least a video?\n"
     ]
    }
   ],
   "source": [
    "## Run this cell a few times to see a few reviews :-) \n",
    "\n",
    "import random\n",
    "\n",
    "index = random.randint(0, len(training_sentences)-1)\n",
    "\n",
    "print ('training_labels_final[{}]\\n{}'.format(index, training_labels_final[index]))\n",
    "print()\n",
    "print ('training_sentences[{}]\\n{}'.format(index, training_sentences[index]))\n"
   ]
  },
  {
   "cell_type": "markdown",
   "metadata": {},
   "source": [
    "## Define Parameters"
   ]
  },
  {
   "cell_type": "code",
   "execution_count": 7,
   "metadata": {},
   "outputs": [],
   "source": [
    "VOCAB_SIZE = 10000 # consider top-N words\n",
    "OOV_TOK = \"<OOV>\"\n",
    "EMBEDDING_DIM = 32\n",
    "MAX_SEQ_LENGTH = 120\n",
    "TRUNC_TYPE='post'\n",
    "PADDING_TYPE='post'"
   ]
  },
  {
   "cell_type": "markdown",
   "metadata": {},
   "source": [
    "## Vectorize Text"
   ]
  },
  {
   "cell_type": "code",
   "execution_count": 8,
   "metadata": {},
   "outputs": [],
   "source": [
    "def sample_from_dict(d, sample=10):\n",
    "    import random\n",
    "    \n",
    "    keys = random.sample(list(d), sample)\n",
    "    values = [d[k] for k in keys]\n",
    "    return dict(zip(keys, values))"
   ]
  },
  {
   "cell_type": "code",
   "execution_count": 9,
   "metadata": {},
   "outputs": [
    {
     "name": "stdout",
     "output_type": "stream",
     "text": [
      "document count : 25000\n",
      "word count : 88582\n",
      "\n",
      "word counts : {'rebarba': 1, 'bakhtiari': 6, 'eliana': 1, 'astronishing': 1, 'contrives': 8, 'ezra': 8, \"colman's\": 12, 'hormone': 8, 'pcp': 2, 'scamp': 2}\n",
      "\n",
      "word index {'weis': 57692, \"weiss's\": 81964, 'acquart': 30224, 'ploys': 40797, \"'smoke'\": 58100, 'disobeying': 31978, \"micheaux's\": 84889, 'brend': 85213, 'cultivated': 19074, 'gambler': 11594}\n"
     ]
    }
   ],
   "source": [
    "## Tokeninze\n",
    "\n",
    "from tensorflow.keras.preprocessing.text import Tokenizer\n",
    "\n",
    "tokenizer = Tokenizer (num_words=VOCAB_SIZE, oov_token=OOV_TOK)\n",
    "tokenizer.fit_on_texts(training_sentences)\n",
    "\n",
    "print ('document count :', tokenizer.document_count)\n",
    "print ('word count :', len(tokenizer.word_counts))\n",
    "\n",
    "print()\n",
    "print ('word counts :', sample_from_dict(tokenizer.word_counts))\n",
    "print()\n",
    "print ('word index', sample_from_dict(tokenizer.word_index))"
   ]
  },
  {
   "cell_type": "code",
   "execution_count": 10,
   "metadata": {},
   "outputs": [
    {
     "name": "stdout",
     "output_type": "stream",
     "text": [
      "max_seq_length_actual : 2493\n",
      "we will limit to MAX_SEQ_LENGTH : 120\n"
     ]
    }
   ],
   "source": [
    "## Pad the sequences\n",
    "\n",
    "from tensorflow.keras.preprocessing.sequence import pad_sequences\n",
    "\n",
    "training_sequences = tokenizer.texts_to_sequences(training_sentences)\n",
    "\n",
    "max_seq_length_actual = max([len(x) for x in training_sequences])\n",
    "\n",
    "print('max_seq_length_actual :', max_seq_length_actual)\n",
    "print ('we will limit to MAX_SEQ_LENGTH :', MAX_SEQ_LENGTH)\n",
    "\n",
    "training_sequences_padded = pad_sequences(training_sequences, maxlen=MAX_SEQ_LENGTH, \n",
    "                                          truncating=TRUNC_TYPE) \n",
    "\n",
    "testing_sequences = tokenizer.texts_to_sequences(testing_sentences)\n",
    "testing_sequences_padded = pad_sequences(testing_sequences,maxlen=MAX_SEQ_LENGTH)\n"
   ]
  },
  {
   "cell_type": "code",
   "execution_count": 11,
   "metadata": {},
   "outputs": [
    {
     "name": "stdout",
     "output_type": "stream",
     "text": [
      "training sentence [13469]\n",
      "Kubrick meets King. It sounded so promising back in the spring of 1980, I remember. Then the movie came out, and the Kubrick cultists have been bickering with the King cultists ever since.<br /><br />The King cultists say Stanley Kubrick took a great horror tale and ruined it. The Kubrick cultists don't give a damn about King's story. They talk about Steadicams, tracking shots, camera angles.This is a film, they insist: It should be considered on its own. As it happens, both camps are correct. Unfortunately.<br /><br />If one views it purely as an adaptation of King's novel, \"The Shining\" is indeed a failure, a wasted opportunity, a series of botched narrative gambits. <br /><br />I used to blame that on Kubrick's screenwriter. The writer Diane Johnson (author of Le Marriage, L'Affaire, Le Divorce, etc.) has a reputation as an novelist of social manners. Maybe she was chosen for her subtle grasp of conjugal relations or family dynamics. But the little blue-collar town of Sidewinder, Colorado doesn't exist on any map in her Francophile universe. <br /><br />Kubrick the Anglophile probably found her congenial, however. He, of course, is the real auteur. And considered on its own merits, his screenplay for \"The Shining\" -- with its mishmash of abnormal psychology, rationalism, supernaturalism, and implied reincarnation -- just doesn't stand up to logical analysis.<br /><br />I'm willing to consider Kubrick's \"Shining\" on its own terms. I'm even willing to take it as something other than a conventional horror-genre movie. But it doesn't succeed as a naturalistic study of isolation, alienation, and madness either. Parsed either way, the film pretty much falls apart.<br /><br />Are the horrors of the Overlook Hotel real? Or do they exist only in the mind -- first as prescient nightmares suffered by little Danny Torrance, then as the hallucinations of his father? One notes how whenever Jack Torrance is seen talking to a \"ghost\" he is in fact looking into a mirror. One notes how the hotel's frozen topiary-hedge maze appears to symbolize Jack's stunted, convoluted psyche. Very deep stuff.<br /><br />But if indeed the Overlook's \"ghosts\" are purely manifestations of Jack Torrance's growing insanity, then who exactly lets the trapped Jack out of the hotel kitchen's dead-bolted walk- in closet, so that he can go on his climactic ax-wielding rampage?<br /><br />And can ANYONE explain, with a straight face, that black-and-white photograph (helpfully labelled \"1921\") of Nicholson as a tuxedoed party-goer that pops up out of left field and onto a hotel-ballroom wall during the film's closing seconds? Are we to seriously conclude that Jack Torrance's Bad Craziness stems from a some sort of \"past life\" experience? (And if you swallow that, since when are reincarnated people supposed to be exact physical replicas their past selves?)<br /><br />Maybe Kubrick didn't care about his storyline. Maybe only wanted to evoke a mood of horror. Whatever the case, the film tries to hedge its narrative bets -- to have it both ways, rational and supernatural. As a result, the story is a mess. This movie hasn't improved with age, and it certainly doesn't improve with repeated viewings.<br /><br />I don't deny that a few moments of fear, claustrophobia, and general creepiness are scattered throughout this long, long film. But those gushing Elevators o' Blood, seen repeatedly in little Danny's visions, are absurd and laughable. And Jack Torrance's infamous tag lines (\"Wendy, I'm home!\" and \"Heeeeeere's JOHNNY!\") merely puncture the movie's dramatic tension and dissipate its narrative energy. (I know: I sat in the theater and heard the audience laugh in comic relief: \"Whew! Glad we don't have to take this stuff seriously!\") Finally, Kubrick is completely at sea -- or else utterly cynical -- during those scenes in which Wendy wanders around the empty hotel while her husband tries to puree their son. A foyer full of mummified guests, all sitting there dead in their party hats? Yikes, now I really am afraid.<br /><br />Given Jack Nicholson's brilliance over the years, one can only assume that he gave just the sort of eyeball-rolling, eyebrow-wiggling, scenery-chomping performance that the director wanted. The performance of Shelley Duvall, as a sort of female version of Don Knotts in \"The Ghost and Mr. Chicken,\" is best passed over in silence.<br /><br />This movie simply doesn't succeed -- not as an adaptation, not on its own terms. It probably merits a 3 out of 10, but I'm giving it a 1 because it has been so GROTESQUELY over-rated in this forum.\n",
      "\n",
      "training seq [13469]\n",
      "[5027, 890, 709, 10, 2770, 36, 2434, 143, 9, 2, 3666, 5, 4290, 11, 375, 93, 2, 18, 383, 44, 3, 2, 5027, 1, 26, 75, 1, 17, 2, 709, 1, 124, 235, 8, 8, 2, 709, 1, 133, 3004, 5027, 560, 4, 85, 187, 784, 3, 2256, 10, 2, 5027, 1, 90, 200, 4, 1541, 42, 4641, 63, 34, 739, 42, 1, 5447, 661, 368, 2439, 12, 7, 4, 20, 34, 6861, 10, 142, 28, 1190, 21, 92, 203, 15, 10, 569, 197, 9655, 24, 2293, 470, 8, 8, 45, 29, 2692, 10, 2858, 15, 33, 1255, 5, 4641, 665, 2, 3525, 7, 847, 4, 2101, 4, 1051, 1430, 4, 199, 5, 9920, 1319, 1, 8, 8, 11, 341, 6, 1819, 13, 21, 7463, 2985, 2, 562, 4282, 2823, 2135, 5, 3445, 1344, 1, 3445, 4301, 522, 46, 4, 2575, 15, 33, 7827, 5, 1031, 7155, 277, 57, 14, 2215, 16, 39, 1300, 4392, 5, 1, 4208, 40, 221, 6941, 19, 2, 115, 1332, 7684, 511, 5, 1, 1, 150, 1775, 21, 99, 4931, 9, 39, 1, 2514, 8, 8, 5027, 2, 1, 240, 256, 39, 1, 188, 27, 5, 262, 7, 2, 145, 8914, 3, 1190, 21, 92, 203, 5060, 25, 879, 16, 2, 3525, 17, 92, 1, 5, 1, 5610, 1, 1, 3, 6289, 9512, 41, 150, 757, 54, 6, 3672, 4723, 8, 8, 144, 1686, 6, 1128, 7463, 3525, 21, 92, 203, 1301, 144, 58, 1686, 6, 191, 10, 15, 140, 83, 72, 4, 4013, 187, 510, 18, 19, 10, 150, 3126, 15, 4, 1, 2072, 5, 6503, 9035, 3, 2998, 343, 1, 343, 94, 2, 20, 182, 74, 733, 970, 8, 8, 24, 2, 3647, 5, 2, 4900, 1453, 145, 40, 79, 34, 1775, 62, 9, 2, 328, 84, 15, 1, 4046, 3128, 32, 115, 1737, 1, 93, 15, 2, 8466, 5, 25, 334, 29, 3622, 87, 1939, 716, 1, 7, 108, 660, 6, 4, 1211, 27, 7, 9, 190, 265, 81, 4, 2908, 29, 3622, 87, 2, 1, 7229, 1, 1, 1, 738, 6, 1, 8128, 1, 3683, 7018, 53, 931, 536, 8, 8, 19, 45, 847, 2, 1, 2751, 24, 2858, 1, 5, 716, 1, 1787, 5985, 93, 35, 616, 1624, 2, 2610, 716, 44, 5, 2, 1453, 1, 349, 1, 1133, 9, 4206, 36, 13, 27, 68, 138, 21, 25, 4547, 1, 6738, 6045, 8, 8, 3, 68, 257, 1260, 17, 4, 727, 391, 13, 326, 3, 426, 8731, 1, 1, 1, 5, 4461, 15, 4, 1, 1071, 9793, 13, 4743, 54, 44, 5, 315, 1843, 3, 1644, 4, 1453, 8747, 1511, 313, 2, 595, 2726, 1573, 24, 73, 6, 613, 5743, 13, 716, 1, 76, 1, 1, 37, 4, 47, 430, 5, 499, 111, 582, 3, 45, 23, 6219, 13, 235, 52, 24, 1, 82, 422, 6, 28, 2592, 1745, 1, 66, 499, 1, 8, 8, 277, 5027, 159, 457, 42, 25, 767, 277, 62, 471, 6, 7927, 4, 1307, 5, 187, 843, 2, 418, 2, 20, 495, 6, 1, 92, 1319, 1, 6, 26, 10, 197, 769, 7122, 3, 2469, 15, 4, 959, 2, 63, 7, 4, 945, 12, 18, 1480, 3816, 17, 556, 3, 10, 432, 150, 4394, 17, 2453, 4727, 8, 8, 11, 90, 6050, 13, 4, 169, 386, 5, 1090, 1, 3, 829, 9266, 24, 8915, 467, 12, 194, 194, 20, 19, 146, 1, 1, 1, 539, 108, 3720, 9, 115, 1, 5579, 24, 1755, 3, 1321, 3, 716, 1, 3153, 4314, 409, 4934, 144, 342, 3, 1, 1804, 1529, 1, 2, 1322, 903, 1072, 3, 1, 92, 1319, 1706, 11, 122, 11, 1829, 9, 2, 749, 3, 555, 2, 309, 460, 9, 696, 2141, 1, 1264, 73, 90, 26, 6, 191, 12, 536, 613, 415, 5027, 7, 338, 31, 2019, 40, 332, 1254, 3054, 313, 146, 137, 9, 61, 4934, 5964, 185, 2, 1894, 1453, 135, 39, 657, 495, 6, 1, 66, 490, 4, 1, 366, 5, 1, 5533, 30, 1263, 48, 349, 9, 66, 1071, 6089, 1, 148, 11, 64, 242, 1593, 8, 8, 346, 716, 1, 3501, 118, 2, 151, 29, 68, 62, 2235, 13, 27, 517, 41, 2, 430, 5, 1, 2658, 1, 1, 1382, 1, 237, 13, 2, 165, 471, 2, 237, 5, 4692, 6096, 15, 4, 430, 5, 667, 308, 5, 1559, 1, 9, 2, 1211, 3, 441, 5156, 7, 116, 2106, 118, 9, 3554, 8, 8, 12, 18, 329, 150, 3126, 22, 15, 33, 1255, 22, 21, 92, 203, 1301, 10, 240, 5060, 4, 340, 44, 5, 156, 19, 144, 741, 10, 4, 298, 86, 10, 46, 75, 36, 1, 118, 1147, 9, 12, 9761]\n",
      "\n",
      "training padded [13469]\n",
      "[5027  890  709   10 2770   36 2434  143    9    2 3666    5 4290   11\n",
      "  375   93    2   18  383   44    3    2 5027    1   26   75    1   17\n",
      "    2  709    1  124  235    8    8    2  709    1  133 3004 5027  560\n",
      "    4   85  187  784    3 2256   10    2 5027    1   90  200    4 1541\n",
      "   42 4641   63   34  739   42    1 5447  661  368 2439   12    7    4\n",
      "   20   34 6861   10  142   28 1190   21   92  203   15   10  569  197\n",
      " 9655   24 2293  470    8    8   45   29 2692   10 2858   15   33 1255\n",
      "    5 4641  665    2 3525    7  847    4 2101    4 1051 1430    4  199\n",
      "    5 9920 1319    1    8    8   11  341]\n"
     ]
    }
   ],
   "source": [
    "## print out some text\n",
    "\n",
    "import random\n",
    "\n",
    "index = random.randint(0, len(training_sentences)-1)\n",
    "\n",
    "print ('training sentence [{}]\\n{}'.format(index,training_sentences[index]))\n",
    "print()\n",
    "print ('training seq [{}]\\n{}'.format(index,training_sequences[index]))\n",
    "print()\n",
    "print ('training padded [{}]\\n{}'.format(index, training_sequences_padded[index]))"
   ]
  },
  {
   "cell_type": "markdown",
   "metadata": {},
   "source": [
    "## Build a Model"
   ]
  },
  {
   "cell_type": "code",
   "execution_count": 12,
   "metadata": {},
   "outputs": [
    {
     "name": "stdout",
     "output_type": "stream",
     "text": [
      "Model: \"sequential\"\n",
      "_________________________________________________________________\n",
      "Layer (type)                 Output Shape              Param #   \n",
      "=================================================================\n",
      "embedding (Embedding)        (None, 120, 32)           320000    \n",
      "_________________________________________________________________\n",
      "bidirectional (Bidirectional (None, 128)               49664     \n",
      "_________________________________________________________________\n",
      "dense (Dense)                (None, 64)                8256      \n",
      "_________________________________________________________________\n",
      "dense_1 (Dense)              (None, 1)                 65        \n",
      "=================================================================\n",
      "Total params: 377,985\n",
      "Trainable params: 377,985\n",
      "Non-trainable params: 0\n",
      "_________________________________________________________________\n"
     ]
    }
   ],
   "source": [
    "## Model 1  : Single LSTM layer\n",
    "model = tf.keras.Sequential([\n",
    "    tf.keras.layers.Embedding(VOCAB_SIZE, EMBEDDING_DIM, input_length=MAX_SEQ_LENGTH),\n",
    "    tf.keras.layers.LSTM(64),\n",
    "    tf.keras.layers.Dense(64, activation='relu'),\n",
    "    tf.keras.layers.Dense(1, activation='sigmoid')\n",
    "])\n",
    "model.compile(loss='binary_crossentropy',optimizer='adam',metrics=['accuracy'])\n",
    "\n",
    "model.summary()"
   ]
  },
  {
   "cell_type": "code",
   "execution_count": null,
   "metadata": {},
   "outputs": [],
   "source": [
    "## Model 2 - Bidirectional LSTM\n",
    "\n",
    "# model = tf.keras.Sequential([\n",
    "#     tf.keras.layers.Embedding(VOCAB_SIZE, EMBEDDING_DIM, input_length=MAX_SEQ_LENGTH),\n",
    "#     tf.keras.layers.Bidirectional(tf.keras.layers.LSTM(64)),\n",
    "#     tf.keras.layers.Dense(64, activation='relu'),\n",
    "#     tf.keras.layers.Dense(1, activation='sigmoid')\n",
    "# ])\n",
    "# model.compile(loss='binary_crossentropy',optimizer='adam',metrics=['accuracy'])\n",
    "\n",
    "# model.summary()"
   ]
  },
  {
   "cell_type": "code",
   "execution_count": 13,
   "metadata": {},
   "outputs": [],
   "source": [
    "## Model 3 - Two LSTM layers\n",
    "\n",
    "# model = tf.keras.Sequential([\n",
    "#     tf.keras.layers.Embedding(VOCAB_SIZE, EMBEDDING_DIM, input_length=MAX_SEQ_LENGTH),\n",
    "#     tf.keras.layers.Bidirectional(tf.keras.layers.LSTM(64, return_sequences=True)),\n",
    "#     tf.keras.layers.Bidirectional(tf.keras.layers.LSTM(64)),\n",
    "#     tf.keras.layers.Dense(64, activation='relu'),\n",
    "#     tf.keras.layers.Dense(1, activation='sigmoid')\n",
    "# ])\n",
    "# model.compile(loss='binary_crossentropy',optimizer='adam',metrics=['accuracy'])\n",
    "\n",
    "# model.summary()"
   ]
  },
  {
   "cell_type": "markdown",
   "metadata": {},
   "source": [
    "## Train"
   ]
  },
  {
   "cell_type": "code",
   "execution_count": 14,
   "metadata": {},
   "outputs": [
    {
     "name": "stdout",
     "output_type": "stream",
     "text": [
      "Epoch 1/10\n",
      "782/782 [==============================] - 11s 14ms/step - loss: 0.4470 - accuracy: 0.7861 - val_loss: 0.3513 - val_accuracy: 0.8478\n",
      "Epoch 2/10\n",
      "782/782 [==============================] - 12s 16ms/step - loss: 0.2821 - accuracy: 0.8870 - val_loss: 0.3703 - val_accuracy: 0.8419\n",
      "Epoch 3/10\n",
      "782/782 [==============================] - 16s 21ms/step - loss: 0.2075 - accuracy: 0.9198 - val_loss: 0.4193 - val_accuracy: 0.8329\n",
      "Epoch 4/10\n",
      "782/782 [==============================] - 18s 22ms/step - loss: 0.1378 - accuracy: 0.9484 - val_loss: 0.5390 - val_accuracy: 0.8289\n",
      "Epoch 5/10\n",
      "782/782 [==============================] - 15s 19ms/step - loss: 0.0900 - accuracy: 0.9671 - val_loss: 0.5889 - val_accuracy: 0.8208\n",
      "Epoch 6/10\n",
      "782/782 [==============================] - 15s 19ms/step - loss: 0.0627 - accuracy: 0.9782 - val_loss: 0.7538 - val_accuracy: 0.8213\n",
      "Epoch 7/10\n",
      "782/782 [==============================] - 12s 15ms/step - loss: 0.0415 - accuracy: 0.9862 - val_loss: 0.8775 - val_accuracy: 0.8131\n",
      "Epoch 8/10\n",
      "782/782 [==============================] - 14s 18ms/step - loss: 0.0389 - accuracy: 0.9868 - val_loss: 0.8382 - val_accuracy: 0.8100\n",
      "Epoch 9/10\n",
      "782/782 [==============================] - 17s 21ms/step - loss: 0.0315 - accuracy: 0.9896 - val_loss: 0.9533 - val_accuracy: 0.8174\n",
      "Epoch 10/10\n",
      "782/782 [==============================] - 17s 21ms/step - loss: 0.0233 - accuracy: 0.9918 - val_loss: 1.0011 - val_accuracy: 0.8194\n",
      "CPU times: user 4min 3s, sys: 20.7 s, total: 4min 23s\n",
      "Wall time: 2min 28s\n"
     ]
    }
   ],
   "source": [
    "%%time \n",
    "\n",
    "num_epochs = 10\n",
    "history = model.fit(training_sequences_padded, training_labels_final, \n",
    "                    epochs=num_epochs, \n",
    "                    validation_data=(testing_sequences_padded, testing_labels_final))"
   ]
  },
  {
   "cell_type": "markdown",
   "metadata": {},
   "source": [
    "## See Training History"
   ]
  },
  {
   "cell_type": "code",
   "execution_count": 15,
   "metadata": {},
   "outputs": [
    {
     "data": {
      "image/png": "[encoded data removed]",
      "text/plain": [
       "<Figure size 432x288 with 1 Axes>"
      ]
     },
     "metadata": {
      "needs_background": "light"
     },
     "output_type": "display_data"
    },
    {
     "data": {
      "image/png": "[encoded data removed]",
      "text/plain": [
       "<Figure size 432x288 with 1 Axes>"
      ]
     },
     "metadata": {
      "needs_background": "light"
     },
     "output_type": "display_data"
    }
   ],
   "source": [
    "import matplotlib.pyplot as plt\n",
    "\n",
    "\n",
    "def plot_graphs(history, string):\n",
    "  plt.plot(history.history[string])\n",
    "  plt.plot(history.history['val_'+string])\n",
    "  plt.xlabel(\"Epochs\")\n",
    "  plt.ylabel(string)\n",
    "  plt.legend([string, 'val_'+string])\n",
    "  plt.show()\n",
    "  \n",
    "plot_graphs(history, \"accuracy\")\n",
    "plot_graphs(history, \"loss\")"
   ]
  },
  {
   "cell_type": "markdown",
   "metadata": {},
   "source": [
    "## Metrics"
   ]
  },
  {
   "cell_type": "code",
   "execution_count": 16,
   "metadata": {},
   "outputs": [
    {
     "name": "stdout",
     "output_type": "stream",
     "text": [
      "model metrics :  ['loss', 'accuracy']\n",
      "782/782 [==============================] - 5s 7ms/step - loss: 1.0011 - accuracy: 0.8194\n",
      "Metric : loss = 1.001\n",
      "Metric : accuracy = 0.819\n"
     ]
    }
   ],
   "source": [
    "metric_names = model.metrics_names\n",
    "print (\"model metrics : \" , metric_names)\n",
    "\n",
    "metrics = model.evaluate(testing_sequences_padded, testing_labels_final)\n",
    "\n",
    "for idx, metric in enumerate(metric_names):\n",
    "    print (\"Metric : {} = {:,.3f}\".format (metric_names[idx], metrics[idx]))"
   ]
  },
  {
   "cell_type": "markdown",
   "metadata": {},
   "source": [
    "## Predictions"
   ]
  },
  {
   "cell_type": "code",
   "execution_count": 17,
   "metadata": {},
   "outputs": [
    {
     "name": "stdout",
     "output_type": "stream",
     "text": [
      "predicting on 25,000 test data\n",
      "predictions.shape:  (25000, 1)\n",
      "predictions :  [[ 0.77]\n",
      " [ 0.99]\n",
      " [ 0.00]\n",
      " [ 0.00]\n",
      " [ 1.00]\n",
      " [ 1.00]\n",
      " [ 1.00]\n",
      " [ 1.00]\n",
      " [ 1.00]\n",
      " [ 1.00]]\n",
      "prediction2:  [1, 1, 0, 0, 1, 1, 1, 1, 1, 1]\n"
     ]
    }
   ],
   "source": [
    "import numpy as np\n",
    "from math import ceil\n",
    "\n",
    "\n",
    "print (\"predicting on {:,} test data\".format(len(testing_labels_final)))\n",
    "# we need a ceiling for steps\n",
    "predictions = model.predict(testing_sequences_padded)\n",
    "print( 'predictions.shape: ', predictions.shape)\n",
    "\n",
    "# ## for softmax\n",
    "# # predictions2 = [ np.argmax(p) for p in predictions]\n",
    "\n",
    "## binary\n",
    "predictions2 = [0 if n < 0.5 else 1 for n in predictions]\n",
    "\n",
    "np.set_printoptions(formatter={'float': '{: 0.2f}'.format})\n",
    "\n",
    "print ('predictions : ' , predictions[:10])\n",
    "print ('prediction2: ' , predictions2[:10])"
   ]
  },
  {
   "cell_type": "markdown",
   "metadata": {},
   "source": [
    "## Confusion Matrix"
   ]
  },
  {
   "cell_type": "code",
   "execution_count": 18,
   "metadata": {},
   "outputs": [
    {
     "data": {
      "text/plain": [
       "array([[10426,  2074],\n",
       "       [ 2441, 10059]])"
      ]
     },
     "execution_count": 18,
     "metadata": {},
     "output_type": "execute_result"
    }
   ],
   "source": [
    "from sklearn.metrics import confusion_matrix\n",
    "import seaborn as sns\n",
    "\n",
    "cm = confusion_matrix(testing_labels_final, predictions2, labels = [0,1])\n",
    "cm"
   ]
  },
  {
   "cell_type": "code",
   "execution_count": 19,
   "metadata": {},
   "outputs": [
    {
     "data": {
      "text/plain": [
       "[]"
      ]
     },
     "execution_count": 19,
     "metadata": {},
     "output_type": "execute_result"
    },
    {
     "data": {
      "image/png": "[encoded data removed]",
      "text/plain": [
       "<Figure size 576x432 with 2 Axes>"
      ]
     },
     "metadata": {
      "needs_background": "light"
     },
     "output_type": "display_data"
    }
   ],
   "source": [
    "import matplotlib.pyplot as plt\n",
    "import seaborn as sns\n",
    "\n",
    "plt.figure(figsize = (8,6))\n",
    "\n",
    "# colormaps : cmap=\"YlGnBu\" , cmap=\"Greens\", cmap=\"Blues\",  cmap=\"Reds\"\n",
    "sns.heatmap(cm, annot=True, cmap=\"Reds\", fmt='d').plot()"
   ]
  },
  {
   "cell_type": "markdown",
   "metadata": {},
   "source": [
    "## Predict on Custom Text"
   ]
  },
  {
   "cell_type": "code",
   "execution_count": 20,
   "metadata": {},
   "outputs": [
    {
     "name": "stdout",
     "output_type": "stream",
     "text": [
      "my_text\n",
      " This is a great movie, it shows what our government will to to other countries if we don't like their government. This isn't as bad as what Reagan and Bush number one did to South America, but the US still has no business messing around with other countries like this. This movies also proves that American media spouts government propaganda. This is exactly what they did to Aristide in Haiti. The reason this coup against Chavez didn't succeed is Chavez was elected with over 90% of the vote.<br /><br />This movie isn't just a political documentary, it would still be a great movie if it were a drama, it's amazing that this is real.<br /><br />The other reviewer is lying when he says \"Chavez seizes the airwaves\", the private media is running anti Chavez propaganda all the time.\n",
      "\n",
      "prediction : 1\n",
      "\n",
      "============\n",
      "my_text\n",
      " I don't hand out \"ones\" often, but if there was ever a film that deserved this sort of attention, it's \"Gas!\" This is self-indulgent crap that reaches for some of the ambiance of M*A*S*H and falls completely flat on its face in the attempt.<br /><br />I see what Corman was going for - Malcolm Marmorstein and Elliott Gould tried to reproduce Gould's deathless role in the original movie version of M*A*S*H with a similar plot (in the movie \"Whiffs\" - look it up here in IMDb, http://www.imdb.com/title/tt0073891/ for more information).<br /><br />Marmorstein and Gould got closer to the brass ring with \"Whiffs\" than Corman did with \"Gas!\" but didn't quite get there. Neither one of those films even got close to the success of M*A*S*H.<br /><br />What's wrong with \"Gas!\"? What isn't? No one comes close to really acting at a level above junior high school theatrics. The production values stink. Someone else here mentioned the magically regenerating headlights on a getaway car, and there's more of that lack of attention to detail. Nothing works the way it's supposed to in this film, and nobody cares.<br /><br />\"Gas!\" actually put me to sleep. It's not a sure cure for insomnia, but really close. On the Cinematic Sleep Induction scale, \"Gas!\" falls somewhere between \"Last Year at Marienbad\" and George Clooney's remake of \"Solaris\" (which itself was remarkable for being more boring than the Mosfilm original, despite that studio's seeming unfamiliarity with the idea of keeping the audience's attention by judicious editing).<br /><br />Judicious editing would have decimated \"Gas!\" to about twenty minutes. The result would be pointless, but no more so than the original film.<br /><br />Certain films are so bad that they have a compelling quality that makes them worth watching anyway. This isn't one of them. Don't waste your time. It's not even amusingly bad.\n",
      "\n",
      "prediction : 0\n",
      "\n",
      "============\n",
      "my_text\n",
      " My Take: A tired formula Christmas comedy. The laughs are tired and the talents behind it seem to be too.<br /><br />I love the holidays as much as the next guy (even if I often have a bad case of the holiday blues), but it seems it's just being a dumping ground for a bunch of Holiday comedies that would be bad movies on any day of the year, but that doesn't make them any less painful during the season. As if we already had enough SANTA CLAUSE movies (three and *gulp* still counting), who wants to see a movie about his brother? In a plot that would be at home with Disney's SANTA CLAUSE franchise (save the occasionally crude humor and Santa's \"Little\" Helper wearing a short skirt), FRED CLAUS is a one-joke premise that goes on for 116 minutes. Sure, Jolly Ol' Saint Nick has a brother, but where does it go from there? <br /><br />It's a shame really. FRED CLAUS is blessed with a cast that could have made it an enjoyable Christmastime comedy that will probably melt away along with the snow, but it would have been so much better than this. Vince Vaughn is your typical snob, but we are led to believe he's really the long lost brother of the never-aging Santa (Paul Giamatti), who invites his good ol' brother to visit. Mrs. Claus (Miranda Richardson) is reluctant, and worse, an efficiency expert (Kevin Spacey) has come to keep a watchful eye on Father Christmas, and his THIS close to being shut down. Hah! And guess who plays Santa's mother! Kathy Bates of course. Elizabeth Banks is Santa's Helper Charlene, John Michael Higgins is one of the elves, and Rachel Wiesz plays Fred's girlfriend! SI don't know if I'd praise the casting or to bash it. Here we have some familiar faces to add a touch of quality, but they're given way too little to work with.<br /><br />As for humor, the best that FRED CLAUS could possibly come up with is Santa's brother being his exact opposite and some joke about a DJ elf. I have to admit I had a few giggles involving Fred attending a group counseling for celebrity brothers (where he is joined by Stephen Baldwin, Roger Clinton and Frank Stallone), but the giggles begin and end there. Worse still, the movie even succumbs into sentimentality that's supposed to make us \"feel good\" and teach us a lesson about \"what Christmas really means\". Apparently, what Christmas means to Hollywood is getting as much of our leftover Christmas shopping money as they can.<br /><br />Rating: ** out of 5.\n",
      "\n",
      "prediction : 0\n",
      "\n",
      "============\n"
     ]
    }
   ],
   "source": [
    "import random\n",
    "\n",
    "## Choose random headlines\n",
    "my_text = random.sample(training_sentences, 3)\n",
    "\n",
    "## or write your own headlines\n",
    "# my_text = ['this movie sucks!', \n",
    "#             'the movie was amazing!',\n",
    "#             'the movie was just ok']\n",
    "\n",
    "\n",
    "\n",
    "my_seq = tokenizer.texts_to_sequences(my_text)\n",
    "my_seq_padded = pad_sequences(my_seq,  maxlen=MAX_SEQ_LENGTH, \n",
    "                               padding=PADDING_TYPE, truncating=TRUNC_TYPE )\n",
    "\n",
    "my_predictions = model.predict(my_seq_padded)\n",
    "\n",
    "my_predictions2 = [0 if n < 0.5 else 1 for n in my_predictions]  # binary\n",
    "# my_predictions2 = [ np.argmax(p) for p in my_predictions]  # softmax\n",
    "\n",
    "## print out\n",
    "\n",
    "for i in range(0, len(my_text)):\n",
    "    print ('my_text\\n', my_text[i])\n",
    "    print()\n",
    "    print('prediction :', my_predictions2[i])\n",
    "    print()\n",
    "    print('============')"
   ]
  },
  {
   "cell_type": "markdown",
   "metadata": {},
   "source": [
    "## Explore Embeddings\n",
    "\n",
    "You can load these embeddings into [embedding projector](https://projector.tensorflow.org/)"
   ]
  },
  {
   "cell_type": "code",
   "execution_count": 21,
   "metadata": {},
   "outputs": [],
   "source": [
    "reverse_word_index = dict([(value, key) for (key, value) in tokenizer.word_index.items()])\n",
    "\n",
    "def decode_review(text):\n",
    "    return ' '.join([reverse_word_index.get(i, '?') for i in text])\n"
   ]
  },
  {
   "cell_type": "code",
   "execution_count": 22,
   "metadata": {},
   "outputs": [
    {
     "name": "stdout",
     "output_type": "stream",
     "text": [
      "(10000, 32)\n"
     ]
    }
   ],
   "source": [
    "embedding_layer = model.layers[0]\n",
    "weights = embedding_layer.get_weights()[0]\n",
    "print(weights.shape) # shape: (vocab_size, embedding_dim)"
   ]
  },
  {
   "cell_type": "code",
   "execution_count": 23,
   "metadata": {},
   "outputs": [
    {
     "name": "stdout",
     "output_type": "stream",
     "text": [
      "embeddings wrote to vecs.tsv and meta.tsv\n"
     ]
    }
   ],
   "source": [
    "import io\n",
    "\n",
    "out_v = io.open('vecs.tsv', 'w', encoding='utf-8')\n",
    "out_m = io.open('meta.tsv', 'w', encoding='utf-8')\n",
    "for word_num in range(1, VOCAB_SIZE):\n",
    "  word = reverse_word_index[word_num]\n",
    "  embeddings = weights[word_num]\n",
    "  out_m.write(word + \"\\n\")\n",
    "  out_v.write('\\t'.join([str(x) for x in embeddings]) + \"\\n\")\n",
    "out_v.close()\n",
    "out_m.close()\n",
    "\n",
    "print (\"embeddings wrote to vecs.tsv and meta.tsv\")"
   ]
  },
  {
   "cell_type": "code",
   "execution_count": null,
   "metadata": {},
   "outputs": [],
   "source": []
  }
 ],
 "metadata": {
  "kernelspec": {
   "display_name": "TensorFlow-GPU_2.3",
   "language": "python",
   "name": "tf-gpu_2.3"
  },
  "language_info": {
   "codemirror_mode": {
    "name": "ipython",
    "version": 3
   },
   "file_extension": ".py",
   "mimetype": "text/x-python",
   "name": "python",
   "nbconvert_exporter": "python",
   "pygments_lexer": "ipython3",
   "version": "3.8.2"
  }
 },
 "nbformat": 4,
 "nbformat_minor": 4
}
