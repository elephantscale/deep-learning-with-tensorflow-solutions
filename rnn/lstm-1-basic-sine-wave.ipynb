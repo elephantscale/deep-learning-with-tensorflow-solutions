{
 "cells": [
  {
   "cell_type": "markdown",
   "metadata": {},
   "source": [
    "# LSTM Sine Wave\n",
    "\n",
    "### Overview\n",
    "Predict a simple sine wave using LSTM\n",
    "\n",
    "Adopted with thanks from [here](https://www.datatechnotes.com/2018/12/rnn-example-with-keras-simplernn-in.html)"
   ]
  },
  {
   "cell_type": "code",
   "execution_count": 1,
   "metadata": {},
   "outputs": [
    {
     "name": "stdout",
     "output_type": "stream",
     "text": [
      "tensorflow version: 2.3.0\n",
      "[PhysicalDevice(name='/physical_device:CPU:0', device_type='CPU'), PhysicalDevice(name='/physical_device:XLA_CPU:0', device_type='XLA_CPU'), PhysicalDevice(name='/physical_device:XLA_GPU:0', device_type='XLA_GPU'), PhysicalDevice(name='/physical_device:GPU:0', device_type='GPU')]\n"
     ]
    }
   ],
   "source": [
    "import pandas as pd\n",
    "import numpy as np\n",
    "import matplotlib.pyplot as plt\n",
    "\n",
    "import tensorflow as tf\n",
    "from tensorflow import keras\n",
    "\n",
    "print ('tensorflow version:', tf.__version__)\n",
    "print (tf.config.experimental.list_physical_devices())\n",
    "\n",
    "# number formats\n",
    "pd.options.display.float_format = '{:,.4f}'.format\n",
    "np.set_printoptions(formatter={'float': '{: 0.4f}'.format})"
   ]
  },
  {
   "cell_type": "markdown",
   "metadata": {
    "colab_type": "text",
    "id": "m6sLPjRC3vPG"
   },
   "source": [
    "## TF-GPU Debug\n",
    "The following block tests if TF is running on GPU."
   ]
  },
  {
   "cell_type": "code",
   "execution_count": 2,
   "metadata": {
    "colab": {
     "base_uri": "https://localhost:8080/",
     "height": 104
    },
    "colab_type": "code",
    "id": "0hg6UWFl3vPG",
    "outputId": "30a14a87-6833-4f9b-bd41-006e273f421a"
   },
   "outputs": [
    {
     "name": "stdout",
     "output_type": "stream",
     "text": [
      "Device mapping:\n",
      "/job:localhost/replica:0/task:0/device:XLA_CPU:0 -> device: XLA_CPU device\n",
      "/job:localhost/replica:0/task:0/device:XLA_GPU:0 -> device: XLA_GPU device\n",
      "/job:localhost/replica:0/task:0/device:GPU:0 -> device: 0, name: GeForce RTX 2070, pci bus id: 0000:01:00.0, compute capability: 7.5\n",
      "\n"
     ]
    }
   ],
   "source": [
    "## This block is to tweak TF running on GPU\n",
    "## You may comment this out, if you are not using GPU\n",
    "\n",
    "## ---- start Memory setting ----\n",
    "## Ask TF not to allocate all GPU memory at once.. allocate as needed\n",
    "## Without this the execution will fail with \"failed to initialize algorithm\" error\n",
    "\n",
    "from tensorflow.compat.v1.keras.backend import set_session\n",
    "config = tf.compat.v1.ConfigProto()\n",
    "config.gpu_options.allow_growth = True  # dynamically grow the memory used on the GPU\n",
    "config.log_device_placement = True  # to log device placement (on which device the operation ran)\n",
    "sess = tf.compat.v1.Session(config=config)\n",
    "set_session(sess)\n",
    "## ---- end Memory setting ----\n"
   ]
  },
  {
   "cell_type": "markdown",
   "metadata": {},
   "source": [
    "## Generate some data"
   ]
  },
  {
   "cell_type": "code",
   "execution_count": 3,
   "metadata": {},
   "outputs": [
    {
     "data": {
      "text/html": [
       "<div>\n",
       "<style scoped>\n",
       "    .dataframe tbody tr th:only-of-type {\n",
       "        vertical-align: middle;\n",
       "    }\n",
       "\n",
       "    .dataframe tbody tr th {\n",
       "        vertical-align: top;\n",
       "    }\n",
       "\n",
       "    .dataframe thead th {\n",
       "        text-align: right;\n",
       "    }\n",
       "</style>\n",
       "<table border=\"1\" class=\"dataframe\">\n",
       "  <thead>\n",
       "    <tr style=\"text-align: right;\">\n",
       "      <th></th>\n",
       "      <th>0</th>\n",
       "    </tr>\n",
       "  </thead>\n",
       "  <tbody>\n",
       "    <tr>\n",
       "      <th>0</th>\n",
       "      <td>1.4747</td>\n",
       "    </tr>\n",
       "    <tr>\n",
       "      <th>1</th>\n",
       "      <td>1.9762</td>\n",
       "    </tr>\n",
       "    <tr>\n",
       "      <th>2</th>\n",
       "      <td>0.8371</td>\n",
       "    </tr>\n",
       "    <tr>\n",
       "      <th>3</th>\n",
       "      <td>0.8558</td>\n",
       "    </tr>\n",
       "    <tr>\n",
       "      <th>4</th>\n",
       "      <td>1.3168</td>\n",
       "    </tr>\n",
       "    <tr>\n",
       "      <th>...</th>\n",
       "      <td>...</td>\n",
       "    </tr>\n",
       "    <tr>\n",
       "      <th>995</th>\n",
       "      <td>2.4307</td>\n",
       "    </tr>\n",
       "    <tr>\n",
       "      <th>996</th>\n",
       "      <td>2.7399</td>\n",
       "    </tr>\n",
       "    <tr>\n",
       "      <th>997</th>\n",
       "      <td>2.7866</td>\n",
       "    </tr>\n",
       "    <tr>\n",
       "      <th>998</th>\n",
       "      <td>2.6515</td>\n",
       "    </tr>\n",
       "    <tr>\n",
       "      <th>999</th>\n",
       "      <td>2.0441</td>\n",
       "    </tr>\n",
       "  </tbody>\n",
       "</table>\n",
       "<p>1000 rows × 1 columns</p>\n",
       "</div>"
      ],
      "text/plain": [
       "         0\n",
       "0   1.4747\n",
       "1   1.9762\n",
       "2   0.8371\n",
       "3   0.8558\n",
       "4   1.3168\n",
       "..     ...\n",
       "995 2.4307\n",
       "996 2.7399\n",
       "997 2.7866\n",
       "998 2.6515\n",
       "999 2.0441\n",
       "\n",
       "[1000 rows x 1 columns]"
      ]
     },
     "execution_count": 3,
     "metadata": {},
     "output_type": "execute_result"
    }
   ],
   "source": [
    "# Generate 1000 samples\n",
    "samples = 1000    \n",
    "training_samples = 800    \n",
    "\n",
    "t=np.arange(0,samples)\n",
    "\n",
    "## Generating a sine wave, with some noise \n",
    "x=np.sin(0.02*t)+2*np.random.rand(samples)\n",
    "\n",
    "## print data\n",
    "df_orig = pd.DataFrame(x)\n",
    "df_orig\n"
   ]
  },
  {
   "cell_type": "code",
   "execution_count": 4,
   "metadata": {},
   "outputs": [
    {
     "data": {
      "image/png": "[encoded data removed]",
      "text/plain": [
       "<Figure size 432x288 with 1 Axes>"
      ]
     },
     "metadata": {
      "needs_background": "light"
     },
     "output_type": "display_data"
    }
   ],
   "source": [
    "## plot data\n",
    "plt.plot(df_orig)\n",
    "plt.show() "
   ]
  },
  {
   "cell_type": "markdown",
   "metadata": {},
   "source": [
    "## Train / Test split"
   ]
  },
  {
   "cell_type": "code",
   "execution_count": 5,
   "metadata": {},
   "outputs": [
    {
     "name": "stdout",
     "output_type": "stream",
     "text": [
      "values: [[ 1.9762]\n",
      " [ 0.8371]\n",
      " [ 0.8558]\n",
      " [ 1.3168]\n",
      " [ 0.5385]\n",
      " [ 1.2150]\n",
      " [ 1.1637]\n",
      " [ 0.2841]\n",
      " [ 1.6817]\n",
      " [ 1.7065]\n",
      " [ 0.7902]\n",
      " [ 0.9359]\n",
      " [ 0.9155]\n",
      " [ 1.2909]\n",
      " [ 2.0033]\n",
      " [ 0.7380]\n",
      " [ 0.5911]\n",
      " [ 0.7787]\n",
      " [ 1.1692]]\n",
      "train size 800\n",
      "test size 200\n"
     ]
    }
   ],
   "source": [
    "## Create train / test values\n",
    "\n",
    "values=df_orig.values\n",
    "train,test = values[0:training_samples,:], values[training_samples:samples,:]\n",
    "\n",
    "print (\"values:\" , values[1:20])\n",
    "print ('train size', len(train))\n",
    "print ('test size', len(test))"
   ]
  },
  {
   "cell_type": "code",
   "execution_count": 6,
   "metadata": {},
   "outputs": [
    {
     "name": "stdout",
     "output_type": "stream",
     "text": [
      "train size 804\n",
      "test size 204\n"
     ]
    }
   ],
   "source": [
    "## padding the data\n",
    "step = 4\n",
    "# add step elements into train and test\n",
    "test = np.append(test,np.repeat(test[-1,],step))\n",
    "train = np.append(train,np.repeat(train[-1,],step))\n",
    "\n",
    "print (\"train size\", len(train))\n",
    "print (\"test size\", len(test))"
   ]
  },
  {
   "cell_type": "code",
   "execution_count": 7,
   "metadata": {},
   "outputs": [
    {
     "data": {
      "text/plain": [
       "array([ 1.4747,  1.9762,  0.8371,  0.8558,  1.3168,  0.5385,  1.2150,\n",
       "        1.1637,  0.2841,  1.6817,  1.7065,  0.7902,  0.9359,  0.9155,\n",
       "        1.2909,  2.0033,  0.7380,  0.5911,  0.7787,  1.1692,  2.0796,\n",
       "        0.7998,  1.7043,  1.6833,  0.9985,  0.6351,  1.2860,  2.3369,\n",
       "        2.1727,  1.0236])"
      ]
     },
     "execution_count": 7,
     "metadata": {},
     "output_type": "execute_result"
    }
   ],
   "source": [
    "## see some data\n",
    "## compare with original data\n",
    "train[:30]"
   ]
  },
  {
   "cell_type": "code",
   "execution_count": 8,
   "metadata": {},
   "outputs": [
    {
     "name": "stdout",
     "output_type": "stream",
     "text": [
      "x_train.shape (800, 4)\n",
      "y_train.shape (800,)\n",
      "x_test.shape (200, 4)\n",
      "y_test.shape (200,)\n"
     ]
    }
   ],
   "source": [
    "## vectorize the data\n",
    "\n",
    "def convertToMatrix(data, step):\n",
    " X, Y =[], []\n",
    " for i in range(len(data)-step):\n",
    "  d=i+step  \n",
    "  X.append(data[i:d,])\n",
    "  Y.append(data[d,])\n",
    " return np.array(X), np.array(Y)\n",
    "\n",
    "x_train,y_train =convertToMatrix(train,step)\n",
    "x_test,y_test =convertToMatrix(test,step)\n",
    "\n",
    "print (\"x_train.shape\", x_train.shape)\n",
    "print (\"y_train.shape\", y_train.shape)\n",
    "print (\"x_test.shape\", x_test.shape)\n",
    "print (\"y_test.shape\", y_test.shape)"
   ]
  },
  {
   "cell_type": "code",
   "execution_count": 9,
   "metadata": {},
   "outputs": [
    {
     "data": {
      "text/html": [
       "<div>\n",
       "<style scoped>\n",
       "    .dataframe tbody tr th:only-of-type {\n",
       "        vertical-align: middle;\n",
       "    }\n",
       "\n",
       "    .dataframe tbody tr th {\n",
       "        vertical-align: top;\n",
       "    }\n",
       "\n",
       "    .dataframe thead th {\n",
       "        text-align: right;\n",
       "    }\n",
       "</style>\n",
       "<table border=\"1\" class=\"dataframe\">\n",
       "  <thead>\n",
       "    <tr style=\"text-align: right;\">\n",
       "      <th></th>\n",
       "      <th>0</th>\n",
       "      <th>1</th>\n",
       "      <th>2</th>\n",
       "      <th>3</th>\n",
       "    </tr>\n",
       "  </thead>\n",
       "  <tbody>\n",
       "    <tr>\n",
       "      <th>1.3168</th>\n",
       "      <td>1.4747</td>\n",
       "      <td>1.9762</td>\n",
       "      <td>0.8371</td>\n",
       "      <td>0.8558</td>\n",
       "    </tr>\n",
       "    <tr>\n",
       "      <th>0.5385</th>\n",
       "      <td>1.9762</td>\n",
       "      <td>0.8371</td>\n",
       "      <td>0.8558</td>\n",
       "      <td>1.3168</td>\n",
       "    </tr>\n",
       "    <tr>\n",
       "      <th>1.2150</th>\n",
       "      <td>0.8371</td>\n",
       "      <td>0.8558</td>\n",
       "      <td>1.3168</td>\n",
       "      <td>0.5385</td>\n",
       "    </tr>\n",
       "    <tr>\n",
       "      <th>1.1637</th>\n",
       "      <td>0.8558</td>\n",
       "      <td>1.3168</td>\n",
       "      <td>0.5385</td>\n",
       "      <td>1.2150</td>\n",
       "    </tr>\n",
       "    <tr>\n",
       "      <th>0.2841</th>\n",
       "      <td>1.3168</td>\n",
       "      <td>0.5385</td>\n",
       "      <td>1.2150</td>\n",
       "      <td>1.1637</td>\n",
       "    </tr>\n",
       "    <tr>\n",
       "      <th>...</th>\n",
       "      <td>...</td>\n",
       "      <td>...</td>\n",
       "      <td>...</td>\n",
       "      <td>...</td>\n",
       "    </tr>\n",
       "    <tr>\n",
       "      <th>1.0169</th>\n",
       "      <td>0.9831</td>\n",
       "      <td>0.4607</td>\n",
       "      <td>-0.0929</td>\n",
       "      <td>1.7005</td>\n",
       "    </tr>\n",
       "    <tr>\n",
       "      <th>1.0169</th>\n",
       "      <td>0.4607</td>\n",
       "      <td>-0.0929</td>\n",
       "      <td>1.7005</td>\n",
       "      <td>1.0169</td>\n",
       "    </tr>\n",
       "    <tr>\n",
       "      <th>1.0169</th>\n",
       "      <td>-0.0929</td>\n",
       "      <td>1.7005</td>\n",
       "      <td>1.0169</td>\n",
       "      <td>1.0169</td>\n",
       "    </tr>\n",
       "    <tr>\n",
       "      <th>1.0169</th>\n",
       "      <td>1.7005</td>\n",
       "      <td>1.0169</td>\n",
       "      <td>1.0169</td>\n",
       "      <td>1.0169</td>\n",
       "    </tr>\n",
       "    <tr>\n",
       "      <th>1.0169</th>\n",
       "      <td>1.0169</td>\n",
       "      <td>1.0169</td>\n",
       "      <td>1.0169</td>\n",
       "      <td>1.0169</td>\n",
       "    </tr>\n",
       "  </tbody>\n",
       "</table>\n",
       "<p>800 rows × 4 columns</p>\n",
       "</div>"
      ],
      "text/plain": [
       "             0       1       2      3\n",
       "1.3168  1.4747  1.9762  0.8371 0.8558\n",
       "0.5385  1.9762  0.8371  0.8558 1.3168\n",
       "1.2150  0.8371  0.8558  1.3168 0.5385\n",
       "1.1637  0.8558  1.3168  0.5385 1.2150\n",
       "0.2841  1.3168  0.5385  1.2150 1.1637\n",
       "...        ...     ...     ...    ...\n",
       "1.0169  0.9831  0.4607 -0.0929 1.7005\n",
       "1.0169  0.4607 -0.0929  1.7005 1.0169\n",
       "1.0169 -0.0929  1.7005  1.0169 1.0169\n",
       "1.0169  1.7005  1.0169  1.0169 1.0169\n",
       "1.0169  1.0169  1.0169  1.0169 1.0169\n",
       "\n",
       "[800 rows x 4 columns]"
      ]
     },
     "execution_count": 9,
     "metadata": {},
     "output_type": "execute_result"
    }
   ],
   "source": [
    "## See data\n",
    "df = pd.DataFrame(x_train, y_train)\n",
    "df"
   ]
  },
  {
   "cell_type": "code",
   "execution_count": 10,
   "metadata": {},
   "outputs": [
    {
     "name": "stdout",
     "output_type": "stream",
     "text": [
      "x_train.shape (800, 1, 4)\n",
      "y_train.shape (800,)\n",
      "x_test.shape (200, 1, 4)\n",
      "y_test.shape (200,)\n"
     ]
    }
   ],
   "source": [
    "## Finally, we'll reshape trainX and testX to fit with the Keras model. \n",
    "## RNN model requires three-dimensional input data.\n",
    "\n",
    "x_train = np.reshape(x_train, (x_train.shape[0], 1, x_train.shape[1]))\n",
    "x_test = np.reshape(x_test, (x_test.shape[0], 1, x_test.shape[1]))\n",
    "\n",
    "print (\"x_train.shape\", x_train.shape)\n",
    "print (\"y_train.shape\", y_train.shape)\n",
    "print (\"x_test.shape\", x_test.shape)\n",
    "print (\"y_test.shape\", y_test.shape)"
   ]
  },
  {
   "cell_type": "markdown",
   "metadata": {},
   "source": [
    "## Build LSTM"
   ]
  },
  {
   "cell_type": "code",
   "execution_count": 11,
   "metadata": {},
   "outputs": [
    {
     "name": "stdout",
     "output_type": "stream",
     "text": [
      "Model: \"sequential\"\n",
      "_________________________________________________________________\n",
      "Layer (type)                 Output Shape              Param #   \n",
      "=================================================================\n",
      "lstm (LSTM)                  (None, 16)                1344      \n",
      "_________________________________________________________________\n",
      "dense (Dense)                (None, 8)                 136       \n",
      "_________________________________________________________________\n",
      "dense_1 (Dense)              (None, 1)                 9         \n",
      "=================================================================\n",
      "Total params: 1,489\n",
      "Trainable params: 1,489\n",
      "Non-trainable params: 0\n",
      "_________________________________________________________________\n"
     ]
    },
    {
     "data": {
      "image/png": "[encoded data removed]",
      "text/plain": [
       "<IPython.core.display.Image object>"
      ]
     },
     "execution_count": 11,
     "metadata": {},
     "output_type": "execute_result"
    }
   ],
   "source": [
    "model = keras.models.Sequential()\n",
    "model.add(keras.layers.LSTM(units=16, input_shape=(1,step)))\n",
    "# model.add(keras.layers.GRU(units=16, input_shape=(1,step)))\n",
    "model.add(keras.layers.Dense(8, activation=\"relu\")) \n",
    "model.add(keras.layers.Dense(1))\n",
    "model.compile(optimizer='rmsprop', loss = 'mse', metrics=['mse'])\n",
    "model.summary()\n",
    "tf.keras.utils.plot_model(model, to_file='model.png', show_shapes=True)"
   ]
  },
  {
   "cell_type": "markdown",
   "metadata": {},
   "source": [
    "## Setup Tensorboard"
   ]
  },
  {
   "cell_type": "code",
   "execution_count": 12,
   "metadata": {},
   "outputs": [
    {
     "name": "stdout",
     "output_type": "stream",
     "text": [
      "Saving TB logs to :  /tmp/tensorboard-logs/rnn-sine/20-52-14\n"
     ]
    },
    {
     "data": {
      "text/html": [
       "\n",
       "      <iframe id=\"tensorboard-frame-a850bd3480e54e68\" width=\"100%\" height=\"800\" frameborder=\"0\">\n",
       "      </iframe>\n",
       "      <script>\n",
       "        (function() {\n",
       "          const frame = document.getElementById(\"tensorboard-frame-a850bd3480e54e68\");\n",
       "          const url = new URL(\"/\", window.location);\n",
       "          const port = 6008;\n",
       "          if (port) {\n",
       "            url.port = port;\n",
       "          }\n",
       "          frame.src = url;\n",
       "        })();\n",
       "      </script>\n",
       "    "
      ],
      "text/plain": [
       "<IPython.core.display.HTML object>"
      ]
     },
     "metadata": {},
     "output_type": "display_data"
    }
   ],
   "source": [
    "## This is fairly boiler plate code\n",
    "\n",
    "import datetime\n",
    "import os\n",
    "import shutil\n",
    "\n",
    "app_name = 'rnn-sine'\n",
    "\n",
    "# timestamp  = datetime.datetime.now().strftime(\"%Y-%m-%d--%H-%M-%S\")\n",
    "\n",
    "tb_top_level_dir= '/tmp/tensorboard-logs'\n",
    "\n",
    "tb_app_dir = os.path.join (tb_top_level_dir, app_name)\n",
    "\n",
    "tb_logs_dir = os.path.join (tb_app_dir, datetime.datetime.now().strftime(\"%H-%M-%S\"))\n",
    "\n",
    "\n",
    "print (\"Saving TB logs to : \" , tb_logs_dir)\n",
    "\n",
    "#clear out old logs\n",
    "shutil.rmtree ( tb_app_dir, ignore_errors=True )\n",
    "\n",
    "tensorboard_callback = tf.keras.callbacks.TensorBoard(log_dir=tb_logs_dir, write_graph=True, \n",
    "                                                      write_images=True, histogram_freq=1)\n",
    "\n",
    "## This will embed Tensorboard right here in jupyter!\n",
    "%load_ext tensorboard\n",
    "%tensorboard --logdir $tb_logs_dir"
   ]
  },
  {
   "cell_type": "markdown",
   "metadata": {},
   "source": [
    "## Train"
   ]
  },
  {
   "cell_type": "code",
   "execution_count": 13,
   "metadata": {},
   "outputs": [
    {
     "name": "stdout",
     "output_type": "stream",
     "text": [
      "training starting ...\n",
      "Epoch 1/100\n",
      " 1/50 [..............................] - ETA: 0s - loss: 1.9456 - mse: 1.9456WARNING:tensorflow:From /home/sujee/anaconda3/envs/tf-2.3/lib/python3.8/site-packages/tensorflow/python/ops/summary_ops_v2.py:1277: stop (from tensorflow.python.eager.profiler) is deprecated and will be removed after 2020-07-01.\n",
      "Instructions for updating:\n",
      "use `tf.profiler.experimental.stop` instead.\n",
      "WARNING:tensorflow:Callbacks method `on_train_batch_end` is slow compared to the batch time (batch time: 0.0028s vs `on_train_batch_end` time: 0.0161s). Check your callbacks.\n",
      "50/50 [==============================] - 0s 2ms/step - loss: 1.7432 - mse: 1.7432\n",
      "Epoch 2/100\n",
      "50/50 [==============================] - 0s 2ms/step - loss: 1.0884 - mse: 1.0884\n",
      "Epoch 3/100\n",
      "50/50 [==============================] - 0s 2ms/step - loss: 0.6002 - mse: 0.6002\n",
      "Epoch 4/100\n",
      "50/50 [==============================] - 0s 2ms/step - loss: 0.4421 - mse: 0.4421\n",
      "Epoch 5/100\n",
      "50/50 [==============================] - 0s 2ms/step - loss: 0.4297 - mse: 0.4297\n",
      "Epoch 6/100\n",
      "50/50 [==============================] - 0s 3ms/step - loss: 0.4258 - mse: 0.4258\n",
      "Epoch 7/100\n",
      "50/50 [==============================] - 0s 3ms/step - loss: 0.4223 - mse: 0.4223\n",
      "Epoch 8/100\n",
      "50/50 [==============================] - 0s 3ms/step - loss: 0.4216 - mse: 0.4216\n",
      "Epoch 9/100\n",
      "50/50 [==============================] - 0s 3ms/step - loss: 0.4198 - mse: 0.4198\n",
      "Epoch 10/100\n",
      "50/50 [==============================] - 0s 2ms/step - loss: 0.4194 - mse: 0.4194\n",
      "Epoch 11/100\n",
      "50/50 [==============================] - 0s 3ms/step - loss: 0.4186 - mse: 0.4186\n",
      "Epoch 12/100\n",
      "50/50 [==============================] - 0s 2ms/step - loss: 0.4177 - mse: 0.4177\n",
      "Epoch 13/100\n",
      "50/50 [==============================] - 0s 2ms/step - loss: 0.4168 - mse: 0.4168\n",
      "Epoch 14/100\n",
      "50/50 [==============================] - 0s 2ms/step - loss: 0.4163 - mse: 0.4163\n",
      "Epoch 15/100\n",
      "50/50 [==============================] - 0s 2ms/step - loss: 0.4179 - mse: 0.4179\n",
      "Epoch 16/100\n",
      "50/50 [==============================] - 0s 2ms/step - loss: 0.4172 - mse: 0.4172\n",
      "Epoch 17/100\n",
      "50/50 [==============================] - 0s 2ms/step - loss: 0.4175 - mse: 0.4175\n",
      "Epoch 18/100\n",
      "50/50 [==============================] - 0s 2ms/step - loss: 0.4168 - mse: 0.4168\n",
      "Epoch 19/100\n",
      "50/50 [==============================] - 0s 2ms/step - loss: 0.4171 - mse: 0.4171\n",
      "Epoch 20/100\n",
      "50/50 [==============================] - 0s 2ms/step - loss: 0.4164 - mse: 0.4164\n",
      "Epoch 21/100\n",
      "50/50 [==============================] - 0s 2ms/step - loss: 0.4166 - mse: 0.4166\n",
      "Epoch 22/100\n",
      "50/50 [==============================] - 0s 2ms/step - loss: 0.4169 - mse: 0.4169\n",
      "Epoch 23/100\n",
      "50/50 [==============================] - 0s 2ms/step - loss: 0.4157 - mse: 0.4157\n",
      "Epoch 24/100\n",
      "50/50 [==============================] - 0s 2ms/step - loss: 0.4174 - mse: 0.4174\n",
      "Epoch 25/100\n",
      "50/50 [==============================] - 0s 2ms/step - loss: 0.4165 - mse: 0.4165\n",
      "Epoch 26/100\n",
      "50/50 [==============================] - 0s 2ms/step - loss: 0.4161 - mse: 0.4161\n",
      "Epoch 27/100\n",
      "50/50 [==============================] - 0s 2ms/step - loss: 0.4151 - mse: 0.4151\n",
      "Epoch 28/100\n",
      "50/50 [==============================] - 0s 2ms/step - loss: 0.4167 - mse: 0.4167\n",
      "Epoch 29/100\n",
      "50/50 [==============================] - 0s 2ms/step - loss: 0.4161 - mse: 0.4161\n",
      "Epoch 30/100\n",
      "50/50 [==============================] - 0s 2ms/step - loss: 0.4155 - mse: 0.4155\n",
      "Epoch 31/100\n",
      "50/50 [==============================] - 0s 2ms/step - loss: 0.4155 - mse: 0.4155\n",
      "Epoch 32/100\n",
      "50/50 [==============================] - 0s 2ms/step - loss: 0.4165 - mse: 0.4165\n",
      "Epoch 33/100\n",
      "50/50 [==============================] - 0s 2ms/step - loss: 0.4146 - mse: 0.4146\n",
      "Epoch 34/100\n",
      "50/50 [==============================] - 0s 2ms/step - loss: 0.4158 - mse: 0.4158\n",
      "Epoch 35/100\n",
      "50/50 [==============================] - 0s 2ms/step - loss: 0.4152 - mse: 0.4152\n",
      "Epoch 36/100\n",
      "50/50 [==============================] - 0s 2ms/step - loss: 0.4152 - mse: 0.4152\n",
      "Epoch 37/100\n",
      "50/50 [==============================] - 0s 2ms/step - loss: 0.4161 - mse: 0.4161\n",
      "Epoch 38/100\n",
      "50/50 [==============================] - 0s 2ms/step - loss: 0.4156 - mse: 0.4156\n",
      "Epoch 39/100\n",
      "50/50 [==============================] - 0s 2ms/step - loss: 0.4151 - mse: 0.4151\n",
      "Epoch 40/100\n",
      "50/50 [==============================] - 0s 2ms/step - loss: 0.4147 - mse: 0.4147\n",
      "Epoch 41/100\n",
      "50/50 [==============================] - 0s 2ms/step - loss: 0.4150 - mse: 0.4150\n",
      "Epoch 42/100\n",
      "50/50 [==============================] - 0s 2ms/step - loss: 0.4151 - mse: 0.4151\n",
      "Epoch 43/100\n",
      "50/50 [==============================] - 0s 2ms/step - loss: 0.4151 - mse: 0.4151\n",
      "Epoch 44/100\n",
      "50/50 [==============================] - 0s 2ms/step - loss: 0.4119 - mse: 0.4119\n",
      "Epoch 45/100\n",
      "50/50 [==============================] - 0s 2ms/step - loss: 0.4157 - mse: 0.4157\n",
      "Epoch 46/100\n",
      "50/50 [==============================] - 0s 2ms/step - loss: 0.4142 - mse: 0.4142\n",
      "Epoch 47/100\n",
      "50/50 [==============================] - 0s 2ms/step - loss: 0.4152 - mse: 0.4152\n",
      "Epoch 48/100\n",
      "50/50 [==============================] - 0s 2ms/step - loss: 0.4143 - mse: 0.4143\n",
      "Epoch 49/100\n",
      "50/50 [==============================] - 0s 2ms/step - loss: 0.4152 - mse: 0.4152\n",
      "Epoch 50/100\n",
      "50/50 [==============================] - 0s 2ms/step - loss: 0.4149 - mse: 0.4149\n",
      "Epoch 51/100\n",
      "50/50 [==============================] - 0s 2ms/step - loss: 0.4138 - mse: 0.4138\n",
      "Epoch 52/100\n",
      "50/50 [==============================] - 0s 2ms/step - loss: 0.4144 - mse: 0.4144\n",
      "Epoch 53/100\n",
      "50/50 [==============================] - 0s 2ms/step - loss: 0.4137 - mse: 0.4137\n",
      "Epoch 54/100\n",
      "50/50 [==============================] - 0s 2ms/step - loss: 0.4145 - mse: 0.4145\n",
      "Epoch 55/100\n",
      "50/50 [==============================] - 0s 2ms/step - loss: 0.4126 - mse: 0.4126\n",
      "Epoch 56/100\n",
      "50/50 [==============================] - 0s 2ms/step - loss: 0.4148 - mse: 0.4148\n",
      "Epoch 57/100\n",
      "50/50 [==============================] - 0s 2ms/step - loss: 0.4136 - mse: 0.4136\n",
      "Epoch 58/100\n",
      "50/50 [==============================] - 0s 2ms/step - loss: 0.4130 - mse: 0.4130\n",
      "Epoch 59/100\n",
      "50/50 [==============================] - 0s 2ms/step - loss: 0.4135 - mse: 0.4135\n",
      "Epoch 60/100\n",
      "50/50 [==============================] - 0s 2ms/step - loss: 0.4144 - mse: 0.4144\n",
      "Epoch 61/100\n",
      "50/50 [==============================] - 0s 2ms/step - loss: 0.4139 - mse: 0.4139\n",
      "Epoch 62/100\n",
      "50/50 [==============================] - 0s 2ms/step - loss: 0.4131 - mse: 0.4131\n",
      "Epoch 63/100\n",
      "50/50 [==============================] - 0s 2ms/step - loss: 0.4126 - mse: 0.4126\n",
      "Epoch 64/100\n",
      "50/50 [==============================] - 0s 2ms/step - loss: 0.4138 - mse: 0.4138\n",
      "Epoch 65/100\n",
      "50/50 [==============================] - 0s 2ms/step - loss: 0.4133 - mse: 0.4133\n",
      "Epoch 66/100\n",
      "50/50 [==============================] - 0s 2ms/step - loss: 0.4134 - mse: 0.4134\n",
      "Epoch 67/100\n",
      "50/50 [==============================] - 0s 2ms/step - loss: 0.4135 - mse: 0.4135\n",
      "Epoch 68/100\n",
      "50/50 [==============================] - 0s 2ms/step - loss: 0.4131 - mse: 0.4131\n",
      "Epoch 69/100\n",
      "50/50 [==============================] - 0s 2ms/step - loss: 0.4137 - mse: 0.4137\n",
      "Epoch 70/100\n",
      "50/50 [==============================] - 0s 2ms/step - loss: 0.4136 - mse: 0.4136\n",
      "Epoch 71/100\n",
      "50/50 [==============================] - 0s 2ms/step - loss: 0.4128 - mse: 0.4128\n",
      "Epoch 72/100\n",
      "50/50 [==============================] - 0s 2ms/step - loss: 0.4131 - mse: 0.4131\n",
      "Epoch 73/100\n",
      "50/50 [==============================] - 0s 2ms/step - loss: 0.4129 - mse: 0.4129\n",
      "Epoch 74/100\n",
      "50/50 [==============================] - 0s 2ms/step - loss: 0.4130 - mse: 0.4130\n",
      "Epoch 75/100\n",
      "50/50 [==============================] - 0s 2ms/step - loss: 0.4132 - mse: 0.4132\n",
      "Epoch 76/100\n",
      "50/50 [==============================] - 0s 2ms/step - loss: 0.4133 - mse: 0.4133\n",
      "Epoch 77/100\n",
      "50/50 [==============================] - 0s 2ms/step - loss: 0.4126 - mse: 0.4126\n",
      "Epoch 78/100\n",
      "50/50 [==============================] - 0s 2ms/step - loss: 0.4129 - mse: 0.4129\n",
      "Epoch 79/100\n",
      "50/50 [==============================] - 0s 2ms/step - loss: 0.4129 - mse: 0.4129\n",
      "Epoch 80/100\n",
      "50/50 [==============================] - 0s 2ms/step - loss: 0.4122 - mse: 0.4122\n",
      "Epoch 81/100\n",
      "50/50 [==============================] - 0s 2ms/step - loss: 0.4130 - mse: 0.4130\n",
      "Epoch 82/100\n",
      "50/50 [==============================] - 0s 2ms/step - loss: 0.4116 - mse: 0.4116\n",
      "Epoch 83/100\n",
      "50/50 [==============================] - 0s 2ms/step - loss: 0.4135 - mse: 0.4135\n",
      "Epoch 84/100\n",
      "50/50 [==============================] - 0s 2ms/step - loss: 0.4128 - mse: 0.4128\n",
      "Epoch 85/100\n",
      "50/50 [==============================] - 0s 2ms/step - loss: 0.4125 - mse: 0.4125\n",
      "Epoch 86/100\n",
      "50/50 [==============================] - 0s 2ms/step - loss: 0.4115 - mse: 0.4115\n",
      "Epoch 87/100\n",
      "50/50 [==============================] - 0s 2ms/step - loss: 0.4121 - mse: 0.4121\n",
      "Epoch 88/100\n",
      "50/50 [==============================] - 0s 2ms/step - loss: 0.4121 - mse: 0.4121\n",
      "Epoch 89/100\n",
      "50/50 [==============================] - 0s 2ms/step - loss: 0.4124 - mse: 0.4124\n",
      "Epoch 90/100\n",
      "50/50 [==============================] - 0s 2ms/step - loss: 0.4119 - mse: 0.4119\n",
      "Epoch 91/100\n",
      "50/50 [==============================] - 0s 2ms/step - loss: 0.4116 - mse: 0.4116\n",
      "Epoch 92/100\n",
      "50/50 [==============================] - 0s 2ms/step - loss: 0.4118 - mse: 0.4118\n",
      "Epoch 93/100\n",
      "50/50 [==============================] - 0s 2ms/step - loss: 0.4110 - mse: 0.4110\n",
      "Epoch 94/100\n",
      "50/50 [==============================] - 0s 2ms/step - loss: 0.4126 - mse: 0.4126\n",
      "Epoch 95/100\n",
      "50/50 [==============================] - 0s 2ms/step - loss: 0.4116 - mse: 0.4116\n",
      "Epoch 96/100\n",
      "50/50 [==============================] - 0s 2ms/step - loss: 0.4116 - mse: 0.4116\n",
      "Epoch 97/100\n",
      "50/50 [==============================] - 0s 2ms/step - loss: 0.4114 - mse: 0.4114\n",
      "Epoch 98/100\n",
      "50/50 [==============================] - 0s 2ms/step - loss: 0.4120 - mse: 0.4120\n",
      "Epoch 99/100\n",
      "50/50 [==============================] - 0s 2ms/step - loss: 0.4119 - mse: 0.4119\n",
      "Epoch 100/100\n",
      "50/50 [==============================] - 0s 2ms/step - loss: 0.4116 - mse: 0.4116\n",
      "training done.\n",
      "CPU times: user 16.5 s, sys: 2.1 s, total: 18.6 s\n",
      "Wall time: 11.4 s\n"
     ]
    }
   ],
   "source": [
    "%%time\n",
    "\n",
    "print (\"training starting ...\")\n",
    "\n",
    "# Fitting the network to the Training set\n",
    "history = model.fit(x_train, y_train, epochs=100, batch_size=16,\n",
    "                   callbacks = [tensorboard_callback])\n",
    "\n",
    "print (\"training done.\")"
   ]
  },
  {
   "cell_type": "markdown",
   "metadata": {},
   "source": [
    "## Training History"
   ]
  },
  {
   "cell_type": "code",
   "execution_count": 14,
   "metadata": {},
   "outputs": [
    {
     "data": {
      "image/png": "[encoded data removed]",
      "text/plain": [
       "<Figure size 432x288 with 1 Axes>"
      ]
     },
     "metadata": {
      "needs_background": "light"
     },
     "output_type": "display_data"
    }
   ],
   "source": [
    "%matplotlib inline\n",
    "import matplotlib.pyplot as plt\n",
    "\n",
    "plt.plot(history.history['mse'], label='mse')\n",
    "plt.legend()\n",
    "plt.show()"
   ]
  },
  {
   "cell_type": "markdown",
   "metadata": {},
   "source": [
    "## Prediction"
   ]
  },
  {
   "cell_type": "code",
   "execution_count": 15,
   "metadata": {},
   "outputs": [
    {
     "name": "stdout",
     "output_type": "stream",
     "text": [
      "[[ 1.3235]\n",
      " [ 1.3598]\n",
      " [ 0.8834]\n",
      " [ 1.0837]\n",
      " [ 1.1732]\n",
      " [ 0.7319]\n",
      " [ 1.2635]\n",
      " [ 1.3464]\n",
      " [ 1.0638]\n",
      " [ 1.3510]]\n"
     ]
    }
   ],
   "source": [
    "predict_train = model.predict(x_train)\n",
    "predict_test= model.predict(x_test)\n",
    "\n",
    "predicted=np.concatenate((predict_train,predict_test),axis=0)\n",
    "\n",
    "print (predicted[:10])\n"
   ]
  },
  {
   "cell_type": "markdown",
   "metadata": {},
   "source": [
    "## Evaluate"
   ]
  },
  {
   "cell_type": "code",
   "execution_count": 16,
   "metadata": {},
   "outputs": [
    {
     "name": "stdout",
     "output_type": "stream",
     "text": [
      "train_score [0.40894028544425964, 0.40894028544425964]\n",
      "test_score [0.34827563166618347, 0.34827563166618347]\n"
     ]
    }
   ],
   "source": [
    "train_score = model.evaluate(x_train, y_train, verbose=0)\n",
    "test_score = model.evaluate(x_test, y_test, verbose=0)\n",
    "\n",
    "print (\"train_score\", train_score)\n",
    "print (\"test_score\", test_score)"
   ]
  },
  {
   "cell_type": "code",
   "execution_count": 17,
   "metadata": {},
   "outputs": [
    {
     "name": "stdout",
     "output_type": "stream",
     "text": [
      "model metrics :  ['loss', 'mse']\n",
      "Train Metric : loss = 0.41\n",
      "Train Metric : mse = 0.41\n",
      "Test Metric : loss = 0.35\n",
      "Test Metric : mse = 0.35\n"
     ]
    }
   ],
   "source": [
    "metric_names = model.metrics_names\n",
    "print (\"model metrics : \" , metric_names)\n",
    "\n",
    "train_metrics = model.evaluate(x_train, y_train, verbose=0)\n",
    "for idx, metric in enumerate(metric_names):\n",
    "    print (\"Train Metric : {} = {:,.2f}\".format (metric_names[idx], train_metrics[idx]))\n",
    "    \n",
    "test_metrics = model.evaluate(x_test, y_test, verbose=0)\n",
    "for idx, metric in enumerate(metric_names):\n",
    "    print (\"Test Metric : {} = {:,.2f}\".format (metric_names[idx], test_metrics[idx]))"
   ]
  },
  {
   "cell_type": "markdown",
   "metadata": {},
   "source": [
    "## Plot"
   ]
  },
  {
   "cell_type": "code",
   "execution_count": 18,
   "metadata": {},
   "outputs": [
    {
     "data": {
      "image/png": "[encoded data removed]",
      "text/plain": [
       "<Figure size 432x288 with 1 Axes>"
      ]
     },
     "metadata": {
      "needs_background": "light"
     },
     "output_type": "display_data"
    }
   ],
   "source": [
    "index = df_orig.index.values\n",
    "plt.plot(df_orig)\n",
    "plt.plot(predicted)\n",
    "plt.axvline(df_orig.index[training_samples], c=\"r\")\n",
    "plt.show()"
   ]
  },
  {
   "cell_type": "code",
   "execution_count": null,
   "metadata": {},
   "outputs": [],
   "source": []
  }
 ],
 "metadata": {
  "kernelspec": {
   "display_name": "TensorFlow-GPU_2.3",
   "language": "python",
   "name": "tf-gpu_2.3"
  },
  "language_info": {
   "codemirror_mode": {
    "name": "ipython",
    "version": 3
   },
   "file_extension": ".py",
   "mimetype": "text/x-python",
   "name": "python",
   "nbconvert_exporter": "python",
   "pygments_lexer": "ipython3",
   "version": "3.8.2"
  }
 },
 "nbformat": 4,
 "nbformat_minor": 4
}
